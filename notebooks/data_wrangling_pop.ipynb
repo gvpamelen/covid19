{
 "cells": [
  {
   "cell_type": "markdown",
   "metadata": {},
   "source": [
    "# Data Wrangling Populations\n",
    "***\n",
    "Data-source: https://www.worldometers.info/world-population/population-by-country/\n",
    "\n",
    "Objective: get a clean dataset in SQL ready to merge with the country-based covid data (mind keys for joining). Main requirement is the `population` column, but other parameters could be interesting as well."
   ]
  },
  {
   "cell_type": "code",
   "execution_count": 291,
   "metadata": {},
   "outputs": [
    {
     "name": "stdout",
     "output_type": "stream",
     "text": [
      "sqlite:///../data/processed/covid.sqlite\n",
      "The sql extension is already loaded. To reload it, use:\n",
      "  %reload_ext sql\n",
      "The autoreload extension is already loaded. To reload it, use:\n",
      "  %reload_ext autoreload\n"
     ]
    }
   ],
   "source": [
    "import numpy as np\n",
    "import pandas as pd\n",
    "import json\n",
    "\n",
    "import matplotlib.pyplot as plt\n",
    "%matplotlib inline\n",
    "\n",
    "import seaborn as sns\n",
    "sns.set()\n",
    "\n",
    "from src.data.query_db import queryDB\n",
    "qdb = queryDB('sqlite','../data/processed/covid.sqlite')\n",
    "\n",
    "%load_ext sql\n",
    "\n",
    "%load_ext autoreload\n",
    "%autoreload 2"
   ]
  },
  {
   "cell_type": "code",
   "execution_count": 267,
   "metadata": {},
   "outputs": [
    {
     "name": "stdout",
     "output_type": "stream",
     "text": [
      "1 rows affected\n"
     ]
    },
    {
     "data": {
      "text/plain": [
       "20424"
      ]
     },
     "execution_count": 267,
     "metadata": {},
     "output_type": "execute_result"
    }
   ],
   "source": [
    "# quick check\n",
    "qdb.execute_query('SELECT COUNT(*) FROM stats;').iloc[0,0]"
   ]
  },
  {
   "cell_type": "markdown",
   "metadata": {},
   "source": [
    "### 1. Gather Data\n",
    "***\n",
    "Note: header was already manually adjusted when capturing the data."
   ]
  },
  {
   "cell_type": "code",
   "execution_count": 268,
   "metadata": {},
   "outputs": [
    {
     "data": {
      "text/html": [
       "<div>\n",
       "<style scoped>\n",
       "    .dataframe tbody tr th:only-of-type {\n",
       "        vertical-align: middle;\n",
       "    }\n",
       "\n",
       "    .dataframe tbody tr th {\n",
       "        vertical-align: top;\n",
       "    }\n",
       "\n",
       "    .dataframe thead th {\n",
       "        text-align: right;\n",
       "    }\n",
       "</style>\n",
       "<table border=\"1\" class=\"dataframe\">\n",
       "  <thead>\n",
       "    <tr style=\"text-align: right;\">\n",
       "      <th></th>\n",
       "      <th>rank</th>\n",
       "      <th>country</th>\n",
       "      <th>populations</th>\n",
       "      <th>yearly_change</th>\n",
       "      <th>net_change</th>\n",
       "      <th>density</th>\n",
       "      <th>land_area</th>\n",
       "      <th>migrants</th>\n",
       "      <th>fert_rate</th>\n",
       "      <th>med_age</th>\n",
       "      <th>urban_pop_pct</th>\n",
       "      <th>world_share_pct</th>\n",
       "    </tr>\n",
       "  </thead>\n",
       "  <tbody>\n",
       "    <tr>\n",
       "      <th>0</th>\n",
       "      <td>1</td>\n",
       "      <td>China</td>\n",
       "      <td>1,439,323,776</td>\n",
       "      <td>0.39%</td>\n",
       "      <td>5,540,090</td>\n",
       "      <td>153</td>\n",
       "      <td>9,388,211</td>\n",
       "      <td>-348,399</td>\n",
       "      <td>1.7</td>\n",
       "      <td>38</td>\n",
       "      <td>61%</td>\n",
       "      <td>18.47%</td>\n",
       "    </tr>\n",
       "    <tr>\n",
       "      <th>1</th>\n",
       "      <td>2</td>\n",
       "      <td>India</td>\n",
       "      <td>1,380,004,385</td>\n",
       "      <td>0.99%</td>\n",
       "      <td>13,586,631</td>\n",
       "      <td>464</td>\n",
       "      <td>2,973,190</td>\n",
       "      <td>-532,687</td>\n",
       "      <td>2.2</td>\n",
       "      <td>28</td>\n",
       "      <td>35%</td>\n",
       "      <td>17.70%</td>\n",
       "    </tr>\n",
       "    <tr>\n",
       "      <th>2</th>\n",
       "      <td>3</td>\n",
       "      <td>United States</td>\n",
       "      <td>331,002,651</td>\n",
       "      <td>0.59%</td>\n",
       "      <td>1,937,734</td>\n",
       "      <td>36</td>\n",
       "      <td>9,147,420</td>\n",
       "      <td>954,806</td>\n",
       "      <td>1.8</td>\n",
       "      <td>38</td>\n",
       "      <td>83%</td>\n",
       "      <td>4.25%</td>\n",
       "    </tr>\n",
       "    <tr>\n",
       "      <th>3</th>\n",
       "      <td>4</td>\n",
       "      <td>Indonesia</td>\n",
       "      <td>273,523,615</td>\n",
       "      <td>1.07%</td>\n",
       "      <td>2,898,047</td>\n",
       "      <td>151</td>\n",
       "      <td>1,811,570</td>\n",
       "      <td>-98,955</td>\n",
       "      <td>2.3</td>\n",
       "      <td>30</td>\n",
       "      <td>56%</td>\n",
       "      <td>3.51%</td>\n",
       "    </tr>\n",
       "    <tr>\n",
       "      <th>4</th>\n",
       "      <td>5</td>\n",
       "      <td>Pakistan</td>\n",
       "      <td>220,892,340</td>\n",
       "      <td>2.00%</td>\n",
       "      <td>4,327,022</td>\n",
       "      <td>287</td>\n",
       "      <td>770,880</td>\n",
       "      <td>-233,379</td>\n",
       "      <td>3.6</td>\n",
       "      <td>23</td>\n",
       "      <td>35%</td>\n",
       "      <td>2.83%</td>\n",
       "    </tr>\n",
       "  </tbody>\n",
       "</table>\n",
       "</div>"
      ],
      "text/plain": [
       "   rank        country    populations yearly_change  net_change density  \\\n",
       "0     1          China  1,439,323,776         0.39%   5,540,090     153   \n",
       "1     2          India  1,380,004,385         0.99%  13,586,631     464   \n",
       "2     3  United States    331,002,651         0.59%   1,937,734      36   \n",
       "3     4      Indonesia    273,523,615         1.07%   2,898,047     151   \n",
       "4     5       Pakistan    220,892,340         2.00%   4,327,022     287   \n",
       "\n",
       "   land_area  migrants fert_rate med_age urban_pop_pct world_share_pct  \n",
       "0  9,388,211  -348,399       1.7      38           61%          18.47%  \n",
       "1  2,973,190  -532,687       2.2      28           35%          17.70%  \n",
       "2  9,147,420   954,806       1.8      38           83%           4.25%  \n",
       "3  1,811,570   -98,955       2.3      30           56%           3.51%  \n",
       "4    770,880  -233,379       3.6      23           35%           2.83%  "
      ]
     },
     "execution_count": 268,
     "metadata": {},
     "output_type": "execute_result"
    }
   ],
   "source": [
    "df = pd.read_csv('../data/raw/global_pop.csv')\n",
    "df.head()"
   ]
  },
  {
   "cell_type": "code",
   "execution_count": 269,
   "metadata": {},
   "outputs": [
    {
     "name": "stdout",
     "output_type": "stream",
     "text": [
      "<class 'pandas.core.frame.DataFrame'>\n",
      "RangeIndex: 235 entries, 0 to 234\n",
      "Data columns (total 12 columns):\n",
      " #   Column           Non-Null Count  Dtype \n",
      "---  ------           --------------  ----- \n",
      " 0   rank             235 non-null    int64 \n",
      " 1   country          235 non-null    object\n",
      " 2   populations      235 non-null    object\n",
      " 3   yearly_change    235 non-null    object\n",
      " 4   net_change       235 non-null    object\n",
      " 5   density          235 non-null    object\n",
      " 6   land_area        235 non-null    object\n",
      " 7   migrants         201 non-null    object\n",
      " 8   fert_rate        235 non-null    object\n",
      " 9   med_age          235 non-null    object\n",
      " 10  urban_pop_pct    235 non-null    object\n",
      " 11  world_share_pct  235 non-null    object\n",
      "dtypes: int64(1), object(11)\n",
      "memory usage: 22.2+ KB\n"
     ]
    }
   ],
   "source": [
    "df.info()"
   ]
  },
  {
   "cell_type": "markdown",
   "metadata": {},
   "source": [
    "> Note: most of the columns are formatted strings (percentages, commas at 1000). We wish to convert them to numeric columns."
   ]
  },
  {
   "cell_type": "markdown",
   "metadata": {},
   "source": [
    "#### Store data in SQL\n",
    "***\n",
    "For practise sake, we will do the cleaning in SQL. Hence, we will import the table in it's current state in the SQLite DB and perform the cleaning there."
   ]
  },
  {
   "cell_type": "code",
   "execution_count": 270,
   "metadata": {},
   "outputs": [
    {
     "name": "stdout",
     "output_type": "stream",
     "text": [
      "unable to execute query\n",
      "---\n",
      "This result object does not return rows. It has been closed automatically.\n",
      "---\n",
      "1 rows affected\n"
     ]
    }
   ],
   "source": [
    "# store in SQL\n",
    "table = 'population_raw'\n",
    "qdb.execute_query('DROP TABLE IF EXISTS {};'.format(table))\n",
    "df.to_sql(table, con = qdb.engine, if_exists = 'append', index=False, chunksize = 1000)\n",
    "\n",
    "# check\n",
    "assert table in qdb.engine.table_names()\n",
    "assert len(df) == qdb.execute_query('SELECT COUNT(*) FROM {};'.format(table)).iloc[0,0]"
   ]
  },
  {
   "cell_type": "markdown",
   "metadata": {},
   "source": [
    "### 2. Data Assessment\n",
    "***"
   ]
  },
  {
   "cell_type": "code",
   "execution_count": 271,
   "metadata": {},
   "outputs": [
    {
     "name": "stdout",
     "output_type": "stream",
     "text": [
      "Done.\n"
     ]
    },
    {
     "data": {
      "text/html": [
       "<table>\n",
       "    <tr>\n",
       "        <th>rank</th>\n",
       "        <th>country</th>\n",
       "        <th>populations</th>\n",
       "        <th>yearly_change</th>\n",
       "        <th>net_change</th>\n",
       "        <th>density</th>\n",
       "        <th>land_area</th>\n",
       "        <th>migrants</th>\n",
       "        <th>fert_rate</th>\n",
       "        <th>med_age</th>\n",
       "        <th>urban_pop_pct</th>\n",
       "        <th>world_share_pct</th>\n",
       "    </tr>\n",
       "    <tr>\n",
       "        <td>1</td>\n",
       "        <td>China</td>\n",
       "        <td>1,439,323,776</td>\n",
       "        <td>0.39%</td>\n",
       "        <td>5,540,090</td>\n",
       "        <td>153</td>\n",
       "        <td>9,388,211</td>\n",
       "        <td>-348,399</td>\n",
       "        <td>1.7</td>\n",
       "        <td>38</td>\n",
       "        <td>61%</td>\n",
       "        <td>18.47%</td>\n",
       "    </tr>\n",
       "    <tr>\n",
       "        <td>2</td>\n",
       "        <td>India</td>\n",
       "        <td>1,380,004,385</td>\n",
       "        <td>0.99%</td>\n",
       "        <td>13,586,631</td>\n",
       "        <td>464</td>\n",
       "        <td>2,973,190</td>\n",
       "        <td>-532,687</td>\n",
       "        <td>2.2</td>\n",
       "        <td>28</td>\n",
       "        <td>35%</td>\n",
       "        <td>17.70%</td>\n",
       "    </tr>\n",
       "    <tr>\n",
       "        <td>3</td>\n",
       "        <td>United States</td>\n",
       "        <td>331,002,651</td>\n",
       "        <td>0.59%</td>\n",
       "        <td>1,937,734</td>\n",
       "        <td>36</td>\n",
       "        <td>9,147,420</td>\n",
       "        <td>954,806</td>\n",
       "        <td>1.8</td>\n",
       "        <td>38</td>\n",
       "        <td>83%</td>\n",
       "        <td>4.25%</td>\n",
       "    </tr>\n",
       "    <tr>\n",
       "        <td>4</td>\n",
       "        <td>Indonesia</td>\n",
       "        <td>273,523,615</td>\n",
       "        <td>1.07%</td>\n",
       "        <td>2,898,047</td>\n",
       "        <td>151</td>\n",
       "        <td>1,811,570</td>\n",
       "        <td>-98,955</td>\n",
       "        <td>2.3</td>\n",
       "        <td>30</td>\n",
       "        <td>56%</td>\n",
       "        <td>3.51%</td>\n",
       "    </tr>\n",
       "    <tr>\n",
       "        <td>5</td>\n",
       "        <td>Pakistan</td>\n",
       "        <td>220,892,340</td>\n",
       "        <td>2.00%</td>\n",
       "        <td>4,327,022</td>\n",
       "        <td>287</td>\n",
       "        <td>770,880</td>\n",
       "        <td>-233,379</td>\n",
       "        <td>3.6</td>\n",
       "        <td>23</td>\n",
       "        <td>35%</td>\n",
       "        <td>2.83%</td>\n",
       "    </tr>\n",
       "</table>"
      ],
      "text/plain": [
       "[(1, 'China', '1,439,323,776', '0.39%', '5,540,090', '153', '9,388,211', '-348,399', '1.7', '38', '61%', '18.47%'),\n",
       " (2, 'India', '1,380,004,385', '0.99%', '13,586,631', '464', '2,973,190', '-532,687', '2.2', '28', '35%', '17.70%'),\n",
       " (3, 'United States', '331,002,651', '0.59%', '1,937,734', '36', '9,147,420', '954,806', '1.8', '38', '83%', '4.25%'),\n",
       " (4, 'Indonesia', '273,523,615', '1.07%', '2,898,047', '151', '1,811,570', '-98,955', '2.3', '30', '56%', '3.51%'),\n",
       " (5, 'Pakistan', '220,892,340', '2.00%', '4,327,022', '287', '770,880', '-233,379', '3.6', '23', '35%', '2.83%')]"
      ]
     },
     "execution_count": 271,
     "metadata": {},
     "output_type": "execute_result"
    }
   ],
   "source": [
    "%%sql sqlite:///../data/processed/covid.sqlite\n",
    "-- head of the table\n",
    "SELECT * FROM population_raw LIMIT 5;\n"
   ]
  },
  {
   "cell_type": "code",
   "execution_count": 272,
   "metadata": {},
   "outputs": [
    {
     "name": "stdout",
     "output_type": "stream",
     "text": [
      "12 rows affected\n"
     ]
    },
    {
     "data": {
      "text/html": [
       "<div>\n",
       "<style scoped>\n",
       "    .dataframe tbody tr th:only-of-type {\n",
       "        vertical-align: middle;\n",
       "    }\n",
       "\n",
       "    .dataframe tbody tr th {\n",
       "        vertical-align: top;\n",
       "    }\n",
       "\n",
       "    .dataframe thead th {\n",
       "        text-align: right;\n",
       "    }\n",
       "</style>\n",
       "<table border=\"1\" class=\"dataframe\">\n",
       "  <thead>\n",
       "    <tr style=\"text-align: right;\">\n",
       "      <th></th>\n",
       "      <th>cid</th>\n",
       "      <th>name</th>\n",
       "      <th>type</th>\n",
       "      <th>notnull</th>\n",
       "      <th>dflt_value</th>\n",
       "      <th>pk</th>\n",
       "    </tr>\n",
       "  </thead>\n",
       "  <tbody>\n",
       "    <tr>\n",
       "      <th>0</th>\n",
       "      <td>0</td>\n",
       "      <td>rank</td>\n",
       "      <td>BIGINT</td>\n",
       "      <td>0</td>\n",
       "      <td>None</td>\n",
       "      <td>0</td>\n",
       "    </tr>\n",
       "    <tr>\n",
       "      <th>1</th>\n",
       "      <td>1</td>\n",
       "      <td>country</td>\n",
       "      <td>TEXT</td>\n",
       "      <td>0</td>\n",
       "      <td>None</td>\n",
       "      <td>0</td>\n",
       "    </tr>\n",
       "    <tr>\n",
       "      <th>2</th>\n",
       "      <td>2</td>\n",
       "      <td>populations</td>\n",
       "      <td>TEXT</td>\n",
       "      <td>0</td>\n",
       "      <td>None</td>\n",
       "      <td>0</td>\n",
       "    </tr>\n",
       "    <tr>\n",
       "      <th>3</th>\n",
       "      <td>3</td>\n",
       "      <td>yearly_change</td>\n",
       "      <td>TEXT</td>\n",
       "      <td>0</td>\n",
       "      <td>None</td>\n",
       "      <td>0</td>\n",
       "    </tr>\n",
       "    <tr>\n",
       "      <th>4</th>\n",
       "      <td>4</td>\n",
       "      <td>net_change</td>\n",
       "      <td>TEXT</td>\n",
       "      <td>0</td>\n",
       "      <td>None</td>\n",
       "      <td>0</td>\n",
       "    </tr>\n",
       "    <tr>\n",
       "      <th>5</th>\n",
       "      <td>5</td>\n",
       "      <td>density</td>\n",
       "      <td>TEXT</td>\n",
       "      <td>0</td>\n",
       "      <td>None</td>\n",
       "      <td>0</td>\n",
       "    </tr>\n",
       "    <tr>\n",
       "      <th>6</th>\n",
       "      <td>6</td>\n",
       "      <td>land_area</td>\n",
       "      <td>TEXT</td>\n",
       "      <td>0</td>\n",
       "      <td>None</td>\n",
       "      <td>0</td>\n",
       "    </tr>\n",
       "    <tr>\n",
       "      <th>7</th>\n",
       "      <td>7</td>\n",
       "      <td>migrants</td>\n",
       "      <td>TEXT</td>\n",
       "      <td>0</td>\n",
       "      <td>None</td>\n",
       "      <td>0</td>\n",
       "    </tr>\n",
       "    <tr>\n",
       "      <th>8</th>\n",
       "      <td>8</td>\n",
       "      <td>fert_rate</td>\n",
       "      <td>TEXT</td>\n",
       "      <td>0</td>\n",
       "      <td>None</td>\n",
       "      <td>0</td>\n",
       "    </tr>\n",
       "    <tr>\n",
       "      <th>9</th>\n",
       "      <td>9</td>\n",
       "      <td>med_age</td>\n",
       "      <td>TEXT</td>\n",
       "      <td>0</td>\n",
       "      <td>None</td>\n",
       "      <td>0</td>\n",
       "    </tr>\n",
       "    <tr>\n",
       "      <th>10</th>\n",
       "      <td>10</td>\n",
       "      <td>urban_pop_pct</td>\n",
       "      <td>TEXT</td>\n",
       "      <td>0</td>\n",
       "      <td>None</td>\n",
       "      <td>0</td>\n",
       "    </tr>\n",
       "    <tr>\n",
       "      <th>11</th>\n",
       "      <td>11</td>\n",
       "      <td>world_share_pct</td>\n",
       "      <td>TEXT</td>\n",
       "      <td>0</td>\n",
       "      <td>None</td>\n",
       "      <td>0</td>\n",
       "    </tr>\n",
       "  </tbody>\n",
       "</table>\n",
       "</div>"
      ],
      "text/plain": [
       "    cid             name    type  notnull dflt_value  pk\n",
       "0     0             rank  BIGINT        0       None   0\n",
       "1     1          country    TEXT        0       None   0\n",
       "2     2      populations    TEXT        0       None   0\n",
       "3     3    yearly_change    TEXT        0       None   0\n",
       "4     4       net_change    TEXT        0       None   0\n",
       "5     5          density    TEXT        0       None   0\n",
       "6     6        land_area    TEXT        0       None   0\n",
       "7     7         migrants    TEXT        0       None   0\n",
       "8     8        fert_rate    TEXT        0       None   0\n",
       "9     9          med_age    TEXT        0       None   0\n",
       "10   10    urban_pop_pct    TEXT        0       None   0\n",
       "11   11  world_share_pct    TEXT        0       None   0"
      ]
     },
     "execution_count": 272,
     "metadata": {},
     "output_type": "execute_result"
    }
   ],
   "source": [
    "# SQL data types\n",
    "qdb.execute_query('PRAGMA table_info(population_raw);')"
   ]
  },
  {
   "cell_type": "code",
   "execution_count": 273,
   "metadata": {},
   "outputs": [
    {
     "name": "stdout",
     "output_type": "stream",
     "text": [
      " * sqlite:///../data/processed/covid.sqlite\n",
      "(sqlite3.OperationalError) no such column: population.rank\n",
      "[SQL: -- check the joining keys\n",
      "SELECT COUNT(DISTINCT stats.country) AS keys_found\n",
      "  FROM stats\n",
      "       LEFT JOIN population_raw\n",
      "       ON population.country = stats.country\n",
      " WHERE population.rank IS NOT NULL;]\n",
      "(Background on this error at: http://sqlalche.me/e/e3q8)\n"
     ]
    }
   ],
   "source": [
    "%%sql \n",
    "-- check the joining keys\n",
    "SELECT COUNT(DISTINCT stats.country) AS keys_found\n",
    "  FROM stats\n",
    "       LEFT JOIN population_raw\n",
    "       ON population.country = stats.country\n",
    " WHERE population.rank IS NOT NULL; \n",
    "\n"
   ]
  },
  {
   "cell_type": "code",
   "execution_count": 274,
   "metadata": {},
   "outputs": [
    {
     "name": "stdout",
     "output_type": "stream",
     "text": [
      " * sqlite:///../data/processed/covid.sqlite\n",
      "Done.\n"
     ]
    },
    {
     "data": {
      "text/html": [
       "<table>\n",
       "    <tr>\n",
       "        <th>keys_not_found_in_pop</th>\n",
       "    </tr>\n",
       "    <tr>\n",
       "        <td>Czech Republic</td>\n",
       "    </tr>\n",
       "    <tr>\n",
       "        <td>Ivory Coast</td>\n",
       "    </tr>\n",
       "    <tr>\n",
       "        <td>Saint Kitts and Nevis</td>\n",
       "    </tr>\n",
       "    <tr>\n",
       "        <td>Saint Vincent and the Grenadines</td>\n",
       "    </tr>\n",
       "    <tr>\n",
       "        <td>Sao Tome and Principe</td>\n",
       "    </tr>\n",
       "</table>"
      ],
      "text/plain": [
       "[('Czech Republic',),\n",
       " ('Ivory Coast',),\n",
       " ('Saint Kitts and Nevis',),\n",
       " ('Saint Vincent and the Grenadines',),\n",
       " ('Sao Tome and Principe',)]"
      ]
     },
     "execution_count": 274,
     "metadata": {},
     "output_type": "execute_result"
    }
   ],
   "source": [
    "%%sql \n",
    "-- check the joining keys\n",
    "SELECT DISTINCT stats.country AS keys_not_found_in_pop \n",
    "  FROM stats\n",
    "       LEFT JOIN population_raw\n",
    "       ON population_raw.country = stats.country\n",
    " WHERE population_raw.rank IS NULL\n",
    " ORDER BY 1;  \n",
    "\n"
   ]
  },
  {
   "cell_type": "code",
   "execution_count": 275,
   "metadata": {
    "scrolled": true
   },
   "outputs": [
    {
     "name": "stdout",
     "output_type": "stream",
     "text": [
      " * sqlite:///../data/processed/covid.sqlite\n",
      "Done.\n"
     ]
    },
    {
     "data": {
      "text/html": [
       "<table>\n",
       "    <tr>\n",
       "        <th>keys_not_found_in_stats</th>\n",
       "        <th>populations</th>\n",
       "    </tr>\n",
       "    <tr>\n",
       "        <td>American Samoa</td>\n",
       "        <td>55,191</td>\n",
       "    </tr>\n",
       "    <tr>\n",
       "        <td>Anguilla</td>\n",
       "        <td>15,003</td>\n",
       "    </tr>\n",
       "    <tr>\n",
       "        <td>Aruba</td>\n",
       "        <td>106,766</td>\n",
       "    </tr>\n",
       "    <tr>\n",
       "        <td>Bermuda</td>\n",
       "        <td>62,278</td>\n",
       "    </tr>\n",
       "    <tr>\n",
       "        <td>British Virgin Islands</td>\n",
       "        <td>30,231</td>\n",
       "    </tr>\n",
       "    <tr>\n",
       "        <td>Caribbean Netherlands</td>\n",
       "        <td>26,223</td>\n",
       "    </tr>\n",
       "    <tr>\n",
       "        <td>Cayman Islands</td>\n",
       "        <td>65,722</td>\n",
       "    </tr>\n",
       "    <tr>\n",
       "        <td>Channel Islands</td>\n",
       "        <td>173,863</td>\n",
       "    </tr>\n",
       "    <tr>\n",
       "        <td>Cook Islands</td>\n",
       "        <td>17,564</td>\n",
       "    </tr>\n",
       "    <tr>\n",
       "        <td>Curaçao</td>\n",
       "        <td>164,093</td>\n",
       "    </tr>\n",
       "    <tr>\n",
       "        <td>Czech Republic (Czechia)</td>\n",
       "        <td>10,708,981</td>\n",
       "    </tr>\n",
       "    <tr>\n",
       "        <td>Côte d&#x27;Ivoire</td>\n",
       "        <td>26,378,274</td>\n",
       "    </tr>\n",
       "    <tr>\n",
       "        <td>Faeroe Islands</td>\n",
       "        <td>48,863</td>\n",
       "    </tr>\n",
       "    <tr>\n",
       "        <td>Falkland Islands</td>\n",
       "        <td>3,480</td>\n",
       "    </tr>\n",
       "    <tr>\n",
       "        <td>French Guiana</td>\n",
       "        <td>298,682</td>\n",
       "    </tr>\n",
       "    <tr>\n",
       "        <td>French Polynesia</td>\n",
       "        <td>280,908</td>\n",
       "    </tr>\n",
       "    <tr>\n",
       "        <td>Gibraltar</td>\n",
       "        <td>33,691</td>\n",
       "    </tr>\n",
       "    <tr>\n",
       "        <td>Greenland</td>\n",
       "        <td>56,770</td>\n",
       "    </tr>\n",
       "    <tr>\n",
       "        <td>Guadeloupe</td>\n",
       "        <td>400,124</td>\n",
       "    </tr>\n",
       "    <tr>\n",
       "        <td>Guam</td>\n",
       "        <td>168,775</td>\n",
       "    </tr>\n",
       "    <tr>\n",
       "        <td>Hong Kong</td>\n",
       "        <td>7,496,981</td>\n",
       "    </tr>\n",
       "    <tr>\n",
       "        <td>Isle of Man</td>\n",
       "        <td>85,033</td>\n",
       "    </tr>\n",
       "    <tr>\n",
       "        <td>Kiribati</td>\n",
       "        <td>119,449</td>\n",
       "    </tr>\n",
       "    <tr>\n",
       "        <td>Lesotho</td>\n",
       "        <td>2,142,249</td>\n",
       "    </tr>\n",
       "    <tr>\n",
       "        <td>Macao</td>\n",
       "        <td>649,335</td>\n",
       "    </tr>\n",
       "    <tr>\n",
       "        <td>Marshall Islands</td>\n",
       "        <td>59,190</td>\n",
       "    </tr>\n",
       "    <tr>\n",
       "        <td>Martinique</td>\n",
       "        <td>375,265</td>\n",
       "    </tr>\n",
       "    <tr>\n",
       "        <td>Mayotte</td>\n",
       "        <td>272,815</td>\n",
       "    </tr>\n",
       "    <tr>\n",
       "        <td>Micronesia</td>\n",
       "        <td>115,023</td>\n",
       "    </tr>\n",
       "    <tr>\n",
       "        <td>Montserrat</td>\n",
       "        <td>4,992</td>\n",
       "    </tr>\n",
       "    <tr>\n",
       "        <td>Nauru</td>\n",
       "        <td>10,824</td>\n",
       "    </tr>\n",
       "    <tr>\n",
       "        <td>New Caledonia</td>\n",
       "        <td>285,498</td>\n",
       "    </tr>\n",
       "    <tr>\n",
       "        <td>Niue</td>\n",
       "        <td>1,626</td>\n",
       "    </tr>\n",
       "    <tr>\n",
       "        <td>North Korea</td>\n",
       "        <td>25,778,816</td>\n",
       "    </tr>\n",
       "    <tr>\n",
       "        <td>Northern Mariana Islands</td>\n",
       "        <td>57,559</td>\n",
       "    </tr>\n",
       "    <tr>\n",
       "        <td>Palau</td>\n",
       "        <td>18,094</td>\n",
       "    </tr>\n",
       "    <tr>\n",
       "        <td>Puerto Rico</td>\n",
       "        <td>2,860,853</td>\n",
       "    </tr>\n",
       "    <tr>\n",
       "        <td>Réunion</td>\n",
       "        <td>895,312</td>\n",
       "    </tr>\n",
       "    <tr>\n",
       "        <td>Saint Barthelemy</td>\n",
       "        <td>9,877</td>\n",
       "    </tr>\n",
       "    <tr>\n",
       "        <td>Saint Helena</td>\n",
       "        <td>6,077</td>\n",
       "    </tr>\n",
       "    <tr>\n",
       "        <td>Saint Kitts &amp; Nevis</td>\n",
       "        <td>53,199</td>\n",
       "    </tr>\n",
       "    <tr>\n",
       "        <td>Saint Martin</td>\n",
       "        <td>38,666</td>\n",
       "    </tr>\n",
       "    <tr>\n",
       "        <td>Saint Pierre &amp; Miquelon</td>\n",
       "        <td>5,794</td>\n",
       "    </tr>\n",
       "    <tr>\n",
       "        <td>Samoa</td>\n",
       "        <td>198,414</td>\n",
       "    </tr>\n",
       "    <tr>\n",
       "        <td>Sao Tome &amp; Principe</td>\n",
       "        <td>219,159</td>\n",
       "    </tr>\n",
       "    <tr>\n",
       "        <td>Sint Maarten</td>\n",
       "        <td>42,876</td>\n",
       "    </tr>\n",
       "    <tr>\n",
       "        <td>Solomon Islands</td>\n",
       "        <td>686,884</td>\n",
       "    </tr>\n",
       "    <tr>\n",
       "        <td>St. Vincent &amp; Grenadines</td>\n",
       "        <td>110,940</td>\n",
       "    </tr>\n",
       "    <tr>\n",
       "        <td>Tokelau</td>\n",
       "        <td>1,357</td>\n",
       "    </tr>\n",
       "    <tr>\n",
       "        <td>Tonga</td>\n",
       "        <td>105,695</td>\n",
       "    </tr>\n",
       "    <tr>\n",
       "        <td>Turkmenistan</td>\n",
       "        <td>6,031,200</td>\n",
       "    </tr>\n",
       "    <tr>\n",
       "        <td>Turks and Caicos</td>\n",
       "        <td>38,717</td>\n",
       "    </tr>\n",
       "    <tr>\n",
       "        <td>Tuvalu</td>\n",
       "        <td>11,792</td>\n",
       "    </tr>\n",
       "    <tr>\n",
       "        <td>U.S. Virgin Islands</td>\n",
       "        <td>104,425</td>\n",
       "    </tr>\n",
       "    <tr>\n",
       "        <td>Vanuatu</td>\n",
       "        <td>307,145</td>\n",
       "    </tr>\n",
       "    <tr>\n",
       "        <td>Wallis &amp; Futuna</td>\n",
       "        <td>11,239</td>\n",
       "    </tr>\n",
       "</table>"
      ],
      "text/plain": [
       "[('American Samoa', '55,191'),\n",
       " ('Anguilla', '15,003'),\n",
       " ('Aruba', '106,766'),\n",
       " ('Bermuda', '62,278'),\n",
       " ('British Virgin Islands', '30,231'),\n",
       " ('Caribbean Netherlands', '26,223'),\n",
       " ('Cayman Islands', '65,722'),\n",
       " ('Channel Islands', '173,863'),\n",
       " ('Cook Islands', '17,564'),\n",
       " ('Curaçao', '164,093'),\n",
       " ('Czech Republic (Czechia)', '10,708,981'),\n",
       " (\"Côte d'Ivoire\", '26,378,274'),\n",
       " ('Faeroe Islands', '48,863'),\n",
       " ('Falkland Islands', '3,480'),\n",
       " ('French Guiana', '298,682'),\n",
       " ('French Polynesia', '280,908'),\n",
       " ('Gibraltar', '33,691'),\n",
       " ('Greenland', '56,770'),\n",
       " ('Guadeloupe', '400,124'),\n",
       " ('Guam', '168,775'),\n",
       " ('Hong Kong', '7,496,981'),\n",
       " ('Isle of Man', '85,033'),\n",
       " ('Kiribati', '119,449'),\n",
       " ('Lesotho', '2,142,249'),\n",
       " ('Macao', '649,335'),\n",
       " ('Marshall Islands', '59,190'),\n",
       " ('Martinique', '375,265'),\n",
       " ('Mayotte', '272,815'),\n",
       " ('Micronesia', '115,023'),\n",
       " ('Montserrat', '4,992'),\n",
       " ('Nauru', '10,824'),\n",
       " ('New Caledonia', '285,498'),\n",
       " ('Niue', '1,626'),\n",
       " ('North Korea', '25,778,816'),\n",
       " ('Northern Mariana Islands', '57,559'),\n",
       " ('Palau', '18,094'),\n",
       " ('Puerto Rico', '2,860,853'),\n",
       " ('Réunion', '895,312'),\n",
       " ('Saint Barthelemy', '9,877'),\n",
       " ('Saint Helena', '6,077'),\n",
       " ('Saint Kitts & Nevis', '53,199'),\n",
       " ('Saint Martin', '38,666'),\n",
       " ('Saint Pierre & Miquelon', '5,794'),\n",
       " ('Samoa', '198,414'),\n",
       " ('Sao Tome & Principe', '219,159'),\n",
       " ('Sint Maarten', '42,876'),\n",
       " ('Solomon Islands', '686,884'),\n",
       " ('St. Vincent & Grenadines', '110,940'),\n",
       " ('Tokelau', '1,357'),\n",
       " ('Tonga', '105,695'),\n",
       " ('Turkmenistan', '6,031,200'),\n",
       " ('Turks and Caicos', '38,717'),\n",
       " ('Tuvalu', '11,792'),\n",
       " ('U.S. Virgin Islands', '104,425'),\n",
       " ('Vanuatu', '307,145'),\n",
       " ('Wallis & Futuna', '11,239')]"
      ]
     },
     "execution_count": 275,
     "metadata": {},
     "output_type": "execute_result"
    }
   ],
   "source": [
    "%%sql\n",
    "-- check the joining keys\n",
    "SELECT DISTINCT \n",
    "       population_raw.country AS keys_not_found_in_stats,\n",
    "       populations\n",
    "  FROM population_raw\n",
    "       LEFT JOIN stats\n",
    "       ON population_raw.country = stats.country\n",
    " WHERE stats.confirmed IS NULL \n",
    " ORDER BY 1;"
   ]
  },
  {
   "cell_type": "markdown",
   "metadata": {},
   "source": [
    "#### DATA ASSESSMENT NOTES\n",
    "**Required changes per column:**\n",
    "* populations: remove ‘,’ and convert to integer\n",
    "* yearly_change: remove ‘%’, convert to numeric, change name to ‘yearly_change_pct’\n",
    "* net_change: remove ‘,’ and convert to integer\n",
    "* Density: convert to integer\n",
    "* land_area:  remove ‘,’ and convert to integer\n",
    "* migrants:  remove ‘,’ and convert to integer\n",
    "* fert_rate: convert to numeric\n",
    "* med_age convert to integer\n",
    "* urban_pop_pct: remove ‘%’ and convert to integer\n",
    "* world_share_pct: remove ‘%’ and convert to numeric\n",
    "\n",
    "**With respect to the joining keys:**\n",
    "* 173 out of 187 are correct!\n",
    "* For the remaining 14, we can trace back the correct names (i.e. South Korea -> Korea, South)\n",
    "* We should remove ‘MS Zaandam’ from stats (this is a cruise-ship, not a country)\n",
    "* No data in stats for the following countries:\n",
    "    * Most notable exceptions are North Korea and Turkmenistan (most likely due to the lack of transpartent data)\n",
    "    * Other countries not covered in stats are often subsidiaries of kingdoms (i.e. Caribbean Netherlands, British Virgin Islands, New Caledonia) - we will not pursue further data gathering for these cases.\n"
   ]
  },
  {
   "cell_type": "markdown",
   "metadata": {},
   "source": [
    "### 3. Cleaning Data\n",
    "***"
   ]
  },
  {
   "cell_type": "markdown",
   "metadata": {},
   "source": [
    "#### CHANGING FORMATS"
   ]
  },
  {
   "cell_type": "code",
   "execution_count": 276,
   "metadata": {},
   "outputs": [
    {
     "name": "stdout",
     "output_type": "stream",
     "text": [
      " * sqlite:///../data/processed/covid.sqlite\n",
      "Done.\n",
      "Done.\n"
     ]
    },
    {
     "data": {
      "text/plain": [
       "[]"
      ]
     },
     "execution_count": 276,
     "metadata": {},
     "output_type": "execute_result"
    }
   ],
   "source": [
    "%%sql\n",
    "-- create clean populations table\n",
    "DROP TABLE IF EXISTS populations;\n",
    "\n",
    "CREATE TABLE populations AS\n",
    "SELECT\n",
    "    rank,\n",
    "    country,\n",
    "    CAST(REPLACE(populations,',','') AS integer) AS population,\n",
    "    CAST(REPLACE(yearly_change,'%','') AS numeric) AS yearly_change_pct,\n",
    "    CAST(REPLACE(net_change,',','') AS integer) AS net_change,\n",
    "    CAST(density AS integer) AS density,\n",
    "    CAST(REPLACE(land_area,',','') AS integer) AS land_are,\n",
    "    CAST(REPLACE(migrants,',','') AS integer) AS migrants,\n",
    "    CAST(fert_rate AS numeric) AS fert_rate,\n",
    "    CAST(med_age AS integer) AS med_age,\n",
    "    CAST(REPLACE(urban_pop_pct,'%','') AS integer) AS urban_pop_pct,\n",
    "    CAST(REPLACE(world_share_pct,'%','') AS numeric) AS world_share_pct\n",
    "FROM population_raw;"
   ]
  },
  {
   "cell_type": "code",
   "execution_count": 277,
   "metadata": {},
   "outputs": [
    {
     "name": "stdout",
     "output_type": "stream",
     "text": [
      " * sqlite:///../data/processed/covid.sqlite\n",
      "Done.\n"
     ]
    },
    {
     "data": {
      "text/html": [
       "<table>\n",
       "    <tr>\n",
       "        <th>rank</th>\n",
       "        <th>country</th>\n",
       "        <th>population</th>\n",
       "        <th>yearly_change_pct</th>\n",
       "        <th>net_change</th>\n",
       "        <th>density</th>\n",
       "        <th>land_are</th>\n",
       "        <th>migrants</th>\n",
       "        <th>fert_rate</th>\n",
       "        <th>med_age</th>\n",
       "        <th>urban_pop_pct</th>\n",
       "        <th>world_share_pct</th>\n",
       "    </tr>\n",
       "    <tr>\n",
       "        <td>1</td>\n",
       "        <td>China</td>\n",
       "        <td>1439323776</td>\n",
       "        <td>0.39</td>\n",
       "        <td>5540090</td>\n",
       "        <td>153</td>\n",
       "        <td>9388211</td>\n",
       "        <td>-348399</td>\n",
       "        <td>1.7</td>\n",
       "        <td>38</td>\n",
       "        <td>61</td>\n",
       "        <td>18.47</td>\n",
       "    </tr>\n",
       "    <tr>\n",
       "        <td>2</td>\n",
       "        <td>India</td>\n",
       "        <td>1380004385</td>\n",
       "        <td>0.99</td>\n",
       "        <td>13586631</td>\n",
       "        <td>464</td>\n",
       "        <td>2973190</td>\n",
       "        <td>-532687</td>\n",
       "        <td>2.2</td>\n",
       "        <td>28</td>\n",
       "        <td>35</td>\n",
       "        <td>17.7</td>\n",
       "    </tr>\n",
       "    <tr>\n",
       "        <td>3</td>\n",
       "        <td>United States</td>\n",
       "        <td>331002651</td>\n",
       "        <td>0.59</td>\n",
       "        <td>1937734</td>\n",
       "        <td>36</td>\n",
       "        <td>9147420</td>\n",
       "        <td>954806</td>\n",
       "        <td>1.8</td>\n",
       "        <td>38</td>\n",
       "        <td>83</td>\n",
       "        <td>4.25</td>\n",
       "    </tr>\n",
       "    <tr>\n",
       "        <td>4</td>\n",
       "        <td>Indonesia</td>\n",
       "        <td>273523615</td>\n",
       "        <td>1.07</td>\n",
       "        <td>2898047</td>\n",
       "        <td>151</td>\n",
       "        <td>1811570</td>\n",
       "        <td>-98955</td>\n",
       "        <td>2.3</td>\n",
       "        <td>30</td>\n",
       "        <td>56</td>\n",
       "        <td>3.51</td>\n",
       "    </tr>\n",
       "    <tr>\n",
       "        <td>5</td>\n",
       "        <td>Pakistan</td>\n",
       "        <td>220892340</td>\n",
       "        <td>2</td>\n",
       "        <td>4327022</td>\n",
       "        <td>287</td>\n",
       "        <td>770880</td>\n",
       "        <td>-233379</td>\n",
       "        <td>3.6</td>\n",
       "        <td>23</td>\n",
       "        <td>35</td>\n",
       "        <td>2.83</td>\n",
       "    </tr>\n",
       "</table>"
      ],
      "text/plain": [
       "[(1, 'China', 1439323776, 0.39, 5540090, 153, 9388211, -348399, 1.7, 38, 61, 18.47),\n",
       " (2, 'India', 1380004385, 0.99, 13586631, 464, 2973190, -532687, 2.2, 28, 35, 17.7),\n",
       " (3, 'United States', 331002651, 0.59, 1937734, 36, 9147420, 954806, 1.8, 38, 83, 4.25),\n",
       " (4, 'Indonesia', 273523615, 1.07, 2898047, 151, 1811570, -98955, 2.3, 30, 56, 3.51),\n",
       " (5, 'Pakistan', 220892340, 2, 4327022, 287, 770880, -233379, 3.6, 23, 35, 2.83)]"
      ]
     },
     "execution_count": 277,
     "metadata": {},
     "output_type": "execute_result"
    }
   ],
   "source": [
    "%%sql\n",
    "SELECT * FROM populations LIMIT 5;"
   ]
  },
  {
   "cell_type": "code",
   "execution_count": 278,
   "metadata": {},
   "outputs": [
    {
     "name": "stdout",
     "output_type": "stream",
     "text": [
      "12 rows affected\n"
     ]
    },
    {
     "data": {
      "text/html": [
       "<div>\n",
       "<style scoped>\n",
       "    .dataframe tbody tr th:only-of-type {\n",
       "        vertical-align: middle;\n",
       "    }\n",
       "\n",
       "    .dataframe tbody tr th {\n",
       "        vertical-align: top;\n",
       "    }\n",
       "\n",
       "    .dataframe thead th {\n",
       "        text-align: right;\n",
       "    }\n",
       "</style>\n",
       "<table border=\"1\" class=\"dataframe\">\n",
       "  <thead>\n",
       "    <tr style=\"text-align: right;\">\n",
       "      <th></th>\n",
       "      <th>cid</th>\n",
       "      <th>name</th>\n",
       "      <th>type</th>\n",
       "      <th>notnull</th>\n",
       "      <th>dflt_value</th>\n",
       "      <th>pk</th>\n",
       "    </tr>\n",
       "  </thead>\n",
       "  <tbody>\n",
       "    <tr>\n",
       "      <th>0</th>\n",
       "      <td>0</td>\n",
       "      <td>rank</td>\n",
       "      <td>INT</td>\n",
       "      <td>0</td>\n",
       "      <td>None</td>\n",
       "      <td>0</td>\n",
       "    </tr>\n",
       "    <tr>\n",
       "      <th>1</th>\n",
       "      <td>1</td>\n",
       "      <td>country</td>\n",
       "      <td>TEXT</td>\n",
       "      <td>0</td>\n",
       "      <td>None</td>\n",
       "      <td>0</td>\n",
       "    </tr>\n",
       "    <tr>\n",
       "      <th>2</th>\n",
       "      <td>2</td>\n",
       "      <td>population</td>\n",
       "      <td>INT</td>\n",
       "      <td>0</td>\n",
       "      <td>None</td>\n",
       "      <td>0</td>\n",
       "    </tr>\n",
       "    <tr>\n",
       "      <th>3</th>\n",
       "      <td>3</td>\n",
       "      <td>yearly_change_pct</td>\n",
       "      <td>NUM</td>\n",
       "      <td>0</td>\n",
       "      <td>None</td>\n",
       "      <td>0</td>\n",
       "    </tr>\n",
       "    <tr>\n",
       "      <th>4</th>\n",
       "      <td>4</td>\n",
       "      <td>net_change</td>\n",
       "      <td>INT</td>\n",
       "      <td>0</td>\n",
       "      <td>None</td>\n",
       "      <td>0</td>\n",
       "    </tr>\n",
       "    <tr>\n",
       "      <th>5</th>\n",
       "      <td>5</td>\n",
       "      <td>density</td>\n",
       "      <td>INT</td>\n",
       "      <td>0</td>\n",
       "      <td>None</td>\n",
       "      <td>0</td>\n",
       "    </tr>\n",
       "    <tr>\n",
       "      <th>6</th>\n",
       "      <td>6</td>\n",
       "      <td>land_are</td>\n",
       "      <td>INT</td>\n",
       "      <td>0</td>\n",
       "      <td>None</td>\n",
       "      <td>0</td>\n",
       "    </tr>\n",
       "    <tr>\n",
       "      <th>7</th>\n",
       "      <td>7</td>\n",
       "      <td>migrants</td>\n",
       "      <td>INT</td>\n",
       "      <td>0</td>\n",
       "      <td>None</td>\n",
       "      <td>0</td>\n",
       "    </tr>\n",
       "    <tr>\n",
       "      <th>8</th>\n",
       "      <td>8</td>\n",
       "      <td>fert_rate</td>\n",
       "      <td>NUM</td>\n",
       "      <td>0</td>\n",
       "      <td>None</td>\n",
       "      <td>0</td>\n",
       "    </tr>\n",
       "    <tr>\n",
       "      <th>9</th>\n",
       "      <td>9</td>\n",
       "      <td>med_age</td>\n",
       "      <td>INT</td>\n",
       "      <td>0</td>\n",
       "      <td>None</td>\n",
       "      <td>0</td>\n",
       "    </tr>\n",
       "    <tr>\n",
       "      <th>10</th>\n",
       "      <td>10</td>\n",
       "      <td>urban_pop_pct</td>\n",
       "      <td>INT</td>\n",
       "      <td>0</td>\n",
       "      <td>None</td>\n",
       "      <td>0</td>\n",
       "    </tr>\n",
       "    <tr>\n",
       "      <th>11</th>\n",
       "      <td>11</td>\n",
       "      <td>world_share_pct</td>\n",
       "      <td>NUM</td>\n",
       "      <td>0</td>\n",
       "      <td>None</td>\n",
       "      <td>0</td>\n",
       "    </tr>\n",
       "  </tbody>\n",
       "</table>\n",
       "</div>"
      ],
      "text/plain": [
       "    cid               name  type  notnull dflt_value  pk\n",
       "0     0               rank   INT        0       None   0\n",
       "1     1            country  TEXT        0       None   0\n",
       "2     2         population   INT        0       None   0\n",
       "3     3  yearly_change_pct   NUM        0       None   0\n",
       "4     4         net_change   INT        0       None   0\n",
       "5     5            density   INT        0       None   0\n",
       "6     6           land_are   INT        0       None   0\n",
       "7     7           migrants   INT        0       None   0\n",
       "8     8          fert_rate   NUM        0       None   0\n",
       "9     9            med_age   INT        0       None   0\n",
       "10   10      urban_pop_pct   INT        0       None   0\n",
       "11   11    world_share_pct   NUM        0       None   0"
      ]
     },
     "execution_count": 278,
     "metadata": {},
     "output_type": "execute_result"
    }
   ],
   "source": [
    "qdb.execute_query('PRAGMA table_info(populations);')"
   ]
  },
  {
   "cell_type": "markdown",
   "metadata": {},
   "source": [
    "#### update countries - basics"
   ]
  },
  {
   "cell_type": "code",
   "execution_count": 279,
   "metadata": {},
   "outputs": [
    {
     "name": "stdout",
     "output_type": "stream",
     "text": [
      " * sqlite:///../data/processed/covid.sqlite\n",
      "1 rows affected.\n",
      "0 rows affected.\n"
     ]
    },
    {
     "data": {
      "text/plain": [
       "[]"
      ]
     },
     "execution_count": 279,
     "metadata": {},
     "output_type": "execute_result"
    }
   ],
   "source": [
    "%%sql\n",
    "UPDATE populations\n",
    "SET country = replace(country, char(39), '')\n",
    "WHERE country LIKE 'C_te%';\n",
    "\n",
    "UPDATE stats\n",
    "SET country = replace(country, char(39), '')\n",
    "WHERE country LIKE 'C_te%';"
   ]
  },
  {
   "cell_type": "code",
   "execution_count": 280,
   "metadata": {},
   "outputs": [
    {
     "name": "stdout",
     "output_type": "stream",
     "text": [
      " * sqlite:///../data/processed/covid.sqlite\n",
      "Done.\n"
     ]
    },
    {
     "data": {
      "text/plain": [
       "[]"
      ]
     },
     "execution_count": 280,
     "metadata": {},
     "output_type": "execute_result"
    }
   ],
   "source": [
    "%%sql\n",
    "--drop cruiseships & kosovo from stats\n",
    "DELETE FROM stats \n",
    "WHERE country IN ('Diamond Princess','MS Zaandam','Kosovo');"
   ]
  },
  {
   "cell_type": "code",
   "execution_count": 281,
   "metadata": {},
   "outputs": [
    {
     "name": "stdout",
     "output_type": "stream",
     "text": [
      " * sqlite:///../data/processed/covid.sqlite\n",
      "Done.\n"
     ]
    },
    {
     "data": {
      "text/html": [
       "<table>\n",
       "    <tr>\n",
       "        <th>COUNT(*)</th>\n",
       "    </tr>\n",
       "    <tr>\n",
       "        <td>0</td>\n",
       "    </tr>\n",
       "</table>"
      ],
      "text/plain": [
       "[(0,)]"
      ]
     },
     "execution_count": 281,
     "metadata": {},
     "output_type": "execute_result"
    }
   ],
   "source": [
    "%%sql\n",
    "SELECT COUNT(*)\n",
    "FROM stats \n",
    "WHERE country IN ('Diamond Princess','MS Zaandam','Kosovo');"
   ]
  },
  {
   "cell_type": "markdown",
   "metadata": {},
   "source": [
    "#### update countries - stats table"
   ]
  },
  {
   "cell_type": "code",
   "execution_count": 282,
   "metadata": {},
   "outputs": [],
   "source": [
    "def updateCountry(table, original, replacement):\n",
    "    query = \"\"\"\n",
    "        UPDATE {}\n",
    "        SET country = '{}'\n",
    "        WHERE country = '{}';\n",
    "        \"\"\".format(table, replacement, original)\n",
    "\n",
    "    qdb.execute_query(query)"
   ]
  },
  {
   "cell_type": "code",
   "execution_count": 283,
   "metadata": {},
   "outputs": [
    {
     "name": "stdout",
     "output_type": "stream",
     "text": [
      "unable to execute query\n",
      "---\n",
      "This result object does not return rows. It has been closed automatically.\n",
      "---\n",
      "unable to execute query\n",
      "---\n",
      "This result object does not return rows. It has been closed automatically.\n",
      "---\n",
      "unable to execute query\n",
      "---\n",
      "This result object does not return rows. It has been closed automatically.\n",
      "---\n",
      "unable to execute query\n",
      "---\n",
      "This result object does not return rows. It has been closed automatically.\n",
      "---\n",
      "unable to execute query\n",
      "---\n",
      "This result object does not return rows. It has been closed automatically.\n",
      "---\n",
      "unable to execute query\n",
      "---\n",
      "This result object does not return rows. It has been closed automatically.\n",
      "---\n",
      "unable to execute query\n",
      "---\n",
      "This result object does not return rows. It has been closed automatically.\n",
      "---\n",
      "unable to execute query\n",
      "---\n",
      "This result object does not return rows. It has been closed automatically.\n",
      "---\n"
     ]
    }
   ],
   "source": [
    "# translation table\n",
    "trans_stats = {\n",
    "    'Cote dIvoire' : 'Ivory Coast',\n",
    "    'Burma' : 'Myanmar',\n",
    "    'Congo (Brazzaville)' : 'Congo',\n",
    "    'Congo (Kinshasa)' : 'DR Congo',\n",
    "    'West Bank and Gaza' : 'State of Palestine',\n",
    "    'Taiwan*' : 'Taiwan',\n",
    "    'Czechia' : 'Czech Republic',\n",
    "    'Korea, South' : 'South Korea'}\n",
    "\n",
    "# run the update\n",
    "for key in trans_stats.keys():\n",
    "    updateCountry('stats', key, trans_stats[key])"
   ]
  },
  {
   "cell_type": "markdown",
   "metadata": {},
   "source": [
    "#### update countries - populations table"
   ]
  },
  {
   "cell_type": "code",
   "execution_count": 284,
   "metadata": {},
   "outputs": [
    {
     "name": "stdout",
     "output_type": "stream",
     "text": [
      "unable to execute query\n",
      "---\n",
      "This result object does not return rows. It has been closed automatically.\n",
      "---\n",
      "unable to execute query\n",
      "---\n",
      "This result object does not return rows. It has been closed automatically.\n",
      "---\n",
      "unable to execute query\n",
      "---\n",
      "This result object does not return rows. It has been closed automatically.\n",
      "---\n",
      "unable to execute query\n",
      "---\n",
      "This result object does not return rows. It has been closed automatically.\n",
      "---\n",
      "unable to execute query\n",
      "---\n",
      "This result object does not return rows. It has been closed automatically.\n",
      "---\n"
     ]
    }
   ],
   "source": [
    "# translation table\n",
    "pop_stats = {\n",
    "    'Czech Republic (Czechia)' : 'Czech Republic',\n",
    "    'Côte dIvoire' : 'Ivory Coast',\n",
    "    'Saint Kitts & Nevis' : 'Saint Kitts and Nevis',\n",
    "    'St. Vincent & Grenadines' : 'Saint Vincent and the Grenadines',\n",
    "    'Sao Tome & Principe' : 'Sao Tome and Principe'}\n",
    "\n",
    "# run the update\n",
    "for key in pop_stats.keys():\n",
    "    updateCountry('populations', key, pop_stats[key])"
   ]
  },
  {
   "cell_type": "markdown",
   "metadata": {},
   "source": [
    "#### check\n",
    "***\n",
    "We expect 184 distict countries (187 - 3 removed) in first query and 0 in second."
   ]
  },
  {
   "cell_type": "code",
   "execution_count": 285,
   "metadata": {},
   "outputs": [
    {
     "name": "stdout",
     "output_type": "stream",
     "text": [
      " * sqlite:///../data/processed/covid.sqlite\n",
      "Done.\n"
     ]
    },
    {
     "data": {
      "text/html": [
       "<table>\n",
       "    <tr>\n",
       "        <th>cnt</th>\n",
       "    </tr>\n",
       "    <tr>\n",
       "        <td>184</td>\n",
       "    </tr>\n",
       "</table>"
      ],
      "text/plain": [
       "[(184,)]"
      ]
     },
     "execution_count": 285,
     "metadata": {},
     "output_type": "execute_result"
    }
   ],
   "source": [
    "%%sql \n",
    "-- check the joining keys\n",
    "SELECT COUNT(DISTINCT stats.country) AS cnt \n",
    "  FROM stats\n",
    "       LEFT JOIN populations\n",
    "       ON populations.country = stats.country\n",
    " WHERE populations.rank IS NOT NULL\n",
    " ORDER BY 1;  \n"
   ]
  },
  {
   "cell_type": "code",
   "execution_count": 287,
   "metadata": {},
   "outputs": [
    {
     "name": "stdout",
     "output_type": "stream",
     "text": [
      " * sqlite:///../data/processed/covid.sqlite\n",
      "Done.\n"
     ]
    },
    {
     "data": {
      "text/html": [
       "<table>\n",
       "    <tr>\n",
       "        <th>cnt</th>\n",
       "    </tr>\n",
       "    <tr>\n",
       "        <td>0</td>\n",
       "    </tr>\n",
       "</table>"
      ],
      "text/plain": [
       "[(0,)]"
      ]
     },
     "execution_count": 287,
     "metadata": {},
     "output_type": "execute_result"
    }
   ],
   "source": [
    "%%sql\n",
    "-- check the joining keys\n",
    "SELECT COUNT(DISTINCT stats.country) AS cnt \n",
    "  FROM stats\n",
    "       LEFT JOIN populations\n",
    "    ON populations.country = stats.country\n",
    " WHERE populations.rank IS NULL;  "
   ]
  },
  {
   "cell_type": "markdown",
   "metadata": {},
   "source": [
    "### 4. Calculate the scaled table\n",
    "***\n",
    "The overall objective of this dataset is to be able to scale the overall covid-19 numbers to `per 1 million`, hence we need a scaled population (population / 1,000,000) to divide the covid-19 numbers by."
   ]
  },
  {
   "cell_type": "code",
   "execution_count": 229,
   "metadata": {},
   "outputs": [
    {
     "name": "stdout",
     "output_type": "stream",
     "text": [
      " * sqlite:///../data/processed/covid.sqlite\n",
      "Done.\n"
     ]
    },
    {
     "data": {
      "text/plain": [
       "[]"
      ]
     },
     "execution_count": 229,
     "metadata": {},
     "output_type": "execute_result"
    }
   ],
   "source": [
    "%%sql\n",
    "ALTER TABLE populations\n",
    "ADD column scaled_pop numeric;"
   ]
  },
  {
   "cell_type": "code",
   "execution_count": 233,
   "metadata": {},
   "outputs": [
    {
     "name": "stdout",
     "output_type": "stream",
     "text": [
      " * sqlite:///../data/processed/covid.sqlite\n",
      "235 rows affected.\n"
     ]
    },
    {
     "data": {
      "text/plain": [
       "[]"
      ]
     },
     "execution_count": 233,
     "metadata": {},
     "output_type": "execute_result"
    }
   ],
   "source": [
    "%%sql\n",
    "UPDATE populations \n",
    "   SET scaled_pop = ROUND(population / 1000000.0, 2);"
   ]
  },
  {
   "cell_type": "code",
   "execution_count": 234,
   "metadata": {},
   "outputs": [
    {
     "name": "stdout",
     "output_type": "stream",
     "text": [
      " * sqlite:///../data/processed/covid.sqlite\n",
      "Done.\n"
     ]
    },
    {
     "data": {
      "text/html": [
       "<table>\n",
       "    <tr>\n",
       "        <th>rank</th>\n",
       "        <th>country</th>\n",
       "        <th>population</th>\n",
       "        <th>yearly_change_pct</th>\n",
       "        <th>net_change</th>\n",
       "        <th>density</th>\n",
       "        <th>land_are</th>\n",
       "        <th>migrants</th>\n",
       "        <th>fert_rate</th>\n",
       "        <th>med_age</th>\n",
       "        <th>urban_pop_pct</th>\n",
       "        <th>world_share_pct</th>\n",
       "        <th>scaled_pop</th>\n",
       "    </tr>\n",
       "    <tr>\n",
       "        <td>1</td>\n",
       "        <td>China</td>\n",
       "        <td>1439323776</td>\n",
       "        <td>0.39</td>\n",
       "        <td>5540090</td>\n",
       "        <td>153</td>\n",
       "        <td>9388211</td>\n",
       "        <td>-348399</td>\n",
       "        <td>1.7</td>\n",
       "        <td>38</td>\n",
       "        <td>61</td>\n",
       "        <td>18.47</td>\n",
       "        <td>1439.32</td>\n",
       "    </tr>\n",
       "    <tr>\n",
       "        <td>2</td>\n",
       "        <td>India</td>\n",
       "        <td>1380004385</td>\n",
       "        <td>0.99</td>\n",
       "        <td>13586631</td>\n",
       "        <td>464</td>\n",
       "        <td>2973190</td>\n",
       "        <td>-532687</td>\n",
       "        <td>2.2</td>\n",
       "        <td>28</td>\n",
       "        <td>35</td>\n",
       "        <td>17.7</td>\n",
       "        <td>1380</td>\n",
       "    </tr>\n",
       "</table>"
      ],
      "text/plain": [
       "[(1, 'China', 1439323776, 0.39, 5540090, 153, 9388211, -348399, 1.7, 38, 61, 18.47, 1439.32),\n",
       " (2, 'India', 1380004385, 0.99, 13586631, 464, 2973190, -532687, 2.2, 28, 35, 17.7, 1380)]"
      ]
     },
     "execution_count": 234,
     "metadata": {},
     "output_type": "execute_result"
    }
   ],
   "source": [
    "%%sql\n",
    "SELECT * FROM populations LIMIT 2;"
   ]
  },
  {
   "cell_type": "markdown",
   "metadata": {},
   "source": [
    "#### DROP raw table"
   ]
  },
  {
   "cell_type": "code",
   "execution_count": 240,
   "metadata": {},
   "outputs": [
    {
     "name": "stdout",
     "output_type": "stream",
     "text": [
      " * sqlite:///../data/processed/covid.sqlite\n",
      "Done.\n"
     ]
    },
    {
     "data": {
      "text/plain": [
       "[]"
      ]
     },
     "execution_count": 240,
     "metadata": {},
     "output_type": "execute_result"
    }
   ],
   "source": [
    "%%sql\n",
    "DROP TABLE population_raw;"
   ]
  },
  {
   "cell_type": "code",
   "execution_count": 241,
   "metadata": {},
   "outputs": [
    {
     "data": {
      "text/plain": [
       "['country', 'daily_stats', 'populations', 'stats']"
      ]
     },
     "execution_count": 241,
     "metadata": {},
     "output_type": "execute_result"
    }
   ],
   "source": [
    "# drop columns we don't need...\n",
    "qdb.engine.table_names()"
   ]
  },
  {
   "cell_type": "markdown",
   "metadata": {},
   "source": [
    "### 5. Automating the process\n",
    "***\n",
    "1. add the process above to the pipeline"
   ]
  },
  {
   "cell_type": "markdown",
   "metadata": {},
   "source": [
    "#### functions"
   ]
  },
  {
   "cell_type": "code",
   "execution_count": 325,
   "metadata": {},
   "outputs": [],
   "source": [
    "# load\n",
    "def getPopulationData(table = 'population_raw'):\n",
    "    \"\"\"\n",
    "    Load raw population data into a table\n",
    "    \"\"\"\n",
    "    # load\n",
    "    df = pd.read_csv('../data/raw/global_pop.csv')\n",
    "\n",
    "    # store in SQL\n",
    "    qdb.execute_query('DROP TABLE IF EXISTS {};'.format(table))\n",
    "    df.to_sql(table, con = qdb.engine, if_exists = 'append', index=False, chunksize = 1000)\n",
    "\n",
    "    # check\n",
    "    assert table in qdb.engine.table_names()\n",
    "    assert len(df) == qdb.execute_query('SELECT COUNT(*) FROM {};'.format(table)).iloc[0,0]\n",
    "    \n",
    "\n",
    "def updateCountry(table, original, replacement):\n",
    "    \"\"\"\n",
    "    Change country from original to replacement in table\n",
    "    \"\"\"\n",
    "    # clean countries based on hash table\n",
    "    qdb.execute_query(\"\"\"\n",
    "        UPDATE {}\n",
    "           SET country = '{}'\n",
    "         WHERE country = '{}';\"\"\".format(table, replacement, original))\n",
    "    \n",
    "\n",
    "    \n",
    "# clean (queries) -> SQL clean\n",
    "def cleanPopulation(raw_table = 'population_raw', target_table = 'populations', \n",
    "                    country_trans_file = '../src/data/clean_country_names.json'):\n",
    "    \"\"\"\n",
    "    Create populations table containing the cleaned population data\n",
    "    \"\"\"\n",
    "    # clean data in raw table and store it in target table  \n",
    "    if raw_table in qdb.engine.table_names():\n",
    "        qdb.execute_query('DROP TABLE IF EXISTS {};'.format(target_table))\n",
    "        qdb.execute_query(\"\"\"\n",
    "            CREATE TABLE {} AS\n",
    "            SELECT rank,\n",
    "                   country,\n",
    "                   CAST(REPLACE(populations,',','') AS integer) AS population,\n",
    "                   CAST(REPLACE(yearly_change,'%','') AS numeric) AS yearly_change_pct,\n",
    "                   CAST(REPLACE(net_change,',','') AS integer) AS net_change,\n",
    "                   CAST(density AS integer) AS density,\n",
    "                   CAST(REPLACE(land_area,',','') AS integer) AS land_are,\n",
    "                   CAST(REPLACE(migrants,',','') AS integer) AS migrants,\n",
    "                   CAST(fert_rate AS numeric) AS fert_rate,\n",
    "                   CAST(med_age AS integer) AS med_age,\n",
    "                   CAST(REPLACE(urban_pop_pct,'%','') AS integer) AS urban_pop_pct,\n",
    "                   CAST(REPLACE(world_share_pct,'%','') AS numeric) AS world_share_pct\n",
    "              FROM population_raw;\"\"\".format(target_table))\n",
    "        \n",
    "        # remove invalid countries or countries without population data from stats table\n",
    "        qdb.execute_query(\"\"\"\n",
    "            DELETE FROM stats \n",
    "             WHERE country IN ('Diamond Princess','MS Zaandam','Kosovo');\"\"\")\n",
    "        \n",
    "        assert qdb.execute_query(\"\"\"\n",
    "            SELECT COUNT(*)\n",
    "              FROM stats \n",
    "             WHERE country IN ('Diamond Princess','MS Zaandam','Kosovo');\"\"\").iloc[0,0] == 0\n",
    "        \n",
    "        # open the country translation table\n",
    "        with open(country_trans_file) as f:\n",
    "            country_trans = json.loads(f.read())\n",
    "            \n",
    "        # clean countries in stats table \n",
    "        for table in ['stats', 'populations']:\n",
    "            # remove apostrophe in 'Core d'Ivor'\n",
    "            qdb.execute_query(\"\"\"\n",
    "                UPDATE {}\n",
    "                   SET country = replace(country, char(39), '')\n",
    "                 WHERE country LIKE 'C_te%';\"\"\".format(table))\n",
    "            \n",
    "            # update individual countries\n",
    "            for key in country_trans[table].keys():\n",
    "                updateCountry(table, key, country_trans[table][key])\n",
    "        \n",
    "        # check country conversion (missing keys..)\n",
    "        assert qdb.execute_query(\"\"\"\n",
    "                SELECT COUNT(DISTINCT stats.country) AS cnt \n",
    "                  FROM stats\n",
    "                       LEFT JOIN populations\n",
    "                    ON populations.country = stats.country\n",
    "                 WHERE populations.rank IS NULL;\"\"\").iloc[0,0] == 0 # update\n",
    "      \n",
    "        # drop SQL raw\n",
    "        qdb.execute_query('DROP TABLE IF EXISTS {};'.format(raw_table))\n",
    "\n",
    "    else:\n",
    "        print('error: raw data not available')\n",
    "    \n",
    "    \n",
    "\n",
    "def calculateScaledPopulation(target_table = 'populations', denominator = 1000000):\n",
    "    \"\"\"\n",
    "    Add a scaled population column: population/1,000,000\n",
    "    \"\"\"\n",
    "    # create the column for the scaled population\n",
    "    qdb.execute_query(\"\"\"\n",
    "        ALTER TABLE populations\n",
    "          ADD COLUMN scaled_pop numeric;\"\"\".format(target_table))\n",
    "    \n",
    "    # calculate and store the scaled population\n",
    "    qdb.execute_query(\"\"\"\n",
    "        UPDATE {} \n",
    "           SET scaled_pop = ROUND(population / {}.0, 2);\"\"\".format(target_table, denominator))"
   ]
  },
  {
   "cell_type": "markdown",
   "metadata": {},
   "source": [
    "#### store country translation table"
   ]
  },
  {
   "cell_type": "code",
   "execution_count": 323,
   "metadata": {},
   "outputs": [],
   "source": [
    "# store the json\n",
    "country_trans = {\n",
    "    'stats' : {\n",
    "        'Cote dIvoire' : 'Ivory Coast',\n",
    "        'Burma' : 'Myanmar',\n",
    "        'Congo (Brazzaville)' : 'Congo',\n",
    "        'Congo (Kinshasa)' : 'DR Congo',\n",
    "        'West Bank and Gaza' : 'State of Palestine',\n",
    "        'Taiwan*' : 'Taiwan',\n",
    "        'Czechia' : 'Czech Republic',\n",
    "        'Korea, South' : 'South Korea'},\n",
    "    'populations' : {\n",
    "        'Czech Republic (Czechia)' : 'Czech Republic',\n",
    "        'Côte dIvoire' : 'Ivory Coast',\n",
    "        'Saint Kitts & Nevis' : 'Saint Kitts and Nevis',\n",
    "        'St. Vincent & Grenadines' : 'Saint Vincent and the Grenadines',\n",
    "        'Sao Tome & Principe' : 'Sao Tome and Principe'}}\n",
    "    \n",
    "with open('../src/data/clean_country_names.json', 'w') as fp:\n",
    "    json.dump(country_trans, fp)"
   ]
  },
  {
   "cell_type": "code",
   "execution_count": 324,
   "metadata": {},
   "outputs": [],
   "source": [
    "# quick test\n",
    "with open('../src/data/clean_country_names.json') as f:\n",
    "    data = json.loads(f.read())\n"
   ]
  },
  {
   "cell_type": "markdown",
   "metadata": {},
   "source": [
    "#### End-to-end test"
   ]
  },
  {
   "cell_type": "code",
   "execution_count": 332,
   "metadata": {},
   "outputs": [
    {
     "name": "stdout",
     "output_type": "stream",
     "text": [
      " * sqlite:///../data/processed/covid.sqlite\n",
      "(sqlite3.OperationalError) no such table: populations\n",
      "[SQL: -- start by dropping the current table\n",
      "DROP TABLE populations;]\n",
      "(Background on this error at: http://sqlalche.me/e/e3q8)\n"
     ]
    }
   ],
   "source": [
    "%%sql\n",
    "-- start by dropping the current table\n",
    "DROP TABLE populations;\n",
    "DROP TABLE population_raw;"
   ]
  },
  {
   "cell_type": "code",
   "execution_count": 334,
   "metadata": {},
   "outputs": [
    {
     "data": {
      "text/plain": [
       "['country', 'daily_stats', 'populations', 'stats']"
      ]
     },
     "execution_count": 334,
     "metadata": {},
     "output_type": "execute_result"
    }
   ],
   "source": [
    "qdb.engine.table_names()"
   ]
  },
  {
   "cell_type": "code",
   "execution_count": 329,
   "metadata": {
    "scrolled": true
   },
   "outputs": [
    {
     "name": "stdout",
     "output_type": "stream",
     "text": [
      "unable to execute query\n",
      "---\n",
      "This result object does not return rows. It has been closed automatically.\n",
      "---\n",
      "1 rows affected\n",
      "unable to execute query\n",
      "---\n",
      "This result object does not return rows. It has been closed automatically.\n",
      "---\n",
      "unable to execute query\n",
      "---\n",
      "This result object does not return rows. It has been closed automatically.\n",
      "---\n",
      "unable to execute query\n",
      "---\n",
      "This result object does not return rows. It has been closed automatically.\n",
      "---\n",
      "1 rows affected\n",
      "unable to execute query\n",
      "---\n",
      "This result object does not return rows. It has been closed automatically.\n",
      "---\n",
      "unable to execute query\n",
      "---\n",
      "This result object does not return rows. It has been closed automatically.\n",
      "---\n",
      "unable to execute query\n",
      "---\n",
      "This result object does not return rows. It has been closed automatically.\n",
      "---\n",
      "unable to execute query\n",
      "---\n",
      "This result object does not return rows. It has been closed automatically.\n",
      "---\n",
      "unable to execute query\n",
      "---\n",
      "This result object does not return rows. It has been closed automatically.\n",
      "---\n",
      "unable to execute query\n",
      "---\n",
      "This result object does not return rows. It has been closed automatically.\n",
      "---\n",
      "unable to execute query\n",
      "---\n",
      "This result object does not return rows. It has been closed automatically.\n",
      "---\n",
      "unable to execute query\n",
      "---\n",
      "This result object does not return rows. It has been closed automatically.\n",
      "---\n",
      "unable to execute query\n",
      "---\n",
      "This result object does not return rows. It has been closed automatically.\n",
      "---\n",
      "unable to execute query\n",
      "---\n",
      "This result object does not return rows. It has been closed automatically.\n",
      "---\n",
      "unable to execute query\n",
      "---\n",
      "This result object does not return rows. It has been closed automatically.\n",
      "---\n",
      "unable to execute query\n",
      "---\n",
      "This result object does not return rows. It has been closed automatically.\n",
      "---\n",
      "unable to execute query\n",
      "---\n",
      "This result object does not return rows. It has been closed automatically.\n",
      "---\n",
      "unable to execute query\n",
      "---\n",
      "This result object does not return rows. It has been closed automatically.\n",
      "---\n",
      "unable to execute query\n",
      "---\n",
      "This result object does not return rows. It has been closed automatically.\n",
      "---\n",
      "1 rows affected\n",
      "unable to execute query\n",
      "---\n",
      "This result object does not return rows. It has been closed automatically.\n",
      "---\n",
      "unable to execute query\n",
      "---\n",
      "This result object does not return rows. It has been closed automatically.\n",
      "---\n",
      "unable to execute query\n",
      "---\n",
      "This result object does not return rows. It has been closed automatically.\n",
      "---\n"
     ]
    }
   ],
   "source": [
    "# insert raw population table\n",
    "getPopulationData(table = 'population_raw')\n",
    "\n",
    "# clean the population table\n",
    "cleanPopulation(raw_table = 'population_raw', target_table = 'populations', \n",
    "                    country_trans_file = 'clean_country_names.json')\n",
    "\n",
    "# calculate the scaled population column\n",
    "calculateScaledPopulation(target_table = 'populations', denominator = 1000000)"
   ]
  },
  {
   "cell_type": "code",
   "execution_count": 336,
   "metadata": {},
   "outputs": [
    {
     "name": "stdout",
     "output_type": "stream",
     "text": [
      " * sqlite:///../data/processed/covid.sqlite\n",
      "Done.\n"
     ]
    },
    {
     "data": {
      "text/html": [
       "<table>\n",
       "    <tr>\n",
       "        <th>rank</th>\n",
       "        <th>country</th>\n",
       "        <th>population</th>\n",
       "        <th>yearly_change_pct</th>\n",
       "        <th>net_change</th>\n",
       "        <th>density</th>\n",
       "        <th>land_are</th>\n",
       "        <th>migrants</th>\n",
       "        <th>fert_rate</th>\n",
       "        <th>med_age</th>\n",
       "        <th>urban_pop_pct</th>\n",
       "        <th>world_share_pct</th>\n",
       "        <th>scaled_pop</th>\n",
       "    </tr>\n",
       "    <tr>\n",
       "        <td>1</td>\n",
       "        <td>China</td>\n",
       "        <td>1439323776</td>\n",
       "        <td>0.39</td>\n",
       "        <td>5540090</td>\n",
       "        <td>153</td>\n",
       "        <td>9388211</td>\n",
       "        <td>-348399</td>\n",
       "        <td>1.7</td>\n",
       "        <td>38</td>\n",
       "        <td>61</td>\n",
       "        <td>18.47</td>\n",
       "        <td>1439.32</td>\n",
       "    </tr>\n",
       "    <tr>\n",
       "        <td>2</td>\n",
       "        <td>India</td>\n",
       "        <td>1380004385</td>\n",
       "        <td>0.99</td>\n",
       "        <td>13586631</td>\n",
       "        <td>464</td>\n",
       "        <td>2973190</td>\n",
       "        <td>-532687</td>\n",
       "        <td>2.2</td>\n",
       "        <td>28</td>\n",
       "        <td>35</td>\n",
       "        <td>17.7</td>\n",
       "        <td>1380</td>\n",
       "    </tr>\n",
       "    <tr>\n",
       "        <td>3</td>\n",
       "        <td>United States</td>\n",
       "        <td>331002651</td>\n",
       "        <td>0.59</td>\n",
       "        <td>1937734</td>\n",
       "        <td>36</td>\n",
       "        <td>9147420</td>\n",
       "        <td>954806</td>\n",
       "        <td>1.8</td>\n",
       "        <td>38</td>\n",
       "        <td>83</td>\n",
       "        <td>4.25</td>\n",
       "        <td>331</td>\n",
       "    </tr>\n",
       "    <tr>\n",
       "        <td>4</td>\n",
       "        <td>Indonesia</td>\n",
       "        <td>273523615</td>\n",
       "        <td>1.07</td>\n",
       "        <td>2898047</td>\n",
       "        <td>151</td>\n",
       "        <td>1811570</td>\n",
       "        <td>-98955</td>\n",
       "        <td>2.3</td>\n",
       "        <td>30</td>\n",
       "        <td>56</td>\n",
       "        <td>3.51</td>\n",
       "        <td>273.52</td>\n",
       "    </tr>\n",
       "    <tr>\n",
       "        <td>5</td>\n",
       "        <td>Pakistan</td>\n",
       "        <td>220892340</td>\n",
       "        <td>2</td>\n",
       "        <td>4327022</td>\n",
       "        <td>287</td>\n",
       "        <td>770880</td>\n",
       "        <td>-233379</td>\n",
       "        <td>3.6</td>\n",
       "        <td>23</td>\n",
       "        <td>35</td>\n",
       "        <td>2.83</td>\n",
       "        <td>220.89</td>\n",
       "    </tr>\n",
       "</table>"
      ],
      "text/plain": [
       "[(1, 'China', 1439323776, 0.39, 5540090, 153, 9388211, -348399, 1.7, 38, 61, 18.47, 1439.32),\n",
       " (2, 'India', 1380004385, 0.99, 13586631, 464, 2973190, -532687, 2.2, 28, 35, 17.7, 1380),\n",
       " (3, 'United States', 331002651, 0.59, 1937734, 36, 9147420, 954806, 1.8, 38, 83, 4.25, 331),\n",
       " (4, 'Indonesia', 273523615, 1.07, 2898047, 151, 1811570, -98955, 2.3, 30, 56, 3.51, 273.52),\n",
       " (5, 'Pakistan', 220892340, 2, 4327022, 287, 770880, -233379, 3.6, 23, 35, 2.83, 220.89)]"
      ]
     },
     "execution_count": 336,
     "metadata": {},
     "output_type": "execute_result"
    }
   ],
   "source": [
    "%%sql \n",
    "-- test the final table\n",
    "SELECT * \n",
    "  FROM populations\n",
    " LIMIT 5;"
   ]
  },
  {
   "cell_type": "code",
   "execution_count": null,
   "metadata": {},
   "outputs": [],
   "source": []
  }
 ],
 "metadata": {
  "kernelspec": {
   "display_name": "Python 3",
   "language": "python",
   "name": "python3"
  },
  "language_info": {
   "codemirror_mode": {
    "name": "ipython",
    "version": 3
   },
   "file_extension": ".py",
   "mimetype": "text/x-python",
   "name": "python",
   "nbconvert_exporter": "python",
   "pygments_lexer": "ipython3",
   "version": "3.7.3"
  }
 },
 "nbformat": 4,
 "nbformat_minor": 4
}
