{
 "cells": [
  {
   "cell_type": "markdown",
   "metadata": {},
   "source": [
    "# EDA Covid 19\n",
    "***"
   ]
  },
  {
   "cell_type": "code",
   "execution_count": 26,
   "metadata": {},
   "outputs": [],
   "source": [
    "# add index"
   ]
  },
  {
   "cell_type": "markdown",
   "metadata": {},
   "source": [
    "#### Quality Notes\n",
    "* Recovered not always reported consistently by countries (i.e. lower than reality for NL/BE - two countries we can observe)\n",
    "* 7-Day Moving Average on daily reported numbers show a cleaner trend\n",
    "* Overall comparison between countries does not make much sense given their population; best to scale to numbers per million inhavitants (as is common for these datasets)\n"
   ]
  },
  {
   "cell_type": "markdown",
   "metadata": {},
   "source": [
    "## Introduction\n",
    "***\n",
    "Analyse the data provided using exploratory visuals. Key aspects:\n",
    "* What is the overall status today (totals)?\n",
    "* How are countries performing? (and how has covid progressed)?\n",
    "* What is the total daily increase? (with moving average)\n",
    "* What is the effect scaled to the population?\n",
    "* What is the mortality rate?\n",
    "* Metric A: per country scaling over log-scale (minutephysics plot)\n",
    "* Metrics B: growth KPI assessment (Stacey Barr)\n",
    "\n",
    "Interesting countries:\n",
    "* Netherlands\n",
    "* Belgium\n",
    "* Italy\n",
    "* Spain\n",
    "* China\n",
    "* Malaysia\n",
    "* United Kingdom\n",
    "* United States\n"
   ]
  },
  {
   "cell_type": "code",
   "execution_count": 148,
   "metadata": {},
   "outputs": [
    {
     "name": "stdout",
     "output_type": "stream",
     "text": [
      "The sql extension is already loaded. To reload it, use:\n",
      "  %reload_ext sql\n",
      "The autoreload extension is already loaded. To reload it, use:\n",
      "  %reload_ext autoreload\n"
     ]
    }
   ],
   "source": [
    "import numpy as np\n",
    "import pandas as pd\n",
    "\n",
    "import matplotlib.pyplot as plt\n",
    "%matplotlib inline\n",
    "\n",
    "import seaborn as sns\n",
    "sns.set()\n",
    "\n",
    "from sqlalchemy import create_engine\n",
    "%load_ext sql\n",
    "\n",
    "%load_ext autoreload\n",
    "%autoreload 2"
   ]
  },
  {
   "cell_type": "code",
   "execution_count": 213,
   "metadata": {},
   "outputs": [
    {
     "data": {
      "text/html": [
       "\n",
       "    <div class=\"bk-root\">\n",
       "        <a href=\"https://bokeh.org\" target=\"_blank\" class=\"bk-logo bk-logo-small bk-logo-notebook\"></a>\n",
       "        <span id=\"20653\">Loading BokehJS ...</span>\n",
       "    </div>"
      ]
     },
     "metadata": {},
     "output_type": "display_data"
    },
    {
     "data": {
      "application/javascript": [
       "\n",
       "(function(root) {\n",
       "  function now() {\n",
       "    return new Date();\n",
       "  }\n",
       "\n",
       "  var force = true;\n",
       "\n",
       "  if (typeof root._bokeh_onload_callbacks === \"undefined\" || force === true) {\n",
       "    root._bokeh_onload_callbacks = [];\n",
       "    root._bokeh_is_loading = undefined;\n",
       "  }\n",
       "\n",
       "  var JS_MIME_TYPE = 'application/javascript';\n",
       "  var HTML_MIME_TYPE = 'text/html';\n",
       "  var EXEC_MIME_TYPE = 'application/vnd.bokehjs_exec.v0+json';\n",
       "  var CLASS_NAME = 'output_bokeh rendered_html';\n",
       "\n",
       "  /**\n",
       "   * Render data to the DOM node\n",
       "   */\n",
       "  function render(props, node) {\n",
       "    var script = document.createElement(\"script\");\n",
       "    node.appendChild(script);\n",
       "  }\n",
       "\n",
       "  /**\n",
       "   * Handle when an output is cleared or removed\n",
       "   */\n",
       "  function handleClearOutput(event, handle) {\n",
       "    var cell = handle.cell;\n",
       "\n",
       "    var id = cell.output_area._bokeh_element_id;\n",
       "    var server_id = cell.output_area._bokeh_server_id;\n",
       "    // Clean up Bokeh references\n",
       "    if (id != null && id in Bokeh.index) {\n",
       "      Bokeh.index[id].model.document.clear();\n",
       "      delete Bokeh.index[id];\n",
       "    }\n",
       "\n",
       "    if (server_id !== undefined) {\n",
       "      // Clean up Bokeh references\n",
       "      var cmd = \"from bokeh.io.state import curstate; print(curstate().uuid_to_server['\" + server_id + \"'].get_sessions()[0].document.roots[0]._id)\";\n",
       "      cell.notebook.kernel.execute(cmd, {\n",
       "        iopub: {\n",
       "          output: function(msg) {\n",
       "            var id = msg.content.text.trim();\n",
       "            if (id in Bokeh.index) {\n",
       "              Bokeh.index[id].model.document.clear();\n",
       "              delete Bokeh.index[id];\n",
       "            }\n",
       "          }\n",
       "        }\n",
       "      });\n",
       "      // Destroy server and session\n",
       "      var cmd = \"import bokeh.io.notebook as ion; ion.destroy_server('\" + server_id + \"')\";\n",
       "      cell.notebook.kernel.execute(cmd);\n",
       "    }\n",
       "  }\n",
       "\n",
       "  /**\n",
       "   * Handle when a new output is added\n",
       "   */\n",
       "  function handleAddOutput(event, handle) {\n",
       "    var output_area = handle.output_area;\n",
       "    var output = handle.output;\n",
       "\n",
       "    // limit handleAddOutput to display_data with EXEC_MIME_TYPE content only\n",
       "    if ((output.output_type != \"display_data\") || (!output.data.hasOwnProperty(EXEC_MIME_TYPE))) {\n",
       "      return\n",
       "    }\n",
       "\n",
       "    var toinsert = output_area.element.find(\".\" + CLASS_NAME.split(' ')[0]);\n",
       "\n",
       "    if (output.metadata[EXEC_MIME_TYPE][\"id\"] !== undefined) {\n",
       "      toinsert[toinsert.length - 1].firstChild.textContent = output.data[JS_MIME_TYPE];\n",
       "      // store reference to embed id on output_area\n",
       "      output_area._bokeh_element_id = output.metadata[EXEC_MIME_TYPE][\"id\"];\n",
       "    }\n",
       "    if (output.metadata[EXEC_MIME_TYPE][\"server_id\"] !== undefined) {\n",
       "      var bk_div = document.createElement(\"div\");\n",
       "      bk_div.innerHTML = output.data[HTML_MIME_TYPE];\n",
       "      var script_attrs = bk_div.children[0].attributes;\n",
       "      for (var i = 0; i < script_attrs.length; i++) {\n",
       "        toinsert[toinsert.length - 1].firstChild.setAttribute(script_attrs[i].name, script_attrs[i].value);\n",
       "        toinsert[toinsert.length - 1].firstChild.textContent = bk_div.children[0].textContent\n",
       "      }\n",
       "      // store reference to server id on output_area\n",
       "      output_area._bokeh_server_id = output.metadata[EXEC_MIME_TYPE][\"server_id\"];\n",
       "    }\n",
       "  }\n",
       "\n",
       "  function register_renderer(events, OutputArea) {\n",
       "\n",
       "    function append_mime(data, metadata, element) {\n",
       "      // create a DOM node to render to\n",
       "      var toinsert = this.create_output_subarea(\n",
       "        metadata,\n",
       "        CLASS_NAME,\n",
       "        EXEC_MIME_TYPE\n",
       "      );\n",
       "      this.keyboard_manager.register_events(toinsert);\n",
       "      // Render to node\n",
       "      var props = {data: data, metadata: metadata[EXEC_MIME_TYPE]};\n",
       "      render(props, toinsert[toinsert.length - 1]);\n",
       "      element.append(toinsert);\n",
       "      return toinsert\n",
       "    }\n",
       "\n",
       "    /* Handle when an output is cleared or removed */\n",
       "    events.on('clear_output.CodeCell', handleClearOutput);\n",
       "    events.on('delete.Cell', handleClearOutput);\n",
       "\n",
       "    /* Handle when a new output is added */\n",
       "    events.on('output_added.OutputArea', handleAddOutput);\n",
       "\n",
       "    /**\n",
       "     * Register the mime type and append_mime function with output_area\n",
       "     */\n",
       "    OutputArea.prototype.register_mime_type(EXEC_MIME_TYPE, append_mime, {\n",
       "      /* Is output safe? */\n",
       "      safe: true,\n",
       "      /* Index of renderer in `output_area.display_order` */\n",
       "      index: 0\n",
       "    });\n",
       "  }\n",
       "\n",
       "  // register the mime type if in Jupyter Notebook environment and previously unregistered\n",
       "  if (root.Jupyter !== undefined) {\n",
       "    var events = require('base/js/events');\n",
       "    var OutputArea = require('notebook/js/outputarea').OutputArea;\n",
       "\n",
       "    if (OutputArea.prototype.mime_types().indexOf(EXEC_MIME_TYPE) == -1) {\n",
       "      register_renderer(events, OutputArea);\n",
       "    }\n",
       "  }\n",
       "\n",
       "  \n",
       "  if (typeof (root._bokeh_timeout) === \"undefined\" || force === true) {\n",
       "    root._bokeh_timeout = Date.now() + 5000;\n",
       "    root._bokeh_failed_load = false;\n",
       "  }\n",
       "\n",
       "  var NB_LOAD_WARNING = {'data': {'text/html':\n",
       "     \"<div style='background-color: #fdd'>\\n\"+\n",
       "     \"<p>\\n\"+\n",
       "     \"BokehJS does not appear to have successfully loaded. If loading BokehJS from CDN, this \\n\"+\n",
       "     \"may be due to a slow or bad network connection. Possible fixes:\\n\"+\n",
       "     \"</p>\\n\"+\n",
       "     \"<ul>\\n\"+\n",
       "     \"<li>re-rerun `output_notebook()` to attempt to load from CDN again, or</li>\\n\"+\n",
       "     \"<li>use INLINE resources instead, as so:</li>\\n\"+\n",
       "     \"</ul>\\n\"+\n",
       "     \"<code>\\n\"+\n",
       "     \"from bokeh.resources import INLINE\\n\"+\n",
       "     \"output_notebook(resources=INLINE)\\n\"+\n",
       "     \"</code>\\n\"+\n",
       "     \"</div>\"}};\n",
       "\n",
       "  function display_loaded() {\n",
       "    var el = document.getElementById(\"20653\");\n",
       "    if (el != null) {\n",
       "      el.textContent = \"BokehJS is loading...\";\n",
       "    }\n",
       "    if (root.Bokeh !== undefined) {\n",
       "      if (el != null) {\n",
       "        el.textContent = \"BokehJS \" + root.Bokeh.version + \" successfully loaded.\";\n",
       "      }\n",
       "    } else if (Date.now() < root._bokeh_timeout) {\n",
       "      setTimeout(display_loaded, 100)\n",
       "    }\n",
       "  }\n",
       "\n",
       "\n",
       "  function run_callbacks() {\n",
       "    try {\n",
       "      root._bokeh_onload_callbacks.forEach(function(callback) {\n",
       "        if (callback != null)\n",
       "          callback();\n",
       "      });\n",
       "    } finally {\n",
       "      delete root._bokeh_onload_callbacks\n",
       "    }\n",
       "    console.debug(\"Bokeh: all callbacks have finished\");\n",
       "  }\n",
       "\n",
       "  function load_libs(css_urls, js_urls, callback) {\n",
       "    if (css_urls == null) css_urls = [];\n",
       "    if (js_urls == null) js_urls = [];\n",
       "\n",
       "    root._bokeh_onload_callbacks.push(callback);\n",
       "    if (root._bokeh_is_loading > 0) {\n",
       "      console.debug(\"Bokeh: BokehJS is being loaded, scheduling callback at\", now());\n",
       "      return null;\n",
       "    }\n",
       "    if (js_urls == null || js_urls.length === 0) {\n",
       "      run_callbacks();\n",
       "      return null;\n",
       "    }\n",
       "    console.debug(\"Bokeh: BokehJS not loaded, scheduling load and callback at\", now());\n",
       "    root._bokeh_is_loading = css_urls.length + js_urls.length;\n",
       "\n",
       "    function on_load() {\n",
       "      root._bokeh_is_loading--;\n",
       "      if (root._bokeh_is_loading === 0) {\n",
       "        console.debug(\"Bokeh: all BokehJS libraries/stylesheets loaded\");\n",
       "        run_callbacks()\n",
       "      }\n",
       "    }\n",
       "\n",
       "    function on_error() {\n",
       "      console.error(\"failed to load \" + url);\n",
       "    }\n",
       "\n",
       "    for (var i = 0; i < css_urls.length; i++) {\n",
       "      var url = css_urls[i];\n",
       "      const element = document.createElement(\"link\");\n",
       "      element.onload = on_load;\n",
       "      element.onerror = on_error;\n",
       "      element.rel = \"stylesheet\";\n",
       "      element.type = \"text/css\";\n",
       "      element.href = url;\n",
       "      console.debug(\"Bokeh: injecting link tag for BokehJS stylesheet: \", url);\n",
       "      document.body.appendChild(element);\n",
       "    }\n",
       "\n",
       "    const hashes = {\"https://cdn.bokeh.org/bokeh/release/bokeh-2.0.2.min.js\": \"ufR9RFnRs6lniiaFvtJziE0YeidtAgBRH6ux2oUItHw5WTvE1zuk9uzhUU/FJXDp\", \"https://cdn.bokeh.org/bokeh/release/bokeh-widgets-2.0.2.min.js\": \"8QM/PGWBT+IssZuRcDcjzwIh1mkOmJSoNMmyYDZbCfXJg3Ap1lEvdVgFuSAwhb/J\", \"https://cdn.bokeh.org/bokeh/release/bokeh-tables-2.0.2.min.js\": \"Jm8cH3Rg0P6UeZhVY5cLy1WzKajUT9KImCY+76hEqrcJt59/d8GPvFHjCkYgnSIn\", \"https://cdn.bokeh.org/bokeh/release/bokeh-gl-2.0.2.min.js\": \"Ozhzj+SI7ywm74aOI/UajcWz+C0NjsPunEVyVIrxzYkB+jA+2tUw8x5xJCbVtK5I\"};\n",
       "\n",
       "    for (var i = 0; i < js_urls.length; i++) {\n",
       "      var url = js_urls[i];\n",
       "      var element = document.createElement('script');\n",
       "      element.onload = on_load;\n",
       "      element.onerror = on_error;\n",
       "      element.async = false;\n",
       "      element.src = url;\n",
       "      if (url in hashes) {\n",
       "        element.crossOrigin = \"anonymous\";\n",
       "        element.integrity = \"sha384-\" + hashes[url];\n",
       "      }\n",
       "      console.debug(\"Bokeh: injecting script tag for BokehJS library: \", url);\n",
       "      document.head.appendChild(element);\n",
       "    }\n",
       "  };\n",
       "\n",
       "  function inject_raw_css(css) {\n",
       "    const element = document.createElement(\"style\");\n",
       "    element.appendChild(document.createTextNode(css));\n",
       "    document.body.appendChild(element);\n",
       "  }\n",
       "\n",
       "  \n",
       "  var js_urls = [\"https://cdn.bokeh.org/bokeh/release/bokeh-2.0.2.min.js\", \"https://cdn.bokeh.org/bokeh/release/bokeh-widgets-2.0.2.min.js\", \"https://cdn.bokeh.org/bokeh/release/bokeh-tables-2.0.2.min.js\", \"https://cdn.bokeh.org/bokeh/release/bokeh-gl-2.0.2.min.js\"];\n",
       "  var css_urls = [];\n",
       "  \n",
       "\n",
       "  var inline_js = [\n",
       "    function(Bokeh) {\n",
       "      Bokeh.set_log_level(\"info\");\n",
       "    },\n",
       "    function(Bokeh) {\n",
       "    \n",
       "    \n",
       "    }\n",
       "  ];\n",
       "\n",
       "  function run_inline_js() {\n",
       "    \n",
       "    if (root.Bokeh !== undefined || force === true) {\n",
       "      \n",
       "    for (var i = 0; i < inline_js.length; i++) {\n",
       "      inline_js[i].call(root, root.Bokeh);\n",
       "    }\n",
       "    if (force === true) {\n",
       "        display_loaded();\n",
       "      }} else if (Date.now() < root._bokeh_timeout) {\n",
       "      setTimeout(run_inline_js, 100);\n",
       "    } else if (!root._bokeh_failed_load) {\n",
       "      console.log(\"Bokeh: BokehJS failed to load within specified timeout.\");\n",
       "      root._bokeh_failed_load = true;\n",
       "    } else if (force !== true) {\n",
       "      var cell = $(document.getElementById(\"20653\")).parents('.cell').data().cell;\n",
       "      cell.output_area.append_execute_result(NB_LOAD_WARNING)\n",
       "    }\n",
       "\n",
       "  }\n",
       "\n",
       "  if (root._bokeh_is_loading === 0) {\n",
       "    console.debug(\"Bokeh: BokehJS loaded, going straight to plotting\");\n",
       "    run_inline_js();\n",
       "  } else {\n",
       "    load_libs(css_urls, js_urls, function() {\n",
       "      console.debug(\"Bokeh: BokehJS plotting callback run at\", now());\n",
       "      run_inline_js();\n",
       "    });\n",
       "  }\n",
       "}(window));"
      ],
      "application/vnd.bokehjs_load.v0+json": "\n(function(root) {\n  function now() {\n    return new Date();\n  }\n\n  var force = true;\n\n  if (typeof root._bokeh_onload_callbacks === \"undefined\" || force === true) {\n    root._bokeh_onload_callbacks = [];\n    root._bokeh_is_loading = undefined;\n  }\n\n  \n\n  \n  if (typeof (root._bokeh_timeout) === \"undefined\" || force === true) {\n    root._bokeh_timeout = Date.now() + 5000;\n    root._bokeh_failed_load = false;\n  }\n\n  var NB_LOAD_WARNING = {'data': {'text/html':\n     \"<div style='background-color: #fdd'>\\n\"+\n     \"<p>\\n\"+\n     \"BokehJS does not appear to have successfully loaded. If loading BokehJS from CDN, this \\n\"+\n     \"may be due to a slow or bad network connection. Possible fixes:\\n\"+\n     \"</p>\\n\"+\n     \"<ul>\\n\"+\n     \"<li>re-rerun `output_notebook()` to attempt to load from CDN again, or</li>\\n\"+\n     \"<li>use INLINE resources instead, as so:</li>\\n\"+\n     \"</ul>\\n\"+\n     \"<code>\\n\"+\n     \"from bokeh.resources import INLINE\\n\"+\n     \"output_notebook(resources=INLINE)\\n\"+\n     \"</code>\\n\"+\n     \"</div>\"}};\n\n  function display_loaded() {\n    var el = document.getElementById(\"20653\");\n    if (el != null) {\n      el.textContent = \"BokehJS is loading...\";\n    }\n    if (root.Bokeh !== undefined) {\n      if (el != null) {\n        el.textContent = \"BokehJS \" + root.Bokeh.version + \" successfully loaded.\";\n      }\n    } else if (Date.now() < root._bokeh_timeout) {\n      setTimeout(display_loaded, 100)\n    }\n  }\n\n\n  function run_callbacks() {\n    try {\n      root._bokeh_onload_callbacks.forEach(function(callback) {\n        if (callback != null)\n          callback();\n      });\n    } finally {\n      delete root._bokeh_onload_callbacks\n    }\n    console.debug(\"Bokeh: all callbacks have finished\");\n  }\n\n  function load_libs(css_urls, js_urls, callback) {\n    if (css_urls == null) css_urls = [];\n    if (js_urls == null) js_urls = [];\n\n    root._bokeh_onload_callbacks.push(callback);\n    if (root._bokeh_is_loading > 0) {\n      console.debug(\"Bokeh: BokehJS is being loaded, scheduling callback at\", now());\n      return null;\n    }\n    if (js_urls == null || js_urls.length === 0) {\n      run_callbacks();\n      return null;\n    }\n    console.debug(\"Bokeh: BokehJS not loaded, scheduling load and callback at\", now());\n    root._bokeh_is_loading = css_urls.length + js_urls.length;\n\n    function on_load() {\n      root._bokeh_is_loading--;\n      if (root._bokeh_is_loading === 0) {\n        console.debug(\"Bokeh: all BokehJS libraries/stylesheets loaded\");\n        run_callbacks()\n      }\n    }\n\n    function on_error() {\n      console.error(\"failed to load \" + url);\n    }\n\n    for (var i = 0; i < css_urls.length; i++) {\n      var url = css_urls[i];\n      const element = document.createElement(\"link\");\n      element.onload = on_load;\n      element.onerror = on_error;\n      element.rel = \"stylesheet\";\n      element.type = \"text/css\";\n      element.href = url;\n      console.debug(\"Bokeh: injecting link tag for BokehJS stylesheet: \", url);\n      document.body.appendChild(element);\n    }\n\n    const hashes = {\"https://cdn.bokeh.org/bokeh/release/bokeh-2.0.2.min.js\": \"ufR9RFnRs6lniiaFvtJziE0YeidtAgBRH6ux2oUItHw5WTvE1zuk9uzhUU/FJXDp\", \"https://cdn.bokeh.org/bokeh/release/bokeh-widgets-2.0.2.min.js\": \"8QM/PGWBT+IssZuRcDcjzwIh1mkOmJSoNMmyYDZbCfXJg3Ap1lEvdVgFuSAwhb/J\", \"https://cdn.bokeh.org/bokeh/release/bokeh-tables-2.0.2.min.js\": \"Jm8cH3Rg0P6UeZhVY5cLy1WzKajUT9KImCY+76hEqrcJt59/d8GPvFHjCkYgnSIn\", \"https://cdn.bokeh.org/bokeh/release/bokeh-gl-2.0.2.min.js\": \"Ozhzj+SI7ywm74aOI/UajcWz+C0NjsPunEVyVIrxzYkB+jA+2tUw8x5xJCbVtK5I\"};\n\n    for (var i = 0; i < js_urls.length; i++) {\n      var url = js_urls[i];\n      var element = document.createElement('script');\n      element.onload = on_load;\n      element.onerror = on_error;\n      element.async = false;\n      element.src = url;\n      if (url in hashes) {\n        element.crossOrigin = \"anonymous\";\n        element.integrity = \"sha384-\" + hashes[url];\n      }\n      console.debug(\"Bokeh: injecting script tag for BokehJS library: \", url);\n      document.head.appendChild(element);\n    }\n  };\n\n  function inject_raw_css(css) {\n    const element = document.createElement(\"style\");\n    element.appendChild(document.createTextNode(css));\n    document.body.appendChild(element);\n  }\n\n  \n  var js_urls = [\"https://cdn.bokeh.org/bokeh/release/bokeh-2.0.2.min.js\", \"https://cdn.bokeh.org/bokeh/release/bokeh-widgets-2.0.2.min.js\", \"https://cdn.bokeh.org/bokeh/release/bokeh-tables-2.0.2.min.js\", \"https://cdn.bokeh.org/bokeh/release/bokeh-gl-2.0.2.min.js\"];\n  var css_urls = [];\n  \n\n  var inline_js = [\n    function(Bokeh) {\n      Bokeh.set_log_level(\"info\");\n    },\n    function(Bokeh) {\n    \n    \n    }\n  ];\n\n  function run_inline_js() {\n    \n    if (root.Bokeh !== undefined || force === true) {\n      \n    for (var i = 0; i < inline_js.length; i++) {\n      inline_js[i].call(root, root.Bokeh);\n    }\n    if (force === true) {\n        display_loaded();\n      }} else if (Date.now() < root._bokeh_timeout) {\n      setTimeout(run_inline_js, 100);\n    } else if (!root._bokeh_failed_load) {\n      console.log(\"Bokeh: BokehJS failed to load within specified timeout.\");\n      root._bokeh_failed_load = true;\n    } else if (force !== true) {\n      var cell = $(document.getElementById(\"20653\")).parents('.cell').data().cell;\n      cell.output_area.append_execute_result(NB_LOAD_WARNING)\n    }\n\n  }\n\n  if (root._bokeh_is_loading === 0) {\n    console.debug(\"Bokeh: BokehJS loaded, going straight to plotting\");\n    run_inline_js();\n  } else {\n    load_libs(css_urls, js_urls, function() {\n      console.debug(\"Bokeh: BokehJS plotting callback run at\", now());\n      run_inline_js();\n    });\n  }\n}(window));"
     },
     "metadata": {},
     "output_type": "display_data"
    }
   ],
   "source": [
    "# load bokeh\n",
    "from bokeh.io import output_notebook\n",
    "from bokeh.plotting import figure, show \n",
    "from bokeh.models import Range1d, ColumnDataSource, CategoricalColorMapper\n",
    "from bokeh.palettes import RdBu3\n",
    "\n",
    "output_notebook()"
   ]
  },
  {
   "cell_type": "code",
   "execution_count": 150,
   "metadata": {},
   "outputs": [
    {
     "name": "stdout",
     "output_type": "stream",
     "text": [
      "sqlite:///../data/processed/covid.sqlite\n"
     ]
    }
   ],
   "source": [
    "# function for querying db\n",
    "from src.data.query_db import queryDB\n",
    "qdb = queryDB('sqlite','../data/processed/covid.sqlite')"
   ]
  },
  {
   "cell_type": "code",
   "execution_count": 151,
   "metadata": {},
   "outputs": [
    {
     "name": "stdout",
     "output_type": "stream",
     "text": [
      "5 rows affected\n"
     ]
    },
    {
     "data": {
      "text/html": [
       "<div>\n",
       "<style scoped>\n",
       "    .dataframe tbody tr th:only-of-type {\n",
       "        vertical-align: middle;\n",
       "    }\n",
       "\n",
       "    .dataframe tbody tr th {\n",
       "        vertical-align: top;\n",
       "    }\n",
       "\n",
       "    .dataframe thead th {\n",
       "        text-align: right;\n",
       "    }\n",
       "</style>\n",
       "<table border=\"1\" class=\"dataframe\">\n",
       "  <thead>\n",
       "    <tr style=\"text-align: right;\">\n",
       "      <th></th>\n",
       "      <th>country</th>\n",
       "      <th>date</th>\n",
       "      <th>confirmed</th>\n",
       "      <th>death</th>\n",
       "      <th>recovered</th>\n",
       "    </tr>\n",
       "  </thead>\n",
       "  <tbody>\n",
       "    <tr>\n",
       "      <th>0</th>\n",
       "      <td>Afghanistan</td>\n",
       "      <td>2020-01-22</td>\n",
       "      <td>0</td>\n",
       "      <td>0</td>\n",
       "      <td>0</td>\n",
       "    </tr>\n",
       "    <tr>\n",
       "      <th>1</th>\n",
       "      <td>Albania</td>\n",
       "      <td>2020-01-22</td>\n",
       "      <td>0</td>\n",
       "      <td>0</td>\n",
       "      <td>0</td>\n",
       "    </tr>\n",
       "    <tr>\n",
       "      <th>2</th>\n",
       "      <td>Algeria</td>\n",
       "      <td>2020-01-22</td>\n",
       "      <td>0</td>\n",
       "      <td>0</td>\n",
       "      <td>0</td>\n",
       "    </tr>\n",
       "    <tr>\n",
       "      <th>3</th>\n",
       "      <td>Andorra</td>\n",
       "      <td>2020-01-22</td>\n",
       "      <td>0</td>\n",
       "      <td>0</td>\n",
       "      <td>0</td>\n",
       "    </tr>\n",
       "    <tr>\n",
       "      <th>4</th>\n",
       "      <td>Angola</td>\n",
       "      <td>2020-01-22</td>\n",
       "      <td>0</td>\n",
       "      <td>0</td>\n",
       "      <td>0</td>\n",
       "    </tr>\n",
       "  </tbody>\n",
       "</table>\n",
       "</div>"
      ],
      "text/plain": [
       "       country       date  confirmed  death  recovered\n",
       "0  Afghanistan 2020-01-22          0      0          0\n",
       "1      Albania 2020-01-22          0      0          0\n",
       "2      Algeria 2020-01-22          0      0          0\n",
       "3      Andorra 2020-01-22          0      0          0\n",
       "4       Angola 2020-01-22          0      0          0"
      ]
     },
     "execution_count": 151,
     "metadata": {},
     "output_type": "execute_result"
    }
   ],
   "source": [
    "# quick check\n",
    "qdb.execute_query('SELECT * FROM stats LIMIT 5;')"
   ]
  },
  {
   "cell_type": "markdown",
   "metadata": {},
   "source": [
    "### 1. Total Numbers"
   ]
  },
  {
   "cell_type": "code",
   "execution_count": 6,
   "metadata": {},
   "outputs": [
    {
     "name": "stdout",
     "output_type": "stream",
     "text": [
      "112 rows affected\n"
     ]
    }
   ],
   "source": [
    "# get overall numbers\n",
    "query = \"\"\"\n",
    "SELECT \n",
    "    DATE(date) AS date,\n",
    "    SUM(confirmed) AS confirmed,\n",
    "    SUM(death) AS death,\n",
    "    SUM(recovered) AS recovered\n",
    "FROM stats\n",
    "GROUP BY date\n",
    "ORDER BY date DESC;\n",
    "\"\"\"\n",
    "\n",
    "overall = qdb.execute_query(query)"
   ]
  },
  {
   "cell_type": "code",
   "execution_count": 7,
   "metadata": {},
   "outputs": [
    {
     "data": {
      "text/html": [
       "\n",
       "\n",
       "\n",
       "\n",
       "\n",
       "\n",
       "  <div class=\"bk-root\" id=\"967558e9-554d-4218-86cb-8c8a007580ad\" data-root-id=\"1003\"></div>\n"
      ]
     },
     "metadata": {},
     "output_type": "display_data"
    },
    {
     "data": {
      "application/javascript": [
       "(function(root) {\n",
       "  function embed_document(root) {\n",
       "    \n",
       "  var docs_json = {\"0a86391e-4522-4cff-b36e-4c44493cce0e\":{\"roots\":{\"references\":[{\"attributes\":{\"below\":[{\"id\":\"1014\"}],\"center\":[{\"id\":\"1017\"},{\"id\":\"1021\"},{\"id\":\"1059\"}],\"left\":[{\"id\":\"1018\"}],\"plot_height\":400,\"plot_width\":700,\"renderers\":[{\"id\":\"1039\"},{\"id\":\"1064\"},{\"id\":\"1090\"}],\"title\":{\"id\":\"1004\"},\"toolbar\":{\"id\":\"1029\"},\"x_range\":{\"id\":\"1006\"},\"x_scale\":{\"id\":\"1010\"},\"y_range\":{\"id\":\"1008\"},\"y_scale\":{\"id\":\"1012\"}},\"id\":\"1003\",\"subtype\":\"Figure\",\"type\":\"Plot\"},{\"attributes\":{\"axis_label\":\"Persons\",\"formatter\":{\"id\":\"1045\"},\"ticker\":{\"id\":\"1019\"}},\"id\":\"1018\",\"type\":\"LinearAxis\"},{\"attributes\":{},\"id\":\"1073\",\"type\":\"Selection\"},{\"attributes\":{},\"id\":\"1019\",\"type\":\"BasicTicker\"},{\"attributes\":{\"label\":{\"value\":\"death\"},\"renderers\":[{\"id\":\"1064\"}]},\"id\":\"1086\",\"type\":\"LegendItem\"},{\"attributes\":{\"axis\":{\"id\":\"1018\"},\"dimension\":1,\"ticker\":null},\"id\":\"1021\",\"type\":\"Grid\"},{\"attributes\":{\"data_source\":{\"id\":\"1002\"},\"glyph\":{\"id\":\"1088\"},\"hover_glyph\":null,\"muted_glyph\":null,\"nonselection_glyph\":{\"id\":\"1089\"},\"selection_glyph\":null,\"view\":{\"id\":\"1091\"}},\"id\":\"1090\",\"type\":\"GlyphRenderer\"},{\"attributes\":{\"axis\":{\"id\":\"1014\"},\"ticker\":null},\"id\":\"1017\",\"type\":\"Grid\"},{\"attributes\":{\"base\":60,\"mantissas\":[1,2,5,10,15,20,30],\"max_interval\":1800000.0,\"min_interval\":1000.0,\"num_minor_ticks\":0},\"id\":\"1048\",\"type\":\"AdaptiveTicker\"},{\"attributes\":{\"base\":24,\"mantissas\":[1,2,4,6,8,12],\"max_interval\":43200000.0,\"min_interval\":3600000.0,\"num_minor_ticks\":0},\"id\":\"1049\",\"type\":\"AdaptiveTicker\"},{\"attributes\":{\"line_alpha\":0.1,\"line_color\":\"red\",\"line_width\":2,\"x\":{\"field\":\"date\"},\"y\":{\"field\":\"confirmed\"}},\"id\":\"1038\",\"type\":\"Line\"},{\"attributes\":{\"days\":[1,2,3,4,5,6,7,8,9,10,11,12,13,14,15,16,17,18,19,20,21,22,23,24,25,26,27,28,29,30,31]},\"id\":\"1050\",\"type\":\"DaysTicker\"},{\"attributes\":{\"label\":{\"value\":\"recovered\"},\"renderers\":[{\"id\":\"1090\"}]},\"id\":\"1112\",\"type\":\"LegendItem\"},{\"attributes\":{\"days\":[1,15]},\"id\":\"1053\",\"type\":\"DaysTicker\"},{\"attributes\":{},\"id\":\"1022\",\"type\":\"PanTool\"},{\"attributes\":{},\"id\":\"1010\",\"type\":\"LinearScale\"},{\"attributes\":{},\"id\":\"1012\",\"type\":\"LinearScale\"},{\"attributes\":{\"months\":[0,1,2,3,4,5,6,7,8,9,10,11]},\"id\":\"1054\",\"type\":\"MonthsTicker\"},{\"attributes\":{},\"id\":\"1023\",\"type\":\"WheelZoomTool\"},{\"attributes\":{\"line_color\":\"green\",\"line_width\":2,\"x\":{\"field\":\"date\"},\"y\":{\"field\":\"recovered\"}},\"id\":\"1088\",\"type\":\"Line\"},{\"attributes\":{\"source\":{\"id\":\"1002\"}},\"id\":\"1091\",\"type\":\"CDSView\"},{\"attributes\":{\"months\":[0,2,4,6,8,10]},\"id\":\"1055\",\"type\":\"MonthsTicker\"},{\"attributes\":{\"overlay\":{\"id\":\"1028\"}},\"id\":\"1024\",\"type\":\"BoxZoomTool\"},{\"attributes\":{\"data\":{\"confirmed\":[4260107,4175897,4100108,4022426,3936482,3844136,3754492,3661114,3581479,3505157,3426040,3344031,3255383,3170767,3095718,3022221,2953549,2879688,2794307,2707013,2623257,2547721,2470408,2399505,2316012,2238433,2150622,2054316,1974458,1904156,1834141,1735028,1656979,1564650,1479327,1395547,1320570,1248877,1175203,1095046,1012631,931804,856782,781692,719482,660048,592661,528939,467039,417394,377570,336306,303868,271551,241919,214163,196428,180918,166764,155412,144517,127646,125169,117914,112884,109115,105141,101095,97180,94414,92134,89601,87664,85306,83407,82041,80683,79715,78870,78267,77938,76185,75563,75018,74594,72804,70869,68745,66667,60193,45046,44667,42627,40086,37059,34330,30794,27635,23892,19881,16787,12038,9927,8234,6166,5578,2927,2118,1434,941,654,555],\"date\":{\"__ndarray__\":\"AACA5WIgd0IAAMB/ECB3QgAAABq+H3dCAABAtGsfd0IAAIBOGR93QgAAwOjGHndCAAAAg3Qed0IAAEAdIh53QgAAgLfPHXdCAADAUX0dd0IAAADsKh13QgAAQIbYHHdCAACAIIYcd0IAAMC6Mxx3QgAAAFXhG3dCAABA744bd0IAAICJPBt3QgAAwCPqGndCAAAAvpcad0IAAEBYRRp3QgAAgPLyGXdCAADAjKAZd0IAAAAnThl3QgAAQMH7GHdCAACAW6kYd0IAAMD1Vhh3QgAAAJAEGHdCAABAKrIXd0IAAIDEXxd3QgAAwF4NF3dCAAAA+boWd0IAAECTaBZ3QgAAgC0WFndCAADAx8MVd0IAAABicRV3QgAAQPweFXdCAACAlswUd0IAAMAwehR3QgAAAMsnFHdCAABAZdUTd0IAAID/ghN3QgAAwJkwE3dCAAAANN4Sd0IAAEDOixJ3QgAAgGg5EndCAADAAucRd0IAAACdlBF3QgAAQDdCEXdCAACA0e8Qd0IAAMBrnRB3QgAAAAZLEHdCAABAoPgPd0IAAIA6pg93QgAAwNRTD3dCAAAAbwEPd0IAAEAJrw53QgAAgKNcDndCAADAPQoOd0IAAADYtw13QgAAQHJlDXdCAACADBMNd0IAAMCmwAx3QgAAAEFuDHdCAABA2xsMd0IAAIB1yQt3QgAAwA93C3dCAAAAqiQLd0IAAEBE0gp3QgAAgN5/CndCAADAeC0Kd0IAAAAT2wl3QgAAQK2ICXdCAACARzYJd0IAAMDh4wh3QgAAAHyRCHdCAABAFj8Id0IAAICw7Ad3QgAAwEqaB3dCAAAA5UcHd0IAAEB/9QZ3QgAAgBmjBndCAADAs1AGd0IAAABO/gV3QgAAQOirBXdCAACAglkFd0IAAMAcBwV3QgAAALe0BHdCAABAUWIEd0IAAIDrDwR3QgAAwIW9A3dCAAAAIGsDd0IAAEC6GAN3QgAAgFTGAndCAADA7nMCd0IAAACJIQJ3QgAAQCPPAXdCAACAvXwBd0IAAMBXKgF3QgAAAPLXAHdCAABAjIUAd0IAAIAmMwB3QgAAwMDg/3ZCAAAAW47/dkIAAED1O/92QgAAgI/p/nZCAADAKZf+dkIAAADERP52QgAAQF7y/XZCAACA+J/9dkIAAMCSTf12QgAAAC37/HZCAABAx6j8dkI=\",\"dtype\":\"float64\",\"shape\":[112]},\"death\":[291898,286287,282666,279268,274856,269525,263814,257198,251496,247433,243776,238582,233323,227628,220764,214407,209864,206152,199963,193631,186879,180203,173067,167745,163187,156777,147921,140637,132417,125541,119833,114126,108093,100864,93336,86645,78753,73063,67967,61798,55803,49661,44227,39428,35312,31787,28277,24777,21775,19004,16751,14817,13117,11415,9939,8816,7949,7143,6465,5823,5401,4715,4607,4257,3981,3795,3552,3453,3341,3248,3154,3079,2990,2935,2866,2810,2766,2705,2626,2466,2456,2249,2245,2122,2007,1868,1770,1666,1523,1371,1118,1113,1013,906,806,719,634,564,492,426,362,259,213,171,133,131,82,56,42,26,18,17],\"index\":[0,1,2,3,4,5,6,7,8,9,10,11,12,13,14,15,16,17,18,19,20,21,22,23,24,25,26,27,28,29,30,31,32,33,34,35,36,37,38,39,40,41,42,43,44,45,46,47,48,49,50,51,52,53,54,55,56,57,58,59,60,61,62,63,64,65,66,67,68,69,70,71,72,73,74,75,76,77,78,79,80,81,82,83,84,85,86,87,88,89,90,91,92,93,94,95,96,97,98,99,100,101,102,103,104,105,106,107,108,109,110,111],\"recovered\":[1492092,1454903,1407676,1374357,1320843,1283534,1244278,1197697,1161676,1124210,1092156,1051499,1012970,947531,906078,872831,845174,816595,788778,738176,709264,679133,644541,622561,590982,567037,540869,509811,473275,447995,421045,401443,375433,353340,328054,299411,275892,259381,245517,225185,209640,192585,177425,163962,148478,138817,130317,121553,113200,107675,98026,97574,91367,87095,84650,82987,80515,77763,75709,72299,69926,67999,66678,64364,62454,60654,58318,55825,53786,51160,48218,45592,42706,39772,36701,33267,30374,27905,25227,23394,22885,18889,18176,16120,14352,12583,10865,9395,8058,6295,5150,4683,3946,3244,2616,2011,1487,1124,852,623,472,284,222,143,126,107,61,52,39,36,30,28]},\"selected\":{\"id\":\"1073\"},\"selection_policy\":{\"id\":\"1072\"}},\"id\":\"1002\",\"type\":\"ColumnDataSource\"},{\"attributes\":{\"months\":[0,4,8]},\"id\":\"1056\",\"type\":\"MonthsTicker\"},{\"attributes\":{},\"id\":\"1025\",\"type\":\"SaveTool\"},{\"attributes\":{\"axis_label\":\"Date\",\"formatter\":{\"id\":\"1043\"},\"ticker\":{\"id\":\"1015\"}},\"id\":\"1014\",\"type\":\"DatetimeAxis\"},{\"attributes\":{\"months\":[0,6]},\"id\":\"1057\",\"type\":\"MonthsTicker\"},{\"attributes\":{},\"id\":\"1026\",\"type\":\"ResetTool\"},{\"attributes\":{\"source\":{\"id\":\"1002\"}},\"id\":\"1040\",\"type\":\"CDSView\"},{\"attributes\":{},\"id\":\"1058\",\"type\":\"YearsTicker\"},{\"attributes\":{},\"id\":\"1027\",\"type\":\"HelpTool\"},{\"attributes\":{\"click_policy\":\"hide\",\"items\":[{\"id\":\"1060\"},{\"id\":\"1086\"},{\"id\":\"1112\"}],\"location\":\"top_left\"},\"id\":\"1059\",\"type\":\"Legend\"},{\"attributes\":{\"days\":[1,8,15,22]},\"id\":\"1052\",\"type\":\"DaysTicker\"},{\"attributes\":{\"active_drag\":\"auto\",\"active_inspect\":\"auto\",\"active_multi\":null,\"active_scroll\":\"auto\",\"active_tap\":\"auto\",\"tools\":[{\"id\":\"1022\"},{\"id\":\"1023\"},{\"id\":\"1024\"},{\"id\":\"1025\"},{\"id\":\"1026\"},{\"id\":\"1027\"}]},\"id\":\"1029\",\"type\":\"Toolbar\"},{\"attributes\":{\"line_alpha\":0.1,\"line_color\":\"green\",\"line_width\":2,\"x\":{\"field\":\"date\"},\"y\":{\"field\":\"recovered\"}},\"id\":\"1089\",\"type\":\"Line\"},{\"attributes\":{\"label\":{\"value\":\"confirmed\"},\"renderers\":[{\"id\":\"1039\"}]},\"id\":\"1060\",\"type\":\"LegendItem\"},{\"attributes\":{\"bottom_units\":\"screen\",\"fill_alpha\":0.5,\"fill_color\":\"lightgrey\",\"left_units\":\"screen\",\"level\":\"overlay\",\"line_alpha\":1.0,\"line_color\":\"black\",\"line_dash\":[4,4],\"line_width\":2,\"render_mode\":\"css\",\"right_units\":\"screen\",\"top_units\":\"screen\"},\"id\":\"1028\",\"type\":\"BoxAnnotation\"},{\"attributes\":{\"num_minor_ticks\":5,\"tickers\":[{\"id\":\"1047\"},{\"id\":\"1048\"},{\"id\":\"1049\"},{\"id\":\"1050\"},{\"id\":\"1051\"},{\"id\":\"1052\"},{\"id\":\"1053\"},{\"id\":\"1054\"},{\"id\":\"1055\"},{\"id\":\"1056\"},{\"id\":\"1057\"},{\"id\":\"1058\"}]},\"id\":\"1015\",\"type\":\"DatetimeTicker\"},{\"attributes\":{\"days\":[1,4,7,10,13,16,19,22,25,28]},\"id\":\"1051\",\"type\":\"DaysTicker\"},{\"attributes\":{\"line_alpha\":0.1,\"line_color\":\"blue\",\"line_width\":2,\"x\":{\"field\":\"date\"},\"y\":{\"field\":\"death\"}},\"id\":\"1063\",\"type\":\"Line\"},{\"attributes\":{\"data_source\":{\"id\":\"1002\"},\"glyph\":{\"id\":\"1037\"},\"hover_glyph\":null,\"muted_glyph\":null,\"nonselection_glyph\":{\"id\":\"1038\"},\"selection_glyph\":null,\"view\":{\"id\":\"1040\"}},\"id\":\"1039\",\"type\":\"GlyphRenderer\"},{\"attributes\":{},\"id\":\"1008\",\"type\":\"DataRange1d\"},{\"attributes\":{\"text\":\"Covid Progress\"},\"id\":\"1004\",\"type\":\"Title\"},{\"attributes\":{\"source\":{\"id\":\"1002\"}},\"id\":\"1065\",\"type\":\"CDSView\"},{\"attributes\":{\"line_color\":\"red\",\"line_width\":2,\"x\":{\"field\":\"date\"},\"y\":{\"field\":\"confirmed\"}},\"id\":\"1037\",\"type\":\"Line\"},{\"attributes\":{},\"id\":\"1043\",\"type\":\"DatetimeTickFormatter\"},{\"attributes\":{},\"id\":\"1072\",\"type\":\"UnionRenderers\"},{\"attributes\":{},\"id\":\"1006\",\"type\":\"DataRange1d\"},{\"attributes\":{},\"id\":\"1045\",\"type\":\"BasicTickFormatter\"},{\"attributes\":{\"line_color\":\"blue\",\"line_width\":2,\"x\":{\"field\":\"date\"},\"y\":{\"field\":\"death\"}},\"id\":\"1062\",\"type\":\"Line\"},{\"attributes\":{\"data_source\":{\"id\":\"1002\"},\"glyph\":{\"id\":\"1062\"},\"hover_glyph\":null,\"muted_glyph\":null,\"nonselection_glyph\":{\"id\":\"1063\"},\"selection_glyph\":null,\"view\":{\"id\":\"1065\"}},\"id\":\"1064\",\"type\":\"GlyphRenderer\"},{\"attributes\":{\"mantissas\":[1,2,5],\"max_interval\":500.0,\"num_minor_ticks\":0},\"id\":\"1047\",\"type\":\"AdaptiveTicker\"}],\"root_ids\":[\"1003\"]},\"title\":\"Bokeh Application\",\"version\":\"2.0.2\"}};\n",
       "  var render_items = [{\"docid\":\"0a86391e-4522-4cff-b36e-4c44493cce0e\",\"root_ids\":[\"1003\"],\"roots\":{\"1003\":\"967558e9-554d-4218-86cb-8c8a007580ad\"}}];\n",
       "  root.Bokeh.embed.embed_items_notebook(docs_json, render_items);\n",
       "\n",
       "  }\n",
       "  if (root.Bokeh !== undefined) {\n",
       "    embed_document(root);\n",
       "  } else {\n",
       "    var attempts = 0;\n",
       "    var timer = setInterval(function(root) {\n",
       "      if (root.Bokeh !== undefined) {\n",
       "        clearInterval(timer);\n",
       "        embed_document(root);\n",
       "      } else {\n",
       "        attempts++;\n",
       "        if (attempts > 100) {\n",
       "          clearInterval(timer);\n",
       "          console.log(\"Bokeh: ERROR: Unable to run BokehJS code because BokehJS library is missing\");\n",
       "        }\n",
       "      }\n",
       "    }, 10, root)\n",
       "  }\n",
       "})(window);"
      ],
      "application/vnd.bokehjs_exec.v0+json": ""
     },
     "metadata": {
      "application/vnd.bokehjs_exec.v0+json": {
       "id": "1003"
      }
     },
     "output_type": "display_data"
    }
   ],
   "source": [
    "#set source\n",
    "source = ColumnDataSource(overall)\n",
    "\n",
    "# create the plot\n",
    "p = figure(title = 'Covid Progress', \n",
    "           x_axis_type=\"datetime\",\n",
    "           x_axis_label = 'Date',\n",
    "           y_axis_label = 'Persons',\n",
    "           plot_height = 400,\n",
    "           plot_width = 700)\n",
    "\n",
    "p.line(x='date', y='confirmed', line_width=2, source=source, color='red', legend_label='confirmed')\n",
    "p.line(x='date', y='death', line_width=2, source=source, color='blue', legend_label = 'death')\n",
    "p.line(x='date', y='recovered', line_width=2, source=source, color='green', legend_label = 'recovered')\n",
    "\n",
    "\n",
    "p.legend.location = \"top_left\"\n",
    "p.legend.click_policy=\"hide\"\n",
    "\n",
    "show(p)"
   ]
  },
  {
   "cell_type": "markdown",
   "metadata": {},
   "source": [
    "#### 2. Top countries\n",
    "***"
   ]
  },
  {
   "cell_type": "code",
   "execution_count": 8,
   "metadata": {},
   "outputs": [],
   "source": [
    "# barplot with top-10 countries\n",
    "def plotTop10(data, vals = 'confirmed', title = 'Top 10 countries with Covid'):\n",
    "    #set source\n",
    "    source = ColumnDataSource(data)\n",
    "\n",
    "    p = figure(y_range=data['country'].iloc[::-1], plot_height=350, title=title,\n",
    "               toolbar_location=None, tools=\"\")\n",
    "\n",
    "    p.hbar(y='country', right=vals, source = source, height=0.8)\n",
    "\n",
    "    p.ygrid.grid_line_color = None\n",
    "    p.x_range.start = 0\n",
    "\n",
    "    show(p)"
   ]
  },
  {
   "cell_type": "code",
   "execution_count": 9,
   "metadata": {},
   "outputs": [
    {
     "name": "stdout",
     "output_type": "stream",
     "text": [
      "10 rows affected\n"
     ]
    }
   ],
   "source": [
    "# get overall numbers\n",
    "query = \"\"\"\n",
    "SELECT\n",
    "    country, \n",
    "    confirmed,\n",
    "    death,\n",
    "    recovered\n",
    "FROM stats\n",
    "WHERE date = (SELECT MAX(date) FROM stats)\n",
    "ORDER BY confirmed DESC\n",
    "LIMIT 10;\n",
    "\"\"\"\n",
    "\n",
    "top10 = qdb.execute_query(query)"
   ]
  },
  {
   "cell_type": "code",
   "execution_count": 10,
   "metadata": {},
   "outputs": [
    {
     "data": {
      "text/html": [
       "\n",
       "\n",
       "\n",
       "\n",
       "\n",
       "\n",
       "  <div class=\"bk-root\" id=\"aea0869a-313c-4b94-8df2-7e58c12dc979\" data-root-id=\"1254\"></div>\n"
      ]
     },
     "metadata": {},
     "output_type": "display_data"
    },
    {
     "data": {
      "application/javascript": [
       "(function(root) {\n",
       "  function embed_document(root) {\n",
       "    \n",
       "  var docs_json = {\"f8443272-7dff-4c63-ab97-891fc8fc21fc\":{\"roots\":{\"references\":[{\"attributes\":{\"below\":[{\"id\":\"1265\"}],\"center\":[{\"id\":\"1268\"},{\"id\":\"1271\"}],\"left\":[{\"id\":\"1269\"}],\"plot_height\":350,\"renderers\":[{\"id\":\"1276\"}],\"title\":{\"id\":\"1255\"},\"toolbar\":{\"id\":\"1272\"},\"toolbar_location\":null,\"x_range\":{\"id\":\"1257\"},\"x_scale\":{\"id\":\"1261\"},\"y_range\":{\"id\":\"1259\"},\"y_scale\":{\"id\":\"1263\"}},\"id\":\"1254\",\"subtype\":\"Figure\",\"type\":\"Plot\"},{\"attributes\":{\"data\":{\"confirmed\":[1369376,232243,228030,227741,221216,178349,178214,173171,141475,110767],\"country\":[\"United States\",\"Russia\",\"Spain\",\"United Kingdom\",\"Italy\",\"France\",\"Brazil\",\"Germany\",\"Turkey\",\"Iran\"],\"death\":[82356,2116,26920,32769,30911,26994,12461,7738,3894,6733],\"index\":[0,1,2,3,4,5,6,7,8,9],\"recovered\":[230287,43512,138980,1023,109039,57898,72597,147200,98889,88357]},\"selected\":{\"id\":\"1304\"},\"selection_policy\":{\"id\":\"1303\"}},\"id\":\"1253\",\"type\":\"ColumnDataSource\"},{\"attributes\":{},\"id\":\"1302\",\"type\":\"CategoricalTickFormatter\"},{\"attributes\":{\"fill_alpha\":{\"value\":0.1},\"fill_color\":{\"value\":\"#1f77b4\"},\"height\":{\"value\":0.8},\"line_alpha\":{\"value\":0.1},\"line_color\":{\"value\":\"#1f77b4\"},\"right\":{\"field\":\"confirmed\"},\"y\":{\"field\":\"country\"}},\"id\":\"1275\",\"type\":\"HBar\"},{\"attributes\":{},\"id\":\"1303\",\"type\":\"UnionRenderers\"},{\"attributes\":{},\"id\":\"1304\",\"type\":\"Selection\"},{\"attributes\":{\"fill_color\":{\"value\":\"#1f77b4\"},\"height\":{\"value\":0.8},\"line_color\":{\"value\":\"#1f77b4\"},\"right\":{\"field\":\"confirmed\"},\"y\":{\"field\":\"country\"}},\"id\":\"1274\",\"type\":\"HBar\"},{\"attributes\":{},\"id\":\"1266\",\"type\":\"BasicTicker\"},{\"attributes\":{},\"id\":\"1300\",\"type\":\"BasicTickFormatter\"},{\"attributes\":{},\"id\":\"1270\",\"type\":\"CategoricalTicker\"},{\"attributes\":{\"start\":0},\"id\":\"1257\",\"type\":\"DataRange1d\"},{\"attributes\":{\"axis\":{\"id\":\"1269\"},\"dimension\":1,\"grid_line_color\":null,\"ticker\":null},\"id\":\"1271\",\"type\":\"Grid\"},{\"attributes\":{\"formatter\":{\"id\":\"1302\"},\"ticker\":{\"id\":\"1270\"}},\"id\":\"1269\",\"type\":\"CategoricalAxis\"},{\"attributes\":{\"active_drag\":\"auto\",\"active_inspect\":\"auto\",\"active_multi\":null,\"active_scroll\":\"auto\",\"active_tap\":\"auto\"},\"id\":\"1272\",\"type\":\"Toolbar\"},{\"attributes\":{\"factors\":[\"Iran\",\"Turkey\",\"Germany\",\"Brazil\",\"France\",\"Italy\",\"United Kingdom\",\"Spain\",\"Russia\",\"United States\"]},\"id\":\"1259\",\"type\":\"FactorRange\"},{\"attributes\":{\"axis\":{\"id\":\"1265\"},\"ticker\":null},\"id\":\"1268\",\"type\":\"Grid\"},{\"attributes\":{\"text\":\"Top 10 countries with Covid\"},\"id\":\"1255\",\"type\":\"Title\"},{\"attributes\":{\"formatter\":{\"id\":\"1300\"},\"ticker\":{\"id\":\"1266\"}},\"id\":\"1265\",\"type\":\"LinearAxis\"},{\"attributes\":{\"data_source\":{\"id\":\"1253\"},\"glyph\":{\"id\":\"1274\"},\"hover_glyph\":null,\"muted_glyph\":null,\"nonselection_glyph\":{\"id\":\"1275\"},\"selection_glyph\":null,\"view\":{\"id\":\"1277\"}},\"id\":\"1276\",\"type\":\"GlyphRenderer\"},{\"attributes\":{},\"id\":\"1261\",\"type\":\"LinearScale\"},{\"attributes\":{\"source\":{\"id\":\"1253\"}},\"id\":\"1277\",\"type\":\"CDSView\"},{\"attributes\":{},\"id\":\"1263\",\"type\":\"CategoricalScale\"}],\"root_ids\":[\"1254\"]},\"title\":\"Bokeh Application\",\"version\":\"2.0.2\"}};\n",
       "  var render_items = [{\"docid\":\"f8443272-7dff-4c63-ab97-891fc8fc21fc\",\"root_ids\":[\"1254\"],\"roots\":{\"1254\":\"aea0869a-313c-4b94-8df2-7e58c12dc979\"}}];\n",
       "  root.Bokeh.embed.embed_items_notebook(docs_json, render_items);\n",
       "\n",
       "  }\n",
       "  if (root.Bokeh !== undefined) {\n",
       "    embed_document(root);\n",
       "  } else {\n",
       "    var attempts = 0;\n",
       "    var timer = setInterval(function(root) {\n",
       "      if (root.Bokeh !== undefined) {\n",
       "        clearInterval(timer);\n",
       "        embed_document(root);\n",
       "      } else {\n",
       "        attempts++;\n",
       "        if (attempts > 100) {\n",
       "          clearInterval(timer);\n",
       "          console.log(\"Bokeh: ERROR: Unable to run BokehJS code because BokehJS library is missing\");\n",
       "        }\n",
       "      }\n",
       "    }, 10, root)\n",
       "  }\n",
       "})(window);"
      ],
      "application/vnd.bokehjs_exec.v0+json": ""
     },
     "metadata": {
      "application/vnd.bokehjs_exec.v0+json": {
       "id": "1254"
      }
     },
     "output_type": "display_data"
    }
   ],
   "source": [
    "plotTop10(top10)"
   ]
  },
  {
   "cell_type": "code",
   "execution_count": 11,
   "metadata": {},
   "outputs": [],
   "source": [
    "# potential visual: show how the top 10 progates per day (popular barplot)"
   ]
  },
  {
   "cell_type": "markdown",
   "metadata": {},
   "source": [
    "#### 3. Daily Increment\n",
    "***"
   ]
  },
  {
   "cell_type": "code",
   "execution_count": 12,
   "metadata": {},
   "outputs": [
    {
     "name": "stdout",
     "output_type": "stream",
     "text": [
      "10 rows affected\n"
     ]
    }
   ],
   "source": [
    "# get overall numbers\n",
    "query = \"\"\"\n",
    "SELECT\n",
    "    country, \n",
    "    confirmed,\n",
    "    death,\n",
    "    recovered\n",
    "FROM daily_stats\n",
    "WHERE date = (SELECT MAX(date) FROM daily_stats)\n",
    "ORDER BY confirmed DESC\n",
    "LIMIT 10;\n",
    "\"\"\"\n",
    "\n",
    "top10_daily = qdb.execute_query(query)"
   ]
  },
  {
   "cell_type": "code",
   "execution_count": 13,
   "metadata": {},
   "outputs": [
    {
     "data": {
      "text/html": [
       "\n",
       "\n",
       "\n",
       "\n",
       "\n",
       "\n",
       "  <div class=\"bk-root\" id=\"f5c19fc4-57ca-4a27-a88e-ae2a80222c07\" data-root-id=\"1348\"></div>\n"
      ]
     },
     "metadata": {},
     "output_type": "display_data"
    },
    {
     "data": {
      "application/javascript": [
       "(function(root) {\n",
       "  function embed_document(root) {\n",
       "    \n",
       "  var docs_json = {\"9e6d6f97-cf65-43f9-b920-6e88f2842db7\":{\"roots\":{\"references\":[{\"attributes\":{\"below\":[{\"id\":\"1359\"}],\"center\":[{\"id\":\"1362\"},{\"id\":\"1365\"}],\"left\":[{\"id\":\"1363\"}],\"plot_height\":350,\"renderers\":[{\"id\":\"1370\"}],\"title\":{\"id\":\"1349\"},\"toolbar\":{\"id\":\"1366\"},\"toolbar_location\":null,\"x_range\":{\"id\":\"1351\"},\"x_scale\":{\"id\":\"1355\"},\"y_range\":{\"id\":\"1353\"},\"y_scale\":{\"id\":\"1357\"}},\"id\":\"1348\",\"subtype\":\"Figure\",\"type\":\"Plot\"},{\"attributes\":{\"source\":{\"id\":\"1347\"}},\"id\":\"1371\",\"type\":\"CDSView\"},{\"attributes\":{\"factors\":[\"Turkey\",\"Saudi Arabia\",\"Mexico\",\"Pakistan\",\"Peru\",\"United Kingdom\",\"India\",\"Brazil\",\"Russia\",\"United States\"]},\"id\":\"1353\",\"type\":\"FactorRange\"},{\"attributes\":{},\"id\":\"1403\",\"type\":\"CategoricalTickFormatter\"},{\"attributes\":{},\"id\":\"1404\",\"type\":\"UnionRenderers\"},{\"attributes\":{\"start\":0},\"id\":\"1351\",\"type\":\"DataRange1d\"},{\"attributes\":{},\"id\":\"1405\",\"type\":\"Selection\"},{\"attributes\":{},\"id\":\"1355\",\"type\":\"LinearScale\"},{\"attributes\":{},\"id\":\"1357\",\"type\":\"CategoricalScale\"},{\"attributes\":{\"formatter\":{\"id\":\"1401\"},\"ticker\":{\"id\":\"1360\"}},\"id\":\"1359\",\"type\":\"LinearAxis\"},{\"attributes\":{},\"id\":\"1360\",\"type\":\"BasicTicker\"},{\"attributes\":{\"axis\":{\"id\":\"1359\"},\"ticker\":null},\"id\":\"1362\",\"type\":\"Grid\"},{\"attributes\":{\"formatter\":{\"id\":\"1403\"},\"ticker\":{\"id\":\"1364\"}},\"id\":\"1363\",\"type\":\"CategoricalAxis\"},{\"attributes\":{\"data\":{\"confirmed\":[21495,10899,8620,3524,3409,3237,2255,1997,1911,1704],\"country\":[\"United States\",\"Russia\",\"Brazil\",\"India\",\"United Kingdom\",\"Peru\",\"Pakistan\",\"Mexico\",\"Saudi Arabia\",\"Turkey\"],\"death\":[1674,107,808,121,628,96,31,353,9,53],\"index\":[0,1,2,3,4,5,6,7,8,9],\"recovered\":[-2446,3711,5213,1871,8,918,257,2835,2520,3109]},\"selected\":{\"id\":\"1405\"},\"selection_policy\":{\"id\":\"1404\"}},\"id\":\"1347\",\"type\":\"ColumnDataSource\"},{\"attributes\":{},\"id\":\"1364\",\"type\":\"CategoricalTicker\"},{\"attributes\":{\"axis\":{\"id\":\"1363\"},\"dimension\":1,\"grid_line_color\":null,\"ticker\":null},\"id\":\"1365\",\"type\":\"Grid\"},{\"attributes\":{\"active_drag\":\"auto\",\"active_inspect\":\"auto\",\"active_multi\":null,\"active_scroll\":\"auto\",\"active_tap\":\"auto\"},\"id\":\"1366\",\"type\":\"Toolbar\"},{\"attributes\":{},\"id\":\"1401\",\"type\":\"BasicTickFormatter\"},{\"attributes\":{\"text\":\"most cases today\"},\"id\":\"1349\",\"type\":\"Title\"},{\"attributes\":{\"fill_alpha\":{\"value\":0.1},\"fill_color\":{\"value\":\"#1f77b4\"},\"height\":{\"value\":0.8},\"line_alpha\":{\"value\":0.1},\"line_color\":{\"value\":\"#1f77b4\"},\"right\":{\"field\":\"confirmed\"},\"y\":{\"field\":\"country\"}},\"id\":\"1369\",\"type\":\"HBar\"},{\"attributes\":{\"fill_color\":{\"value\":\"#1f77b4\"},\"height\":{\"value\":0.8},\"line_color\":{\"value\":\"#1f77b4\"},\"right\":{\"field\":\"confirmed\"},\"y\":{\"field\":\"country\"}},\"id\":\"1368\",\"type\":\"HBar\"},{\"attributes\":{\"data_source\":{\"id\":\"1347\"},\"glyph\":{\"id\":\"1368\"},\"hover_glyph\":null,\"muted_glyph\":null,\"nonselection_glyph\":{\"id\":\"1369\"},\"selection_glyph\":null,\"view\":{\"id\":\"1371\"}},\"id\":\"1370\",\"type\":\"GlyphRenderer\"}],\"root_ids\":[\"1348\"]},\"title\":\"Bokeh Application\",\"version\":\"2.0.2\"}};\n",
       "  var render_items = [{\"docid\":\"9e6d6f97-cf65-43f9-b920-6e88f2842db7\",\"root_ids\":[\"1348\"],\"roots\":{\"1348\":\"f5c19fc4-57ca-4a27-a88e-ae2a80222c07\"}}];\n",
       "  root.Bokeh.embed.embed_items_notebook(docs_json, render_items);\n",
       "\n",
       "  }\n",
       "  if (root.Bokeh !== undefined) {\n",
       "    embed_document(root);\n",
       "  } else {\n",
       "    var attempts = 0;\n",
       "    var timer = setInterval(function(root) {\n",
       "      if (root.Bokeh !== undefined) {\n",
       "        clearInterval(timer);\n",
       "        embed_document(root);\n",
       "      } else {\n",
       "        attempts++;\n",
       "        if (attempts > 100) {\n",
       "          clearInterval(timer);\n",
       "          console.log(\"Bokeh: ERROR: Unable to run BokehJS code because BokehJS library is missing\");\n",
       "        }\n",
       "      }\n",
       "    }, 10, root)\n",
       "  }\n",
       "})(window);"
      ],
      "application/vnd.bokehjs_exec.v0+json": ""
     },
     "metadata": {
      "application/vnd.bokehjs_exec.v0+json": {
       "id": "1348"
      }
     },
     "output_type": "display_data"
    }
   ],
   "source": [
    "plotTop10(top10_daily, vals = 'confirmed', title = 'most cases today')"
   ]
  },
  {
   "cell_type": "markdown",
   "metadata": {},
   "source": [
    "#### barplot with actual cases + line for MA\n",
    "source: https://medium.com/y-data-stories/the-beginners-guide-to-creating-interactive-dashboards-with-python-and-bokeh-part-i-3826ea197a1b"
   ]
  },
  {
   "cell_type": "code",
   "execution_count": 403,
   "metadata": {},
   "outputs": [
    {
     "name": "stdout",
     "output_type": "stream",
     "text": [
      "113 rows affected\n"
     ]
    }
   ],
   "source": [
    "res = qdb.get_daily_stats_country('Netherlands')"
   ]
  },
  {
   "cell_type": "code",
   "execution_count": 404,
   "metadata": {},
   "outputs": [
    {
     "data": {
      "text/html": [
       "\n",
       "\n",
       "\n",
       "\n",
       "\n",
       "\n",
       "  <div class=\"bk-root\" id=\"17b422c6-3a96-4a39-be94-d2f303bb392b\" data-root-id=\"64924\"></div>\n"
      ]
     },
     "metadata": {},
     "output_type": "display_data"
    },
    {
     "data": {
      "application/javascript": [
       "(function(root) {\n",
       "  function embed_document(root) {\n",
       "    \n",
       "  var docs_json = {\"368c5bde-5b40-497f-889b-14602ac58881\":{\"roots\":{\"references\":[{\"attributes\":{\"below\":[{\"id\":\"64935\"}],\"center\":[{\"id\":\"64938\"},{\"id\":\"64942\"},{\"id\":\"64980\"}],\"left\":[{\"id\":\"64939\"}],\"plot_height\":400,\"plot_width\":700,\"renderers\":[{\"id\":\"64960\"},{\"id\":\"64985\"}],\"title\":{\"id\":\"64925\"},\"toolbar\":{\"id\":\"64950\"},\"x_range\":{\"id\":\"64927\"},\"x_scale\":{\"id\":\"64931\"},\"y_range\":{\"id\":\"64929\"},\"y_scale\":{\"id\":\"64933\"}},\"id\":\"64924\",\"subtype\":\"Figure\",\"type\":\"Plot\"},{\"attributes\":{\"axis\":{\"id\":\"64935\"},\"ticker\":null},\"id\":\"64938\",\"type\":\"Grid\"},{\"attributes\":{\"days\":[1,15]},\"id\":\"64974\",\"type\":\"DaysTicker\"},{\"attributes\":{\"overlay\":{\"id\":\"64949\"}},\"id\":\"64945\",\"type\":\"BoxZoomTool\"},{\"attributes\":{},\"id\":\"64943\",\"type\":\"PanTool\"},{\"attributes\":{\"items\":[{\"id\":\"64981\"},{\"id\":\"65007\"}],\"location\":\"top_left\"},\"id\":\"64980\",\"type\":\"Legend\"},{\"attributes\":{\"months\":[0,1,2,3,4,5,6,7,8,9,10,11]},\"id\":\"64975\",\"type\":\"MonthsTicker\"},{\"attributes\":{},\"id\":\"64946\",\"type\":\"SaveTool\"},{\"attributes\":{\"months\":[0,2,4,6,8,10]},\"id\":\"64976\",\"type\":\"MonthsTicker\"},{\"attributes\":{},\"id\":\"64947\",\"type\":\"ResetTool\"},{\"attributes\":{\"fill_alpha\":{\"value\":0.1},\"fill_color\":{\"value\":\"red\"},\"line_alpha\":{\"value\":0.1},\"line_color\":{\"value\":\"red\"},\"top\":{\"field\":\"confirmed\"},\"width\":{\"value\":43200000.0},\"x\":{\"field\":\"date\"}},\"id\":\"64958\",\"type\":\"VBar\"},{\"attributes\":{\"fill_alpha\":{\"value\":0.1},\"fill_color\":{\"value\":\"red\"},\"line_alpha\":{\"value\":0.1},\"line_color\":{\"value\":\"red\"},\"top\":{\"field\":\"confirmed\"},\"width\":{\"value\":43200000.0},\"x\":{\"field\":\"date\"}},\"id\":\"64959\",\"type\":\"VBar\"},{\"attributes\":{\"months\":[0,4,8]},\"id\":\"64977\",\"type\":\"MonthsTicker\"},{\"attributes\":{},\"id\":\"64948\",\"type\":\"HelpTool\"},{\"attributes\":{},\"id\":\"64993\",\"type\":\"UnionRenderers\"},{\"attributes\":{\"months\":[0,6]},\"id\":\"64978\",\"type\":\"MonthsTicker\"},{\"attributes\":{\"label\":{\"value\":\"confirmed cases\"},\"renderers\":[{\"id\":\"64960\"}]},\"id\":\"64981\",\"type\":\"LegendItem\"},{\"attributes\":{},\"id\":\"64979\",\"type\":\"YearsTicker\"},{\"attributes\":{\"active_drag\":\"auto\",\"active_inspect\":\"auto\",\"active_multi\":null,\"active_scroll\":\"auto\",\"active_tap\":\"auto\",\"tools\":[{\"id\":\"64943\"},{\"id\":\"64944\"},{\"id\":\"64945\"},{\"id\":\"64946\"},{\"id\":\"64947\"},{\"id\":\"64948\"}]},\"id\":\"64950\",\"type\":\"Toolbar\"},{\"attributes\":{\"data\":{\"confirmed\":[0,0,0,0,0,0,0,0,0,0,0,0,0,0,0,0,0,0,0,0,0,0,0,0,0,0,0,0,0,0,0,0,0,0,0,1,0,5,4,8,6,14,44,46,60,77,56,61,121,0,303,156,176,278,295,347,409,536,637,577,547,816,858,1030,1179,1172,1111,887,850,1029,1092,1033,906,1226,973,783,973,1221,1346,1322,1175,964,870,736,1067,1236,1147,1072,750,729,715,889,808,655,656,400,172,386,514,477,445,335,199,318,232,455,319,289,245,161,196,227,270],\"confirmed_ma\":{\"__ndarray__\":\"AAAAAAAAAAAAAAAAAAAAAAAAAAAAAAAAAAAAAAAAAAAAAAAAAAAAAAAAAAAAAAAAAAAAAAAAAAAAAAAAAAAAAAAAAAAAAAAAAAAAAAAAAAAAAAAAAAAAAAAAAAAAAAAAAAAAAAAAAAAAAAAAAAAAAAAAAAAAAAAAAAAAAAAAAAAAAAAAAAAAAAAAAAAAAAAAAAAAAAAAAAAAAAAAAAAAAAAAAAAAAAAAAAAAAAAAAAAAAAAAAAAAAAAAAAAAAAAAAAAAAAAAAAAAAAAAAAAAAAAAAAAAAAAAAAAAAAAAAAAAAAAAAAAAAAAAAAAAAAAAAAAAAAAAAAAAAAAAAAAAAAAAAAAAAAAAAAAAAAAAAAAAAAAAAAAAAJIkSZIkScI/kiRJkiRJwj/btm3btm3rP7dt27Zt2/Y/JUmSJEmSBEDbtm3btm0LQG7btm3bthVASZIkSZIkJ0BJkiRJkiQyQAAAAAAAADpAbtu2bds2QkBJkiRJkqRFQCVJkiRJkklAt23btm2bUEAlSZIkSRJOQG7btm3bNlhASZIkSZKkW0Dbtm3bti1fQNu2bdu2jWNAt23btm27Z0BJkiRJksRrQJIkSZIkiXFA27Zt27adc0CSJEmSJOl3QNu2bdu2fXtASZIkSZLkfUDbtm3btkWBQNu2bdu2jYNAt23btm1ThkAlSZIkSTKJQNu2bdu2lYtAAAAAAAD4jUBJkiRJknyPQLdt27Zto49At23btm0zkEBu27Zt21aQQLdt27ZtA5BAbtu2bdvWjkAlSZIkSVqPQEmSJEmSvI9AAAAAAABwj0AAAAAAADCPQLdt27Ztw49ASZIkSZKUkEAlSZIkSYKRQJIkSZIkZZFAAAAAAABgkUDbtm3btpGRQCVJkiRJCpFAJUmSJEmykEC3bdu2bXOQQLdt27ZtD5BAkiRJkiSpj0BJkiRJkrSOQLdt27ZtE45At23btm37jUAAAAAAADCNQG7btm3bRotASZIkSZIUiUCSJEmSJDmHQJIkSZIkqYVASZIkSZIsg0BJkiRJkrSBQAAAAAAACIBAt23btm0bfUC3bdu2bTt7QNu2bdu2XXhAJUmSJEmSdkAAAAAAAOB3QAAAAAAAgHZAkiRJkiT5dUAAAAAAAJB0QLdt27ZtK3NA27Zt27ZdckBu27Zt2wZyQAAAAAAA8HBASZIkSZLkcEC3bdu2bXtuQA==\",\"dtype\":\"float64\",\"shape\":[113]},\"country\":[\"Netherlands\",\"Netherlands\",\"Netherlands\",\"Netherlands\",\"Netherlands\",\"Netherlands\",\"Netherlands\",\"Netherlands\",\"Netherlands\",\"Netherlands\",\"Netherlands\",\"Netherlands\",\"Netherlands\",\"Netherlands\",\"Netherlands\",\"Netherlands\",\"Netherlands\",\"Netherlands\",\"Netherlands\",\"Netherlands\",\"Netherlands\",\"Netherlands\",\"Netherlands\",\"Netherlands\",\"Netherlands\",\"Netherlands\",\"Netherlands\",\"Netherlands\",\"Netherlands\",\"Netherlands\",\"Netherlands\",\"Netherlands\",\"Netherlands\",\"Netherlands\",\"Netherlands\",\"Netherlands\",\"Netherlands\",\"Netherlands\",\"Netherlands\",\"Netherlands\",\"Netherlands\",\"Netherlands\",\"Netherlands\",\"Netherlands\",\"Netherlands\",\"Netherlands\",\"Netherlands\",\"Netherlands\",\"Netherlands\",\"Netherlands\",\"Netherlands\",\"Netherlands\",\"Netherlands\",\"Netherlands\",\"Netherlands\",\"Netherlands\",\"Netherlands\",\"Netherlands\",\"Netherlands\",\"Netherlands\",\"Netherlands\",\"Netherlands\",\"Netherlands\",\"Netherlands\",\"Netherlands\",\"Netherlands\",\"Netherlands\",\"Netherlands\",\"Netherlands\",\"Netherlands\",\"Netherlands\",\"Netherlands\",\"Netherlands\",\"Netherlands\",\"Netherlands\",\"Netherlands\",\"Netherlands\",\"Netherlands\",\"Netherlands\",\"Netherlands\",\"Netherlands\",\"Netherlands\",\"Netherlands\",\"Netherlands\",\"Netherlands\",\"Netherlands\",\"Netherlands\",\"Netherlands\",\"Netherlands\",\"Netherlands\",\"Netherlands\",\"Netherlands\",\"Netherlands\",\"Netherlands\",\"Netherlands\",\"Netherlands\",\"Netherlands\",\"Netherlands\",\"Netherlands\",\"Netherlands\",\"Netherlands\",\"Netherlands\",\"Netherlands\",\"Netherlands\",\"Netherlands\",\"Netherlands\",\"Netherlands\",\"Netherlands\",\"Netherlands\",\"Netherlands\",\"Netherlands\",\"Netherlands\",\"Netherlands\"],\"date\":{\"__ndarray__\":\"AAAALfv8dkIAAMCSTf12QgAAgPif/XZCAABAXvL9dkIAAADERP52QgAAwCmX/nZCAACAj+n+dkIAAED1O/92QgAAAFuO/3ZCAADAwOD/dkIAAIAmMwB3QgAAQIyFAHdCAAAA8tcAd0IAAMBXKgF3QgAAgL18AXdCAABAI88Bd0IAAACJIQJ3QgAAwO5zAndCAACAVMYCd0IAAEC6GAN3QgAAACBrA3dCAADAhb0Dd0IAAIDrDwR3QgAAQFFiBHdCAAAAt7QEd0IAAMAcBwV3QgAAgIJZBXdCAABA6KsFd0IAAABO/gV3QgAAwLNQBndCAACAGaMGd0IAAEB/9QZ3QgAAAOVHB3dCAADASpoHd0IAAICw7Ad3QgAAQBY/CHdCAAAAfJEId0IAAMDh4wh3QgAAgEc2CXdCAABArYgJd0IAAAAT2wl3QgAAwHgtCndCAACA3n8Kd0IAAEBE0gp3QgAAAKokC3dCAADAD3cLd0IAAIB1yQt3QgAAQNsbDHdCAAAAQW4Md0IAAMCmwAx3QgAAgAwTDXdCAABAcmUNd0IAAADYtw13QgAAwD0KDndCAACAo1wOd0IAAEAJrw53QgAAAG8BD3dCAADA1FMPd0IAAIA6pg93QgAAQKD4D3dCAAAABksQd0IAAMBrnRB3QgAAgNHvEHdCAABAN0IRd0IAAACdlBF3QgAAwALnEXdCAACAaDkSd0IAAEDOixJ3QgAAADTeEndCAADAmTATd0IAAID/ghN3QgAAQGXVE3dCAAAAyycUd0IAAMAwehR3QgAAgJbMFHdCAABA/B4Vd0IAAABicRV3QgAAwMfDFXdCAACALRYWd0IAAECTaBZ3QgAAAPm6FndCAADAXg0Xd0IAAIDEXxd3QgAAQCqyF3dCAAAAkAQYd0IAAMD1Vhh3QgAAgFupGHdCAABAwfsYd0IAAAAnThl3QgAAwIygGXdCAACA8vIZd0IAAEBYRRp3QgAAAL6XGndCAADAI+oad0IAAICJPBt3QgAAQO+OG3dCAAAAVeEbd0IAAMC6Mxx3QgAAgCCGHHdCAABAhtgcd0IAAADsKh13QgAAwFF9HXdCAACAt88dd0IAAEAdIh53QgAAAIN0HndCAADA6MYed0IAAIBOGR93QgAAQLRrH3dCAAAAGr4fd0IAAMB/ECB3QgAAgOViIHdCAABAS7Ugd0IAAACxByF3Qg==\",\"dtype\":\"float64\",\"shape\":[113]},\"death\":[0,0,0,0,0,0,0,0,0,0,0,0,0,0,0,0,0,0,0,0,0,0,0,0,0,0,0,0,0,0,0,0,0,0,0,0,0,0,0,0,0,0,0,1,0,2,0,1,1,0,5,2,8,4,19,15,19,30,30,43,34,63,80,78,112,93,132,93,175,135,166,149,166,115,103,234,147,148,117,133,94,86,122,190,182,144,142,84,67,165,139,124,112,120,67,43,48,145,84,98,94,69,26,87,36,85,71,64,18,16,54,52,28],\"death_ma\":{\"__ndarray__\":\"AAAAAAAAAAAAAAAAAAAAAAAAAAAAAAAAAAAAAAAAAAAAAAAAAAAAAAAAAAAAAAAAAAAAAAAAAAAAAAAAAAAAAAAAAAAAAAAAAAAAAAAAAAAAAAAAAAAAAAAAAAAAAAAAAAAAAAAAAAAAAAAAAAAAAAAAAAAAAAAAAAAAAAAAAAAAAAAAAAAAAAAAAAAAAAAAAAAAAAAAAAAAAAAAAAAAAAAAAAAAAAAAAAAAAAAAAAAAAAAAAAAAAAAAAAAAAAAAAAAAAAAAAAAAAAAAAAAAAAAAAAAAAAAAAAAAAAAAAAAAAAAAAAAAAAAAAAAAAAAAAAAAAAAAAAAAAAAAAAAAAAAAAAAAAAAAAAAAAAAAAAAAAAAAAAAAAAAAAAAAAAAAAAAAAAAAAAAAAAAAAAAAAAAAAAAAAAAAAAAAAAAAAAAAAAAAAAAAAAAAAAAAAAAAAAAAAAAAAACSJEmSJEnCP5IkSZIkScI/27Zt27Zt2z/btm3btm3bP5IkSZIkSeI/t23btm3b5j+3bdu2bdvmPyVJkiRJkvQ/SZIkSZIk+T/btm3btm0DQAAAAAAAAAhAkiRJkiRJFkCSJEmSJEkeQCVJkiRJkiRAbtu2bdu2K0C3bdu2bdsxQLdt27Zt2zZASZIkSZIkO0Bu27Zt27ZAQLdt27ZtW0VAJUmSJEmSSUDbtm3btm1PQG7btm3b9lFASZIkSZIkVUAAAAAAAEBXQAAAAAAAQFtAbtu2bds2XUDbtm3bti1gQG7btm3b1mBASZIkSZIkYkBu27Zt29ZhQEmSJEmSBGJAJUmSJEkSY0CSJEmSJEljQG7btm3b9mJASZIkSZJkYkDbtm3bts1hQNu2bdu2bWFAAAAAAAAgYUAAAAAAAEBeQJIkSZIkyV9AAAAAAACAYEC3bdu2bftgQEmSJEmSJGFAbtu2bdv2YEAAAAAAAKBgQEmSJEmSZGFAt23btm17YEBJkiRJkuReQAAAAAAAwF1Abtu2bdv2XEC3bdu2bVtcQAAAAAAAgFtAJUmSJElSV0CSJEmSJIlXQLdt27ZtG1ZAt23btm2bVUDbtm3btq1UQAAAAAAAwFRASZIkSZIkVECSJEmSJIlVQEmSJEmSpFFA27Zt27atUUBu27Zt27ZQQJIkSZIkSU9ASZIkSZKkS0Dbtm3btu1KQCVJkiRJkkhAbtu2bdu2SUBJkiRJkqRFQA==\",\"dtype\":\"float64\",\"shape\":[113]},\"index\":[0,1,2,3,4,5,6,7,8,9,10,11,12,13,14,15,16,17,18,19,20,21,22,23,24,25,26,27,28,29,30,31,32,33,34,35,36,37,38,39,40,41,42,43,44,45,46,47,48,49,50,51,52,53,54,55,56,57,58,59,60,61,62,63,64,65,66,67,68,69,70,71,72,73,74,75,76,77,78,79,80,81,82,83,84,85,86,87,88,89,90,91,92,93,94,95,96,97,98,99,100,101,102,103,104,105,106,107,108,109,110,111,112],\"recovered\":[0,0,0,0,0,0,0,0,0,0,0,0,0,0,0,0,0,0,0,0,0,0,0,0,0,0,0,0,0,0,0,0,0,0,0,0,0,0,0,0,0,0,0,0,0,0,0,0,0,0,0,2,0,0,0,0,0,0,0,0,0,1,1,2,0,0,247,0,0,7,0,0,2,-5,1,14,0,6,9,4,4,0,2,7,7,4,2,5,0,-248,27,0,1,0,15,0,0,2,6,13,0,0,0,1,7,1,0,2,0,0,0,8,2],\"recovered_ma\":{\"__ndarray__\":\"AAAAAAAAAAAAAAAAAAAAAAAAAAAAAAAAAAAAAAAAAAAAAAAAAAAAAAAAAAAAAAAAAAAAAAAAAAAAAAAAAAAAAAAAAAAAAAAAAAAAAAAAAAAAAAAAAAAAAAAAAAAAAAAAAAAAAAAAAAAAAAAAAAAAAAAAAAAAAAAAAAAAAAAAAAAAAAAAAAAAAAAAAAAAAAAAAAAAAAAAAAAAAAAAAAAAAAAAAAAAAAAAAAAAAAAAAAAAAAAAAAAAAAAAAAAAAAAAAAAAAAAAAAAAAAAAAAAAAAAAAAAAAAAAAAAAAAAAAAAAAAAAAAAAAAAAAAAAAAAAAAAAAAAAAAAAAAAAAAAAAAAAAAAAAAAAAAAAAAAAAAAAAAAAAAAAAAAAAAAAAAAAAAAAAAAAAAAAAAAAAAAAAAAAAAAAAAAAAAAAAAAAAAAAAAAAAAAAAAAAAAAAAAAAAAAAAAAAAAAAAAAAAAAAAAAAAAAAAAAAAAAAAAAAAAAAAAAAAAAAAAAAAAAAAAAAAAAAAAAAAAAAAAAAAAAAAAAAAAAAAAAAkiRJkiRJ0j+SJEmSJEnSP5IkSZIkSdI/kiRJkiRJ0j+SJEmSJEnSP5IkSZIkSdI/kiRJkiRJ0j8AAAAAAAAAAAAAAAAAAAAAAAAAAAAAAACSJEmSJEnCP5IkSZIkSdI/kiRJkiRJ4j+SJEmSJEniP5IkSZIkSeI/27Zt27btQUDbtm3btu1BQLdt27Zt20FAkiRJkiRJQkBJkiRJkiRCQEmSJEmSJEJAkiRJkiRJQkCSJEmSJEniP7dt27Zt2+Y/btu2bdu2BUDbtm3btm37PyVJkiRJkgRAt23btm3bDkAlSZIkSZIQQG7btm3bthVASZIkSZIkFUAlSZIkSZIMQJIkSZIkSRJAt23btm3bEkAAAAAAAAAQQG7btm3btg1At23btm3bDkC3bdu2bdsOQLdt27Zt2z/AAAAAAAAAPcAAAAAAAAA+wNu2bdu2bT7Abtu2bdu2PsCSJEmSJEk9wJIkSZIkST3AJUmSJEmSGEAlSZIkSZIEQNu2bdu2bQtAJUmSJEmSFEAlSZIkSZIUQAAAAAAAAAhAAAAAAAAACEBJkiRJkiQJQLdt27Zt2w5ASZIkSZIkCUAlSZIkSZL0P0mSJEmSJPk/SZIkSZIk+T9JkiRJkiT5P7dt27Zt2/Y/SZIkSZIk+T/btm3btm37Pw==\",\"dtype\":\"float64\",\"shape\":[113]}},\"selected\":{\"id\":\"64994\"},\"selection_policy\":{\"id\":\"64993\"}},\"id\":\"64923\",\"type\":\"ColumnDataSource\"},{\"attributes\":{\"bottom_units\":\"screen\",\"fill_alpha\":0.5,\"fill_color\":\"lightgrey\",\"left_units\":\"screen\",\"level\":\"overlay\",\"line_alpha\":1.0,\"line_color\":\"black\",\"line_dash\":[4,4],\"line_width\":2,\"render_mode\":\"css\",\"right_units\":\"screen\",\"top_units\":\"screen\"},\"id\":\"64949\",\"type\":\"BoxAnnotation\"},{\"attributes\":{\"text\":\"Covid Progress\"},\"id\":\"64925\",\"type\":\"Title\"},{\"attributes\":{},\"id\":\"64927\",\"type\":\"DataRange1d\"},{\"attributes\":{\"line_alpha\":0.1,\"line_color\":\"red\",\"line_width\":2,\"x\":{\"field\":\"date\"},\"y\":{\"field\":\"confirmed_ma\"}},\"id\":\"64984\",\"type\":\"Line\"},{\"attributes\":{\"data_source\":{\"id\":\"64923\"},\"glyph\":{\"id\":\"64958\"},\"hover_glyph\":null,\"muted_glyph\":null,\"nonselection_glyph\":{\"id\":\"64959\"},\"selection_glyph\":null,\"view\":{\"id\":\"64961\"}},\"id\":\"64960\",\"type\":\"GlyphRenderer\"},{\"attributes\":{},\"id\":\"64931\",\"type\":\"LinearScale\"},{\"attributes\":{\"source\":{\"id\":\"64923\"}},\"id\":\"64986\",\"type\":\"CDSView\"},{\"attributes\":{\"start\":0},\"id\":\"64929\",\"type\":\"DataRange1d\"},{\"attributes\":{\"source\":{\"id\":\"64923\"}},\"id\":\"64961\",\"type\":\"CDSView\"},{\"attributes\":{},\"id\":\"64964\",\"type\":\"DatetimeTickFormatter\"},{\"attributes\":{\"line_color\":\"red\",\"line_width\":2,\"x\":{\"field\":\"date\"},\"y\":{\"field\":\"confirmed_ma\"}},\"id\":\"64983\",\"type\":\"Line\"},{\"attributes\":{\"data_source\":{\"id\":\"64923\"},\"glyph\":{\"id\":\"64983\"},\"hover_glyph\":null,\"muted_glyph\":null,\"nonselection_glyph\":{\"id\":\"64984\"},\"selection_glyph\":null,\"view\":{\"id\":\"64986\"}},\"id\":\"64985\",\"type\":\"GlyphRenderer\"},{\"attributes\":{\"axis_label\":\"Persons\",\"formatter\":{\"id\":\"64966\"},\"ticker\":{\"id\":\"64940\"}},\"id\":\"64939\",\"type\":\"LinearAxis\"},{\"attributes\":{},\"id\":\"64966\",\"type\":\"BasicTickFormatter\"},{\"attributes\":{\"days\":[1,4,7,10,13,16,19,22,25,28]},\"id\":\"64972\",\"type\":\"DaysTicker\"},{\"attributes\":{},\"id\":\"64994\",\"type\":\"Selection\"},{\"attributes\":{\"mantissas\":[1,2,5],\"max_interval\":500.0,\"num_minor_ticks\":0},\"id\":\"64968\",\"type\":\"AdaptiveTicker\"},{\"attributes\":{\"label\":{\"value\":\"7-day MA\"},\"renderers\":[{\"id\":\"64985\"}]},\"id\":\"65007\",\"type\":\"LegendItem\"},{\"attributes\":{\"base\":60,\"mantissas\":[1,2,5,10,15,20,30],\"max_interval\":1800000.0,\"min_interval\":1000.0,\"num_minor_ticks\":0},\"id\":\"64969\",\"type\":\"AdaptiveTicker\"},{\"attributes\":{\"base\":24,\"mantissas\":[1,2,4,6,8,12],\"max_interval\":43200000.0,\"min_interval\":3600000.0,\"num_minor_ticks\":0},\"id\":\"64970\",\"type\":\"AdaptiveTicker\"},{\"attributes\":{},\"id\":\"64944\",\"type\":\"WheelZoomTool\"},{\"attributes\":{},\"id\":\"64940\",\"type\":\"BasicTicker\"},{\"attributes\":{},\"id\":\"64933\",\"type\":\"LinearScale\"},{\"attributes\":{\"days\":[1,2,3,4,5,6,7,8,9,10,11,12,13,14,15,16,17,18,19,20,21,22,23,24,25,26,27,28,29,30,31]},\"id\":\"64971\",\"type\":\"DaysTicker\"},{\"attributes\":{\"axis\":{\"id\":\"64939\"},\"dimension\":1,\"ticker\":null},\"id\":\"64942\",\"type\":\"Grid\"},{\"attributes\":{\"num_minor_ticks\":5,\"tickers\":[{\"id\":\"64968\"},{\"id\":\"64969\"},{\"id\":\"64970\"},{\"id\":\"64971\"},{\"id\":\"64972\"},{\"id\":\"64973\"},{\"id\":\"64974\"},{\"id\":\"64975\"},{\"id\":\"64976\"},{\"id\":\"64977\"},{\"id\":\"64978\"},{\"id\":\"64979\"}]},\"id\":\"64936\",\"type\":\"DatetimeTicker\"},{\"attributes\":{\"axis_label\":\"Date\",\"formatter\":{\"id\":\"64964\"},\"ticker\":{\"id\":\"64936\"}},\"id\":\"64935\",\"type\":\"DatetimeAxis\"},{\"attributes\":{\"days\":[1,8,15,22]},\"id\":\"64973\",\"type\":\"DaysTicker\"}],\"root_ids\":[\"64924\"]},\"title\":\"Bokeh Application\",\"version\":\"2.0.2\"}};\n",
       "  var render_items = [{\"docid\":\"368c5bde-5b40-497f-889b-14602ac58881\",\"root_ids\":[\"64924\"],\"roots\":{\"64924\":\"17b422c6-3a96-4a39-be94-d2f303bb392b\"}}];\n",
       "  root.Bokeh.embed.embed_items_notebook(docs_json, render_items);\n",
       "\n",
       "  }\n",
       "  if (root.Bokeh !== undefined) {\n",
       "    embed_document(root);\n",
       "  } else {\n",
       "    var attempts = 0;\n",
       "    var timer = setInterval(function(root) {\n",
       "      if (root.Bokeh !== undefined) {\n",
       "        clearInterval(timer);\n",
       "        embed_document(root);\n",
       "      } else {\n",
       "        attempts++;\n",
       "        if (attempts > 100) {\n",
       "          clearInterval(timer);\n",
       "          console.log(\"Bokeh: ERROR: Unable to run BokehJS code because BokehJS library is missing\");\n",
       "        }\n",
       "      }\n",
       "    }, 10, root)\n",
       "  }\n",
       "})(window);"
      ],
      "application/vnd.bokehjs_exec.v0+json": ""
     },
     "metadata": {
      "application/vnd.bokehjs_exec.v0+json": {
       "id": "64924"
      }
     },
     "output_type": "display_data"
    }
   ],
   "source": [
    "#set source\n",
    "source = ColumnDataSource(res)\n",
    "\n",
    "# use a time-delata for the width\n",
    "bar_w = pd.Timedelta(hours = 12)\n",
    "\n",
    "\n",
    "# create the plot\n",
    "p = figure(title = 'Covid Progress', \n",
    "           x_axis_type=\"datetime\",\n",
    "           x_axis_label = 'Date',\n",
    "           y_axis_label = 'Persons',\n",
    "           plot_height = 400,\n",
    "           plot_width = 700)\n",
    "\n",
    "p.vbar(x='date', width = bar_w, top='confirmed', source=source, color = 'red', alpha = 0.1, legend_label = 'confirmed cases')\n",
    "p.line(x='date', y='confirmed_ma', line_width=2 ,source=source, color='red', legend_label='7-day MA')\n",
    "\n",
    "p.y_range.start = 0\n",
    "p.legend.location = \"top_left\"\n",
    "\n",
    "show(p)"
   ]
  },
  {
   "cell_type": "code",
   "execution_count": 405,
   "metadata": {},
   "outputs": [
    {
     "data": {
      "text/html": [
       "\n",
       "\n",
       "\n",
       "\n",
       "\n",
       "\n",
       "  <div class=\"bk-root\" id=\"1456288d-97f8-4976-9935-1c0baaefd1a1\" data-root-id=\"66393\"></div>\n"
      ]
     },
     "metadata": {},
     "output_type": "display_data"
    },
    {
     "data": {
      "application/javascript": [
       "(function(root) {\n",
       "  function embed_document(root) {\n",
       "    \n",
       "  var docs_json = {\"b37e29d8-c150-4722-831d-989bbb65bdc4\":{\"roots\":{\"references\":[{\"attributes\":{\"below\":[{\"id\":\"66404\"}],\"center\":[{\"id\":\"66407\"},{\"id\":\"66411\"},{\"id\":\"66449\"}],\"left\":[{\"id\":\"66408\"}],\"plot_height\":400,\"plot_width\":700,\"renderers\":[{\"id\":\"66429\"},{\"id\":\"66454\"}],\"title\":{\"id\":\"66394\"},\"toolbar\":{\"id\":\"66419\"},\"x_range\":{\"id\":\"66396\"},\"x_scale\":{\"id\":\"66400\"},\"y_range\":{\"id\":\"66398\"},\"y_scale\":{\"id\":\"66402\"}},\"id\":\"66393\",\"subtype\":\"Figure\",\"type\":\"Plot\"},{\"attributes\":{},\"id\":\"66412\",\"type\":\"PanTool\"},{\"attributes\":{\"label\":{\"value\":\"deaths\"},\"renderers\":[{\"id\":\"66429\"}]},\"id\":\"66450\",\"type\":\"LegendItem\"},{\"attributes\":{},\"id\":\"66413\",\"type\":\"WheelZoomTool\"},{\"attributes\":{\"overlay\":{\"id\":\"66418\"}},\"id\":\"66414\",\"type\":\"BoxZoomTool\"},{\"attributes\":{},\"id\":\"66400\",\"type\":\"LinearScale\"},{\"attributes\":{\"start\":0},\"id\":\"66398\",\"type\":\"DataRange1d\"},{\"attributes\":{},\"id\":\"66415\",\"type\":\"SaveTool\"},{\"attributes\":{\"line_alpha\":0.1,\"line_color\":\"blue\",\"line_width\":2,\"x\":{\"field\":\"date\"},\"y\":{\"field\":\"death_ma\"}},\"id\":\"66453\",\"type\":\"Line\"},{\"attributes\":{},\"id\":\"66435\",\"type\":\"BasicTickFormatter\"},{\"attributes\":{\"source\":{\"id\":\"66392\"}},\"id\":\"66455\",\"type\":\"CDSView\"},{\"attributes\":{},\"id\":\"66416\",\"type\":\"ResetTool\"},{\"attributes\":{},\"id\":\"66462\",\"type\":\"UnionRenderers\"},{\"attributes\":{},\"id\":\"66396\",\"type\":\"DataRange1d\"},{\"attributes\":{},\"id\":\"66417\",\"type\":\"HelpTool\"},{\"attributes\":{\"source\":{\"id\":\"66392\"}},\"id\":\"66430\",\"type\":\"CDSView\"},{\"attributes\":{\"line_color\":\"blue\",\"line_width\":2,\"x\":{\"field\":\"date\"},\"y\":{\"field\":\"death_ma\"}},\"id\":\"66452\",\"type\":\"Line\"},{\"attributes\":{\"text\":\"Covid Progress\"},\"id\":\"66394\",\"type\":\"Title\"},{\"attributes\":{\"data_source\":{\"id\":\"66392\"},\"glyph\":{\"id\":\"66452\"},\"hover_glyph\":null,\"muted_glyph\":null,\"nonselection_glyph\":{\"id\":\"66453\"},\"selection_glyph\":null,\"view\":{\"id\":\"66455\"}},\"id\":\"66454\",\"type\":\"GlyphRenderer\"},{\"attributes\":{\"days\":[1,4,7,10,13,16,19,22,25,28]},\"id\":\"66441\",\"type\":\"DaysTicker\"},{\"attributes\":{\"base\":24,\"mantissas\":[1,2,4,6,8,12],\"max_interval\":43200000.0,\"min_interval\":3600000.0,\"num_minor_ticks\":0},\"id\":\"66439\",\"type\":\"AdaptiveTicker\"},{\"attributes\":{\"days\":[1,2,3,4,5,6,7,8,9,10,11,12,13,14,15,16,17,18,19,20,21,22,23,24,25,26,27,28,29,30,31]},\"id\":\"66440\",\"type\":\"DaysTicker\"},{\"attributes\":{},\"id\":\"66463\",\"type\":\"Selection\"},{\"attributes\":{\"active_drag\":\"auto\",\"active_inspect\":\"auto\",\"active_multi\":null,\"active_scroll\":\"auto\",\"active_tap\":\"auto\",\"tools\":[{\"id\":\"66412\"},{\"id\":\"66413\"},{\"id\":\"66414\"},{\"id\":\"66415\"},{\"id\":\"66416\"},{\"id\":\"66417\"}]},\"id\":\"66419\",\"type\":\"Toolbar\"},{\"attributes\":{},\"id\":\"66433\",\"type\":\"DatetimeTickFormatter\"},{\"attributes\":{\"fill_alpha\":{\"value\":0.1},\"fill_color\":{\"value\":\"blue\"},\"line_alpha\":{\"value\":0.1},\"line_color\":{\"value\":\"blue\"},\"top\":{\"field\":\"death\"},\"width\":{\"value\":43200000.0},\"x\":{\"field\":\"date\"}},\"id\":\"66427\",\"type\":\"VBar\"},{\"attributes\":{\"mantissas\":[1,2,5],\"max_interval\":500.0,\"num_minor_ticks\":0},\"id\":\"66437\",\"type\":\"AdaptiveTicker\"},{\"attributes\":{\"bottom_units\":\"screen\",\"fill_alpha\":0.5,\"fill_color\":\"lightgrey\",\"left_units\":\"screen\",\"level\":\"overlay\",\"line_alpha\":1.0,\"line_color\":\"black\",\"line_dash\":[4,4],\"line_width\":2,\"render_mode\":\"css\",\"right_units\":\"screen\",\"top_units\":\"screen\"},\"id\":\"66418\",\"type\":\"BoxAnnotation\"},{\"attributes\":{\"label\":{\"value\":\"7-day MA\"},\"renderers\":[{\"id\":\"66454\"}]},\"id\":\"66476\",\"type\":\"LegendItem\"},{\"attributes\":{},\"id\":\"66402\",\"type\":\"LinearScale\"},{\"attributes\":{\"axis_label\":\"Date\",\"formatter\":{\"id\":\"66433\"},\"ticker\":{\"id\":\"66405\"}},\"id\":\"66404\",\"type\":\"DatetimeAxis\"},{\"attributes\":{\"days\":[1,8,15,22]},\"id\":\"66442\",\"type\":\"DaysTicker\"},{\"attributes\":{\"num_minor_ticks\":5,\"tickers\":[{\"id\":\"66437\"},{\"id\":\"66438\"},{\"id\":\"66439\"},{\"id\":\"66440\"},{\"id\":\"66441\"},{\"id\":\"66442\"},{\"id\":\"66443\"},{\"id\":\"66444\"},{\"id\":\"66445\"},{\"id\":\"66446\"},{\"id\":\"66447\"},{\"id\":\"66448\"}]},\"id\":\"66405\",\"type\":\"DatetimeTicker\"},{\"attributes\":{\"data\":{\"confirmed\":[0,0,0,0,0,0,0,0,0,0,0,0,0,0,0,0,0,0,0,0,0,0,0,0,0,0,0,0,0,0,0,0,0,0,0,1,0,5,4,8,6,14,44,46,60,77,56,61,121,0,303,156,176,278,295,347,409,536,637,577,547,816,858,1030,1179,1172,1111,887,850,1029,1092,1033,906,1226,973,783,973,1221,1346,1322,1175,964,870,736,1067,1236,1147,1072,750,729,715,889,808,655,656,400,172,386,514,477,445,335,199,318,232,455,319,289,245,161,196,227,270],\"confirmed_ma\":{\"__ndarray__\":\"AAAAAAAAAAAAAAAAAAAAAAAAAAAAAAAAAAAAAAAAAAAAAAAAAAAAAAAAAAAAAAAAAAAAAAAAAAAAAAAAAAAAAAAAAAAAAAAAAAAAAAAAAAAAAAAAAAAAAAAAAAAAAAAAAAAAAAAAAAAAAAAAAAAAAAAAAAAAAAAAAAAAAAAAAAAAAAAAAAAAAAAAAAAAAAAAAAAAAAAAAAAAAAAAAAAAAAAAAAAAAAAAAAAAAAAAAAAAAAAAAAAAAAAAAAAAAAAAAAAAAAAAAAAAAAAAAAAAAAAAAAAAAAAAAAAAAAAAAAAAAAAAAAAAAAAAAAAAAAAAAAAAAAAAAAAAAAAAAAAAAAAAAAAAAAAAAAAAAAAAAAAAAAAAAAAAAJIkSZIkScI/kiRJkiRJwj/btm3btm3rP7dt27Zt2/Y/JUmSJEmSBEDbtm3btm0LQG7btm3bthVASZIkSZIkJ0BJkiRJkiQyQAAAAAAAADpAbtu2bds2QkBJkiRJkqRFQCVJkiRJkklAt23btm2bUEAlSZIkSRJOQG7btm3bNlhASZIkSZKkW0Dbtm3bti1fQNu2bdu2jWNAt23btm27Z0BJkiRJksRrQJIkSZIkiXFA27Zt27adc0CSJEmSJOl3QNu2bdu2fXtASZIkSZLkfUDbtm3btkWBQNu2bdu2jYNAt23btm1ThkAlSZIkSTKJQNu2bdu2lYtAAAAAAAD4jUBJkiRJknyPQLdt27Zto49At23btm0zkEBu27Zt21aQQLdt27ZtA5BAbtu2bdvWjkAlSZIkSVqPQEmSJEmSvI9AAAAAAABwj0AAAAAAADCPQLdt27Ztw49ASZIkSZKUkEAlSZIkSYKRQJIkSZIkZZFAAAAAAABgkUDbtm3btpGRQCVJkiRJCpFAJUmSJEmykEC3bdu2bXOQQLdt27ZtD5BAkiRJkiSpj0BJkiRJkrSOQLdt27ZtE45At23btm37jUAAAAAAADCNQG7btm3bRotASZIkSZIUiUCSJEmSJDmHQJIkSZIkqYVASZIkSZIsg0BJkiRJkrSBQAAAAAAACIBAt23btm0bfUC3bdu2bTt7QNu2bdu2XXhAJUmSJEmSdkAAAAAAAOB3QAAAAAAAgHZAkiRJkiT5dUAAAAAAAJB0QLdt27ZtK3NA27Zt27ZdckBu27Zt2wZyQAAAAAAA8HBASZIkSZLkcEC3bdu2bXtuQA==\",\"dtype\":\"float64\",\"shape\":[113]},\"country\":[\"Netherlands\",\"Netherlands\",\"Netherlands\",\"Netherlands\",\"Netherlands\",\"Netherlands\",\"Netherlands\",\"Netherlands\",\"Netherlands\",\"Netherlands\",\"Netherlands\",\"Netherlands\",\"Netherlands\",\"Netherlands\",\"Netherlands\",\"Netherlands\",\"Netherlands\",\"Netherlands\",\"Netherlands\",\"Netherlands\",\"Netherlands\",\"Netherlands\",\"Netherlands\",\"Netherlands\",\"Netherlands\",\"Netherlands\",\"Netherlands\",\"Netherlands\",\"Netherlands\",\"Netherlands\",\"Netherlands\",\"Netherlands\",\"Netherlands\",\"Netherlands\",\"Netherlands\",\"Netherlands\",\"Netherlands\",\"Netherlands\",\"Netherlands\",\"Netherlands\",\"Netherlands\",\"Netherlands\",\"Netherlands\",\"Netherlands\",\"Netherlands\",\"Netherlands\",\"Netherlands\",\"Netherlands\",\"Netherlands\",\"Netherlands\",\"Netherlands\",\"Netherlands\",\"Netherlands\",\"Netherlands\",\"Netherlands\",\"Netherlands\",\"Netherlands\",\"Netherlands\",\"Netherlands\",\"Netherlands\",\"Netherlands\",\"Netherlands\",\"Netherlands\",\"Netherlands\",\"Netherlands\",\"Netherlands\",\"Netherlands\",\"Netherlands\",\"Netherlands\",\"Netherlands\",\"Netherlands\",\"Netherlands\",\"Netherlands\",\"Netherlands\",\"Netherlands\",\"Netherlands\",\"Netherlands\",\"Netherlands\",\"Netherlands\",\"Netherlands\",\"Netherlands\",\"Netherlands\",\"Netherlands\",\"Netherlands\",\"Netherlands\",\"Netherlands\",\"Netherlands\",\"Netherlands\",\"Netherlands\",\"Netherlands\",\"Netherlands\",\"Netherlands\",\"Netherlands\",\"Netherlands\",\"Netherlands\",\"Netherlands\",\"Netherlands\",\"Netherlands\",\"Netherlands\",\"Netherlands\",\"Netherlands\",\"Netherlands\",\"Netherlands\",\"Netherlands\",\"Netherlands\",\"Netherlands\",\"Netherlands\",\"Netherlands\",\"Netherlands\",\"Netherlands\",\"Netherlands\",\"Netherlands\",\"Netherlands\"],\"date\":{\"__ndarray__\":\"AAAALfv8dkIAAMCSTf12QgAAgPif/XZCAABAXvL9dkIAAADERP52QgAAwCmX/nZCAACAj+n+dkIAAED1O/92QgAAAFuO/3ZCAADAwOD/dkIAAIAmMwB3QgAAQIyFAHdCAAAA8tcAd0IAAMBXKgF3QgAAgL18AXdCAABAI88Bd0IAAACJIQJ3QgAAwO5zAndCAACAVMYCd0IAAEC6GAN3QgAAACBrA3dCAADAhb0Dd0IAAIDrDwR3QgAAQFFiBHdCAAAAt7QEd0IAAMAcBwV3QgAAgIJZBXdCAABA6KsFd0IAAABO/gV3QgAAwLNQBndCAACAGaMGd0IAAEB/9QZ3QgAAAOVHB3dCAADASpoHd0IAAICw7Ad3QgAAQBY/CHdCAAAAfJEId0IAAMDh4wh3QgAAgEc2CXdCAABArYgJd0IAAAAT2wl3QgAAwHgtCndCAACA3n8Kd0IAAEBE0gp3QgAAAKokC3dCAADAD3cLd0IAAIB1yQt3QgAAQNsbDHdCAAAAQW4Md0IAAMCmwAx3QgAAgAwTDXdCAABAcmUNd0IAAADYtw13QgAAwD0KDndCAACAo1wOd0IAAEAJrw53QgAAAG8BD3dCAADA1FMPd0IAAIA6pg93QgAAQKD4D3dCAAAABksQd0IAAMBrnRB3QgAAgNHvEHdCAABAN0IRd0IAAACdlBF3QgAAwALnEXdCAACAaDkSd0IAAEDOixJ3QgAAADTeEndCAADAmTATd0IAAID/ghN3QgAAQGXVE3dCAAAAyycUd0IAAMAwehR3QgAAgJbMFHdCAABA/B4Vd0IAAABicRV3QgAAwMfDFXdCAACALRYWd0IAAECTaBZ3QgAAAPm6FndCAADAXg0Xd0IAAIDEXxd3QgAAQCqyF3dCAAAAkAQYd0IAAMD1Vhh3QgAAgFupGHdCAABAwfsYd0IAAAAnThl3QgAAwIygGXdCAACA8vIZd0IAAEBYRRp3QgAAAL6XGndCAADAI+oad0IAAICJPBt3QgAAQO+OG3dCAAAAVeEbd0IAAMC6Mxx3QgAAgCCGHHdCAABAhtgcd0IAAADsKh13QgAAwFF9HXdCAACAt88dd0IAAEAdIh53QgAAAIN0HndCAADA6MYed0IAAIBOGR93QgAAQLRrH3dCAAAAGr4fd0IAAMB/ECB3QgAAgOViIHdCAABAS7Ugd0IAAACxByF3Qg==\",\"dtype\":\"float64\",\"shape\":[113]},\"death\":[0,0,0,0,0,0,0,0,0,0,0,0,0,0,0,0,0,0,0,0,0,0,0,0,0,0,0,0,0,0,0,0,0,0,0,0,0,0,0,0,0,0,0,1,0,2,0,1,1,0,5,2,8,4,19,15,19,30,30,43,34,63,80,78,112,93,132,93,175,135,166,149,166,115,103,234,147,148,117,133,94,86,122,190,182,144,142,84,67,165,139,124,112,120,67,43,48,145,84,98,94,69,26,87,36,85,71,64,18,16,54,52,28],\"death_ma\":{\"__ndarray__\":\"AAAAAAAAAAAAAAAAAAAAAAAAAAAAAAAAAAAAAAAAAAAAAAAAAAAAAAAAAAAAAAAAAAAAAAAAAAAAAAAAAAAAAAAAAAAAAAAAAAAAAAAAAAAAAAAAAAAAAAAAAAAAAAAAAAAAAAAAAAAAAAAAAAAAAAAAAAAAAAAAAAAAAAAAAAAAAAAAAAAAAAAAAAAAAAAAAAAAAAAAAAAAAAAAAAAAAAAAAAAAAAAAAAAAAAAAAAAAAAAAAAAAAAAAAAAAAAAAAAAAAAAAAAAAAAAAAAAAAAAAAAAAAAAAAAAAAAAAAAAAAAAAAAAAAAAAAAAAAAAAAAAAAAAAAAAAAAAAAAAAAAAAAAAAAAAAAAAAAAAAAAAAAAAAAAAAAAAAAAAAAAAAAAAAAAAAAAAAAAAAAAAAAAAAAAAAAAAAAAAAAAAAAAAAAAAAAAAAAAAAAAAAAAAAAAAAAAAAAACSJEmSJEnCP5IkSZIkScI/27Zt27Zt2z/btm3btm3bP5IkSZIkSeI/t23btm3b5j+3bdu2bdvmPyVJkiRJkvQ/SZIkSZIk+T/btm3btm0DQAAAAAAAAAhAkiRJkiRJFkCSJEmSJEkeQCVJkiRJkiRAbtu2bdu2K0C3bdu2bdsxQLdt27Zt2zZASZIkSZIkO0Bu27Zt27ZAQLdt27ZtW0VAJUmSJEmSSUDbtm3btm1PQG7btm3b9lFASZIkSZIkVUAAAAAAAEBXQAAAAAAAQFtAbtu2bds2XUDbtm3bti1gQG7btm3b1mBASZIkSZIkYkBu27Zt29ZhQEmSJEmSBGJAJUmSJEkSY0CSJEmSJEljQG7btm3b9mJASZIkSZJkYkDbtm3bts1hQNu2bdu2bWFAAAAAAAAgYUAAAAAAAEBeQJIkSZIkyV9AAAAAAACAYEC3bdu2bftgQEmSJEmSJGFAbtu2bdv2YEAAAAAAAKBgQEmSJEmSZGFAt23btm17YEBJkiRJkuReQAAAAAAAwF1Abtu2bdv2XEC3bdu2bVtcQAAAAAAAgFtAJUmSJElSV0CSJEmSJIlXQLdt27ZtG1ZAt23btm2bVUDbtm3btq1UQAAAAAAAwFRASZIkSZIkVECSJEmSJIlVQEmSJEmSpFFA27Zt27atUUBu27Zt27ZQQJIkSZIkSU9ASZIkSZKkS0Dbtm3btu1KQCVJkiRJkkhAbtu2bdu2SUBJkiRJkqRFQA==\",\"dtype\":\"float64\",\"shape\":[113]},\"index\":[0,1,2,3,4,5,6,7,8,9,10,11,12,13,14,15,16,17,18,19,20,21,22,23,24,25,26,27,28,29,30,31,32,33,34,35,36,37,38,39,40,41,42,43,44,45,46,47,48,49,50,51,52,53,54,55,56,57,58,59,60,61,62,63,64,65,66,67,68,69,70,71,72,73,74,75,76,77,78,79,80,81,82,83,84,85,86,87,88,89,90,91,92,93,94,95,96,97,98,99,100,101,102,103,104,105,106,107,108,109,110,111,112],\"recovered\":[0,0,0,0,0,0,0,0,0,0,0,0,0,0,0,0,0,0,0,0,0,0,0,0,0,0,0,0,0,0,0,0,0,0,0,0,0,0,0,0,0,0,0,0,0,0,0,0,0,0,0,2,0,0,0,0,0,0,0,0,0,1,1,2,0,0,247,0,0,7,0,0,2,-5,1,14,0,6,9,4,4,0,2,7,7,4,2,5,0,-248,27,0,1,0,15,0,0,2,6,13,0,0,0,1,7,1,0,2,0,0,0,8,2],\"recovered_ma\":{\"__ndarray__\":\"AAAAAAAAAAAAAAAAAAAAAAAAAAAAAAAAAAAAAAAAAAAAAAAAAAAAAAAAAAAAAAAAAAAAAAAAAAAAAAAAAAAAAAAAAAAAAAAAAAAAAAAAAAAAAAAAAAAAAAAAAAAAAAAAAAAAAAAAAAAAAAAAAAAAAAAAAAAAAAAAAAAAAAAAAAAAAAAAAAAAAAAAAAAAAAAAAAAAAAAAAAAAAAAAAAAAAAAAAAAAAAAAAAAAAAAAAAAAAAAAAAAAAAAAAAAAAAAAAAAAAAAAAAAAAAAAAAAAAAAAAAAAAAAAAAAAAAAAAAAAAAAAAAAAAAAAAAAAAAAAAAAAAAAAAAAAAAAAAAAAAAAAAAAAAAAAAAAAAAAAAAAAAAAAAAAAAAAAAAAAAAAAAAAAAAAAAAAAAAAAAAAAAAAAAAAAAAAAAAAAAAAAAAAAAAAAAAAAAAAAAAAAAAAAAAAAAAAAAAAAAAAAAAAAAAAAAAAAAAAAAAAAAAAAAAAAAAAAAAAAAAAAAAAAAAAAAAAAAAAAAAAAAAAAAAAAAAAAAAAAAAAAkiRJkiRJ0j+SJEmSJEnSP5IkSZIkSdI/kiRJkiRJ0j+SJEmSJEnSP5IkSZIkSdI/kiRJkiRJ0j8AAAAAAAAAAAAAAAAAAAAAAAAAAAAAAACSJEmSJEnCP5IkSZIkSdI/kiRJkiRJ4j+SJEmSJEniP5IkSZIkSeI/27Zt27btQUDbtm3btu1BQLdt27Zt20FAkiRJkiRJQkBJkiRJkiRCQEmSJEmSJEJAkiRJkiRJQkCSJEmSJEniP7dt27Zt2+Y/btu2bdu2BUDbtm3btm37PyVJkiRJkgRAt23btm3bDkAlSZIkSZIQQG7btm3bthVASZIkSZIkFUAlSZIkSZIMQJIkSZIkSRJAt23btm3bEkAAAAAAAAAQQG7btm3btg1At23btm3bDkC3bdu2bdsOQLdt27Zt2z/AAAAAAAAAPcAAAAAAAAA+wNu2bdu2bT7Abtu2bdu2PsCSJEmSJEk9wJIkSZIkST3AJUmSJEmSGEAlSZIkSZIEQNu2bdu2bQtAJUmSJEmSFEAlSZIkSZIUQAAAAAAAAAhAAAAAAAAACEBJkiRJkiQJQLdt27Zt2w5ASZIkSZIkCUAlSZIkSZL0P0mSJEmSJPk/SZIkSZIk+T9JkiRJkiT5P7dt27Zt2/Y/SZIkSZIk+T/btm3btm37Pw==\",\"dtype\":\"float64\",\"shape\":[113]}},\"selected\":{\"id\":\"66463\"},\"selection_policy\":{\"id\":\"66462\"}},\"id\":\"66392\",\"type\":\"ColumnDataSource\"},{\"attributes\":{\"days\":[1,15]},\"id\":\"66443\",\"type\":\"DaysTicker\"},{\"attributes\":{\"axis\":{\"id\":\"66404\"},\"ticker\":null},\"id\":\"66407\",\"type\":\"Grid\"},{\"attributes\":{\"months\":[0,1,2,3,4,5,6,7,8,9,10,11]},\"id\":\"66444\",\"type\":\"MonthsTicker\"},{\"attributes\":{\"axis_label\":\"Persons\",\"formatter\":{\"id\":\"66435\"},\"ticker\":{\"id\":\"66409\"}},\"id\":\"66408\",\"type\":\"LinearAxis\"},{\"attributes\":{\"months\":[0,2,4,6,8,10]},\"id\":\"66445\",\"type\":\"MonthsTicker\"},{\"attributes\":{},\"id\":\"66409\",\"type\":\"BasicTicker\"},{\"attributes\":{\"months\":[0,4,8]},\"id\":\"66446\",\"type\":\"MonthsTicker\"},{\"attributes\":{\"axis\":{\"id\":\"66408\"},\"dimension\":1,\"ticker\":null},\"id\":\"66411\",\"type\":\"Grid\"},{\"attributes\":{\"months\":[0,6]},\"id\":\"66447\",\"type\":\"MonthsTicker\"},{\"attributes\":{},\"id\":\"66448\",\"type\":\"YearsTicker\"},{\"attributes\":{\"data_source\":{\"id\":\"66392\"},\"glyph\":{\"id\":\"66427\"},\"hover_glyph\":null,\"muted_glyph\":null,\"nonselection_glyph\":{\"id\":\"66428\"},\"selection_glyph\":null,\"view\":{\"id\":\"66430\"}},\"id\":\"66429\",\"type\":\"GlyphRenderer\"},{\"attributes\":{\"fill_alpha\":{\"value\":0.1},\"fill_color\":{\"value\":\"blue\"},\"line_alpha\":{\"value\":0.1},\"line_color\":{\"value\":\"blue\"},\"top\":{\"field\":\"death\"},\"width\":{\"value\":43200000.0},\"x\":{\"field\":\"date\"}},\"id\":\"66428\",\"type\":\"VBar\"},{\"attributes\":{\"base\":60,\"mantissas\":[1,2,5,10,15,20,30],\"max_interval\":1800000.0,\"min_interval\":1000.0,\"num_minor_ticks\":0},\"id\":\"66438\",\"type\":\"AdaptiveTicker\"},{\"attributes\":{\"items\":[{\"id\":\"66450\"},{\"id\":\"66476\"}],\"location\":\"top_left\"},\"id\":\"66449\",\"type\":\"Legend\"}],\"root_ids\":[\"66393\"]},\"title\":\"Bokeh Application\",\"version\":\"2.0.2\"}};\n",
       "  var render_items = [{\"docid\":\"b37e29d8-c150-4722-831d-989bbb65bdc4\",\"root_ids\":[\"66393\"],\"roots\":{\"66393\":\"1456288d-97f8-4976-9935-1c0baaefd1a1\"}}];\n",
       "  root.Bokeh.embed.embed_items_notebook(docs_json, render_items);\n",
       "\n",
       "  }\n",
       "  if (root.Bokeh !== undefined) {\n",
       "    embed_document(root);\n",
       "  } else {\n",
       "    var attempts = 0;\n",
       "    var timer = setInterval(function(root) {\n",
       "      if (root.Bokeh !== undefined) {\n",
       "        clearInterval(timer);\n",
       "        embed_document(root);\n",
       "      } else {\n",
       "        attempts++;\n",
       "        if (attempts > 100) {\n",
       "          clearInterval(timer);\n",
       "          console.log(\"Bokeh: ERROR: Unable to run BokehJS code because BokehJS library is missing\");\n",
       "        }\n",
       "      }\n",
       "    }, 10, root)\n",
       "  }\n",
       "})(window);"
      ],
      "application/vnd.bokehjs_exec.v0+json": ""
     },
     "metadata": {
      "application/vnd.bokehjs_exec.v0+json": {
       "id": "66393"
      }
     },
     "output_type": "display_data"
    }
   ],
   "source": [
    "# deaths\n",
    "#set source\n",
    "source = ColumnDataSource(res)\n",
    "\n",
    "# use a time-delata for the width\n",
    "bar_w = pd.Timedelta(hours = 12)\n",
    "\n",
    "\n",
    "# create the plot\n",
    "p = figure(title = 'Covid Progress', \n",
    "           x_axis_type=\"datetime\",\n",
    "           x_axis_label = 'Date',\n",
    "           y_axis_label = 'Persons',\n",
    "           plot_height = 400,\n",
    "           plot_width = 700)\n",
    "\n",
    "p.vbar(x='date', width = bar_w, top='death', source=source, color = 'blue', alpha = 0.1, legend_label = 'deaths')\n",
    "p.line(x='date', y='death_ma', line_width=2 ,source=source, color='blue', legend_label='7-day MA')\n",
    "\n",
    "p.y_range.start = 0\n",
    "p.legend.location = \"top_left\"\n",
    "\n",
    "show(p)"
   ]
  },
  {
   "cell_type": "code",
   "execution_count": 406,
   "metadata": {},
   "outputs": [
    {
     "data": {
      "text/html": [
       "\n",
       "\n",
       "\n",
       "\n",
       "\n",
       "\n",
       "  <div class=\"bk-root\" id=\"998ae7c8-d904-4ec8-8495-8362e57fad63\" data-root-id=\"67882\"></div>\n"
      ]
     },
     "metadata": {},
     "output_type": "display_data"
    },
    {
     "data": {
      "application/javascript": [
       "(function(root) {\n",
       "  function embed_document(root) {\n",
       "    \n",
       "  var docs_json = {\"0341628e-c8e7-4065-bae9-c45edb6e59a0\":{\"roots\":{\"references\":[{\"attributes\":{\"below\":[{\"id\":\"67893\"}],\"center\":[{\"id\":\"67896\"},{\"id\":\"67900\"},{\"id\":\"67938\"}],\"left\":[{\"id\":\"67897\"}],\"plot_height\":400,\"plot_width\":700,\"renderers\":[{\"id\":\"67918\"},{\"id\":\"67943\"}],\"title\":{\"id\":\"67883\"},\"toolbar\":{\"id\":\"67908\"},\"x_range\":{\"id\":\"67885\"},\"x_scale\":{\"id\":\"67889\"},\"y_range\":{\"id\":\"67887\"},\"y_scale\":{\"id\":\"67891\"}},\"id\":\"67882\",\"subtype\":\"Figure\",\"type\":\"Plot\"},{\"attributes\":{},\"id\":\"67952\",\"type\":\"Selection\"},{\"attributes\":{\"data_source\":{\"id\":\"67881\"},\"glyph\":{\"id\":\"67916\"},\"hover_glyph\":null,\"muted_glyph\":null,\"nonselection_glyph\":{\"id\":\"67917\"},\"selection_glyph\":null,\"view\":{\"id\":\"67919\"}},\"id\":\"67918\",\"type\":\"GlyphRenderer\"},{\"attributes\":{\"label\":{\"value\":\"7-day MA\"},\"renderers\":[{\"id\":\"67943\"}]},\"id\":\"67965\",\"type\":\"LegendItem\"},{\"attributes\":{\"source\":{\"id\":\"67881\"}},\"id\":\"67919\",\"type\":\"CDSView\"},{\"attributes\":{\"days\":[1,8,15,22]},\"id\":\"67931\",\"type\":\"DaysTicker\"},{\"attributes\":{\"days\":[1,4,7,10,13,16,19,22,25,28]},\"id\":\"67930\",\"type\":\"DaysTicker\"},{\"attributes\":{},\"id\":\"67922\",\"type\":\"DatetimeTickFormatter\"},{\"attributes\":{\"days\":[1,15]},\"id\":\"67932\",\"type\":\"DaysTicker\"},{\"attributes\":{\"mantissas\":[1,2,5],\"max_interval\":500.0,\"num_minor_ticks\":0},\"id\":\"67926\",\"type\":\"AdaptiveTicker\"},{\"attributes\":{\"axis_label\":\"Date\",\"formatter\":{\"id\":\"67922\"},\"ticker\":{\"id\":\"67894\"}},\"id\":\"67893\",\"type\":\"DatetimeAxis\"},{\"attributes\":{\"months\":[0,1,2,3,4,5,6,7,8,9,10,11]},\"id\":\"67933\",\"type\":\"MonthsTicker\"},{\"attributes\":{\"fill_alpha\":{\"value\":0.1},\"fill_color\":{\"value\":\"green\"},\"line_alpha\":{\"value\":0.1},\"line_color\":{\"value\":\"green\"},\"top\":{\"field\":\"recovered\"},\"width\":{\"value\":43200000.0},\"x\":{\"field\":\"date\"}},\"id\":\"67916\",\"type\":\"VBar\"},{\"attributes\":{},\"id\":\"67891\",\"type\":\"LinearScale\"},{\"attributes\":{\"months\":[0,2,4,6,8,10]},\"id\":\"67934\",\"type\":\"MonthsTicker\"},{\"attributes\":{\"months\":[0,4,8]},\"id\":\"67935\",\"type\":\"MonthsTicker\"},{\"attributes\":{\"num_minor_ticks\":5,\"tickers\":[{\"id\":\"67926\"},{\"id\":\"67927\"},{\"id\":\"67928\"},{\"id\":\"67929\"},{\"id\":\"67930\"},{\"id\":\"67931\"},{\"id\":\"67932\"},{\"id\":\"67933\"},{\"id\":\"67934\"},{\"id\":\"67935\"},{\"id\":\"67936\"},{\"id\":\"67937\"}]},\"id\":\"67894\",\"type\":\"DatetimeTicker\"},{\"attributes\":{\"days\":[1,2,3,4,5,6,7,8,9,10,11,12,13,14,15,16,17,18,19,20,21,22,23,24,25,26,27,28,29,30,31]},\"id\":\"67929\",\"type\":\"DaysTicker\"},{\"attributes\":{\"months\":[0,6]},\"id\":\"67936\",\"type\":\"MonthsTicker\"},{\"attributes\":{\"axis\":{\"id\":\"67893\"},\"ticker\":null},\"id\":\"67896\",\"type\":\"Grid\"},{\"attributes\":{},\"id\":\"67937\",\"type\":\"YearsTicker\"},{\"attributes\":{\"axis_label\":\"Persons\",\"formatter\":{\"id\":\"67924\"},\"ticker\":{\"id\":\"67898\"}},\"id\":\"67897\",\"type\":\"LinearAxis\"},{\"attributes\":{\"bottom_units\":\"screen\",\"fill_alpha\":0.5,\"fill_color\":\"lightgrey\",\"left_units\":\"screen\",\"level\":\"overlay\",\"line_alpha\":1.0,\"line_color\":\"black\",\"line_dash\":[4,4],\"line_width\":2,\"render_mode\":\"css\",\"right_units\":\"screen\",\"top_units\":\"screen\"},\"id\":\"67907\",\"type\":\"BoxAnnotation\"},{\"attributes\":{},\"id\":\"67898\",\"type\":\"BasicTicker\"},{\"attributes\":{\"items\":[{\"id\":\"67939\"},{\"id\":\"67965\"}],\"location\":\"top_left\"},\"id\":\"67938\",\"type\":\"Legend\"},{\"attributes\":{},\"id\":\"67904\",\"type\":\"SaveTool\"},{\"attributes\":{\"label\":{\"value\":\"recovered\"},\"renderers\":[{\"id\":\"67918\"}]},\"id\":\"67939\",\"type\":\"LegendItem\"},{\"attributes\":{\"text\":\"Covid Progress\"},\"id\":\"67883\",\"type\":\"Title\"},{\"attributes\":{\"fill_alpha\":{\"value\":0.1},\"fill_color\":{\"value\":\"green\"},\"line_alpha\":{\"value\":0.1},\"line_color\":{\"value\":\"green\"},\"top\":{\"field\":\"recovered\"},\"width\":{\"value\":43200000.0},\"x\":{\"field\":\"date\"}},\"id\":\"67917\",\"type\":\"VBar\"},{\"attributes\":{},\"id\":\"67885\",\"type\":\"DataRange1d\"},{\"attributes\":{\"base\":60,\"mantissas\":[1,2,5,10,15,20,30],\"max_interval\":1800000.0,\"min_interval\":1000.0,\"num_minor_ticks\":0},\"id\":\"67927\",\"type\":\"AdaptiveTicker\"},{\"attributes\":{\"axis\":{\"id\":\"67897\"},\"dimension\":1,\"ticker\":null},\"id\":\"67900\",\"type\":\"Grid\"},{\"attributes\":{\"base\":24,\"mantissas\":[1,2,4,6,8,12],\"max_interval\":43200000.0,\"min_interval\":3600000.0,\"num_minor_ticks\":0},\"id\":\"67928\",\"type\":\"AdaptiveTicker\"},{\"attributes\":{},\"id\":\"67905\",\"type\":\"ResetTool\"},{\"attributes\":{\"line_alpha\":0.1,\"line_color\":\"green\",\"line_width\":2,\"x\":{\"field\":\"date\"},\"y\":{\"field\":\"recovered_ma\"}},\"id\":\"67942\",\"type\":\"Line\"},{\"attributes\":{},\"id\":\"67901\",\"type\":\"PanTool\"},{\"attributes\":{},\"id\":\"67906\",\"type\":\"HelpTool\"},{\"attributes\":{},\"id\":\"67951\",\"type\":\"UnionRenderers\"},{\"attributes\":{\"data\":{\"confirmed\":[0,0,0,0,0,0,0,0,0,0,0,0,0,0,0,0,0,0,0,0,0,0,0,0,0,0,0,0,0,0,0,0,0,0,0,1,0,5,4,8,6,14,44,46,60,77,56,61,121,0,303,156,176,278,295,347,409,536,637,577,547,816,858,1030,1179,1172,1111,887,850,1029,1092,1033,906,1226,973,783,973,1221,1346,1322,1175,964,870,736,1067,1236,1147,1072,750,729,715,889,808,655,656,400,172,386,514,477,445,335,199,318,232,455,319,289,245,161,196,227,270],\"confirmed_ma\":{\"__ndarray__\":\"AAAAAAAAAAAAAAAAAAAAAAAAAAAAAAAAAAAAAAAAAAAAAAAAAAAAAAAAAAAAAAAAAAAAAAAAAAAAAAAAAAAAAAAAAAAAAAAAAAAAAAAAAAAAAAAAAAAAAAAAAAAAAAAAAAAAAAAAAAAAAAAAAAAAAAAAAAAAAAAAAAAAAAAAAAAAAAAAAAAAAAAAAAAAAAAAAAAAAAAAAAAAAAAAAAAAAAAAAAAAAAAAAAAAAAAAAAAAAAAAAAAAAAAAAAAAAAAAAAAAAAAAAAAAAAAAAAAAAAAAAAAAAAAAAAAAAAAAAAAAAAAAAAAAAAAAAAAAAAAAAAAAAAAAAAAAAAAAAAAAAAAAAAAAAAAAAAAAAAAAAAAAAAAAAAAAAJIkSZIkScI/kiRJkiRJwj/btm3btm3rP7dt27Zt2/Y/JUmSJEmSBEDbtm3btm0LQG7btm3bthVASZIkSZIkJ0BJkiRJkiQyQAAAAAAAADpAbtu2bds2QkBJkiRJkqRFQCVJkiRJkklAt23btm2bUEAlSZIkSRJOQG7btm3bNlhASZIkSZKkW0Dbtm3bti1fQNu2bdu2jWNAt23btm27Z0BJkiRJksRrQJIkSZIkiXFA27Zt27adc0CSJEmSJOl3QNu2bdu2fXtASZIkSZLkfUDbtm3btkWBQNu2bdu2jYNAt23btm1ThkAlSZIkSTKJQNu2bdu2lYtAAAAAAAD4jUBJkiRJknyPQLdt27Zto49At23btm0zkEBu27Zt21aQQLdt27ZtA5BAbtu2bdvWjkAlSZIkSVqPQEmSJEmSvI9AAAAAAABwj0AAAAAAADCPQLdt27Ztw49ASZIkSZKUkEAlSZIkSYKRQJIkSZIkZZFAAAAAAABgkUDbtm3btpGRQCVJkiRJCpFAJUmSJEmykEC3bdu2bXOQQLdt27ZtD5BAkiRJkiSpj0BJkiRJkrSOQLdt27ZtE45At23btm37jUAAAAAAADCNQG7btm3bRotASZIkSZIUiUCSJEmSJDmHQJIkSZIkqYVASZIkSZIsg0BJkiRJkrSBQAAAAAAACIBAt23btm0bfUC3bdu2bTt7QNu2bdu2XXhAJUmSJEmSdkAAAAAAAOB3QAAAAAAAgHZAkiRJkiT5dUAAAAAAAJB0QLdt27ZtK3NA27Zt27ZdckBu27Zt2wZyQAAAAAAA8HBASZIkSZLkcEC3bdu2bXtuQA==\",\"dtype\":\"float64\",\"shape\":[113]},\"country\":[\"Netherlands\",\"Netherlands\",\"Netherlands\",\"Netherlands\",\"Netherlands\",\"Netherlands\",\"Netherlands\",\"Netherlands\",\"Netherlands\",\"Netherlands\",\"Netherlands\",\"Netherlands\",\"Netherlands\",\"Netherlands\",\"Netherlands\",\"Netherlands\",\"Netherlands\",\"Netherlands\",\"Netherlands\",\"Netherlands\",\"Netherlands\",\"Netherlands\",\"Netherlands\",\"Netherlands\",\"Netherlands\",\"Netherlands\",\"Netherlands\",\"Netherlands\",\"Netherlands\",\"Netherlands\",\"Netherlands\",\"Netherlands\",\"Netherlands\",\"Netherlands\",\"Netherlands\",\"Netherlands\",\"Netherlands\",\"Netherlands\",\"Netherlands\",\"Netherlands\",\"Netherlands\",\"Netherlands\",\"Netherlands\",\"Netherlands\",\"Netherlands\",\"Netherlands\",\"Netherlands\",\"Netherlands\",\"Netherlands\",\"Netherlands\",\"Netherlands\",\"Netherlands\",\"Netherlands\",\"Netherlands\",\"Netherlands\",\"Netherlands\",\"Netherlands\",\"Netherlands\",\"Netherlands\",\"Netherlands\",\"Netherlands\",\"Netherlands\",\"Netherlands\",\"Netherlands\",\"Netherlands\",\"Netherlands\",\"Netherlands\",\"Netherlands\",\"Netherlands\",\"Netherlands\",\"Netherlands\",\"Netherlands\",\"Netherlands\",\"Netherlands\",\"Netherlands\",\"Netherlands\",\"Netherlands\",\"Netherlands\",\"Netherlands\",\"Netherlands\",\"Netherlands\",\"Netherlands\",\"Netherlands\",\"Netherlands\",\"Netherlands\",\"Netherlands\",\"Netherlands\",\"Netherlands\",\"Netherlands\",\"Netherlands\",\"Netherlands\",\"Netherlands\",\"Netherlands\",\"Netherlands\",\"Netherlands\",\"Netherlands\",\"Netherlands\",\"Netherlands\",\"Netherlands\",\"Netherlands\",\"Netherlands\",\"Netherlands\",\"Netherlands\",\"Netherlands\",\"Netherlands\",\"Netherlands\",\"Netherlands\",\"Netherlands\",\"Netherlands\",\"Netherlands\",\"Netherlands\",\"Netherlands\",\"Netherlands\"],\"date\":{\"__ndarray__\":\"AAAALfv8dkIAAMCSTf12QgAAgPif/XZCAABAXvL9dkIAAADERP52QgAAwCmX/nZCAACAj+n+dkIAAED1O/92QgAAAFuO/3ZCAADAwOD/dkIAAIAmMwB3QgAAQIyFAHdCAAAA8tcAd0IAAMBXKgF3QgAAgL18AXdCAABAI88Bd0IAAACJIQJ3QgAAwO5zAndCAACAVMYCd0IAAEC6GAN3QgAAACBrA3dCAADAhb0Dd0IAAIDrDwR3QgAAQFFiBHdCAAAAt7QEd0IAAMAcBwV3QgAAgIJZBXdCAABA6KsFd0IAAABO/gV3QgAAwLNQBndCAACAGaMGd0IAAEB/9QZ3QgAAAOVHB3dCAADASpoHd0IAAICw7Ad3QgAAQBY/CHdCAAAAfJEId0IAAMDh4wh3QgAAgEc2CXdCAABArYgJd0IAAAAT2wl3QgAAwHgtCndCAACA3n8Kd0IAAEBE0gp3QgAAAKokC3dCAADAD3cLd0IAAIB1yQt3QgAAQNsbDHdCAAAAQW4Md0IAAMCmwAx3QgAAgAwTDXdCAABAcmUNd0IAAADYtw13QgAAwD0KDndCAACAo1wOd0IAAEAJrw53QgAAAG8BD3dCAADA1FMPd0IAAIA6pg93QgAAQKD4D3dCAAAABksQd0IAAMBrnRB3QgAAgNHvEHdCAABAN0IRd0IAAACdlBF3QgAAwALnEXdCAACAaDkSd0IAAEDOixJ3QgAAADTeEndCAADAmTATd0IAAID/ghN3QgAAQGXVE3dCAAAAyycUd0IAAMAwehR3QgAAgJbMFHdCAABA/B4Vd0IAAABicRV3QgAAwMfDFXdCAACALRYWd0IAAECTaBZ3QgAAAPm6FndCAADAXg0Xd0IAAIDEXxd3QgAAQCqyF3dCAAAAkAQYd0IAAMD1Vhh3QgAAgFupGHdCAABAwfsYd0IAAAAnThl3QgAAwIygGXdCAACA8vIZd0IAAEBYRRp3QgAAAL6XGndCAADAI+oad0IAAICJPBt3QgAAQO+OG3dCAAAAVeEbd0IAAMC6Mxx3QgAAgCCGHHdCAABAhtgcd0IAAADsKh13QgAAwFF9HXdCAACAt88dd0IAAEAdIh53QgAAAIN0HndCAADA6MYed0IAAIBOGR93QgAAQLRrH3dCAAAAGr4fd0IAAMB/ECB3QgAAgOViIHdCAABAS7Ugd0IAAACxByF3Qg==\",\"dtype\":\"float64\",\"shape\":[113]},\"death\":[0,0,0,0,0,0,0,0,0,0,0,0,0,0,0,0,0,0,0,0,0,0,0,0,0,0,0,0,0,0,0,0,0,0,0,0,0,0,0,0,0,0,0,1,0,2,0,1,1,0,5,2,8,4,19,15,19,30,30,43,34,63,80,78,112,93,132,93,175,135,166,149,166,115,103,234,147,148,117,133,94,86,122,190,182,144,142,84,67,165,139,124,112,120,67,43,48,145,84,98,94,69,26,87,36,85,71,64,18,16,54,52,28],\"death_ma\":{\"__ndarray__\":\"AAAAAAAAAAAAAAAAAAAAAAAAAAAAAAAAAAAAAAAAAAAAAAAAAAAAAAAAAAAAAAAAAAAAAAAAAAAAAAAAAAAAAAAAAAAAAAAAAAAAAAAAAAAAAAAAAAAAAAAAAAAAAAAAAAAAAAAAAAAAAAAAAAAAAAAAAAAAAAAAAAAAAAAAAAAAAAAAAAAAAAAAAAAAAAAAAAAAAAAAAAAAAAAAAAAAAAAAAAAAAAAAAAAAAAAAAAAAAAAAAAAAAAAAAAAAAAAAAAAAAAAAAAAAAAAAAAAAAAAAAAAAAAAAAAAAAAAAAAAAAAAAAAAAAAAAAAAAAAAAAAAAAAAAAAAAAAAAAAAAAAAAAAAAAAAAAAAAAAAAAAAAAAAAAAAAAAAAAAAAAAAAAAAAAAAAAAAAAAAAAAAAAAAAAAAAAAAAAAAAAAAAAAAAAAAAAAAAAAAAAAAAAAAAAAAAAAAAAACSJEmSJEnCP5IkSZIkScI/27Zt27Zt2z/btm3btm3bP5IkSZIkSeI/t23btm3b5j+3bdu2bdvmPyVJkiRJkvQ/SZIkSZIk+T/btm3btm0DQAAAAAAAAAhAkiRJkiRJFkCSJEmSJEkeQCVJkiRJkiRAbtu2bdu2K0C3bdu2bdsxQLdt27Zt2zZASZIkSZIkO0Bu27Zt27ZAQLdt27ZtW0VAJUmSJEmSSUDbtm3btm1PQG7btm3b9lFASZIkSZIkVUAAAAAAAEBXQAAAAAAAQFtAbtu2bds2XUDbtm3bti1gQG7btm3b1mBASZIkSZIkYkBu27Zt29ZhQEmSJEmSBGJAJUmSJEkSY0CSJEmSJEljQG7btm3b9mJASZIkSZJkYkDbtm3bts1hQNu2bdu2bWFAAAAAAAAgYUAAAAAAAEBeQJIkSZIkyV9AAAAAAACAYEC3bdu2bftgQEmSJEmSJGFAbtu2bdv2YEAAAAAAAKBgQEmSJEmSZGFAt23btm17YEBJkiRJkuReQAAAAAAAwF1Abtu2bdv2XEC3bdu2bVtcQAAAAAAAgFtAJUmSJElSV0CSJEmSJIlXQLdt27ZtG1ZAt23btm2bVUDbtm3btq1UQAAAAAAAwFRASZIkSZIkVECSJEmSJIlVQEmSJEmSpFFA27Zt27atUUBu27Zt27ZQQJIkSZIkSU9ASZIkSZKkS0Dbtm3btu1KQCVJkiRJkkhAbtu2bdu2SUBJkiRJkqRFQA==\",\"dtype\":\"float64\",\"shape\":[113]},\"index\":[0,1,2,3,4,5,6,7,8,9,10,11,12,13,14,15,16,17,18,19,20,21,22,23,24,25,26,27,28,29,30,31,32,33,34,35,36,37,38,39,40,41,42,43,44,45,46,47,48,49,50,51,52,53,54,55,56,57,58,59,60,61,62,63,64,65,66,67,68,69,70,71,72,73,74,75,76,77,78,79,80,81,82,83,84,85,86,87,88,89,90,91,92,93,94,95,96,97,98,99,100,101,102,103,104,105,106,107,108,109,110,111,112],\"recovered\":[0,0,0,0,0,0,0,0,0,0,0,0,0,0,0,0,0,0,0,0,0,0,0,0,0,0,0,0,0,0,0,0,0,0,0,0,0,0,0,0,0,0,0,0,0,0,0,0,0,0,0,2,0,0,0,0,0,0,0,0,0,1,1,2,0,0,247,0,0,7,0,0,2,-5,1,14,0,6,9,4,4,0,2,7,7,4,2,5,0,-248,27,0,1,0,15,0,0,2,6,13,0,0,0,1,7,1,0,2,0,0,0,8,2],\"recovered_ma\":{\"__ndarray__\":\"AAAAAAAAAAAAAAAAAAAAAAAAAAAAAAAAAAAAAAAAAAAAAAAAAAAAAAAAAAAAAAAAAAAAAAAAAAAAAAAAAAAAAAAAAAAAAAAAAAAAAAAAAAAAAAAAAAAAAAAAAAAAAAAAAAAAAAAAAAAAAAAAAAAAAAAAAAAAAAAAAAAAAAAAAAAAAAAAAAAAAAAAAAAAAAAAAAAAAAAAAAAAAAAAAAAAAAAAAAAAAAAAAAAAAAAAAAAAAAAAAAAAAAAAAAAAAAAAAAAAAAAAAAAAAAAAAAAAAAAAAAAAAAAAAAAAAAAAAAAAAAAAAAAAAAAAAAAAAAAAAAAAAAAAAAAAAAAAAAAAAAAAAAAAAAAAAAAAAAAAAAAAAAAAAAAAAAAAAAAAAAAAAAAAAAAAAAAAAAAAAAAAAAAAAAAAAAAAAAAAAAAAAAAAAAAAAAAAAAAAAAAAAAAAAAAAAAAAAAAAAAAAAAAAAAAAAAAAAAAAAAAAAAAAAAAAAAAAAAAAAAAAAAAAAAAAAAAAAAAAAAAAAAAAAAAAAAAAAAAAAAAAkiRJkiRJ0j+SJEmSJEnSP5IkSZIkSdI/kiRJkiRJ0j+SJEmSJEnSP5IkSZIkSdI/kiRJkiRJ0j8AAAAAAAAAAAAAAAAAAAAAAAAAAAAAAACSJEmSJEnCP5IkSZIkSdI/kiRJkiRJ4j+SJEmSJEniP5IkSZIkSeI/27Zt27btQUDbtm3btu1BQLdt27Zt20FAkiRJkiRJQkBJkiRJkiRCQEmSJEmSJEJAkiRJkiRJQkCSJEmSJEniP7dt27Zt2+Y/btu2bdu2BUDbtm3btm37PyVJkiRJkgRAt23btm3bDkAlSZIkSZIQQG7btm3bthVASZIkSZIkFUAlSZIkSZIMQJIkSZIkSRJAt23btm3bEkAAAAAAAAAQQG7btm3btg1At23btm3bDkC3bdu2bdsOQLdt27Zt2z/AAAAAAAAAPcAAAAAAAAA+wNu2bdu2bT7Abtu2bdu2PsCSJEmSJEk9wJIkSZIkST3AJUmSJEmSGEAlSZIkSZIEQNu2bdu2bQtAJUmSJEmSFEAlSZIkSZIUQAAAAAAAAAhAAAAAAAAACEBJkiRJkiQJQLdt27Zt2w5ASZIkSZIkCUAlSZIkSZL0P0mSJEmSJPk/SZIkSZIk+T9JkiRJkiT5P7dt27Zt2/Y/SZIkSZIk+T/btm3btm37Pw==\",\"dtype\":\"float64\",\"shape\":[113]}},\"selected\":{\"id\":\"67952\"},\"selection_policy\":{\"id\":\"67951\"}},\"id\":\"67881\",\"type\":\"ColumnDataSource\"},{\"attributes\":{},\"id\":\"67924\",\"type\":\"BasicTickFormatter\"},{\"attributes\":{\"start\":0},\"id\":\"67887\",\"type\":\"DataRange1d\"},{\"attributes\":{\"active_drag\":\"auto\",\"active_inspect\":\"auto\",\"active_multi\":null,\"active_scroll\":\"auto\",\"active_tap\":\"auto\",\"tools\":[{\"id\":\"67901\"},{\"id\":\"67902\"},{\"id\":\"67903\"},{\"id\":\"67904\"},{\"id\":\"67905\"},{\"id\":\"67906\"}]},\"id\":\"67908\",\"type\":\"Toolbar\"},{\"attributes\":{\"source\":{\"id\":\"67881\"}},\"id\":\"67944\",\"type\":\"CDSView\"},{\"attributes\":{},\"id\":\"67889\",\"type\":\"LinearScale\"},{\"attributes\":{\"overlay\":{\"id\":\"67907\"}},\"id\":\"67903\",\"type\":\"BoxZoomTool\"},{\"attributes\":{\"line_color\":\"green\",\"line_width\":2,\"x\":{\"field\":\"date\"},\"y\":{\"field\":\"recovered_ma\"}},\"id\":\"67941\",\"type\":\"Line\"},{\"attributes\":{},\"id\":\"67902\",\"type\":\"WheelZoomTool\"},{\"attributes\":{\"data_source\":{\"id\":\"67881\"},\"glyph\":{\"id\":\"67941\"},\"hover_glyph\":null,\"muted_glyph\":null,\"nonselection_glyph\":{\"id\":\"67942\"},\"selection_glyph\":null,\"view\":{\"id\":\"67944\"}},\"id\":\"67943\",\"type\":\"GlyphRenderer\"}],\"root_ids\":[\"67882\"]},\"title\":\"Bokeh Application\",\"version\":\"2.0.2\"}};\n",
       "  var render_items = [{\"docid\":\"0341628e-c8e7-4065-bae9-c45edb6e59a0\",\"root_ids\":[\"67882\"],\"roots\":{\"67882\":\"998ae7c8-d904-4ec8-8495-8362e57fad63\"}}];\n",
       "  root.Bokeh.embed.embed_items_notebook(docs_json, render_items);\n",
       "\n",
       "  }\n",
       "  if (root.Bokeh !== undefined) {\n",
       "    embed_document(root);\n",
       "  } else {\n",
       "    var attempts = 0;\n",
       "    var timer = setInterval(function(root) {\n",
       "      if (root.Bokeh !== undefined) {\n",
       "        clearInterval(timer);\n",
       "        embed_document(root);\n",
       "      } else {\n",
       "        attempts++;\n",
       "        if (attempts > 100) {\n",
       "          clearInterval(timer);\n",
       "          console.log(\"Bokeh: ERROR: Unable to run BokehJS code because BokehJS library is missing\");\n",
       "        }\n",
       "      }\n",
       "    }, 10, root)\n",
       "  }\n",
       "})(window);"
      ],
      "application/vnd.bokehjs_exec.v0+json": ""
     },
     "metadata": {
      "application/vnd.bokehjs_exec.v0+json": {
       "id": "67882"
      }
     },
     "output_type": "display_data"
    }
   ],
   "source": [
    "# recovered\n",
    "#set source\n",
    "source = ColumnDataSource(res)\n",
    "\n",
    "# use a time-delata for the width\n",
    "bar_w = pd.Timedelta(hours = 12)\n",
    "\n",
    "\n",
    "# create the plot\n",
    "p = figure(title = 'Covid Progress', \n",
    "           x_axis_type=\"datetime\",\n",
    "           x_axis_label = 'Date',\n",
    "           y_axis_label = 'Persons',\n",
    "           plot_height = 400,\n",
    "           plot_width = 700)\n",
    "\n",
    "p.vbar(x='date', width = bar_w, top='recovered', source=source, color = 'green', alpha = 0.1, legend_label = 'recovered')\n",
    "p.line(x='date', y='recovered_ma', line_width=2 ,source=source, color='green', legend_label='7-day MA')\n",
    "\n",
    "p.y_range.start = 0\n",
    "p.legend.location = \"top_left\"\n",
    "\n",
    "show(p)"
   ]
  },
  {
   "cell_type": "code",
   "execution_count": 407,
   "metadata": {},
   "outputs": [
    {
     "data": {
      "text/html": [
       "\n",
       "\n",
       "\n",
       "\n",
       "\n",
       "\n",
       "  <div class=\"bk-root\" id=\"61d56008-6758-49c7-8efc-7ac145f050be\" data-root-id=\"69391\"></div>\n"
      ]
     },
     "metadata": {},
     "output_type": "display_data"
    },
    {
     "data": {
      "application/javascript": [
       "(function(root) {\n",
       "  function embed_document(root) {\n",
       "    \n",
       "  var docs_json = {\"46f8ff8b-2f94-412d-9c4d-9108b691ce28\":{\"roots\":{\"references\":[{\"attributes\":{\"below\":[{\"id\":\"69402\"}],\"center\":[{\"id\":\"69405\"},{\"id\":\"69409\"},{\"id\":\"69447\"}],\"left\":[{\"id\":\"69406\"}],\"plot_height\":400,\"plot_width\":700,\"renderers\":[{\"id\":\"69427\"},{\"id\":\"69452\"},{\"id\":\"69457\"},{\"id\":\"69483\"}],\"title\":{\"id\":\"69392\"},\"toolbar\":{\"id\":\"69417\"},\"x_range\":{\"id\":\"69394\"},\"x_scale\":{\"id\":\"69398\"},\"y_range\":{\"id\":\"69396\"},\"y_scale\":{\"id\":\"69400\"}},\"id\":\"69391\",\"subtype\":\"Figure\",\"type\":\"Plot\"},{\"attributes\":{\"data_source\":{\"id\":\"69390\"},\"glyph\":{\"id\":\"69455\"},\"hover_glyph\":null,\"muted_glyph\":null,\"nonselection_glyph\":{\"id\":\"69456\"},\"selection_glyph\":null,\"view\":{\"id\":\"69458\"}},\"id\":\"69457\",\"type\":\"GlyphRenderer\"},{\"attributes\":{\"days\":[1,2,3,4,5,6,7,8,9,10,11,12,13,14,15,16,17,18,19,20,21,22,23,24,25,26,27,28,29,30,31]},\"id\":\"69438\",\"type\":\"DaysTicker\"},{\"attributes\":{\"fill_alpha\":{\"value\":0.2},\"fill_color\":{\"value\":\"blue\"},\"line_alpha\":{\"value\":0.2},\"line_color\":{\"value\":\"blue\"},\"top\":{\"field\":\"death\"},\"width\":{\"value\":43200000.0},\"x\":{\"field\":\"date\"}},\"id\":\"69455\",\"type\":\"VBar\"},{\"attributes\":{},\"id\":\"69407\",\"type\":\"BasicTicker\"},{\"attributes\":{\"days\":[1,4,7,10,13,16,19,22,25,28]},\"id\":\"69439\",\"type\":\"DaysTicker\"},{\"attributes\":{\"axis\":{\"id\":\"69406\"},\"dimension\":1,\"ticker\":null},\"id\":\"69409\",\"type\":\"Grid\"},{\"attributes\":{\"fill_alpha\":{\"value\":0.1},\"fill_color\":{\"value\":\"blue\"},\"line_alpha\":{\"value\":0.1},\"line_color\":{\"value\":\"blue\"},\"top\":{\"field\":\"death\"},\"width\":{\"value\":43200000.0},\"x\":{\"field\":\"date\"}},\"id\":\"69456\",\"type\":\"VBar\"},{\"attributes\":{\"days\":[1,8,15,22]},\"id\":\"69440\",\"type\":\"DaysTicker\"},{\"attributes\":{},\"id\":\"69466\",\"type\":\"Selection\"},{\"attributes\":{\"bottom_units\":\"screen\",\"fill_alpha\":0.5,\"fill_color\":\"lightgrey\",\"left_units\":\"screen\",\"level\":\"overlay\",\"line_alpha\":1.0,\"line_color\":\"black\",\"line_dash\":[4,4],\"line_width\":2,\"render_mode\":\"css\",\"right_units\":\"screen\",\"top_units\":\"screen\"},\"id\":\"69416\",\"type\":\"BoxAnnotation\"},{\"attributes\":{\"fill_alpha\":{\"value\":0.2},\"fill_color\":{\"value\":\"red\"},\"line_alpha\":{\"value\":0.2},\"line_color\":{\"value\":\"red\"},\"top\":{\"field\":\"confirmed\"},\"width\":{\"value\":43200000.0},\"x\":{\"field\":\"date\"}},\"id\":\"69425\",\"type\":\"VBar\"},{\"attributes\":{\"days\":[1,15]},\"id\":\"69441\",\"type\":\"DaysTicker\"},{\"attributes\":{\"source\":{\"id\":\"69390\"}},\"id\":\"69458\",\"type\":\"CDSView\"},{\"attributes\":{\"label\":{\"value\":\"deaths\"},\"renderers\":[{\"id\":\"69457\"}]},\"id\":\"69479\",\"type\":\"LegendItem\"},{\"attributes\":{\"line_alpha\":0.1,\"line_color\":\"blue\",\"line_width\":2,\"x\":{\"field\":\"date\"},\"y\":{\"field\":\"death_ma\"}},\"id\":\"69482\",\"type\":\"Line\"},{\"attributes\":{},\"id\":\"69431\",\"type\":\"DatetimeTickFormatter\"},{\"attributes\":{\"months\":[0,1,2,3,4,5,6,7,8,9,10,11]},\"id\":\"69442\",\"type\":\"MonthsTicker\"},{\"attributes\":{\"data\":{\"confirmed\":[0,0,0,0,0,0,0,0,0,0,0,0,0,0,0,0,0,0,0,0,0,0,0,0,0,0,0,0,0,0,0,0,0,0,0,1,0,5,4,8,6,14,44,46,60,77,56,61,121,0,303,156,176,278,295,347,409,536,637,577,547,816,858,1030,1179,1172,1111,887,850,1029,1092,1033,906,1226,973,783,973,1221,1346,1322,1175,964,870,736,1067,1236,1147,1072,750,729,715,889,808,655,656,400,172,386,514,477,445,335,199,318,232,455,319,289,245,161,196,227,270],\"confirmed_ma\":{\"__ndarray__\":\"AAAAAAAAAAAAAAAAAAAAAAAAAAAAAAAAAAAAAAAAAAAAAAAAAAAAAAAAAAAAAAAAAAAAAAAAAAAAAAAAAAAAAAAAAAAAAAAAAAAAAAAAAAAAAAAAAAAAAAAAAAAAAAAAAAAAAAAAAAAAAAAAAAAAAAAAAAAAAAAAAAAAAAAAAAAAAAAAAAAAAAAAAAAAAAAAAAAAAAAAAAAAAAAAAAAAAAAAAAAAAAAAAAAAAAAAAAAAAAAAAAAAAAAAAAAAAAAAAAAAAAAAAAAAAAAAAAAAAAAAAAAAAAAAAAAAAAAAAAAAAAAAAAAAAAAAAAAAAAAAAAAAAAAAAAAAAAAAAAAAAAAAAAAAAAAAAAAAAAAAAAAAAAAAAAAAAJIkSZIkScI/kiRJkiRJwj/btm3btm3rP7dt27Zt2/Y/JUmSJEmSBEDbtm3btm0LQG7btm3bthVASZIkSZIkJ0BJkiRJkiQyQAAAAAAAADpAbtu2bds2QkBJkiRJkqRFQCVJkiRJkklAt23btm2bUEAlSZIkSRJOQG7btm3bNlhASZIkSZKkW0Dbtm3bti1fQNu2bdu2jWNAt23btm27Z0BJkiRJksRrQJIkSZIkiXFA27Zt27adc0CSJEmSJOl3QNu2bdu2fXtASZIkSZLkfUDbtm3btkWBQNu2bdu2jYNAt23btm1ThkAlSZIkSTKJQNu2bdu2lYtAAAAAAAD4jUBJkiRJknyPQLdt27Zto49At23btm0zkEBu27Zt21aQQLdt27ZtA5BAbtu2bdvWjkAlSZIkSVqPQEmSJEmSvI9AAAAAAABwj0AAAAAAADCPQLdt27Ztw49ASZIkSZKUkEAlSZIkSYKRQJIkSZIkZZFAAAAAAABgkUDbtm3btpGRQCVJkiRJCpFAJUmSJEmykEC3bdu2bXOQQLdt27ZtD5BAkiRJkiSpj0BJkiRJkrSOQLdt27ZtE45At23btm37jUAAAAAAADCNQG7btm3bRotASZIkSZIUiUCSJEmSJDmHQJIkSZIkqYVASZIkSZIsg0BJkiRJkrSBQAAAAAAACIBAt23btm0bfUC3bdu2bTt7QNu2bdu2XXhAJUmSJEmSdkAAAAAAAOB3QAAAAAAAgHZAkiRJkiT5dUAAAAAAAJB0QLdt27ZtK3NA27Zt27ZdckBu27Zt2wZyQAAAAAAA8HBASZIkSZLkcEC3bdu2bXtuQA==\",\"dtype\":\"float64\",\"shape\":[113]},\"country\":[\"Netherlands\",\"Netherlands\",\"Netherlands\",\"Netherlands\",\"Netherlands\",\"Netherlands\",\"Netherlands\",\"Netherlands\",\"Netherlands\",\"Netherlands\",\"Netherlands\",\"Netherlands\",\"Netherlands\",\"Netherlands\",\"Netherlands\",\"Netherlands\",\"Netherlands\",\"Netherlands\",\"Netherlands\",\"Netherlands\",\"Netherlands\",\"Netherlands\",\"Netherlands\",\"Netherlands\",\"Netherlands\",\"Netherlands\",\"Netherlands\",\"Netherlands\",\"Netherlands\",\"Netherlands\",\"Netherlands\",\"Netherlands\",\"Netherlands\",\"Netherlands\",\"Netherlands\",\"Netherlands\",\"Netherlands\",\"Netherlands\",\"Netherlands\",\"Netherlands\",\"Netherlands\",\"Netherlands\",\"Netherlands\",\"Netherlands\",\"Netherlands\",\"Netherlands\",\"Netherlands\",\"Netherlands\",\"Netherlands\",\"Netherlands\",\"Netherlands\",\"Netherlands\",\"Netherlands\",\"Netherlands\",\"Netherlands\",\"Netherlands\",\"Netherlands\",\"Netherlands\",\"Netherlands\",\"Netherlands\",\"Netherlands\",\"Netherlands\",\"Netherlands\",\"Netherlands\",\"Netherlands\",\"Netherlands\",\"Netherlands\",\"Netherlands\",\"Netherlands\",\"Netherlands\",\"Netherlands\",\"Netherlands\",\"Netherlands\",\"Netherlands\",\"Netherlands\",\"Netherlands\",\"Netherlands\",\"Netherlands\",\"Netherlands\",\"Netherlands\",\"Netherlands\",\"Netherlands\",\"Netherlands\",\"Netherlands\",\"Netherlands\",\"Netherlands\",\"Netherlands\",\"Netherlands\",\"Netherlands\",\"Netherlands\",\"Netherlands\",\"Netherlands\",\"Netherlands\",\"Netherlands\",\"Netherlands\",\"Netherlands\",\"Netherlands\",\"Netherlands\",\"Netherlands\",\"Netherlands\",\"Netherlands\",\"Netherlands\",\"Netherlands\",\"Netherlands\",\"Netherlands\",\"Netherlands\",\"Netherlands\",\"Netherlands\",\"Netherlands\",\"Netherlands\",\"Netherlands\",\"Netherlands\",\"Netherlands\"],\"date\":{\"__ndarray__\":\"AAAALfv8dkIAAMCSTf12QgAAgPif/XZCAABAXvL9dkIAAADERP52QgAAwCmX/nZCAACAj+n+dkIAAED1O/92QgAAAFuO/3ZCAADAwOD/dkIAAIAmMwB3QgAAQIyFAHdCAAAA8tcAd0IAAMBXKgF3QgAAgL18AXdCAABAI88Bd0IAAACJIQJ3QgAAwO5zAndCAACAVMYCd0IAAEC6GAN3QgAAACBrA3dCAADAhb0Dd0IAAIDrDwR3QgAAQFFiBHdCAAAAt7QEd0IAAMAcBwV3QgAAgIJZBXdCAABA6KsFd0IAAABO/gV3QgAAwLNQBndCAACAGaMGd0IAAEB/9QZ3QgAAAOVHB3dCAADASpoHd0IAAICw7Ad3QgAAQBY/CHdCAAAAfJEId0IAAMDh4wh3QgAAgEc2CXdCAABArYgJd0IAAAAT2wl3QgAAwHgtCndCAACA3n8Kd0IAAEBE0gp3QgAAAKokC3dCAADAD3cLd0IAAIB1yQt3QgAAQNsbDHdCAAAAQW4Md0IAAMCmwAx3QgAAgAwTDXdCAABAcmUNd0IAAADYtw13QgAAwD0KDndCAACAo1wOd0IAAEAJrw53QgAAAG8BD3dCAADA1FMPd0IAAIA6pg93QgAAQKD4D3dCAAAABksQd0IAAMBrnRB3QgAAgNHvEHdCAABAN0IRd0IAAACdlBF3QgAAwALnEXdCAACAaDkSd0IAAEDOixJ3QgAAADTeEndCAADAmTATd0IAAID/ghN3QgAAQGXVE3dCAAAAyycUd0IAAMAwehR3QgAAgJbMFHdCAABA/B4Vd0IAAABicRV3QgAAwMfDFXdCAACALRYWd0IAAECTaBZ3QgAAAPm6FndCAADAXg0Xd0IAAIDEXxd3QgAAQCqyF3dCAAAAkAQYd0IAAMD1Vhh3QgAAgFupGHdCAABAwfsYd0IAAAAnThl3QgAAwIygGXdCAACA8vIZd0IAAEBYRRp3QgAAAL6XGndCAADAI+oad0IAAICJPBt3QgAAQO+OG3dCAAAAVeEbd0IAAMC6Mxx3QgAAgCCGHHdCAABAhtgcd0IAAADsKh13QgAAwFF9HXdCAACAt88dd0IAAEAdIh53QgAAAIN0HndCAADA6MYed0IAAIBOGR93QgAAQLRrH3dCAAAAGr4fd0IAAMB/ECB3QgAAgOViIHdCAABAS7Ugd0IAAACxByF3Qg==\",\"dtype\":\"float64\",\"shape\":[113]},\"death\":[0,0,0,0,0,0,0,0,0,0,0,0,0,0,0,0,0,0,0,0,0,0,0,0,0,0,0,0,0,0,0,0,0,0,0,0,0,0,0,0,0,0,0,1,0,2,0,1,1,0,5,2,8,4,19,15,19,30,30,43,34,63,80,78,112,93,132,93,175,135,166,149,166,115,103,234,147,148,117,133,94,86,122,190,182,144,142,84,67,165,139,124,112,120,67,43,48,145,84,98,94,69,26,87,36,85,71,64,18,16,54,52,28],\"death_ma\":{\"__ndarray__\":\"AAAAAAAAAAAAAAAAAAAAAAAAAAAAAAAAAAAAAAAAAAAAAAAAAAAAAAAAAAAAAAAAAAAAAAAAAAAAAAAAAAAAAAAAAAAAAAAAAAAAAAAAAAAAAAAAAAAAAAAAAAAAAAAAAAAAAAAAAAAAAAAAAAAAAAAAAAAAAAAAAAAAAAAAAAAAAAAAAAAAAAAAAAAAAAAAAAAAAAAAAAAAAAAAAAAAAAAAAAAAAAAAAAAAAAAAAAAAAAAAAAAAAAAAAAAAAAAAAAAAAAAAAAAAAAAAAAAAAAAAAAAAAAAAAAAAAAAAAAAAAAAAAAAAAAAAAAAAAAAAAAAAAAAAAAAAAAAAAAAAAAAAAAAAAAAAAAAAAAAAAAAAAAAAAAAAAAAAAAAAAAAAAAAAAAAAAAAAAAAAAAAAAAAAAAAAAAAAAAAAAAAAAAAAAAAAAAAAAAAAAAAAAAAAAAAAAAAAAACSJEmSJEnCP5IkSZIkScI/27Zt27Zt2z/btm3btm3bP5IkSZIkSeI/t23btm3b5j+3bdu2bdvmPyVJkiRJkvQ/SZIkSZIk+T/btm3btm0DQAAAAAAAAAhAkiRJkiRJFkCSJEmSJEkeQCVJkiRJkiRAbtu2bdu2K0C3bdu2bdsxQLdt27Zt2zZASZIkSZIkO0Bu27Zt27ZAQLdt27ZtW0VAJUmSJEmSSUDbtm3btm1PQG7btm3b9lFASZIkSZIkVUAAAAAAAEBXQAAAAAAAQFtAbtu2bds2XUDbtm3bti1gQG7btm3b1mBASZIkSZIkYkBu27Zt29ZhQEmSJEmSBGJAJUmSJEkSY0CSJEmSJEljQG7btm3b9mJASZIkSZJkYkDbtm3bts1hQNu2bdu2bWFAAAAAAAAgYUAAAAAAAEBeQJIkSZIkyV9AAAAAAACAYEC3bdu2bftgQEmSJEmSJGFAbtu2bdv2YEAAAAAAAKBgQEmSJEmSZGFAt23btm17YEBJkiRJkuReQAAAAAAAwF1Abtu2bdv2XEC3bdu2bVtcQAAAAAAAgFtAJUmSJElSV0CSJEmSJIlXQLdt27ZtG1ZAt23btm2bVUDbtm3btq1UQAAAAAAAwFRASZIkSZIkVECSJEmSJIlVQEmSJEmSpFFA27Zt27atUUBu27Zt27ZQQJIkSZIkSU9ASZIkSZKkS0Dbtm3btu1KQCVJkiRJkkhAbtu2bdu2SUBJkiRJkqRFQA==\",\"dtype\":\"float64\",\"shape\":[113]},\"index\":[0,1,2,3,4,5,6,7,8,9,10,11,12,13,14,15,16,17,18,19,20,21,22,23,24,25,26,27,28,29,30,31,32,33,34,35,36,37,38,39,40,41,42,43,44,45,46,47,48,49,50,51,52,53,54,55,56,57,58,59,60,61,62,63,64,65,66,67,68,69,70,71,72,73,74,75,76,77,78,79,80,81,82,83,84,85,86,87,88,89,90,91,92,93,94,95,96,97,98,99,100,101,102,103,104,105,106,107,108,109,110,111,112],\"recovered\":[0,0,0,0,0,0,0,0,0,0,0,0,0,0,0,0,0,0,0,0,0,0,0,0,0,0,0,0,0,0,0,0,0,0,0,0,0,0,0,0,0,0,0,0,0,0,0,0,0,0,0,2,0,0,0,0,0,0,0,0,0,1,1,2,0,0,247,0,0,7,0,0,2,-5,1,14,0,6,9,4,4,0,2,7,7,4,2,5,0,-248,27,0,1,0,15,0,0,2,6,13,0,0,0,1,7,1,0,2,0,0,0,8,2],\"recovered_ma\":{\"__ndarray__\":\"AAAAAAAAAAAAAAAAAAAAAAAAAAAAAAAAAAAAAAAAAAAAAAAAAAAAAAAAAAAAAAAAAAAAAAAAAAAAAAAAAAAAAAAAAAAAAAAAAAAAAAAAAAAAAAAAAAAAAAAAAAAAAAAAAAAAAAAAAAAAAAAAAAAAAAAAAAAAAAAAAAAAAAAAAAAAAAAAAAAAAAAAAAAAAAAAAAAAAAAAAAAAAAAAAAAAAAAAAAAAAAAAAAAAAAAAAAAAAAAAAAAAAAAAAAAAAAAAAAAAAAAAAAAAAAAAAAAAAAAAAAAAAAAAAAAAAAAAAAAAAAAAAAAAAAAAAAAAAAAAAAAAAAAAAAAAAAAAAAAAAAAAAAAAAAAAAAAAAAAAAAAAAAAAAAAAAAAAAAAAAAAAAAAAAAAAAAAAAAAAAAAAAAAAAAAAAAAAAAAAAAAAAAAAAAAAAAAAAAAAAAAAAAAAAAAAAAAAAAAAAAAAAAAAAAAAAAAAAAAAAAAAAAAAAAAAAAAAAAAAAAAAAAAAAAAAAAAAAAAAAAAAAAAAAAAAAAAAAAAAAAAAkiRJkiRJ0j+SJEmSJEnSP5IkSZIkSdI/kiRJkiRJ0j+SJEmSJEnSP5IkSZIkSdI/kiRJkiRJ0j8AAAAAAAAAAAAAAAAAAAAAAAAAAAAAAACSJEmSJEnCP5IkSZIkSdI/kiRJkiRJ4j+SJEmSJEniP5IkSZIkSeI/27Zt27btQUDbtm3btu1BQLdt27Zt20FAkiRJkiRJQkBJkiRJkiRCQEmSJEmSJEJAkiRJkiRJQkCSJEmSJEniP7dt27Zt2+Y/btu2bdu2BUDbtm3btm37PyVJkiRJkgRAt23btm3bDkAlSZIkSZIQQG7btm3bthVASZIkSZIkFUAlSZIkSZIMQJIkSZIkSRJAt23btm3bEkAAAAAAAAAQQG7btm3btg1At23btm3bDkC3bdu2bdsOQLdt27Zt2z/AAAAAAAAAPcAAAAAAAAA+wNu2bdu2bT7Abtu2bdu2PsCSJEmSJEk9wJIkSZIkST3AJUmSJEmSGEAlSZIkSZIEQNu2bdu2bQtAJUmSJEmSFEAlSZIkSZIUQAAAAAAAAAhAAAAAAAAACEBJkiRJkiQJQLdt27Zt2w5ASZIkSZIkCUAlSZIkSZL0P0mSJEmSJPk/SZIkSZIk+T9JkiRJkiT5P7dt27Zt2/Y/SZIkSZIk+T/btm3btm37Pw==\",\"dtype\":\"float64\",\"shape\":[113]}},\"selected\":{\"id\":\"69466\"},\"selection_policy\":{\"id\":\"69465\"}},\"id\":\"69390\",\"type\":\"ColumnDataSource\"},{\"attributes\":{},\"id\":\"69410\",\"type\":\"PanTool\"},{\"attributes\":{\"months\":[0,2,4,6,8,10]},\"id\":\"69443\",\"type\":\"MonthsTicker\"},{\"attributes\":{},\"id\":\"69411\",\"type\":\"WheelZoomTool\"},{\"attributes\":{\"source\":{\"id\":\"69390\"}},\"id\":\"69484\",\"type\":\"CDSView\"},{\"attributes\":{\"months\":[0,4,8]},\"id\":\"69444\",\"type\":\"MonthsTicker\"},{\"attributes\":{\"overlay\":{\"id\":\"69416\"}},\"id\":\"69412\",\"type\":\"BoxZoomTool\"},{\"attributes\":{\"line_color\":\"blue\",\"line_width\":2,\"x\":{\"field\":\"date\"},\"y\":{\"field\":\"death_ma\"}},\"id\":\"69481\",\"type\":\"Line\"},{\"attributes\":{},\"id\":\"69398\",\"type\":\"LinearScale\"},{\"attributes\":{\"months\":[0,6]},\"id\":\"69445\",\"type\":\"MonthsTicker\"},{\"attributes\":{\"data_source\":{\"id\":\"69390\"},\"glyph\":{\"id\":\"69481\"},\"hover_glyph\":null,\"muted_glyph\":null,\"nonselection_glyph\":{\"id\":\"69482\"},\"selection_glyph\":null,\"view\":{\"id\":\"69484\"}},\"id\":\"69483\",\"type\":\"GlyphRenderer\"},{\"attributes\":{\"active_drag\":\"auto\",\"active_inspect\":\"auto\",\"active_multi\":null,\"active_scroll\":\"auto\",\"active_tap\":\"auto\",\"tools\":[{\"id\":\"69410\"},{\"id\":\"69411\"},{\"id\":\"69412\"},{\"id\":\"69413\"},{\"id\":\"69414\"},{\"id\":\"69415\"}]},\"id\":\"69417\",\"type\":\"Toolbar\"},{\"attributes\":{\"start\":0},\"id\":\"69396\",\"type\":\"DataRange1d\"},{\"attributes\":{},\"id\":\"69413\",\"type\":\"SaveTool\"},{\"attributes\":{},\"id\":\"69446\",\"type\":\"YearsTicker\"},{\"attributes\":{},\"id\":\"69465\",\"type\":\"UnionRenderers\"},{\"attributes\":{},\"id\":\"69414\",\"type\":\"ResetTool\"},{\"attributes\":{\"items\":[{\"id\":\"69448\"},{\"id\":\"69479\"}],\"location\":\"top_left\"},\"id\":\"69447\",\"type\":\"Legend\"},{\"attributes\":{},\"id\":\"69394\",\"type\":\"DataRange1d\"},{\"attributes\":{},\"id\":\"69415\",\"type\":\"HelpTool\"},{\"attributes\":{\"label\":{\"value\":\"confirmed cases\"},\"renderers\":[{\"id\":\"69427\"}]},\"id\":\"69448\",\"type\":\"LegendItem\"},{\"attributes\":{\"text\":\"Covid Progress\"},\"id\":\"69392\",\"type\":\"Title\"},{\"attributes\":{\"fill_alpha\":{\"value\":0.1},\"fill_color\":{\"value\":\"red\"},\"line_alpha\":{\"value\":0.1},\"line_color\":{\"value\":\"red\"},\"top\":{\"field\":\"confirmed\"},\"width\":{\"value\":43200000.0},\"x\":{\"field\":\"date\"}},\"id\":\"69426\",\"type\":\"VBar\"},{\"attributes\":{\"data_source\":{\"id\":\"69390\"},\"glyph\":{\"id\":\"69425\"},\"hover_glyph\":null,\"muted_glyph\":null,\"nonselection_glyph\":{\"id\":\"69426\"},\"selection_glyph\":null,\"view\":{\"id\":\"69428\"}},\"id\":\"69427\",\"type\":\"GlyphRenderer\"},{\"attributes\":{\"line_alpha\":0.1,\"line_color\":\"red\",\"line_width\":2,\"x\":{\"field\":\"date\"},\"y\":{\"field\":\"confirmed_ma\"}},\"id\":\"69451\",\"type\":\"Line\"},{\"attributes\":{\"source\":{\"id\":\"69390\"}},\"id\":\"69428\",\"type\":\"CDSView\"},{\"attributes\":{},\"id\":\"69433\",\"type\":\"BasicTickFormatter\"},{\"attributes\":{},\"id\":\"69400\",\"type\":\"LinearScale\"},{\"attributes\":{\"source\":{\"id\":\"69390\"}},\"id\":\"69453\",\"type\":\"CDSView\"},{\"attributes\":{\"mantissas\":[1,2,5],\"max_interval\":500.0,\"num_minor_ticks\":0},\"id\":\"69435\",\"type\":\"AdaptiveTicker\"},{\"attributes\":{\"axis_label\":\"Date\",\"formatter\":{\"id\":\"69431\"},\"ticker\":{\"id\":\"69403\"}},\"id\":\"69402\",\"type\":\"DatetimeAxis\"},{\"attributes\":{\"line_color\":\"red\",\"line_width\":2,\"x\":{\"field\":\"date\"},\"y\":{\"field\":\"confirmed_ma\"}},\"id\":\"69450\",\"type\":\"Line\"},{\"attributes\":{\"data_source\":{\"id\":\"69390\"},\"glyph\":{\"id\":\"69450\"},\"hover_glyph\":null,\"muted_glyph\":null,\"nonselection_glyph\":{\"id\":\"69451\"},\"selection_glyph\":null,\"view\":{\"id\":\"69453\"}},\"id\":\"69452\",\"type\":\"GlyphRenderer\"},{\"attributes\":{\"num_minor_ticks\":5,\"tickers\":[{\"id\":\"69435\"},{\"id\":\"69436\"},{\"id\":\"69437\"},{\"id\":\"69438\"},{\"id\":\"69439\"},{\"id\":\"69440\"},{\"id\":\"69441\"},{\"id\":\"69442\"},{\"id\":\"69443\"},{\"id\":\"69444\"},{\"id\":\"69445\"},{\"id\":\"69446\"}]},\"id\":\"69403\",\"type\":\"DatetimeTicker\"},{\"attributes\":{\"base\":60,\"mantissas\":[1,2,5,10,15,20,30],\"max_interval\":1800000.0,\"min_interval\":1000.0,\"num_minor_ticks\":0},\"id\":\"69436\",\"type\":\"AdaptiveTicker\"},{\"attributes\":{\"axis\":{\"id\":\"69402\"},\"ticker\":null},\"id\":\"69405\",\"type\":\"Grid\"},{\"attributes\":{\"base\":24,\"mantissas\":[1,2,4,6,8,12],\"max_interval\":43200000.0,\"min_interval\":3600000.0,\"num_minor_ticks\":0},\"id\":\"69437\",\"type\":\"AdaptiveTicker\"},{\"attributes\":{\"axis_label\":\"Persons\",\"formatter\":{\"id\":\"69433\"},\"ticker\":{\"id\":\"69407\"}},\"id\":\"69406\",\"type\":\"LinearAxis\"}],\"root_ids\":[\"69391\"]},\"title\":\"Bokeh Application\",\"version\":\"2.0.2\"}};\n",
       "  var render_items = [{\"docid\":\"46f8ff8b-2f94-412d-9c4d-9108b691ce28\",\"root_ids\":[\"69391\"],\"roots\":{\"69391\":\"61d56008-6758-49c7-8efc-7ac145f050be\"}}];\n",
       "  root.Bokeh.embed.embed_items_notebook(docs_json, render_items);\n",
       "\n",
       "  }\n",
       "  if (root.Bokeh !== undefined) {\n",
       "    embed_document(root);\n",
       "  } else {\n",
       "    var attempts = 0;\n",
       "    var timer = setInterval(function(root) {\n",
       "      if (root.Bokeh !== undefined) {\n",
       "        clearInterval(timer);\n",
       "        embed_document(root);\n",
       "      } else {\n",
       "        attempts++;\n",
       "        if (attempts > 100) {\n",
       "          clearInterval(timer);\n",
       "          console.log(\"Bokeh: ERROR: Unable to run BokehJS code because BokehJS library is missing\");\n",
       "        }\n",
       "      }\n",
       "    }, 10, root)\n",
       "  }\n",
       "})(window);"
      ],
      "application/vnd.bokehjs_exec.v0+json": ""
     },
     "metadata": {
      "application/vnd.bokehjs_exec.v0+json": {
       "id": "69391"
      }
     },
     "output_type": "display_data"
    }
   ],
   "source": [
    "# combined graph\n",
    "#set source\n",
    "source = ColumnDataSource(res)\n",
    "\n",
    "# use a time-delata for the width\n",
    "bar_w = pd.Timedelta(hours = 12)\n",
    "\n",
    "\n",
    "# create the plot\n",
    "p = figure(title = 'Covid Progress', \n",
    "           x_axis_type=\"datetime\",\n",
    "           x_axis_label = 'Date',\n",
    "           y_axis_label = 'Persons',\n",
    "           plot_height = 400,\n",
    "           plot_width = 700)\n",
    "\n",
    "# confirmed cases\n",
    "p.vbar(x='date', width = bar_w, top='confirmed', source=source, color = 'red', alpha = 0.2, legend_label = 'confirmed cases')\n",
    "p.line(x='date', y='confirmed_ma', line_width=2 ,source=source, color='red')\n",
    "\n",
    "# deaths\n",
    "p.vbar(x='date', width = bar_w, top='death', source=source, color = 'blue', alpha = 0.2, legend_label = 'deaths')\n",
    "p.line(x='date', y='death_ma', line_width=2 ,source=source, color='blue')\n",
    "\n",
    "\n",
    "p.y_range.start = 0\n",
    "p.legend.location = \"top_left\"\n",
    "\n",
    "show(p)"
   ]
  },
  {
   "cell_type": "markdown",
   "metadata": {},
   "source": [
    "#### 4 Scale to population\n",
    "***\n",
    "Scraped data from: https://www.worldometers.info/world-population/population-by-country/"
   ]
  },
  {
   "cell_type": "code",
   "execution_count": 19,
   "metadata": {},
   "outputs": [
    {
     "name": "stdout",
     "output_type": "stream",
     "text": [
      "10 rows affected\n"
     ]
    }
   ],
   "source": [
    "# get overall numbers\n",
    "query = \"\"\"\n",
    "SELECT stats.country AS country,\n",
    "       date,\n",
    "       ROUND(confirmed/scaled_pop,2) AS conf_scaled,\n",
    "       ROUND(death/scaled_pop,2) AS death_scaled,\n",
    "       ROUND(recovered/scaled_pop,2) AS rec_scaled\n",
    "  FROM stats\n",
    "  JOIN (SELECT country, scaled_pop \n",
    "          FROM populations) AS pop\n",
    "    ON stats.country = pop.country\n",
    " WHERE date = (SELECT MAX(date) \n",
    "                 FROM stats)\n",
    " ORDER BY conf_scaled DESC\n",
    " LIMIT 10;\n",
    "\"\"\"\n",
    "\n",
    "top10_scaled = qdb.execute_query(query)"
   ]
  },
  {
   "cell_type": "code",
   "execution_count": 20,
   "metadata": {},
   "outputs": [
    {
     "data": {
      "text/html": [
       "\n",
       "\n",
       "\n",
       "\n",
       "\n",
       "\n",
       "  <div class=\"bk-root\" id=\"6aafee7e-85c8-4a19-9028-87de5962859d\" data-root-id=\"2615\"></div>\n"
      ]
     },
     "metadata": {},
     "output_type": "display_data"
    },
    {
     "data": {
      "application/javascript": [
       "(function(root) {\n",
       "  function embed_document(root) {\n",
       "    \n",
       "  var docs_json = {\"4dcd62e7-3ef8-4cc2-a5aa-9a21c8048e7c\":{\"roots\":{\"references\":[{\"attributes\":{\"below\":[{\"id\":\"2626\"}],\"center\":[{\"id\":\"2629\"},{\"id\":\"2632\"}],\"left\":[{\"id\":\"2630\"}],\"plot_height\":350,\"renderers\":[{\"id\":\"2637\"}],\"title\":{\"id\":\"2616\"},\"toolbar\":{\"id\":\"2633\"},\"toolbar_location\":null,\"x_range\":{\"id\":\"2618\"},\"x_scale\":{\"id\":\"2622\"},\"y_range\":{\"id\":\"2620\"},\"y_scale\":{\"id\":\"2624\"}},\"id\":\"2615\",\"subtype\":\"Figure\",\"type\":\"Plot\"},{\"attributes\":{\"formatter\":{\"id\":\"2757\"},\"ticker\":{\"id\":\"2631\"}},\"id\":\"2630\",\"type\":\"CategoricalAxis\"},{\"attributes\":{\"text\":\"most cases per 1M inhabitants\"},\"id\":\"2616\",\"type\":\"Title\"},{\"attributes\":{},\"id\":\"2757\",\"type\":\"CategoricalTickFormatter\"},{\"attributes\":{\"factors\":[\"United States\",\"Singapore\",\"Belgium\",\"Ireland\",\"Spain\",\"Iceland\",\"Luxembourg\",\"Qatar\",\"Andorra\",\"San Marino\"]},\"id\":\"2620\",\"type\":\"FactorRange\"},{\"attributes\":{\"start\":0},\"id\":\"2618\",\"type\":\"DataRange1d\"},{\"attributes\":{\"active_drag\":\"auto\",\"active_inspect\":\"auto\",\"active_multi\":null,\"active_scroll\":\"auto\",\"active_tap\":\"auto\"},\"id\":\"2633\",\"type\":\"Toolbar\"},{\"attributes\":{\"fill_alpha\":{\"value\":0.1},\"fill_color\":{\"value\":\"#1f77b4\"},\"height\":{\"value\":0.8},\"line_alpha\":{\"value\":0.1},\"line_color\":{\"value\":\"#1f77b4\"},\"right\":{\"field\":\"conf_scaled\"},\"y\":{\"field\":\"country\"}},\"id\":\"2636\",\"type\":\"HBar\"},{\"attributes\":{\"fill_color\":{\"value\":\"#1f77b4\"},\"height\":{\"value\":0.8},\"line_color\":{\"value\":\"#1f77b4\"},\"right\":{\"field\":\"conf_scaled\"},\"y\":{\"field\":\"country\"}},\"id\":\"2635\",\"type\":\"HBar\"},{\"attributes\":{\"axis\":{\"id\":\"2626\"},\"ticker\":null},\"id\":\"2629\",\"type\":\"Grid\"},{\"attributes\":{},\"id\":\"2759\",\"type\":\"Selection\"},{\"attributes\":{\"data\":{\"conf_scaled\":{\"__ndarray__\":\"FK5H4arE1EAAAAAAgIHCQOxRuB4lDsFAMzMzM/MkuEDD9ShcD7G0QGZmZmamDbNAj8L1KNxgskCF61G4HiCyQPYoXI9CebBAAAAAAAApsEA=\",\"dtype\":\"float64\",\"shape\":[10]},\"country\":[\"San Marino\",\"Andorra\",\"Qatar\",\"Luxembourg\",\"Iceland\",\"Spain\",\"Ireland\",\"Belgium\",\"Singapore\",\"United States\"],\"date\":{\"__ndarray__\":\"AACA5WIgd0IAAIDlYiB3QgAAgOViIHdCAACA5WIgd0IAAIDlYiB3QgAAgOViIHdCAACA5WIgd0IAAIDlYiB3QgAAgOViIHdCAACA5WIgd0I=\",\"dtype\":\"float64\",\"shape\":[10]},\"death_scaled\":{\"__ndarray__\":\"SOF6FK5alUAAAAAAAMCCQHE9CtejcBNAzczMzMw8ZEApXI/C9Wg9QHE9Ctej/oFAj8L1KFzTckDhehSuR5+HQLgehetRuAxAAAAAAAAAb0A=\",\"dtype\":\"float64\",\"shape\":[10]},\"index\":[0,1,2,3,4,5,6,7,8,9],\"rec_scaled\":{\"__ndarray__\":\"Urgehav2tEAAAAAAALy7QNejcD0KYZBAXI/C9ShitkDhehSuh2e0QFyPwvWoOadAhetRuB4Pq0AK16NwPYOSQLgehetRkoRAAAAAAAC4hUA=\",\"dtype\":\"float64\",\"shape\":[10]}},\"selected\":{\"id\":\"2759\"},\"selection_policy\":{\"id\":\"2758\"}},\"id\":\"2614\",\"type\":\"ColumnDataSource\"},{\"attributes\":{},\"id\":\"2755\",\"type\":\"BasicTickFormatter\"},{\"attributes\":{\"source\":{\"id\":\"2614\"}},\"id\":\"2638\",\"type\":\"CDSView\"},{\"attributes\":{},\"id\":\"2758\",\"type\":\"UnionRenderers\"},{\"attributes\":{},\"id\":\"2624\",\"type\":\"CategoricalScale\"},{\"attributes\":{},\"id\":\"2622\",\"type\":\"LinearScale\"},{\"attributes\":{\"data_source\":{\"id\":\"2614\"},\"glyph\":{\"id\":\"2635\"},\"hover_glyph\":null,\"muted_glyph\":null,\"nonselection_glyph\":{\"id\":\"2636\"},\"selection_glyph\":null,\"view\":{\"id\":\"2638\"}},\"id\":\"2637\",\"type\":\"GlyphRenderer\"},{\"attributes\":{\"axis\":{\"id\":\"2630\"},\"dimension\":1,\"grid_line_color\":null,\"ticker\":null},\"id\":\"2632\",\"type\":\"Grid\"},{\"attributes\":{\"formatter\":{\"id\":\"2755\"},\"ticker\":{\"id\":\"2627\"}},\"id\":\"2626\",\"type\":\"LinearAxis\"},{\"attributes\":{},\"id\":\"2627\",\"type\":\"BasicTicker\"},{\"attributes\":{},\"id\":\"2631\",\"type\":\"CategoricalTicker\"}],\"root_ids\":[\"2615\"]},\"title\":\"Bokeh Application\",\"version\":\"2.0.2\"}};\n",
       "  var render_items = [{\"docid\":\"4dcd62e7-3ef8-4cc2-a5aa-9a21c8048e7c\",\"root_ids\":[\"2615\"],\"roots\":{\"2615\":\"6aafee7e-85c8-4a19-9028-87de5962859d\"}}];\n",
       "  root.Bokeh.embed.embed_items_notebook(docs_json, render_items);\n",
       "\n",
       "  }\n",
       "  if (root.Bokeh !== undefined) {\n",
       "    embed_document(root);\n",
       "  } else {\n",
       "    var attempts = 0;\n",
       "    var timer = setInterval(function(root) {\n",
       "      if (root.Bokeh !== undefined) {\n",
       "        clearInterval(timer);\n",
       "        embed_document(root);\n",
       "      } else {\n",
       "        attempts++;\n",
       "        if (attempts > 100) {\n",
       "          clearInterval(timer);\n",
       "          console.log(\"Bokeh: ERROR: Unable to run BokehJS code because BokehJS library is missing\");\n",
       "        }\n",
       "      }\n",
       "    }, 10, root)\n",
       "  }\n",
       "})(window);"
      ],
      "application/vnd.bokehjs_exec.v0+json": ""
     },
     "metadata": {
      "application/vnd.bokehjs_exec.v0+json": {
       "id": "2615"
      }
     },
     "output_type": "display_data"
    }
   ],
   "source": [
    "plotTop10(top10_scaled, vals = 'conf_scaled', title = 'most cases per 1M inhabitants')"
   ]
  },
  {
   "cell_type": "code",
   "execution_count": null,
   "metadata": {},
   "outputs": [],
   "source": []
  },
  {
   "cell_type": "markdown",
   "metadata": {},
   "source": [
    "#### for daily stats"
   ]
  },
  {
   "cell_type": "code",
   "execution_count": 21,
   "metadata": {},
   "outputs": [
    {
     "name": "stdout",
     "output_type": "stream",
     "text": [
      "10 rows affected\n"
     ]
    }
   ],
   "source": [
    "# get overall numbers\n",
    "query = \"\"\"\n",
    "SELECT daily_stats.country AS country,\n",
    "       date,\n",
    "       ROUND(confirmed/scaled_pop,2) AS conf_scaled,\n",
    "       ROUND(death/scaled_pop,2) AS death_scaled,\n",
    "       ROUND(recovered/scaled_pop,2) AS rec_scaled\n",
    "  FROM daily_stats\n",
    "  JOIN (SELECT country, \n",
    "               scaled_pop \n",
    "          FROM populations) AS pop\n",
    "    ON daily_stats.country = pop.country\n",
    " WHERE date = (SELECT MAX(date) \n",
    "                 FROM daily_stats)\n",
    " ORDER BY conf_scaled DESC\n",
    " LIMIT 10;  \n",
    "\"\"\"\n",
    "\n",
    "top10_scaled_today = qdb.execute_query(query)"
   ]
  },
  {
   "cell_type": "code",
   "execution_count": 22,
   "metadata": {},
   "outputs": [
    {
     "data": {
      "text/html": [
       "\n",
       "\n",
       "\n",
       "\n",
       "\n",
       "\n",
       "  <div class=\"bk-root\" id=\"5bd5f1d7-d0b8-4453-8168-723f271d103b\" data-root-id=\"2803\"></div>\n"
      ]
     },
     "metadata": {},
     "output_type": "display_data"
    },
    {
     "data": {
      "application/javascript": [
       "(function(root) {\n",
       "  function embed_document(root) {\n",
       "    \n",
       "  var docs_json = {\"c188c169-783c-4959-b655-191c2d012eb3\":{\"roots\":{\"references\":[{\"attributes\":{\"below\":[{\"id\":\"2814\"}],\"center\":[{\"id\":\"2817\"},{\"id\":\"2820\"}],\"left\":[{\"id\":\"2818\"}],\"plot_height\":350,\"renderers\":[{\"id\":\"2825\"}],\"title\":{\"id\":\"2804\"},\"toolbar\":{\"id\":\"2821\"},\"toolbar_location\":null,\"x_range\":{\"id\":\"2806\"},\"x_scale\":{\"id\":\"2810\"},\"y_range\":{\"id\":\"2808\"},\"y_scale\":{\"id\":\"2812\"}},\"id\":\"2803\",\"subtype\":\"Figure\",\"type\":\"Plot\"},{\"attributes\":{},\"id\":\"2810\",\"type\":\"LinearScale\"},{\"attributes\":{},\"id\":\"2812\",\"type\":\"CategoricalScale\"},{\"attributes\":{\"formatter\":{\"id\":\"2950\"},\"ticker\":{\"id\":\"2815\"}},\"id\":\"2814\",\"type\":\"LinearAxis\"},{\"attributes\":{},\"id\":\"2815\",\"type\":\"BasicTicker\"},{\"attributes\":{\"axis\":{\"id\":\"2814\"},\"ticker\":null},\"id\":\"2817\",\"type\":\"Grid\"},{\"attributes\":{\"data\":{\"conf_scaled\":{\"__ndarray__\":\"exSuR+GOgEDhehSuR9V0QMP1KFyPAm1AKVyPwvWwZUBcj8L1KCRiQIXrUbgelVlA7FG4HoWLWECuR+F6FK5VQHsUrkfhylNAXI/C9SisUkA=\",\"dtype\":\"float64\",\"shape\":[10]},\"country\":[\"Qatar\",\"San Marino\",\"Kuwait\",\"Bahrain\",\"Singapore\",\"Belarus\",\"Peru\",\"Chile\",\"United Arab Emirates\",\"Russia\"],\"date\":{\"__ndarray__\":\"AACA5WIgd0IAAIDlYiB3QgAAgOViIHdCAACA5WIgd0IAAIDlYiB3QgAAgOViIHdCAACA5WIgd0IAAIDlYiB3QgAAgOViIHdCAACA5WIgd0I=\",\"dtype\":\"float64\",\"shape\":[10]},\"death_scaled\":{\"__ndarray__\":\"AAAAAAAAAAAAAAAAAAAAALgehetRuAJA4XoUrkfh4j8AAAAAAAAAAK5H4XoUruc/SOF6FK5HB0ApXI/C9SjkP5qZmZmZmck/XI/C9Shc5z8=\",\"dtype\":\"float64\",\"shape\":[10]},\"index\":[0,1,2,3,4,5,6,7,8,9],\"rec_scaled\":{\"__ndarray__\":\"MzMzMzMTT0C4HoXrUSWQQNejcD0Kt0ZASOF6FK6HN0BxPQrXo8BaQHE9CtejcEdA16NwPQrXO0AzMzMzMzM7QGZmZmZm5k9ArkfhehRuOUA=\",\"dtype\":\"float64\",\"shape\":[10]}},\"selected\":{\"id\":\"2954\"},\"selection_policy\":{\"id\":\"2953\"}},\"id\":\"2802\",\"type\":\"ColumnDataSource\"},{\"attributes\":{\"formatter\":{\"id\":\"2952\"},\"ticker\":{\"id\":\"2819\"}},\"id\":\"2818\",\"type\":\"CategoricalAxis\"},{\"attributes\":{},\"id\":\"2819\",\"type\":\"CategoricalTicker\"},{\"attributes\":{\"axis\":{\"id\":\"2818\"},\"dimension\":1,\"grid_line_color\":null,\"ticker\":null},\"id\":\"2820\",\"type\":\"Grid\"},{\"attributes\":{\"factors\":[\"Russia\",\"United Arab Emirates\",\"Chile\",\"Peru\",\"Belarus\",\"Singapore\",\"Bahrain\",\"Kuwait\",\"San Marino\",\"Qatar\"]},\"id\":\"2808\",\"type\":\"FactorRange\"},{\"attributes\":{\"active_drag\":\"auto\",\"active_inspect\":\"auto\",\"active_multi\":null,\"active_scroll\":\"auto\",\"active_tap\":\"auto\"},\"id\":\"2821\",\"type\":\"Toolbar\"},{\"attributes\":{\"start\":0},\"id\":\"2806\",\"type\":\"DataRange1d\"},{\"attributes\":{},\"id\":\"2952\",\"type\":\"CategoricalTickFormatter\"},{\"attributes\":{},\"id\":\"2954\",\"type\":\"Selection\"},{\"attributes\":{\"source\":{\"id\":\"2802\"}},\"id\":\"2826\",\"type\":\"CDSView\"},{\"attributes\":{\"data_source\":{\"id\":\"2802\"},\"glyph\":{\"id\":\"2823\"},\"hover_glyph\":null,\"muted_glyph\":null,\"nonselection_glyph\":{\"id\":\"2824\"},\"selection_glyph\":null,\"view\":{\"id\":\"2826\"}},\"id\":\"2825\",\"type\":\"GlyphRenderer\"},{\"attributes\":{\"text\":\"most cases per 1M inhabitants\"},\"id\":\"2804\",\"type\":\"Title\"},{\"attributes\":{},\"id\":\"2953\",\"type\":\"UnionRenderers\"},{\"attributes\":{\"fill_alpha\":{\"value\":0.1},\"fill_color\":{\"value\":\"#1f77b4\"},\"height\":{\"value\":0.8},\"line_alpha\":{\"value\":0.1},\"line_color\":{\"value\":\"#1f77b4\"},\"right\":{\"field\":\"conf_scaled\"},\"y\":{\"field\":\"country\"}},\"id\":\"2824\",\"type\":\"HBar\"},{\"attributes\":{},\"id\":\"2950\",\"type\":\"BasicTickFormatter\"},{\"attributes\":{\"fill_color\":{\"value\":\"#1f77b4\"},\"height\":{\"value\":0.8},\"line_color\":{\"value\":\"#1f77b4\"},\"right\":{\"field\":\"conf_scaled\"},\"y\":{\"field\":\"country\"}},\"id\":\"2823\",\"type\":\"HBar\"}],\"root_ids\":[\"2803\"]},\"title\":\"Bokeh Application\",\"version\":\"2.0.2\"}};\n",
       "  var render_items = [{\"docid\":\"c188c169-783c-4959-b655-191c2d012eb3\",\"root_ids\":[\"2803\"],\"roots\":{\"2803\":\"5bd5f1d7-d0b8-4453-8168-723f271d103b\"}}];\n",
       "  root.Bokeh.embed.embed_items_notebook(docs_json, render_items);\n",
       "\n",
       "  }\n",
       "  if (root.Bokeh !== undefined) {\n",
       "    embed_document(root);\n",
       "  } else {\n",
       "    var attempts = 0;\n",
       "    var timer = setInterval(function(root) {\n",
       "      if (root.Bokeh !== undefined) {\n",
       "        clearInterval(timer);\n",
       "        embed_document(root);\n",
       "      } else {\n",
       "        attempts++;\n",
       "        if (attempts > 100) {\n",
       "          clearInterval(timer);\n",
       "          console.log(\"Bokeh: ERROR: Unable to run BokehJS code because BokehJS library is missing\");\n",
       "        }\n",
       "      }\n",
       "    }, 10, root)\n",
       "  }\n",
       "})(window);"
      ],
      "application/vnd.bokehjs_exec.v0+json": ""
     },
     "metadata": {
      "application/vnd.bokehjs_exec.v0+json": {
       "id": "2803"
      }
     },
     "output_type": "display_data"
    }
   ],
   "source": [
    "plotTop10(top10_scaled_today, vals = 'conf_scaled', title = 'most cases per 1M inhabitants')"
   ]
  },
  {
   "cell_type": "markdown",
   "metadata": {},
   "source": [
    "#### 5. MinutePhysics Metric\n",
    "***\n",
    "Source: https://www.youtube.com/watch?v=54XLXg4fYsc\n",
    "\n",
    "Metric:\n",
    "* y = new confirmed cass last week (rolling sum weeks)\n",
    "* x = total confirmed cases"
   ]
  },
  {
   "cell_type": "code",
   "execution_count": 122,
   "metadata": {},
   "outputs": [],
   "source": [
    "def setAxes(exp):\n",
    "    \"\"\"\n",
    "    \"\"\"\n",
    "    # find the range required\n",
    "    x_max = np.ceil(np.log10(exp.total_confirmed.max()))\n",
    "    y_max = np.ceil(np.log10(exp.new_last_week.max()))\n",
    "    \n",
    "    # generate locations\n",
    "    x_locs_raw = 10**np.arange(0,x_max+1,1)\n",
    "    x_locs = [int(i) for i in x_locs_raw]\n",
    "    y_locs_raw = 10**np.arange(0,y_max+1,1)\n",
    "    y_locs = [int(i) for i in y_locs_raw]\n",
    "\n",
    "    # generate labels\n",
    "    x_labels = ['{:,.0f}'.format(v) for v in x_locs]\n",
    "    y_labels = ['{:,.0f}'.format(v) for v in y_locs]\n",
    "\n",
    "    # get required format\n",
    "    x_set = dict(zip(x_locs, x_labels))\n",
    "    y_set = dict(zip(y_locs, y_labels))\n",
    "\n",
    "    return x_set, y_set"
   ]
  },
  {
   "cell_type": "markdown",
   "metadata": {},
   "source": [
    "#### sample plot (mult. countries)"
   ]
  },
  {
   "cell_type": "code",
   "execution_count": 234,
   "metadata": {},
   "outputs": [
    {
     "name": "stdout",
     "output_type": "stream",
     "text": [
      "155 rows affected\n"
     ]
    }
   ],
   "source": [
    "# netherlands, belgium, italy, united_states, Malaysia\n",
    "query = \"\"\"\n",
    "SELECT *\n",
    "  FROM exp_stats\n",
    " WHERE country IN ('Netherlands','Italy')\n",
    "   AND total_confirmed > 25\n",
    "\"\"\"\n",
    "\n",
    "sample_exp = qdb.execute_query(query)"
   ]
  },
  {
   "cell_type": "code",
   "execution_count": 235,
   "metadata": {},
   "outputs": [
    {
     "name": "stderr",
     "output_type": "stream",
     "text": [
      "BokehDeprecationWarning: 'legend' keyword is deprecated, use explicit 'legend_label', 'legend_field', or 'legend_group' keywords instead\n"
     ]
    },
    {
     "data": {
      "text/html": [
       "\n",
       "\n",
       "\n",
       "\n",
       "\n",
       "\n",
       "  <div class=\"bk-root\" id=\"d5ce6bd5-27aa-4bc7-a784-d0931d763ed1\" data-root-id=\"22553\"></div>\n"
      ]
     },
     "metadata": {},
     "output_type": "display_data"
    },
    {
     "data": {
      "application/javascript": [
       "(function(root) {\n",
       "  function embed_document(root) {\n",
       "    \n",
       "  var docs_json = {\"1d9ec2c6-19ae-4c62-abeb-292a6e586221\":{\"roots\":{\"references\":[{\"attributes\":{\"below\":[{\"id\":\"22564\"}],\"center\":[{\"id\":\"22567\"},{\"id\":\"22571\"},{\"id\":\"22598\"}],\"left\":[{\"id\":\"22568\"}],\"plot_height\":400,\"plot_width\":700,\"renderers\":[{\"id\":\"22590\"}],\"title\":{\"id\":\"22554\"},\"toolbar\":{\"id\":\"22579\"},\"x_range\":{\"id\":\"22556\"},\"x_scale\":{\"id\":\"22560\"},\"y_range\":{\"id\":\"22558\"},\"y_scale\":{\"id\":\"22562\"}},\"id\":\"22553\",\"subtype\":\"Figure\",\"type\":\"Plot\"},{\"attributes\":{\"source\":{\"id\":\"22552\"}},\"id\":\"22591\",\"type\":\"CDSView\"},{\"attributes\":{\"fill_alpha\":{\"value\":0.1},\"fill_color\":{\"field\":\"country\",\"transform\":{\"id\":\"22586\"}},\"line_alpha\":{\"value\":0.1},\"line_color\":{\"field\":\"country\",\"transform\":{\"id\":\"22586\"}},\"line_width\":{\"value\":2},\"x\":{\"field\":\"total_confirmed\"},\"y\":{\"field\":\"new_last_week\"}},\"id\":\"22589\",\"type\":\"Circle\"},{\"attributes\":{\"ticker\":null},\"id\":\"22596\",\"type\":\"LogTickFormatter\"},{\"attributes\":{\"text\":\"Covid Progress\"},\"id\":\"22554\",\"type\":\"Title\"},{\"attributes\":{},\"id\":\"22576\",\"type\":\"ResetTool\"},{\"attributes\":{\"num_minor_ticks\":10},\"id\":\"22565\",\"type\":\"LogTicker\"},{\"attributes\":{},\"id\":\"23103\",\"type\":\"Selection\"},{\"attributes\":{\"num_minor_ticks\":10},\"id\":\"22569\",\"type\":\"LogTicker\"},{\"attributes\":{\"active_drag\":\"auto\",\"active_inspect\":\"auto\",\"active_multi\":null,\"active_scroll\":\"auto\",\"active_tap\":\"auto\",\"tools\":[{\"id\":\"22572\"},{\"id\":\"22573\"},{\"id\":\"22574\"},{\"id\":\"22575\"},{\"id\":\"22576\"},{\"id\":\"22577\"}]},\"id\":\"22579\",\"type\":\"Toolbar\"},{\"attributes\":{},\"id\":\"22573\",\"type\":\"WheelZoomTool\"},{\"attributes\":{\"axis\":{\"id\":\"22568\"},\"dimension\":1,\"ticker\":null},\"id\":\"22571\",\"type\":\"Grid\"},{\"attributes\":{\"overlay\":{\"id\":\"22578\"}},\"id\":\"22574\",\"type\":\"BoxZoomTool\"},{\"attributes\":{},\"id\":\"22575\",\"type\":\"SaveTool\"},{\"attributes\":{},\"id\":\"22572\",\"type\":\"PanTool\"},{\"attributes\":{\"factors\":[\"Italy\",\"Netherlands\"],\"palette\":[\"#ef8a62\",\"#67a9cf\"]},\"id\":\"22586\",\"type\":\"CategoricalColorMapper\"},{\"attributes\":{},\"id\":\"22560\",\"type\":\"LogScale\"},{\"attributes\":{},\"id\":\"22558\",\"type\":\"DataRange1d\"},{\"attributes\":{},\"id\":\"22577\",\"type\":\"HelpTool\"},{\"attributes\":{\"label\":{\"field\":\"country\"},\"renderers\":[{\"id\":\"22590\"}]},\"id\":\"22599\",\"type\":\"LegendItem\"},{\"attributes\":{\"axis\":{\"id\":\"22564\"},\"ticker\":null},\"id\":\"22567\",\"type\":\"Grid\"},{\"attributes\":{\"fill_color\":{\"field\":\"country\",\"transform\":{\"id\":\"22586\"}},\"line_color\":{\"field\":\"country\",\"transform\":{\"id\":\"22586\"}},\"line_width\":{\"value\":2},\"x\":{\"field\":\"total_confirmed\"},\"y\":{\"field\":\"new_last_week\"}},\"id\":\"22588\",\"type\":\"Circle\"},{\"attributes\":{\"axis_label\":\"New cases last week\",\"formatter\":{\"id\":\"22596\"},\"major_label_overrides\":{\"1\":\"1\",\"10\":\"10\",\"100\":\"100\",\"1000\":\"1,000\",\"10000\":\"10,000\"},\"ticker\":{\"id\":\"22569\"}},\"id\":\"22568\",\"type\":\"LogAxis\"},{\"attributes\":{\"bottom_units\":\"screen\",\"fill_alpha\":0.5,\"fill_color\":\"lightgrey\",\"left_units\":\"screen\",\"level\":\"overlay\",\"line_alpha\":1.0,\"line_color\":\"black\",\"line_dash\":[4,4],\"line_width\":2,\"render_mode\":\"css\",\"right_units\":\"screen\",\"top_units\":\"screen\"},\"id\":\"22578\",\"type\":\"BoxAnnotation\"},{\"attributes\":{},\"id\":\"23102\",\"type\":\"UnionRenderers\"},{\"attributes\":{\"axis_label\":\"Total confirmed cases\",\"formatter\":{\"id\":\"22594\"},\"major_label_overrides\":{\"1\":\"1\",\"10\":\"10\",\"100\":\"100\",\"1000\":\"1,000\",\"10000\":\"10,000\",\"100000\":\"100,000\"},\"ticker\":{\"id\":\"22565\"}},\"id\":\"22564\",\"type\":\"LogAxis\"},{\"attributes\":{\"data_source\":{\"id\":\"22552\"},\"glyph\":{\"id\":\"22588\"},\"hover_glyph\":null,\"muted_glyph\":null,\"nonselection_glyph\":{\"id\":\"22589\"},\"selection_glyph\":null,\"view\":{\"id\":\"22591\"}},\"id\":\"22590\",\"type\":\"GlyphRenderer\"},{\"attributes\":{\"items\":[{\"id\":\"22599\"}],\"location\":\"top_left\"},\"id\":\"22598\",\"type\":\"Legend\"},{\"attributes\":{},\"id\":\"22556\",\"type\":\"DataRange1d\"},{\"attributes\":{},\"id\":\"22562\",\"type\":\"LogScale\"},{\"attributes\":{\"data\":{\"country\":[\"Italy\",\"Italy\",\"Italy\",\"Italy\",\"Italy\",\"Italy\",\"Italy\",\"Italy\",\"Italy\",\"Italy\",\"Italy\",\"Italy\",\"Netherlands\",\"Italy\",\"Netherlands\",\"Italy\",\"Netherlands\",\"Italy\",\"Netherlands\",\"Italy\",\"Netherlands\",\"Italy\",\"Netherlands\",\"Italy\",\"Netherlands\",\"Italy\",\"Netherlands\",\"Italy\",\"Netherlands\",\"Italy\",\"Netherlands\",\"Italy\",\"Netherlands\",\"Italy\",\"Netherlands\",\"Italy\",\"Netherlands\",\"Italy\",\"Netherlands\",\"Italy\",\"Netherlands\",\"Italy\",\"Netherlands\",\"Italy\",\"Netherlands\",\"Italy\",\"Netherlands\",\"Italy\",\"Netherlands\",\"Italy\",\"Netherlands\",\"Italy\",\"Netherlands\",\"Italy\",\"Netherlands\",\"Italy\",\"Netherlands\",\"Italy\",\"Netherlands\",\"Italy\",\"Netherlands\",\"Italy\",\"Netherlands\",\"Italy\",\"Netherlands\",\"Italy\",\"Netherlands\",\"Italy\",\"Netherlands\",\"Italy\",\"Netherlands\",\"Italy\",\"Netherlands\",\"Italy\",\"Netherlands\",\"Italy\",\"Netherlands\",\"Italy\",\"Netherlands\",\"Italy\",\"Netherlands\",\"Italy\",\"Netherlands\",\"Italy\",\"Netherlands\",\"Italy\",\"Netherlands\",\"Italy\",\"Netherlands\",\"Italy\",\"Netherlands\",\"Italy\",\"Netherlands\",\"Italy\",\"Netherlands\",\"Italy\",\"Netherlands\",\"Italy\",\"Netherlands\",\"Italy\",\"Netherlands\",\"Italy\",\"Netherlands\",\"Italy\",\"Netherlands\",\"Italy\",\"Netherlands\",\"Italy\",\"Netherlands\",\"Italy\",\"Netherlands\",\"Italy\",\"Netherlands\",\"Italy\",\"Netherlands\",\"Italy\",\"Netherlands\",\"Italy\",\"Netherlands\",\"Italy\",\"Netherlands\",\"Italy\",\"Netherlands\",\"Italy\",\"Netherlands\",\"Italy\",\"Netherlands\",\"Italy\",\"Netherlands\",\"Italy\",\"Netherlands\",\"Italy\",\"Netherlands\",\"Italy\",\"Netherlands\",\"Italy\",\"Netherlands\",\"Italy\",\"Netherlands\",\"Italy\",\"Netherlands\",\"Italy\",\"Netherlands\",\"Italy\",\"Netherlands\",\"Italy\",\"Netherlands\",\"Italy\",\"Netherlands\",\"Italy\",\"Netherlands\",\"Italy\",\"Netherlands\",\"Italy\",\"Netherlands\"],\"date\":{\"__ndarray__\":\"AACAGaMGd0IAAEB/9QZ3QgAAAOVHB3dCAADASpoHd0IAAICw7Ad3QgAAQBY/CHdCAAAAfJEId0IAAMDh4wh3QgAAgEc2CXdCAABArYgJd0IAAAAT2wl3QgAAwHgtCndCAADAeC0Kd0IAAIDefwp3QgAAgN5/CndCAABARNIKd0IAAEBE0gp3QgAAAKokC3dCAAAAqiQLd0IAAMAPdwt3QgAAwA93C3dCAACAdckLd0IAAIB1yQt3QgAAQNsbDHdCAABA2xsMd0IAAABBbgx3QgAAAEFuDHdCAADApsAMd0IAAMCmwAx3QgAAgAwTDXdCAACADBMNd0IAAEByZQ13QgAAQHJlDXdCAAAA2LcNd0IAAADYtw13QgAAwD0KDndCAADAPQoOd0IAAICjXA53QgAAgKNcDndCAABACa8Od0IAAEAJrw53QgAAAG8BD3dCAAAAbwEPd0IAAMDUUw93QgAAwNRTD3dCAACAOqYPd0IAAIA6pg93QgAAQKD4D3dCAABAoPgPd0IAAAAGSxB3QgAAAAZLEHdCAADAa50Qd0IAAMBrnRB3QgAAgNHvEHdCAACA0e8Qd0IAAEA3QhF3QgAAQDdCEXdCAAAAnZQRd0IAAACdlBF3QgAAwALnEXdCAADAAucRd0IAAIBoORJ3QgAAgGg5EndCAABAzosSd0IAAEDOixJ3QgAAADTeEndCAAAANN4Sd0IAAMCZMBN3QgAAwJkwE3dCAACA/4ITd0IAAID/ghN3QgAAQGXVE3dCAABAZdUTd0IAAADLJxR3QgAAAMsnFHdCAADAMHoUd0IAAMAwehR3QgAAgJbMFHdCAACAlswUd0IAAED8HhV3QgAAQPweFXdCAAAAYnEVd0IAAABicRV3QgAAwMfDFXdCAADAx8MVd0IAAIAtFhZ3QgAAgC0WFndCAABAk2gWd0IAAECTaBZ3QgAAAPm6FndCAAAA+boWd0IAAMBeDRd3QgAAwF4NF3dCAACAxF8Xd0IAAIDEXxd3QgAAQCqyF3dCAABAKrIXd0IAAACQBBh3QgAAAJAEGHdCAADA9VYYd0IAAMD1Vhh3QgAAgFupGHdCAACAW6kYd0IAAEDB+xh3QgAAQMH7GHdCAAAAJ04Zd0IAAAAnThl3QgAAwIygGXdCAADAjKAZd0IAAIDy8hl3QgAAgPLyGXdCAABAWEUad0IAAEBYRRp3QgAAAL6XGndCAAAAvpcad0IAAMAj6hp3QgAAwCPqGndCAACAiTwbd0IAAICJPBt3QgAAQO+OG3dCAABA744bd0IAAABV4Rt3QgAAAFXhG3dCAADAujMcd0IAAMC6Mxx3QgAAgCCGHHdCAACAIIYcd0IAAECG2Bx3QgAAQIbYHHdCAAAA7Codd0IAAADsKh13QgAAwFF9HXdCAADAUX0dd0IAAIC3zx13QgAAgLfPHXdCAABAHSIed0IAAEAdIh53QgAAAIN0HndCAAAAg3Qed0IAAMDoxh53QgAAwOjGHndCAACAThkfd0IAAIBOGR93QgAAQLRrH3dCAABAtGsfd0IAAAAavh93QgAAABq+H3dCAADAfxAgd0IAAMB/ECB3QgAAgOViIHdCAACA5WIgd0IAAEBLtSB3QgAAQEu1IHdCAAAAsQchd0IAAACxByF3Qg==\",\"dtype\":\"float64\",\"shape\":[155]},\"index\":[0,1,2,3,4,5,6,7,8,9,10,11,12,13,14,15,16,17,18,19,20,21,22,23,24,25,26,27,28,29,30,31,32,33,34,35,36,37,38,39,40,41,42,43,44,45,46,47,48,49,50,51,52,53,54,55,56,57,58,59,60,61,62,63,64,65,66,67,68,69,70,71,72,73,74,75,76,77,78,79,80,81,82,83,84,85,86,87,88,89,90,91,92,93,94,95,96,97,98,99,100,101,102,103,104,105,106,107,108,109,110,111,112,113,114,115,116,117,118,119,120,121,122,123,124,125,126,127,128,129,130,131,132,133,134,135,136,137,138,139,140,141,142,143,144,145,146,147,148,149,150,151,152,153,154],\"new_last_week\":[59,152,226,319,450,652,868,1066,1539,1807,2180,2636,38,3203,81,3748,127,4755,182,5681,255,7136,303,7647,358,9373,465,8604,421,13024,678,15274,774,17372,873,18808,1095,21357,1329,23251,1555,28573,1964,29361,2197,32421,2678,34391,3079,35947,3348,37670,3869,38673,4380,39554,5001,39477,5644,38894,6179,38551,6713,37812,7053,36616,7087,36188,7258,34653,7320,33329,7174,32160,6908,31259,7023,30808,7109,29794,7042,28848,6986,28384,7115,27750,7428,27639,7844,27415,7793,26969,7784,26902,7871,25733,7634,25315,7480,24857,7370,23654,7195,22609,7092,21712,6878,21469,6737,22172,6716,21032,6538,20560,6110,19426,5618,18703,5202,18186,4852,17548,4295,16264,3966,15490,3591,14434,3260,13977,3050,13042,2729,12524,2528,11508,2674,10866,2520,10395,2461,9757,2303,8940,2147,8353,2057,7876,2019,8203,1897,7647,1892,7238,1707],\"total_confirmed\":[62,155,229,322,453,655,888,1128,1694,2036,2502,3089,38,3858,82,4636,128,5883,188,7375,265,9172,321,10149,382,12462,503,12462,503,17660,806,21157,962,24747,1138,27980,1416,31506,1711,35713,2058,41035,2467,47021,3003,53578,3640,59138,4217,63927,4764,69176,5580,74386,6438,80589,7468,86498,8647,92472,9819,97689,10930,101739,11817,105792,12667,110574,13696,115242,14788,119827,15821,124632,16727,128948,17953,132547,18926,135586,19709,139422,20682,143626,21903,147577,23249,152271,24571,156363,25746,159516,26710,162488,27580,165155,28316,168941,29383,172434,30619,175925,31766,178972,32838,181228,33588,183957,34317,187327,35032,189973,35921,192994,36729,195351,37384,197675,38040,199414,38440,201505,38612,203591,38998,205463,39512,207428,39989,209328,40434,210717,40769,211938,40968,213013,41286,214457,41518,215858,41973,217185,42292,218268,42581,219070,42826,219814,42987,221216,43183,222104,43410,223096,43680]},\"selected\":{\"id\":\"23103\"},\"selection_policy\":{\"id\":\"23102\"}},\"id\":\"22552\",\"type\":\"ColumnDataSource\"},{\"attributes\":{\"ticker\":null},\"id\":\"22594\",\"type\":\"LogTickFormatter\"}],\"root_ids\":[\"22553\"]},\"title\":\"Bokeh Application\",\"version\":\"2.0.2\"}};\n",
       "  var render_items = [{\"docid\":\"1d9ec2c6-19ae-4c62-abeb-292a6e586221\",\"root_ids\":[\"22553\"],\"roots\":{\"22553\":\"d5ce6bd5-27aa-4bc7-a784-d0931d763ed1\"}}];\n",
       "  root.Bokeh.embed.embed_items_notebook(docs_json, render_items);\n",
       "\n",
       "  }\n",
       "  if (root.Bokeh !== undefined) {\n",
       "    embed_document(root);\n",
       "  } else {\n",
       "    var attempts = 0;\n",
       "    var timer = setInterval(function(root) {\n",
       "      if (root.Bokeh !== undefined) {\n",
       "        clearInterval(timer);\n",
       "        embed_document(root);\n",
       "      } else {\n",
       "        attempts++;\n",
       "        if (attempts > 100) {\n",
       "          clearInterval(timer);\n",
       "          console.log(\"Bokeh: ERROR: Unable to run BokehJS code because BokehJS library is missing\");\n",
       "        }\n",
       "      }\n",
       "    }, 10, root)\n",
       "  }\n",
       "})(window);"
      ],
      "application/vnd.bokehjs_exec.v0+json": ""
     },
     "metadata": {
      "application/vnd.bokehjs_exec.v0+json": {
       "id": "22553"
      }
     },
     "output_type": "display_data"
    }
   ],
   "source": [
    "#set source\n",
    "source = ColumnDataSource(sample_exp)\n",
    "\n",
    "# create the plot\n",
    "p = figure(title = 'Covid Progress', \n",
    "           x_axis_type = 'log',\n",
    "           y_axis_type = 'log',\n",
    "           x_axis_label = 'Total confirmed cases',\n",
    "           y_axis_label = 'New cases last week',\n",
    "           plot_height = 400,\n",
    "           plot_width = 700)\n",
    "\n",
    "color_mapper = CategoricalColorMapper(factors=sample_exp['country'].drop_duplicates().to_list(), \n",
    "                                      palette=[RdBu3[2], RdBu3[0]])\n",
    "\n",
    "p.circle(x='total_confirmed', y='new_last_week', line_width=2, source=source,\n",
    "    color={'field': 'country', 'transform': color_mapper}, legend = 'country') \n",
    "\n",
    "# set axes\n",
    "x_set, y_set = setAxes(exp)\n",
    "p.xaxis.major_label_overrides = x_set\n",
    "p.yaxis.major_label_overrides = y_set\n",
    "\n",
    "p.legend.location = \"top_left\"\n",
    "show(p)"
   ]
  },
  {
   "cell_type": "code",
   "execution_count": null,
   "metadata": {},
   "outputs": [],
   "source": []
  },
  {
   "cell_type": "code",
   "execution_count": null,
   "metadata": {},
   "outputs": [],
   "source": []
  },
  {
   "cell_type": "markdown",
   "metadata": {},
   "source": [
    "#### 6. KPI Metric: XmR chart\n",
    "***\n",
    "Source: https://www.staceybarr.com/measure-up/an-insight-from-the-covid-19-metric-growth-factor/\n",
    "\n",
    "Concept is to map a KPI, it's central line (avg first x measurements) and it's 'natural process limits' (normal statistical variance). Plotting these factors gives you insights in how your KPI is moving."
   ]
  },
  {
   "cell_type": "code",
   "execution_count": 392,
   "metadata": {
    "scrolled": true
   },
   "outputs": [
    {
     "name": "stdout",
     "output_type": "stream",
     "text": [
      " * sqlite:///../data/processed/covid.sqlite\n",
      "Done.\n"
     ]
    },
    {
     "data": {
      "text/html": [
       "<table>\n",
       "    <tr>\n",
       "        <th>date</th>\n",
       "        <th>conf</th>\n",
       "    </tr>\n",
       "    <tr>\n",
       "        <td>2020-01-23</td>\n",
       "        <td>0</td>\n",
       "    </tr>\n",
       "    <tr>\n",
       "        <td>2020-01-24</td>\n",
       "        <td>0</td>\n",
       "    </tr>\n",
       "    <tr>\n",
       "        <td>2020-01-25</td>\n",
       "        <td>0</td>\n",
       "    </tr>\n",
       "    <tr>\n",
       "        <td>2020-01-26</td>\n",
       "        <td>0</td>\n",
       "    </tr>\n",
       "    <tr>\n",
       "        <td>2020-01-27</td>\n",
       "        <td>0</td>\n",
       "    </tr>\n",
       "    <tr>\n",
       "        <td>2020-01-28</td>\n",
       "        <td>0</td>\n",
       "    </tr>\n",
       "    <tr>\n",
       "        <td>2020-01-29</td>\n",
       "        <td>0</td>\n",
       "    </tr>\n",
       "    <tr>\n",
       "        <td>2020-01-30</td>\n",
       "        <td>0</td>\n",
       "    </tr>\n",
       "    <tr>\n",
       "        <td>2020-01-31</td>\n",
       "        <td>0</td>\n",
       "    </tr>\n",
       "    <tr>\n",
       "        <td>2020-02-01</td>\n",
       "        <td>0</td>\n",
       "    </tr>\n",
       "    <tr>\n",
       "        <td>2020-02-02</td>\n",
       "        <td>0</td>\n",
       "    </tr>\n",
       "    <tr>\n",
       "        <td>2020-02-03</td>\n",
       "        <td>0</td>\n",
       "    </tr>\n",
       "    <tr>\n",
       "        <td>2020-02-04</td>\n",
       "        <td>0</td>\n",
       "    </tr>\n",
       "    <tr>\n",
       "        <td>2020-02-05</td>\n",
       "        <td>0</td>\n",
       "    </tr>\n",
       "    <tr>\n",
       "        <td>2020-02-06</td>\n",
       "        <td>0</td>\n",
       "    </tr>\n",
       "    <tr>\n",
       "        <td>2020-02-07</td>\n",
       "        <td>0</td>\n",
       "    </tr>\n",
       "    <tr>\n",
       "        <td>2020-02-08</td>\n",
       "        <td>0</td>\n",
       "    </tr>\n",
       "    <tr>\n",
       "        <td>2020-02-09</td>\n",
       "        <td>0</td>\n",
       "    </tr>\n",
       "    <tr>\n",
       "        <td>2020-02-10</td>\n",
       "        <td>0</td>\n",
       "    </tr>\n",
       "    <tr>\n",
       "        <td>2020-02-11</td>\n",
       "        <td>0</td>\n",
       "    </tr>\n",
       "    <tr>\n",
       "        <td>2020-02-12</td>\n",
       "        <td>0</td>\n",
       "    </tr>\n",
       "    <tr>\n",
       "        <td>2020-02-13</td>\n",
       "        <td>0</td>\n",
       "    </tr>\n",
       "    <tr>\n",
       "        <td>2020-02-14</td>\n",
       "        <td>0</td>\n",
       "    </tr>\n",
       "    <tr>\n",
       "        <td>2020-02-15</td>\n",
       "        <td>0</td>\n",
       "    </tr>\n",
       "    <tr>\n",
       "        <td>2020-02-16</td>\n",
       "        <td>0</td>\n",
       "    </tr>\n",
       "    <tr>\n",
       "        <td>2020-02-17</td>\n",
       "        <td>0</td>\n",
       "    </tr>\n",
       "    <tr>\n",
       "        <td>2020-02-18</td>\n",
       "        <td>0</td>\n",
       "    </tr>\n",
       "    <tr>\n",
       "        <td>2020-02-19</td>\n",
       "        <td>0</td>\n",
       "    </tr>\n",
       "    <tr>\n",
       "        <td>2020-02-20</td>\n",
       "        <td>0</td>\n",
       "    </tr>\n",
       "    <tr>\n",
       "        <td>2020-02-21</td>\n",
       "        <td>0</td>\n",
       "    </tr>\n",
       "    <tr>\n",
       "        <td>2020-02-22</td>\n",
       "        <td>0</td>\n",
       "    </tr>\n",
       "    <tr>\n",
       "        <td>2020-02-23</td>\n",
       "        <td>0</td>\n",
       "    </tr>\n",
       "    <tr>\n",
       "        <td>2020-02-24</td>\n",
       "        <td>0</td>\n",
       "    </tr>\n",
       "    <tr>\n",
       "        <td>2020-02-25</td>\n",
       "        <td>0</td>\n",
       "    </tr>\n",
       "    <tr>\n",
       "        <td>2020-02-26</td>\n",
       "        <td>0</td>\n",
       "    </tr>\n",
       "    <tr>\n",
       "        <td>2020-02-27</td>\n",
       "        <td>1</td>\n",
       "    </tr>\n",
       "    <tr>\n",
       "        <td>2020-02-28</td>\n",
       "        <td>0</td>\n",
       "    </tr>\n",
       "    <tr>\n",
       "        <td>2020-02-29</td>\n",
       "        <td>5</td>\n",
       "    </tr>\n",
       "    <tr>\n",
       "        <td>2020-03-01</td>\n",
       "        <td>4</td>\n",
       "    </tr>\n",
       "    <tr>\n",
       "        <td>2020-03-02</td>\n",
       "        <td>8</td>\n",
       "    </tr>\n",
       "    <tr>\n",
       "        <td>2020-03-03</td>\n",
       "        <td>6</td>\n",
       "    </tr>\n",
       "    <tr>\n",
       "        <td>2020-03-04</td>\n",
       "        <td>14</td>\n",
       "    </tr>\n",
       "    <tr>\n",
       "        <td>2020-03-05</td>\n",
       "        <td>44</td>\n",
       "    </tr>\n",
       "    <tr>\n",
       "        <td>2020-03-06</td>\n",
       "        <td>46</td>\n",
       "    </tr>\n",
       "    <tr>\n",
       "        <td>2020-03-07</td>\n",
       "        <td>60</td>\n",
       "    </tr>\n",
       "    <tr>\n",
       "        <td>2020-03-08</td>\n",
       "        <td>77</td>\n",
       "    </tr>\n",
       "    <tr>\n",
       "        <td>2020-03-09</td>\n",
       "        <td>56</td>\n",
       "    </tr>\n",
       "    <tr>\n",
       "        <td>2020-03-10</td>\n",
       "        <td>61</td>\n",
       "    </tr>\n",
       "    <tr>\n",
       "        <td>2020-03-11</td>\n",
       "        <td>121</td>\n",
       "    </tr>\n",
       "    <tr>\n",
       "        <td>2020-03-12</td>\n",
       "        <td>0</td>\n",
       "    </tr>\n",
       "    <tr>\n",
       "        <td>2020-03-13</td>\n",
       "        <td>303</td>\n",
       "    </tr>\n",
       "    <tr>\n",
       "        <td>2020-03-14</td>\n",
       "        <td>156</td>\n",
       "    </tr>\n",
       "    <tr>\n",
       "        <td>2020-03-15</td>\n",
       "        <td>176</td>\n",
       "    </tr>\n",
       "    <tr>\n",
       "        <td>2020-03-16</td>\n",
       "        <td>278</td>\n",
       "    </tr>\n",
       "    <tr>\n",
       "        <td>2020-03-17</td>\n",
       "        <td>295</td>\n",
       "    </tr>\n",
       "    <tr>\n",
       "        <td>2020-03-18</td>\n",
       "        <td>347</td>\n",
       "    </tr>\n",
       "    <tr>\n",
       "        <td>2020-03-19</td>\n",
       "        <td>409</td>\n",
       "    </tr>\n",
       "    <tr>\n",
       "        <td>2020-03-20</td>\n",
       "        <td>536</td>\n",
       "    </tr>\n",
       "    <tr>\n",
       "        <td>2020-03-21</td>\n",
       "        <td>637</td>\n",
       "    </tr>\n",
       "    <tr>\n",
       "        <td>2020-03-22</td>\n",
       "        <td>577</td>\n",
       "    </tr>\n",
       "    <tr>\n",
       "        <td>2020-03-23</td>\n",
       "        <td>547</td>\n",
       "    </tr>\n",
       "    <tr>\n",
       "        <td>2020-03-24</td>\n",
       "        <td>816</td>\n",
       "    </tr>\n",
       "    <tr>\n",
       "        <td>2020-03-25</td>\n",
       "        <td>858</td>\n",
       "    </tr>\n",
       "    <tr>\n",
       "        <td>2020-03-26</td>\n",
       "        <td>1030</td>\n",
       "    </tr>\n",
       "    <tr>\n",
       "        <td>2020-03-27</td>\n",
       "        <td>1179</td>\n",
       "    </tr>\n",
       "    <tr>\n",
       "        <td>2020-03-28</td>\n",
       "        <td>1172</td>\n",
       "    </tr>\n",
       "    <tr>\n",
       "        <td>2020-03-29</td>\n",
       "        <td>1111</td>\n",
       "    </tr>\n",
       "    <tr>\n",
       "        <td>2020-03-30</td>\n",
       "        <td>887</td>\n",
       "    </tr>\n",
       "    <tr>\n",
       "        <td>2020-03-31</td>\n",
       "        <td>850</td>\n",
       "    </tr>\n",
       "    <tr>\n",
       "        <td>2020-04-01</td>\n",
       "        <td>1029</td>\n",
       "    </tr>\n",
       "    <tr>\n",
       "        <td>2020-04-02</td>\n",
       "        <td>1092</td>\n",
       "    </tr>\n",
       "    <tr>\n",
       "        <td>2020-04-03</td>\n",
       "        <td>1033</td>\n",
       "    </tr>\n",
       "    <tr>\n",
       "        <td>2020-04-04</td>\n",
       "        <td>906</td>\n",
       "    </tr>\n",
       "    <tr>\n",
       "        <td>2020-04-05</td>\n",
       "        <td>1226</td>\n",
       "    </tr>\n",
       "    <tr>\n",
       "        <td>2020-04-06</td>\n",
       "        <td>973</td>\n",
       "    </tr>\n",
       "    <tr>\n",
       "        <td>2020-04-07</td>\n",
       "        <td>783</td>\n",
       "    </tr>\n",
       "    <tr>\n",
       "        <td>2020-04-08</td>\n",
       "        <td>973</td>\n",
       "    </tr>\n",
       "    <tr>\n",
       "        <td>2020-04-09</td>\n",
       "        <td>1221</td>\n",
       "    </tr>\n",
       "    <tr>\n",
       "        <td>2020-04-10</td>\n",
       "        <td>1346</td>\n",
       "    </tr>\n",
       "    <tr>\n",
       "        <td>2020-04-11</td>\n",
       "        <td>1322</td>\n",
       "    </tr>\n",
       "    <tr>\n",
       "        <td>2020-04-12</td>\n",
       "        <td>1175</td>\n",
       "    </tr>\n",
       "    <tr>\n",
       "        <td>2020-04-13</td>\n",
       "        <td>964</td>\n",
       "    </tr>\n",
       "    <tr>\n",
       "        <td>2020-04-14</td>\n",
       "        <td>870</td>\n",
       "    </tr>\n",
       "    <tr>\n",
       "        <td>2020-04-15</td>\n",
       "        <td>736</td>\n",
       "    </tr>\n",
       "    <tr>\n",
       "        <td>2020-04-16</td>\n",
       "        <td>1067</td>\n",
       "    </tr>\n",
       "    <tr>\n",
       "        <td>2020-04-17</td>\n",
       "        <td>1236</td>\n",
       "    </tr>\n",
       "    <tr>\n",
       "        <td>2020-04-18</td>\n",
       "        <td>1147</td>\n",
       "    </tr>\n",
       "    <tr>\n",
       "        <td>2020-04-19</td>\n",
       "        <td>1072</td>\n",
       "    </tr>\n",
       "    <tr>\n",
       "        <td>2020-04-20</td>\n",
       "        <td>750</td>\n",
       "    </tr>\n",
       "    <tr>\n",
       "        <td>2020-04-21</td>\n",
       "        <td>729</td>\n",
       "    </tr>\n",
       "    <tr>\n",
       "        <td>2020-04-22</td>\n",
       "        <td>715</td>\n",
       "    </tr>\n",
       "    <tr>\n",
       "        <td>2020-04-23</td>\n",
       "        <td>889</td>\n",
       "    </tr>\n",
       "    <tr>\n",
       "        <td>2020-04-24</td>\n",
       "        <td>808</td>\n",
       "    </tr>\n",
       "    <tr>\n",
       "        <td>2020-04-25</td>\n",
       "        <td>655</td>\n",
       "    </tr>\n",
       "    <tr>\n",
       "        <td>2020-04-26</td>\n",
       "        <td>656</td>\n",
       "    </tr>\n",
       "    <tr>\n",
       "        <td>2020-04-27</td>\n",
       "        <td>400</td>\n",
       "    </tr>\n",
       "    <tr>\n",
       "        <td>2020-04-28</td>\n",
       "        <td>172</td>\n",
       "    </tr>\n",
       "    <tr>\n",
       "        <td>2020-04-29</td>\n",
       "        <td>386</td>\n",
       "    </tr>\n",
       "    <tr>\n",
       "        <td>2020-04-30</td>\n",
       "        <td>514</td>\n",
       "    </tr>\n",
       "    <tr>\n",
       "        <td>2020-05-01</td>\n",
       "        <td>477</td>\n",
       "    </tr>\n",
       "    <tr>\n",
       "        <td>2020-05-02</td>\n",
       "        <td>445</td>\n",
       "    </tr>\n",
       "    <tr>\n",
       "        <td>2020-05-03</td>\n",
       "        <td>335</td>\n",
       "    </tr>\n",
       "    <tr>\n",
       "        <td>2020-05-04</td>\n",
       "        <td>199</td>\n",
       "    </tr>\n",
       "    <tr>\n",
       "        <td>2020-05-05</td>\n",
       "        <td>318</td>\n",
       "    </tr>\n",
       "    <tr>\n",
       "        <td>2020-05-06</td>\n",
       "        <td>232</td>\n",
       "    </tr>\n",
       "    <tr>\n",
       "        <td>2020-05-07</td>\n",
       "        <td>455</td>\n",
       "    </tr>\n",
       "    <tr>\n",
       "        <td>2020-05-08</td>\n",
       "        <td>319</td>\n",
       "    </tr>\n",
       "    <tr>\n",
       "        <td>2020-05-09</td>\n",
       "        <td>289</td>\n",
       "    </tr>\n",
       "    <tr>\n",
       "        <td>2020-05-10</td>\n",
       "        <td>245</td>\n",
       "    </tr>\n",
       "    <tr>\n",
       "        <td>2020-05-11</td>\n",
       "        <td>161</td>\n",
       "    </tr>\n",
       "    <tr>\n",
       "        <td>2020-05-12</td>\n",
       "        <td>196</td>\n",
       "    </tr>\n",
       "    <tr>\n",
       "        <td>2020-05-13</td>\n",
       "        <td>227</td>\n",
       "    </tr>\n",
       "    <tr>\n",
       "        <td>2020-05-14</td>\n",
       "        <td>270</td>\n",
       "    </tr>\n",
       "</table>"
      ],
      "text/plain": [
       "[('2020-01-23', 0),\n",
       " ('2020-01-24', 0),\n",
       " ('2020-01-25', 0),\n",
       " ('2020-01-26', 0),\n",
       " ('2020-01-27', 0),\n",
       " ('2020-01-28', 0),\n",
       " ('2020-01-29', 0),\n",
       " ('2020-01-30', 0),\n",
       " ('2020-01-31', 0),\n",
       " ('2020-02-01', 0),\n",
       " ('2020-02-02', 0),\n",
       " ('2020-02-03', 0),\n",
       " ('2020-02-04', 0),\n",
       " ('2020-02-05', 0),\n",
       " ('2020-02-06', 0),\n",
       " ('2020-02-07', 0),\n",
       " ('2020-02-08', 0),\n",
       " ('2020-02-09', 0),\n",
       " ('2020-02-10', 0),\n",
       " ('2020-02-11', 0),\n",
       " ('2020-02-12', 0),\n",
       " ('2020-02-13', 0),\n",
       " ('2020-02-14', 0),\n",
       " ('2020-02-15', 0),\n",
       " ('2020-02-16', 0),\n",
       " ('2020-02-17', 0),\n",
       " ('2020-02-18', 0),\n",
       " ('2020-02-19', 0),\n",
       " ('2020-02-20', 0),\n",
       " ('2020-02-21', 0),\n",
       " ('2020-02-22', 0),\n",
       " ('2020-02-23', 0),\n",
       " ('2020-02-24', 0),\n",
       " ('2020-02-25', 0),\n",
       " ('2020-02-26', 0),\n",
       " ('2020-02-27', 1),\n",
       " ('2020-02-28', 0),\n",
       " ('2020-02-29', 5),\n",
       " ('2020-03-01', 4),\n",
       " ('2020-03-02', 8),\n",
       " ('2020-03-03', 6),\n",
       " ('2020-03-04', 14),\n",
       " ('2020-03-05', 44),\n",
       " ('2020-03-06', 46),\n",
       " ('2020-03-07', 60),\n",
       " ('2020-03-08', 77),\n",
       " ('2020-03-09', 56),\n",
       " ('2020-03-10', 61),\n",
       " ('2020-03-11', 121),\n",
       " ('2020-03-12', 0),\n",
       " ('2020-03-13', 303),\n",
       " ('2020-03-14', 156),\n",
       " ('2020-03-15', 176),\n",
       " ('2020-03-16', 278),\n",
       " ('2020-03-17', 295),\n",
       " ('2020-03-18', 347),\n",
       " ('2020-03-19', 409),\n",
       " ('2020-03-20', 536),\n",
       " ('2020-03-21', 637),\n",
       " ('2020-03-22', 577),\n",
       " ('2020-03-23', 547),\n",
       " ('2020-03-24', 816),\n",
       " ('2020-03-25', 858),\n",
       " ('2020-03-26', 1030),\n",
       " ('2020-03-27', 1179),\n",
       " ('2020-03-28', 1172),\n",
       " ('2020-03-29', 1111),\n",
       " ('2020-03-30', 887),\n",
       " ('2020-03-31', 850),\n",
       " ('2020-04-01', 1029),\n",
       " ('2020-04-02', 1092),\n",
       " ('2020-04-03', 1033),\n",
       " ('2020-04-04', 906),\n",
       " ('2020-04-05', 1226),\n",
       " ('2020-04-06', 973),\n",
       " ('2020-04-07', 783),\n",
       " ('2020-04-08', 973),\n",
       " ('2020-04-09', 1221),\n",
       " ('2020-04-10', 1346),\n",
       " ('2020-04-11', 1322),\n",
       " ('2020-04-12', 1175),\n",
       " ('2020-04-13', 964),\n",
       " ('2020-04-14', 870),\n",
       " ('2020-04-15', 736),\n",
       " ('2020-04-16', 1067),\n",
       " ('2020-04-17', 1236),\n",
       " ('2020-04-18', 1147),\n",
       " ('2020-04-19', 1072),\n",
       " ('2020-04-20', 750),\n",
       " ('2020-04-21', 729),\n",
       " ('2020-04-22', 715),\n",
       " ('2020-04-23', 889),\n",
       " ('2020-04-24', 808),\n",
       " ('2020-04-25', 655),\n",
       " ('2020-04-26', 656),\n",
       " ('2020-04-27', 400),\n",
       " ('2020-04-28', 172),\n",
       " ('2020-04-29', 386),\n",
       " ('2020-04-30', 514),\n",
       " ('2020-05-01', 477),\n",
       " ('2020-05-02', 445),\n",
       " ('2020-05-03', 335),\n",
       " ('2020-05-04', 199),\n",
       " ('2020-05-05', 318),\n",
       " ('2020-05-06', 232),\n",
       " ('2020-05-07', 455),\n",
       " ('2020-05-08', 319),\n",
       " ('2020-05-09', 289),\n",
       " ('2020-05-10', 245),\n",
       " ('2020-05-11', 161),\n",
       " ('2020-05-12', 196),\n",
       " ('2020-05-13', 227),\n",
       " ('2020-05-14', 270)]"
      ]
     },
     "execution_count": 392,
     "metadata": {},
     "output_type": "execute_result"
    }
   ],
   "source": [
    "%%sql\n",
    "-- calculate the daily new cases\n",
    "SELECT\n",
    "    date,\n",
    "    confirmed AS conf\n",
    "FROM daily_stats\n",
    "WHERE country = 'Netherlands';"
   ]
  },
  {
   "cell_type": "code",
   "execution_count": 410,
   "metadata": {},
   "outputs": [],
   "source": [
    "res = _.DataFrame()"
   ]
  },
  {
   "cell_type": "code",
   "execution_count": 411,
   "metadata": {},
   "outputs": [],
   "source": [
    "# control parameters\n",
    "central_line_size = 15 # window for base-line; user defined; chosen 15 (0.5 month)\n",
    "upper_range_limit = 3.27 #fixed\n",
    "range_factor = 2.66 #fixed\n"
   ]
  },
  {
   "cell_type": "code",
   "execution_count": 412,
   "metadata": {},
   "outputs": [],
   "source": [
    "# add our growth\n",
    "res['growth'] = res['conf'] / res['conf'].shift(fill_value = 0)\n",
    "xmr = res[res['date']>'2020-04-01'].reset_index(drop=True)\n",
    "xmr['date'] = pd.to_datetime(xmr['date'])\n"
   ]
  },
  {
   "cell_type": "code",
   "execution_count": 415,
   "metadata": {},
   "outputs": [],
   "source": [
    "# calculate the central line (average of size .. )\n",
    "xmr['central_line'] = xmr['growth'].iloc[:central_line_size].mean()"
   ]
  },
  {
   "cell_type": "code",
   "execution_count": 416,
   "metadata": {},
   "outputs": [],
   "source": [
    "# calculate the moving ranges (1-lag diff - abs)\n",
    "xmr['moving_ranges'] = np.abs(xmr['growth'] - xmr['growth'].shift())"
   ]
  },
  {
   "cell_type": "code",
   "execution_count": 417,
   "metadata": {},
   "outputs": [],
   "source": [
    "# get the average moving ranges\n",
    "xmr['avg_mr'] = xmr['moving_ranges'].mean()"
   ]
  },
  {
   "cell_type": "code",
   "execution_count": 418,
   "metadata": {},
   "outputs": [],
   "source": [
    "# get the upper range limit\n",
    "xmr['upper_range_limit'] = xmr['avg_mr'] * upper_range_limit"
   ]
  },
  {
   "cell_type": "code",
   "execution_count": 419,
   "metadata": {},
   "outputs": [],
   "source": [
    "# calculate natural process limits\n",
    "xmr['lnpl'] = xmr['central_line'] - xmr['avg_mr'] * range_factor\n",
    "xmr['unpl'] = xmr['central_line'] + xmr['avg_mr'] * range_factor"
   ]
  },
  {
   "cell_type": "code",
   "execution_count": 420,
   "metadata": {},
   "outputs": [
    {
     "data": {
      "text/html": [
       "\n",
       "\n",
       "\n",
       "\n",
       "\n",
       "\n",
       "  <div class=\"bk-root\" id=\"09c41dd4-8b11-4d4d-8f61-a190ce164e65\" data-root-id=\"70930\"></div>\n"
      ]
     },
     "metadata": {},
     "output_type": "display_data"
    },
    {
     "data": {
      "application/javascript": [
       "(function(root) {\n",
       "  function embed_document(root) {\n",
       "    \n",
       "  var docs_json = {\"59b4d11b-8b7b-4352-9963-e827a0fa1a53\":{\"roots\":{\"references\":[{\"attributes\":{\"below\":[{\"id\":\"70941\"}],\"center\":[{\"id\":\"70944\"},{\"id\":\"70948\"},{\"id\":\"70986\"}],\"left\":[{\"id\":\"70945\"}],\"plot_height\":400,\"plot_width\":900,\"renderers\":[{\"id\":\"70966\"},{\"id\":\"70991\"},{\"id\":\"71017\"},{\"id\":\"71042\"}],\"title\":{\"id\":\"70931\"},\"toolbar\":{\"id\":\"70956\"},\"x_range\":{\"id\":\"70933\"},\"x_scale\":{\"id\":\"70937\"},\"y_range\":{\"id\":\"70935\"},\"y_scale\":{\"id\":\"70939\"}},\"id\":\"70930\",\"subtype\":\"Figure\",\"type\":\"Plot\"},{\"attributes\":{\"active_drag\":\"auto\",\"active_inspect\":\"auto\",\"active_multi\":null,\"active_scroll\":\"auto\",\"active_tap\":\"auto\",\"tools\":[{\"id\":\"70949\"},{\"id\":\"70950\"},{\"id\":\"70951\"},{\"id\":\"70952\"},{\"id\":\"70953\"},{\"id\":\"70954\"}]},\"id\":\"70956\",\"type\":\"Toolbar\"},{\"attributes\":{\"label\":{\"value\":\"growth-rate\"},\"renderers\":[{\"id\":\"70966\"}]},\"id\":\"70987\",\"type\":\"LegendItem\"},{\"attributes\":{\"bottom_units\":\"screen\",\"fill_alpha\":0.5,\"fill_color\":\"lightgrey\",\"left_units\":\"screen\",\"level\":\"overlay\",\"line_alpha\":1.0,\"line_color\":\"black\",\"line_dash\":[4,4],\"line_width\":2,\"render_mode\":\"css\",\"right_units\":\"screen\",\"top_units\":\"screen\"},\"id\":\"70955\",\"type\":\"BoxAnnotation\"},{\"attributes\":{},\"id\":\"70937\",\"type\":\"LinearScale\"},{\"attributes\":{\"days\":[1,15]},\"id\":\"70980\",\"type\":\"DaysTicker\"},{\"attributes\":{},\"id\":\"70935\",\"type\":\"DataRange1d\"},{\"attributes\":{},\"id\":\"70939\",\"type\":\"LinearScale\"},{\"attributes\":{\"data_source\":{\"id\":\"70929\"},\"glyph\":{\"id\":\"70964\"},\"hover_glyph\":null,\"muted_glyph\":null,\"nonselection_glyph\":{\"id\":\"70965\"},\"selection_glyph\":null,\"view\":{\"id\":\"70967\"}},\"id\":\"70966\",\"type\":\"GlyphRenderer\"},{\"attributes\":{\"axis_label\":\"Date\",\"formatter\":{\"id\":\"70970\"},\"ticker\":{\"id\":\"70942\"}},\"id\":\"70941\",\"type\":\"DatetimeAxis\"},{\"attributes\":{},\"id\":\"70933\",\"type\":\"DataRange1d\"},{\"attributes\":{\"line_color\":\"red\",\"line_width\":2,\"x\":{\"field\":\"date\"},\"y\":{\"field\":\"growth\"}},\"id\":\"70964\",\"type\":\"Line\"},{\"attributes\":{\"line_alpha\":0.1,\"line_width\":2,\"x\":{\"field\":\"date\"},\"y\":{\"field\":\"central_line\"}},\"id\":\"70990\",\"type\":\"Line\"},{\"attributes\":{\"source\":{\"id\":\"70929\"}},\"id\":\"70992\",\"type\":\"CDSView\"},{\"attributes\":{\"num_minor_ticks\":5,\"tickers\":[{\"id\":\"70974\"},{\"id\":\"70975\"},{\"id\":\"70976\"},{\"id\":\"70977\"},{\"id\":\"70978\"},{\"id\":\"70979\"},{\"id\":\"70980\"},{\"id\":\"70981\"},{\"id\":\"70982\"},{\"id\":\"70983\"},{\"id\":\"70984\"},{\"id\":\"70985\"}]},\"id\":\"70942\",\"type\":\"DatetimeTicker\"},{\"attributes\":{},\"id\":\"70972\",\"type\":\"BasicTickFormatter\"},{\"attributes\":{\"axis\":{\"id\":\"70941\"},\"ticker\":null},\"id\":\"70944\",\"type\":\"Grid\"},{\"attributes\":{\"line_width\":2,\"x\":{\"field\":\"date\"},\"y\":{\"field\":\"central_line\"}},\"id\":\"70989\",\"type\":\"Line\"},{\"attributes\":{\"mantissas\":[1,2,5],\"max_interval\":500.0,\"num_minor_ticks\":0},\"id\":\"70974\",\"type\":\"AdaptiveTicker\"},{\"attributes\":{\"data_source\":{\"id\":\"70929\"},\"glyph\":{\"id\":\"70989\"},\"hover_glyph\":null,\"muted_glyph\":null,\"nonselection_glyph\":{\"id\":\"70990\"},\"selection_glyph\":null,\"view\":{\"id\":\"70992\"}},\"id\":\"70991\",\"type\":\"GlyphRenderer\"},{\"attributes\":{\"axis_label\":\"Growth\",\"formatter\":{\"id\":\"70972\"},\"ticker\":{\"id\":\"70946\"}},\"id\":\"70945\",\"type\":\"LinearAxis\"},{\"attributes\":{},\"id\":\"70946\",\"type\":\"BasicTicker\"},{\"attributes\":{},\"id\":\"71000\",\"type\":\"Selection\"},{\"attributes\":{\"base\":60,\"mantissas\":[1,2,5,10,15,20,30],\"max_interval\":1800000.0,\"min_interval\":1000.0,\"num_minor_ticks\":0},\"id\":\"70975\",\"type\":\"AdaptiveTicker\"},{\"attributes\":{\"axis\":{\"id\":\"70945\"},\"dimension\":1,\"ticker\":null},\"id\":\"70948\",\"type\":\"Grid\"},{\"attributes\":{\"label\":{\"value\":\"Lower Natural Process Limit\"},\"renderers\":[{\"id\":\"70991\"},{\"id\":\"71017\"}]},\"id\":\"71013\",\"type\":\"LegendItem\"},{\"attributes\":{\"base\":24,\"mantissas\":[1,2,4,6,8,12],\"max_interval\":43200000.0,\"min_interval\":3600000.0,\"num_minor_ticks\":0},\"id\":\"70976\",\"type\":\"AdaptiveTicker\"},{\"attributes\":{\"source\":{\"id\":\"70929\"}},\"id\":\"70967\",\"type\":\"CDSView\"},{\"attributes\":{\"days\":[1,2,3,4,5,6,7,8,9,10,11,12,13,14,15,16,17,18,19,20,21,22,23,24,25,26,27,28,29,30,31]},\"id\":\"70977\",\"type\":\"DaysTicker\"},{\"attributes\":{\"label\":{\"value\":\"Upper Natural Process Limit\"},\"renderers\":[{\"id\":\"71042\"}]},\"id\":\"71064\",\"type\":\"LegendItem\"},{\"attributes\":{\"line_alpha\":0.1,\"line_color\":\"red\",\"line_width\":2,\"x\":{\"field\":\"date\"},\"y\":{\"field\":\"growth\"}},\"id\":\"70965\",\"type\":\"Line\"},{\"attributes\":{\"line_alpha\":0.1,\"line_color\":\"blue\",\"line_width\":2,\"x\":{\"field\":\"date\"},\"y\":{\"field\":\"lnpl\"}},\"id\":\"71016\",\"type\":\"Line\"},{\"attributes\":{\"months\":[0,2,4,6,8,10]},\"id\":\"70982\",\"type\":\"MonthsTicker\"},{\"attributes\":{\"days\":[1,4,7,10,13,16,19,22,25,28]},\"id\":\"70978\",\"type\":\"DaysTicker\"},{\"attributes\":{},\"id\":\"70949\",\"type\":\"PanTool\"},{\"attributes\":{\"source\":{\"id\":\"70929\"}},\"id\":\"71018\",\"type\":\"CDSView\"},{\"attributes\":{\"days\":[1,8,15,22]},\"id\":\"70979\",\"type\":\"DaysTicker\"},{\"attributes\":{},\"id\":\"70950\",\"type\":\"WheelZoomTool\"},{\"attributes\":{\"line_alpha\":0.1,\"line_color\":\"blue\",\"line_width\":2,\"x\":{\"field\":\"date\"},\"y\":{\"field\":\"unpl\"}},\"id\":\"71041\",\"type\":\"Line\"},{\"attributes\":{},\"id\":\"70999\",\"type\":\"UnionRenderers\"},{\"attributes\":{\"line_color\":\"blue\",\"line_width\":2,\"x\":{\"field\":\"date\"},\"y\":{\"field\":\"lnpl\"}},\"id\":\"71015\",\"type\":\"Line\"},{\"attributes\":{\"months\":[0,1,2,3,4,5,6,7,8,9,10,11]},\"id\":\"70981\",\"type\":\"MonthsTicker\"},{\"attributes\":{\"data_source\":{\"id\":\"70929\"},\"glyph\":{\"id\":\"71015\"},\"hover_glyph\":null,\"muted_glyph\":null,\"nonselection_glyph\":{\"id\":\"71016\"},\"selection_glyph\":null,\"view\":{\"id\":\"71018\"}},\"id\":\"71017\",\"type\":\"GlyphRenderer\"},{\"attributes\":{\"overlay\":{\"id\":\"70955\"}},\"id\":\"70951\",\"type\":\"BoxZoomTool\"},{\"attributes\":{\"text\":\"central_line: 1.0217\"},\"id\":\"70931\",\"type\":\"Title\"},{\"attributes\":{\"months\":[0,4,8]},\"id\":\"70983\",\"type\":\"MonthsTicker\"},{\"attributes\":{},\"id\":\"70952\",\"type\":\"SaveTool\"},{\"attributes\":{\"months\":[0,6]},\"id\":\"70984\",\"type\":\"MonthsTicker\"},{\"attributes\":{},\"id\":\"70953\",\"type\":\"ResetTool\"},{\"attributes\":{\"data\":{\"avg_mr\":{\"__ndarray__\":\"6NNpL3PL1T/o02kvc8vVP+jTaS9zy9U/6NNpL3PL1T/o02kvc8vVP+jTaS9zy9U/6NNpL3PL1T/o02kvc8vVP+jTaS9zy9U/6NNpL3PL1T/o02kvc8vVP+jTaS9zy9U/6NNpL3PL1T/o02kvc8vVP+jTaS9zy9U/6NNpL3PL1T/o02kvc8vVP+jTaS9zy9U/6NNpL3PL1T/o02kvc8vVP+jTaS9zy9U/6NNpL3PL1T/o02kvc8vVP+jTaS9zy9U/6NNpL3PL1T/o02kvc8vVP+jTaS9zy9U/6NNpL3PL1T/o02kvc8vVP+jTaS9zy9U/6NNpL3PL1T/o02kvc8vVP+jTaS9zy9U/6NNpL3PL1T/o02kvc8vVP+jTaS9zy9U/6NNpL3PL1T/o02kvc8vVP+jTaS9zy9U/6NNpL3PL1T/o02kvc8vVP+jTaS9zy9U/6NNpL3PL1T8=\",\"dtype\":\"float64\",\"shape\":[43]},\"central_line\":{\"__ndarray__\":\"9fgU/NVY8D/1+BT81VjwP/X4FPzVWPA/9fgU/NVY8D/1+BT81VjwP/X4FPzVWPA/9fgU/NVY8D/1+BT81VjwP/X4FPzVWPA/9fgU/NVY8D/1+BT81VjwP/X4FPzVWPA/9fgU/NVY8D/1+BT81VjwP/X4FPzVWPA/9fgU/NVY8D/1+BT81VjwP/X4FPzVWPA/9fgU/NVY8D/1+BT81VjwP/X4FPzVWPA/9fgU/NVY8D/1+BT81VjwP/X4FPzVWPA/9fgU/NVY8D/1+BT81VjwP/X4FPzVWPA/9fgU/NVY8D/1+BT81VjwP/X4FPzVWPA/9fgU/NVY8D/1+BT81VjwP/X4FPzVWPA/9fgU/NVY8D/1+BT81VjwP/X4FPzVWPA/9fgU/NVY8D/1+BT81VjwP/X4FPzVWPA/9fgU/NVY8D/1+BT81VjwP/X4FPzVWPA/9fgU/NVY8D8=\",\"dtype\":\"float64\",\"shape\":[43]},\"conf\":[1092,1033,906,1226,973,783,973,1221,1346,1322,1175,964,870,736,1067,1236,1147,1072,750,729,715,889,808,655,656,400,172,386,514,477,445,335,199,318,232,455,319,289,245,161,196,227,270],\"date\":{\"__ndarray__\":\"AACA/4ITd0IAAEBl1RN3QgAAAMsnFHdCAADAMHoUd0IAAICWzBR3QgAAQPweFXdCAAAAYnEVd0IAAMDHwxV3QgAAgC0WFndCAABAk2gWd0IAAAD5uhZ3QgAAwF4NF3dCAACAxF8Xd0IAAEAqshd3QgAAAJAEGHdCAADA9VYYd0IAAIBbqRh3QgAAQMH7GHdCAAAAJ04Zd0IAAMCMoBl3QgAAgPLyGXdCAABAWEUad0IAAAC+lxp3QgAAwCPqGndCAACAiTwbd0IAAEDvjht3QgAAAFXhG3dCAADAujMcd0IAAIAghhx3QgAAQIbYHHdCAAAA7Codd0IAAMBRfR13QgAAgLfPHXdCAABAHSIed0IAAACDdB53QgAAwOjGHndCAACAThkfd0IAAEC0ax93QgAAABq+H3dCAADAfxAgd0IAAIDlYiB3QgAAQEu1IHdCAAAAsQchd0I=\",\"dtype\":\"float64\",\"shape\":[43]},\"growth\":{\"__ndarray__\":\"PzTWh8b68D9WZEVWZEXuP+ULUBXaEOw/2JoW+LWm9T/AJIgye2XpP+qodjFUwOk/2OWvuuvh8z+w6pTy/hP0P+8CShNUo/E/fxGSgO5t7z/WeKjZFnHsP4gXjAvtQOo/7THh7DHh7D/mI7FhPhLrPwtZyEIWMvc/DeEC3MGI8j9qgHF7H7LtPxIQqH1X6O0/VM5u4Vdj5j+0yHa+nxrvP8PG2nmtYu8/qrKH78nk8z9Fx6zomBXtP931s8XK8Ok/dKgf4UAG8D+D8zE4H4PjP4XrUbgehds/fUFf0Bf0AUD7Az1SQk71P06yTbJNsu0/60fCjm7a7T+BC1zgAhfoPw6yueNKAuM/4B7Y6F2R+T/pMX+vjVjnP6gRlnsaYf8/9mZv9mZv5j8GCIqsl/3sP123EWzGIOs/dVAHdVAH5T84velNb3rzP6KxPjTWh/I/ZG0V7+QH8z8=\",\"dtype\":\"float64\",\"shape\":[43]},\"index\":[0,1,2,3,4,5,6,7,8,9,10,11,12,13,14,15,16,17,18,19,20,21,22,23,24,25,26,27,28,29,30,31,32,33,34,35,36,37,38,39,40,41,42],\"lnpl\":{\"__ndarray__\":\"MIMS0waovT8wgxLTBqi9PzCDEtMGqL0/MIMS0waovT8wgxLTBqi9PzCDEtMGqL0/MIMS0waovT8wgxLTBqi9PzCDEtMGqL0/MIMS0waovT8wgxLTBqi9PzCDEtMGqL0/MIMS0waovT8wgxLTBqi9PzCDEtMGqL0/MIMS0waovT8wgxLTBqi9PzCDEtMGqL0/MIMS0waovT8wgxLTBqi9PzCDEtMGqL0/MIMS0waovT8wgxLTBqi9PzCDEtMGqL0/MIMS0waovT8wgxLTBqi9PzCDEtMGqL0/MIMS0waovT8wgxLTBqi9PzCDEtMGqL0/MIMS0waovT8wgxLTBqi9PzCDEtMGqL0/MIMS0waovT8wgxLTBqi9PzCDEtMGqL0/MIMS0waovT8wgxLTBqi9PzCDEtMGqL0/MIMS0waovT8wgxLTBqi9PzCDEtMGqL0/MIMS0waovT8=\",\"dtype\":\"float64\",\"shape\":[43]},\"moving_ranges\":{\"__ndarray__\":\"AAAAAAAA+H9AITjLRYG9P4jDqgdSpLE/llO6tSN53j/wEKW98OfhP4AKobs/toY/jEXShwYH3D8AbILymwmJPwg+V/pWhcM/+KIPMM3Fvj9IxUw3vea3P3AK43BOgbE/KNOoCicCtT9w4ACzOO+sPzCO3yPuUeM/+N8Vm1Gl0j/ABlHykH3NPwDURxsBHHs/+AblcP4Tzj/A9A+6j27RP8CD/9huA4I/Ij1pyszN0D8ePMXs9WfVP0CLxhdxJrk/LGwt8ttuyD/KuhoUxRLZPwL3I3A/Asc/GQiq8ucG/T/+/QKd2jPtP1CrWORt1Nk/gM5KOm4QdD+o8Zi5rg3HP8xlifLfUsQ/2UX7djgQ8D/XCzEiLsrrP7R41qPTtPM/LV5eAGcp9D9AhGrYwjjKP5AKhQcUza0/oJsp3NdlyD/7Kcwmju3hP8ByYTUjU64/QHjXWtcBoD8=\",\"dtype\":\"float64\",\"shape\":[43]},\"unpl\":{\"__ndarray__\":\"t8n4iivX/j+3yfiKK9f+P7fJ+Ior1/4/t8n4iivX/j+3yfiKK9f+P7fJ+Ior1/4/t8n4iivX/j+3yfiKK9f+P7fJ+Ior1/4/t8n4iivX/j+3yfiKK9f+P7fJ+Ior1/4/t8n4iivX/j+3yfiKK9f+P7fJ+Ior1/4/t8n4iivX/j+3yfiKK9f+P7fJ+Ior1/4/t8n4iivX/j+3yfiKK9f+P7fJ+Ior1/4/t8n4iivX/j+3yfiKK9f+P7fJ+Ior1/4/t8n4iivX/j+3yfiKK9f+P7fJ+Ior1/4/t8n4iivX/j+3yfiKK9f+P7fJ+Ior1/4/t8n4iivX/j+3yfiKK9f+P7fJ+Ior1/4/t8n4iivX/j+3yfiKK9f+P7fJ+Ior1/4/t8n4iivX/j+3yfiKK9f+P7fJ+Ior1/4/t8n4iivX/j+3yfiKK9f+P7fJ+Ior1/4/t8n4iivX/j8=\",\"dtype\":\"float64\",\"shape\":[43]},\"upper_range_limit\":{\"__ndarray__\":\"tzGuSDPR8T+3Ma5IM9HxP7cxrkgz0fE/tzGuSDPR8T+3Ma5IM9HxP7cxrkgz0fE/tzGuSDPR8T+3Ma5IM9HxP7cxrkgz0fE/tzGuSDPR8T+3Ma5IM9HxP7cxrkgz0fE/tzGuSDPR8T+3Ma5IM9HxP7cxrkgz0fE/tzGuSDPR8T+3Ma5IM9HxP7cxrkgz0fE/tzGuSDPR8T+3Ma5IM9HxP7cxrkgz0fE/tzGuSDPR8T+3Ma5IM9HxP7cxrkgz0fE/tzGuSDPR8T+3Ma5IM9HxP7cxrkgz0fE/tzGuSDPR8T+3Ma5IM9HxP7cxrkgz0fE/tzGuSDPR8T+3Ma5IM9HxP7cxrkgz0fE/tzGuSDPR8T+3Ma5IM9HxP7cxrkgz0fE/tzGuSDPR8T+3Ma5IM9HxP7cxrkgz0fE/tzGuSDPR8T+3Ma5IM9HxP7cxrkgz0fE/tzGuSDPR8T8=\",\"dtype\":\"float64\",\"shape\":[43]}},\"selected\":{\"id\":\"71000\"},\"selection_policy\":{\"id\":\"70999\"}},\"id\":\"70929\",\"type\":\"ColumnDataSource\"},{\"attributes\":{\"source\":{\"id\":\"70929\"}},\"id\":\"71043\",\"type\":\"CDSView\"},{\"attributes\":{},\"id\":\"70985\",\"type\":\"YearsTicker\"},{\"attributes\":{},\"id\":\"70954\",\"type\":\"HelpTool\"},{\"attributes\":{\"line_color\":\"blue\",\"line_width\":2,\"x\":{\"field\":\"date\"},\"y\":{\"field\":\"unpl\"}},\"id\":\"71040\",\"type\":\"Line\"},{\"attributes\":{\"items\":[{\"id\":\"70987\"},{\"id\":\"71013\"},{\"id\":\"71064\"}]},\"id\":\"70986\",\"type\":\"Legend\"},{\"attributes\":{\"data_source\":{\"id\":\"70929\"},\"glyph\":{\"id\":\"71040\"},\"hover_glyph\":null,\"muted_glyph\":null,\"nonselection_glyph\":{\"id\":\"71041\"},\"selection_glyph\":null,\"view\":{\"id\":\"71043\"}},\"id\":\"71042\",\"type\":\"GlyphRenderer\"},{\"attributes\":{},\"id\":\"70970\",\"type\":\"DatetimeTickFormatter\"}],\"root_ids\":[\"70930\"]},\"title\":\"Bokeh Application\",\"version\":\"2.0.2\"}};\n",
       "  var render_items = [{\"docid\":\"59b4d11b-8b7b-4352-9963-e827a0fa1a53\",\"root_ids\":[\"70930\"],\"roots\":{\"70930\":\"09c41dd4-8b11-4d4d-8f61-a190ce164e65\"}}];\n",
       "  root.Bokeh.embed.embed_items_notebook(docs_json, render_items);\n",
       "\n",
       "  }\n",
       "  if (root.Bokeh !== undefined) {\n",
       "    embed_document(root);\n",
       "  } else {\n",
       "    var attempts = 0;\n",
       "    var timer = setInterval(function(root) {\n",
       "      if (root.Bokeh !== undefined) {\n",
       "        clearInterval(timer);\n",
       "        embed_document(root);\n",
       "      } else {\n",
       "        attempts++;\n",
       "        if (attempts > 100) {\n",
       "          clearInterval(timer);\n",
       "          console.log(\"Bokeh: ERROR: Unable to run BokehJS code because BokehJS library is missing\");\n",
       "        }\n",
       "      }\n",
       "    }, 10, root)\n",
       "  }\n",
       "})(window);"
      ],
      "application/vnd.bokehjs_exec.v0+json": ""
     },
     "metadata": {
      "application/vnd.bokehjs_exec.v0+json": {
       "id": "70930"
      }
     },
     "output_type": "display_data"
    }
   ],
   "source": [
    "#set source\n",
    "source = ColumnDataSource(xmr)\n",
    "\n",
    "# create the plot\n",
    "p = figure(title = 'central_line: {:.04f}'.format(xmr['central_line'].mean()), \n",
    "           x_axis_type=\"datetime\",\n",
    "           x_axis_label = 'Date',\n",
    "           y_axis_label = 'Growth',\n",
    "           plot_height = 400,\n",
    "           plot_width = 900)\n",
    "\n",
    "p.line(x='date', y='growth', line_width=2, source=source, color='red', legend_label='growth-rate')\n",
    "p.line(x='date', y='central_line', line_width=2, source=source, color='black', legend_label='Lower Natural Process Limit')\n",
    "p.line(x='date', y='lnpl', line_width=2, source=source, color='blue', legend_label='Lower Natural Process Limit')\n",
    "p.line(x='date', y='unpl', line_width=2, source=source, color='blue', legend_label='Upper Natural Process Limit')\n",
    "\n",
    "show(p)"
   ]
  },
  {
   "cell_type": "code",
   "execution_count": 421,
   "metadata": {},
   "outputs": [
    {
     "data": {
      "text/html": [
       "\n",
       "\n",
       "\n",
       "\n",
       "\n",
       "\n",
       "  <div class=\"bk-root\" id=\"014a2160-5b06-49e5-94cb-2adf8712188b\" data-root-id=\"72530\"></div>\n"
      ]
     },
     "metadata": {},
     "output_type": "display_data"
    },
    {
     "data": {
      "application/javascript": [
       "(function(root) {\n",
       "  function embed_document(root) {\n",
       "    \n",
       "  var docs_json = {\"a14a32cd-db70-4eea-b2f6-2be504a34539\":{\"roots\":{\"references\":[{\"attributes\":{\"below\":[{\"id\":\"72541\"}],\"center\":[{\"id\":\"72544\"},{\"id\":\"72548\"},{\"id\":\"72586\"}],\"left\":[{\"id\":\"72545\"}],\"plot_height\":400,\"plot_width\":900,\"renderers\":[{\"id\":\"72566\"},{\"id\":\"72591\"},{\"id\":\"72617\"}],\"title\":{\"id\":\"72531\"},\"toolbar\":{\"id\":\"72556\"},\"x_range\":{\"id\":\"72533\"},\"x_scale\":{\"id\":\"72537\"},\"y_range\":{\"id\":\"72535\"},\"y_scale\":{\"id\":\"72539\"}},\"id\":\"72530\",\"subtype\":\"Figure\",\"type\":\"Plot\"},{\"attributes\":{\"mantissas\":[1,2,5],\"max_interval\":500.0,\"num_minor_ticks\":0},\"id\":\"72574\",\"type\":\"AdaptiveTicker\"},{\"attributes\":{\"line_alpha\":0.1,\"line_color\":\"blue\",\"line_width\":2,\"x\":{\"field\":\"date\"},\"y\":{\"field\":\"upper_range_limit\"}},\"id\":\"72616\",\"type\":\"Line\"},{\"attributes\":{\"source\":{\"id\":\"72529\"}},\"id\":\"72618\",\"type\":\"CDSView\"},{\"attributes\":{\"base\":60,\"mantissas\":[1,2,5,10,15,20,30],\"max_interval\":1800000.0,\"min_interval\":1000.0,\"num_minor_ticks\":0},\"id\":\"72575\",\"type\":\"AdaptiveTicker\"},{\"attributes\":{\"label\":{\"value\":\"upper range limit\"},\"renderers\":[{\"id\":\"72617\"}]},\"id\":\"72639\",\"type\":\"LegendItem\"},{\"attributes\":{},\"id\":\"72553\",\"type\":\"ResetTool\"},{\"attributes\":{\"base\":24,\"mantissas\":[1,2,4,6,8,12],\"max_interval\":43200000.0,\"min_interval\":3600000.0,\"num_minor_ticks\":0},\"id\":\"72576\",\"type\":\"AdaptiveTicker\"},{\"attributes\":{\"line_color\":\"blue\",\"line_width\":2,\"x\":{\"field\":\"date\"},\"y\":{\"field\":\"upper_range_limit\"}},\"id\":\"72615\",\"type\":\"Line\"},{\"attributes\":{\"data_source\":{\"id\":\"72529\"},\"glyph\":{\"id\":\"72615\"},\"hover_glyph\":null,\"muted_glyph\":null,\"nonselection_glyph\":{\"id\":\"72616\"},\"selection_glyph\":null,\"view\":{\"id\":\"72618\"}},\"id\":\"72617\",\"type\":\"GlyphRenderer\"},{\"attributes\":{\"days\":[1,2,3,4,5,6,7,8,9,10,11,12,13,14,15,16,17,18,19,20,21,22,23,24,25,26,27,28,29,30,31]},\"id\":\"72577\",\"type\":\"DaysTicker\"},{\"attributes\":{},\"id\":\"72554\",\"type\":\"HelpTool\"},{\"attributes\":{\"num_minor_ticks\":5,\"tickers\":[{\"id\":\"72574\"},{\"id\":\"72575\"},{\"id\":\"72576\"},{\"id\":\"72577\"},{\"id\":\"72578\"},{\"id\":\"72579\"},{\"id\":\"72580\"},{\"id\":\"72581\"},{\"id\":\"72582\"},{\"id\":\"72583\"},{\"id\":\"72584\"},{\"id\":\"72585\"}]},\"id\":\"72542\",\"type\":\"DatetimeTicker\"},{\"attributes\":{\"days\":[1,4,7,10,13,16,19,22,25,28]},\"id\":\"72578\",\"type\":\"DaysTicker\"},{\"attributes\":{\"months\":[0,1,2,3,4,5,6,7,8,9,10,11]},\"id\":\"72581\",\"type\":\"MonthsTicker\"},{\"attributes\":{\"bottom_units\":\"screen\",\"fill_alpha\":0.5,\"fill_color\":\"lightgrey\",\"left_units\":\"screen\",\"level\":\"overlay\",\"line_alpha\":1.0,\"line_color\":\"black\",\"line_dash\":[4,4],\"line_width\":2,\"render_mode\":\"css\",\"right_units\":\"screen\",\"top_units\":\"screen\"},\"id\":\"72555\",\"type\":\"BoxAnnotation\"},{\"attributes\":{\"months\":[0,2,4,6,8,10]},\"id\":\"72582\",\"type\":\"MonthsTicker\"},{\"attributes\":{\"days\":[1,8,15,22]},\"id\":\"72579\",\"type\":\"DaysTicker\"},{\"attributes\":{\"data\":{\"avg_mr\":{\"__ndarray__\":\"6NNpL3PL1T/o02kvc8vVP+jTaS9zy9U/6NNpL3PL1T/o02kvc8vVP+jTaS9zy9U/6NNpL3PL1T/o02kvc8vVP+jTaS9zy9U/6NNpL3PL1T/o02kvc8vVP+jTaS9zy9U/6NNpL3PL1T/o02kvc8vVP+jTaS9zy9U/6NNpL3PL1T/o02kvc8vVP+jTaS9zy9U/6NNpL3PL1T/o02kvc8vVP+jTaS9zy9U/6NNpL3PL1T/o02kvc8vVP+jTaS9zy9U/6NNpL3PL1T/o02kvc8vVP+jTaS9zy9U/6NNpL3PL1T/o02kvc8vVP+jTaS9zy9U/6NNpL3PL1T/o02kvc8vVP+jTaS9zy9U/6NNpL3PL1T/o02kvc8vVP+jTaS9zy9U/6NNpL3PL1T/o02kvc8vVP+jTaS9zy9U/6NNpL3PL1T/o02kvc8vVP+jTaS9zy9U/6NNpL3PL1T8=\",\"dtype\":\"float64\",\"shape\":[43]},\"central_line\":{\"__ndarray__\":\"9fgU/NVY8D/1+BT81VjwP/X4FPzVWPA/9fgU/NVY8D/1+BT81VjwP/X4FPzVWPA/9fgU/NVY8D/1+BT81VjwP/X4FPzVWPA/9fgU/NVY8D/1+BT81VjwP/X4FPzVWPA/9fgU/NVY8D/1+BT81VjwP/X4FPzVWPA/9fgU/NVY8D/1+BT81VjwP/X4FPzVWPA/9fgU/NVY8D/1+BT81VjwP/X4FPzVWPA/9fgU/NVY8D/1+BT81VjwP/X4FPzVWPA/9fgU/NVY8D/1+BT81VjwP/X4FPzVWPA/9fgU/NVY8D/1+BT81VjwP/X4FPzVWPA/9fgU/NVY8D/1+BT81VjwP/X4FPzVWPA/9fgU/NVY8D/1+BT81VjwP/X4FPzVWPA/9fgU/NVY8D/1+BT81VjwP/X4FPzVWPA/9fgU/NVY8D/1+BT81VjwP/X4FPzVWPA/9fgU/NVY8D8=\",\"dtype\":\"float64\",\"shape\":[43]},\"conf\":[1092,1033,906,1226,973,783,973,1221,1346,1322,1175,964,870,736,1067,1236,1147,1072,750,729,715,889,808,655,656,400,172,386,514,477,445,335,199,318,232,455,319,289,245,161,196,227,270],\"date\":{\"__ndarray__\":\"AACA/4ITd0IAAEBl1RN3QgAAAMsnFHdCAADAMHoUd0IAAICWzBR3QgAAQPweFXdCAAAAYnEVd0IAAMDHwxV3QgAAgC0WFndCAABAk2gWd0IAAAD5uhZ3QgAAwF4NF3dCAACAxF8Xd0IAAEAqshd3QgAAAJAEGHdCAADA9VYYd0IAAIBbqRh3QgAAQMH7GHdCAAAAJ04Zd0IAAMCMoBl3QgAAgPLyGXdCAABAWEUad0IAAAC+lxp3QgAAwCPqGndCAACAiTwbd0IAAEDvjht3QgAAAFXhG3dCAADAujMcd0IAAIAghhx3QgAAQIbYHHdCAAAA7Codd0IAAMBRfR13QgAAgLfPHXdCAABAHSIed0IAAACDdB53QgAAwOjGHndCAACAThkfd0IAAEC0ax93QgAAABq+H3dCAADAfxAgd0IAAIDlYiB3QgAAQEu1IHdCAAAAsQchd0I=\",\"dtype\":\"float64\",\"shape\":[43]},\"growth\":{\"__ndarray__\":\"PzTWh8b68D9WZEVWZEXuP+ULUBXaEOw/2JoW+LWm9T/AJIgye2XpP+qodjFUwOk/2OWvuuvh8z+w6pTy/hP0P+8CShNUo/E/fxGSgO5t7z/WeKjZFnHsP4gXjAvtQOo/7THh7DHh7D/mI7FhPhLrPwtZyEIWMvc/DeEC3MGI8j9qgHF7H7LtPxIQqH1X6O0/VM5u4Vdj5j+0yHa+nxrvP8PG2nmtYu8/qrKH78nk8z9Fx6zomBXtP931s8XK8Ok/dKgf4UAG8D+D8zE4H4PjP4XrUbgehds/fUFf0Bf0AUD7Az1SQk71P06yTbJNsu0/60fCjm7a7T+BC1zgAhfoPw6yueNKAuM/4B7Y6F2R+T/pMX+vjVjnP6gRlnsaYf8/9mZv9mZv5j8GCIqsl/3sP123EWzGIOs/dVAHdVAH5T84velNb3rzP6KxPjTWh/I/ZG0V7+QH8z8=\",\"dtype\":\"float64\",\"shape\":[43]},\"index\":[0,1,2,3,4,5,6,7,8,9,10,11,12,13,14,15,16,17,18,19,20,21,22,23,24,25,26,27,28,29,30,31,32,33,34,35,36,37,38,39,40,41,42],\"lnpl\":{\"__ndarray__\":\"MIMS0waovT8wgxLTBqi9PzCDEtMGqL0/MIMS0waovT8wgxLTBqi9PzCDEtMGqL0/MIMS0waovT8wgxLTBqi9PzCDEtMGqL0/MIMS0waovT8wgxLTBqi9PzCDEtMGqL0/MIMS0waovT8wgxLTBqi9PzCDEtMGqL0/MIMS0waovT8wgxLTBqi9PzCDEtMGqL0/MIMS0waovT8wgxLTBqi9PzCDEtMGqL0/MIMS0waovT8wgxLTBqi9PzCDEtMGqL0/MIMS0waovT8wgxLTBqi9PzCDEtMGqL0/MIMS0waovT8wgxLTBqi9PzCDEtMGqL0/MIMS0waovT8wgxLTBqi9PzCDEtMGqL0/MIMS0waovT8wgxLTBqi9PzCDEtMGqL0/MIMS0waovT8wgxLTBqi9PzCDEtMGqL0/MIMS0waovT8wgxLTBqi9PzCDEtMGqL0/MIMS0waovT8=\",\"dtype\":\"float64\",\"shape\":[43]},\"moving_ranges\":{\"__ndarray__\":\"AAAAAAAA+H9AITjLRYG9P4jDqgdSpLE/llO6tSN53j/wEKW98OfhP4AKobs/toY/jEXShwYH3D8AbILymwmJPwg+V/pWhcM/+KIPMM3Fvj9IxUw3vea3P3AK43BOgbE/KNOoCicCtT9w4ACzOO+sPzCO3yPuUeM/+N8Vm1Gl0j/ABlHykH3NPwDURxsBHHs/+AblcP4Tzj/A9A+6j27RP8CD/9huA4I/Ij1pyszN0D8ePMXs9WfVP0CLxhdxJrk/LGwt8ttuyD/KuhoUxRLZPwL3I3A/Asc/GQiq8ucG/T/+/QKd2jPtP1CrWORt1Nk/gM5KOm4QdD+o8Zi5rg3HP8xlifLfUsQ/2UX7djgQ8D/XCzEiLsrrP7R41qPTtPM/LV5eAGcp9D9AhGrYwjjKP5AKhQcUza0/oJsp3NdlyD/7Kcwmju3hP8ByYTUjU64/QHjXWtcBoD8=\",\"dtype\":\"float64\",\"shape\":[43]},\"unpl\":{\"__ndarray__\":\"t8n4iivX/j+3yfiKK9f+P7fJ+Ior1/4/t8n4iivX/j+3yfiKK9f+P7fJ+Ior1/4/t8n4iivX/j+3yfiKK9f+P7fJ+Ior1/4/t8n4iivX/j+3yfiKK9f+P7fJ+Ior1/4/t8n4iivX/j+3yfiKK9f+P7fJ+Ior1/4/t8n4iivX/j+3yfiKK9f+P7fJ+Ior1/4/t8n4iivX/j+3yfiKK9f+P7fJ+Ior1/4/t8n4iivX/j+3yfiKK9f+P7fJ+Ior1/4/t8n4iivX/j+3yfiKK9f+P7fJ+Ior1/4/t8n4iivX/j+3yfiKK9f+P7fJ+Ior1/4/t8n4iivX/j+3yfiKK9f+P7fJ+Ior1/4/t8n4iivX/j+3yfiKK9f+P7fJ+Ior1/4/t8n4iivX/j+3yfiKK9f+P7fJ+Ior1/4/t8n4iivX/j+3yfiKK9f+P7fJ+Ior1/4/t8n4iivX/j8=\",\"dtype\":\"float64\",\"shape\":[43]},\"upper_range_limit\":{\"__ndarray__\":\"tzGuSDPR8T+3Ma5IM9HxP7cxrkgz0fE/tzGuSDPR8T+3Ma5IM9HxP7cxrkgz0fE/tzGuSDPR8T+3Ma5IM9HxP7cxrkgz0fE/tzGuSDPR8T+3Ma5IM9HxP7cxrkgz0fE/tzGuSDPR8T+3Ma5IM9HxP7cxrkgz0fE/tzGuSDPR8T+3Ma5IM9HxP7cxrkgz0fE/tzGuSDPR8T+3Ma5IM9HxP7cxrkgz0fE/tzGuSDPR8T+3Ma5IM9HxP7cxrkgz0fE/tzGuSDPR8T+3Ma5IM9HxP7cxrkgz0fE/tzGuSDPR8T+3Ma5IM9HxP7cxrkgz0fE/tzGuSDPR8T+3Ma5IM9HxP7cxrkgz0fE/tzGuSDPR8T+3Ma5IM9HxP7cxrkgz0fE/tzGuSDPR8T+3Ma5IM9HxP7cxrkgz0fE/tzGuSDPR8T+3Ma5IM9HxP7cxrkgz0fE/tzGuSDPR8T8=\",\"dtype\":\"float64\",\"shape\":[43]}},\"selected\":{\"id\":\"72600\"},\"selection_policy\":{\"id\":\"72599\"}},\"id\":\"72529\",\"type\":\"ColumnDataSource\"},{\"attributes\":{\"active_drag\":\"auto\",\"active_inspect\":\"auto\",\"active_multi\":null,\"active_scroll\":\"auto\",\"active_tap\":\"auto\",\"tools\":[{\"id\":\"72549\"},{\"id\":\"72550\"},{\"id\":\"72551\"},{\"id\":\"72552\"},{\"id\":\"72553\"},{\"id\":\"72554\"}]},\"id\":\"72556\",\"type\":\"Toolbar\"},{\"attributes\":{},\"id\":\"72585\",\"type\":\"YearsTicker\"},{\"attributes\":{\"items\":[{\"id\":\"72587\"},{\"id\":\"72613\"},{\"id\":\"72639\"}]},\"id\":\"72586\",\"type\":\"Legend\"},{\"attributes\":{\"source\":{\"id\":\"72529\"}},\"id\":\"72567\",\"type\":\"CDSView\"},{\"attributes\":{\"days\":[1,15]},\"id\":\"72580\",\"type\":\"DaysTicker\"},{\"attributes\":{\"data_source\":{\"id\":\"72529\"},\"glyph\":{\"id\":\"72564\"},\"hover_glyph\":null,\"muted_glyph\":null,\"nonselection_glyph\":{\"id\":\"72565\"},\"selection_glyph\":null,\"view\":{\"id\":\"72567\"}},\"id\":\"72566\",\"type\":\"GlyphRenderer\"},{\"attributes\":{\"label\":{\"value\":\"mr\"},\"renderers\":[{\"id\":\"72566\"}]},\"id\":\"72587\",\"type\":\"LegendItem\"},{\"attributes\":{\"text\":\"Moving Ranges plot\"},\"id\":\"72531\",\"type\":\"Title\"},{\"attributes\":{},\"id\":\"72550\",\"type\":\"WheelZoomTool\"},{\"attributes\":{},\"id\":\"72599\",\"type\":\"UnionRenderers\"},{\"attributes\":{},\"id\":\"72533\",\"type\":\"DataRange1d\"},{\"attributes\":{\"overlay\":{\"id\":\"72555\"}},\"id\":\"72551\",\"type\":\"BoxZoomTool\"},{\"attributes\":{\"line_color\":\"red\",\"line_width\":2,\"x\":{\"field\":\"date\"},\"y\":{\"field\":\"moving_ranges\"}},\"id\":\"72564\",\"type\":\"Line\"},{\"attributes\":{},\"id\":\"72549\",\"type\":\"PanTool\"},{\"attributes\":{\"months\":[0,4,8]},\"id\":\"72583\",\"type\":\"MonthsTicker\"},{\"attributes\":{},\"id\":\"72537\",\"type\":\"LinearScale\"},{\"attributes\":{\"line_alpha\":0.1,\"line_width\":2,\"x\":{\"field\":\"date\"},\"y\":{\"field\":\"avg_mr\"}},\"id\":\"72590\",\"type\":\"Line\"},{\"attributes\":{\"line_alpha\":0.1,\"line_color\":\"red\",\"line_width\":2,\"x\":{\"field\":\"date\"},\"y\":{\"field\":\"moving_ranges\"}},\"id\":\"72565\",\"type\":\"Line\"},{\"attributes\":{\"source\":{\"id\":\"72529\"}},\"id\":\"72592\",\"type\":\"CDSView\"},{\"attributes\":{\"months\":[0,6]},\"id\":\"72584\",\"type\":\"MonthsTicker\"},{\"attributes\":{\"axis\":{\"id\":\"72545\"},\"dimension\":1,\"ticker\":null},\"id\":\"72548\",\"type\":\"Grid\"},{\"attributes\":{\"line_width\":2,\"x\":{\"field\":\"date\"},\"y\":{\"field\":\"avg_mr\"}},\"id\":\"72589\",\"type\":\"Line\"},{\"attributes\":{},\"id\":\"72570\",\"type\":\"DatetimeTickFormatter\"},{\"attributes\":{\"data_source\":{\"id\":\"72529\"},\"glyph\":{\"id\":\"72589\"},\"hover_glyph\":null,\"muted_glyph\":null,\"nonselection_glyph\":{\"id\":\"72590\"},\"selection_glyph\":null,\"view\":{\"id\":\"72592\"}},\"id\":\"72591\",\"type\":\"GlyphRenderer\"},{\"attributes\":{},\"id\":\"72535\",\"type\":\"DataRange1d\"},{\"attributes\":{\"axis\":{\"id\":\"72541\"},\"ticker\":null},\"id\":\"72544\",\"type\":\"Grid\"},{\"attributes\":{},\"id\":\"72600\",\"type\":\"Selection\"},{\"attributes\":{\"axis_label\":\"Growth\",\"formatter\":{\"id\":\"72572\"},\"ticker\":{\"id\":\"72546\"}},\"id\":\"72545\",\"type\":\"LinearAxis\"},{\"attributes\":{},\"id\":\"72572\",\"type\":\"BasicTickFormatter\"},{\"attributes\":{},\"id\":\"72552\",\"type\":\"SaveTool\"},{\"attributes\":{},\"id\":\"72546\",\"type\":\"BasicTicker\"},{\"attributes\":{\"label\":{\"value\":\"avg_mr\"},\"renderers\":[{\"id\":\"72591\"}]},\"id\":\"72613\",\"type\":\"LegendItem\"},{\"attributes\":{},\"id\":\"72539\",\"type\":\"LinearScale\"},{\"attributes\":{\"axis_label\":\"Date\",\"formatter\":{\"id\":\"72570\"},\"ticker\":{\"id\":\"72542\"}},\"id\":\"72541\",\"type\":\"DatetimeAxis\"}],\"root_ids\":[\"72530\"]},\"title\":\"Bokeh Application\",\"version\":\"2.0.2\"}};\n",
       "  var render_items = [{\"docid\":\"a14a32cd-db70-4eea-b2f6-2be504a34539\",\"root_ids\":[\"72530\"],\"roots\":{\"72530\":\"014a2160-5b06-49e5-94cb-2adf8712188b\"}}];\n",
       "  root.Bokeh.embed.embed_items_notebook(docs_json, render_items);\n",
       "\n",
       "  }\n",
       "  if (root.Bokeh !== undefined) {\n",
       "    embed_document(root);\n",
       "  } else {\n",
       "    var attempts = 0;\n",
       "    var timer = setInterval(function(root) {\n",
       "      if (root.Bokeh !== undefined) {\n",
       "        clearInterval(timer);\n",
       "        embed_document(root);\n",
       "      } else {\n",
       "        attempts++;\n",
       "        if (attempts > 100) {\n",
       "          clearInterval(timer);\n",
       "          console.log(\"Bokeh: ERROR: Unable to run BokehJS code because BokehJS library is missing\");\n",
       "        }\n",
       "      }\n",
       "    }, 10, root)\n",
       "  }\n",
       "})(window);"
      ],
      "application/vnd.bokehjs_exec.v0+json": ""
     },
     "metadata": {
      "application/vnd.bokehjs_exec.v0+json": {
       "id": "72530"
      }
     },
     "output_type": "display_data"
    }
   ],
   "source": [
    "#set source\n",
    "source = ColumnDataSource(xmr)\n",
    "\n",
    "# create the plot\n",
    "p = figure(title = 'Moving Ranges plot', \n",
    "           x_axis_type=\"datetime\",\n",
    "           x_axis_label = 'Date',\n",
    "           y_axis_label = 'Growth',\n",
    "           plot_height = 400,\n",
    "           plot_width = 900)\n",
    "\n",
    "p.line(x='date', y='moving_ranges', line_width=2, source=source, color='red', legend_label='mr')\n",
    "\n",
    "p.line(x='date', y='avg_mr', line_width=2, source=source, color='black', legend_label='avg_mr')\n",
    "p.line(x='date', y='upper_range_limit', line_width=2, source=source, color='blue', legend_label='upper range limit')\n",
    "\n",
    "show(p)"
   ]
  },
  {
   "cell_type": "markdown",
   "metadata": {},
   "source": [
    "#### 7. Mortality Rate\n",
    "***\n",
    "* Use: start with a correlation. Shift death by x-days and check correlation.\n",
    "* Auto-regressive Model"
   ]
  },
  {
   "cell_type": "code",
   "execution_count": null,
   "metadata": {},
   "outputs": [],
   "source": []
  },
  {
   "cell_type": "code",
   "execution_count": null,
   "metadata": {},
   "outputs": [],
   "source": []
  },
  {
   "cell_type": "code",
   "execution_count": null,
   "metadata": {},
   "outputs": [],
   "source": []
  }
 ],
 "metadata": {
  "kernelspec": {
   "display_name": "Python 3",
   "language": "python",
   "name": "python3"
  },
  "language_info": {
   "codemirror_mode": {
    "name": "ipython",
    "version": 3
   },
   "file_extension": ".py",
   "mimetype": "text/x-python",
   "name": "python",
   "nbconvert_exporter": "python",
   "pygments_lexer": "ipython3",
   "version": "3.7.3"
  }
 },
 "nbformat": 4,
 "nbformat_minor": 4
}
