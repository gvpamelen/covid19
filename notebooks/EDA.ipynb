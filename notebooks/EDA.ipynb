{
 "cells": [
  {
   "cell_type": "markdown",
   "metadata": {},
   "source": [
    "# EDA Covid 19\n",
    "***"
   ]
  },
  {
   "cell_type": "code",
   "execution_count": 26,
   "metadata": {},
   "outputs": [],
   "source": [
    "# add index"
   ]
  },
  {
   "cell_type": "markdown",
   "metadata": {},
   "source": [
    "#### Quality Notes\n",
    "* Recovered not always reported consistently by countries (i.e. lower than reality for NL/BE - two countries we can observe)\n",
    "* 7-Day Moving Average on daily reported numbers show a cleaner trend\n",
    "* Overall comparison between countries does not make much sense given their population; best to scale to numbers per million inhavitants (as is common for these datasets)\n"
   ]
  },
  {
   "cell_type": "markdown",
   "metadata": {},
   "source": [
    "## Introduction\n",
    "***\n",
    "Analyse the data provided using exploratory visuals. Key aspects:\n",
    "* What is the overall status today (totals)?\n",
    "* How are countries performing? (and how has covid progressed)?\n",
    "* What is the total daily increase? (with moving average)\n",
    "* What is the effect scaled to the population?\n",
    "* What is the mortality rate?\n",
    "* Metric A: per country scaling over log-scale (minutephysics plot)\n",
    "* Metrics B: growth KPI assessment (Stacey Barr)\n",
    "\n",
    "Interesting countries:\n",
    "* Netherlands\n",
    "* Belgium\n",
    "* Italy\n",
    "* Spain\n",
    "* China\n",
    "* Malaysia\n",
    "* United Kingdom\n",
    "* United States\n"
   ]
  },
  {
   "cell_type": "code",
   "execution_count": 148,
   "metadata": {},
   "outputs": [
    {
     "name": "stdout",
     "output_type": "stream",
     "text": [
      "The sql extension is already loaded. To reload it, use:\n",
      "  %reload_ext sql\n",
      "The autoreload extension is already loaded. To reload it, use:\n",
      "  %reload_ext autoreload\n"
     ]
    }
   ],
   "source": [
    "import numpy as np\n",
    "import pandas as pd\n",
    "\n",
    "import matplotlib.pyplot as plt\n",
    "%matplotlib inline\n",
    "\n",
    "import seaborn as sns\n",
    "sns.set()\n",
    "\n",
    "from sqlalchemy import create_engine\n",
    "%load_ext sql\n",
    "\n",
    "%load_ext autoreload\n",
    "%autoreload 2"
   ]
  },
  {
   "cell_type": "code",
   "execution_count": 213,
   "metadata": {},
   "outputs": [
    {
     "data": {
      "text/html": [
       "\n",
       "    <div class=\"bk-root\">\n",
       "        <a href=\"https://bokeh.org\" target=\"_blank\" class=\"bk-logo bk-logo-small bk-logo-notebook\"></a>\n",
       "        <span id=\"20653\">Loading BokehJS ...</span>\n",
       "    </div>"
      ]
     },
     "metadata": {},
     "output_type": "display_data"
    },
    {
     "data": {
      "application/javascript": [
       "\n",
       "(function(root) {\n",
       "  function now() {\n",
       "    return new Date();\n",
       "  }\n",
       "\n",
       "  var force = true;\n",
       "\n",
       "  if (typeof root._bokeh_onload_callbacks === \"undefined\" || force === true) {\n",
       "    root._bokeh_onload_callbacks = [];\n",
       "    root._bokeh_is_loading = undefined;\n",
       "  }\n",
       "\n",
       "  var JS_MIME_TYPE = 'application/javascript';\n",
       "  var HTML_MIME_TYPE = 'text/html';\n",
       "  var EXEC_MIME_TYPE = 'application/vnd.bokehjs_exec.v0+json';\n",
       "  var CLASS_NAME = 'output_bokeh rendered_html';\n",
       "\n",
       "  /**\n",
       "   * Render data to the DOM node\n",
       "   */\n",
       "  function render(props, node) {\n",
       "    var script = document.createElement(\"script\");\n",
       "    node.appendChild(script);\n",
       "  }\n",
       "\n",
       "  /**\n",
       "   * Handle when an output is cleared or removed\n",
       "   */\n",
       "  function handleClearOutput(event, handle) {\n",
       "    var cell = handle.cell;\n",
       "\n",
       "    var id = cell.output_area._bokeh_element_id;\n",
       "    var server_id = cell.output_area._bokeh_server_id;\n",
       "    // Clean up Bokeh references\n",
       "    if (id != null && id in Bokeh.index) {\n",
       "      Bokeh.index[id].model.document.clear();\n",
       "      delete Bokeh.index[id];\n",
       "    }\n",
       "\n",
       "    if (server_id !== undefined) {\n",
       "      // Clean up Bokeh references\n",
       "      var cmd = \"from bokeh.io.state import curstate; print(curstate().uuid_to_server['\" + server_id + \"'].get_sessions()[0].document.roots[0]._id)\";\n",
       "      cell.notebook.kernel.execute(cmd, {\n",
       "        iopub: {\n",
       "          output: function(msg) {\n",
       "            var id = msg.content.text.trim();\n",
       "            if (id in Bokeh.index) {\n",
       "              Bokeh.index[id].model.document.clear();\n",
       "              delete Bokeh.index[id];\n",
       "            }\n",
       "          }\n",
       "        }\n",
       "      });\n",
       "      // Destroy server and session\n",
       "      var cmd = \"import bokeh.io.notebook as ion; ion.destroy_server('\" + server_id + \"')\";\n",
       "      cell.notebook.kernel.execute(cmd);\n",
       "    }\n",
       "  }\n",
       "\n",
       "  /**\n",
       "   * Handle when a new output is added\n",
       "   */\n",
       "  function handleAddOutput(event, handle) {\n",
       "    var output_area = handle.output_area;\n",
       "    var output = handle.output;\n",
       "\n",
       "    // limit handleAddOutput to display_data with EXEC_MIME_TYPE content only\n",
       "    if ((output.output_type != \"display_data\") || (!output.data.hasOwnProperty(EXEC_MIME_TYPE))) {\n",
       "      return\n",
       "    }\n",
       "\n",
       "    var toinsert = output_area.element.find(\".\" + CLASS_NAME.split(' ')[0]);\n",
       "\n",
       "    if (output.metadata[EXEC_MIME_TYPE][\"id\"] !== undefined) {\n",
       "      toinsert[toinsert.length - 1].firstChild.textContent = output.data[JS_MIME_TYPE];\n",
       "      // store reference to embed id on output_area\n",
       "      output_area._bokeh_element_id = output.metadata[EXEC_MIME_TYPE][\"id\"];\n",
       "    }\n",
       "    if (output.metadata[EXEC_MIME_TYPE][\"server_id\"] !== undefined) {\n",
       "      var bk_div = document.createElement(\"div\");\n",
       "      bk_div.innerHTML = output.data[HTML_MIME_TYPE];\n",
       "      var script_attrs = bk_div.children[0].attributes;\n",
       "      for (var i = 0; i < script_attrs.length; i++) {\n",
       "        toinsert[toinsert.length - 1].firstChild.setAttribute(script_attrs[i].name, script_attrs[i].value);\n",
       "        toinsert[toinsert.length - 1].firstChild.textContent = bk_div.children[0].textContent\n",
       "      }\n",
       "      // store reference to server id on output_area\n",
       "      output_area._bokeh_server_id = output.metadata[EXEC_MIME_TYPE][\"server_id\"];\n",
       "    }\n",
       "  }\n",
       "\n",
       "  function register_renderer(events, OutputArea) {\n",
       "\n",
       "    function append_mime(data, metadata, element) {\n",
       "      // create a DOM node to render to\n",
       "      var toinsert = this.create_output_subarea(\n",
       "        metadata,\n",
       "        CLASS_NAME,\n",
       "        EXEC_MIME_TYPE\n",
       "      );\n",
       "      this.keyboard_manager.register_events(toinsert);\n",
       "      // Render to node\n",
       "      var props = {data: data, metadata: metadata[EXEC_MIME_TYPE]};\n",
       "      render(props, toinsert[toinsert.length - 1]);\n",
       "      element.append(toinsert);\n",
       "      return toinsert\n",
       "    }\n",
       "\n",
       "    /* Handle when an output is cleared or removed */\n",
       "    events.on('clear_output.CodeCell', handleClearOutput);\n",
       "    events.on('delete.Cell', handleClearOutput);\n",
       "\n",
       "    /* Handle when a new output is added */\n",
       "    events.on('output_added.OutputArea', handleAddOutput);\n",
       "\n",
       "    /**\n",
       "     * Register the mime type and append_mime function with output_area\n",
       "     */\n",
       "    OutputArea.prototype.register_mime_type(EXEC_MIME_TYPE, append_mime, {\n",
       "      /* Is output safe? */\n",
       "      safe: true,\n",
       "      /* Index of renderer in `output_area.display_order` */\n",
       "      index: 0\n",
       "    });\n",
       "  }\n",
       "\n",
       "  // register the mime type if in Jupyter Notebook environment and previously unregistered\n",
       "  if (root.Jupyter !== undefined) {\n",
       "    var events = require('base/js/events');\n",
       "    var OutputArea = require('notebook/js/outputarea').OutputArea;\n",
       "\n",
       "    if (OutputArea.prototype.mime_types().indexOf(EXEC_MIME_TYPE) == -1) {\n",
       "      register_renderer(events, OutputArea);\n",
       "    }\n",
       "  }\n",
       "\n",
       "  \n",
       "  if (typeof (root._bokeh_timeout) === \"undefined\" || force === true) {\n",
       "    root._bokeh_timeout = Date.now() + 5000;\n",
       "    root._bokeh_failed_load = false;\n",
       "  }\n",
       "\n",
       "  var NB_LOAD_WARNING = {'data': {'text/html':\n",
       "     \"<div style='background-color: #fdd'>\\n\"+\n",
       "     \"<p>\\n\"+\n",
       "     \"BokehJS does not appear to have successfully loaded. If loading BokehJS from CDN, this \\n\"+\n",
       "     \"may be due to a slow or bad network connection. Possible fixes:\\n\"+\n",
       "     \"</p>\\n\"+\n",
       "     \"<ul>\\n\"+\n",
       "     \"<li>re-rerun `output_notebook()` to attempt to load from CDN again, or</li>\\n\"+\n",
       "     \"<li>use INLINE resources instead, as so:</li>\\n\"+\n",
       "     \"</ul>\\n\"+\n",
       "     \"<code>\\n\"+\n",
       "     \"from bokeh.resources import INLINE\\n\"+\n",
       "     \"output_notebook(resources=INLINE)\\n\"+\n",
       "     \"</code>\\n\"+\n",
       "     \"</div>\"}};\n",
       "\n",
       "  function display_loaded() {\n",
       "    var el = document.getElementById(\"20653\");\n",
       "    if (el != null) {\n",
       "      el.textContent = \"BokehJS is loading...\";\n",
       "    }\n",
       "    if (root.Bokeh !== undefined) {\n",
       "      if (el != null) {\n",
       "        el.textContent = \"BokehJS \" + root.Bokeh.version + \" successfully loaded.\";\n",
       "      }\n",
       "    } else if (Date.now() < root._bokeh_timeout) {\n",
       "      setTimeout(display_loaded, 100)\n",
       "    }\n",
       "  }\n",
       "\n",
       "\n",
       "  function run_callbacks() {\n",
       "    try {\n",
       "      root._bokeh_onload_callbacks.forEach(function(callback) {\n",
       "        if (callback != null)\n",
       "          callback();\n",
       "      });\n",
       "    } finally {\n",
       "      delete root._bokeh_onload_callbacks\n",
       "    }\n",
       "    console.debug(\"Bokeh: all callbacks have finished\");\n",
       "  }\n",
       "\n",
       "  function load_libs(css_urls, js_urls, callback) {\n",
       "    if (css_urls == null) css_urls = [];\n",
       "    if (js_urls == null) js_urls = [];\n",
       "\n",
       "    root._bokeh_onload_callbacks.push(callback);\n",
       "    if (root._bokeh_is_loading > 0) {\n",
       "      console.debug(\"Bokeh: BokehJS is being loaded, scheduling callback at\", now());\n",
       "      return null;\n",
       "    }\n",
       "    if (js_urls == null || js_urls.length === 0) {\n",
       "      run_callbacks();\n",
       "      return null;\n",
       "    }\n",
       "    console.debug(\"Bokeh: BokehJS not loaded, scheduling load and callback at\", now());\n",
       "    root._bokeh_is_loading = css_urls.length + js_urls.length;\n",
       "\n",
       "    function on_load() {\n",
       "      root._bokeh_is_loading--;\n",
       "      if (root._bokeh_is_loading === 0) {\n",
       "        console.debug(\"Bokeh: all BokehJS libraries/stylesheets loaded\");\n",
       "        run_callbacks()\n",
       "      }\n",
       "    }\n",
       "\n",
       "    function on_error() {\n",
       "      console.error(\"failed to load \" + url);\n",
       "    }\n",
       "\n",
       "    for (var i = 0; i < css_urls.length; i++) {\n",
       "      var url = css_urls[i];\n",
       "      const element = document.createElement(\"link\");\n",
       "      element.onload = on_load;\n",
       "      element.onerror = on_error;\n",
       "      element.rel = \"stylesheet\";\n",
       "      element.type = \"text/css\";\n",
       "      element.href = url;\n",
       "      console.debug(\"Bokeh: injecting link tag for BokehJS stylesheet: \", url);\n",
       "      document.body.appendChild(element);\n",
       "    }\n",
       "\n",
       "    const hashes = {\"https://cdn.bokeh.org/bokeh/release/bokeh-2.0.2.min.js\": \"ufR9RFnRs6lniiaFvtJziE0YeidtAgBRH6ux2oUItHw5WTvE1zuk9uzhUU/FJXDp\", \"https://cdn.bokeh.org/bokeh/release/bokeh-widgets-2.0.2.min.js\": \"8QM/PGWBT+IssZuRcDcjzwIh1mkOmJSoNMmyYDZbCfXJg3Ap1lEvdVgFuSAwhb/J\", \"https://cdn.bokeh.org/bokeh/release/bokeh-tables-2.0.2.min.js\": \"Jm8cH3Rg0P6UeZhVY5cLy1WzKajUT9KImCY+76hEqrcJt59/d8GPvFHjCkYgnSIn\", \"https://cdn.bokeh.org/bokeh/release/bokeh-gl-2.0.2.min.js\": \"Ozhzj+SI7ywm74aOI/UajcWz+C0NjsPunEVyVIrxzYkB+jA+2tUw8x5xJCbVtK5I\"};\n",
       "\n",
       "    for (var i = 0; i < js_urls.length; i++) {\n",
       "      var url = js_urls[i];\n",
       "      var element = document.createElement('script');\n",
       "      element.onload = on_load;\n",
       "      element.onerror = on_error;\n",
       "      element.async = false;\n",
       "      element.src = url;\n",
       "      if (url in hashes) {\n",
       "        element.crossOrigin = \"anonymous\";\n",
       "        element.integrity = \"sha384-\" + hashes[url];\n",
       "      }\n",
       "      console.debug(\"Bokeh: injecting script tag for BokehJS library: \", url);\n",
       "      document.head.appendChild(element);\n",
       "    }\n",
       "  };\n",
       "\n",
       "  function inject_raw_css(css) {\n",
       "    const element = document.createElement(\"style\");\n",
       "    element.appendChild(document.createTextNode(css));\n",
       "    document.body.appendChild(element);\n",
       "  }\n",
       "\n",
       "  \n",
       "  var js_urls = [\"https://cdn.bokeh.org/bokeh/release/bokeh-2.0.2.min.js\", \"https://cdn.bokeh.org/bokeh/release/bokeh-widgets-2.0.2.min.js\", \"https://cdn.bokeh.org/bokeh/release/bokeh-tables-2.0.2.min.js\", \"https://cdn.bokeh.org/bokeh/release/bokeh-gl-2.0.2.min.js\"];\n",
       "  var css_urls = [];\n",
       "  \n",
       "\n",
       "  var inline_js = [\n",
       "    function(Bokeh) {\n",
       "      Bokeh.set_log_level(\"info\");\n",
       "    },\n",
       "    function(Bokeh) {\n",
       "    \n",
       "    \n",
       "    }\n",
       "  ];\n",
       "\n",
       "  function run_inline_js() {\n",
       "    \n",
       "    if (root.Bokeh !== undefined || force === true) {\n",
       "      \n",
       "    for (var i = 0; i < inline_js.length; i++) {\n",
       "      inline_js[i].call(root, root.Bokeh);\n",
       "    }\n",
       "    if (force === true) {\n",
       "        display_loaded();\n",
       "      }} else if (Date.now() < root._bokeh_timeout) {\n",
       "      setTimeout(run_inline_js, 100);\n",
       "    } else if (!root._bokeh_failed_load) {\n",
       "      console.log(\"Bokeh: BokehJS failed to load within specified timeout.\");\n",
       "      root._bokeh_failed_load = true;\n",
       "    } else if (force !== true) {\n",
       "      var cell = $(document.getElementById(\"20653\")).parents('.cell').data().cell;\n",
       "      cell.output_area.append_execute_result(NB_LOAD_WARNING)\n",
       "    }\n",
       "\n",
       "  }\n",
       "\n",
       "  if (root._bokeh_is_loading === 0) {\n",
       "    console.debug(\"Bokeh: BokehJS loaded, going straight to plotting\");\n",
       "    run_inline_js();\n",
       "  } else {\n",
       "    load_libs(css_urls, js_urls, function() {\n",
       "      console.debug(\"Bokeh: BokehJS plotting callback run at\", now());\n",
       "      run_inline_js();\n",
       "    });\n",
       "  }\n",
       "}(window));"
      ],
      "application/vnd.bokehjs_load.v0+json": "\n(function(root) {\n  function now() {\n    return new Date();\n  }\n\n  var force = true;\n\n  if (typeof root._bokeh_onload_callbacks === \"undefined\" || force === true) {\n    root._bokeh_onload_callbacks = [];\n    root._bokeh_is_loading = undefined;\n  }\n\n  \n\n  \n  if (typeof (root._bokeh_timeout) === \"undefined\" || force === true) {\n    root._bokeh_timeout = Date.now() + 5000;\n    root._bokeh_failed_load = false;\n  }\n\n  var NB_LOAD_WARNING = {'data': {'text/html':\n     \"<div style='background-color: #fdd'>\\n\"+\n     \"<p>\\n\"+\n     \"BokehJS does not appear to have successfully loaded. If loading BokehJS from CDN, this \\n\"+\n     \"may be due to a slow or bad network connection. Possible fixes:\\n\"+\n     \"</p>\\n\"+\n     \"<ul>\\n\"+\n     \"<li>re-rerun `output_notebook()` to attempt to load from CDN again, or</li>\\n\"+\n     \"<li>use INLINE resources instead, as so:</li>\\n\"+\n     \"</ul>\\n\"+\n     \"<code>\\n\"+\n     \"from bokeh.resources import INLINE\\n\"+\n     \"output_notebook(resources=INLINE)\\n\"+\n     \"</code>\\n\"+\n     \"</div>\"}};\n\n  function display_loaded() {\n    var el = document.getElementById(\"20653\");\n    if (el != null) {\n      el.textContent = \"BokehJS is loading...\";\n    }\n    if (root.Bokeh !== undefined) {\n      if (el != null) {\n        el.textContent = \"BokehJS \" + root.Bokeh.version + \" successfully loaded.\";\n      }\n    } else if (Date.now() < root._bokeh_timeout) {\n      setTimeout(display_loaded, 100)\n    }\n  }\n\n\n  function run_callbacks() {\n    try {\n      root._bokeh_onload_callbacks.forEach(function(callback) {\n        if (callback != null)\n          callback();\n      });\n    } finally {\n      delete root._bokeh_onload_callbacks\n    }\n    console.debug(\"Bokeh: all callbacks have finished\");\n  }\n\n  function load_libs(css_urls, js_urls, callback) {\n    if (css_urls == null) css_urls = [];\n    if (js_urls == null) js_urls = [];\n\n    root._bokeh_onload_callbacks.push(callback);\n    if (root._bokeh_is_loading > 0) {\n      console.debug(\"Bokeh: BokehJS is being loaded, scheduling callback at\", now());\n      return null;\n    }\n    if (js_urls == null || js_urls.length === 0) {\n      run_callbacks();\n      return null;\n    }\n    console.debug(\"Bokeh: BokehJS not loaded, scheduling load and callback at\", now());\n    root._bokeh_is_loading = css_urls.length + js_urls.length;\n\n    function on_load() {\n      root._bokeh_is_loading--;\n      if (root._bokeh_is_loading === 0) {\n        console.debug(\"Bokeh: all BokehJS libraries/stylesheets loaded\");\n        run_callbacks()\n      }\n    }\n\n    function on_error() {\n      console.error(\"failed to load \" + url);\n    }\n\n    for (var i = 0; i < css_urls.length; i++) {\n      var url = css_urls[i];\n      const element = document.createElement(\"link\");\n      element.onload = on_load;\n      element.onerror = on_error;\n      element.rel = \"stylesheet\";\n      element.type = \"text/css\";\n      element.href = url;\n      console.debug(\"Bokeh: injecting link tag for BokehJS stylesheet: \", url);\n      document.body.appendChild(element);\n    }\n\n    const hashes = {\"https://cdn.bokeh.org/bokeh/release/bokeh-2.0.2.min.js\": \"ufR9RFnRs6lniiaFvtJziE0YeidtAgBRH6ux2oUItHw5WTvE1zuk9uzhUU/FJXDp\", \"https://cdn.bokeh.org/bokeh/release/bokeh-widgets-2.0.2.min.js\": \"8QM/PGWBT+IssZuRcDcjzwIh1mkOmJSoNMmyYDZbCfXJg3Ap1lEvdVgFuSAwhb/J\", \"https://cdn.bokeh.org/bokeh/release/bokeh-tables-2.0.2.min.js\": \"Jm8cH3Rg0P6UeZhVY5cLy1WzKajUT9KImCY+76hEqrcJt59/d8GPvFHjCkYgnSIn\", \"https://cdn.bokeh.org/bokeh/release/bokeh-gl-2.0.2.min.js\": \"Ozhzj+SI7ywm74aOI/UajcWz+C0NjsPunEVyVIrxzYkB+jA+2tUw8x5xJCbVtK5I\"};\n\n    for (var i = 0; i < js_urls.length; i++) {\n      var url = js_urls[i];\n      var element = document.createElement('script');\n      element.onload = on_load;\n      element.onerror = on_error;\n      element.async = false;\n      element.src = url;\n      if (url in hashes) {\n        element.crossOrigin = \"anonymous\";\n        element.integrity = \"sha384-\" + hashes[url];\n      }\n      console.debug(\"Bokeh: injecting script tag for BokehJS library: \", url);\n      document.head.appendChild(element);\n    }\n  };\n\n  function inject_raw_css(css) {\n    const element = document.createElement(\"style\");\n    element.appendChild(document.createTextNode(css));\n    document.body.appendChild(element);\n  }\n\n  \n  var js_urls = [\"https://cdn.bokeh.org/bokeh/release/bokeh-2.0.2.min.js\", \"https://cdn.bokeh.org/bokeh/release/bokeh-widgets-2.0.2.min.js\", \"https://cdn.bokeh.org/bokeh/release/bokeh-tables-2.0.2.min.js\", \"https://cdn.bokeh.org/bokeh/release/bokeh-gl-2.0.2.min.js\"];\n  var css_urls = [];\n  \n\n  var inline_js = [\n    function(Bokeh) {\n      Bokeh.set_log_level(\"info\");\n    },\n    function(Bokeh) {\n    \n    \n    }\n  ];\n\n  function run_inline_js() {\n    \n    if (root.Bokeh !== undefined || force === true) {\n      \n    for (var i = 0; i < inline_js.length; i++) {\n      inline_js[i].call(root, root.Bokeh);\n    }\n    if (force === true) {\n        display_loaded();\n      }} else if (Date.now() < root._bokeh_timeout) {\n      setTimeout(run_inline_js, 100);\n    } else if (!root._bokeh_failed_load) {\n      console.log(\"Bokeh: BokehJS failed to load within specified timeout.\");\n      root._bokeh_failed_load = true;\n    } else if (force !== true) {\n      var cell = $(document.getElementById(\"20653\")).parents('.cell').data().cell;\n      cell.output_area.append_execute_result(NB_LOAD_WARNING)\n    }\n\n  }\n\n  if (root._bokeh_is_loading === 0) {\n    console.debug(\"Bokeh: BokehJS loaded, going straight to plotting\");\n    run_inline_js();\n  } else {\n    load_libs(css_urls, js_urls, function() {\n      console.debug(\"Bokeh: BokehJS plotting callback run at\", now());\n      run_inline_js();\n    });\n  }\n}(window));"
     },
     "metadata": {},
     "output_type": "display_data"
    }
   ],
   "source": [
    "# load bokeh\n",
    "from bokeh.io import output_notebook\n",
    "from bokeh.plotting import figure, show \n",
    "from bokeh.models import Range1d, ColumnDataSource, CategoricalColorMapper\n",
    "from bokeh.palettes import RdBu3\n",
    "\n",
    "output_notebook()"
   ]
  },
  {
   "cell_type": "code",
   "execution_count": 150,
   "metadata": {},
   "outputs": [
    {
     "name": "stdout",
     "output_type": "stream",
     "text": [
      "sqlite:///../data/processed/covid.sqlite\n"
     ]
    }
   ],
   "source": [
    "# function for querying db\n",
    "from src.data.query_db import queryDB\n",
    "qdb = queryDB('sqlite','../data/processed/covid.sqlite')"
   ]
  },
  {
   "cell_type": "code",
   "execution_count": 151,
   "metadata": {},
   "outputs": [
    {
     "name": "stdout",
     "output_type": "stream",
     "text": [
      "5 rows affected\n"
     ]
    },
    {
     "data": {
      "text/html": [
       "<div>\n",
       "<style scoped>\n",
       "    .dataframe tbody tr th:only-of-type {\n",
       "        vertical-align: middle;\n",
       "    }\n",
       "\n",
       "    .dataframe tbody tr th {\n",
       "        vertical-align: top;\n",
       "    }\n",
       "\n",
       "    .dataframe thead th {\n",
       "        text-align: right;\n",
       "    }\n",
       "</style>\n",
       "<table border=\"1\" class=\"dataframe\">\n",
       "  <thead>\n",
       "    <tr style=\"text-align: right;\">\n",
       "      <th></th>\n",
       "      <th>country</th>\n",
       "      <th>date</th>\n",
       "      <th>confirmed</th>\n",
       "      <th>death</th>\n",
       "      <th>recovered</th>\n",
       "    </tr>\n",
       "  </thead>\n",
       "  <tbody>\n",
       "    <tr>\n",
       "      <th>0</th>\n",
       "      <td>Afghanistan</td>\n",
       "      <td>2020-01-22</td>\n",
       "      <td>0</td>\n",
       "      <td>0</td>\n",
       "      <td>0</td>\n",
       "    </tr>\n",
       "    <tr>\n",
       "      <th>1</th>\n",
       "      <td>Albania</td>\n",
       "      <td>2020-01-22</td>\n",
       "      <td>0</td>\n",
       "      <td>0</td>\n",
       "      <td>0</td>\n",
       "    </tr>\n",
       "    <tr>\n",
       "      <th>2</th>\n",
       "      <td>Algeria</td>\n",
       "      <td>2020-01-22</td>\n",
       "      <td>0</td>\n",
       "      <td>0</td>\n",
       "      <td>0</td>\n",
       "    </tr>\n",
       "    <tr>\n",
       "      <th>3</th>\n",
       "      <td>Andorra</td>\n",
       "      <td>2020-01-22</td>\n",
       "      <td>0</td>\n",
       "      <td>0</td>\n",
       "      <td>0</td>\n",
       "    </tr>\n",
       "    <tr>\n",
       "      <th>4</th>\n",
       "      <td>Angola</td>\n",
       "      <td>2020-01-22</td>\n",
       "      <td>0</td>\n",
       "      <td>0</td>\n",
       "      <td>0</td>\n",
       "    </tr>\n",
       "  </tbody>\n",
       "</table>\n",
       "</div>"
      ],
      "text/plain": [
       "       country       date  confirmed  death  recovered\n",
       "0  Afghanistan 2020-01-22          0      0          0\n",
       "1      Albania 2020-01-22          0      0          0\n",
       "2      Algeria 2020-01-22          0      0          0\n",
       "3      Andorra 2020-01-22          0      0          0\n",
       "4       Angola 2020-01-22          0      0          0"
      ]
     },
     "execution_count": 151,
     "metadata": {},
     "output_type": "execute_result"
    }
   ],
   "source": [
    "# quick check\n",
    "qdb.execute_query('SELECT * FROM stats LIMIT 5;')"
   ]
  },
  {
   "cell_type": "markdown",
   "metadata": {},
   "source": [
    "### 1. Total Numbers"
   ]
  },
  {
   "cell_type": "code",
   "execution_count": 6,
   "metadata": {},
   "outputs": [
    {
     "name": "stdout",
     "output_type": "stream",
     "text": [
      "112 rows affected\n"
     ]
    }
   ],
   "source": [
    "# get overall numbers\n",
    "query = \"\"\"\n",
    "SELECT \n",
    "    DATE(date) AS date,\n",
    "    SUM(confirmed) AS confirmed,\n",
    "    SUM(death) AS death,\n",
    "    SUM(recovered) AS recovered\n",
    "FROM stats\n",
    "GROUP BY date\n",
    "ORDER BY date DESC;\n",
    "\"\"\"\n",
    "\n",
    "overall = qdb.execute_query(query)"
   ]
  },
  {
   "cell_type": "code",
   "execution_count": 7,
   "metadata": {},
   "outputs": [
    {
     "data": {
      "text/html": [
       "\n",
       "\n",
       "\n",
       "\n",
       "\n",
       "\n",
       "  <div class=\"bk-root\" id=\"967558e9-554d-4218-86cb-8c8a007580ad\" data-root-id=\"1003\"></div>\n"
      ]
     },
     "metadata": {},
     "output_type": "display_data"
    },
    {
     "data": {
      "application/javascript": [
       "(function(root) {\n",
       "  function embed_document(root) {\n",
       "    \n",
       "  var docs_json = {\"0a86391e-4522-4cff-b36e-4c44493cce0e\":{\"roots\":{\"references\":[{\"attributes\":{\"below\":[{\"id\":\"1014\"}],\"center\":[{\"id\":\"1017\"},{\"id\":\"1021\"},{\"id\":\"1059\"}],\"left\":[{\"id\":\"1018\"}],\"plot_height\":400,\"plot_width\":700,\"renderers\":[{\"id\":\"1039\"},{\"id\":\"1064\"},{\"id\":\"1090\"}],\"title\":{\"id\":\"1004\"},\"toolbar\":{\"id\":\"1029\"},\"x_range\":{\"id\":\"1006\"},\"x_scale\":{\"id\":\"1010\"},\"y_range\":{\"id\":\"1008\"},\"y_scale\":{\"id\":\"1012\"}},\"id\":\"1003\",\"subtype\":\"Figure\",\"type\":\"Plot\"},{\"attributes\":{\"axis_label\":\"Persons\",\"formatter\":{\"id\":\"1045\"},\"ticker\":{\"id\":\"1019\"}},\"id\":\"1018\",\"type\":\"LinearAxis\"},{\"attributes\":{},\"id\":\"1073\",\"type\":\"Selection\"},{\"attributes\":{},\"id\":\"1019\",\"type\":\"BasicTicker\"},{\"attributes\":{\"label\":{\"value\":\"death\"},\"renderers\":[{\"id\":\"1064\"}]},\"id\":\"1086\",\"type\":\"LegendItem\"},{\"attributes\":{\"axis\":{\"id\":\"1018\"},\"dimension\":1,\"ticker\":null},\"id\":\"1021\",\"type\":\"Grid\"},{\"attributes\":{\"data_source\":{\"id\":\"1002\"},\"glyph\":{\"id\":\"1088\"},\"hover_glyph\":null,\"muted_glyph\":null,\"nonselection_glyph\":{\"id\":\"1089\"},\"selection_glyph\":null,\"view\":{\"id\":\"1091\"}},\"id\":\"1090\",\"type\":\"GlyphRenderer\"},{\"attributes\":{\"axis\":{\"id\":\"1014\"},\"ticker\":null},\"id\":\"1017\",\"type\":\"Grid\"},{\"attributes\":{\"base\":60,\"mantissas\":[1,2,5,10,15,20,30],\"max_interval\":1800000.0,\"min_interval\":1000.0,\"num_minor_ticks\":0},\"id\":\"1048\",\"type\":\"AdaptiveTicker\"},{\"attributes\":{\"base\":24,\"mantissas\":[1,2,4,6,8,12],\"max_interval\":43200000.0,\"min_interval\":3600000.0,\"num_minor_ticks\":0},\"id\":\"1049\",\"type\":\"AdaptiveTicker\"},{\"attributes\":{\"line_alpha\":0.1,\"line_color\":\"red\",\"line_width\":2,\"x\":{\"field\":\"date\"},\"y\":{\"field\":\"confirmed\"}},\"id\":\"1038\",\"type\":\"Line\"},{\"attributes\":{\"days\":[1,2,3,4,5,6,7,8,9,10,11,12,13,14,15,16,17,18,19,20,21,22,23,24,25,26,27,28,29,30,31]},\"id\":\"1050\",\"type\":\"DaysTicker\"},{\"attributes\":{\"label\":{\"value\":\"recovered\"},\"renderers\":[{\"id\":\"1090\"}]},\"id\":\"1112\",\"type\":\"LegendItem\"},{\"attributes\":{\"days\":[1,15]},\"id\":\"1053\",\"type\":\"DaysTicker\"},{\"attributes\":{},\"id\":\"1022\",\"type\":\"PanTool\"},{\"attributes\":{},\"id\":\"1010\",\"type\":\"LinearScale\"},{\"attributes\":{},\"id\":\"1012\",\"type\":\"LinearScale\"},{\"attributes\":{\"months\":[0,1,2,3,4,5,6,7,8,9,10,11]},\"id\":\"1054\",\"type\":\"MonthsTicker\"},{\"attributes\":{},\"id\":\"1023\",\"type\":\"WheelZoomTool\"},{\"attributes\":{\"line_color\":\"green\",\"line_width\":2,\"x\":{\"field\":\"date\"},\"y\":{\"field\":\"recovered\"}},\"id\":\"1088\",\"type\":\"Line\"},{\"attributes\":{\"source\":{\"id\":\"1002\"}},\"id\":\"1091\",\"type\":\"CDSView\"},{\"attributes\":{\"months\":[0,2,4,6,8,10]},\"id\":\"1055\",\"type\":\"MonthsTicker\"},{\"attributes\":{\"overlay\":{\"id\":\"1028\"}},\"id\":\"1024\",\"type\":\"BoxZoomTool\"},{\"attributes\":{\"data\":{\"confirmed\":[4260107,4175897,4100108,4022426,3936482,3844136,3754492,3661114,3581479,3505157,3426040,3344031,3255383,3170767,3095718,3022221,2953549,2879688,2794307,2707013,2623257,2547721,2470408,2399505,2316012,2238433,2150622,2054316,1974458,1904156,1834141,1735028,1656979,1564650,1479327,1395547,1320570,1248877,1175203,1095046,1012631,931804,856782,781692,719482,660048,592661,528939,467039,417394,377570,336306,303868,271551,241919,214163,196428,180918,166764,155412,144517,127646,125169,117914,112884,109115,105141,101095,97180,94414,92134,89601,87664,85306,83407,82041,80683,79715,78870,78267,77938,76185,75563,75018,74594,72804,70869,68745,66667,60193,45046,44667,42627,40086,37059,34330,30794,27635,23892,19881,16787,12038,9927,8234,6166,5578,2927,2118,1434,941,654,555],\"date\":{\"__ndarray__\":\"AACA5WIgd0IAAMB/ECB3QgAAABq+H3dCAABAtGsfd0IAAIBOGR93QgAAwOjGHndCAAAAg3Qed0IAAEAdIh53QgAAgLfPHXdCAADAUX0dd0IAAADsKh13QgAAQIbYHHdCAACAIIYcd0IAAMC6Mxx3QgAAAFXhG3dCAABA744bd0IAAICJPBt3QgAAwCPqGndCAAAAvpcad0IAAEBYRRp3QgAAgPLyGXdCAADAjKAZd0IAAAAnThl3QgAAQMH7GHdCAACAW6kYd0IAAMD1Vhh3QgAAAJAEGHdCAABAKrIXd0IAAIDEXxd3QgAAwF4NF3dCAAAA+boWd0IAAECTaBZ3QgAAgC0WFndCAADAx8MVd0IAAABicRV3QgAAQPweFXdCAACAlswUd0IAAMAwehR3QgAAAMsnFHdCAABAZdUTd0IAAID/ghN3QgAAwJkwE3dCAAAANN4Sd0IAAEDOixJ3QgAAgGg5EndCAADAAucRd0IAAACdlBF3QgAAQDdCEXdCAACA0e8Qd0IAAMBrnRB3QgAAAAZLEHdCAABAoPgPd0IAAIA6pg93QgAAwNRTD3dCAAAAbwEPd0IAAEAJrw53QgAAgKNcDndCAADAPQoOd0IAAADYtw13QgAAQHJlDXdCAACADBMNd0IAAMCmwAx3QgAAAEFuDHdCAABA2xsMd0IAAIB1yQt3QgAAwA93C3dCAAAAqiQLd0IAAEBE0gp3QgAAgN5/CndCAADAeC0Kd0IAAAAT2wl3QgAAQK2ICXdCAACARzYJd0IAAMDh4wh3QgAAAHyRCHdCAABAFj8Id0IAAICw7Ad3QgAAwEqaB3dCAAAA5UcHd0IAAEB/9QZ3QgAAgBmjBndCAADAs1AGd0IAAABO/gV3QgAAQOirBXdCAACAglkFd0IAAMAcBwV3QgAAALe0BHdCAABAUWIEd0IAAIDrDwR3QgAAwIW9A3dCAAAAIGsDd0IAAEC6GAN3QgAAgFTGAndCAADA7nMCd0IAAACJIQJ3QgAAQCPPAXdCAACAvXwBd0IAAMBXKgF3QgAAAPLXAHdCAABAjIUAd0IAAIAmMwB3QgAAwMDg/3ZCAAAAW47/dkIAAED1O/92QgAAgI/p/nZCAADAKZf+dkIAAADERP52QgAAQF7y/XZCAACA+J/9dkIAAMCSTf12QgAAAC37/HZCAABAx6j8dkI=\",\"dtype\":\"float64\",\"shape\":[112]},\"death\":[291898,286287,282666,279268,274856,269525,263814,257198,251496,247433,243776,238582,233323,227628,220764,214407,209864,206152,199963,193631,186879,180203,173067,167745,163187,156777,147921,140637,132417,125541,119833,114126,108093,100864,93336,86645,78753,73063,67967,61798,55803,49661,44227,39428,35312,31787,28277,24777,21775,19004,16751,14817,13117,11415,9939,8816,7949,7143,6465,5823,5401,4715,4607,4257,3981,3795,3552,3453,3341,3248,3154,3079,2990,2935,2866,2810,2766,2705,2626,2466,2456,2249,2245,2122,2007,1868,1770,1666,1523,1371,1118,1113,1013,906,806,719,634,564,492,426,362,259,213,171,133,131,82,56,42,26,18,17],\"index\":[0,1,2,3,4,5,6,7,8,9,10,11,12,13,14,15,16,17,18,19,20,21,22,23,24,25,26,27,28,29,30,31,32,33,34,35,36,37,38,39,40,41,42,43,44,45,46,47,48,49,50,51,52,53,54,55,56,57,58,59,60,61,62,63,64,65,66,67,68,69,70,71,72,73,74,75,76,77,78,79,80,81,82,83,84,85,86,87,88,89,90,91,92,93,94,95,96,97,98,99,100,101,102,103,104,105,106,107,108,109,110,111],\"recovered\":[1492092,1454903,1407676,1374357,1320843,1283534,1244278,1197697,1161676,1124210,1092156,1051499,1012970,947531,906078,872831,845174,816595,788778,738176,709264,679133,644541,622561,590982,567037,540869,509811,473275,447995,421045,401443,375433,353340,328054,299411,275892,259381,245517,225185,209640,192585,177425,163962,148478,138817,130317,121553,113200,107675,98026,97574,91367,87095,84650,82987,80515,77763,75709,72299,69926,67999,66678,64364,62454,60654,58318,55825,53786,51160,48218,45592,42706,39772,36701,33267,30374,27905,25227,23394,22885,18889,18176,16120,14352,12583,10865,9395,8058,6295,5150,4683,3946,3244,2616,2011,1487,1124,852,623,472,284,222,143,126,107,61,52,39,36,30,28]},\"selected\":{\"id\":\"1073\"},\"selection_policy\":{\"id\":\"1072\"}},\"id\":\"1002\",\"type\":\"ColumnDataSource\"},{\"attributes\":{\"months\":[0,4,8]},\"id\":\"1056\",\"type\":\"MonthsTicker\"},{\"attributes\":{},\"id\":\"1025\",\"type\":\"SaveTool\"},{\"attributes\":{\"axis_label\":\"Date\",\"formatter\":{\"id\":\"1043\"},\"ticker\":{\"id\":\"1015\"}},\"id\":\"1014\",\"type\":\"DatetimeAxis\"},{\"attributes\":{\"months\":[0,6]},\"id\":\"1057\",\"type\":\"MonthsTicker\"},{\"attributes\":{},\"id\":\"1026\",\"type\":\"ResetTool\"},{\"attributes\":{\"source\":{\"id\":\"1002\"}},\"id\":\"1040\",\"type\":\"CDSView\"},{\"attributes\":{},\"id\":\"1058\",\"type\":\"YearsTicker\"},{\"attributes\":{},\"id\":\"1027\",\"type\":\"HelpTool\"},{\"attributes\":{\"click_policy\":\"hide\",\"items\":[{\"id\":\"1060\"},{\"id\":\"1086\"},{\"id\":\"1112\"}],\"location\":\"top_left\"},\"id\":\"1059\",\"type\":\"Legend\"},{\"attributes\":{\"days\":[1,8,15,22]},\"id\":\"1052\",\"type\":\"DaysTicker\"},{\"attributes\":{\"active_drag\":\"auto\",\"active_inspect\":\"auto\",\"active_multi\":null,\"active_scroll\":\"auto\",\"active_tap\":\"auto\",\"tools\":[{\"id\":\"1022\"},{\"id\":\"1023\"},{\"id\":\"1024\"},{\"id\":\"1025\"},{\"id\":\"1026\"},{\"id\":\"1027\"}]},\"id\":\"1029\",\"type\":\"Toolbar\"},{\"attributes\":{\"line_alpha\":0.1,\"line_color\":\"green\",\"line_width\":2,\"x\":{\"field\":\"date\"},\"y\":{\"field\":\"recovered\"}},\"id\":\"1089\",\"type\":\"Line\"},{\"attributes\":{\"label\":{\"value\":\"confirmed\"},\"renderers\":[{\"id\":\"1039\"}]},\"id\":\"1060\",\"type\":\"LegendItem\"},{\"attributes\":{\"bottom_units\":\"screen\",\"fill_alpha\":0.5,\"fill_color\":\"lightgrey\",\"left_units\":\"screen\",\"level\":\"overlay\",\"line_alpha\":1.0,\"line_color\":\"black\",\"line_dash\":[4,4],\"line_width\":2,\"render_mode\":\"css\",\"right_units\":\"screen\",\"top_units\":\"screen\"},\"id\":\"1028\",\"type\":\"BoxAnnotation\"},{\"attributes\":{\"num_minor_ticks\":5,\"tickers\":[{\"id\":\"1047\"},{\"id\":\"1048\"},{\"id\":\"1049\"},{\"id\":\"1050\"},{\"id\":\"1051\"},{\"id\":\"1052\"},{\"id\":\"1053\"},{\"id\":\"1054\"},{\"id\":\"1055\"},{\"id\":\"1056\"},{\"id\":\"1057\"},{\"id\":\"1058\"}]},\"id\":\"1015\",\"type\":\"DatetimeTicker\"},{\"attributes\":{\"days\":[1,4,7,10,13,16,19,22,25,28]},\"id\":\"1051\",\"type\":\"DaysTicker\"},{\"attributes\":{\"line_alpha\":0.1,\"line_color\":\"blue\",\"line_width\":2,\"x\":{\"field\":\"date\"},\"y\":{\"field\":\"death\"}},\"id\":\"1063\",\"type\":\"Line\"},{\"attributes\":{\"data_source\":{\"id\":\"1002\"},\"glyph\":{\"id\":\"1037\"},\"hover_glyph\":null,\"muted_glyph\":null,\"nonselection_glyph\":{\"id\":\"1038\"},\"selection_glyph\":null,\"view\":{\"id\":\"1040\"}},\"id\":\"1039\",\"type\":\"GlyphRenderer\"},{\"attributes\":{},\"id\":\"1008\",\"type\":\"DataRange1d\"},{\"attributes\":{\"text\":\"Covid Progress\"},\"id\":\"1004\",\"type\":\"Title\"},{\"attributes\":{\"source\":{\"id\":\"1002\"}},\"id\":\"1065\",\"type\":\"CDSView\"},{\"attributes\":{\"line_color\":\"red\",\"line_width\":2,\"x\":{\"field\":\"date\"},\"y\":{\"field\":\"confirmed\"}},\"id\":\"1037\",\"type\":\"Line\"},{\"attributes\":{},\"id\":\"1043\",\"type\":\"DatetimeTickFormatter\"},{\"attributes\":{},\"id\":\"1072\",\"type\":\"UnionRenderers\"},{\"attributes\":{},\"id\":\"1006\",\"type\":\"DataRange1d\"},{\"attributes\":{},\"id\":\"1045\",\"type\":\"BasicTickFormatter\"},{\"attributes\":{\"line_color\":\"blue\",\"line_width\":2,\"x\":{\"field\":\"date\"},\"y\":{\"field\":\"death\"}},\"id\":\"1062\",\"type\":\"Line\"},{\"attributes\":{\"data_source\":{\"id\":\"1002\"},\"glyph\":{\"id\":\"1062\"},\"hover_glyph\":null,\"muted_glyph\":null,\"nonselection_glyph\":{\"id\":\"1063\"},\"selection_glyph\":null,\"view\":{\"id\":\"1065\"}},\"id\":\"1064\",\"type\":\"GlyphRenderer\"},{\"attributes\":{\"mantissas\":[1,2,5],\"max_interval\":500.0,\"num_minor_ticks\":0},\"id\":\"1047\",\"type\":\"AdaptiveTicker\"}],\"root_ids\":[\"1003\"]},\"title\":\"Bokeh Application\",\"version\":\"2.0.2\"}};\n",
       "  var render_items = [{\"docid\":\"0a86391e-4522-4cff-b36e-4c44493cce0e\",\"root_ids\":[\"1003\"],\"roots\":{\"1003\":\"967558e9-554d-4218-86cb-8c8a007580ad\"}}];\n",
       "  root.Bokeh.embed.embed_items_notebook(docs_json, render_items);\n",
       "\n",
       "  }\n",
       "  if (root.Bokeh !== undefined) {\n",
       "    embed_document(root);\n",
       "  } else {\n",
       "    var attempts = 0;\n",
       "    var timer = setInterval(function(root) {\n",
       "      if (root.Bokeh !== undefined) {\n",
       "        clearInterval(timer);\n",
       "        embed_document(root);\n",
       "      } else {\n",
       "        attempts++;\n",
       "        if (attempts > 100) {\n",
       "          clearInterval(timer);\n",
       "          console.log(\"Bokeh: ERROR: Unable to run BokehJS code because BokehJS library is missing\");\n",
       "        }\n",
       "      }\n",
       "    }, 10, root)\n",
       "  }\n",
       "})(window);"
      ],
      "application/vnd.bokehjs_exec.v0+json": ""
     },
     "metadata": {
      "application/vnd.bokehjs_exec.v0+json": {
       "id": "1003"
      }
     },
     "output_type": "display_data"
    }
   ],
   "source": [
    "#set source\n",
    "source = ColumnDataSource(overall)\n",
    "\n",
    "# create the plot\n",
    "p = figure(title = 'Covid Progress', \n",
    "           x_axis_type=\"datetime\",\n",
    "           x_axis_label = 'Date',\n",
    "           y_axis_label = 'Persons',\n",
    "           plot_height = 400,\n",
    "           plot_width = 700)\n",
    "\n",
    "p.line(x='date', y='confirmed', line_width=2, source=source, color='red', legend_label='confirmed')\n",
    "p.line(x='date', y='death', line_width=2, source=source, color='blue', legend_label = 'death')\n",
    "p.line(x='date', y='recovered', line_width=2, source=source, color='green', legend_label = 'recovered')\n",
    "\n",
    "\n",
    "p.legend.location = \"top_left\"\n",
    "p.legend.click_policy=\"hide\"\n",
    "\n",
    "show(p)"
   ]
  },
  {
   "cell_type": "markdown",
   "metadata": {},
   "source": [
    "#### 2. Top countries\n",
    "***"
   ]
  },
  {
   "cell_type": "code",
   "execution_count": 8,
   "metadata": {},
   "outputs": [],
   "source": [
    "# barplot with top-10 countries\n",
    "def plotTop10(data, vals = 'confirmed', title = 'Top 10 countries with Covid'):\n",
    "    #set source\n",
    "    source = ColumnDataSource(data)\n",
    "\n",
    "    p = figure(y_range=data['country'].iloc[::-1], plot_height=350, title=title,\n",
    "               toolbar_location=None, tools=\"\")\n",
    "\n",
    "    p.hbar(y='country', right=vals, source = source, height=0.8)\n",
    "\n",
    "    p.ygrid.grid_line_color = None\n",
    "    p.x_range.start = 0\n",
    "\n",
    "    show(p)"
   ]
  },
  {
   "cell_type": "code",
   "execution_count": 9,
   "metadata": {},
   "outputs": [
    {
     "name": "stdout",
     "output_type": "stream",
     "text": [
      "10 rows affected\n"
     ]
    }
   ],
   "source": [
    "# get overall numbers\n",
    "query = \"\"\"\n",
    "SELECT\n",
    "    country, \n",
    "    confirmed,\n",
    "    death,\n",
    "    recovered\n",
    "FROM stats\n",
    "WHERE date = (SELECT MAX(date) FROM stats)\n",
    "ORDER BY confirmed DESC\n",
    "LIMIT 10;\n",
    "\"\"\"\n",
    "\n",
    "top10 = qdb.execute_query(query)"
   ]
  },
  {
   "cell_type": "code",
   "execution_count": 10,
   "metadata": {},
   "outputs": [
    {
     "data": {
      "text/html": [
       "\n",
       "\n",
       "\n",
       "\n",
       "\n",
       "\n",
       "  <div class=\"bk-root\" id=\"aea0869a-313c-4b94-8df2-7e58c12dc979\" data-root-id=\"1254\"></div>\n"
      ]
     },
     "metadata": {},
     "output_type": "display_data"
    },
    {
     "data": {
      "application/javascript": [
       "(function(root) {\n",
       "  function embed_document(root) {\n",
       "    \n",
       "  var docs_json = {\"f8443272-7dff-4c63-ab97-891fc8fc21fc\":{\"roots\":{\"references\":[{\"attributes\":{\"below\":[{\"id\":\"1265\"}],\"center\":[{\"id\":\"1268\"},{\"id\":\"1271\"}],\"left\":[{\"id\":\"1269\"}],\"plot_height\":350,\"renderers\":[{\"id\":\"1276\"}],\"title\":{\"id\":\"1255\"},\"toolbar\":{\"id\":\"1272\"},\"toolbar_location\":null,\"x_range\":{\"id\":\"1257\"},\"x_scale\":{\"id\":\"1261\"},\"y_range\":{\"id\":\"1259\"},\"y_scale\":{\"id\":\"1263\"}},\"id\":\"1254\",\"subtype\":\"Figure\",\"type\":\"Plot\"},{\"attributes\":{\"data\":{\"confirmed\":[1369376,232243,228030,227741,221216,178349,178214,173171,141475,110767],\"country\":[\"United States\",\"Russia\",\"Spain\",\"United Kingdom\",\"Italy\",\"France\",\"Brazil\",\"Germany\",\"Turkey\",\"Iran\"],\"death\":[82356,2116,26920,32769,30911,26994,12461,7738,3894,6733],\"index\":[0,1,2,3,4,5,6,7,8,9],\"recovered\":[230287,43512,138980,1023,109039,57898,72597,147200,98889,88357]},\"selected\":{\"id\":\"1304\"},\"selection_policy\":{\"id\":\"1303\"}},\"id\":\"1253\",\"type\":\"ColumnDataSource\"},{\"attributes\":{},\"id\":\"1302\",\"type\":\"CategoricalTickFormatter\"},{\"attributes\":{\"fill_alpha\":{\"value\":0.1},\"fill_color\":{\"value\":\"#1f77b4\"},\"height\":{\"value\":0.8},\"line_alpha\":{\"value\":0.1},\"line_color\":{\"value\":\"#1f77b4\"},\"right\":{\"field\":\"confirmed\"},\"y\":{\"field\":\"country\"}},\"id\":\"1275\",\"type\":\"HBar\"},{\"attributes\":{},\"id\":\"1303\",\"type\":\"UnionRenderers\"},{\"attributes\":{},\"id\":\"1304\",\"type\":\"Selection\"},{\"attributes\":{\"fill_color\":{\"value\":\"#1f77b4\"},\"height\":{\"value\":0.8},\"line_color\":{\"value\":\"#1f77b4\"},\"right\":{\"field\":\"confirmed\"},\"y\":{\"field\":\"country\"}},\"id\":\"1274\",\"type\":\"HBar\"},{\"attributes\":{},\"id\":\"1266\",\"type\":\"BasicTicker\"},{\"attributes\":{},\"id\":\"1300\",\"type\":\"BasicTickFormatter\"},{\"attributes\":{},\"id\":\"1270\",\"type\":\"CategoricalTicker\"},{\"attributes\":{\"start\":0},\"id\":\"1257\",\"type\":\"DataRange1d\"},{\"attributes\":{\"axis\":{\"id\":\"1269\"},\"dimension\":1,\"grid_line_color\":null,\"ticker\":null},\"id\":\"1271\",\"type\":\"Grid\"},{\"attributes\":{\"formatter\":{\"id\":\"1302\"},\"ticker\":{\"id\":\"1270\"}},\"id\":\"1269\",\"type\":\"CategoricalAxis\"},{\"attributes\":{\"active_drag\":\"auto\",\"active_inspect\":\"auto\",\"active_multi\":null,\"active_scroll\":\"auto\",\"active_tap\":\"auto\"},\"id\":\"1272\",\"type\":\"Toolbar\"},{\"attributes\":{\"factors\":[\"Iran\",\"Turkey\",\"Germany\",\"Brazil\",\"France\",\"Italy\",\"United Kingdom\",\"Spain\",\"Russia\",\"United States\"]},\"id\":\"1259\",\"type\":\"FactorRange\"},{\"attributes\":{\"axis\":{\"id\":\"1265\"},\"ticker\":null},\"id\":\"1268\",\"type\":\"Grid\"},{\"attributes\":{\"text\":\"Top 10 countries with Covid\"},\"id\":\"1255\",\"type\":\"Title\"},{\"attributes\":{\"formatter\":{\"id\":\"1300\"},\"ticker\":{\"id\":\"1266\"}},\"id\":\"1265\",\"type\":\"LinearAxis\"},{\"attributes\":{\"data_source\":{\"id\":\"1253\"},\"glyph\":{\"id\":\"1274\"},\"hover_glyph\":null,\"muted_glyph\":null,\"nonselection_glyph\":{\"id\":\"1275\"},\"selection_glyph\":null,\"view\":{\"id\":\"1277\"}},\"id\":\"1276\",\"type\":\"GlyphRenderer\"},{\"attributes\":{},\"id\":\"1261\",\"type\":\"LinearScale\"},{\"attributes\":{\"source\":{\"id\":\"1253\"}},\"id\":\"1277\",\"type\":\"CDSView\"},{\"attributes\":{},\"id\":\"1263\",\"type\":\"CategoricalScale\"}],\"root_ids\":[\"1254\"]},\"title\":\"Bokeh Application\",\"version\":\"2.0.2\"}};\n",
       "  var render_items = [{\"docid\":\"f8443272-7dff-4c63-ab97-891fc8fc21fc\",\"root_ids\":[\"1254\"],\"roots\":{\"1254\":\"aea0869a-313c-4b94-8df2-7e58c12dc979\"}}];\n",
       "  root.Bokeh.embed.embed_items_notebook(docs_json, render_items);\n",
       "\n",
       "  }\n",
       "  if (root.Bokeh !== undefined) {\n",
       "    embed_document(root);\n",
       "  } else {\n",
       "    var attempts = 0;\n",
       "    var timer = setInterval(function(root) {\n",
       "      if (root.Bokeh !== undefined) {\n",
       "        clearInterval(timer);\n",
       "        embed_document(root);\n",
       "      } else {\n",
       "        attempts++;\n",
       "        if (attempts > 100) {\n",
       "          clearInterval(timer);\n",
       "          console.log(\"Bokeh: ERROR: Unable to run BokehJS code because BokehJS library is missing\");\n",
       "        }\n",
       "      }\n",
       "    }, 10, root)\n",
       "  }\n",
       "})(window);"
      ],
      "application/vnd.bokehjs_exec.v0+json": ""
     },
     "metadata": {
      "application/vnd.bokehjs_exec.v0+json": {
       "id": "1254"
      }
     },
     "output_type": "display_data"
    }
   ],
   "source": [
    "plotTop10(top10)"
   ]
  },
  {
   "cell_type": "code",
   "execution_count": 11,
   "metadata": {},
   "outputs": [],
   "source": [
    "# potential visual: show how the top 10 progates per day (popular barplot)"
   ]
  },
  {
   "cell_type": "markdown",
   "metadata": {},
   "source": [
    "#### 3. Daily Increment\n",
    "***"
   ]
  },
  {
   "cell_type": "code",
   "execution_count": 12,
   "metadata": {},
   "outputs": [
    {
     "name": "stdout",
     "output_type": "stream",
     "text": [
      "10 rows affected\n"
     ]
    }
   ],
   "source": [
    "# get overall numbers\n",
    "query = \"\"\"\n",
    "SELECT\n",
    "    country, \n",
    "    confirmed,\n",
    "    death,\n",
    "    recovered\n",
    "FROM daily_stats\n",
    "WHERE date = (SELECT MAX(date) FROM daily_stats)\n",
    "ORDER BY confirmed DESC\n",
    "LIMIT 10;\n",
    "\"\"\"\n",
    "\n",
    "top10_daily = qdb.execute_query(query)"
   ]
  },
  {
   "cell_type": "code",
   "execution_count": 13,
   "metadata": {},
   "outputs": [
    {
     "data": {
      "text/html": [
       "\n",
       "\n",
       "\n",
       "\n",
       "\n",
       "\n",
       "  <div class=\"bk-root\" id=\"f5c19fc4-57ca-4a27-a88e-ae2a80222c07\" data-root-id=\"1348\"></div>\n"
      ]
     },
     "metadata": {},
     "output_type": "display_data"
    },
    {
     "data": {
      "application/javascript": [
       "(function(root) {\n",
       "  function embed_document(root) {\n",
       "    \n",
       "  var docs_json = {\"9e6d6f97-cf65-43f9-b920-6e88f2842db7\":{\"roots\":{\"references\":[{\"attributes\":{\"below\":[{\"id\":\"1359\"}],\"center\":[{\"id\":\"1362\"},{\"id\":\"1365\"}],\"left\":[{\"id\":\"1363\"}],\"plot_height\":350,\"renderers\":[{\"id\":\"1370\"}],\"title\":{\"id\":\"1349\"},\"toolbar\":{\"id\":\"1366\"},\"toolbar_location\":null,\"x_range\":{\"id\":\"1351\"},\"x_scale\":{\"id\":\"1355\"},\"y_range\":{\"id\":\"1353\"},\"y_scale\":{\"id\":\"1357\"}},\"id\":\"1348\",\"subtype\":\"Figure\",\"type\":\"Plot\"},{\"attributes\":{\"source\":{\"id\":\"1347\"}},\"id\":\"1371\",\"type\":\"CDSView\"},{\"attributes\":{\"factors\":[\"Turkey\",\"Saudi Arabia\",\"Mexico\",\"Pakistan\",\"Peru\",\"United Kingdom\",\"India\",\"Brazil\",\"Russia\",\"United States\"]},\"id\":\"1353\",\"type\":\"FactorRange\"},{\"attributes\":{},\"id\":\"1403\",\"type\":\"CategoricalTickFormatter\"},{\"attributes\":{},\"id\":\"1404\",\"type\":\"UnionRenderers\"},{\"attributes\":{\"start\":0},\"id\":\"1351\",\"type\":\"DataRange1d\"},{\"attributes\":{},\"id\":\"1405\",\"type\":\"Selection\"},{\"attributes\":{},\"id\":\"1355\",\"type\":\"LinearScale\"},{\"attributes\":{},\"id\":\"1357\",\"type\":\"CategoricalScale\"},{\"attributes\":{\"formatter\":{\"id\":\"1401\"},\"ticker\":{\"id\":\"1360\"}},\"id\":\"1359\",\"type\":\"LinearAxis\"},{\"attributes\":{},\"id\":\"1360\",\"type\":\"BasicTicker\"},{\"attributes\":{\"axis\":{\"id\":\"1359\"},\"ticker\":null},\"id\":\"1362\",\"type\":\"Grid\"},{\"attributes\":{\"formatter\":{\"id\":\"1403\"},\"ticker\":{\"id\":\"1364\"}},\"id\":\"1363\",\"type\":\"CategoricalAxis\"},{\"attributes\":{\"data\":{\"confirmed\":[21495,10899,8620,3524,3409,3237,2255,1997,1911,1704],\"country\":[\"United States\",\"Russia\",\"Brazil\",\"India\",\"United Kingdom\",\"Peru\",\"Pakistan\",\"Mexico\",\"Saudi Arabia\",\"Turkey\"],\"death\":[1674,107,808,121,628,96,31,353,9,53],\"index\":[0,1,2,3,4,5,6,7,8,9],\"recovered\":[-2446,3711,5213,1871,8,918,257,2835,2520,3109]},\"selected\":{\"id\":\"1405\"},\"selection_policy\":{\"id\":\"1404\"}},\"id\":\"1347\",\"type\":\"ColumnDataSource\"},{\"attributes\":{},\"id\":\"1364\",\"type\":\"CategoricalTicker\"},{\"attributes\":{\"axis\":{\"id\":\"1363\"},\"dimension\":1,\"grid_line_color\":null,\"ticker\":null},\"id\":\"1365\",\"type\":\"Grid\"},{\"attributes\":{\"active_drag\":\"auto\",\"active_inspect\":\"auto\",\"active_multi\":null,\"active_scroll\":\"auto\",\"active_tap\":\"auto\"},\"id\":\"1366\",\"type\":\"Toolbar\"},{\"attributes\":{},\"id\":\"1401\",\"type\":\"BasicTickFormatter\"},{\"attributes\":{\"text\":\"most cases today\"},\"id\":\"1349\",\"type\":\"Title\"},{\"attributes\":{\"fill_alpha\":{\"value\":0.1},\"fill_color\":{\"value\":\"#1f77b4\"},\"height\":{\"value\":0.8},\"line_alpha\":{\"value\":0.1},\"line_color\":{\"value\":\"#1f77b4\"},\"right\":{\"field\":\"confirmed\"},\"y\":{\"field\":\"country\"}},\"id\":\"1369\",\"type\":\"HBar\"},{\"attributes\":{\"fill_color\":{\"value\":\"#1f77b4\"},\"height\":{\"value\":0.8},\"line_color\":{\"value\":\"#1f77b4\"},\"right\":{\"field\":\"confirmed\"},\"y\":{\"field\":\"country\"}},\"id\":\"1368\",\"type\":\"HBar\"},{\"attributes\":{\"data_source\":{\"id\":\"1347\"},\"glyph\":{\"id\":\"1368\"},\"hover_glyph\":null,\"muted_glyph\":null,\"nonselection_glyph\":{\"id\":\"1369\"},\"selection_glyph\":null,\"view\":{\"id\":\"1371\"}},\"id\":\"1370\",\"type\":\"GlyphRenderer\"}],\"root_ids\":[\"1348\"]},\"title\":\"Bokeh Application\",\"version\":\"2.0.2\"}};\n",
       "  var render_items = [{\"docid\":\"9e6d6f97-cf65-43f9-b920-6e88f2842db7\",\"root_ids\":[\"1348\"],\"roots\":{\"1348\":\"f5c19fc4-57ca-4a27-a88e-ae2a80222c07\"}}];\n",
       "  root.Bokeh.embed.embed_items_notebook(docs_json, render_items);\n",
       "\n",
       "  }\n",
       "  if (root.Bokeh !== undefined) {\n",
       "    embed_document(root);\n",
       "  } else {\n",
       "    var attempts = 0;\n",
       "    var timer = setInterval(function(root) {\n",
       "      if (root.Bokeh !== undefined) {\n",
       "        clearInterval(timer);\n",
       "        embed_document(root);\n",
       "      } else {\n",
       "        attempts++;\n",
       "        if (attempts > 100) {\n",
       "          clearInterval(timer);\n",
       "          console.log(\"Bokeh: ERROR: Unable to run BokehJS code because BokehJS library is missing\");\n",
       "        }\n",
       "      }\n",
       "    }, 10, root)\n",
       "  }\n",
       "})(window);"
      ],
      "application/vnd.bokehjs_exec.v0+json": ""
     },
     "metadata": {
      "application/vnd.bokehjs_exec.v0+json": {
       "id": "1348"
      }
     },
     "output_type": "display_data"
    }
   ],
   "source": [
    "plotTop10(top10_daily, vals = 'confirmed', title = 'most cases today')"
   ]
  },
  {
   "cell_type": "markdown",
   "metadata": {},
   "source": [
    "#### barplot with actual cases + line for MA\n",
    "source: https://medium.com/y-data-stories/the-beginners-guide-to-creating-interactive-dashboards-with-python-and-bokeh-part-i-3826ea197a1b"
   ]
  },
  {
   "cell_type": "code",
   "execution_count": 14,
   "metadata": {},
   "outputs": [
    {
     "name": "stdout",
     "output_type": "stream",
     "text": [
      "111 rows affected\n"
     ]
    }
   ],
   "source": [
    "res = qdb.get_daily_stats_country('United States')"
   ]
  },
  {
   "cell_type": "code",
   "execution_count": 15,
   "metadata": {},
   "outputs": [
    {
     "data": {
      "text/html": [
       "\n",
       "\n",
       "\n",
       "\n",
       "\n",
       "\n",
       "  <div class=\"bk-root\" id=\"16dd85b2-129c-4d6a-9200-c7562cf83c2f\" data-root-id=\"1449\"></div>\n"
      ]
     },
     "metadata": {},
     "output_type": "display_data"
    },
    {
     "data": {
      "application/javascript": [
       "(function(root) {\n",
       "  function embed_document(root) {\n",
       "    \n",
       "  var docs_json = {\"489d81a8-82a1-4315-88e3-88c0a7343a84\":{\"roots\":{\"references\":[{\"attributes\":{\"below\":[{\"id\":\"1460\"}],\"center\":[{\"id\":\"1463\"},{\"id\":\"1467\"},{\"id\":\"1505\"}],\"left\":[{\"id\":\"1464\"}],\"plot_height\":400,\"plot_width\":700,\"renderers\":[{\"id\":\"1485\"},{\"id\":\"1510\"}],\"title\":{\"id\":\"1450\"},\"toolbar\":{\"id\":\"1475\"},\"x_range\":{\"id\":\"1452\"},\"x_scale\":{\"id\":\"1456\"},\"y_range\":{\"id\":\"1454\"},\"y_scale\":{\"id\":\"1458\"}},\"id\":\"1449\",\"subtype\":\"Figure\",\"type\":\"Plot\"},{\"attributes\":{},\"id\":\"1473\",\"type\":\"HelpTool\"},{\"attributes\":{\"label\":{\"value\":\"confirmed cases\"},\"renderers\":[{\"id\":\"1485\"}]},\"id\":\"1506\",\"type\":\"LegendItem\"},{\"attributes\":{},\"id\":\"1456\",\"type\":\"LinearScale\"},{\"attributes\":{\"base\":60,\"mantissas\":[1,2,5,10,15,20,30],\"max_interval\":1800000.0,\"min_interval\":1000.0,\"num_minor_ticks\":0},\"id\":\"1494\",\"type\":\"AdaptiveTicker\"},{\"attributes\":{\"fill_alpha\":{\"value\":0.1},\"fill_color\":{\"value\":\"red\"},\"line_alpha\":{\"value\":0.1},\"line_color\":{\"value\":\"red\"},\"top\":{\"field\":\"confirmed\"},\"width\":{\"value\":43200000.0},\"x\":{\"field\":\"date\"}},\"id\":\"1484\",\"type\":\"VBar\"},{\"attributes\":{\"active_drag\":\"auto\",\"active_inspect\":\"auto\",\"active_multi\":null,\"active_scroll\":\"auto\",\"active_tap\":\"auto\",\"tools\":[{\"id\":\"1468\"},{\"id\":\"1469\"},{\"id\":\"1470\"},{\"id\":\"1471\"},{\"id\":\"1472\"},{\"id\":\"1473\"}]},\"id\":\"1475\",\"type\":\"Toolbar\"},{\"attributes\":{\"bottom_units\":\"screen\",\"fill_alpha\":0.5,\"fill_color\":\"lightgrey\",\"left_units\":\"screen\",\"level\":\"overlay\",\"line_alpha\":1.0,\"line_color\":\"black\",\"line_dash\":[4,4],\"line_width\":2,\"render_mode\":\"css\",\"right_units\":\"screen\",\"top_units\":\"screen\"},\"id\":\"1474\",\"type\":\"BoxAnnotation\"},{\"attributes\":{\"start\":0},\"id\":\"1454\",\"type\":\"DataRange1d\"},{\"attributes\":{\"line_alpha\":0.1,\"line_color\":\"red\",\"line_width\":2,\"x\":{\"field\":\"date\"},\"y\":{\"field\":\"confirmed_ma\"}},\"id\":\"1509\",\"type\":\"Line\"},{\"attributes\":{},\"id\":\"1458\",\"type\":\"LinearScale\"},{\"attributes\":{\"source\":{\"id\":\"1448\"}},\"id\":\"1511\",\"type\":\"CDSView\"},{\"attributes\":{\"axis_label\":\"Date\",\"formatter\":{\"id\":\"1489\"},\"ticker\":{\"id\":\"1461\"}},\"id\":\"1460\",\"type\":\"DatetimeAxis\"},{\"attributes\":{\"line_color\":\"red\",\"line_width\":2,\"x\":{\"field\":\"date\"},\"y\":{\"field\":\"confirmed_ma\"}},\"id\":\"1508\",\"type\":\"Line\"},{\"attributes\":{\"data\":{\"confirmed\":[0,1,0,3,0,0,0,0,2,1,0,3,0,0,0,0,0,0,0,1,0,1,0,0,0,0,0,0,0,2,0,0,36,0,6,1,2,8,6,24,20,31,68,45,140,116,65,376,322,382,516,548,772,1133,1789,1362,5964,5526,6327,7676,10567,9893,12042,18058,17821,19808,19444,20922,26341,25070,30380,31745,33283,28152,29515,30804,31533,34126,33755,29861,28917,25306,27051,28680,31242,32114,32491,26612,25517,27539,28486,28819,36188,32796,27631,22412,24385,27327,29515,34037,29078,25501,22335,23976,24980,27692,26906,25621,19710,18621,21495],\"confirmed_ma\":{\"__ndarray__\":\"AAAAAAAAAAAAAAAAAADgP1VVVVVVVdU/AAAAAAAA8D+amZmZmZnpP1VVVVVVVeU/kiRJkiRJ4j+SJEmSJEniP7dt27Zt2+Y/27Zt27Zt6z/btm3btm3bP9u2bdu2bes/27Zt27Zt6z/btm3btm3rP9u2bdu2bes/kiRJkiRJ4j/btm3btm3bP9u2bdu2bds/AAAAAAAAAACSJEmSJEnCP5IkSZIkScI/kiRJkiRJ0j+SJEmSJEnSP5IkSZIkSdI/kiRJkiRJ0j+SJEmSJEnSP5IkSZIkScI/kiRJkiRJwj8AAAAAAAAAAJIkSZIkSdI/kiRJkiRJ0j+SJEmSJEnSP27btm3bthVAbtu2bdu2FUBJkiRJkiQZQG7btm3bthlAbtu2bdu2GUCSJEmSJEkeQLdt27Zt2yBAt23btm3bGkBJkiRJkiQjQJIkSZIkSSpAbtu2bdu2NkC3bdu2bds8QLdt27Zt20dAbtu2bdu2T0AlSZIkSVJRQJIkSZIkCV5Abtu2bds2ZEAlSZIkSdJpQNu2bdu2HXFAJUmSJEnCdEDbtm3btp16QLdt27ZtE4JAJUmSJEliiEBu27Zt2waNQJIkSZIk+ZpAAAAAAAAUo0CSJEmSJIepQG7btm3bnbBASZIkSZLhtUAlSZIkSWe6QAAAAACALsBAbtu2bVuOw0BJkiRJkvzGQAAAAACAv8pASZIkSRIIzkBu27Zt23XQQCVJkiRJwdJASZIkSZKS1ECSJEmSpErWQLdt27btO9hAt23bti0d2kC3bdu2LVTbQEmSJEkSh9xA27Zt23Ym3UAlSZIkSQ3eQEmSJEkSk95Abtu2bdva3kCSJEmSpGDeQNu2bdv2e95AkiRJkqTl3UBu27Ztm1/dQNu2bdu2+dxA27Zt27aS3EBu27ZtG1jcQCVJkiQJttxA27Zt27Zj3EAAAAAAQGvcQLdt27atfNxAAAAAAMB13EDbtm3bNh/cQNu2bdu2sNxAbtu2bZu73EAAAAAAAODcQG7btm0bcdxA27Zt23YA3EBJkiRJEtfbQLdt27bt79tAbtu2bRuj20BJkiRJUh7bQAAAAABA0tpAAAAAAIDP2kCSJEmS5MDaQEmSJEkSbdpA27Zt2/Yr2kAlSZIkSS3ZQEmSJEnSsdhAAAAAAADj10Bu27ZtW17XQAAAAADABddA\",\"dtype\":\"float64\",\"shape\":[111]},\"country\":[\"United States\",\"United States\",\"United States\",\"United States\",\"United States\",\"United States\",\"United States\",\"United States\",\"United States\",\"United States\",\"United States\",\"United States\",\"United States\",\"United States\",\"United States\",\"United States\",\"United States\",\"United States\",\"United States\",\"United States\",\"United States\",\"United States\",\"United States\",\"United States\",\"United States\",\"United States\",\"United States\",\"United States\",\"United States\",\"United States\",\"United States\",\"United States\",\"United States\",\"United States\",\"United States\",\"United States\",\"United States\",\"United States\",\"United States\",\"United States\",\"United States\",\"United States\",\"United States\",\"United States\",\"United States\",\"United States\",\"United States\",\"United States\",\"United States\",\"United States\",\"United States\",\"United States\",\"United States\",\"United States\",\"United States\",\"United States\",\"United States\",\"United States\",\"United States\",\"United States\",\"United States\",\"United States\",\"United States\",\"United States\",\"United States\",\"United States\",\"United States\",\"United States\",\"United States\",\"United States\",\"United States\",\"United States\",\"United States\",\"United States\",\"United States\",\"United States\",\"United States\",\"United States\",\"United States\",\"United States\",\"United States\",\"United States\",\"United States\",\"United States\",\"United States\",\"United States\",\"United States\",\"United States\",\"United States\",\"United States\",\"United States\",\"United States\",\"United States\",\"United States\",\"United States\",\"United States\",\"United States\",\"United States\",\"United States\",\"United States\",\"United States\",\"United States\",\"United States\",\"United States\",\"United States\",\"United States\",\"United States\",\"United States\",\"United States\",\"United States\",\"United States\"],\"date\":{\"__ndarray__\":\"AAAALfv8dkIAAMCSTf12QgAAgPif/XZCAABAXvL9dkIAAADERP52QgAAwCmX/nZCAACAj+n+dkIAAED1O/92QgAAAFuO/3ZCAADAwOD/dkIAAIAmMwB3QgAAQIyFAHdCAAAA8tcAd0IAAMBXKgF3QgAAgL18AXdCAABAI88Bd0IAAACJIQJ3QgAAwO5zAndCAACAVMYCd0IAAEC6GAN3QgAAACBrA3dCAADAhb0Dd0IAAIDrDwR3QgAAQFFiBHdCAAAAt7QEd0IAAMAcBwV3QgAAgIJZBXdCAABA6KsFd0IAAABO/gV3QgAAwLNQBndCAACAGaMGd0IAAEB/9QZ3QgAAAOVHB3dCAADASpoHd0IAAICw7Ad3QgAAQBY/CHdCAAAAfJEId0IAAMDh4wh3QgAAgEc2CXdCAABArYgJd0IAAAAT2wl3QgAAwHgtCndCAACA3n8Kd0IAAEBE0gp3QgAAAKokC3dCAADAD3cLd0IAAIB1yQt3QgAAQNsbDHdCAAAAQW4Md0IAAMCmwAx3QgAAgAwTDXdCAABAcmUNd0IAAADYtw13QgAAwD0KDndCAACAo1wOd0IAAEAJrw53QgAAAG8BD3dCAADA1FMPd0IAAIA6pg93QgAAQKD4D3dCAAAABksQd0IAAMBrnRB3QgAAgNHvEHdCAABAN0IRd0IAAACdlBF3QgAAwALnEXdCAACAaDkSd0IAAEDOixJ3QgAAADTeEndCAADAmTATd0IAAID/ghN3QgAAQGXVE3dCAAAAyycUd0IAAMAwehR3QgAAgJbMFHdCAABA/B4Vd0IAAABicRV3QgAAwMfDFXdCAACALRYWd0IAAECTaBZ3QgAAAPm6FndCAADAXg0Xd0IAAIDEXxd3QgAAQCqyF3dCAAAAkAQYd0IAAMD1Vhh3QgAAgFupGHdCAABAwfsYd0IAAAAnThl3QgAAwIygGXdCAACA8vIZd0IAAEBYRRp3QgAAAL6XGndCAADAI+oad0IAAICJPBt3QgAAQO+OG3dCAAAAVeEbd0IAAMC6Mxx3QgAAgCCGHHdCAABAhtgcd0IAAADsKh13QgAAwFF9HXdCAACAt88dd0IAAEAdIh53QgAAAIN0HndCAADA6MYed0IAAIBOGR93QgAAQLRrH3dCAAAAGr4fd0IAAMB/ECB3QgAAgOViIHdC\",\"dtype\":\"float64\",\"shape\":[111]},\"death\":[0,0,0,0,0,0,0,0,0,0,0,0,0,0,0,0,0,0,0,0,0,0,0,0,0,0,0,0,0,0,0,0,0,0,0,0,0,1,0,5,1,4,1,2,3,4,1,6,8,5,8,9,15,26,34,31,94,91,93,144,200,222,308,410,539,466,689,772,1175,1134,1420,1325,1609,1520,1519,2297,2079,1985,2078,2009,1744,1784,2392,2472,2093,2584,2342,1192,1714,2427,2326,2312,1769,2262,1126,1338,2136,2612,2029,1947,1426,1313,1240,2142,2391,2207,1518,1615,731,1156,1674],\"death_ma\":{\"__ndarray__\":\"AAAAAAAAAAAAAAAAAAAAAAAAAAAAAAAAAAAAAAAAAAAAAAAAAAAAAAAAAAAAAAAAAAAAAAAAAAAAAAAAAAAAAAAAAAAAAAAAAAAAAAAAAAAAAAAAAAAAAAAAAAAAAAAAAAAAAAAAAAAAAAAAAAAAAAAAAAAAAAAAAAAAAAAAAAAAAAAAAAAAAAAAAAAAAAAAAAAAAAAAAAAAAAAAAAAAAAAAAAAAAAAAAAAAAAAAAAAAAAAAAAAAAAAAAAAAAAAAAAAAAAAAAAAAAAAAAAAAAAAAAAAAAAAAAAAAAAAAAAAAAAAAAAAAAAAAAAAAAAAAAAAAAAAAAAAAAAAAAAAAAAAAAAAAAAAAAAAAAAAAAAAAAAAAAAAAAAAAAAAAAAAAAAAAAAAAAACSJEmSJEnCP5IkSZIkScI/27Zt27Zt6z8AAAAAAADwP0mSJEmSJPk/27Zt27Zt+z8AAAAAAAAAQJIkSZIkSQJAt23btm3bBkCSJEmSJEkCQAAAAAAAAAhAJUmSJEmSDEAlSZIkSZIQQAAAAAAAABRA27Zt27ZtF0Bu27Zt27YdQAAAAAAAACZAAAAAAAAALkCSJEmSJEkyQAAAAAAAAD9A27Zt27ZtRUDbtm3btm1LQCVJkiRJUlJAkiRJkiSJWEAAAAAAAEBfQCVJkiRJkmRAbtu2bds2akC3bdu2bRtxQAAAAAAAcHRA27Zt27ZNeUCSJEmSJGl+QNu2bdu2dYNA27Zt27Ylh0AAAAAAAKiLQCVJkiRJKo9AJUmSJEkikkCSJEmSJP2TQAAAAAAAqJVAkiRJkiQpmECSJEmSJEWaQAAAAAAAiJtAJUmSJEk2nUBu27Zt2xqeQG7btm3bmp5AJUmSJEkyn0BJkiRJkmifQEmSJEmSJKBAt23btm1DoEAAAAAAANSgQJIkSZIkM6FAt23btm2VoEC3bdu2bYGgQLdt27Zti6BA27Zt27ZhoEAlSZIkSaCgQG7btm3bbp9AkiRJkiRBn0C3bdu2bRufQEmSJEmSRJ5AJUmSJEmenUDbtm3btkGeQAAAAAAAoJ1A27Zt27YFnkAAAAAAACicQG7btm3bkpxAbtu2bdtanEAlSZIkSV6cQAAAAAAA4JtA27Zt27ZFnEBJkiRJklCbQEmSJEmSvJtAAAAAAABwmkAAAAAAAECaQEmSJEmSNJlA\",\"dtype\":\"float64\",\"shape\":[111]},\"index\":[0,1,2,3,4,5,6,7,8,9,10,11,12,13,14,15,16,17,18,19,20,21,22,23,24,25,26,27,28,29,30,31,32,33,34,35,36,37,38,39,40,41,42,43,44,45,46,47,48,49,50,51,52,53,54,55,56,57,58,59,60,61,62,63,64,65,66,67,68,69,70,71,72,73,74,75,76,77,78,79,80,81,82,83,84,85,86,87,88,89,90,91,92,93,94,95,96,97,98,99,100,101,102,103,104,105,106,107,108,109,110],\"recovered\":[0,0,0,0,0,0,0,0,0,0,0,0,0,0,0,0,0,3,0,0,0,0,0,0,0,0,0,0,0,2,0,0,0,1,0,0,1,0,0,0,0,0,0,0,0,0,0,1,0,4,0,0,0,5,0,88,16,26,29,2,0,170,13,320,188,203,1593,2979,1380,1450,527,706,4945,2796,2133,2182,1796,1851,3380,2480,1718,10494,4281,4333,2607,3842,6295,5497,1992,2875,2162,2837,18876,1293,6616,4436,4512,4784,33227,10068,11367,4770,7028,2611,119,5126,3957,13541,3635,16564,-2446],\"recovered_ma\":{\"__ndarray__\":\"AAAAAAAAAAAAAAAAAAAAAAAAAAAAAAAAAAAAAAAAAAAAAAAAAAAAAAAAAAAAAAAAAAAAAAAAAAAAAAAAAAAAAAAAAAAAAAAAAAAAAAAAAAAAAAAAAAAAAAAAAAAAAAAAAAAAAAAAAAAAAAAAAAAAAAAAAAAAAAAAAAAAAAAAAAAAAAAAAAAAANu2bdu2bds/27Zt27Zt2z/btm3btm3bP9u2bdu2bds/27Zt27Zt2z/btm3btm3bP9u2bdu2bds/AAAAAAAAAAAAAAAAAAAAAAAAAAAAAAAAAAAAAAAAAAAAAAAAAAAAAJIkSZIkSdI/kiRJkiRJ0j+SJEmSJEnSP5IkSZIkSdI/27Zt27Zt2z/btm3btm3bP9u2bdu2bds/kiRJkiRJ0j+SJEmSJEnSP5IkSZIkSdI/kiRJkiRJ0j+SJEmSJEnCP5IkSZIkScI/kiRJkiRJwj8AAAAAAAAAAAAAAAAAAAAAAAAAAAAAAAAAAAAAAAAAAJIkSZIkScI/kiRJkiRJwj+3bdu2bdvmP7dt27Zt2+Y/t23btm3b5j+3bdu2bdvmP7dt27Zt2/Y/JUmSJEmS9D9u27Zt27YrQEmSJEmSJC9AkiRJkiRJM0Dbtm3btm03QG7btm3btjdAAAAAAAAAN0BJkiRJkqRHQJIkSZIkSUJAAAAAAAAAVECSJEmSJMlZQAAAAAAAAGBASZIkSZI0dkBu27Zt22aIQNu2bdu2zY1AAAAAAAAckkAlSZIkSZKSQCVJkiRJupNAAAAAAABQnkDbtm3btn+gQAAAAAAAHJ9AkiRJkiRzoEAAAAAAANagQCVJkiRJUKJAJUmSJElMpUAAAAAAAIyiQAAAAAAAWKFAbtu2bdusqkBJkiRJkgStQLdt27Zt2a9A27Zt27ZYsEDbtm3btpqwQNu2bdu2u7JASZIkSZLXtEAAAAAAABmwQCVJkiRJoK5AAAAAAAA0rEDbtm3btnWsQEmSJEmSnrZAAAAAAADUs0Bu27Zt23O0QAAAAAAA0bVAbtu2bdu6tkC3bdu2bTG4QLdt27Ztk8RAJUmSJEkewkBu27Zt2+3EQAAAAAAAasRAkiRJkiQjxUBu27ZtW5vEQJIkSZIkTsNAbtu2bdvttkBu27Zt24SzQLdt27Ztu7RAJUmSJEkZtEBJkiRJkmu5QJIkSZIkmbZA\",\"dtype\":\"float64\",\"shape\":[111]}},\"selected\":{\"id\":\"1519\"},\"selection_policy\":{\"id\":\"1518\"}},\"id\":\"1448\",\"type\":\"ColumnDataSource\"},{\"attributes\":{\"data_source\":{\"id\":\"1448\"},\"glyph\":{\"id\":\"1508\"},\"hover_glyph\":null,\"muted_glyph\":null,\"nonselection_glyph\":{\"id\":\"1509\"},\"selection_glyph\":null,\"view\":{\"id\":\"1511\"}},\"id\":\"1510\",\"type\":\"GlyphRenderer\"},{\"attributes\":{\"num_minor_ticks\":5,\"tickers\":[{\"id\":\"1493\"},{\"id\":\"1494\"},{\"id\":\"1495\"},{\"id\":\"1496\"},{\"id\":\"1497\"},{\"id\":\"1498\"},{\"id\":\"1499\"},{\"id\":\"1500\"},{\"id\":\"1501\"},{\"id\":\"1502\"},{\"id\":\"1503\"},{\"id\":\"1504\"}]},\"id\":\"1461\",\"type\":\"DatetimeTicker\"},{\"attributes\":{\"source\":{\"id\":\"1448\"}},\"id\":\"1486\",\"type\":\"CDSView\"},{\"attributes\":{\"base\":24,\"mantissas\":[1,2,4,6,8,12],\"max_interval\":43200000.0,\"min_interval\":3600000.0,\"num_minor_ticks\":0},\"id\":\"1495\",\"type\":\"AdaptiveTicker\"},{\"attributes\":{\"axis\":{\"id\":\"1460\"},\"ticker\":null},\"id\":\"1463\",\"type\":\"Grid\"},{\"attributes\":{},\"id\":\"1519\",\"type\":\"Selection\"},{\"attributes\":{\"text\":\"Covid Progress\"},\"id\":\"1450\",\"type\":\"Title\"},{\"attributes\":{\"mantissas\":[1,2,5],\"max_interval\":500.0,\"num_minor_ticks\":0},\"id\":\"1493\",\"type\":\"AdaptiveTicker\"},{\"attributes\":{\"label\":{\"value\":\"7-day MA\"},\"renderers\":[{\"id\":\"1510\"}]},\"id\":\"1532\",\"type\":\"LegendItem\"},{\"attributes\":{\"axis_label\":\"Persons\",\"formatter\":{\"id\":\"1491\"},\"ticker\":{\"id\":\"1465\"}},\"id\":\"1464\",\"type\":\"LinearAxis\"},{\"attributes\":{},\"id\":\"1489\",\"type\":\"DatetimeTickFormatter\"},{\"attributes\":{\"days\":[1,2,3,4,5,6,7,8,9,10,11,12,13,14,15,16,17,18,19,20,21,22,23,24,25,26,27,28,29,30,31]},\"id\":\"1496\",\"type\":\"DaysTicker\"},{\"attributes\":{},\"id\":\"1465\",\"type\":\"BasicTicker\"},{\"attributes\":{\"days\":[1,4,7,10,13,16,19,22,25,28]},\"id\":\"1497\",\"type\":\"DaysTicker\"},{\"attributes\":{\"axis\":{\"id\":\"1464\"},\"dimension\":1,\"ticker\":null},\"id\":\"1467\",\"type\":\"Grid\"},{\"attributes\":{\"days\":[1,8,15,22]},\"id\":\"1498\",\"type\":\"DaysTicker\"},{\"attributes\":{\"fill_alpha\":{\"value\":0.1},\"fill_color\":{\"value\":\"red\"},\"line_alpha\":{\"value\":0.1},\"line_color\":{\"value\":\"red\"},\"top\":{\"field\":\"confirmed\"},\"width\":{\"value\":43200000.0},\"x\":{\"field\":\"date\"}},\"id\":\"1483\",\"type\":\"VBar\"},{\"attributes\":{\"days\":[1,15]},\"id\":\"1499\",\"type\":\"DaysTicker\"},{\"attributes\":{\"data_source\":{\"id\":\"1448\"},\"glyph\":{\"id\":\"1483\"},\"hover_glyph\":null,\"muted_glyph\":null,\"nonselection_glyph\":{\"id\":\"1484\"},\"selection_glyph\":null,\"view\":{\"id\":\"1486\"}},\"id\":\"1485\",\"type\":\"GlyphRenderer\"},{\"attributes\":{\"months\":[0,1,2,3,4,5,6,7,8,9,10,11]},\"id\":\"1500\",\"type\":\"MonthsTicker\"},{\"attributes\":{},\"id\":\"1518\",\"type\":\"UnionRenderers\"},{\"attributes\":{\"months\":[0,2,4,6,8,10]},\"id\":\"1501\",\"type\":\"MonthsTicker\"},{\"attributes\":{},\"id\":\"1468\",\"type\":\"PanTool\"},{\"attributes\":{},\"id\":\"1452\",\"type\":\"DataRange1d\"},{\"attributes\":{\"months\":[0,4,8]},\"id\":\"1502\",\"type\":\"MonthsTicker\"},{\"attributes\":{},\"id\":\"1469\",\"type\":\"WheelZoomTool\"},{\"attributes\":{\"months\":[0,6]},\"id\":\"1503\",\"type\":\"MonthsTicker\"},{\"attributes\":{\"overlay\":{\"id\":\"1474\"}},\"id\":\"1470\",\"type\":\"BoxZoomTool\"},{\"attributes\":{},\"id\":\"1491\",\"type\":\"BasicTickFormatter\"},{\"attributes\":{},\"id\":\"1504\",\"type\":\"YearsTicker\"},{\"attributes\":{},\"id\":\"1471\",\"type\":\"SaveTool\"},{\"attributes\":{\"items\":[{\"id\":\"1506\"},{\"id\":\"1532\"}],\"location\":\"top_left\"},\"id\":\"1505\",\"type\":\"Legend\"},{\"attributes\":{},\"id\":\"1472\",\"type\":\"ResetTool\"}],\"root_ids\":[\"1449\"]},\"title\":\"Bokeh Application\",\"version\":\"2.0.2\"}};\n",
       "  var render_items = [{\"docid\":\"489d81a8-82a1-4315-88e3-88c0a7343a84\",\"root_ids\":[\"1449\"],\"roots\":{\"1449\":\"16dd85b2-129c-4d6a-9200-c7562cf83c2f\"}}];\n",
       "  root.Bokeh.embed.embed_items_notebook(docs_json, render_items);\n",
       "\n",
       "  }\n",
       "  if (root.Bokeh !== undefined) {\n",
       "    embed_document(root);\n",
       "  } else {\n",
       "    var attempts = 0;\n",
       "    var timer = setInterval(function(root) {\n",
       "      if (root.Bokeh !== undefined) {\n",
       "        clearInterval(timer);\n",
       "        embed_document(root);\n",
       "      } else {\n",
       "        attempts++;\n",
       "        if (attempts > 100) {\n",
       "          clearInterval(timer);\n",
       "          console.log(\"Bokeh: ERROR: Unable to run BokehJS code because BokehJS library is missing\");\n",
       "        }\n",
       "      }\n",
       "    }, 10, root)\n",
       "  }\n",
       "})(window);"
      ],
      "application/vnd.bokehjs_exec.v0+json": ""
     },
     "metadata": {
      "application/vnd.bokehjs_exec.v0+json": {
       "id": "1449"
      }
     },
     "output_type": "display_data"
    }
   ],
   "source": [
    "#set source\n",
    "source = ColumnDataSource(res)\n",
    "\n",
    "# use a time-delata for the width\n",
    "bar_w = pd.Timedelta(hours = 12)\n",
    "\n",
    "\n",
    "# create the plot\n",
    "p = figure(title = 'Covid Progress', \n",
    "           x_axis_type=\"datetime\",\n",
    "           x_axis_label = 'Date',\n",
    "           y_axis_label = 'Persons',\n",
    "           plot_height = 400,\n",
    "           plot_width = 700)\n",
    "\n",
    "p.vbar(x='date', width = bar_w, top='confirmed', source=source, color = 'red', alpha = 0.1, legend_label = 'confirmed cases')\n",
    "p.line(x='date', y='confirmed_ma', line_width=2 ,source=source, color='red', legend_label='7-day MA')\n",
    "\n",
    "p.y_range.start = 0\n",
    "p.legend.location = \"top_left\"\n",
    "\n",
    "show(p)"
   ]
  },
  {
   "cell_type": "code",
   "execution_count": 16,
   "metadata": {},
   "outputs": [
    {
     "data": {
      "text/html": [
       "\n",
       "\n",
       "\n",
       "\n",
       "\n",
       "\n",
       "  <div class=\"bk-root\" id=\"134a7099-374b-426c-94a6-bc022376a891\" data-root-id=\"1708\"></div>\n"
      ]
     },
     "metadata": {},
     "output_type": "display_data"
    },
    {
     "data": {
      "application/javascript": [
       "(function(root) {\n",
       "  function embed_document(root) {\n",
       "    \n",
       "  var docs_json = {\"88042f4a-bfe1-46b5-b223-febfdef69bf7\":{\"roots\":{\"references\":[{\"attributes\":{\"below\":[{\"id\":\"1719\"}],\"center\":[{\"id\":\"1722\"},{\"id\":\"1726\"},{\"id\":\"1764\"}],\"left\":[{\"id\":\"1723\"}],\"plot_height\":400,\"plot_width\":700,\"renderers\":[{\"id\":\"1744\"},{\"id\":\"1769\"}],\"title\":{\"id\":\"1709\"},\"toolbar\":{\"id\":\"1734\"},\"x_range\":{\"id\":\"1711\"},\"x_scale\":{\"id\":\"1715\"},\"y_range\":{\"id\":\"1713\"},\"y_scale\":{\"id\":\"1717\"}},\"id\":\"1708\",\"subtype\":\"Figure\",\"type\":\"Plot\"},{\"attributes\":{\"months\":[0,4,8]},\"id\":\"1761\",\"type\":\"MonthsTicker\"},{\"attributes\":{\"fill_alpha\":{\"value\":0.1},\"fill_color\":{\"value\":\"blue\"},\"line_alpha\":{\"value\":0.1},\"line_color\":{\"value\":\"blue\"},\"top\":{\"field\":\"death\"},\"width\":{\"value\":43200000.0},\"x\":{\"field\":\"date\"}},\"id\":\"1743\",\"type\":\"VBar\"},{\"attributes\":{\"num_minor_ticks\":5,\"tickers\":[{\"id\":\"1752\"},{\"id\":\"1753\"},{\"id\":\"1754\"},{\"id\":\"1755\"},{\"id\":\"1756\"},{\"id\":\"1757\"},{\"id\":\"1758\"},{\"id\":\"1759\"},{\"id\":\"1760\"},{\"id\":\"1761\"},{\"id\":\"1762\"},{\"id\":\"1763\"}]},\"id\":\"1720\",\"type\":\"DatetimeTicker\"},{\"attributes\":{\"months\":[0,6]},\"id\":\"1762\",\"type\":\"MonthsTicker\"},{\"attributes\":{\"days\":[1,4,7,10,13,16,19,22,25,28]},\"id\":\"1756\",\"type\":\"DaysTicker\"},{\"attributes\":{},\"id\":\"1727\",\"type\":\"PanTool\"},{\"attributes\":{\"axis_label\":\"Date\",\"formatter\":{\"id\":\"1748\"},\"ticker\":{\"id\":\"1720\"}},\"id\":\"1719\",\"type\":\"DatetimeAxis\"},{\"attributes\":{},\"id\":\"1763\",\"type\":\"YearsTicker\"},{\"attributes\":{\"axis\":{\"id\":\"1719\"},\"ticker\":null},\"id\":\"1722\",\"type\":\"Grid\"},{\"attributes\":{},\"id\":\"1728\",\"type\":\"WheelZoomTool\"},{\"attributes\":{\"items\":[{\"id\":\"1765\"},{\"id\":\"1791\"}],\"location\":\"top_left\"},\"id\":\"1764\",\"type\":\"Legend\"},{\"attributes\":{\"base\":60,\"mantissas\":[1,2,5,10,15,20,30],\"max_interval\":1800000.0,\"min_interval\":1000.0,\"num_minor_ticks\":0},\"id\":\"1753\",\"type\":\"AdaptiveTicker\"},{\"attributes\":{\"months\":[0,2,4,6,8,10]},\"id\":\"1760\",\"type\":\"MonthsTicker\"},{\"attributes\":{\"overlay\":{\"id\":\"1733\"}},\"id\":\"1729\",\"type\":\"BoxZoomTool\"},{\"attributes\":{\"label\":{\"value\":\"deaths\"},\"renderers\":[{\"id\":\"1744\"}]},\"id\":\"1765\",\"type\":\"LegendItem\"},{\"attributes\":{\"axis_label\":\"Persons\",\"formatter\":{\"id\":\"1750\"},\"ticker\":{\"id\":\"1724\"}},\"id\":\"1723\",\"type\":\"LinearAxis\"},{\"attributes\":{\"data\":{\"confirmed\":[0,1,0,3,0,0,0,0,2,1,0,3,0,0,0,0,0,0,0,1,0,1,0,0,0,0,0,0,0,2,0,0,36,0,6,1,2,8,6,24,20,31,68,45,140,116,65,376,322,382,516,548,772,1133,1789,1362,5964,5526,6327,7676,10567,9893,12042,18058,17821,19808,19444,20922,26341,25070,30380,31745,33283,28152,29515,30804,31533,34126,33755,29861,28917,25306,27051,28680,31242,32114,32491,26612,25517,27539,28486,28819,36188,32796,27631,22412,24385,27327,29515,34037,29078,25501,22335,23976,24980,27692,26906,25621,19710,18621,21495],\"confirmed_ma\":{\"__ndarray__\":\"AAAAAAAAAAAAAAAAAADgP1VVVVVVVdU/AAAAAAAA8D+amZmZmZnpP1VVVVVVVeU/kiRJkiRJ4j+SJEmSJEniP7dt27Zt2+Y/27Zt27Zt6z/btm3btm3bP9u2bdu2bes/27Zt27Zt6z/btm3btm3rP9u2bdu2bes/kiRJkiRJ4j/btm3btm3bP9u2bdu2bds/AAAAAAAAAACSJEmSJEnCP5IkSZIkScI/kiRJkiRJ0j+SJEmSJEnSP5IkSZIkSdI/kiRJkiRJ0j+SJEmSJEnSP5IkSZIkScI/kiRJkiRJwj8AAAAAAAAAAJIkSZIkSdI/kiRJkiRJ0j+SJEmSJEnSP27btm3bthVAbtu2bdu2FUBJkiRJkiQZQG7btm3bthlAbtu2bdu2GUCSJEmSJEkeQLdt27Zt2yBAt23btm3bGkBJkiRJkiQjQJIkSZIkSSpAbtu2bdu2NkC3bdu2bds8QLdt27Zt20dAbtu2bdu2T0AlSZIkSVJRQJIkSZIkCV5Abtu2bds2ZEAlSZIkSdJpQNu2bdu2HXFAJUmSJEnCdEDbtm3btp16QLdt27ZtE4JAJUmSJEliiEBu27Zt2waNQJIkSZIk+ZpAAAAAAAAUo0CSJEmSJIepQG7btm3bnbBASZIkSZLhtUAlSZIkSWe6QAAAAACALsBAbtu2bVuOw0BJkiRJkvzGQAAAAACAv8pASZIkSRIIzkBu27Zt23XQQCVJkiRJwdJASZIkSZKS1ECSJEmSpErWQLdt27btO9hAt23bti0d2kC3bdu2LVTbQEmSJEkSh9xA27Zt23Ym3UAlSZIkSQ3eQEmSJEkSk95Abtu2bdva3kCSJEmSpGDeQNu2bdv2e95AkiRJkqTl3UBu27Ztm1/dQNu2bdu2+dxA27Zt27aS3EBu27ZtG1jcQCVJkiQJttxA27Zt27Zj3EAAAAAAQGvcQLdt27atfNxAAAAAAMB13EDbtm3bNh/cQNu2bdu2sNxAbtu2bZu73EAAAAAAAODcQG7btm0bcdxA27Zt23YA3EBJkiRJEtfbQLdt27bt79tAbtu2bRuj20BJkiRJUh7bQAAAAABA0tpAAAAAAIDP2kCSJEmS5MDaQEmSJEkSbdpA27Zt2/Yr2kAlSZIkSS3ZQEmSJEnSsdhAAAAAAADj10Bu27ZtW17XQAAAAADABddA\",\"dtype\":\"float64\",\"shape\":[111]},\"country\":[\"United States\",\"United States\",\"United States\",\"United States\",\"United States\",\"United States\",\"United States\",\"United States\",\"United States\",\"United States\",\"United States\",\"United States\",\"United States\",\"United States\",\"United States\",\"United States\",\"United States\",\"United States\",\"United States\",\"United States\",\"United States\",\"United States\",\"United States\",\"United States\",\"United States\",\"United States\",\"United States\",\"United States\",\"United States\",\"United States\",\"United States\",\"United States\",\"United States\",\"United States\",\"United States\",\"United States\",\"United States\",\"United States\",\"United States\",\"United States\",\"United States\",\"United States\",\"United States\",\"United States\",\"United States\",\"United States\",\"United States\",\"United States\",\"United States\",\"United States\",\"United States\",\"United States\",\"United States\",\"United States\",\"United States\",\"United States\",\"United States\",\"United States\",\"United States\",\"United States\",\"United States\",\"United States\",\"United States\",\"United States\",\"United States\",\"United States\",\"United States\",\"United States\",\"United States\",\"United States\",\"United States\",\"United States\",\"United States\",\"United States\",\"United States\",\"United States\",\"United States\",\"United States\",\"United States\",\"United States\",\"United States\",\"United States\",\"United States\",\"United States\",\"United States\",\"United States\",\"United States\",\"United States\",\"United States\",\"United States\",\"United States\",\"United States\",\"United States\",\"United States\",\"United States\",\"United States\",\"United States\",\"United States\",\"United States\",\"United States\",\"United States\",\"United States\",\"United States\",\"United States\",\"United States\",\"United States\",\"United States\",\"United States\",\"United States\",\"United States\",\"United States\"],\"date\":{\"__ndarray__\":\"AAAALfv8dkIAAMCSTf12QgAAgPif/XZCAABAXvL9dkIAAADERP52QgAAwCmX/nZCAACAj+n+dkIAAED1O/92QgAAAFuO/3ZCAADAwOD/dkIAAIAmMwB3QgAAQIyFAHdCAAAA8tcAd0IAAMBXKgF3QgAAgL18AXdCAABAI88Bd0IAAACJIQJ3QgAAwO5zAndCAACAVMYCd0IAAEC6GAN3QgAAACBrA3dCAADAhb0Dd0IAAIDrDwR3QgAAQFFiBHdCAAAAt7QEd0IAAMAcBwV3QgAAgIJZBXdCAABA6KsFd0IAAABO/gV3QgAAwLNQBndCAACAGaMGd0IAAEB/9QZ3QgAAAOVHB3dCAADASpoHd0IAAICw7Ad3QgAAQBY/CHdCAAAAfJEId0IAAMDh4wh3QgAAgEc2CXdCAABArYgJd0IAAAAT2wl3QgAAwHgtCndCAACA3n8Kd0IAAEBE0gp3QgAAAKokC3dCAADAD3cLd0IAAIB1yQt3QgAAQNsbDHdCAAAAQW4Md0IAAMCmwAx3QgAAgAwTDXdCAABAcmUNd0IAAADYtw13QgAAwD0KDndCAACAo1wOd0IAAEAJrw53QgAAAG8BD3dCAADA1FMPd0IAAIA6pg93QgAAQKD4D3dCAAAABksQd0IAAMBrnRB3QgAAgNHvEHdCAABAN0IRd0IAAACdlBF3QgAAwALnEXdCAACAaDkSd0IAAEDOixJ3QgAAADTeEndCAADAmTATd0IAAID/ghN3QgAAQGXVE3dCAAAAyycUd0IAAMAwehR3QgAAgJbMFHdCAABA/B4Vd0IAAABicRV3QgAAwMfDFXdCAACALRYWd0IAAECTaBZ3QgAAAPm6FndCAADAXg0Xd0IAAIDEXxd3QgAAQCqyF3dCAAAAkAQYd0IAAMD1Vhh3QgAAgFupGHdCAABAwfsYd0IAAAAnThl3QgAAwIygGXdCAACA8vIZd0IAAEBYRRp3QgAAAL6XGndCAADAI+oad0IAAICJPBt3QgAAQO+OG3dCAAAAVeEbd0IAAMC6Mxx3QgAAgCCGHHdCAABAhtgcd0IAAADsKh13QgAAwFF9HXdCAACAt88dd0IAAEAdIh53QgAAAIN0HndCAADA6MYed0IAAIBOGR93QgAAQLRrH3dCAAAAGr4fd0IAAMB/ECB3QgAAgOViIHdC\",\"dtype\":\"float64\",\"shape\":[111]},\"death\":[0,0,0,0,0,0,0,0,0,0,0,0,0,0,0,0,0,0,0,0,0,0,0,0,0,0,0,0,0,0,0,0,0,0,0,0,0,1,0,5,1,4,1,2,3,4,1,6,8,5,8,9,15,26,34,31,94,91,93,144,200,222,308,410,539,466,689,772,1175,1134,1420,1325,1609,1520,1519,2297,2079,1985,2078,2009,1744,1784,2392,2472,2093,2584,2342,1192,1714,2427,2326,2312,1769,2262,1126,1338,2136,2612,2029,1947,1426,1313,1240,2142,2391,2207,1518,1615,731,1156,1674],\"death_ma\":{\"__ndarray__\":\"AAAAAAAAAAAAAAAAAAAAAAAAAAAAAAAAAAAAAAAAAAAAAAAAAAAAAAAAAAAAAAAAAAAAAAAAAAAAAAAAAAAAAAAAAAAAAAAAAAAAAAAAAAAAAAAAAAAAAAAAAAAAAAAAAAAAAAAAAAAAAAAAAAAAAAAAAAAAAAAAAAAAAAAAAAAAAAAAAAAAAAAAAAAAAAAAAAAAAAAAAAAAAAAAAAAAAAAAAAAAAAAAAAAAAAAAAAAAAAAAAAAAAAAAAAAAAAAAAAAAAAAAAAAAAAAAAAAAAAAAAAAAAAAAAAAAAAAAAAAAAAAAAAAAAAAAAAAAAAAAAAAAAAAAAAAAAAAAAAAAAAAAAAAAAAAAAAAAAAAAAAAAAAAAAAAAAAAAAAAAAAAAAAAAAAAAAACSJEmSJEnCP5IkSZIkScI/27Zt27Zt6z8AAAAAAADwP0mSJEmSJPk/27Zt27Zt+z8AAAAAAAAAQJIkSZIkSQJAt23btm3bBkCSJEmSJEkCQAAAAAAAAAhAJUmSJEmSDEAlSZIkSZIQQAAAAAAAABRA27Zt27ZtF0Bu27Zt27YdQAAAAAAAACZAAAAAAAAALkCSJEmSJEkyQAAAAAAAAD9A27Zt27ZtRUDbtm3btm1LQCVJkiRJUlJAkiRJkiSJWEAAAAAAAEBfQCVJkiRJkmRAbtu2bds2akC3bdu2bRtxQAAAAAAAcHRA27Zt27ZNeUCSJEmSJGl+QNu2bdu2dYNA27Zt27Ylh0AAAAAAAKiLQCVJkiRJKo9AJUmSJEkikkCSJEmSJP2TQAAAAAAAqJVAkiRJkiQpmECSJEmSJEWaQAAAAAAAiJtAJUmSJEk2nUBu27Zt2xqeQG7btm3bmp5AJUmSJEkyn0BJkiRJkmifQEmSJEmSJKBAt23btm1DoEAAAAAAANSgQJIkSZIkM6FAt23btm2VoEC3bdu2bYGgQLdt27Zti6BA27Zt27ZhoEAlSZIkSaCgQG7btm3bbp9AkiRJkiRBn0C3bdu2bRufQEmSJEmSRJ5AJUmSJEmenUDbtm3btkGeQAAAAAAAoJ1A27Zt27YFnkAAAAAAACicQG7btm3bkpxAbtu2bdtanEAlSZIkSV6cQAAAAAAA4JtA27Zt27ZFnEBJkiRJklCbQEmSJEmSvJtAAAAAAABwmkAAAAAAAECaQEmSJEmSNJlA\",\"dtype\":\"float64\",\"shape\":[111]},\"index\":[0,1,2,3,4,5,6,7,8,9,10,11,12,13,14,15,16,17,18,19,20,21,22,23,24,25,26,27,28,29,30,31,32,33,34,35,36,37,38,39,40,41,42,43,44,45,46,47,48,49,50,51,52,53,54,55,56,57,58,59,60,61,62,63,64,65,66,67,68,69,70,71,72,73,74,75,76,77,78,79,80,81,82,83,84,85,86,87,88,89,90,91,92,93,94,95,96,97,98,99,100,101,102,103,104,105,106,107,108,109,110],\"recovered\":[0,0,0,0,0,0,0,0,0,0,0,0,0,0,0,0,0,3,0,0,0,0,0,0,0,0,0,0,0,2,0,0,0,1,0,0,1,0,0,0,0,0,0,0,0,0,0,1,0,4,0,0,0,5,0,88,16,26,29,2,0,170,13,320,188,203,1593,2979,1380,1450,527,706,4945,2796,2133,2182,1796,1851,3380,2480,1718,10494,4281,4333,2607,3842,6295,5497,1992,2875,2162,2837,18876,1293,6616,4436,4512,4784,33227,10068,11367,4770,7028,2611,119,5126,3957,13541,3635,16564,-2446],\"recovered_ma\":{\"__ndarray__\":\"AAAAAAAAAAAAAAAAAAAAAAAAAAAAAAAAAAAAAAAAAAAAAAAAAAAAAAAAAAAAAAAAAAAAAAAAAAAAAAAAAAAAAAAAAAAAAAAAAAAAAAAAAAAAAAAAAAAAAAAAAAAAAAAAAAAAAAAAAAAAAAAAAAAAAAAAAAAAAAAAAAAAAAAAAAAAAAAAAAAAANu2bdu2bds/27Zt27Zt2z/btm3btm3bP9u2bdu2bds/27Zt27Zt2z/btm3btm3bP9u2bdu2bds/AAAAAAAAAAAAAAAAAAAAAAAAAAAAAAAAAAAAAAAAAAAAAAAAAAAAAJIkSZIkSdI/kiRJkiRJ0j+SJEmSJEnSP5IkSZIkSdI/27Zt27Zt2z/btm3btm3bP9u2bdu2bds/kiRJkiRJ0j+SJEmSJEnSP5IkSZIkSdI/kiRJkiRJ0j+SJEmSJEnCP5IkSZIkScI/kiRJkiRJwj8AAAAAAAAAAAAAAAAAAAAAAAAAAAAAAAAAAAAAAAAAAJIkSZIkScI/kiRJkiRJwj+3bdu2bdvmP7dt27Zt2+Y/t23btm3b5j+3bdu2bdvmP7dt27Zt2/Y/JUmSJEmS9D9u27Zt27YrQEmSJEmSJC9AkiRJkiRJM0Dbtm3btm03QG7btm3btjdAAAAAAAAAN0BJkiRJkqRHQJIkSZIkSUJAAAAAAAAAVECSJEmSJMlZQAAAAAAAAGBASZIkSZI0dkBu27Zt22aIQNu2bdu2zY1AAAAAAAAckkAlSZIkSZKSQCVJkiRJupNAAAAAAABQnkDbtm3btn+gQAAAAAAAHJ9AkiRJkiRzoEAAAAAAANagQCVJkiRJUKJAJUmSJElMpUAAAAAAAIyiQAAAAAAAWKFAbtu2bdusqkBJkiRJkgStQLdt27Zt2a9A27Zt27ZYsEDbtm3btpqwQNu2bdu2u7JASZIkSZLXtEAAAAAAABmwQCVJkiRJoK5AAAAAAAA0rEDbtm3btnWsQEmSJEmSnrZAAAAAAADUs0Bu27Zt23O0QAAAAAAA0bVAbtu2bdu6tkC3bdu2bTG4QLdt27Ztk8RAJUmSJEkewkBu27Zt2+3EQAAAAAAAasRAkiRJkiQjxUBu27ZtW5vEQJIkSZIkTsNAbtu2bdvttkBu27Zt24SzQLdt27Ztu7RAJUmSJEkZtEBJkiRJkmu5QJIkSZIkmbZA\",\"dtype\":\"float64\",\"shape\":[111]}},\"selected\":{\"id\":\"1778\"},\"selection_policy\":{\"id\":\"1777\"}},\"id\":\"1707\",\"type\":\"ColumnDataSource\"},{\"attributes\":{},\"id\":\"1724\",\"type\":\"BasicTicker\"},{\"attributes\":{},\"id\":\"1730\",\"type\":\"SaveTool\"},{\"attributes\":{\"fill_alpha\":{\"value\":0.1},\"fill_color\":{\"value\":\"blue\"},\"line_alpha\":{\"value\":0.1},\"line_color\":{\"value\":\"blue\"},\"top\":{\"field\":\"death\"},\"width\":{\"value\":43200000.0},\"x\":{\"field\":\"date\"}},\"id\":\"1742\",\"type\":\"VBar\"},{\"attributes\":{},\"id\":\"1731\",\"type\":\"ResetTool\"},{\"attributes\":{},\"id\":\"1715\",\"type\":\"LinearScale\"},{\"attributes\":{\"line_alpha\":0.1,\"line_color\":\"blue\",\"line_width\":2,\"x\":{\"field\":\"date\"},\"y\":{\"field\":\"death_ma\"}},\"id\":\"1768\",\"type\":\"Line\"},{\"attributes\":{},\"id\":\"1750\",\"type\":\"BasicTickFormatter\"},{\"attributes\":{\"start\":0},\"id\":\"1713\",\"type\":\"DataRange1d\"},{\"attributes\":{},\"id\":\"1732\",\"type\":\"HelpTool\"},{\"attributes\":{\"source\":{\"id\":\"1707\"}},\"id\":\"1770\",\"type\":\"CDSView\"},{\"attributes\":{\"mantissas\":[1,2,5],\"max_interval\":500.0,\"num_minor_ticks\":0},\"id\":\"1752\",\"type\":\"AdaptiveTicker\"},{\"attributes\":{\"active_drag\":\"auto\",\"active_inspect\":\"auto\",\"active_multi\":null,\"active_scroll\":\"auto\",\"active_tap\":\"auto\",\"tools\":[{\"id\":\"1727\"},{\"id\":\"1728\"},{\"id\":\"1729\"},{\"id\":\"1730\"},{\"id\":\"1731\"},{\"id\":\"1732\"}]},\"id\":\"1734\",\"type\":\"Toolbar\"},{\"attributes\":{\"line_color\":\"blue\",\"line_width\":2,\"x\":{\"field\":\"date\"},\"y\":{\"field\":\"death_ma\"}},\"id\":\"1767\",\"type\":\"Line\"},{\"attributes\":{\"base\":24,\"mantissas\":[1,2,4,6,8,12],\"max_interval\":43200000.0,\"min_interval\":3600000.0,\"num_minor_ticks\":0},\"id\":\"1754\",\"type\":\"AdaptiveTicker\"},{\"attributes\":{},\"id\":\"1748\",\"type\":\"DatetimeTickFormatter\"},{\"attributes\":{\"bottom_units\":\"screen\",\"fill_alpha\":0.5,\"fill_color\":\"lightgrey\",\"left_units\":\"screen\",\"level\":\"overlay\",\"line_alpha\":1.0,\"line_color\":\"black\",\"line_dash\":[4,4],\"line_width\":2,\"render_mode\":\"css\",\"right_units\":\"screen\",\"top_units\":\"screen\"},\"id\":\"1733\",\"type\":\"BoxAnnotation\"},{\"attributes\":{\"data_source\":{\"id\":\"1707\"},\"glyph\":{\"id\":\"1767\"},\"hover_glyph\":null,\"muted_glyph\":null,\"nonselection_glyph\":{\"id\":\"1768\"},\"selection_glyph\":null,\"view\":{\"id\":\"1770\"}},\"id\":\"1769\",\"type\":\"GlyphRenderer\"},{\"attributes\":{},\"id\":\"1777\",\"type\":\"UnionRenderers\"},{\"attributes\":{},\"id\":\"1778\",\"type\":\"Selection\"},{\"attributes\":{\"axis\":{\"id\":\"1723\"},\"dimension\":1,\"ticker\":null},\"id\":\"1726\",\"type\":\"Grid\"},{\"attributes\":{},\"id\":\"1711\",\"type\":\"DataRange1d\"},{\"attributes\":{\"days\":[1,2,3,4,5,6,7,8,9,10,11,12,13,14,15,16,17,18,19,20,21,22,23,24,25,26,27,28,29,30,31]},\"id\":\"1755\",\"type\":\"DaysTicker\"},{\"attributes\":{\"label\":{\"value\":\"7-day MA\"},\"renderers\":[{\"id\":\"1769\"}]},\"id\":\"1791\",\"type\":\"LegendItem\"},{\"attributes\":{\"data_source\":{\"id\":\"1707\"},\"glyph\":{\"id\":\"1742\"},\"hover_glyph\":null,\"muted_glyph\":null,\"nonselection_glyph\":{\"id\":\"1743\"},\"selection_glyph\":null,\"view\":{\"id\":\"1745\"}},\"id\":\"1744\",\"type\":\"GlyphRenderer\"},{\"attributes\":{\"source\":{\"id\":\"1707\"}},\"id\":\"1745\",\"type\":\"CDSView\"},{\"attributes\":{\"text\":\"Covid Progress\"},\"id\":\"1709\",\"type\":\"Title\"},{\"attributes\":{\"days\":[1,8,15,22]},\"id\":\"1757\",\"type\":\"DaysTicker\"},{\"attributes\":{\"days\":[1,15]},\"id\":\"1758\",\"type\":\"DaysTicker\"},{\"attributes\":{\"months\":[0,1,2,3,4,5,6,7,8,9,10,11]},\"id\":\"1759\",\"type\":\"MonthsTicker\"},{\"attributes\":{},\"id\":\"1717\",\"type\":\"LinearScale\"}],\"root_ids\":[\"1708\"]},\"title\":\"Bokeh Application\",\"version\":\"2.0.2\"}};\n",
       "  var render_items = [{\"docid\":\"88042f4a-bfe1-46b5-b223-febfdef69bf7\",\"root_ids\":[\"1708\"],\"roots\":{\"1708\":\"134a7099-374b-426c-94a6-bc022376a891\"}}];\n",
       "  root.Bokeh.embed.embed_items_notebook(docs_json, render_items);\n",
       "\n",
       "  }\n",
       "  if (root.Bokeh !== undefined) {\n",
       "    embed_document(root);\n",
       "  } else {\n",
       "    var attempts = 0;\n",
       "    var timer = setInterval(function(root) {\n",
       "      if (root.Bokeh !== undefined) {\n",
       "        clearInterval(timer);\n",
       "        embed_document(root);\n",
       "      } else {\n",
       "        attempts++;\n",
       "        if (attempts > 100) {\n",
       "          clearInterval(timer);\n",
       "          console.log(\"Bokeh: ERROR: Unable to run BokehJS code because BokehJS library is missing\");\n",
       "        }\n",
       "      }\n",
       "    }, 10, root)\n",
       "  }\n",
       "})(window);"
      ],
      "application/vnd.bokehjs_exec.v0+json": ""
     },
     "metadata": {
      "application/vnd.bokehjs_exec.v0+json": {
       "id": "1708"
      }
     },
     "output_type": "display_data"
    }
   ],
   "source": [
    "# deaths\n",
    "#set source\n",
    "source = ColumnDataSource(res)\n",
    "\n",
    "# use a time-delata for the width\n",
    "bar_w = pd.Timedelta(hours = 12)\n",
    "\n",
    "\n",
    "# create the plot\n",
    "p = figure(title = 'Covid Progress', \n",
    "           x_axis_type=\"datetime\",\n",
    "           x_axis_label = 'Date',\n",
    "           y_axis_label = 'Persons',\n",
    "           plot_height = 400,\n",
    "           plot_width = 700)\n",
    "\n",
    "p.vbar(x='date', width = bar_w, top='death', source=source, color = 'blue', alpha = 0.1, legend_label = 'deaths')\n",
    "p.line(x='date', y='death_ma', line_width=2 ,source=source, color='blue', legend_label='7-day MA')\n",
    "\n",
    "p.y_range.start = 0\n",
    "p.legend.location = \"top_left\"\n",
    "\n",
    "show(p)"
   ]
  },
  {
   "cell_type": "code",
   "execution_count": 17,
   "metadata": {},
   "outputs": [
    {
     "data": {
      "text/html": [
       "\n",
       "\n",
       "\n",
       "\n",
       "\n",
       "\n",
       "  <div class=\"bk-root\" id=\"251c33e8-a3a9-4b0d-b73b-b7a52fc702a0\" data-root-id=\"1987\"></div>\n"
      ]
     },
     "metadata": {},
     "output_type": "display_data"
    },
    {
     "data": {
      "application/javascript": [
       "(function(root) {\n",
       "  function embed_document(root) {\n",
       "    \n",
       "  var docs_json = {\"23db11e3-3e4f-4b28-9b59-2519e4845ced\":{\"roots\":{\"references\":[{\"attributes\":{\"below\":[{\"id\":\"1998\"}],\"center\":[{\"id\":\"2001\"},{\"id\":\"2005\"},{\"id\":\"2043\"}],\"left\":[{\"id\":\"2002\"}],\"plot_height\":400,\"plot_width\":700,\"renderers\":[{\"id\":\"2023\"},{\"id\":\"2048\"}],\"title\":{\"id\":\"1988\"},\"toolbar\":{\"id\":\"2013\"},\"x_range\":{\"id\":\"1990\"},\"x_scale\":{\"id\":\"1994\"},\"y_range\":{\"id\":\"1992\"},\"y_scale\":{\"id\":\"1996\"}},\"id\":\"1987\",\"subtype\":\"Figure\",\"type\":\"Plot\"},{\"attributes\":{\"months\":[0,1,2,3,4,5,6,7,8,9,10,11]},\"id\":\"2038\",\"type\":\"MonthsTicker\"},{\"attributes\":{\"data_source\":{\"id\":\"1986\"},\"glyph\":{\"id\":\"2021\"},\"hover_glyph\":null,\"muted_glyph\":null,\"nonselection_glyph\":{\"id\":\"2022\"},\"selection_glyph\":null,\"view\":{\"id\":\"2024\"}},\"id\":\"2023\",\"type\":\"GlyphRenderer\"},{\"attributes\":{\"start\":0},\"id\":\"1992\",\"type\":\"DataRange1d\"},{\"attributes\":{\"months\":[0,2,4,6,8,10]},\"id\":\"2039\",\"type\":\"MonthsTicker\"},{\"attributes\":{\"months\":[0,4,8]},\"id\":\"2040\",\"type\":\"MonthsTicker\"},{\"attributes\":{\"days\":[1,4,7,10,13,16,19,22,25,28]},\"id\":\"2035\",\"type\":\"DaysTicker\"},{\"attributes\":{},\"id\":\"2056\",\"type\":\"UnionRenderers\"},{\"attributes\":{},\"id\":\"2006\",\"type\":\"PanTool\"},{\"attributes\":{},\"id\":\"1994\",\"type\":\"LinearScale\"},{\"attributes\":{\"mantissas\":[1,2,5],\"max_interval\":500.0,\"num_minor_ticks\":0},\"id\":\"2031\",\"type\":\"AdaptiveTicker\"},{\"attributes\":{\"months\":[0,6]},\"id\":\"2041\",\"type\":\"MonthsTicker\"},{\"attributes\":{},\"id\":\"2007\",\"type\":\"WheelZoomTool\"},{\"attributes\":{},\"id\":\"2042\",\"type\":\"YearsTicker\"},{\"attributes\":{\"overlay\":{\"id\":\"2012\"}},\"id\":\"2008\",\"type\":\"BoxZoomTool\"},{\"attributes\":{\"items\":[{\"id\":\"2044\"},{\"id\":\"2070\"}],\"location\":\"top_left\"},\"id\":\"2043\",\"type\":\"Legend\"},{\"attributes\":{},\"id\":\"1990\",\"type\":\"DataRange1d\"},{\"attributes\":{},\"id\":\"2009\",\"type\":\"SaveTool\"},{\"attributes\":{\"label\":{\"value\":\"recovered\"},\"renderers\":[{\"id\":\"2023\"}]},\"id\":\"2044\",\"type\":\"LegendItem\"},{\"attributes\":{},\"id\":\"2010\",\"type\":\"ResetTool\"},{\"attributes\":{\"text\":\"Covid Progress\"},\"id\":\"1988\",\"type\":\"Title\"},{\"attributes\":{\"base\":60,\"mantissas\":[1,2,5,10,15,20,30],\"max_interval\":1800000.0,\"min_interval\":1000.0,\"num_minor_ticks\":0},\"id\":\"2032\",\"type\":\"AdaptiveTicker\"},{\"attributes\":{},\"id\":\"2011\",\"type\":\"HelpTool\"},{\"attributes\":{\"fill_alpha\":{\"value\":0.1},\"fill_color\":{\"value\":\"green\"},\"line_alpha\":{\"value\":0.1},\"line_color\":{\"value\":\"green\"},\"top\":{\"field\":\"recovered\"},\"width\":{\"value\":43200000.0},\"x\":{\"field\":\"date\"}},\"id\":\"2021\",\"type\":\"VBar\"},{\"attributes\":{},\"id\":\"2029\",\"type\":\"BasicTickFormatter\"},{\"attributes\":{\"line_alpha\":0.1,\"line_color\":\"green\",\"line_width\":2,\"x\":{\"field\":\"date\"},\"y\":{\"field\":\"recovered_ma\"}},\"id\":\"2047\",\"type\":\"Line\"},{\"attributes\":{\"days\":[1,2,3,4,5,6,7,8,9,10,11,12,13,14,15,16,17,18,19,20,21,22,23,24,25,26,27,28,29,30,31]},\"id\":\"2034\",\"type\":\"DaysTicker\"},{\"attributes\":{\"fill_alpha\":{\"value\":0.1},\"fill_color\":{\"value\":\"green\"},\"line_alpha\":{\"value\":0.1},\"line_color\":{\"value\":\"green\"},\"top\":{\"field\":\"recovered\"},\"width\":{\"value\":43200000.0},\"x\":{\"field\":\"date\"}},\"id\":\"2022\",\"type\":\"VBar\"},{\"attributes\":{},\"id\":\"2027\",\"type\":\"DatetimeTickFormatter\"},{\"attributes\":{\"source\":{\"id\":\"1986\"}},\"id\":\"2049\",\"type\":\"CDSView\"},{\"attributes\":{\"active_drag\":\"auto\",\"active_inspect\":\"auto\",\"active_multi\":null,\"active_scroll\":\"auto\",\"active_tap\":\"auto\",\"tools\":[{\"id\":\"2006\"},{\"id\":\"2007\"},{\"id\":\"2008\"},{\"id\":\"2009\"},{\"id\":\"2010\"},{\"id\":\"2011\"}]},\"id\":\"2013\",\"type\":\"Toolbar\"},{\"attributes\":{\"data_source\":{\"id\":\"1986\"},\"glyph\":{\"id\":\"2046\"},\"hover_glyph\":null,\"muted_glyph\":null,\"nonselection_glyph\":{\"id\":\"2047\"},\"selection_glyph\":null,\"view\":{\"id\":\"2049\"}},\"id\":\"2048\",\"type\":\"GlyphRenderer\"},{\"attributes\":{\"bottom_units\":\"screen\",\"fill_alpha\":0.5,\"fill_color\":\"lightgrey\",\"left_units\":\"screen\",\"level\":\"overlay\",\"line_alpha\":1.0,\"line_color\":\"black\",\"line_dash\":[4,4],\"line_width\":2,\"render_mode\":\"css\",\"right_units\":\"screen\",\"top_units\":\"screen\"},\"id\":\"2012\",\"type\":\"BoxAnnotation\"},{\"attributes\":{\"source\":{\"id\":\"1986\"}},\"id\":\"2024\",\"type\":\"CDSView\"},{\"attributes\":{},\"id\":\"1996\",\"type\":\"LinearScale\"},{\"attributes\":{\"line_color\":\"green\",\"line_width\":2,\"x\":{\"field\":\"date\"},\"y\":{\"field\":\"recovered_ma\"}},\"id\":\"2046\",\"type\":\"Line\"},{\"attributes\":{\"axis_label\":\"Date\",\"formatter\":{\"id\":\"2027\"},\"ticker\":{\"id\":\"1999\"}},\"id\":\"1998\",\"type\":\"DatetimeAxis\"},{\"attributes\":{},\"id\":\"2057\",\"type\":\"Selection\"},{\"attributes\":{\"label\":{\"value\":\"7-day MA\"},\"renderers\":[{\"id\":\"2048\"}]},\"id\":\"2070\",\"type\":\"LegendItem\"},{\"attributes\":{\"data\":{\"confirmed\":[0,1,0,3,0,0,0,0,2,1,0,3,0,0,0,0,0,0,0,1,0,1,0,0,0,0,0,0,0,2,0,0,36,0,6,1,2,8,6,24,20,31,68,45,140,116,65,376,322,382,516,548,772,1133,1789,1362,5964,5526,6327,7676,10567,9893,12042,18058,17821,19808,19444,20922,26341,25070,30380,31745,33283,28152,29515,30804,31533,34126,33755,29861,28917,25306,27051,28680,31242,32114,32491,26612,25517,27539,28486,28819,36188,32796,27631,22412,24385,27327,29515,34037,29078,25501,22335,23976,24980,27692,26906,25621,19710,18621,21495],\"confirmed_ma\":{\"__ndarray__\":\"AAAAAAAAAAAAAAAAAADgP1VVVVVVVdU/AAAAAAAA8D+amZmZmZnpP1VVVVVVVeU/kiRJkiRJ4j+SJEmSJEniP7dt27Zt2+Y/27Zt27Zt6z/btm3btm3bP9u2bdu2bes/27Zt27Zt6z/btm3btm3rP9u2bdu2bes/kiRJkiRJ4j/btm3btm3bP9u2bdu2bds/AAAAAAAAAACSJEmSJEnCP5IkSZIkScI/kiRJkiRJ0j+SJEmSJEnSP5IkSZIkSdI/kiRJkiRJ0j+SJEmSJEnSP5IkSZIkScI/kiRJkiRJwj8AAAAAAAAAAJIkSZIkSdI/kiRJkiRJ0j+SJEmSJEnSP27btm3bthVAbtu2bdu2FUBJkiRJkiQZQG7btm3bthlAbtu2bdu2GUCSJEmSJEkeQLdt27Zt2yBAt23btm3bGkBJkiRJkiQjQJIkSZIkSSpAbtu2bdu2NkC3bdu2bds8QLdt27Zt20dAbtu2bdu2T0AlSZIkSVJRQJIkSZIkCV5Abtu2bds2ZEAlSZIkSdJpQNu2bdu2HXFAJUmSJEnCdEDbtm3btp16QLdt27ZtE4JAJUmSJEliiEBu27Zt2waNQJIkSZIk+ZpAAAAAAAAUo0CSJEmSJIepQG7btm3bnbBASZIkSZLhtUAlSZIkSWe6QAAAAACALsBAbtu2bVuOw0BJkiRJkvzGQAAAAACAv8pASZIkSRIIzkBu27Zt23XQQCVJkiRJwdJASZIkSZKS1ECSJEmSpErWQLdt27btO9hAt23bti0d2kC3bdu2LVTbQEmSJEkSh9xA27Zt23Ym3UAlSZIkSQ3eQEmSJEkSk95Abtu2bdva3kCSJEmSpGDeQNu2bdv2e95AkiRJkqTl3UBu27Ztm1/dQNu2bdu2+dxA27Zt27aS3EBu27ZtG1jcQCVJkiQJttxA27Zt27Zj3EAAAAAAQGvcQLdt27atfNxAAAAAAMB13EDbtm3bNh/cQNu2bdu2sNxAbtu2bZu73EAAAAAAAODcQG7btm0bcdxA27Zt23YA3EBJkiRJEtfbQLdt27bt79tAbtu2bRuj20BJkiRJUh7bQAAAAABA0tpAAAAAAIDP2kCSJEmS5MDaQEmSJEkSbdpA27Zt2/Yr2kAlSZIkSS3ZQEmSJEnSsdhAAAAAAADj10Bu27ZtW17XQAAAAADABddA\",\"dtype\":\"float64\",\"shape\":[111]},\"country\":[\"United States\",\"United States\",\"United States\",\"United States\",\"United States\",\"United States\",\"United States\",\"United States\",\"United States\",\"United States\",\"United States\",\"United States\",\"United States\",\"United States\",\"United States\",\"United States\",\"United States\",\"United States\",\"United States\",\"United States\",\"United States\",\"United States\",\"United States\",\"United States\",\"United States\",\"United States\",\"United States\",\"United States\",\"United States\",\"United States\",\"United States\",\"United States\",\"United States\",\"United States\",\"United States\",\"United States\",\"United States\",\"United States\",\"United States\",\"United States\",\"United States\",\"United States\",\"United States\",\"United States\",\"United States\",\"United States\",\"United States\",\"United States\",\"United States\",\"United States\",\"United States\",\"United States\",\"United States\",\"United States\",\"United States\",\"United States\",\"United States\",\"United States\",\"United States\",\"United States\",\"United States\",\"United States\",\"United States\",\"United States\",\"United States\",\"United States\",\"United States\",\"United States\",\"United States\",\"United States\",\"United States\",\"United States\",\"United States\",\"United States\",\"United States\",\"United States\",\"United States\",\"United States\",\"United States\",\"United States\",\"United States\",\"United States\",\"United States\",\"United States\",\"United States\",\"United States\",\"United States\",\"United States\",\"United States\",\"United States\",\"United States\",\"United States\",\"United States\",\"United States\",\"United States\",\"United States\",\"United States\",\"United States\",\"United States\",\"United States\",\"United States\",\"United States\",\"United States\",\"United States\",\"United States\",\"United States\",\"United States\",\"United States\",\"United States\",\"United States\",\"United States\"],\"date\":{\"__ndarray__\":\"AAAALfv8dkIAAMCSTf12QgAAgPif/XZCAABAXvL9dkIAAADERP52QgAAwCmX/nZCAACAj+n+dkIAAED1O/92QgAAAFuO/3ZCAADAwOD/dkIAAIAmMwB3QgAAQIyFAHdCAAAA8tcAd0IAAMBXKgF3QgAAgL18AXdCAABAI88Bd0IAAACJIQJ3QgAAwO5zAndCAACAVMYCd0IAAEC6GAN3QgAAACBrA3dCAADAhb0Dd0IAAIDrDwR3QgAAQFFiBHdCAAAAt7QEd0IAAMAcBwV3QgAAgIJZBXdCAABA6KsFd0IAAABO/gV3QgAAwLNQBndCAACAGaMGd0IAAEB/9QZ3QgAAAOVHB3dCAADASpoHd0IAAICw7Ad3QgAAQBY/CHdCAAAAfJEId0IAAMDh4wh3QgAAgEc2CXdCAABArYgJd0IAAAAT2wl3QgAAwHgtCndCAACA3n8Kd0IAAEBE0gp3QgAAAKokC3dCAADAD3cLd0IAAIB1yQt3QgAAQNsbDHdCAAAAQW4Md0IAAMCmwAx3QgAAgAwTDXdCAABAcmUNd0IAAADYtw13QgAAwD0KDndCAACAo1wOd0IAAEAJrw53QgAAAG8BD3dCAADA1FMPd0IAAIA6pg93QgAAQKD4D3dCAAAABksQd0IAAMBrnRB3QgAAgNHvEHdCAABAN0IRd0IAAACdlBF3QgAAwALnEXdCAACAaDkSd0IAAEDOixJ3QgAAADTeEndCAADAmTATd0IAAID/ghN3QgAAQGXVE3dCAAAAyycUd0IAAMAwehR3QgAAgJbMFHdCAABA/B4Vd0IAAABicRV3QgAAwMfDFXdCAACALRYWd0IAAECTaBZ3QgAAAPm6FndCAADAXg0Xd0IAAIDEXxd3QgAAQCqyF3dCAAAAkAQYd0IAAMD1Vhh3QgAAgFupGHdCAABAwfsYd0IAAAAnThl3QgAAwIygGXdCAACA8vIZd0IAAEBYRRp3QgAAAL6XGndCAADAI+oad0IAAICJPBt3QgAAQO+OG3dCAAAAVeEbd0IAAMC6Mxx3QgAAgCCGHHdCAABAhtgcd0IAAADsKh13QgAAwFF9HXdCAACAt88dd0IAAEAdIh53QgAAAIN0HndCAADA6MYed0IAAIBOGR93QgAAQLRrH3dCAAAAGr4fd0IAAMB/ECB3QgAAgOViIHdC\",\"dtype\":\"float64\",\"shape\":[111]},\"death\":[0,0,0,0,0,0,0,0,0,0,0,0,0,0,0,0,0,0,0,0,0,0,0,0,0,0,0,0,0,0,0,0,0,0,0,0,0,1,0,5,1,4,1,2,3,4,1,6,8,5,8,9,15,26,34,31,94,91,93,144,200,222,308,410,539,466,689,772,1175,1134,1420,1325,1609,1520,1519,2297,2079,1985,2078,2009,1744,1784,2392,2472,2093,2584,2342,1192,1714,2427,2326,2312,1769,2262,1126,1338,2136,2612,2029,1947,1426,1313,1240,2142,2391,2207,1518,1615,731,1156,1674],\"death_ma\":{\"__ndarray__\":\"AAAAAAAAAAAAAAAAAAAAAAAAAAAAAAAAAAAAAAAAAAAAAAAAAAAAAAAAAAAAAAAAAAAAAAAAAAAAAAAAAAAAAAAAAAAAAAAAAAAAAAAAAAAAAAAAAAAAAAAAAAAAAAAAAAAAAAAAAAAAAAAAAAAAAAAAAAAAAAAAAAAAAAAAAAAAAAAAAAAAAAAAAAAAAAAAAAAAAAAAAAAAAAAAAAAAAAAAAAAAAAAAAAAAAAAAAAAAAAAAAAAAAAAAAAAAAAAAAAAAAAAAAAAAAAAAAAAAAAAAAAAAAAAAAAAAAAAAAAAAAAAAAAAAAAAAAAAAAAAAAAAAAAAAAAAAAAAAAAAAAAAAAAAAAAAAAAAAAAAAAAAAAAAAAAAAAAAAAAAAAAAAAAAAAAAAAACSJEmSJEnCP5IkSZIkScI/27Zt27Zt6z8AAAAAAADwP0mSJEmSJPk/27Zt27Zt+z8AAAAAAAAAQJIkSZIkSQJAt23btm3bBkCSJEmSJEkCQAAAAAAAAAhAJUmSJEmSDEAlSZIkSZIQQAAAAAAAABRA27Zt27ZtF0Bu27Zt27YdQAAAAAAAACZAAAAAAAAALkCSJEmSJEkyQAAAAAAAAD9A27Zt27ZtRUDbtm3btm1LQCVJkiRJUlJAkiRJkiSJWEAAAAAAAEBfQCVJkiRJkmRAbtu2bds2akC3bdu2bRtxQAAAAAAAcHRA27Zt27ZNeUCSJEmSJGl+QNu2bdu2dYNA27Zt27Ylh0AAAAAAAKiLQCVJkiRJKo9AJUmSJEkikkCSJEmSJP2TQAAAAAAAqJVAkiRJkiQpmECSJEmSJEWaQAAAAAAAiJtAJUmSJEk2nUBu27Zt2xqeQG7btm3bmp5AJUmSJEkyn0BJkiRJkmifQEmSJEmSJKBAt23btm1DoEAAAAAAANSgQJIkSZIkM6FAt23btm2VoEC3bdu2bYGgQLdt27Zti6BA27Zt27ZhoEAlSZIkSaCgQG7btm3bbp9AkiRJkiRBn0C3bdu2bRufQEmSJEmSRJ5AJUmSJEmenUDbtm3btkGeQAAAAAAAoJ1A27Zt27YFnkAAAAAAACicQG7btm3bkpxAbtu2bdtanEAlSZIkSV6cQAAAAAAA4JtA27Zt27ZFnEBJkiRJklCbQEmSJEmSvJtAAAAAAABwmkAAAAAAAECaQEmSJEmSNJlA\",\"dtype\":\"float64\",\"shape\":[111]},\"index\":[0,1,2,3,4,5,6,7,8,9,10,11,12,13,14,15,16,17,18,19,20,21,22,23,24,25,26,27,28,29,30,31,32,33,34,35,36,37,38,39,40,41,42,43,44,45,46,47,48,49,50,51,52,53,54,55,56,57,58,59,60,61,62,63,64,65,66,67,68,69,70,71,72,73,74,75,76,77,78,79,80,81,82,83,84,85,86,87,88,89,90,91,92,93,94,95,96,97,98,99,100,101,102,103,104,105,106,107,108,109,110],\"recovered\":[0,0,0,0,0,0,0,0,0,0,0,0,0,0,0,0,0,3,0,0,0,0,0,0,0,0,0,0,0,2,0,0,0,1,0,0,1,0,0,0,0,0,0,0,0,0,0,1,0,4,0,0,0,5,0,88,16,26,29,2,0,170,13,320,188,203,1593,2979,1380,1450,527,706,4945,2796,2133,2182,1796,1851,3380,2480,1718,10494,4281,4333,2607,3842,6295,5497,1992,2875,2162,2837,18876,1293,6616,4436,4512,4784,33227,10068,11367,4770,7028,2611,119,5126,3957,13541,3635,16564,-2446],\"recovered_ma\":{\"__ndarray__\":\"AAAAAAAAAAAAAAAAAAAAAAAAAAAAAAAAAAAAAAAAAAAAAAAAAAAAAAAAAAAAAAAAAAAAAAAAAAAAAAAAAAAAAAAAAAAAAAAAAAAAAAAAAAAAAAAAAAAAAAAAAAAAAAAAAAAAAAAAAAAAAAAAAAAAAAAAAAAAAAAAAAAAAAAAAAAAAAAAAAAAANu2bdu2bds/27Zt27Zt2z/btm3btm3bP9u2bdu2bds/27Zt27Zt2z/btm3btm3bP9u2bdu2bds/AAAAAAAAAAAAAAAAAAAAAAAAAAAAAAAAAAAAAAAAAAAAAAAAAAAAAJIkSZIkSdI/kiRJkiRJ0j+SJEmSJEnSP5IkSZIkSdI/27Zt27Zt2z/btm3btm3bP9u2bdu2bds/kiRJkiRJ0j+SJEmSJEnSP5IkSZIkSdI/kiRJkiRJ0j+SJEmSJEnCP5IkSZIkScI/kiRJkiRJwj8AAAAAAAAAAAAAAAAAAAAAAAAAAAAAAAAAAAAAAAAAAJIkSZIkScI/kiRJkiRJwj+3bdu2bdvmP7dt27Zt2+Y/t23btm3b5j+3bdu2bdvmP7dt27Zt2/Y/JUmSJEmS9D9u27Zt27YrQEmSJEmSJC9AkiRJkiRJM0Dbtm3btm03QG7btm3btjdAAAAAAAAAN0BJkiRJkqRHQJIkSZIkSUJAAAAAAAAAVECSJEmSJMlZQAAAAAAAAGBASZIkSZI0dkBu27Zt22aIQNu2bdu2zY1AAAAAAAAckkAlSZIkSZKSQCVJkiRJupNAAAAAAABQnkDbtm3btn+gQAAAAAAAHJ9AkiRJkiRzoEAAAAAAANagQCVJkiRJUKJAJUmSJElMpUAAAAAAAIyiQAAAAAAAWKFAbtu2bdusqkBJkiRJkgStQLdt27Zt2a9A27Zt27ZYsEDbtm3btpqwQNu2bdu2u7JASZIkSZLXtEAAAAAAABmwQCVJkiRJoK5AAAAAAAA0rEDbtm3btnWsQEmSJEmSnrZAAAAAAADUs0Bu27Zt23O0QAAAAAAA0bVAbtu2bdu6tkC3bdu2bTG4QLdt27Ztk8RAJUmSJEkewkBu27Zt2+3EQAAAAAAAasRAkiRJkiQjxUBu27ZtW5vEQJIkSZIkTsNAbtu2bdvttkBu27Zt24SzQLdt27Ztu7RAJUmSJEkZtEBJkiRJkmu5QJIkSZIkmbZA\",\"dtype\":\"float64\",\"shape\":[111]}},\"selected\":{\"id\":\"2057\"},\"selection_policy\":{\"id\":\"2056\"}},\"id\":\"1986\",\"type\":\"ColumnDataSource\"},{\"attributes\":{\"num_minor_ticks\":5,\"tickers\":[{\"id\":\"2031\"},{\"id\":\"2032\"},{\"id\":\"2033\"},{\"id\":\"2034\"},{\"id\":\"2035\"},{\"id\":\"2036\"},{\"id\":\"2037\"},{\"id\":\"2038\"},{\"id\":\"2039\"},{\"id\":\"2040\"},{\"id\":\"2041\"},{\"id\":\"2042\"}]},\"id\":\"1999\",\"type\":\"DatetimeTicker\"},{\"attributes\":{\"base\":24,\"mantissas\":[1,2,4,6,8,12],\"max_interval\":43200000.0,\"min_interval\":3600000.0,\"num_minor_ticks\":0},\"id\":\"2033\",\"type\":\"AdaptiveTicker\"},{\"attributes\":{\"axis\":{\"id\":\"1998\"},\"ticker\":null},\"id\":\"2001\",\"type\":\"Grid\"},{\"attributes\":{\"axis_label\":\"Persons\",\"formatter\":{\"id\":\"2029\"},\"ticker\":{\"id\":\"2003\"}},\"id\":\"2002\",\"type\":\"LinearAxis\"},{\"attributes\":{\"days\":[1,8,15,22]},\"id\":\"2036\",\"type\":\"DaysTicker\"},{\"attributes\":{},\"id\":\"2003\",\"type\":\"BasicTicker\"},{\"attributes\":{\"days\":[1,15]},\"id\":\"2037\",\"type\":\"DaysTicker\"},{\"attributes\":{\"axis\":{\"id\":\"2002\"},\"dimension\":1,\"ticker\":null},\"id\":\"2005\",\"type\":\"Grid\"}],\"root_ids\":[\"1987\"]},\"title\":\"Bokeh Application\",\"version\":\"2.0.2\"}};\n",
       "  var render_items = [{\"docid\":\"23db11e3-3e4f-4b28-9b59-2519e4845ced\",\"root_ids\":[\"1987\"],\"roots\":{\"1987\":\"251c33e8-a3a9-4b0d-b73b-b7a52fc702a0\"}}];\n",
       "  root.Bokeh.embed.embed_items_notebook(docs_json, render_items);\n",
       "\n",
       "  }\n",
       "  if (root.Bokeh !== undefined) {\n",
       "    embed_document(root);\n",
       "  } else {\n",
       "    var attempts = 0;\n",
       "    var timer = setInterval(function(root) {\n",
       "      if (root.Bokeh !== undefined) {\n",
       "        clearInterval(timer);\n",
       "        embed_document(root);\n",
       "      } else {\n",
       "        attempts++;\n",
       "        if (attempts > 100) {\n",
       "          clearInterval(timer);\n",
       "          console.log(\"Bokeh: ERROR: Unable to run BokehJS code because BokehJS library is missing\");\n",
       "        }\n",
       "      }\n",
       "    }, 10, root)\n",
       "  }\n",
       "})(window);"
      ],
      "application/vnd.bokehjs_exec.v0+json": ""
     },
     "metadata": {
      "application/vnd.bokehjs_exec.v0+json": {
       "id": "1987"
      }
     },
     "output_type": "display_data"
    }
   ],
   "source": [
    "# recovered\n",
    "#set source\n",
    "source = ColumnDataSource(res)\n",
    "\n",
    "# use a time-delata for the width\n",
    "bar_w = pd.Timedelta(hours = 12)\n",
    "\n",
    "\n",
    "# create the plot\n",
    "p = figure(title = 'Covid Progress', \n",
    "           x_axis_type=\"datetime\",\n",
    "           x_axis_label = 'Date',\n",
    "           y_axis_label = 'Persons',\n",
    "           plot_height = 400,\n",
    "           plot_width = 700)\n",
    "\n",
    "p.vbar(x='date', width = bar_w, top='recovered', source=source, color = 'green', alpha = 0.1, legend_label = 'recovered')\n",
    "p.line(x='date', y='recovered_ma', line_width=2 ,source=source, color='green', legend_label='7-day MA')\n",
    "\n",
    "p.y_range.start = 0\n",
    "p.legend.location = \"top_left\"\n",
    "\n",
    "show(p)"
   ]
  },
  {
   "cell_type": "code",
   "execution_count": 18,
   "metadata": {},
   "outputs": [
    {
     "data": {
      "text/html": [
       "\n",
       "\n",
       "\n",
       "\n",
       "\n",
       "\n",
       "  <div class=\"bk-root\" id=\"bdf3b674-c1ae-4ed4-bae9-ad2449375b2d\" data-root-id=\"2286\"></div>\n"
      ]
     },
     "metadata": {},
     "output_type": "display_data"
    },
    {
     "data": {
      "application/javascript": [
       "(function(root) {\n",
       "  function embed_document(root) {\n",
       "    \n",
       "  var docs_json = {\"9282bc64-cbfc-4f80-b8a9-b6ada3e2ae8f\":{\"roots\":{\"references\":[{\"attributes\":{\"below\":[{\"id\":\"2297\"}],\"center\":[{\"id\":\"2300\"},{\"id\":\"2304\"},{\"id\":\"2342\"}],\"left\":[{\"id\":\"2301\"}],\"plot_height\":400,\"plot_width\":700,\"renderers\":[{\"id\":\"2322\"},{\"id\":\"2347\"},{\"id\":\"2352\"},{\"id\":\"2378\"}],\"title\":{\"id\":\"2287\"},\"toolbar\":{\"id\":\"2312\"},\"x_range\":{\"id\":\"2289\"},\"x_scale\":{\"id\":\"2293\"},\"y_range\":{\"id\":\"2291\"},\"y_scale\":{\"id\":\"2295\"}},\"id\":\"2286\",\"subtype\":\"Figure\",\"type\":\"Plot\"},{\"attributes\":{\"base\":24,\"mantissas\":[1,2,4,6,8,12],\"max_interval\":43200000.0,\"min_interval\":3600000.0,\"num_minor_ticks\":0},\"id\":\"2332\",\"type\":\"AdaptiveTicker\"},{\"attributes\":{\"axis_label\":\"Persons\",\"formatter\":{\"id\":\"2328\"},\"ticker\":{\"id\":\"2302\"}},\"id\":\"2301\",\"type\":\"LinearAxis\"},{\"attributes\":{\"data\":{\"confirmed\":[0,1,0,3,0,0,0,0,2,1,0,3,0,0,0,0,0,0,0,1,0,1,0,0,0,0,0,0,0,2,0,0,36,0,6,1,2,8,6,24,20,31,68,45,140,116,65,376,322,382,516,548,772,1133,1789,1362,5964,5526,6327,7676,10567,9893,12042,18058,17821,19808,19444,20922,26341,25070,30380,31745,33283,28152,29515,30804,31533,34126,33755,29861,28917,25306,27051,28680,31242,32114,32491,26612,25517,27539,28486,28819,36188,32796,27631,22412,24385,27327,29515,34037,29078,25501,22335,23976,24980,27692,26906,25621,19710,18621,21495],\"confirmed_ma\":{\"__ndarray__\":\"AAAAAAAAAAAAAAAAAADgP1VVVVVVVdU/AAAAAAAA8D+amZmZmZnpP1VVVVVVVeU/kiRJkiRJ4j+SJEmSJEniP7dt27Zt2+Y/27Zt27Zt6z/btm3btm3bP9u2bdu2bes/27Zt27Zt6z/btm3btm3rP9u2bdu2bes/kiRJkiRJ4j/btm3btm3bP9u2bdu2bds/AAAAAAAAAACSJEmSJEnCP5IkSZIkScI/kiRJkiRJ0j+SJEmSJEnSP5IkSZIkSdI/kiRJkiRJ0j+SJEmSJEnSP5IkSZIkScI/kiRJkiRJwj8AAAAAAAAAAJIkSZIkSdI/kiRJkiRJ0j+SJEmSJEnSP27btm3bthVAbtu2bdu2FUBJkiRJkiQZQG7btm3bthlAbtu2bdu2GUCSJEmSJEkeQLdt27Zt2yBAt23btm3bGkBJkiRJkiQjQJIkSZIkSSpAbtu2bdu2NkC3bdu2bds8QLdt27Zt20dAbtu2bdu2T0AlSZIkSVJRQJIkSZIkCV5Abtu2bds2ZEAlSZIkSdJpQNu2bdu2HXFAJUmSJEnCdEDbtm3btp16QLdt27ZtE4JAJUmSJEliiEBu27Zt2waNQJIkSZIk+ZpAAAAAAAAUo0CSJEmSJIepQG7btm3bnbBASZIkSZLhtUAlSZIkSWe6QAAAAACALsBAbtu2bVuOw0BJkiRJkvzGQAAAAACAv8pASZIkSRIIzkBu27Zt23XQQCVJkiRJwdJASZIkSZKS1ECSJEmSpErWQLdt27btO9hAt23bti0d2kC3bdu2LVTbQEmSJEkSh9xA27Zt23Ym3UAlSZIkSQ3eQEmSJEkSk95Abtu2bdva3kCSJEmSpGDeQNu2bdv2e95AkiRJkqTl3UBu27Ztm1/dQNu2bdu2+dxA27Zt27aS3EBu27ZtG1jcQCVJkiQJttxA27Zt27Zj3EAAAAAAQGvcQLdt27atfNxAAAAAAMB13EDbtm3bNh/cQNu2bdu2sNxAbtu2bZu73EAAAAAAAODcQG7btm0bcdxA27Zt23YA3EBJkiRJEtfbQLdt27bt79tAbtu2bRuj20BJkiRJUh7bQAAAAABA0tpAAAAAAIDP2kCSJEmS5MDaQEmSJEkSbdpA27Zt2/Yr2kAlSZIkSS3ZQEmSJEnSsdhAAAAAAADj10Bu27ZtW17XQAAAAADABddA\",\"dtype\":\"float64\",\"shape\":[111]},\"country\":[\"United States\",\"United States\",\"United States\",\"United States\",\"United States\",\"United States\",\"United States\",\"United States\",\"United States\",\"United States\",\"United States\",\"United States\",\"United States\",\"United States\",\"United States\",\"United States\",\"United States\",\"United States\",\"United States\",\"United States\",\"United States\",\"United States\",\"United States\",\"United States\",\"United States\",\"United States\",\"United States\",\"United States\",\"United States\",\"United States\",\"United States\",\"United States\",\"United States\",\"United States\",\"United States\",\"United States\",\"United States\",\"United States\",\"United States\",\"United States\",\"United States\",\"United States\",\"United States\",\"United States\",\"United States\",\"United States\",\"United States\",\"United States\",\"United States\",\"United States\",\"United States\",\"United States\",\"United States\",\"United States\",\"United States\",\"United States\",\"United States\",\"United States\",\"United States\",\"United States\",\"United States\",\"United States\",\"United States\",\"United States\",\"United States\",\"United States\",\"United States\",\"United States\",\"United States\",\"United States\",\"United States\",\"United States\",\"United States\",\"United States\",\"United States\",\"United States\",\"United States\",\"United States\",\"United States\",\"United States\",\"United States\",\"United States\",\"United States\",\"United States\",\"United States\",\"United States\",\"United States\",\"United States\",\"United States\",\"United States\",\"United States\",\"United States\",\"United States\",\"United States\",\"United States\",\"United States\",\"United States\",\"United States\",\"United States\",\"United States\",\"United States\",\"United States\",\"United States\",\"United States\",\"United States\",\"United States\",\"United States\",\"United States\",\"United States\",\"United States\",\"United States\"],\"date\":{\"__ndarray__\":\"AAAALfv8dkIAAMCSTf12QgAAgPif/XZCAABAXvL9dkIAAADERP52QgAAwCmX/nZCAACAj+n+dkIAAED1O/92QgAAAFuO/3ZCAADAwOD/dkIAAIAmMwB3QgAAQIyFAHdCAAAA8tcAd0IAAMBXKgF3QgAAgL18AXdCAABAI88Bd0IAAACJIQJ3QgAAwO5zAndCAACAVMYCd0IAAEC6GAN3QgAAACBrA3dCAADAhb0Dd0IAAIDrDwR3QgAAQFFiBHdCAAAAt7QEd0IAAMAcBwV3QgAAgIJZBXdCAABA6KsFd0IAAABO/gV3QgAAwLNQBndCAACAGaMGd0IAAEB/9QZ3QgAAAOVHB3dCAADASpoHd0IAAICw7Ad3QgAAQBY/CHdCAAAAfJEId0IAAMDh4wh3QgAAgEc2CXdCAABArYgJd0IAAAAT2wl3QgAAwHgtCndCAACA3n8Kd0IAAEBE0gp3QgAAAKokC3dCAADAD3cLd0IAAIB1yQt3QgAAQNsbDHdCAAAAQW4Md0IAAMCmwAx3QgAAgAwTDXdCAABAcmUNd0IAAADYtw13QgAAwD0KDndCAACAo1wOd0IAAEAJrw53QgAAAG8BD3dCAADA1FMPd0IAAIA6pg93QgAAQKD4D3dCAAAABksQd0IAAMBrnRB3QgAAgNHvEHdCAABAN0IRd0IAAACdlBF3QgAAwALnEXdCAACAaDkSd0IAAEDOixJ3QgAAADTeEndCAADAmTATd0IAAID/ghN3QgAAQGXVE3dCAAAAyycUd0IAAMAwehR3QgAAgJbMFHdCAABA/B4Vd0IAAABicRV3QgAAwMfDFXdCAACALRYWd0IAAECTaBZ3QgAAAPm6FndCAADAXg0Xd0IAAIDEXxd3QgAAQCqyF3dCAAAAkAQYd0IAAMD1Vhh3QgAAgFupGHdCAABAwfsYd0IAAAAnThl3QgAAwIygGXdCAACA8vIZd0IAAEBYRRp3QgAAAL6XGndCAADAI+oad0IAAICJPBt3QgAAQO+OG3dCAAAAVeEbd0IAAMC6Mxx3QgAAgCCGHHdCAABAhtgcd0IAAADsKh13QgAAwFF9HXdCAACAt88dd0IAAEAdIh53QgAAAIN0HndCAADA6MYed0IAAIBOGR93QgAAQLRrH3dCAAAAGr4fd0IAAMB/ECB3QgAAgOViIHdC\",\"dtype\":\"float64\",\"shape\":[111]},\"death\":[0,0,0,0,0,0,0,0,0,0,0,0,0,0,0,0,0,0,0,0,0,0,0,0,0,0,0,0,0,0,0,0,0,0,0,0,0,1,0,5,1,4,1,2,3,4,1,6,8,5,8,9,15,26,34,31,94,91,93,144,200,222,308,410,539,466,689,772,1175,1134,1420,1325,1609,1520,1519,2297,2079,1985,2078,2009,1744,1784,2392,2472,2093,2584,2342,1192,1714,2427,2326,2312,1769,2262,1126,1338,2136,2612,2029,1947,1426,1313,1240,2142,2391,2207,1518,1615,731,1156,1674],\"death_ma\":{\"__ndarray__\":\"AAAAAAAAAAAAAAAAAAAAAAAAAAAAAAAAAAAAAAAAAAAAAAAAAAAAAAAAAAAAAAAAAAAAAAAAAAAAAAAAAAAAAAAAAAAAAAAAAAAAAAAAAAAAAAAAAAAAAAAAAAAAAAAAAAAAAAAAAAAAAAAAAAAAAAAAAAAAAAAAAAAAAAAAAAAAAAAAAAAAAAAAAAAAAAAAAAAAAAAAAAAAAAAAAAAAAAAAAAAAAAAAAAAAAAAAAAAAAAAAAAAAAAAAAAAAAAAAAAAAAAAAAAAAAAAAAAAAAAAAAAAAAAAAAAAAAAAAAAAAAAAAAAAAAAAAAAAAAAAAAAAAAAAAAAAAAAAAAAAAAAAAAAAAAAAAAAAAAAAAAAAAAAAAAAAAAAAAAAAAAAAAAAAAAAAAAACSJEmSJEnCP5IkSZIkScI/27Zt27Zt6z8AAAAAAADwP0mSJEmSJPk/27Zt27Zt+z8AAAAAAAAAQJIkSZIkSQJAt23btm3bBkCSJEmSJEkCQAAAAAAAAAhAJUmSJEmSDEAlSZIkSZIQQAAAAAAAABRA27Zt27ZtF0Bu27Zt27YdQAAAAAAAACZAAAAAAAAALkCSJEmSJEkyQAAAAAAAAD9A27Zt27ZtRUDbtm3btm1LQCVJkiRJUlJAkiRJkiSJWEAAAAAAAEBfQCVJkiRJkmRAbtu2bds2akC3bdu2bRtxQAAAAAAAcHRA27Zt27ZNeUCSJEmSJGl+QNu2bdu2dYNA27Zt27Ylh0AAAAAAAKiLQCVJkiRJKo9AJUmSJEkikkCSJEmSJP2TQAAAAAAAqJVAkiRJkiQpmECSJEmSJEWaQAAAAAAAiJtAJUmSJEk2nUBu27Zt2xqeQG7btm3bmp5AJUmSJEkyn0BJkiRJkmifQEmSJEmSJKBAt23btm1DoEAAAAAAANSgQJIkSZIkM6FAt23btm2VoEC3bdu2bYGgQLdt27Zti6BA27Zt27ZhoEAlSZIkSaCgQG7btm3bbp9AkiRJkiRBn0C3bdu2bRufQEmSJEmSRJ5AJUmSJEmenUDbtm3btkGeQAAAAAAAoJ1A27Zt27YFnkAAAAAAACicQG7btm3bkpxAbtu2bdtanEAlSZIkSV6cQAAAAAAA4JtA27Zt27ZFnEBJkiRJklCbQEmSJEmSvJtAAAAAAABwmkAAAAAAAECaQEmSJEmSNJlA\",\"dtype\":\"float64\",\"shape\":[111]},\"index\":[0,1,2,3,4,5,6,7,8,9,10,11,12,13,14,15,16,17,18,19,20,21,22,23,24,25,26,27,28,29,30,31,32,33,34,35,36,37,38,39,40,41,42,43,44,45,46,47,48,49,50,51,52,53,54,55,56,57,58,59,60,61,62,63,64,65,66,67,68,69,70,71,72,73,74,75,76,77,78,79,80,81,82,83,84,85,86,87,88,89,90,91,92,93,94,95,96,97,98,99,100,101,102,103,104,105,106,107,108,109,110],\"recovered\":[0,0,0,0,0,0,0,0,0,0,0,0,0,0,0,0,0,3,0,0,0,0,0,0,0,0,0,0,0,2,0,0,0,1,0,0,1,0,0,0,0,0,0,0,0,0,0,1,0,4,0,0,0,5,0,88,16,26,29,2,0,170,13,320,188,203,1593,2979,1380,1450,527,706,4945,2796,2133,2182,1796,1851,3380,2480,1718,10494,4281,4333,2607,3842,6295,5497,1992,2875,2162,2837,18876,1293,6616,4436,4512,4784,33227,10068,11367,4770,7028,2611,119,5126,3957,13541,3635,16564,-2446],\"recovered_ma\":{\"__ndarray__\":\"AAAAAAAAAAAAAAAAAAAAAAAAAAAAAAAAAAAAAAAAAAAAAAAAAAAAAAAAAAAAAAAAAAAAAAAAAAAAAAAAAAAAAAAAAAAAAAAAAAAAAAAAAAAAAAAAAAAAAAAAAAAAAAAAAAAAAAAAAAAAAAAAAAAAAAAAAAAAAAAAAAAAAAAAAAAAAAAAAAAAANu2bdu2bds/27Zt27Zt2z/btm3btm3bP9u2bdu2bds/27Zt27Zt2z/btm3btm3bP9u2bdu2bds/AAAAAAAAAAAAAAAAAAAAAAAAAAAAAAAAAAAAAAAAAAAAAAAAAAAAAJIkSZIkSdI/kiRJkiRJ0j+SJEmSJEnSP5IkSZIkSdI/27Zt27Zt2z/btm3btm3bP9u2bdu2bds/kiRJkiRJ0j+SJEmSJEnSP5IkSZIkSdI/kiRJkiRJ0j+SJEmSJEnCP5IkSZIkScI/kiRJkiRJwj8AAAAAAAAAAAAAAAAAAAAAAAAAAAAAAAAAAAAAAAAAAJIkSZIkScI/kiRJkiRJwj+3bdu2bdvmP7dt27Zt2+Y/t23btm3b5j+3bdu2bdvmP7dt27Zt2/Y/JUmSJEmS9D9u27Zt27YrQEmSJEmSJC9AkiRJkiRJM0Dbtm3btm03QG7btm3btjdAAAAAAAAAN0BJkiRJkqRHQJIkSZIkSUJAAAAAAAAAVECSJEmSJMlZQAAAAAAAAGBASZIkSZI0dkBu27Zt22aIQNu2bdu2zY1AAAAAAAAckkAlSZIkSZKSQCVJkiRJupNAAAAAAABQnkDbtm3btn+gQAAAAAAAHJ9AkiRJkiRzoEAAAAAAANagQCVJkiRJUKJAJUmSJElMpUAAAAAAAIyiQAAAAAAAWKFAbtu2bdusqkBJkiRJkgStQLdt27Zt2a9A27Zt27ZYsEDbtm3btpqwQNu2bdu2u7JASZIkSZLXtEAAAAAAABmwQCVJkiRJoK5AAAAAAAA0rEDbtm3btnWsQEmSJEmSnrZAAAAAAADUs0Bu27Zt23O0QAAAAAAA0bVAbtu2bdu6tkC3bdu2bTG4QLdt27Ztk8RAJUmSJEkewkBu27Zt2+3EQAAAAAAAasRAkiRJkiQjxUBu27ZtW5vEQJIkSZIkTsNAbtu2bdvttkBu27Zt24SzQLdt27Ztu7RAJUmSJEkZtEBJkiRJkmu5QJIkSZIkmbZA\",\"dtype\":\"float64\",\"shape\":[111]}},\"selected\":{\"id\":\"2361\"},\"selection_policy\":{\"id\":\"2360\"}},\"id\":\"2285\",\"type\":\"ColumnDataSource\"},{\"attributes\":{\"data_source\":{\"id\":\"2285\"},\"glyph\":{\"id\":\"2350\"},\"hover_glyph\":null,\"muted_glyph\":null,\"nonselection_glyph\":{\"id\":\"2351\"},\"selection_glyph\":null,\"view\":{\"id\":\"2353\"}},\"id\":\"2352\",\"type\":\"GlyphRenderer\"},{\"attributes\":{\"days\":[1,2,3,4,5,6,7,8,9,10,11,12,13,14,15,16,17,18,19,20,21,22,23,24,25,26,27,28,29,30,31]},\"id\":\"2333\",\"type\":\"DaysTicker\"},{\"attributes\":{\"fill_alpha\":{\"value\":0.2},\"fill_color\":{\"value\":\"blue\"},\"line_alpha\":{\"value\":0.2},\"line_color\":{\"value\":\"blue\"},\"top\":{\"field\":\"death\"},\"width\":{\"value\":43200000.0},\"x\":{\"field\":\"date\"}},\"id\":\"2350\",\"type\":\"VBar\"},{\"attributes\":{},\"id\":\"2302\",\"type\":\"BasicTicker\"},{\"attributes\":{\"days\":[1,4,7,10,13,16,19,22,25,28]},\"id\":\"2334\",\"type\":\"DaysTicker\"},{\"attributes\":{\"axis\":{\"id\":\"2301\"},\"dimension\":1,\"ticker\":null},\"id\":\"2304\",\"type\":\"Grid\"},{\"attributes\":{\"fill_alpha\":{\"value\":0.1},\"fill_color\":{\"value\":\"blue\"},\"line_alpha\":{\"value\":0.1},\"line_color\":{\"value\":\"blue\"},\"top\":{\"field\":\"death\"},\"width\":{\"value\":43200000.0},\"x\":{\"field\":\"date\"}},\"id\":\"2351\",\"type\":\"VBar\"},{\"attributes\":{},\"id\":\"2293\",\"type\":\"LinearScale\"},{\"attributes\":{\"days\":[1,8,15,22]},\"id\":\"2335\",\"type\":\"DaysTicker\"},{\"attributes\":{},\"id\":\"2361\",\"type\":\"Selection\"},{\"attributes\":{\"start\":0},\"id\":\"2291\",\"type\":\"DataRange1d\"},{\"attributes\":{\"fill_alpha\":{\"value\":0.2},\"fill_color\":{\"value\":\"red\"},\"line_alpha\":{\"value\":0.2},\"line_color\":{\"value\":\"red\"},\"top\":{\"field\":\"confirmed\"},\"width\":{\"value\":43200000.0},\"x\":{\"field\":\"date\"}},\"id\":\"2320\",\"type\":\"VBar\"},{\"attributes\":{\"days\":[1,15]},\"id\":\"2336\",\"type\":\"DaysTicker\"},{\"attributes\":{\"source\":{\"id\":\"2285\"}},\"id\":\"2353\",\"type\":\"CDSView\"},{\"attributes\":{\"line_alpha\":0.1,\"line_color\":\"blue\",\"line_width\":2,\"x\":{\"field\":\"date\"},\"y\":{\"field\":\"death_ma\"}},\"id\":\"2377\",\"type\":\"Line\"},{\"attributes\":{\"months\":[0,1,2,3,4,5,6,7,8,9,10,11]},\"id\":\"2337\",\"type\":\"MonthsTicker\"},{\"attributes\":{\"active_drag\":\"auto\",\"active_inspect\":\"auto\",\"active_multi\":null,\"active_scroll\":\"auto\",\"active_tap\":\"auto\",\"tools\":[{\"id\":\"2305\"},{\"id\":\"2306\"},{\"id\":\"2307\"},{\"id\":\"2308\"},{\"id\":\"2309\"},{\"id\":\"2310\"}]},\"id\":\"2312\",\"type\":\"Toolbar\"},{\"attributes\":{},\"id\":\"2360\",\"type\":\"UnionRenderers\"},{\"attributes\":{},\"id\":\"2305\",\"type\":\"PanTool\"},{\"attributes\":{\"months\":[0,2,4,6,8,10]},\"id\":\"2338\",\"type\":\"MonthsTicker\"},{\"attributes\":{},\"id\":\"2306\",\"type\":\"WheelZoomTool\"},{\"attributes\":{\"source\":{\"id\":\"2285\"}},\"id\":\"2379\",\"type\":\"CDSView\"},{\"attributes\":{},\"id\":\"2289\",\"type\":\"DataRange1d\"},{\"attributes\":{\"months\":[0,4,8]},\"id\":\"2339\",\"type\":\"MonthsTicker\"},{\"attributes\":{\"overlay\":{\"id\":\"2311\"}},\"id\":\"2307\",\"type\":\"BoxZoomTool\"},{\"attributes\":{\"line_color\":\"blue\",\"line_width\":2,\"x\":{\"field\":\"date\"},\"y\":{\"field\":\"death_ma\"}},\"id\":\"2376\",\"type\":\"Line\"},{\"attributes\":{\"months\":[0,6]},\"id\":\"2340\",\"type\":\"MonthsTicker\"},{\"attributes\":{\"data_source\":{\"id\":\"2285\"},\"glyph\":{\"id\":\"2376\"},\"hover_glyph\":null,\"muted_glyph\":null,\"nonselection_glyph\":{\"id\":\"2377\"},\"selection_glyph\":null,\"view\":{\"id\":\"2379\"}},\"id\":\"2378\",\"type\":\"GlyphRenderer\"},{\"attributes\":{},\"id\":\"2308\",\"type\":\"SaveTool\"},{\"attributes\":{\"text\":\"Covid Progress\"},\"id\":\"2287\",\"type\":\"Title\"},{\"attributes\":{},\"id\":\"2341\",\"type\":\"YearsTicker\"},{\"attributes\":{},\"id\":\"2309\",\"type\":\"ResetTool\"},{\"attributes\":{\"items\":[{\"id\":\"2343\"},{\"id\":\"2374\"}],\"location\":\"top_left\"},\"id\":\"2342\",\"type\":\"Legend\"},{\"attributes\":{\"fill_alpha\":{\"value\":0.1},\"fill_color\":{\"value\":\"red\"},\"line_alpha\":{\"value\":0.1},\"line_color\":{\"value\":\"red\"},\"top\":{\"field\":\"confirmed\"},\"width\":{\"value\":43200000.0},\"x\":{\"field\":\"date\"}},\"id\":\"2321\",\"type\":\"VBar\"},{\"attributes\":{},\"id\":\"2310\",\"type\":\"HelpTool\"},{\"attributes\":{\"label\":{\"value\":\"confirmed cases\"},\"renderers\":[{\"id\":\"2322\"}]},\"id\":\"2343\",\"type\":\"LegendItem\"},{\"attributes\":{\"label\":{\"value\":\"deaths\"},\"renderers\":[{\"id\":\"2352\"}]},\"id\":\"2374\",\"type\":\"LegendItem\"},{\"attributes\":{\"source\":{\"id\":\"2285\"}},\"id\":\"2323\",\"type\":\"CDSView\"},{\"attributes\":{\"num_minor_ticks\":5,\"tickers\":[{\"id\":\"2330\"},{\"id\":\"2331\"},{\"id\":\"2332\"},{\"id\":\"2333\"},{\"id\":\"2334\"},{\"id\":\"2335\"},{\"id\":\"2336\"},{\"id\":\"2337\"},{\"id\":\"2338\"},{\"id\":\"2339\"},{\"id\":\"2340\"},{\"id\":\"2341\"}]},\"id\":\"2298\",\"type\":\"DatetimeTicker\"},{\"attributes\":{\"bottom_units\":\"screen\",\"fill_alpha\":0.5,\"fill_color\":\"lightgrey\",\"left_units\":\"screen\",\"level\":\"overlay\",\"line_alpha\":1.0,\"line_color\":\"black\",\"line_dash\":[4,4],\"line_width\":2,\"render_mode\":\"css\",\"right_units\":\"screen\",\"top_units\":\"screen\"},\"id\":\"2311\",\"type\":\"BoxAnnotation\"},{\"attributes\":{\"data_source\":{\"id\":\"2285\"},\"glyph\":{\"id\":\"2320\"},\"hover_glyph\":null,\"muted_glyph\":null,\"nonselection_glyph\":{\"id\":\"2321\"},\"selection_glyph\":null,\"view\":{\"id\":\"2323\"}},\"id\":\"2322\",\"type\":\"GlyphRenderer\"},{\"attributes\":{\"line_alpha\":0.1,\"line_color\":\"red\",\"line_width\":2,\"x\":{\"field\":\"date\"},\"y\":{\"field\":\"confirmed_ma\"}},\"id\":\"2346\",\"type\":\"Line\"},{\"attributes\":{},\"id\":\"2328\",\"type\":\"BasicTickFormatter\"},{\"attributes\":{},\"id\":\"2295\",\"type\":\"LinearScale\"},{\"attributes\":{\"source\":{\"id\":\"2285\"}},\"id\":\"2348\",\"type\":\"CDSView\"},{\"attributes\":{},\"id\":\"2326\",\"type\":\"DatetimeTickFormatter\"},{\"attributes\":{\"mantissas\":[1,2,5],\"max_interval\":500.0,\"num_minor_ticks\":0},\"id\":\"2330\",\"type\":\"AdaptiveTicker\"},{\"attributes\":{\"axis_label\":\"Date\",\"formatter\":{\"id\":\"2326\"},\"ticker\":{\"id\":\"2298\"}},\"id\":\"2297\",\"type\":\"DatetimeAxis\"},{\"attributes\":{\"line_color\":\"red\",\"line_width\":2,\"x\":{\"field\":\"date\"},\"y\":{\"field\":\"confirmed_ma\"}},\"id\":\"2345\",\"type\":\"Line\"},{\"attributes\":{\"data_source\":{\"id\":\"2285\"},\"glyph\":{\"id\":\"2345\"},\"hover_glyph\":null,\"muted_glyph\":null,\"nonselection_glyph\":{\"id\":\"2346\"},\"selection_glyph\":null,\"view\":{\"id\":\"2348\"}},\"id\":\"2347\",\"type\":\"GlyphRenderer\"},{\"attributes\":{\"base\":60,\"mantissas\":[1,2,5,10,15,20,30],\"max_interval\":1800000.0,\"min_interval\":1000.0,\"num_minor_ticks\":0},\"id\":\"2331\",\"type\":\"AdaptiveTicker\"},{\"attributes\":{\"axis\":{\"id\":\"2297\"},\"ticker\":null},\"id\":\"2300\",\"type\":\"Grid\"}],\"root_ids\":[\"2286\"]},\"title\":\"Bokeh Application\",\"version\":\"2.0.2\"}};\n",
       "  var render_items = [{\"docid\":\"9282bc64-cbfc-4f80-b8a9-b6ada3e2ae8f\",\"root_ids\":[\"2286\"],\"roots\":{\"2286\":\"bdf3b674-c1ae-4ed4-bae9-ad2449375b2d\"}}];\n",
       "  root.Bokeh.embed.embed_items_notebook(docs_json, render_items);\n",
       "\n",
       "  }\n",
       "  if (root.Bokeh !== undefined) {\n",
       "    embed_document(root);\n",
       "  } else {\n",
       "    var attempts = 0;\n",
       "    var timer = setInterval(function(root) {\n",
       "      if (root.Bokeh !== undefined) {\n",
       "        clearInterval(timer);\n",
       "        embed_document(root);\n",
       "      } else {\n",
       "        attempts++;\n",
       "        if (attempts > 100) {\n",
       "          clearInterval(timer);\n",
       "          console.log(\"Bokeh: ERROR: Unable to run BokehJS code because BokehJS library is missing\");\n",
       "        }\n",
       "      }\n",
       "    }, 10, root)\n",
       "  }\n",
       "})(window);"
      ],
      "application/vnd.bokehjs_exec.v0+json": ""
     },
     "metadata": {
      "application/vnd.bokehjs_exec.v0+json": {
       "id": "2286"
      }
     },
     "output_type": "display_data"
    }
   ],
   "source": [
    "# combined graph\n",
    "#set source\n",
    "source = ColumnDataSource(res)\n",
    "\n",
    "# use a time-delata for the width\n",
    "bar_w = pd.Timedelta(hours = 12)\n",
    "\n",
    "\n",
    "# create the plot\n",
    "p = figure(title = 'Covid Progress', \n",
    "           x_axis_type=\"datetime\",\n",
    "           x_axis_label = 'Date',\n",
    "           y_axis_label = 'Persons',\n",
    "           plot_height = 400,\n",
    "           plot_width = 700)\n",
    "\n",
    "# confirmed cases\n",
    "p.vbar(x='date', width = bar_w, top='confirmed', source=source, color = 'red', alpha = 0.2, legend_label = 'confirmed cases')\n",
    "p.line(x='date', y='confirmed_ma', line_width=2 ,source=source, color='red')\n",
    "\n",
    "# deaths\n",
    "p.vbar(x='date', width = bar_w, top='death', source=source, color = 'blue', alpha = 0.2, legend_label = 'deaths')\n",
    "p.line(x='date', y='death_ma', line_width=2 ,source=source, color='blue')\n",
    "\n",
    "\n",
    "p.y_range.start = 0\n",
    "p.legend.location = \"top_left\"\n",
    "\n",
    "show(p)"
   ]
  },
  {
   "cell_type": "markdown",
   "metadata": {},
   "source": [
    "#### 4 Scale to population\n",
    "***\n",
    "Scraped data from: https://www.worldometers.info/world-population/population-by-country/"
   ]
  },
  {
   "cell_type": "code",
   "execution_count": 19,
   "metadata": {},
   "outputs": [
    {
     "name": "stdout",
     "output_type": "stream",
     "text": [
      "10 rows affected\n"
     ]
    }
   ],
   "source": [
    "# get overall numbers\n",
    "query = \"\"\"\n",
    "SELECT stats.country AS country,\n",
    "       date,\n",
    "       ROUND(confirmed/scaled_pop,2) AS conf_scaled,\n",
    "       ROUND(death/scaled_pop,2) AS death_scaled,\n",
    "       ROUND(recovered/scaled_pop,2) AS rec_scaled\n",
    "  FROM stats\n",
    "  JOIN (SELECT country, scaled_pop \n",
    "          FROM populations) AS pop\n",
    "    ON stats.country = pop.country\n",
    " WHERE date = (SELECT MAX(date) \n",
    "                 FROM stats)\n",
    " ORDER BY conf_scaled DESC\n",
    " LIMIT 10;\n",
    "\"\"\"\n",
    "\n",
    "top10_scaled = qdb.execute_query(query)"
   ]
  },
  {
   "cell_type": "code",
   "execution_count": 20,
   "metadata": {},
   "outputs": [
    {
     "data": {
      "text/html": [
       "\n",
       "\n",
       "\n",
       "\n",
       "\n",
       "\n",
       "  <div class=\"bk-root\" id=\"6aafee7e-85c8-4a19-9028-87de5962859d\" data-root-id=\"2615\"></div>\n"
      ]
     },
     "metadata": {},
     "output_type": "display_data"
    },
    {
     "data": {
      "application/javascript": [
       "(function(root) {\n",
       "  function embed_document(root) {\n",
       "    \n",
       "  var docs_json = {\"4dcd62e7-3ef8-4cc2-a5aa-9a21c8048e7c\":{\"roots\":{\"references\":[{\"attributes\":{\"below\":[{\"id\":\"2626\"}],\"center\":[{\"id\":\"2629\"},{\"id\":\"2632\"}],\"left\":[{\"id\":\"2630\"}],\"plot_height\":350,\"renderers\":[{\"id\":\"2637\"}],\"title\":{\"id\":\"2616\"},\"toolbar\":{\"id\":\"2633\"},\"toolbar_location\":null,\"x_range\":{\"id\":\"2618\"},\"x_scale\":{\"id\":\"2622\"},\"y_range\":{\"id\":\"2620\"},\"y_scale\":{\"id\":\"2624\"}},\"id\":\"2615\",\"subtype\":\"Figure\",\"type\":\"Plot\"},{\"attributes\":{\"formatter\":{\"id\":\"2757\"},\"ticker\":{\"id\":\"2631\"}},\"id\":\"2630\",\"type\":\"CategoricalAxis\"},{\"attributes\":{\"text\":\"most cases per 1M inhabitants\"},\"id\":\"2616\",\"type\":\"Title\"},{\"attributes\":{},\"id\":\"2757\",\"type\":\"CategoricalTickFormatter\"},{\"attributes\":{\"factors\":[\"United States\",\"Singapore\",\"Belgium\",\"Ireland\",\"Spain\",\"Iceland\",\"Luxembourg\",\"Qatar\",\"Andorra\",\"San Marino\"]},\"id\":\"2620\",\"type\":\"FactorRange\"},{\"attributes\":{\"start\":0},\"id\":\"2618\",\"type\":\"DataRange1d\"},{\"attributes\":{\"active_drag\":\"auto\",\"active_inspect\":\"auto\",\"active_multi\":null,\"active_scroll\":\"auto\",\"active_tap\":\"auto\"},\"id\":\"2633\",\"type\":\"Toolbar\"},{\"attributes\":{\"fill_alpha\":{\"value\":0.1},\"fill_color\":{\"value\":\"#1f77b4\"},\"height\":{\"value\":0.8},\"line_alpha\":{\"value\":0.1},\"line_color\":{\"value\":\"#1f77b4\"},\"right\":{\"field\":\"conf_scaled\"},\"y\":{\"field\":\"country\"}},\"id\":\"2636\",\"type\":\"HBar\"},{\"attributes\":{\"fill_color\":{\"value\":\"#1f77b4\"},\"height\":{\"value\":0.8},\"line_color\":{\"value\":\"#1f77b4\"},\"right\":{\"field\":\"conf_scaled\"},\"y\":{\"field\":\"country\"}},\"id\":\"2635\",\"type\":\"HBar\"},{\"attributes\":{\"axis\":{\"id\":\"2626\"},\"ticker\":null},\"id\":\"2629\",\"type\":\"Grid\"},{\"attributes\":{},\"id\":\"2759\",\"type\":\"Selection\"},{\"attributes\":{\"data\":{\"conf_scaled\":{\"__ndarray__\":\"FK5H4arE1EAAAAAAgIHCQOxRuB4lDsFAMzMzM/MkuEDD9ShcD7G0QGZmZmamDbNAj8L1KNxgskCF61G4HiCyQPYoXI9CebBAAAAAAAApsEA=\",\"dtype\":\"float64\",\"shape\":[10]},\"country\":[\"San Marino\",\"Andorra\",\"Qatar\",\"Luxembourg\",\"Iceland\",\"Spain\",\"Ireland\",\"Belgium\",\"Singapore\",\"United States\"],\"date\":{\"__ndarray__\":\"AACA5WIgd0IAAIDlYiB3QgAAgOViIHdCAACA5WIgd0IAAIDlYiB3QgAAgOViIHdCAACA5WIgd0IAAIDlYiB3QgAAgOViIHdCAACA5WIgd0I=\",\"dtype\":\"float64\",\"shape\":[10]},\"death_scaled\":{\"__ndarray__\":\"SOF6FK5alUAAAAAAAMCCQHE9CtejcBNAzczMzMw8ZEApXI/C9Wg9QHE9Ctej/oFAj8L1KFzTckDhehSuR5+HQLgehetRuAxAAAAAAAAAb0A=\",\"dtype\":\"float64\",\"shape\":[10]},\"index\":[0,1,2,3,4,5,6,7,8,9],\"rec_scaled\":{\"__ndarray__\":\"Urgehav2tEAAAAAAALy7QNejcD0KYZBAXI/C9ShitkDhehSuh2e0QFyPwvWoOadAhetRuB4Pq0AK16NwPYOSQLgehetRkoRAAAAAAAC4hUA=\",\"dtype\":\"float64\",\"shape\":[10]}},\"selected\":{\"id\":\"2759\"},\"selection_policy\":{\"id\":\"2758\"}},\"id\":\"2614\",\"type\":\"ColumnDataSource\"},{\"attributes\":{},\"id\":\"2755\",\"type\":\"BasicTickFormatter\"},{\"attributes\":{\"source\":{\"id\":\"2614\"}},\"id\":\"2638\",\"type\":\"CDSView\"},{\"attributes\":{},\"id\":\"2758\",\"type\":\"UnionRenderers\"},{\"attributes\":{},\"id\":\"2624\",\"type\":\"CategoricalScale\"},{\"attributes\":{},\"id\":\"2622\",\"type\":\"LinearScale\"},{\"attributes\":{\"data_source\":{\"id\":\"2614\"},\"glyph\":{\"id\":\"2635\"},\"hover_glyph\":null,\"muted_glyph\":null,\"nonselection_glyph\":{\"id\":\"2636\"},\"selection_glyph\":null,\"view\":{\"id\":\"2638\"}},\"id\":\"2637\",\"type\":\"GlyphRenderer\"},{\"attributes\":{\"axis\":{\"id\":\"2630\"},\"dimension\":1,\"grid_line_color\":null,\"ticker\":null},\"id\":\"2632\",\"type\":\"Grid\"},{\"attributes\":{\"formatter\":{\"id\":\"2755\"},\"ticker\":{\"id\":\"2627\"}},\"id\":\"2626\",\"type\":\"LinearAxis\"},{\"attributes\":{},\"id\":\"2627\",\"type\":\"BasicTicker\"},{\"attributes\":{},\"id\":\"2631\",\"type\":\"CategoricalTicker\"}],\"root_ids\":[\"2615\"]},\"title\":\"Bokeh Application\",\"version\":\"2.0.2\"}};\n",
       "  var render_items = [{\"docid\":\"4dcd62e7-3ef8-4cc2-a5aa-9a21c8048e7c\",\"root_ids\":[\"2615\"],\"roots\":{\"2615\":\"6aafee7e-85c8-4a19-9028-87de5962859d\"}}];\n",
       "  root.Bokeh.embed.embed_items_notebook(docs_json, render_items);\n",
       "\n",
       "  }\n",
       "  if (root.Bokeh !== undefined) {\n",
       "    embed_document(root);\n",
       "  } else {\n",
       "    var attempts = 0;\n",
       "    var timer = setInterval(function(root) {\n",
       "      if (root.Bokeh !== undefined) {\n",
       "        clearInterval(timer);\n",
       "        embed_document(root);\n",
       "      } else {\n",
       "        attempts++;\n",
       "        if (attempts > 100) {\n",
       "          clearInterval(timer);\n",
       "          console.log(\"Bokeh: ERROR: Unable to run BokehJS code because BokehJS library is missing\");\n",
       "        }\n",
       "      }\n",
       "    }, 10, root)\n",
       "  }\n",
       "})(window);"
      ],
      "application/vnd.bokehjs_exec.v0+json": ""
     },
     "metadata": {
      "application/vnd.bokehjs_exec.v0+json": {
       "id": "2615"
      }
     },
     "output_type": "display_data"
    }
   ],
   "source": [
    "plotTop10(top10_scaled, vals = 'conf_scaled', title = 'most cases per 1M inhabitants')"
   ]
  },
  {
   "cell_type": "code",
   "execution_count": null,
   "metadata": {},
   "outputs": [],
   "source": []
  },
  {
   "cell_type": "markdown",
   "metadata": {},
   "source": [
    "#### for daily stats"
   ]
  },
  {
   "cell_type": "code",
   "execution_count": 21,
   "metadata": {},
   "outputs": [
    {
     "name": "stdout",
     "output_type": "stream",
     "text": [
      "10 rows affected\n"
     ]
    }
   ],
   "source": [
    "# get overall numbers\n",
    "query = \"\"\"\n",
    "SELECT daily_stats.country AS country,\n",
    "       date,\n",
    "       ROUND(confirmed/scaled_pop,2) AS conf_scaled,\n",
    "       ROUND(death/scaled_pop,2) AS death_scaled,\n",
    "       ROUND(recovered/scaled_pop,2) AS rec_scaled\n",
    "  FROM daily_stats\n",
    "  JOIN (SELECT country, \n",
    "               scaled_pop \n",
    "          FROM populations) AS pop\n",
    "    ON daily_stats.country = pop.country\n",
    " WHERE date = (SELECT MAX(date) \n",
    "                 FROM daily_stats)\n",
    " ORDER BY conf_scaled DESC\n",
    " LIMIT 10;  \n",
    "\"\"\"\n",
    "\n",
    "top10_scaled_today = qdb.execute_query(query)"
   ]
  },
  {
   "cell_type": "code",
   "execution_count": 22,
   "metadata": {},
   "outputs": [
    {
     "data": {
      "text/html": [
       "\n",
       "\n",
       "\n",
       "\n",
       "\n",
       "\n",
       "  <div class=\"bk-root\" id=\"5bd5f1d7-d0b8-4453-8168-723f271d103b\" data-root-id=\"2803\"></div>\n"
      ]
     },
     "metadata": {},
     "output_type": "display_data"
    },
    {
     "data": {
      "application/javascript": [
       "(function(root) {\n",
       "  function embed_document(root) {\n",
       "    \n",
       "  var docs_json = {\"c188c169-783c-4959-b655-191c2d012eb3\":{\"roots\":{\"references\":[{\"attributes\":{\"below\":[{\"id\":\"2814\"}],\"center\":[{\"id\":\"2817\"},{\"id\":\"2820\"}],\"left\":[{\"id\":\"2818\"}],\"plot_height\":350,\"renderers\":[{\"id\":\"2825\"}],\"title\":{\"id\":\"2804\"},\"toolbar\":{\"id\":\"2821\"},\"toolbar_location\":null,\"x_range\":{\"id\":\"2806\"},\"x_scale\":{\"id\":\"2810\"},\"y_range\":{\"id\":\"2808\"},\"y_scale\":{\"id\":\"2812\"}},\"id\":\"2803\",\"subtype\":\"Figure\",\"type\":\"Plot\"},{\"attributes\":{},\"id\":\"2810\",\"type\":\"LinearScale\"},{\"attributes\":{},\"id\":\"2812\",\"type\":\"CategoricalScale\"},{\"attributes\":{\"formatter\":{\"id\":\"2950\"},\"ticker\":{\"id\":\"2815\"}},\"id\":\"2814\",\"type\":\"LinearAxis\"},{\"attributes\":{},\"id\":\"2815\",\"type\":\"BasicTicker\"},{\"attributes\":{\"axis\":{\"id\":\"2814\"},\"ticker\":null},\"id\":\"2817\",\"type\":\"Grid\"},{\"attributes\":{\"data\":{\"conf_scaled\":{\"__ndarray__\":\"exSuR+GOgEDhehSuR9V0QMP1KFyPAm1AKVyPwvWwZUBcj8L1KCRiQIXrUbgelVlA7FG4HoWLWECuR+F6FK5VQHsUrkfhylNAXI/C9SisUkA=\",\"dtype\":\"float64\",\"shape\":[10]},\"country\":[\"Qatar\",\"San Marino\",\"Kuwait\",\"Bahrain\",\"Singapore\",\"Belarus\",\"Peru\",\"Chile\",\"United Arab Emirates\",\"Russia\"],\"date\":{\"__ndarray__\":\"AACA5WIgd0IAAIDlYiB3QgAAgOViIHdCAACA5WIgd0IAAIDlYiB3QgAAgOViIHdCAACA5WIgd0IAAIDlYiB3QgAAgOViIHdCAACA5WIgd0I=\",\"dtype\":\"float64\",\"shape\":[10]},\"death_scaled\":{\"__ndarray__\":\"AAAAAAAAAAAAAAAAAAAAALgehetRuAJA4XoUrkfh4j8AAAAAAAAAAK5H4XoUruc/SOF6FK5HB0ApXI/C9SjkP5qZmZmZmck/XI/C9Shc5z8=\",\"dtype\":\"float64\",\"shape\":[10]},\"index\":[0,1,2,3,4,5,6,7,8,9],\"rec_scaled\":{\"__ndarray__\":\"MzMzMzMTT0C4HoXrUSWQQNejcD0Kt0ZASOF6FK6HN0BxPQrXo8BaQHE9CtejcEdA16NwPQrXO0AzMzMzMzM7QGZmZmZm5k9ArkfhehRuOUA=\",\"dtype\":\"float64\",\"shape\":[10]}},\"selected\":{\"id\":\"2954\"},\"selection_policy\":{\"id\":\"2953\"}},\"id\":\"2802\",\"type\":\"ColumnDataSource\"},{\"attributes\":{\"formatter\":{\"id\":\"2952\"},\"ticker\":{\"id\":\"2819\"}},\"id\":\"2818\",\"type\":\"CategoricalAxis\"},{\"attributes\":{},\"id\":\"2819\",\"type\":\"CategoricalTicker\"},{\"attributes\":{\"axis\":{\"id\":\"2818\"},\"dimension\":1,\"grid_line_color\":null,\"ticker\":null},\"id\":\"2820\",\"type\":\"Grid\"},{\"attributes\":{\"factors\":[\"Russia\",\"United Arab Emirates\",\"Chile\",\"Peru\",\"Belarus\",\"Singapore\",\"Bahrain\",\"Kuwait\",\"San Marino\",\"Qatar\"]},\"id\":\"2808\",\"type\":\"FactorRange\"},{\"attributes\":{\"active_drag\":\"auto\",\"active_inspect\":\"auto\",\"active_multi\":null,\"active_scroll\":\"auto\",\"active_tap\":\"auto\"},\"id\":\"2821\",\"type\":\"Toolbar\"},{\"attributes\":{\"start\":0},\"id\":\"2806\",\"type\":\"DataRange1d\"},{\"attributes\":{},\"id\":\"2952\",\"type\":\"CategoricalTickFormatter\"},{\"attributes\":{},\"id\":\"2954\",\"type\":\"Selection\"},{\"attributes\":{\"source\":{\"id\":\"2802\"}},\"id\":\"2826\",\"type\":\"CDSView\"},{\"attributes\":{\"data_source\":{\"id\":\"2802\"},\"glyph\":{\"id\":\"2823\"},\"hover_glyph\":null,\"muted_glyph\":null,\"nonselection_glyph\":{\"id\":\"2824\"},\"selection_glyph\":null,\"view\":{\"id\":\"2826\"}},\"id\":\"2825\",\"type\":\"GlyphRenderer\"},{\"attributes\":{\"text\":\"most cases per 1M inhabitants\"},\"id\":\"2804\",\"type\":\"Title\"},{\"attributes\":{},\"id\":\"2953\",\"type\":\"UnionRenderers\"},{\"attributes\":{\"fill_alpha\":{\"value\":0.1},\"fill_color\":{\"value\":\"#1f77b4\"},\"height\":{\"value\":0.8},\"line_alpha\":{\"value\":0.1},\"line_color\":{\"value\":\"#1f77b4\"},\"right\":{\"field\":\"conf_scaled\"},\"y\":{\"field\":\"country\"}},\"id\":\"2824\",\"type\":\"HBar\"},{\"attributes\":{},\"id\":\"2950\",\"type\":\"BasicTickFormatter\"},{\"attributes\":{\"fill_color\":{\"value\":\"#1f77b4\"},\"height\":{\"value\":0.8},\"line_color\":{\"value\":\"#1f77b4\"},\"right\":{\"field\":\"conf_scaled\"},\"y\":{\"field\":\"country\"}},\"id\":\"2823\",\"type\":\"HBar\"}],\"root_ids\":[\"2803\"]},\"title\":\"Bokeh Application\",\"version\":\"2.0.2\"}};\n",
       "  var render_items = [{\"docid\":\"c188c169-783c-4959-b655-191c2d012eb3\",\"root_ids\":[\"2803\"],\"roots\":{\"2803\":\"5bd5f1d7-d0b8-4453-8168-723f271d103b\"}}];\n",
       "  root.Bokeh.embed.embed_items_notebook(docs_json, render_items);\n",
       "\n",
       "  }\n",
       "  if (root.Bokeh !== undefined) {\n",
       "    embed_document(root);\n",
       "  } else {\n",
       "    var attempts = 0;\n",
       "    var timer = setInterval(function(root) {\n",
       "      if (root.Bokeh !== undefined) {\n",
       "        clearInterval(timer);\n",
       "        embed_document(root);\n",
       "      } else {\n",
       "        attempts++;\n",
       "        if (attempts > 100) {\n",
       "          clearInterval(timer);\n",
       "          console.log(\"Bokeh: ERROR: Unable to run BokehJS code because BokehJS library is missing\");\n",
       "        }\n",
       "      }\n",
       "    }, 10, root)\n",
       "  }\n",
       "})(window);"
      ],
      "application/vnd.bokehjs_exec.v0+json": ""
     },
     "metadata": {
      "application/vnd.bokehjs_exec.v0+json": {
       "id": "2803"
      }
     },
     "output_type": "display_data"
    }
   ],
   "source": [
    "plotTop10(top10_scaled_today, vals = 'conf_scaled', title = 'most cases per 1M inhabitants')"
   ]
  },
  {
   "cell_type": "markdown",
   "metadata": {},
   "source": [
    "#### 5. MinutePhysics Metric\n",
    "***\n",
    "Source: https://www.youtube.com/watch?v=54XLXg4fYsc\n",
    "\n",
    "Metric:\n",
    "* y = new confirmed cass last week (rolling sum weeks)\n",
    "* x = total confirmed cases"
   ]
  },
  {
   "cell_type": "code",
   "execution_count": 122,
   "metadata": {},
   "outputs": [],
   "source": [
    "def setAxes(exp):\n",
    "    \"\"\"\n",
    "    \"\"\"\n",
    "    # find the range required\n",
    "    x_max = np.ceil(np.log10(exp.total_confirmed.max()))\n",
    "    y_max = np.ceil(np.log10(exp.new_last_week.max()))\n",
    "    \n",
    "    # generate locations\n",
    "    x_locs_raw = 10**np.arange(0,x_max+1,1)\n",
    "    x_locs = [int(i) for i in x_locs_raw]\n",
    "    y_locs_raw = 10**np.arange(0,y_max+1,1)\n",
    "    y_locs = [int(i) for i in y_locs_raw]\n",
    "\n",
    "    # generate labels\n",
    "    x_labels = ['{:,.0f}'.format(v) for v in x_locs]\n",
    "    y_labels = ['{:,.0f}'.format(v) for v in y_locs]\n",
    "\n",
    "    # get required format\n",
    "    x_set = dict(zip(x_locs, x_labels))\n",
    "    y_set = dict(zip(y_locs, y_labels))\n",
    "\n",
    "    return x_set, y_set"
   ]
  },
  {
   "cell_type": "markdown",
   "metadata": {},
   "source": [
    "#### sample plot (mult. countries)"
   ]
  },
  {
   "cell_type": "code",
   "execution_count": 234,
   "metadata": {},
   "outputs": [
    {
     "name": "stdout",
     "output_type": "stream",
     "text": [
      "155 rows affected\n"
     ]
    }
   ],
   "source": [
    "# netherlands, belgium, italy, united_states, Malaysia\n",
    "query = \"\"\"\n",
    "SELECT *\n",
    "  FROM exp_stats\n",
    " WHERE country IN ('Netherlands','Italy')\n",
    "   AND total_confirmed > 25\n",
    "\"\"\"\n",
    "\n",
    "sample_exp = qdb.execute_query(query)"
   ]
  },
  {
   "cell_type": "code",
   "execution_count": 235,
   "metadata": {},
   "outputs": [
    {
     "name": "stderr",
     "output_type": "stream",
     "text": [
      "BokehDeprecationWarning: 'legend' keyword is deprecated, use explicit 'legend_label', 'legend_field', or 'legend_group' keywords instead\n"
     ]
    },
    {
     "data": {
      "text/html": [
       "\n",
       "\n",
       "\n",
       "\n",
       "\n",
       "\n",
       "  <div class=\"bk-root\" id=\"d5ce6bd5-27aa-4bc7-a784-d0931d763ed1\" data-root-id=\"22553\"></div>\n"
      ]
     },
     "metadata": {},
     "output_type": "display_data"
    },
    {
     "data": {
      "application/javascript": [
       "(function(root) {\n",
       "  function embed_document(root) {\n",
       "    \n",
       "  var docs_json = {\"1d9ec2c6-19ae-4c62-abeb-292a6e586221\":{\"roots\":{\"references\":[{\"attributes\":{\"below\":[{\"id\":\"22564\"}],\"center\":[{\"id\":\"22567\"},{\"id\":\"22571\"},{\"id\":\"22598\"}],\"left\":[{\"id\":\"22568\"}],\"plot_height\":400,\"plot_width\":700,\"renderers\":[{\"id\":\"22590\"}],\"title\":{\"id\":\"22554\"},\"toolbar\":{\"id\":\"22579\"},\"x_range\":{\"id\":\"22556\"},\"x_scale\":{\"id\":\"22560\"},\"y_range\":{\"id\":\"22558\"},\"y_scale\":{\"id\":\"22562\"}},\"id\":\"22553\",\"subtype\":\"Figure\",\"type\":\"Plot\"},{\"attributes\":{\"source\":{\"id\":\"22552\"}},\"id\":\"22591\",\"type\":\"CDSView\"},{\"attributes\":{\"fill_alpha\":{\"value\":0.1},\"fill_color\":{\"field\":\"country\",\"transform\":{\"id\":\"22586\"}},\"line_alpha\":{\"value\":0.1},\"line_color\":{\"field\":\"country\",\"transform\":{\"id\":\"22586\"}},\"line_width\":{\"value\":2},\"x\":{\"field\":\"total_confirmed\"},\"y\":{\"field\":\"new_last_week\"}},\"id\":\"22589\",\"type\":\"Circle\"},{\"attributes\":{\"ticker\":null},\"id\":\"22596\",\"type\":\"LogTickFormatter\"},{\"attributes\":{\"text\":\"Covid Progress\"},\"id\":\"22554\",\"type\":\"Title\"},{\"attributes\":{},\"id\":\"22576\",\"type\":\"ResetTool\"},{\"attributes\":{\"num_minor_ticks\":10},\"id\":\"22565\",\"type\":\"LogTicker\"},{\"attributes\":{},\"id\":\"23103\",\"type\":\"Selection\"},{\"attributes\":{\"num_minor_ticks\":10},\"id\":\"22569\",\"type\":\"LogTicker\"},{\"attributes\":{\"active_drag\":\"auto\",\"active_inspect\":\"auto\",\"active_multi\":null,\"active_scroll\":\"auto\",\"active_tap\":\"auto\",\"tools\":[{\"id\":\"22572\"},{\"id\":\"22573\"},{\"id\":\"22574\"},{\"id\":\"22575\"},{\"id\":\"22576\"},{\"id\":\"22577\"}]},\"id\":\"22579\",\"type\":\"Toolbar\"},{\"attributes\":{},\"id\":\"22573\",\"type\":\"WheelZoomTool\"},{\"attributes\":{\"axis\":{\"id\":\"22568\"},\"dimension\":1,\"ticker\":null},\"id\":\"22571\",\"type\":\"Grid\"},{\"attributes\":{\"overlay\":{\"id\":\"22578\"}},\"id\":\"22574\",\"type\":\"BoxZoomTool\"},{\"attributes\":{},\"id\":\"22575\",\"type\":\"SaveTool\"},{\"attributes\":{},\"id\":\"22572\",\"type\":\"PanTool\"},{\"attributes\":{\"factors\":[\"Italy\",\"Netherlands\"],\"palette\":[\"#ef8a62\",\"#67a9cf\"]},\"id\":\"22586\",\"type\":\"CategoricalColorMapper\"},{\"attributes\":{},\"id\":\"22560\",\"type\":\"LogScale\"},{\"attributes\":{},\"id\":\"22558\",\"type\":\"DataRange1d\"},{\"attributes\":{},\"id\":\"22577\",\"type\":\"HelpTool\"},{\"attributes\":{\"label\":{\"field\":\"country\"},\"renderers\":[{\"id\":\"22590\"}]},\"id\":\"22599\",\"type\":\"LegendItem\"},{\"attributes\":{\"axis\":{\"id\":\"22564\"},\"ticker\":null},\"id\":\"22567\",\"type\":\"Grid\"},{\"attributes\":{\"fill_color\":{\"field\":\"country\",\"transform\":{\"id\":\"22586\"}},\"line_color\":{\"field\":\"country\",\"transform\":{\"id\":\"22586\"}},\"line_width\":{\"value\":2},\"x\":{\"field\":\"total_confirmed\"},\"y\":{\"field\":\"new_last_week\"}},\"id\":\"22588\",\"type\":\"Circle\"},{\"attributes\":{\"axis_label\":\"New cases last week\",\"formatter\":{\"id\":\"22596\"},\"major_label_overrides\":{\"1\":\"1\",\"10\":\"10\",\"100\":\"100\",\"1000\":\"1,000\",\"10000\":\"10,000\"},\"ticker\":{\"id\":\"22569\"}},\"id\":\"22568\",\"type\":\"LogAxis\"},{\"attributes\":{\"bottom_units\":\"screen\",\"fill_alpha\":0.5,\"fill_color\":\"lightgrey\",\"left_units\":\"screen\",\"level\":\"overlay\",\"line_alpha\":1.0,\"line_color\":\"black\",\"line_dash\":[4,4],\"line_width\":2,\"render_mode\":\"css\",\"right_units\":\"screen\",\"top_units\":\"screen\"},\"id\":\"22578\",\"type\":\"BoxAnnotation\"},{\"attributes\":{},\"id\":\"23102\",\"type\":\"UnionRenderers\"},{\"attributes\":{\"axis_label\":\"Total confirmed cases\",\"formatter\":{\"id\":\"22594\"},\"major_label_overrides\":{\"1\":\"1\",\"10\":\"10\",\"100\":\"100\",\"1000\":\"1,000\",\"10000\":\"10,000\",\"100000\":\"100,000\"},\"ticker\":{\"id\":\"22565\"}},\"id\":\"22564\",\"type\":\"LogAxis\"},{\"attributes\":{\"data_source\":{\"id\":\"22552\"},\"glyph\":{\"id\":\"22588\"},\"hover_glyph\":null,\"muted_glyph\":null,\"nonselection_glyph\":{\"id\":\"22589\"},\"selection_glyph\":null,\"view\":{\"id\":\"22591\"}},\"id\":\"22590\",\"type\":\"GlyphRenderer\"},{\"attributes\":{\"items\":[{\"id\":\"22599\"}],\"location\":\"top_left\"},\"id\":\"22598\",\"type\":\"Legend\"},{\"attributes\":{},\"id\":\"22556\",\"type\":\"DataRange1d\"},{\"attributes\":{},\"id\":\"22562\",\"type\":\"LogScale\"},{\"attributes\":{\"data\":{\"country\":[\"Italy\",\"Italy\",\"Italy\",\"Italy\",\"Italy\",\"Italy\",\"Italy\",\"Italy\",\"Italy\",\"Italy\",\"Italy\",\"Italy\",\"Netherlands\",\"Italy\",\"Netherlands\",\"Italy\",\"Netherlands\",\"Italy\",\"Netherlands\",\"Italy\",\"Netherlands\",\"Italy\",\"Netherlands\",\"Italy\",\"Netherlands\",\"Italy\",\"Netherlands\",\"Italy\",\"Netherlands\",\"Italy\",\"Netherlands\",\"Italy\",\"Netherlands\",\"Italy\",\"Netherlands\",\"Italy\",\"Netherlands\",\"Italy\",\"Netherlands\",\"Italy\",\"Netherlands\",\"Italy\",\"Netherlands\",\"Italy\",\"Netherlands\",\"Italy\",\"Netherlands\",\"Italy\",\"Netherlands\",\"Italy\",\"Netherlands\",\"Italy\",\"Netherlands\",\"Italy\",\"Netherlands\",\"Italy\",\"Netherlands\",\"Italy\",\"Netherlands\",\"Italy\",\"Netherlands\",\"Italy\",\"Netherlands\",\"Italy\",\"Netherlands\",\"Italy\",\"Netherlands\",\"Italy\",\"Netherlands\",\"Italy\",\"Netherlands\",\"Italy\",\"Netherlands\",\"Italy\",\"Netherlands\",\"Italy\",\"Netherlands\",\"Italy\",\"Netherlands\",\"Italy\",\"Netherlands\",\"Italy\",\"Netherlands\",\"Italy\",\"Netherlands\",\"Italy\",\"Netherlands\",\"Italy\",\"Netherlands\",\"Italy\",\"Netherlands\",\"Italy\",\"Netherlands\",\"Italy\",\"Netherlands\",\"Italy\",\"Netherlands\",\"Italy\",\"Netherlands\",\"Italy\",\"Netherlands\",\"Italy\",\"Netherlands\",\"Italy\",\"Netherlands\",\"Italy\",\"Netherlands\",\"Italy\",\"Netherlands\",\"Italy\",\"Netherlands\",\"Italy\",\"Netherlands\",\"Italy\",\"Netherlands\",\"Italy\",\"Netherlands\",\"Italy\",\"Netherlands\",\"Italy\",\"Netherlands\",\"Italy\",\"Netherlands\",\"Italy\",\"Netherlands\",\"Italy\",\"Netherlands\",\"Italy\",\"Netherlands\",\"Italy\",\"Netherlands\",\"Italy\",\"Netherlands\",\"Italy\",\"Netherlands\",\"Italy\",\"Netherlands\",\"Italy\",\"Netherlands\",\"Italy\",\"Netherlands\",\"Italy\",\"Netherlands\",\"Italy\",\"Netherlands\",\"Italy\",\"Netherlands\",\"Italy\",\"Netherlands\",\"Italy\",\"Netherlands\",\"Italy\",\"Netherlands\",\"Italy\",\"Netherlands\"],\"date\":{\"__ndarray__\":\"AACAGaMGd0IAAEB/9QZ3QgAAAOVHB3dCAADASpoHd0IAAICw7Ad3QgAAQBY/CHdCAAAAfJEId0IAAMDh4wh3QgAAgEc2CXdCAABArYgJd0IAAAAT2wl3QgAAwHgtCndCAADAeC0Kd0IAAIDefwp3QgAAgN5/CndCAABARNIKd0IAAEBE0gp3QgAAAKokC3dCAAAAqiQLd0IAAMAPdwt3QgAAwA93C3dCAACAdckLd0IAAIB1yQt3QgAAQNsbDHdCAABA2xsMd0IAAABBbgx3QgAAAEFuDHdCAADApsAMd0IAAMCmwAx3QgAAgAwTDXdCAACADBMNd0IAAEByZQ13QgAAQHJlDXdCAAAA2LcNd0IAAADYtw13QgAAwD0KDndCAADAPQoOd0IAAICjXA53QgAAgKNcDndCAABACa8Od0IAAEAJrw53QgAAAG8BD3dCAAAAbwEPd0IAAMDUUw93QgAAwNRTD3dCAACAOqYPd0IAAIA6pg93QgAAQKD4D3dCAABAoPgPd0IAAAAGSxB3QgAAAAZLEHdCAADAa50Qd0IAAMBrnRB3QgAAgNHvEHdCAACA0e8Qd0IAAEA3QhF3QgAAQDdCEXdCAAAAnZQRd0IAAACdlBF3QgAAwALnEXdCAADAAucRd0IAAIBoORJ3QgAAgGg5EndCAABAzosSd0IAAEDOixJ3QgAAADTeEndCAAAANN4Sd0IAAMCZMBN3QgAAwJkwE3dCAACA/4ITd0IAAID/ghN3QgAAQGXVE3dCAABAZdUTd0IAAADLJxR3QgAAAMsnFHdCAADAMHoUd0IAAMAwehR3QgAAgJbMFHdCAACAlswUd0IAAED8HhV3QgAAQPweFXdCAAAAYnEVd0IAAABicRV3QgAAwMfDFXdCAADAx8MVd0IAAIAtFhZ3QgAAgC0WFndCAABAk2gWd0IAAECTaBZ3QgAAAPm6FndCAAAA+boWd0IAAMBeDRd3QgAAwF4NF3dCAACAxF8Xd0IAAIDEXxd3QgAAQCqyF3dCAABAKrIXd0IAAACQBBh3QgAAAJAEGHdCAADA9VYYd0IAAMD1Vhh3QgAAgFupGHdCAACAW6kYd0IAAEDB+xh3QgAAQMH7GHdCAAAAJ04Zd0IAAAAnThl3QgAAwIygGXdCAADAjKAZd0IAAIDy8hl3QgAAgPLyGXdCAABAWEUad0IAAEBYRRp3QgAAAL6XGndCAAAAvpcad0IAAMAj6hp3QgAAwCPqGndCAACAiTwbd0IAAICJPBt3QgAAQO+OG3dCAABA744bd0IAAABV4Rt3QgAAAFXhG3dCAADAujMcd0IAAMC6Mxx3QgAAgCCGHHdCAACAIIYcd0IAAECG2Bx3QgAAQIbYHHdCAAAA7Codd0IAAADsKh13QgAAwFF9HXdCAADAUX0dd0IAAIC3zx13QgAAgLfPHXdCAABAHSIed0IAAEAdIh53QgAAAIN0HndCAAAAg3Qed0IAAMDoxh53QgAAwOjGHndCAACAThkfd0IAAIBOGR93QgAAQLRrH3dCAABAtGsfd0IAAAAavh93QgAAABq+H3dCAADAfxAgd0IAAMB/ECB3QgAAgOViIHdCAACA5WIgd0IAAEBLtSB3QgAAQEu1IHdCAAAAsQchd0IAAACxByF3Qg==\",\"dtype\":\"float64\",\"shape\":[155]},\"index\":[0,1,2,3,4,5,6,7,8,9,10,11,12,13,14,15,16,17,18,19,20,21,22,23,24,25,26,27,28,29,30,31,32,33,34,35,36,37,38,39,40,41,42,43,44,45,46,47,48,49,50,51,52,53,54,55,56,57,58,59,60,61,62,63,64,65,66,67,68,69,70,71,72,73,74,75,76,77,78,79,80,81,82,83,84,85,86,87,88,89,90,91,92,93,94,95,96,97,98,99,100,101,102,103,104,105,106,107,108,109,110,111,112,113,114,115,116,117,118,119,120,121,122,123,124,125,126,127,128,129,130,131,132,133,134,135,136,137,138,139,140,141,142,143,144,145,146,147,148,149,150,151,152,153,154],\"new_last_week\":[59,152,226,319,450,652,868,1066,1539,1807,2180,2636,38,3203,81,3748,127,4755,182,5681,255,7136,303,7647,358,9373,465,8604,421,13024,678,15274,774,17372,873,18808,1095,21357,1329,23251,1555,28573,1964,29361,2197,32421,2678,34391,3079,35947,3348,37670,3869,38673,4380,39554,5001,39477,5644,38894,6179,38551,6713,37812,7053,36616,7087,36188,7258,34653,7320,33329,7174,32160,6908,31259,7023,30808,7109,29794,7042,28848,6986,28384,7115,27750,7428,27639,7844,27415,7793,26969,7784,26902,7871,25733,7634,25315,7480,24857,7370,23654,7195,22609,7092,21712,6878,21469,6737,22172,6716,21032,6538,20560,6110,19426,5618,18703,5202,18186,4852,17548,4295,16264,3966,15490,3591,14434,3260,13977,3050,13042,2729,12524,2528,11508,2674,10866,2520,10395,2461,9757,2303,8940,2147,8353,2057,7876,2019,8203,1897,7647,1892,7238,1707],\"total_confirmed\":[62,155,229,322,453,655,888,1128,1694,2036,2502,3089,38,3858,82,4636,128,5883,188,7375,265,9172,321,10149,382,12462,503,12462,503,17660,806,21157,962,24747,1138,27980,1416,31506,1711,35713,2058,41035,2467,47021,3003,53578,3640,59138,4217,63927,4764,69176,5580,74386,6438,80589,7468,86498,8647,92472,9819,97689,10930,101739,11817,105792,12667,110574,13696,115242,14788,119827,15821,124632,16727,128948,17953,132547,18926,135586,19709,139422,20682,143626,21903,147577,23249,152271,24571,156363,25746,159516,26710,162488,27580,165155,28316,168941,29383,172434,30619,175925,31766,178972,32838,181228,33588,183957,34317,187327,35032,189973,35921,192994,36729,195351,37384,197675,38040,199414,38440,201505,38612,203591,38998,205463,39512,207428,39989,209328,40434,210717,40769,211938,40968,213013,41286,214457,41518,215858,41973,217185,42292,218268,42581,219070,42826,219814,42987,221216,43183,222104,43410,223096,43680]},\"selected\":{\"id\":\"23103\"},\"selection_policy\":{\"id\":\"23102\"}},\"id\":\"22552\",\"type\":\"ColumnDataSource\"},{\"attributes\":{\"ticker\":null},\"id\":\"22594\",\"type\":\"LogTickFormatter\"}],\"root_ids\":[\"22553\"]},\"title\":\"Bokeh Application\",\"version\":\"2.0.2\"}};\n",
       "  var render_items = [{\"docid\":\"1d9ec2c6-19ae-4c62-abeb-292a6e586221\",\"root_ids\":[\"22553\"],\"roots\":{\"22553\":\"d5ce6bd5-27aa-4bc7-a784-d0931d763ed1\"}}];\n",
       "  root.Bokeh.embed.embed_items_notebook(docs_json, render_items);\n",
       "\n",
       "  }\n",
       "  if (root.Bokeh !== undefined) {\n",
       "    embed_document(root);\n",
       "  } else {\n",
       "    var attempts = 0;\n",
       "    var timer = setInterval(function(root) {\n",
       "      if (root.Bokeh !== undefined) {\n",
       "        clearInterval(timer);\n",
       "        embed_document(root);\n",
       "      } else {\n",
       "        attempts++;\n",
       "        if (attempts > 100) {\n",
       "          clearInterval(timer);\n",
       "          console.log(\"Bokeh: ERROR: Unable to run BokehJS code because BokehJS library is missing\");\n",
       "        }\n",
       "      }\n",
       "    }, 10, root)\n",
       "  }\n",
       "})(window);"
      ],
      "application/vnd.bokehjs_exec.v0+json": ""
     },
     "metadata": {
      "application/vnd.bokehjs_exec.v0+json": {
       "id": "22553"
      }
     },
     "output_type": "display_data"
    }
   ],
   "source": [
    "#set source\n",
    "source = ColumnDataSource(sample_exp)\n",
    "\n",
    "# create the plot\n",
    "p = figure(title = 'Covid Progress', \n",
    "           x_axis_type = 'log',\n",
    "           y_axis_type = 'log',\n",
    "           x_axis_label = 'Total confirmed cases',\n",
    "           y_axis_label = 'New cases last week',\n",
    "           plot_height = 400,\n",
    "           plot_width = 700)\n",
    "\n",
    "color_mapper = CategoricalColorMapper(factors=sample_exp['country'].drop_duplicates().to_list(), \n",
    "                                      palette=[RdBu3[2], RdBu3[0]])\n",
    "\n",
    "p.circle(x='total_confirmed', y='new_last_week', line_width=2, source=source,\n",
    "    color={'field': 'country', 'transform': color_mapper}, legend = 'country') \n",
    "\n",
    "# set axes\n",
    "x_set, y_set = setAxes(exp)\n",
    "p.xaxis.major_label_overrides = x_set\n",
    "p.yaxis.major_label_overrides = y_set\n",
    "\n",
    "p.legend.location = \"top_left\"\n",
    "show(p)"
   ]
  },
  {
   "cell_type": "code",
   "execution_count": null,
   "metadata": {},
   "outputs": [],
   "source": []
  },
  {
   "cell_type": "code",
   "execution_count": null,
   "metadata": {},
   "outputs": [],
   "source": []
  },
  {
   "cell_type": "markdown",
   "metadata": {},
   "source": [
    "#### 6. KPI Metric\n",
    "***\n",
    "Source: https://www.staceybarr.com/measure-up/an-insight-from-the-covid-19-metric-growth-factor/"
   ]
  },
  {
   "cell_type": "code",
   "execution_count": null,
   "metadata": {},
   "outputs": [],
   "source": []
  },
  {
   "cell_type": "code",
   "execution_count": null,
   "metadata": {},
   "outputs": [],
   "source": []
  },
  {
   "cell_type": "code",
   "execution_count": null,
   "metadata": {},
   "outputs": [],
   "source": []
  },
  {
   "cell_type": "markdown",
   "metadata": {},
   "source": [
    "#### 7. Mortality Rate\n",
    "***\n",
    "* Use: start with a correlation. Shift death by x-days and check correlation.\n",
    "* Auto-regressive Model"
   ]
  },
  {
   "cell_type": "code",
   "execution_count": null,
   "metadata": {},
   "outputs": [],
   "source": []
  },
  {
   "cell_type": "code",
   "execution_count": null,
   "metadata": {},
   "outputs": [],
   "source": []
  },
  {
   "cell_type": "code",
   "execution_count": null,
   "metadata": {},
   "outputs": [],
   "source": []
  }
 ],
 "metadata": {
  "kernelspec": {
   "display_name": "Python 3",
   "language": "python",
   "name": "python3"
  },
  "language_info": {
   "codemirror_mode": {
    "name": "ipython",
    "version": 3
   },
   "file_extension": ".py",
   "mimetype": "text/x-python",
   "name": "python",
   "nbconvert_exporter": "python",
   "pygments_lexer": "ipython3",
   "version": "3.7.3"
  }
 },
 "nbformat": 4,
 "nbformat_minor": 4
}
