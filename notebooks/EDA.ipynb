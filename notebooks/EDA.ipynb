{
 "cells": [
  {
   "cell_type": "markdown",
   "metadata": {},
   "source": [
    "# EDA Covid 19\n",
    "***"
   ]
  },
  {
   "cell_type": "code",
   "execution_count": 26,
   "metadata": {},
   "outputs": [],
   "source": [
    "# add index"
   ]
  },
  {
   "cell_type": "markdown",
   "metadata": {},
   "source": [
    "#### Quality Notes\n",
    "* Recovered not always reported consistently by countries (i.e. lower than reality for NL/BE - two countries we can observe)\n",
    "* 7-Day Moving Average on daily reported numbers show a cleaner trend\n",
    "* Overall comparison between countries does not make much sense given their population; best to scale to numbers per million inhavitants (as is common for these datasets)\n"
   ]
  },
  {
   "cell_type": "markdown",
   "metadata": {},
   "source": [
    "## Introduction\n",
    "***\n",
    "Analyse the data provided using exploratory visuals. Key aspects:\n",
    "* What is the overall status today (totals)?\n",
    "* How are countries performing? (and how has covid progressed)?\n",
    "* What is the total daily increase? (with moving average)\n",
    "* What is the effect scaled to the population?\n",
    "* What is the mortality rate?\n",
    "* Metric A: per country scaling over log-scale (minutephysics plot)\n",
    "* Metrics B: growth KPI assessment (Stacey Barr)\n",
    "\n",
    "Interesting countries:\n",
    "* Netherlands\n",
    "* Belgium\n",
    "* Italy\n",
    "* Spain\n",
    "* China\n",
    "* Malaysia\n",
    "* United Kingdom\n",
    "* United States\n"
   ]
  },
  {
   "cell_type": "code",
   "execution_count": 148,
   "metadata": {},
   "outputs": [
    {
     "name": "stdout",
     "output_type": "stream",
     "text": [
      "The sql extension is already loaded. To reload it, use:\n",
      "  %reload_ext sql\n",
      "The autoreload extension is already loaded. To reload it, use:\n",
      "  %reload_ext autoreload\n"
     ]
    }
   ],
   "source": [
    "import numpy as np\n",
    "import pandas as pd\n",
    "\n",
    "import matplotlib.pyplot as plt\n",
    "%matplotlib inline\n",
    "\n",
    "import seaborn as sns\n",
    "sns.set()\n",
    "\n",
    "from sqlalchemy import create_engine\n",
    "%load_ext sql\n",
    "\n",
    "%load_ext autoreload\n",
    "%autoreload 2"
   ]
  },
  {
   "cell_type": "code",
   "execution_count": 524,
   "metadata": {},
   "outputs": [
    {
     "data": {
      "text/html": [
       "\n",
       "    <div class=\"bk-root\">\n",
       "        <a href=\"https://bokeh.org\" target=\"_blank\" class=\"bk-logo bk-logo-small bk-logo-notebook\"></a>\n",
       "        <span id=\"103521\">Loading BokehJS ...</span>\n",
       "    </div>"
      ]
     },
     "metadata": {},
     "output_type": "display_data"
    },
    {
     "data": {
      "application/javascript": [
       "\n",
       "(function(root) {\n",
       "  function now() {\n",
       "    return new Date();\n",
       "  }\n",
       "\n",
       "  var force = true;\n",
       "\n",
       "  if (typeof root._bokeh_onload_callbacks === \"undefined\" || force === true) {\n",
       "    root._bokeh_onload_callbacks = [];\n",
       "    root._bokeh_is_loading = undefined;\n",
       "  }\n",
       "\n",
       "  var JS_MIME_TYPE = 'application/javascript';\n",
       "  var HTML_MIME_TYPE = 'text/html';\n",
       "  var EXEC_MIME_TYPE = 'application/vnd.bokehjs_exec.v0+json';\n",
       "  var CLASS_NAME = 'output_bokeh rendered_html';\n",
       "\n",
       "  /**\n",
       "   * Render data to the DOM node\n",
       "   */\n",
       "  function render(props, node) {\n",
       "    var script = document.createElement(\"script\");\n",
       "    node.appendChild(script);\n",
       "  }\n",
       "\n",
       "  /**\n",
       "   * Handle when an output is cleared or removed\n",
       "   */\n",
       "  function handleClearOutput(event, handle) {\n",
       "    var cell = handle.cell;\n",
       "\n",
       "    var id = cell.output_area._bokeh_element_id;\n",
       "    var server_id = cell.output_area._bokeh_server_id;\n",
       "    // Clean up Bokeh references\n",
       "    if (id != null && id in Bokeh.index) {\n",
       "      Bokeh.index[id].model.document.clear();\n",
       "      delete Bokeh.index[id];\n",
       "    }\n",
       "\n",
       "    if (server_id !== undefined) {\n",
       "      // Clean up Bokeh references\n",
       "      var cmd = \"from bokeh.io.state import curstate; print(curstate().uuid_to_server['\" + server_id + \"'].get_sessions()[0].document.roots[0]._id)\";\n",
       "      cell.notebook.kernel.execute(cmd, {\n",
       "        iopub: {\n",
       "          output: function(msg) {\n",
       "            var id = msg.content.text.trim();\n",
       "            if (id in Bokeh.index) {\n",
       "              Bokeh.index[id].model.document.clear();\n",
       "              delete Bokeh.index[id];\n",
       "            }\n",
       "          }\n",
       "        }\n",
       "      });\n",
       "      // Destroy server and session\n",
       "      var cmd = \"import bokeh.io.notebook as ion; ion.destroy_server('\" + server_id + \"')\";\n",
       "      cell.notebook.kernel.execute(cmd);\n",
       "    }\n",
       "  }\n",
       "\n",
       "  /**\n",
       "   * Handle when a new output is added\n",
       "   */\n",
       "  function handleAddOutput(event, handle) {\n",
       "    var output_area = handle.output_area;\n",
       "    var output = handle.output;\n",
       "\n",
       "    // limit handleAddOutput to display_data with EXEC_MIME_TYPE content only\n",
       "    if ((output.output_type != \"display_data\") || (!output.data.hasOwnProperty(EXEC_MIME_TYPE))) {\n",
       "      return\n",
       "    }\n",
       "\n",
       "    var toinsert = output_area.element.find(\".\" + CLASS_NAME.split(' ')[0]);\n",
       "\n",
       "    if (output.metadata[EXEC_MIME_TYPE][\"id\"] !== undefined) {\n",
       "      toinsert[toinsert.length - 1].firstChild.textContent = output.data[JS_MIME_TYPE];\n",
       "      // store reference to embed id on output_area\n",
       "      output_area._bokeh_element_id = output.metadata[EXEC_MIME_TYPE][\"id\"];\n",
       "    }\n",
       "    if (output.metadata[EXEC_MIME_TYPE][\"server_id\"] !== undefined) {\n",
       "      var bk_div = document.createElement(\"div\");\n",
       "      bk_div.innerHTML = output.data[HTML_MIME_TYPE];\n",
       "      var script_attrs = bk_div.children[0].attributes;\n",
       "      for (var i = 0; i < script_attrs.length; i++) {\n",
       "        toinsert[toinsert.length - 1].firstChild.setAttribute(script_attrs[i].name, script_attrs[i].value);\n",
       "        toinsert[toinsert.length - 1].firstChild.textContent = bk_div.children[0].textContent\n",
       "      }\n",
       "      // store reference to server id on output_area\n",
       "      output_area._bokeh_server_id = output.metadata[EXEC_MIME_TYPE][\"server_id\"];\n",
       "    }\n",
       "  }\n",
       "\n",
       "  function register_renderer(events, OutputArea) {\n",
       "\n",
       "    function append_mime(data, metadata, element) {\n",
       "      // create a DOM node to render to\n",
       "      var toinsert = this.create_output_subarea(\n",
       "        metadata,\n",
       "        CLASS_NAME,\n",
       "        EXEC_MIME_TYPE\n",
       "      );\n",
       "      this.keyboard_manager.register_events(toinsert);\n",
       "      // Render to node\n",
       "      var props = {data: data, metadata: metadata[EXEC_MIME_TYPE]};\n",
       "      render(props, toinsert[toinsert.length - 1]);\n",
       "      element.append(toinsert);\n",
       "      return toinsert\n",
       "    }\n",
       "\n",
       "    /* Handle when an output is cleared or removed */\n",
       "    events.on('clear_output.CodeCell', handleClearOutput);\n",
       "    events.on('delete.Cell', handleClearOutput);\n",
       "\n",
       "    /* Handle when a new output is added */\n",
       "    events.on('output_added.OutputArea', handleAddOutput);\n",
       "\n",
       "    /**\n",
       "     * Register the mime type and append_mime function with output_area\n",
       "     */\n",
       "    OutputArea.prototype.register_mime_type(EXEC_MIME_TYPE, append_mime, {\n",
       "      /* Is output safe? */\n",
       "      safe: true,\n",
       "      /* Index of renderer in `output_area.display_order` */\n",
       "      index: 0\n",
       "    });\n",
       "  }\n",
       "\n",
       "  // register the mime type if in Jupyter Notebook environment and previously unregistered\n",
       "  if (root.Jupyter !== undefined) {\n",
       "    var events = require('base/js/events');\n",
       "    var OutputArea = require('notebook/js/outputarea').OutputArea;\n",
       "\n",
       "    if (OutputArea.prototype.mime_types().indexOf(EXEC_MIME_TYPE) == -1) {\n",
       "      register_renderer(events, OutputArea);\n",
       "    }\n",
       "  }\n",
       "\n",
       "  \n",
       "  if (typeof (root._bokeh_timeout) === \"undefined\" || force === true) {\n",
       "    root._bokeh_timeout = Date.now() + 5000;\n",
       "    root._bokeh_failed_load = false;\n",
       "  }\n",
       "\n",
       "  var NB_LOAD_WARNING = {'data': {'text/html':\n",
       "     \"<div style='background-color: #fdd'>\\n\"+\n",
       "     \"<p>\\n\"+\n",
       "     \"BokehJS does not appear to have successfully loaded. If loading BokehJS from CDN, this \\n\"+\n",
       "     \"may be due to a slow or bad network connection. Possible fixes:\\n\"+\n",
       "     \"</p>\\n\"+\n",
       "     \"<ul>\\n\"+\n",
       "     \"<li>re-rerun `output_notebook()` to attempt to load from CDN again, or</li>\\n\"+\n",
       "     \"<li>use INLINE resources instead, as so:</li>\\n\"+\n",
       "     \"</ul>\\n\"+\n",
       "     \"<code>\\n\"+\n",
       "     \"from bokeh.resources import INLINE\\n\"+\n",
       "     \"output_notebook(resources=INLINE)\\n\"+\n",
       "     \"</code>\\n\"+\n",
       "     \"</div>\"}};\n",
       "\n",
       "  function display_loaded() {\n",
       "    var el = document.getElementById(\"103521\");\n",
       "    if (el != null) {\n",
       "      el.textContent = \"BokehJS is loading...\";\n",
       "    }\n",
       "    if (root.Bokeh !== undefined) {\n",
       "      if (el != null) {\n",
       "        el.textContent = \"BokehJS \" + root.Bokeh.version + \" successfully loaded.\";\n",
       "      }\n",
       "    } else if (Date.now() < root._bokeh_timeout) {\n",
       "      setTimeout(display_loaded, 100)\n",
       "    }\n",
       "  }\n",
       "\n",
       "\n",
       "  function run_callbacks() {\n",
       "    try {\n",
       "      root._bokeh_onload_callbacks.forEach(function(callback) {\n",
       "        if (callback != null)\n",
       "          callback();\n",
       "      });\n",
       "    } finally {\n",
       "      delete root._bokeh_onload_callbacks\n",
       "    }\n",
       "    console.debug(\"Bokeh: all callbacks have finished\");\n",
       "  }\n",
       "\n",
       "  function load_libs(css_urls, js_urls, callback) {\n",
       "    if (css_urls == null) css_urls = [];\n",
       "    if (js_urls == null) js_urls = [];\n",
       "\n",
       "    root._bokeh_onload_callbacks.push(callback);\n",
       "    if (root._bokeh_is_loading > 0) {\n",
       "      console.debug(\"Bokeh: BokehJS is being loaded, scheduling callback at\", now());\n",
       "      return null;\n",
       "    }\n",
       "    if (js_urls == null || js_urls.length === 0) {\n",
       "      run_callbacks();\n",
       "      return null;\n",
       "    }\n",
       "    console.debug(\"Bokeh: BokehJS not loaded, scheduling load and callback at\", now());\n",
       "    root._bokeh_is_loading = css_urls.length + js_urls.length;\n",
       "\n",
       "    function on_load() {\n",
       "      root._bokeh_is_loading--;\n",
       "      if (root._bokeh_is_loading === 0) {\n",
       "        console.debug(\"Bokeh: all BokehJS libraries/stylesheets loaded\");\n",
       "        run_callbacks()\n",
       "      }\n",
       "    }\n",
       "\n",
       "    function on_error() {\n",
       "      console.error(\"failed to load \" + url);\n",
       "    }\n",
       "\n",
       "    for (var i = 0; i < css_urls.length; i++) {\n",
       "      var url = css_urls[i];\n",
       "      const element = document.createElement(\"link\");\n",
       "      element.onload = on_load;\n",
       "      element.onerror = on_error;\n",
       "      element.rel = \"stylesheet\";\n",
       "      element.type = \"text/css\";\n",
       "      element.href = url;\n",
       "      console.debug(\"Bokeh: injecting link tag for BokehJS stylesheet: \", url);\n",
       "      document.body.appendChild(element);\n",
       "    }\n",
       "\n",
       "    const hashes = {\"https://cdn.bokeh.org/bokeh/release/bokeh-2.0.2.min.js\": \"ufR9RFnRs6lniiaFvtJziE0YeidtAgBRH6ux2oUItHw5WTvE1zuk9uzhUU/FJXDp\", \"https://cdn.bokeh.org/bokeh/release/bokeh-widgets-2.0.2.min.js\": \"8QM/PGWBT+IssZuRcDcjzwIh1mkOmJSoNMmyYDZbCfXJg3Ap1lEvdVgFuSAwhb/J\", \"https://cdn.bokeh.org/bokeh/release/bokeh-tables-2.0.2.min.js\": \"Jm8cH3Rg0P6UeZhVY5cLy1WzKajUT9KImCY+76hEqrcJt59/d8GPvFHjCkYgnSIn\", \"https://cdn.bokeh.org/bokeh/release/bokeh-gl-2.0.2.min.js\": \"Ozhzj+SI7ywm74aOI/UajcWz+C0NjsPunEVyVIrxzYkB+jA+2tUw8x5xJCbVtK5I\"};\n",
       "\n",
       "    for (var i = 0; i < js_urls.length; i++) {\n",
       "      var url = js_urls[i];\n",
       "      var element = document.createElement('script');\n",
       "      element.onload = on_load;\n",
       "      element.onerror = on_error;\n",
       "      element.async = false;\n",
       "      element.src = url;\n",
       "      if (url in hashes) {\n",
       "        element.crossOrigin = \"anonymous\";\n",
       "        element.integrity = \"sha384-\" + hashes[url];\n",
       "      }\n",
       "      console.debug(\"Bokeh: injecting script tag for BokehJS library: \", url);\n",
       "      document.head.appendChild(element);\n",
       "    }\n",
       "  };\n",
       "\n",
       "  function inject_raw_css(css) {\n",
       "    const element = document.createElement(\"style\");\n",
       "    element.appendChild(document.createTextNode(css));\n",
       "    document.body.appendChild(element);\n",
       "  }\n",
       "\n",
       "  \n",
       "  var js_urls = [\"https://cdn.bokeh.org/bokeh/release/bokeh-2.0.2.min.js\", \"https://cdn.bokeh.org/bokeh/release/bokeh-widgets-2.0.2.min.js\", \"https://cdn.bokeh.org/bokeh/release/bokeh-tables-2.0.2.min.js\", \"https://cdn.bokeh.org/bokeh/release/bokeh-gl-2.0.2.min.js\"];\n",
       "  var css_urls = [];\n",
       "  \n",
       "\n",
       "  var inline_js = [\n",
       "    function(Bokeh) {\n",
       "      Bokeh.set_log_level(\"info\");\n",
       "    },\n",
       "    function(Bokeh) {\n",
       "    \n",
       "    \n",
       "    }\n",
       "  ];\n",
       "\n",
       "  function run_inline_js() {\n",
       "    \n",
       "    if (root.Bokeh !== undefined || force === true) {\n",
       "      \n",
       "    for (var i = 0; i < inline_js.length; i++) {\n",
       "      inline_js[i].call(root, root.Bokeh);\n",
       "    }\n",
       "    if (force === true) {\n",
       "        display_loaded();\n",
       "      }} else if (Date.now() < root._bokeh_timeout) {\n",
       "      setTimeout(run_inline_js, 100);\n",
       "    } else if (!root._bokeh_failed_load) {\n",
       "      console.log(\"Bokeh: BokehJS failed to load within specified timeout.\");\n",
       "      root._bokeh_failed_load = true;\n",
       "    } else if (force !== true) {\n",
       "      var cell = $(document.getElementById(\"103521\")).parents('.cell').data().cell;\n",
       "      cell.output_area.append_execute_result(NB_LOAD_WARNING)\n",
       "    }\n",
       "\n",
       "  }\n",
       "\n",
       "  if (root._bokeh_is_loading === 0) {\n",
       "    console.debug(\"Bokeh: BokehJS loaded, going straight to plotting\");\n",
       "    run_inline_js();\n",
       "  } else {\n",
       "    load_libs(css_urls, js_urls, function() {\n",
       "      console.debug(\"Bokeh: BokehJS plotting callback run at\", now());\n",
       "      run_inline_js();\n",
       "    });\n",
       "  }\n",
       "}(window));"
      ],
      "application/vnd.bokehjs_load.v0+json": "\n(function(root) {\n  function now() {\n    return new Date();\n  }\n\n  var force = true;\n\n  if (typeof root._bokeh_onload_callbacks === \"undefined\" || force === true) {\n    root._bokeh_onload_callbacks = [];\n    root._bokeh_is_loading = undefined;\n  }\n\n  \n\n  \n  if (typeof (root._bokeh_timeout) === \"undefined\" || force === true) {\n    root._bokeh_timeout = Date.now() + 5000;\n    root._bokeh_failed_load = false;\n  }\n\n  var NB_LOAD_WARNING = {'data': {'text/html':\n     \"<div style='background-color: #fdd'>\\n\"+\n     \"<p>\\n\"+\n     \"BokehJS does not appear to have successfully loaded. If loading BokehJS from CDN, this \\n\"+\n     \"may be due to a slow or bad network connection. Possible fixes:\\n\"+\n     \"</p>\\n\"+\n     \"<ul>\\n\"+\n     \"<li>re-rerun `output_notebook()` to attempt to load from CDN again, or</li>\\n\"+\n     \"<li>use INLINE resources instead, as so:</li>\\n\"+\n     \"</ul>\\n\"+\n     \"<code>\\n\"+\n     \"from bokeh.resources import INLINE\\n\"+\n     \"output_notebook(resources=INLINE)\\n\"+\n     \"</code>\\n\"+\n     \"</div>\"}};\n\n  function display_loaded() {\n    var el = document.getElementById(\"103521\");\n    if (el != null) {\n      el.textContent = \"BokehJS is loading...\";\n    }\n    if (root.Bokeh !== undefined) {\n      if (el != null) {\n        el.textContent = \"BokehJS \" + root.Bokeh.version + \" successfully loaded.\";\n      }\n    } else if (Date.now() < root._bokeh_timeout) {\n      setTimeout(display_loaded, 100)\n    }\n  }\n\n\n  function run_callbacks() {\n    try {\n      root._bokeh_onload_callbacks.forEach(function(callback) {\n        if (callback != null)\n          callback();\n      });\n    } finally {\n      delete root._bokeh_onload_callbacks\n    }\n    console.debug(\"Bokeh: all callbacks have finished\");\n  }\n\n  function load_libs(css_urls, js_urls, callback) {\n    if (css_urls == null) css_urls = [];\n    if (js_urls == null) js_urls = [];\n\n    root._bokeh_onload_callbacks.push(callback);\n    if (root._bokeh_is_loading > 0) {\n      console.debug(\"Bokeh: BokehJS is being loaded, scheduling callback at\", now());\n      return null;\n    }\n    if (js_urls == null || js_urls.length === 0) {\n      run_callbacks();\n      return null;\n    }\n    console.debug(\"Bokeh: BokehJS not loaded, scheduling load and callback at\", now());\n    root._bokeh_is_loading = css_urls.length + js_urls.length;\n\n    function on_load() {\n      root._bokeh_is_loading--;\n      if (root._bokeh_is_loading === 0) {\n        console.debug(\"Bokeh: all BokehJS libraries/stylesheets loaded\");\n        run_callbacks()\n      }\n    }\n\n    function on_error() {\n      console.error(\"failed to load \" + url);\n    }\n\n    for (var i = 0; i < css_urls.length; i++) {\n      var url = css_urls[i];\n      const element = document.createElement(\"link\");\n      element.onload = on_load;\n      element.onerror = on_error;\n      element.rel = \"stylesheet\";\n      element.type = \"text/css\";\n      element.href = url;\n      console.debug(\"Bokeh: injecting link tag for BokehJS stylesheet: \", url);\n      document.body.appendChild(element);\n    }\n\n    const hashes = {\"https://cdn.bokeh.org/bokeh/release/bokeh-2.0.2.min.js\": \"ufR9RFnRs6lniiaFvtJziE0YeidtAgBRH6ux2oUItHw5WTvE1zuk9uzhUU/FJXDp\", \"https://cdn.bokeh.org/bokeh/release/bokeh-widgets-2.0.2.min.js\": \"8QM/PGWBT+IssZuRcDcjzwIh1mkOmJSoNMmyYDZbCfXJg3Ap1lEvdVgFuSAwhb/J\", \"https://cdn.bokeh.org/bokeh/release/bokeh-tables-2.0.2.min.js\": \"Jm8cH3Rg0P6UeZhVY5cLy1WzKajUT9KImCY+76hEqrcJt59/d8GPvFHjCkYgnSIn\", \"https://cdn.bokeh.org/bokeh/release/bokeh-gl-2.0.2.min.js\": \"Ozhzj+SI7ywm74aOI/UajcWz+C0NjsPunEVyVIrxzYkB+jA+2tUw8x5xJCbVtK5I\"};\n\n    for (var i = 0; i < js_urls.length; i++) {\n      var url = js_urls[i];\n      var element = document.createElement('script');\n      element.onload = on_load;\n      element.onerror = on_error;\n      element.async = false;\n      element.src = url;\n      if (url in hashes) {\n        element.crossOrigin = \"anonymous\";\n        element.integrity = \"sha384-\" + hashes[url];\n      }\n      console.debug(\"Bokeh: injecting script tag for BokehJS library: \", url);\n      document.head.appendChild(element);\n    }\n  };\n\n  function inject_raw_css(css) {\n    const element = document.createElement(\"style\");\n    element.appendChild(document.createTextNode(css));\n    document.body.appendChild(element);\n  }\n\n  \n  var js_urls = [\"https://cdn.bokeh.org/bokeh/release/bokeh-2.0.2.min.js\", \"https://cdn.bokeh.org/bokeh/release/bokeh-widgets-2.0.2.min.js\", \"https://cdn.bokeh.org/bokeh/release/bokeh-tables-2.0.2.min.js\", \"https://cdn.bokeh.org/bokeh/release/bokeh-gl-2.0.2.min.js\"];\n  var css_urls = [];\n  \n\n  var inline_js = [\n    function(Bokeh) {\n      Bokeh.set_log_level(\"info\");\n    },\n    function(Bokeh) {\n    \n    \n    }\n  ];\n\n  function run_inline_js() {\n    \n    if (root.Bokeh !== undefined || force === true) {\n      \n    for (var i = 0; i < inline_js.length; i++) {\n      inline_js[i].call(root, root.Bokeh);\n    }\n    if (force === true) {\n        display_loaded();\n      }} else if (Date.now() < root._bokeh_timeout) {\n      setTimeout(run_inline_js, 100);\n    } else if (!root._bokeh_failed_load) {\n      console.log(\"Bokeh: BokehJS failed to load within specified timeout.\");\n      root._bokeh_failed_load = true;\n    } else if (force !== true) {\n      var cell = $(document.getElementById(\"103521\")).parents('.cell').data().cell;\n      cell.output_area.append_execute_result(NB_LOAD_WARNING)\n    }\n\n  }\n\n  if (root._bokeh_is_loading === 0) {\n    console.debug(\"Bokeh: BokehJS loaded, going straight to plotting\");\n    run_inline_js();\n  } else {\n    load_libs(css_urls, js_urls, function() {\n      console.debug(\"Bokeh: BokehJS plotting callback run at\", now());\n      run_inline_js();\n    });\n  }\n}(window));"
     },
     "metadata": {},
     "output_type": "display_data"
    }
   ],
   "source": [
    "# load bokeh\n",
    "from bokeh.io import output_notebook\n",
    "from bokeh.plotting import figure, show \n",
    "from bokeh.models import Range1d, ColumnDataSource, CategoricalColorMapper\n",
    "from bokeh.palettes import Category10\n",
    "\n",
    "output_notebook()"
   ]
  },
  {
   "cell_type": "code",
   "execution_count": 150,
   "metadata": {},
   "outputs": [
    {
     "name": "stdout",
     "output_type": "stream",
     "text": [
      "sqlite:///../data/processed/covid.sqlite\n"
     ]
    }
   ],
   "source": [
    "# function for querying db\n",
    "from src.data.query_db import queryDB\n",
    "qdb = queryDB('sqlite','../data/processed/covid.sqlite')"
   ]
  },
  {
   "cell_type": "code",
   "execution_count": 151,
   "metadata": {},
   "outputs": [
    {
     "name": "stdout",
     "output_type": "stream",
     "text": [
      "5 rows affected\n"
     ]
    },
    {
     "data": {
      "text/html": [
       "<div>\n",
       "<style scoped>\n",
       "    .dataframe tbody tr th:only-of-type {\n",
       "        vertical-align: middle;\n",
       "    }\n",
       "\n",
       "    .dataframe tbody tr th {\n",
       "        vertical-align: top;\n",
       "    }\n",
       "\n",
       "    .dataframe thead th {\n",
       "        text-align: right;\n",
       "    }\n",
       "</style>\n",
       "<table border=\"1\" class=\"dataframe\">\n",
       "  <thead>\n",
       "    <tr style=\"text-align: right;\">\n",
       "      <th></th>\n",
       "      <th>country</th>\n",
       "      <th>date</th>\n",
       "      <th>confirmed</th>\n",
       "      <th>death</th>\n",
       "      <th>recovered</th>\n",
       "    </tr>\n",
       "  </thead>\n",
       "  <tbody>\n",
       "    <tr>\n",
       "      <th>0</th>\n",
       "      <td>Afghanistan</td>\n",
       "      <td>2020-01-22</td>\n",
       "      <td>0</td>\n",
       "      <td>0</td>\n",
       "      <td>0</td>\n",
       "    </tr>\n",
       "    <tr>\n",
       "      <th>1</th>\n",
       "      <td>Albania</td>\n",
       "      <td>2020-01-22</td>\n",
       "      <td>0</td>\n",
       "      <td>0</td>\n",
       "      <td>0</td>\n",
       "    </tr>\n",
       "    <tr>\n",
       "      <th>2</th>\n",
       "      <td>Algeria</td>\n",
       "      <td>2020-01-22</td>\n",
       "      <td>0</td>\n",
       "      <td>0</td>\n",
       "      <td>0</td>\n",
       "    </tr>\n",
       "    <tr>\n",
       "      <th>3</th>\n",
       "      <td>Andorra</td>\n",
       "      <td>2020-01-22</td>\n",
       "      <td>0</td>\n",
       "      <td>0</td>\n",
       "      <td>0</td>\n",
       "    </tr>\n",
       "    <tr>\n",
       "      <th>4</th>\n",
       "      <td>Angola</td>\n",
       "      <td>2020-01-22</td>\n",
       "      <td>0</td>\n",
       "      <td>0</td>\n",
       "      <td>0</td>\n",
       "    </tr>\n",
       "  </tbody>\n",
       "</table>\n",
       "</div>"
      ],
      "text/plain": [
       "       country       date  confirmed  death  recovered\n",
       "0  Afghanistan 2020-01-22          0      0          0\n",
       "1      Albania 2020-01-22          0      0          0\n",
       "2      Algeria 2020-01-22          0      0          0\n",
       "3      Andorra 2020-01-22          0      0          0\n",
       "4       Angola 2020-01-22          0      0          0"
      ]
     },
     "execution_count": 151,
     "metadata": {},
     "output_type": "execute_result"
    }
   ],
   "source": [
    "# quick check\n",
    "qdb.execute_query('SELECT * FROM stats LIMIT 5;')"
   ]
  },
  {
   "cell_type": "markdown",
   "metadata": {},
   "source": [
    "### 1. Total Numbers"
   ]
  },
  {
   "cell_type": "code",
   "execution_count": 6,
   "metadata": {},
   "outputs": [
    {
     "name": "stdout",
     "output_type": "stream",
     "text": [
      "112 rows affected\n"
     ]
    }
   ],
   "source": [
    "# get overall numbers\n",
    "query = \"\"\"\n",
    "SELECT \n",
    "    DATE(date) AS date,\n",
    "    SUM(confirmed) AS confirmed,\n",
    "    SUM(death) AS death,\n",
    "    SUM(recovered) AS recovered\n",
    "FROM stats\n",
    "GROUP BY date\n",
    "ORDER BY date DESC;\n",
    "\"\"\"\n",
    "\n",
    "overall = qdb.execute_query(query)"
   ]
  },
  {
   "cell_type": "code",
   "execution_count": 7,
   "metadata": {},
   "outputs": [
    {
     "data": {
      "text/html": [
       "\n",
       "\n",
       "\n",
       "\n",
       "\n",
       "\n",
       "  <div class=\"bk-root\" id=\"967558e9-554d-4218-86cb-8c8a007580ad\" data-root-id=\"1003\"></div>\n"
      ]
     },
     "metadata": {},
     "output_type": "display_data"
    },
    {
     "data": {
      "application/javascript": [
       "(function(root) {\n",
       "  function embed_document(root) {\n",
       "    \n",
       "  var docs_json = {\"0a86391e-4522-4cff-b36e-4c44493cce0e\":{\"roots\":{\"references\":[{\"attributes\":{\"below\":[{\"id\":\"1014\"}],\"center\":[{\"id\":\"1017\"},{\"id\":\"1021\"},{\"id\":\"1059\"}],\"left\":[{\"id\":\"1018\"}],\"plot_height\":400,\"plot_width\":700,\"renderers\":[{\"id\":\"1039\"},{\"id\":\"1064\"},{\"id\":\"1090\"}],\"title\":{\"id\":\"1004\"},\"toolbar\":{\"id\":\"1029\"},\"x_range\":{\"id\":\"1006\"},\"x_scale\":{\"id\":\"1010\"},\"y_range\":{\"id\":\"1008\"},\"y_scale\":{\"id\":\"1012\"}},\"id\":\"1003\",\"subtype\":\"Figure\",\"type\":\"Plot\"},{\"attributes\":{\"axis_label\":\"Persons\",\"formatter\":{\"id\":\"1045\"},\"ticker\":{\"id\":\"1019\"}},\"id\":\"1018\",\"type\":\"LinearAxis\"},{\"attributes\":{},\"id\":\"1073\",\"type\":\"Selection\"},{\"attributes\":{},\"id\":\"1019\",\"type\":\"BasicTicker\"},{\"attributes\":{\"label\":{\"value\":\"death\"},\"renderers\":[{\"id\":\"1064\"}]},\"id\":\"1086\",\"type\":\"LegendItem\"},{\"attributes\":{\"axis\":{\"id\":\"1018\"},\"dimension\":1,\"ticker\":null},\"id\":\"1021\",\"type\":\"Grid\"},{\"attributes\":{\"data_source\":{\"id\":\"1002\"},\"glyph\":{\"id\":\"1088\"},\"hover_glyph\":null,\"muted_glyph\":null,\"nonselection_glyph\":{\"id\":\"1089\"},\"selection_glyph\":null,\"view\":{\"id\":\"1091\"}},\"id\":\"1090\",\"type\":\"GlyphRenderer\"},{\"attributes\":{\"axis\":{\"id\":\"1014\"},\"ticker\":null},\"id\":\"1017\",\"type\":\"Grid\"},{\"attributes\":{\"base\":60,\"mantissas\":[1,2,5,10,15,20,30],\"max_interval\":1800000.0,\"min_interval\":1000.0,\"num_minor_ticks\":0},\"id\":\"1048\",\"type\":\"AdaptiveTicker\"},{\"attributes\":{\"base\":24,\"mantissas\":[1,2,4,6,8,12],\"max_interval\":43200000.0,\"min_interval\":3600000.0,\"num_minor_ticks\":0},\"id\":\"1049\",\"type\":\"AdaptiveTicker\"},{\"attributes\":{\"line_alpha\":0.1,\"line_color\":\"red\",\"line_width\":2,\"x\":{\"field\":\"date\"},\"y\":{\"field\":\"confirmed\"}},\"id\":\"1038\",\"type\":\"Line\"},{\"attributes\":{\"days\":[1,2,3,4,5,6,7,8,9,10,11,12,13,14,15,16,17,18,19,20,21,22,23,24,25,26,27,28,29,30,31]},\"id\":\"1050\",\"type\":\"DaysTicker\"},{\"attributes\":{\"label\":{\"value\":\"recovered\"},\"renderers\":[{\"id\":\"1090\"}]},\"id\":\"1112\",\"type\":\"LegendItem\"},{\"attributes\":{\"days\":[1,15]},\"id\":\"1053\",\"type\":\"DaysTicker\"},{\"attributes\":{},\"id\":\"1022\",\"type\":\"PanTool\"},{\"attributes\":{},\"id\":\"1010\",\"type\":\"LinearScale\"},{\"attributes\":{},\"id\":\"1012\",\"type\":\"LinearScale\"},{\"attributes\":{\"months\":[0,1,2,3,4,5,6,7,8,9,10,11]},\"id\":\"1054\",\"type\":\"MonthsTicker\"},{\"attributes\":{},\"id\":\"1023\",\"type\":\"WheelZoomTool\"},{\"attributes\":{\"line_color\":\"green\",\"line_width\":2,\"x\":{\"field\":\"date\"},\"y\":{\"field\":\"recovered\"}},\"id\":\"1088\",\"type\":\"Line\"},{\"attributes\":{\"source\":{\"id\":\"1002\"}},\"id\":\"1091\",\"type\":\"CDSView\"},{\"attributes\":{\"months\":[0,2,4,6,8,10]},\"id\":\"1055\",\"type\":\"MonthsTicker\"},{\"attributes\":{\"overlay\":{\"id\":\"1028\"}},\"id\":\"1024\",\"type\":\"BoxZoomTool\"},{\"attributes\":{\"data\":{\"confirmed\":[4260107,4175897,4100108,4022426,3936482,3844136,3754492,3661114,3581479,3505157,3426040,3344031,3255383,3170767,3095718,3022221,2953549,2879688,2794307,2707013,2623257,2547721,2470408,2399505,2316012,2238433,2150622,2054316,1974458,1904156,1834141,1735028,1656979,1564650,1479327,1395547,1320570,1248877,1175203,1095046,1012631,931804,856782,781692,719482,660048,592661,528939,467039,417394,377570,336306,303868,271551,241919,214163,196428,180918,166764,155412,144517,127646,125169,117914,112884,109115,105141,101095,97180,94414,92134,89601,87664,85306,83407,82041,80683,79715,78870,78267,77938,76185,75563,75018,74594,72804,70869,68745,66667,60193,45046,44667,42627,40086,37059,34330,30794,27635,23892,19881,16787,12038,9927,8234,6166,5578,2927,2118,1434,941,654,555],\"date\":{\"__ndarray__\":\"AACA5WIgd0IAAMB/ECB3QgAAABq+H3dCAABAtGsfd0IAAIBOGR93QgAAwOjGHndCAAAAg3Qed0IAAEAdIh53QgAAgLfPHXdCAADAUX0dd0IAAADsKh13QgAAQIbYHHdCAACAIIYcd0IAAMC6Mxx3QgAAAFXhG3dCAABA744bd0IAAICJPBt3QgAAwCPqGndCAAAAvpcad0IAAEBYRRp3QgAAgPLyGXdCAADAjKAZd0IAAAAnThl3QgAAQMH7GHdCAACAW6kYd0IAAMD1Vhh3QgAAAJAEGHdCAABAKrIXd0IAAIDEXxd3QgAAwF4NF3dCAAAA+boWd0IAAECTaBZ3QgAAgC0WFndCAADAx8MVd0IAAABicRV3QgAAQPweFXdCAACAlswUd0IAAMAwehR3QgAAAMsnFHdCAABAZdUTd0IAAID/ghN3QgAAwJkwE3dCAAAANN4Sd0IAAEDOixJ3QgAAgGg5EndCAADAAucRd0IAAACdlBF3QgAAQDdCEXdCAACA0e8Qd0IAAMBrnRB3QgAAAAZLEHdCAABAoPgPd0IAAIA6pg93QgAAwNRTD3dCAAAAbwEPd0IAAEAJrw53QgAAgKNcDndCAADAPQoOd0IAAADYtw13QgAAQHJlDXdCAACADBMNd0IAAMCmwAx3QgAAAEFuDHdCAABA2xsMd0IAAIB1yQt3QgAAwA93C3dCAAAAqiQLd0IAAEBE0gp3QgAAgN5/CndCAADAeC0Kd0IAAAAT2wl3QgAAQK2ICXdCAACARzYJd0IAAMDh4wh3QgAAAHyRCHdCAABAFj8Id0IAAICw7Ad3QgAAwEqaB3dCAAAA5UcHd0IAAEB/9QZ3QgAAgBmjBndCAADAs1AGd0IAAABO/gV3QgAAQOirBXdCAACAglkFd0IAAMAcBwV3QgAAALe0BHdCAABAUWIEd0IAAIDrDwR3QgAAwIW9A3dCAAAAIGsDd0IAAEC6GAN3QgAAgFTGAndCAADA7nMCd0IAAACJIQJ3QgAAQCPPAXdCAACAvXwBd0IAAMBXKgF3QgAAAPLXAHdCAABAjIUAd0IAAIAmMwB3QgAAwMDg/3ZCAAAAW47/dkIAAED1O/92QgAAgI/p/nZCAADAKZf+dkIAAADERP52QgAAQF7y/XZCAACA+J/9dkIAAMCSTf12QgAAAC37/HZCAABAx6j8dkI=\",\"dtype\":\"float64\",\"shape\":[112]},\"death\":[291898,286287,282666,279268,274856,269525,263814,257198,251496,247433,243776,238582,233323,227628,220764,214407,209864,206152,199963,193631,186879,180203,173067,167745,163187,156777,147921,140637,132417,125541,119833,114126,108093,100864,93336,86645,78753,73063,67967,61798,55803,49661,44227,39428,35312,31787,28277,24777,21775,19004,16751,14817,13117,11415,9939,8816,7949,7143,6465,5823,5401,4715,4607,4257,3981,3795,3552,3453,3341,3248,3154,3079,2990,2935,2866,2810,2766,2705,2626,2466,2456,2249,2245,2122,2007,1868,1770,1666,1523,1371,1118,1113,1013,906,806,719,634,564,492,426,362,259,213,171,133,131,82,56,42,26,18,17],\"index\":[0,1,2,3,4,5,6,7,8,9,10,11,12,13,14,15,16,17,18,19,20,21,22,23,24,25,26,27,28,29,30,31,32,33,34,35,36,37,38,39,40,41,42,43,44,45,46,47,48,49,50,51,52,53,54,55,56,57,58,59,60,61,62,63,64,65,66,67,68,69,70,71,72,73,74,75,76,77,78,79,80,81,82,83,84,85,86,87,88,89,90,91,92,93,94,95,96,97,98,99,100,101,102,103,104,105,106,107,108,109,110,111],\"recovered\":[1492092,1454903,1407676,1374357,1320843,1283534,1244278,1197697,1161676,1124210,1092156,1051499,1012970,947531,906078,872831,845174,816595,788778,738176,709264,679133,644541,622561,590982,567037,540869,509811,473275,447995,421045,401443,375433,353340,328054,299411,275892,259381,245517,225185,209640,192585,177425,163962,148478,138817,130317,121553,113200,107675,98026,97574,91367,87095,84650,82987,80515,77763,75709,72299,69926,67999,66678,64364,62454,60654,58318,55825,53786,51160,48218,45592,42706,39772,36701,33267,30374,27905,25227,23394,22885,18889,18176,16120,14352,12583,10865,9395,8058,6295,5150,4683,3946,3244,2616,2011,1487,1124,852,623,472,284,222,143,126,107,61,52,39,36,30,28]},\"selected\":{\"id\":\"1073\"},\"selection_policy\":{\"id\":\"1072\"}},\"id\":\"1002\",\"type\":\"ColumnDataSource\"},{\"attributes\":{\"months\":[0,4,8]},\"id\":\"1056\",\"type\":\"MonthsTicker\"},{\"attributes\":{},\"id\":\"1025\",\"type\":\"SaveTool\"},{\"attributes\":{\"axis_label\":\"Date\",\"formatter\":{\"id\":\"1043\"},\"ticker\":{\"id\":\"1015\"}},\"id\":\"1014\",\"type\":\"DatetimeAxis\"},{\"attributes\":{\"months\":[0,6]},\"id\":\"1057\",\"type\":\"MonthsTicker\"},{\"attributes\":{},\"id\":\"1026\",\"type\":\"ResetTool\"},{\"attributes\":{\"source\":{\"id\":\"1002\"}},\"id\":\"1040\",\"type\":\"CDSView\"},{\"attributes\":{},\"id\":\"1058\",\"type\":\"YearsTicker\"},{\"attributes\":{},\"id\":\"1027\",\"type\":\"HelpTool\"},{\"attributes\":{\"click_policy\":\"hide\",\"items\":[{\"id\":\"1060\"},{\"id\":\"1086\"},{\"id\":\"1112\"}],\"location\":\"top_left\"},\"id\":\"1059\",\"type\":\"Legend\"},{\"attributes\":{\"days\":[1,8,15,22]},\"id\":\"1052\",\"type\":\"DaysTicker\"},{\"attributes\":{\"active_drag\":\"auto\",\"active_inspect\":\"auto\",\"active_multi\":null,\"active_scroll\":\"auto\",\"active_tap\":\"auto\",\"tools\":[{\"id\":\"1022\"},{\"id\":\"1023\"},{\"id\":\"1024\"},{\"id\":\"1025\"},{\"id\":\"1026\"},{\"id\":\"1027\"}]},\"id\":\"1029\",\"type\":\"Toolbar\"},{\"attributes\":{\"line_alpha\":0.1,\"line_color\":\"green\",\"line_width\":2,\"x\":{\"field\":\"date\"},\"y\":{\"field\":\"recovered\"}},\"id\":\"1089\",\"type\":\"Line\"},{\"attributes\":{\"label\":{\"value\":\"confirmed\"},\"renderers\":[{\"id\":\"1039\"}]},\"id\":\"1060\",\"type\":\"LegendItem\"},{\"attributes\":{\"bottom_units\":\"screen\",\"fill_alpha\":0.5,\"fill_color\":\"lightgrey\",\"left_units\":\"screen\",\"level\":\"overlay\",\"line_alpha\":1.0,\"line_color\":\"black\",\"line_dash\":[4,4],\"line_width\":2,\"render_mode\":\"css\",\"right_units\":\"screen\",\"top_units\":\"screen\"},\"id\":\"1028\",\"type\":\"BoxAnnotation\"},{\"attributes\":{\"num_minor_ticks\":5,\"tickers\":[{\"id\":\"1047\"},{\"id\":\"1048\"},{\"id\":\"1049\"},{\"id\":\"1050\"},{\"id\":\"1051\"},{\"id\":\"1052\"},{\"id\":\"1053\"},{\"id\":\"1054\"},{\"id\":\"1055\"},{\"id\":\"1056\"},{\"id\":\"1057\"},{\"id\":\"1058\"}]},\"id\":\"1015\",\"type\":\"DatetimeTicker\"},{\"attributes\":{\"days\":[1,4,7,10,13,16,19,22,25,28]},\"id\":\"1051\",\"type\":\"DaysTicker\"},{\"attributes\":{\"line_alpha\":0.1,\"line_color\":\"blue\",\"line_width\":2,\"x\":{\"field\":\"date\"},\"y\":{\"field\":\"death\"}},\"id\":\"1063\",\"type\":\"Line\"},{\"attributes\":{\"data_source\":{\"id\":\"1002\"},\"glyph\":{\"id\":\"1037\"},\"hover_glyph\":null,\"muted_glyph\":null,\"nonselection_glyph\":{\"id\":\"1038\"},\"selection_glyph\":null,\"view\":{\"id\":\"1040\"}},\"id\":\"1039\",\"type\":\"GlyphRenderer\"},{\"attributes\":{},\"id\":\"1008\",\"type\":\"DataRange1d\"},{\"attributes\":{\"text\":\"Covid Progress\"},\"id\":\"1004\",\"type\":\"Title\"},{\"attributes\":{\"source\":{\"id\":\"1002\"}},\"id\":\"1065\",\"type\":\"CDSView\"},{\"attributes\":{\"line_color\":\"red\",\"line_width\":2,\"x\":{\"field\":\"date\"},\"y\":{\"field\":\"confirmed\"}},\"id\":\"1037\",\"type\":\"Line\"},{\"attributes\":{},\"id\":\"1043\",\"type\":\"DatetimeTickFormatter\"},{\"attributes\":{},\"id\":\"1072\",\"type\":\"UnionRenderers\"},{\"attributes\":{},\"id\":\"1006\",\"type\":\"DataRange1d\"},{\"attributes\":{},\"id\":\"1045\",\"type\":\"BasicTickFormatter\"},{\"attributes\":{\"line_color\":\"blue\",\"line_width\":2,\"x\":{\"field\":\"date\"},\"y\":{\"field\":\"death\"}},\"id\":\"1062\",\"type\":\"Line\"},{\"attributes\":{\"data_source\":{\"id\":\"1002\"},\"glyph\":{\"id\":\"1062\"},\"hover_glyph\":null,\"muted_glyph\":null,\"nonselection_glyph\":{\"id\":\"1063\"},\"selection_glyph\":null,\"view\":{\"id\":\"1065\"}},\"id\":\"1064\",\"type\":\"GlyphRenderer\"},{\"attributes\":{\"mantissas\":[1,2,5],\"max_interval\":500.0,\"num_minor_ticks\":0},\"id\":\"1047\",\"type\":\"AdaptiveTicker\"}],\"root_ids\":[\"1003\"]},\"title\":\"Bokeh Application\",\"version\":\"2.0.2\"}};\n",
       "  var render_items = [{\"docid\":\"0a86391e-4522-4cff-b36e-4c44493cce0e\",\"root_ids\":[\"1003\"],\"roots\":{\"1003\":\"967558e9-554d-4218-86cb-8c8a007580ad\"}}];\n",
       "  root.Bokeh.embed.embed_items_notebook(docs_json, render_items);\n",
       "\n",
       "  }\n",
       "  if (root.Bokeh !== undefined) {\n",
       "    embed_document(root);\n",
       "  } else {\n",
       "    var attempts = 0;\n",
       "    var timer = setInterval(function(root) {\n",
       "      if (root.Bokeh !== undefined) {\n",
       "        clearInterval(timer);\n",
       "        embed_document(root);\n",
       "      } else {\n",
       "        attempts++;\n",
       "        if (attempts > 100) {\n",
       "          clearInterval(timer);\n",
       "          console.log(\"Bokeh: ERROR: Unable to run BokehJS code because BokehJS library is missing\");\n",
       "        }\n",
       "      }\n",
       "    }, 10, root)\n",
       "  }\n",
       "})(window);"
      ],
      "application/vnd.bokehjs_exec.v0+json": ""
     },
     "metadata": {
      "application/vnd.bokehjs_exec.v0+json": {
       "id": "1003"
      }
     },
     "output_type": "display_data"
    }
   ],
   "source": [
    "#set source\n",
    "source = ColumnDataSource(overall)\n",
    "\n",
    "# create the plot\n",
    "p = figure(title = 'Covid Progress', \n",
    "           x_axis_type=\"datetime\",\n",
    "           x_axis_label = 'Date',\n",
    "           y_axis_label = 'Persons',\n",
    "           plot_height = 400,\n",
    "           plot_width = 700)\n",
    "\n",
    "p.line(x='date', y='confirmed', line_width=2, source=source, color='red', legend_label='confirmed')\n",
    "p.line(x='date', y='death', line_width=2, source=source, color='blue', legend_label = 'death')\n",
    "p.line(x='date', y='recovered', line_width=2, source=source, color='green', legend_label = 'recovered')\n",
    "\n",
    "\n",
    "p.legend.location = \"top_left\"\n",
    "p.legend.click_policy=\"hide\"\n",
    "\n",
    "show(p)"
   ]
  },
  {
   "cell_type": "markdown",
   "metadata": {},
   "source": [
    "#### 2. Top countries\n",
    "***"
   ]
  },
  {
   "cell_type": "code",
   "execution_count": 8,
   "metadata": {},
   "outputs": [],
   "source": [
    "# barplot with top-10 countries\n",
    "def plotTop10(data, vals = 'confirmed', title = 'Top 10 countries with Covid'):\n",
    "    #set source\n",
    "    source = ColumnDataSource(data)\n",
    "\n",
    "    p = figure(y_range=data['country'].iloc[::-1], plot_height=350, title=title,\n",
    "               toolbar_location=None, tools=\"\")\n",
    "\n",
    "    p.hbar(y='country', right=vals, source = source, height=0.8)\n",
    "\n",
    "    p.ygrid.grid_line_color = None\n",
    "    p.x_range.start = 0\n",
    "\n",
    "    show(p)"
   ]
  },
  {
   "cell_type": "code",
   "execution_count": 9,
   "metadata": {},
   "outputs": [
    {
     "name": "stdout",
     "output_type": "stream",
     "text": [
      "10 rows affected\n"
     ]
    }
   ],
   "source": [
    "# get overall numbers\n",
    "query = \"\"\"\n",
    "SELECT\n",
    "    country, \n",
    "    confirmed,\n",
    "    death,\n",
    "    recovered\n",
    "FROM stats\n",
    "WHERE date = (SELECT MAX(date) FROM stats)\n",
    "ORDER BY confirmed DESC\n",
    "LIMIT 10;\n",
    "\"\"\"\n",
    "\n",
    "top10 = qdb.execute_query(query)"
   ]
  },
  {
   "cell_type": "code",
   "execution_count": 10,
   "metadata": {},
   "outputs": [
    {
     "data": {
      "text/html": [
       "\n",
       "\n",
       "\n",
       "\n",
       "\n",
       "\n",
       "  <div class=\"bk-root\" id=\"aea0869a-313c-4b94-8df2-7e58c12dc979\" data-root-id=\"1254\"></div>\n"
      ]
     },
     "metadata": {},
     "output_type": "display_data"
    },
    {
     "data": {
      "application/javascript": [
       "(function(root) {\n",
       "  function embed_document(root) {\n",
       "    \n",
       "  var docs_json = {\"f8443272-7dff-4c63-ab97-891fc8fc21fc\":{\"roots\":{\"references\":[{\"attributes\":{\"below\":[{\"id\":\"1265\"}],\"center\":[{\"id\":\"1268\"},{\"id\":\"1271\"}],\"left\":[{\"id\":\"1269\"}],\"plot_height\":350,\"renderers\":[{\"id\":\"1276\"}],\"title\":{\"id\":\"1255\"},\"toolbar\":{\"id\":\"1272\"},\"toolbar_location\":null,\"x_range\":{\"id\":\"1257\"},\"x_scale\":{\"id\":\"1261\"},\"y_range\":{\"id\":\"1259\"},\"y_scale\":{\"id\":\"1263\"}},\"id\":\"1254\",\"subtype\":\"Figure\",\"type\":\"Plot\"},{\"attributes\":{\"data\":{\"confirmed\":[1369376,232243,228030,227741,221216,178349,178214,173171,141475,110767],\"country\":[\"United States\",\"Russia\",\"Spain\",\"United Kingdom\",\"Italy\",\"France\",\"Brazil\",\"Germany\",\"Turkey\",\"Iran\"],\"death\":[82356,2116,26920,32769,30911,26994,12461,7738,3894,6733],\"index\":[0,1,2,3,4,5,6,7,8,9],\"recovered\":[230287,43512,138980,1023,109039,57898,72597,147200,98889,88357]},\"selected\":{\"id\":\"1304\"},\"selection_policy\":{\"id\":\"1303\"}},\"id\":\"1253\",\"type\":\"ColumnDataSource\"},{\"attributes\":{},\"id\":\"1302\",\"type\":\"CategoricalTickFormatter\"},{\"attributes\":{\"fill_alpha\":{\"value\":0.1},\"fill_color\":{\"value\":\"#1f77b4\"},\"height\":{\"value\":0.8},\"line_alpha\":{\"value\":0.1},\"line_color\":{\"value\":\"#1f77b4\"},\"right\":{\"field\":\"confirmed\"},\"y\":{\"field\":\"country\"}},\"id\":\"1275\",\"type\":\"HBar\"},{\"attributes\":{},\"id\":\"1303\",\"type\":\"UnionRenderers\"},{\"attributes\":{},\"id\":\"1304\",\"type\":\"Selection\"},{\"attributes\":{\"fill_color\":{\"value\":\"#1f77b4\"},\"height\":{\"value\":0.8},\"line_color\":{\"value\":\"#1f77b4\"},\"right\":{\"field\":\"confirmed\"},\"y\":{\"field\":\"country\"}},\"id\":\"1274\",\"type\":\"HBar\"},{\"attributes\":{},\"id\":\"1266\",\"type\":\"BasicTicker\"},{\"attributes\":{},\"id\":\"1300\",\"type\":\"BasicTickFormatter\"},{\"attributes\":{},\"id\":\"1270\",\"type\":\"CategoricalTicker\"},{\"attributes\":{\"start\":0},\"id\":\"1257\",\"type\":\"DataRange1d\"},{\"attributes\":{\"axis\":{\"id\":\"1269\"},\"dimension\":1,\"grid_line_color\":null,\"ticker\":null},\"id\":\"1271\",\"type\":\"Grid\"},{\"attributes\":{\"formatter\":{\"id\":\"1302\"},\"ticker\":{\"id\":\"1270\"}},\"id\":\"1269\",\"type\":\"CategoricalAxis\"},{\"attributes\":{\"active_drag\":\"auto\",\"active_inspect\":\"auto\",\"active_multi\":null,\"active_scroll\":\"auto\",\"active_tap\":\"auto\"},\"id\":\"1272\",\"type\":\"Toolbar\"},{\"attributes\":{\"factors\":[\"Iran\",\"Turkey\",\"Germany\",\"Brazil\",\"France\",\"Italy\",\"United Kingdom\",\"Spain\",\"Russia\",\"United States\"]},\"id\":\"1259\",\"type\":\"FactorRange\"},{\"attributes\":{\"axis\":{\"id\":\"1265\"},\"ticker\":null},\"id\":\"1268\",\"type\":\"Grid\"},{\"attributes\":{\"text\":\"Top 10 countries with Covid\"},\"id\":\"1255\",\"type\":\"Title\"},{\"attributes\":{\"formatter\":{\"id\":\"1300\"},\"ticker\":{\"id\":\"1266\"}},\"id\":\"1265\",\"type\":\"LinearAxis\"},{\"attributes\":{\"data_source\":{\"id\":\"1253\"},\"glyph\":{\"id\":\"1274\"},\"hover_glyph\":null,\"muted_glyph\":null,\"nonselection_glyph\":{\"id\":\"1275\"},\"selection_glyph\":null,\"view\":{\"id\":\"1277\"}},\"id\":\"1276\",\"type\":\"GlyphRenderer\"},{\"attributes\":{},\"id\":\"1261\",\"type\":\"LinearScale\"},{\"attributes\":{\"source\":{\"id\":\"1253\"}},\"id\":\"1277\",\"type\":\"CDSView\"},{\"attributes\":{},\"id\":\"1263\",\"type\":\"CategoricalScale\"}],\"root_ids\":[\"1254\"]},\"title\":\"Bokeh Application\",\"version\":\"2.0.2\"}};\n",
       "  var render_items = [{\"docid\":\"f8443272-7dff-4c63-ab97-891fc8fc21fc\",\"root_ids\":[\"1254\"],\"roots\":{\"1254\":\"aea0869a-313c-4b94-8df2-7e58c12dc979\"}}];\n",
       "  root.Bokeh.embed.embed_items_notebook(docs_json, render_items);\n",
       "\n",
       "  }\n",
       "  if (root.Bokeh !== undefined) {\n",
       "    embed_document(root);\n",
       "  } else {\n",
       "    var attempts = 0;\n",
       "    var timer = setInterval(function(root) {\n",
       "      if (root.Bokeh !== undefined) {\n",
       "        clearInterval(timer);\n",
       "        embed_document(root);\n",
       "      } else {\n",
       "        attempts++;\n",
       "        if (attempts > 100) {\n",
       "          clearInterval(timer);\n",
       "          console.log(\"Bokeh: ERROR: Unable to run BokehJS code because BokehJS library is missing\");\n",
       "        }\n",
       "      }\n",
       "    }, 10, root)\n",
       "  }\n",
       "})(window);"
      ],
      "application/vnd.bokehjs_exec.v0+json": ""
     },
     "metadata": {
      "application/vnd.bokehjs_exec.v0+json": {
       "id": "1254"
      }
     },
     "output_type": "display_data"
    }
   ],
   "source": [
    "plotTop10(top10)"
   ]
  },
  {
   "cell_type": "code",
   "execution_count": 11,
   "metadata": {},
   "outputs": [],
   "source": [
    "# potential visual: show how the top 10 progates per day (popular barplot)"
   ]
  },
  {
   "cell_type": "markdown",
   "metadata": {},
   "source": [
    "#### 3. Daily Increment\n",
    "***"
   ]
  },
  {
   "cell_type": "code",
   "execution_count": 12,
   "metadata": {},
   "outputs": [
    {
     "name": "stdout",
     "output_type": "stream",
     "text": [
      "10 rows affected\n"
     ]
    }
   ],
   "source": [
    "# get overall numbers\n",
    "query = \"\"\"\n",
    "SELECT\n",
    "    country, \n",
    "    confirmed,\n",
    "    death,\n",
    "    recovered\n",
    "FROM daily_stats\n",
    "WHERE date = (SELECT MAX(date) FROM daily_stats)\n",
    "ORDER BY confirmed DESC\n",
    "LIMIT 10;\n",
    "\"\"\"\n",
    "\n",
    "top10_daily = qdb.execute_query(query)"
   ]
  },
  {
   "cell_type": "code",
   "execution_count": 13,
   "metadata": {},
   "outputs": [
    {
     "data": {
      "text/html": [
       "\n",
       "\n",
       "\n",
       "\n",
       "\n",
       "\n",
       "  <div class=\"bk-root\" id=\"f5c19fc4-57ca-4a27-a88e-ae2a80222c07\" data-root-id=\"1348\"></div>\n"
      ]
     },
     "metadata": {},
     "output_type": "display_data"
    },
    {
     "data": {
      "application/javascript": [
       "(function(root) {\n",
       "  function embed_document(root) {\n",
       "    \n",
       "  var docs_json = {\"9e6d6f97-cf65-43f9-b920-6e88f2842db7\":{\"roots\":{\"references\":[{\"attributes\":{\"below\":[{\"id\":\"1359\"}],\"center\":[{\"id\":\"1362\"},{\"id\":\"1365\"}],\"left\":[{\"id\":\"1363\"}],\"plot_height\":350,\"renderers\":[{\"id\":\"1370\"}],\"title\":{\"id\":\"1349\"},\"toolbar\":{\"id\":\"1366\"},\"toolbar_location\":null,\"x_range\":{\"id\":\"1351\"},\"x_scale\":{\"id\":\"1355\"},\"y_range\":{\"id\":\"1353\"},\"y_scale\":{\"id\":\"1357\"}},\"id\":\"1348\",\"subtype\":\"Figure\",\"type\":\"Plot\"},{\"attributes\":{\"source\":{\"id\":\"1347\"}},\"id\":\"1371\",\"type\":\"CDSView\"},{\"attributes\":{\"factors\":[\"Turkey\",\"Saudi Arabia\",\"Mexico\",\"Pakistan\",\"Peru\",\"United Kingdom\",\"India\",\"Brazil\",\"Russia\",\"United States\"]},\"id\":\"1353\",\"type\":\"FactorRange\"},{\"attributes\":{},\"id\":\"1403\",\"type\":\"CategoricalTickFormatter\"},{\"attributes\":{},\"id\":\"1404\",\"type\":\"UnionRenderers\"},{\"attributes\":{\"start\":0},\"id\":\"1351\",\"type\":\"DataRange1d\"},{\"attributes\":{},\"id\":\"1405\",\"type\":\"Selection\"},{\"attributes\":{},\"id\":\"1355\",\"type\":\"LinearScale\"},{\"attributes\":{},\"id\":\"1357\",\"type\":\"CategoricalScale\"},{\"attributes\":{\"formatter\":{\"id\":\"1401\"},\"ticker\":{\"id\":\"1360\"}},\"id\":\"1359\",\"type\":\"LinearAxis\"},{\"attributes\":{},\"id\":\"1360\",\"type\":\"BasicTicker\"},{\"attributes\":{\"axis\":{\"id\":\"1359\"},\"ticker\":null},\"id\":\"1362\",\"type\":\"Grid\"},{\"attributes\":{\"formatter\":{\"id\":\"1403\"},\"ticker\":{\"id\":\"1364\"}},\"id\":\"1363\",\"type\":\"CategoricalAxis\"},{\"attributes\":{\"data\":{\"confirmed\":[21495,10899,8620,3524,3409,3237,2255,1997,1911,1704],\"country\":[\"United States\",\"Russia\",\"Brazil\",\"India\",\"United Kingdom\",\"Peru\",\"Pakistan\",\"Mexico\",\"Saudi Arabia\",\"Turkey\"],\"death\":[1674,107,808,121,628,96,31,353,9,53],\"index\":[0,1,2,3,4,5,6,7,8,9],\"recovered\":[-2446,3711,5213,1871,8,918,257,2835,2520,3109]},\"selected\":{\"id\":\"1405\"},\"selection_policy\":{\"id\":\"1404\"}},\"id\":\"1347\",\"type\":\"ColumnDataSource\"},{\"attributes\":{},\"id\":\"1364\",\"type\":\"CategoricalTicker\"},{\"attributes\":{\"axis\":{\"id\":\"1363\"},\"dimension\":1,\"grid_line_color\":null,\"ticker\":null},\"id\":\"1365\",\"type\":\"Grid\"},{\"attributes\":{\"active_drag\":\"auto\",\"active_inspect\":\"auto\",\"active_multi\":null,\"active_scroll\":\"auto\",\"active_tap\":\"auto\"},\"id\":\"1366\",\"type\":\"Toolbar\"},{\"attributes\":{},\"id\":\"1401\",\"type\":\"BasicTickFormatter\"},{\"attributes\":{\"text\":\"most cases today\"},\"id\":\"1349\",\"type\":\"Title\"},{\"attributes\":{\"fill_alpha\":{\"value\":0.1},\"fill_color\":{\"value\":\"#1f77b4\"},\"height\":{\"value\":0.8},\"line_alpha\":{\"value\":0.1},\"line_color\":{\"value\":\"#1f77b4\"},\"right\":{\"field\":\"confirmed\"},\"y\":{\"field\":\"country\"}},\"id\":\"1369\",\"type\":\"HBar\"},{\"attributes\":{\"fill_color\":{\"value\":\"#1f77b4\"},\"height\":{\"value\":0.8},\"line_color\":{\"value\":\"#1f77b4\"},\"right\":{\"field\":\"confirmed\"},\"y\":{\"field\":\"country\"}},\"id\":\"1368\",\"type\":\"HBar\"},{\"attributes\":{\"data_source\":{\"id\":\"1347\"},\"glyph\":{\"id\":\"1368\"},\"hover_glyph\":null,\"muted_glyph\":null,\"nonselection_glyph\":{\"id\":\"1369\"},\"selection_glyph\":null,\"view\":{\"id\":\"1371\"}},\"id\":\"1370\",\"type\":\"GlyphRenderer\"}],\"root_ids\":[\"1348\"]},\"title\":\"Bokeh Application\",\"version\":\"2.0.2\"}};\n",
       "  var render_items = [{\"docid\":\"9e6d6f97-cf65-43f9-b920-6e88f2842db7\",\"root_ids\":[\"1348\"],\"roots\":{\"1348\":\"f5c19fc4-57ca-4a27-a88e-ae2a80222c07\"}}];\n",
       "  root.Bokeh.embed.embed_items_notebook(docs_json, render_items);\n",
       "\n",
       "  }\n",
       "  if (root.Bokeh !== undefined) {\n",
       "    embed_document(root);\n",
       "  } else {\n",
       "    var attempts = 0;\n",
       "    var timer = setInterval(function(root) {\n",
       "      if (root.Bokeh !== undefined) {\n",
       "        clearInterval(timer);\n",
       "        embed_document(root);\n",
       "      } else {\n",
       "        attempts++;\n",
       "        if (attempts > 100) {\n",
       "          clearInterval(timer);\n",
       "          console.log(\"Bokeh: ERROR: Unable to run BokehJS code because BokehJS library is missing\");\n",
       "        }\n",
       "      }\n",
       "    }, 10, root)\n",
       "  }\n",
       "})(window);"
      ],
      "application/vnd.bokehjs_exec.v0+json": ""
     },
     "metadata": {
      "application/vnd.bokehjs_exec.v0+json": {
       "id": "1348"
      }
     },
     "output_type": "display_data"
    }
   ],
   "source": [
    "plotTop10(top10_daily, vals = 'confirmed', title = 'most cases today')"
   ]
  },
  {
   "cell_type": "markdown",
   "metadata": {},
   "source": [
    "#### barplot with actual cases + line for MA\n",
    "source: https://medium.com/y-data-stories/the-beginners-guide-to-creating-interactive-dashboards-with-python-and-bokeh-part-i-3826ea197a1b"
   ]
  },
  {
   "cell_type": "code",
   "execution_count": 422,
   "metadata": {},
   "outputs": [
    {
     "name": "stdout",
     "output_type": "stream",
     "text": [
      "113 rows affected\n"
     ]
    }
   ],
   "source": [
    "daily_s = qdb.get_daily_stats_country('Netherlands')"
   ]
  },
  {
   "cell_type": "code",
   "execution_count": 423,
   "metadata": {},
   "outputs": [
    {
     "data": {
      "text/html": [
       "\n",
       "\n",
       "\n",
       "\n",
       "\n",
       "\n",
       "  <div class=\"bk-root\" id=\"4438954a-d4e8-4982-b31e-61310a80e792\" data-root-id=\"74125\"></div>\n"
      ]
     },
     "metadata": {},
     "output_type": "display_data"
    },
    {
     "data": {
      "application/javascript": [
       "(function(root) {\n",
       "  function embed_document(root) {\n",
       "    \n",
       "  var docs_json = {\"5b02984a-ffec-4be2-a09d-cb204eb6ff5e\":{\"roots\":{\"references\":[{\"attributes\":{\"below\":[{\"id\":\"74136\"}],\"center\":[{\"id\":\"74139\"},{\"id\":\"74143\"},{\"id\":\"74181\"}],\"left\":[{\"id\":\"74140\"}],\"plot_height\":400,\"plot_width\":700,\"renderers\":[{\"id\":\"74161\"},{\"id\":\"74186\"}],\"title\":{\"id\":\"74126\"},\"toolbar\":{\"id\":\"74151\"},\"x_range\":{\"id\":\"74128\"},\"x_scale\":{\"id\":\"74132\"},\"y_range\":{\"id\":\"74130\"},\"y_scale\":{\"id\":\"74134\"}},\"id\":\"74125\",\"subtype\":\"Figure\",\"type\":\"Plot\"},{\"attributes\":{\"overlay\":{\"id\":\"74150\"}},\"id\":\"74146\",\"type\":\"BoxZoomTool\"},{\"attributes\":{\"line_alpha\":0.1,\"line_color\":\"red\",\"line_width\":2,\"x\":{\"field\":\"date\"},\"y\":{\"field\":\"confirmed_ma\"}},\"id\":\"74185\",\"type\":\"Line\"},{\"attributes\":{},\"id\":\"74147\",\"type\":\"SaveTool\"},{\"attributes\":{\"data_source\":{\"id\":\"74124\"},\"glyph\":{\"id\":\"74184\"},\"hover_glyph\":null,\"muted_glyph\":null,\"nonselection_glyph\":{\"id\":\"74185\"},\"selection_glyph\":null,\"view\":{\"id\":\"74187\"}},\"id\":\"74186\",\"type\":\"GlyphRenderer\"},{\"attributes\":{\"start\":0},\"id\":\"74130\",\"type\":\"DataRange1d\"},{\"attributes\":{},\"id\":\"74194\",\"type\":\"UnionRenderers\"},{\"attributes\":{},\"id\":\"74148\",\"type\":\"ResetTool\"},{\"attributes\":{\"mantissas\":[1,2,5],\"max_interval\":500.0,\"num_minor_ticks\":0},\"id\":\"74169\",\"type\":\"AdaptiveTicker\"},{\"attributes\":{},\"id\":\"74132\",\"type\":\"LinearScale\"},{\"attributes\":{\"source\":{\"id\":\"74124\"}},\"id\":\"74187\",\"type\":\"CDSView\"},{\"attributes\":{\"days\":[1,4,7,10,13,16,19,22,25,28]},\"id\":\"74173\",\"type\":\"DaysTicker\"},{\"attributes\":{},\"id\":\"74149\",\"type\":\"HelpTool\"},{\"attributes\":{\"days\":[1,8,15,22]},\"id\":\"74174\",\"type\":\"DaysTicker\"},{\"attributes\":{},\"id\":\"74128\",\"type\":\"DataRange1d\"},{\"attributes\":{},\"id\":\"74195\",\"type\":\"Selection\"},{\"attributes\":{\"text\":\"Covid Progress\"},\"id\":\"74126\",\"type\":\"Title\"},{\"attributes\":{\"fill_alpha\":{\"value\":0.1},\"fill_color\":{\"value\":\"red\"},\"line_alpha\":{\"value\":0.1},\"line_color\":{\"value\":\"red\"},\"top\":{\"field\":\"confirmed\"},\"width\":{\"value\":43200000.0},\"x\":{\"field\":\"date\"}},\"id\":\"74160\",\"type\":\"VBar\"},{\"attributes\":{\"label\":{\"value\":\"7-day MA\"},\"renderers\":[{\"id\":\"74186\"}]},\"id\":\"74208\",\"type\":\"LegendItem\"},{\"attributes\":{\"fill_alpha\":{\"value\":0.1},\"fill_color\":{\"value\":\"red\"},\"line_alpha\":{\"value\":0.1},\"line_color\":{\"value\":\"red\"},\"top\":{\"field\":\"confirmed\"},\"width\":{\"value\":43200000.0},\"x\":{\"field\":\"date\"}},\"id\":\"74159\",\"type\":\"VBar\"},{\"attributes\":{\"active_drag\":\"auto\",\"active_inspect\":\"auto\",\"active_multi\":null,\"active_scroll\":\"auto\",\"active_tap\":\"auto\",\"tools\":[{\"id\":\"74144\"},{\"id\":\"74145\"},{\"id\":\"74146\"},{\"id\":\"74147\"},{\"id\":\"74148\"},{\"id\":\"74149\"}]},\"id\":\"74151\",\"type\":\"Toolbar\"},{\"attributes\":{\"months\":[0,1,2,3,4,5,6,7,8,9,10,11]},\"id\":\"74176\",\"type\":\"MonthsTicker\"},{\"attributes\":{\"bottom_units\":\"screen\",\"fill_alpha\":0.5,\"fill_color\":\"lightgrey\",\"left_units\":\"screen\",\"level\":\"overlay\",\"line_alpha\":1.0,\"line_color\":\"black\",\"line_dash\":[4,4],\"line_width\":2,\"render_mode\":\"css\",\"right_units\":\"screen\",\"top_units\":\"screen\"},\"id\":\"74150\",\"type\":\"BoxAnnotation\"},{\"attributes\":{},\"id\":\"74134\",\"type\":\"LinearScale\"},{\"attributes\":{\"days\":[1,15]},\"id\":\"74175\",\"type\":\"DaysTicker\"},{\"attributes\":{\"axis_label\":\"Date\",\"formatter\":{\"id\":\"74165\"},\"ticker\":{\"id\":\"74137\"}},\"id\":\"74136\",\"type\":\"DatetimeAxis\"},{\"attributes\":{\"num_minor_ticks\":5,\"tickers\":[{\"id\":\"74169\"},{\"id\":\"74170\"},{\"id\":\"74171\"},{\"id\":\"74172\"},{\"id\":\"74173\"},{\"id\":\"74174\"},{\"id\":\"74175\"},{\"id\":\"74176\"},{\"id\":\"74177\"},{\"id\":\"74178\"},{\"id\":\"74179\"},{\"id\":\"74180\"}]},\"id\":\"74137\",\"type\":\"DatetimeTicker\"},{\"attributes\":{\"source\":{\"id\":\"74124\"}},\"id\":\"74162\",\"type\":\"CDSView\"},{\"attributes\":{},\"id\":\"74165\",\"type\":\"DatetimeTickFormatter\"},{\"attributes\":{\"axis\":{\"id\":\"74136\"},\"ticker\":null},\"id\":\"74139\",\"type\":\"Grid\"},{\"attributes\":{\"data\":{\"confirmed\":[0,0,0,0,0,0,0,0,0,0,0,0,0,0,0,0,0,0,0,0,0,0,0,0,0,0,0,0,0,0,0,0,0,0,0,1,0,5,4,8,6,14,44,46,60,77,56,61,121,0,303,156,176,278,295,347,409,536,637,577,547,816,858,1030,1179,1172,1111,887,850,1029,1092,1033,906,1226,973,783,973,1221,1346,1322,1175,964,870,736,1067,1236,1147,1072,750,729,715,889,808,655,656,400,172,386,514,477,445,335,199,318,232,455,319,289,245,161,196,227,270],\"confirmed_ma\":{\"__ndarray__\":\"AAAAAAAAAAAAAAAAAAAAAAAAAAAAAAAAAAAAAAAAAAAAAAAAAAAAAAAAAAAAAAAAAAAAAAAAAAAAAAAAAAAAAAAAAAAAAAAAAAAAAAAAAAAAAAAAAAAAAAAAAAAAAAAAAAAAAAAAAAAAAAAAAAAAAAAAAAAAAAAAAAAAAAAAAAAAAAAAAAAAAAAAAAAAAAAAAAAAAAAAAAAAAAAAAAAAAAAAAAAAAAAAAAAAAAAAAAAAAAAAAAAAAAAAAAAAAAAAAAAAAAAAAAAAAAAAAAAAAAAAAAAAAAAAAAAAAAAAAAAAAAAAAAAAAAAAAAAAAAAAAAAAAAAAAAAAAAAAAAAAAAAAAAAAAAAAAAAAAAAAAAAAAAAAAAAAAJIkSZIkScI/kiRJkiRJwj/btm3btm3rP7dt27Zt2/Y/JUmSJEmSBEDbtm3btm0LQG7btm3bthVASZIkSZIkJ0BJkiRJkiQyQAAAAAAAADpAbtu2bds2QkBJkiRJkqRFQCVJkiRJkklAt23btm2bUEAlSZIkSRJOQG7btm3bNlhASZIkSZKkW0Dbtm3bti1fQNu2bdu2jWNAt23btm27Z0BJkiRJksRrQJIkSZIkiXFA27Zt27adc0CSJEmSJOl3QNu2bdu2fXtASZIkSZLkfUDbtm3btkWBQNu2bdu2jYNAt23btm1ThkAlSZIkSTKJQNu2bdu2lYtAAAAAAAD4jUBJkiRJknyPQLdt27Zto49At23btm0zkEBu27Zt21aQQLdt27ZtA5BAbtu2bdvWjkAlSZIkSVqPQEmSJEmSvI9AAAAAAABwj0AAAAAAADCPQLdt27Ztw49ASZIkSZKUkEAlSZIkSYKRQJIkSZIkZZFAAAAAAABgkUDbtm3btpGRQCVJkiRJCpFAJUmSJEmykEC3bdu2bXOQQLdt27ZtD5BAkiRJkiSpj0BJkiRJkrSOQLdt27ZtE45At23btm37jUAAAAAAADCNQG7btm3bRotASZIkSZIUiUCSJEmSJDmHQJIkSZIkqYVASZIkSZIsg0BJkiRJkrSBQAAAAAAACIBAt23btm0bfUC3bdu2bTt7QNu2bdu2XXhAJUmSJEmSdkAAAAAAAOB3QAAAAAAAgHZAkiRJkiT5dUAAAAAAAJB0QLdt27ZtK3NA27Zt27ZdckBu27Zt2wZyQAAAAAAA8HBASZIkSZLkcEC3bdu2bXtuQA==\",\"dtype\":\"float64\",\"shape\":[113]},\"country\":[\"Netherlands\",\"Netherlands\",\"Netherlands\",\"Netherlands\",\"Netherlands\",\"Netherlands\",\"Netherlands\",\"Netherlands\",\"Netherlands\",\"Netherlands\",\"Netherlands\",\"Netherlands\",\"Netherlands\",\"Netherlands\",\"Netherlands\",\"Netherlands\",\"Netherlands\",\"Netherlands\",\"Netherlands\",\"Netherlands\",\"Netherlands\",\"Netherlands\",\"Netherlands\",\"Netherlands\",\"Netherlands\",\"Netherlands\",\"Netherlands\",\"Netherlands\",\"Netherlands\",\"Netherlands\",\"Netherlands\",\"Netherlands\",\"Netherlands\",\"Netherlands\",\"Netherlands\",\"Netherlands\",\"Netherlands\",\"Netherlands\",\"Netherlands\",\"Netherlands\",\"Netherlands\",\"Netherlands\",\"Netherlands\",\"Netherlands\",\"Netherlands\",\"Netherlands\",\"Netherlands\",\"Netherlands\",\"Netherlands\",\"Netherlands\",\"Netherlands\",\"Netherlands\",\"Netherlands\",\"Netherlands\",\"Netherlands\",\"Netherlands\",\"Netherlands\",\"Netherlands\",\"Netherlands\",\"Netherlands\",\"Netherlands\",\"Netherlands\",\"Netherlands\",\"Netherlands\",\"Netherlands\",\"Netherlands\",\"Netherlands\",\"Netherlands\",\"Netherlands\",\"Netherlands\",\"Netherlands\",\"Netherlands\",\"Netherlands\",\"Netherlands\",\"Netherlands\",\"Netherlands\",\"Netherlands\",\"Netherlands\",\"Netherlands\",\"Netherlands\",\"Netherlands\",\"Netherlands\",\"Netherlands\",\"Netherlands\",\"Netherlands\",\"Netherlands\",\"Netherlands\",\"Netherlands\",\"Netherlands\",\"Netherlands\",\"Netherlands\",\"Netherlands\",\"Netherlands\",\"Netherlands\",\"Netherlands\",\"Netherlands\",\"Netherlands\",\"Netherlands\",\"Netherlands\",\"Netherlands\",\"Netherlands\",\"Netherlands\",\"Netherlands\",\"Netherlands\",\"Netherlands\",\"Netherlands\",\"Netherlands\",\"Netherlands\",\"Netherlands\",\"Netherlands\",\"Netherlands\",\"Netherlands\",\"Netherlands\"],\"date\":{\"__ndarray__\":\"AAAALfv8dkIAAMCSTf12QgAAgPif/XZCAABAXvL9dkIAAADERP52QgAAwCmX/nZCAACAj+n+dkIAAED1O/92QgAAAFuO/3ZCAADAwOD/dkIAAIAmMwB3QgAAQIyFAHdCAAAA8tcAd0IAAMBXKgF3QgAAgL18AXdCAABAI88Bd0IAAACJIQJ3QgAAwO5zAndCAACAVMYCd0IAAEC6GAN3QgAAACBrA3dCAADAhb0Dd0IAAIDrDwR3QgAAQFFiBHdCAAAAt7QEd0IAAMAcBwV3QgAAgIJZBXdCAABA6KsFd0IAAABO/gV3QgAAwLNQBndCAACAGaMGd0IAAEB/9QZ3QgAAAOVHB3dCAADASpoHd0IAAICw7Ad3QgAAQBY/CHdCAAAAfJEId0IAAMDh4wh3QgAAgEc2CXdCAABArYgJd0IAAAAT2wl3QgAAwHgtCndCAACA3n8Kd0IAAEBE0gp3QgAAAKokC3dCAADAD3cLd0IAAIB1yQt3QgAAQNsbDHdCAAAAQW4Md0IAAMCmwAx3QgAAgAwTDXdCAABAcmUNd0IAAADYtw13QgAAwD0KDndCAACAo1wOd0IAAEAJrw53QgAAAG8BD3dCAADA1FMPd0IAAIA6pg93QgAAQKD4D3dCAAAABksQd0IAAMBrnRB3QgAAgNHvEHdCAABAN0IRd0IAAACdlBF3QgAAwALnEXdCAACAaDkSd0IAAEDOixJ3QgAAADTeEndCAADAmTATd0IAAID/ghN3QgAAQGXVE3dCAAAAyycUd0IAAMAwehR3QgAAgJbMFHdCAABA/B4Vd0IAAABicRV3QgAAwMfDFXdCAACALRYWd0IAAECTaBZ3QgAAAPm6FndCAADAXg0Xd0IAAIDEXxd3QgAAQCqyF3dCAAAAkAQYd0IAAMD1Vhh3QgAAgFupGHdCAABAwfsYd0IAAAAnThl3QgAAwIygGXdCAACA8vIZd0IAAEBYRRp3QgAAAL6XGndCAADAI+oad0IAAICJPBt3QgAAQO+OG3dCAAAAVeEbd0IAAMC6Mxx3QgAAgCCGHHdCAABAhtgcd0IAAADsKh13QgAAwFF9HXdCAACAt88dd0IAAEAdIh53QgAAAIN0HndCAADA6MYed0IAAIBOGR93QgAAQLRrH3dCAAAAGr4fd0IAAMB/ECB3QgAAgOViIHdCAABAS7Ugd0IAAACxByF3Qg==\",\"dtype\":\"float64\",\"shape\":[113]},\"death\":[0,0,0,0,0,0,0,0,0,0,0,0,0,0,0,0,0,0,0,0,0,0,0,0,0,0,0,0,0,0,0,0,0,0,0,0,0,0,0,0,0,0,0,1,0,2,0,1,1,0,5,2,8,4,19,15,19,30,30,43,34,63,80,78,112,93,132,93,175,135,166,149,166,115,103,234,147,148,117,133,94,86,122,190,182,144,142,84,67,165,139,124,112,120,67,43,48,145,84,98,94,69,26,87,36,85,71,64,18,16,54,52,28],\"death_ma\":{\"__ndarray__\":\"AAAAAAAAAAAAAAAAAAAAAAAAAAAAAAAAAAAAAAAAAAAAAAAAAAAAAAAAAAAAAAAAAAAAAAAAAAAAAAAAAAAAAAAAAAAAAAAAAAAAAAAAAAAAAAAAAAAAAAAAAAAAAAAAAAAAAAAAAAAAAAAAAAAAAAAAAAAAAAAAAAAAAAAAAAAAAAAAAAAAAAAAAAAAAAAAAAAAAAAAAAAAAAAAAAAAAAAAAAAAAAAAAAAAAAAAAAAAAAAAAAAAAAAAAAAAAAAAAAAAAAAAAAAAAAAAAAAAAAAAAAAAAAAAAAAAAAAAAAAAAAAAAAAAAAAAAAAAAAAAAAAAAAAAAAAAAAAAAAAAAAAAAAAAAAAAAAAAAAAAAAAAAAAAAAAAAAAAAAAAAAAAAAAAAAAAAAAAAAAAAAAAAAAAAAAAAAAAAAAAAAAAAAAAAAAAAAAAAAAAAAAAAAAAAAAAAAAAAACSJEmSJEnCP5IkSZIkScI/27Zt27Zt2z/btm3btm3bP5IkSZIkSeI/t23btm3b5j+3bdu2bdvmPyVJkiRJkvQ/SZIkSZIk+T/btm3btm0DQAAAAAAAAAhAkiRJkiRJFkCSJEmSJEkeQCVJkiRJkiRAbtu2bdu2K0C3bdu2bdsxQLdt27Zt2zZASZIkSZIkO0Bu27Zt27ZAQLdt27ZtW0VAJUmSJEmSSUDbtm3btm1PQG7btm3b9lFASZIkSZIkVUAAAAAAAEBXQAAAAAAAQFtAbtu2bds2XUDbtm3bti1gQG7btm3b1mBASZIkSZIkYkBu27Zt29ZhQEmSJEmSBGJAJUmSJEkSY0CSJEmSJEljQG7btm3b9mJASZIkSZJkYkDbtm3bts1hQNu2bdu2bWFAAAAAAAAgYUAAAAAAAEBeQJIkSZIkyV9AAAAAAACAYEC3bdu2bftgQEmSJEmSJGFAbtu2bdv2YEAAAAAAAKBgQEmSJEmSZGFAt23btm17YEBJkiRJkuReQAAAAAAAwF1Abtu2bdv2XEC3bdu2bVtcQAAAAAAAgFtAJUmSJElSV0CSJEmSJIlXQLdt27ZtG1ZAt23btm2bVUDbtm3btq1UQAAAAAAAwFRASZIkSZIkVECSJEmSJIlVQEmSJEmSpFFA27Zt27atUUBu27Zt27ZQQJIkSZIkSU9ASZIkSZKkS0Dbtm3btu1KQCVJkiRJkkhAbtu2bdu2SUBJkiRJkqRFQA==\",\"dtype\":\"float64\",\"shape\":[113]},\"index\":[0,1,2,3,4,5,6,7,8,9,10,11,12,13,14,15,16,17,18,19,20,21,22,23,24,25,26,27,28,29,30,31,32,33,34,35,36,37,38,39,40,41,42,43,44,45,46,47,48,49,50,51,52,53,54,55,56,57,58,59,60,61,62,63,64,65,66,67,68,69,70,71,72,73,74,75,76,77,78,79,80,81,82,83,84,85,86,87,88,89,90,91,92,93,94,95,96,97,98,99,100,101,102,103,104,105,106,107,108,109,110,111,112],\"recovered\":[0,0,0,0,0,0,0,0,0,0,0,0,0,0,0,0,0,0,0,0,0,0,0,0,0,0,0,0,0,0,0,0,0,0,0,0,0,0,0,0,0,0,0,0,0,0,0,0,0,0,0,2,0,0,0,0,0,0,0,0,0,1,1,2,0,0,247,0,0,7,0,0,2,-5,1,14,0,6,9,4,4,0,2,7,7,4,2,5,0,-248,27,0,1,0,15,0,0,2,6,13,0,0,0,1,7,1,0,2,0,0,0,8,2],\"recovered_ma\":{\"__ndarray__\":\"AAAAAAAAAAAAAAAAAAAAAAAAAAAAAAAAAAAAAAAAAAAAAAAAAAAAAAAAAAAAAAAAAAAAAAAAAAAAAAAAAAAAAAAAAAAAAAAAAAAAAAAAAAAAAAAAAAAAAAAAAAAAAAAAAAAAAAAAAAAAAAAAAAAAAAAAAAAAAAAAAAAAAAAAAAAAAAAAAAAAAAAAAAAAAAAAAAAAAAAAAAAAAAAAAAAAAAAAAAAAAAAAAAAAAAAAAAAAAAAAAAAAAAAAAAAAAAAAAAAAAAAAAAAAAAAAAAAAAAAAAAAAAAAAAAAAAAAAAAAAAAAAAAAAAAAAAAAAAAAAAAAAAAAAAAAAAAAAAAAAAAAAAAAAAAAAAAAAAAAAAAAAAAAAAAAAAAAAAAAAAAAAAAAAAAAAAAAAAAAAAAAAAAAAAAAAAAAAAAAAAAAAAAAAAAAAAAAAAAAAAAAAAAAAAAAAAAAAAAAAAAAAAAAAAAAAAAAAAAAAAAAAAAAAAAAAAAAAAAAAAAAAAAAAAAAAAAAAAAAAAAAAAAAAAAAAAAAAAAAAAAAAkiRJkiRJ0j+SJEmSJEnSP5IkSZIkSdI/kiRJkiRJ0j+SJEmSJEnSP5IkSZIkSdI/kiRJkiRJ0j8AAAAAAAAAAAAAAAAAAAAAAAAAAAAAAACSJEmSJEnCP5IkSZIkSdI/kiRJkiRJ4j+SJEmSJEniP5IkSZIkSeI/27Zt27btQUDbtm3btu1BQLdt27Zt20FAkiRJkiRJQkBJkiRJkiRCQEmSJEmSJEJAkiRJkiRJQkCSJEmSJEniP7dt27Zt2+Y/btu2bdu2BUDbtm3btm37PyVJkiRJkgRAt23btm3bDkAlSZIkSZIQQG7btm3bthVASZIkSZIkFUAlSZIkSZIMQJIkSZIkSRJAt23btm3bEkAAAAAAAAAQQG7btm3btg1At23btm3bDkC3bdu2bdsOQLdt27Zt2z/AAAAAAAAAPcAAAAAAAAA+wNu2bdu2bT7Abtu2bdu2PsCSJEmSJEk9wJIkSZIkST3AJUmSJEmSGEAlSZIkSZIEQNu2bdu2bQtAJUmSJEmSFEAlSZIkSZIUQAAAAAAAAAhAAAAAAAAACEBJkiRJkiQJQLdt27Zt2w5ASZIkSZIkCUAlSZIkSZL0P0mSJEmSJPk/SZIkSZIk+T9JkiRJkiT5P7dt27Zt2/Y/SZIkSZIk+T/btm3btm37Pw==\",\"dtype\":\"float64\",\"shape\":[113]}},\"selected\":{\"id\":\"74195\"},\"selection_policy\":{\"id\":\"74194\"}},\"id\":\"74124\",\"type\":\"ColumnDataSource\"},{\"attributes\":{\"axis_label\":\"Persons\",\"formatter\":{\"id\":\"74167\"},\"ticker\":{\"id\":\"74141\"}},\"id\":\"74140\",\"type\":\"LinearAxis\"},{\"attributes\":{\"months\":[0,4,8]},\"id\":\"74178\",\"type\":\"MonthsTicker\"},{\"attributes\":{},\"id\":\"74141\",\"type\":\"BasicTicker\"},{\"attributes\":{\"months\":[0,6]},\"id\":\"74179\",\"type\":\"MonthsTicker\"},{\"attributes\":{\"axis\":{\"id\":\"74140\"},\"dimension\":1,\"ticker\":null},\"id\":\"74143\",\"type\":\"Grid\"},{\"attributes\":{},\"id\":\"74180\",\"type\":\"YearsTicker\"},{\"attributes\":{\"data_source\":{\"id\":\"74124\"},\"glyph\":{\"id\":\"74159\"},\"hover_glyph\":null,\"muted_glyph\":null,\"nonselection_glyph\":{\"id\":\"74160\"},\"selection_glyph\":null,\"view\":{\"id\":\"74162\"}},\"id\":\"74161\",\"type\":\"GlyphRenderer\"},{\"attributes\":{\"items\":[{\"id\":\"74182\"},{\"id\":\"74208\"}],\"location\":\"top_left\"},\"id\":\"74181\",\"type\":\"Legend\"},{\"attributes\":{},\"id\":\"74167\",\"type\":\"BasicTickFormatter\"},{\"attributes\":{\"base\":60,\"mantissas\":[1,2,5,10,15,20,30],\"max_interval\":1800000.0,\"min_interval\":1000.0,\"num_minor_ticks\":0},\"id\":\"74170\",\"type\":\"AdaptiveTicker\"},{\"attributes\":{\"days\":[1,2,3,4,5,6,7,8,9,10,11,12,13,14,15,16,17,18,19,20,21,22,23,24,25,26,27,28,29,30,31]},\"id\":\"74172\",\"type\":\"DaysTicker\"},{\"attributes\":{\"label\":{\"value\":\"confirmed cases\"},\"renderers\":[{\"id\":\"74161\"}]},\"id\":\"74182\",\"type\":\"LegendItem\"},{\"attributes\":{\"base\":24,\"mantissas\":[1,2,4,6,8,12],\"max_interval\":43200000.0,\"min_interval\":3600000.0,\"num_minor_ticks\":0},\"id\":\"74171\",\"type\":\"AdaptiveTicker\"},{\"attributes\":{\"months\":[0,2,4,6,8,10]},\"id\":\"74177\",\"type\":\"MonthsTicker\"},{\"attributes\":{},\"id\":\"74144\",\"type\":\"PanTool\"},{\"attributes\":{\"line_color\":\"red\",\"line_width\":2,\"x\":{\"field\":\"date\"},\"y\":{\"field\":\"confirmed_ma\"}},\"id\":\"74184\",\"type\":\"Line\"},{\"attributes\":{},\"id\":\"74145\",\"type\":\"WheelZoomTool\"}],\"root_ids\":[\"74125\"]},\"title\":\"Bokeh Application\",\"version\":\"2.0.2\"}};\n",
       "  var render_items = [{\"docid\":\"5b02984a-ffec-4be2-a09d-cb204eb6ff5e\",\"root_ids\":[\"74125\"],\"roots\":{\"74125\":\"4438954a-d4e8-4982-b31e-61310a80e792\"}}];\n",
       "  root.Bokeh.embed.embed_items_notebook(docs_json, render_items);\n",
       "\n",
       "  }\n",
       "  if (root.Bokeh !== undefined) {\n",
       "    embed_document(root);\n",
       "  } else {\n",
       "    var attempts = 0;\n",
       "    var timer = setInterval(function(root) {\n",
       "      if (root.Bokeh !== undefined) {\n",
       "        clearInterval(timer);\n",
       "        embed_document(root);\n",
       "      } else {\n",
       "        attempts++;\n",
       "        if (attempts > 100) {\n",
       "          clearInterval(timer);\n",
       "          console.log(\"Bokeh: ERROR: Unable to run BokehJS code because BokehJS library is missing\");\n",
       "        }\n",
       "      }\n",
       "    }, 10, root)\n",
       "  }\n",
       "})(window);"
      ],
      "application/vnd.bokehjs_exec.v0+json": ""
     },
     "metadata": {
      "application/vnd.bokehjs_exec.v0+json": {
       "id": "74125"
      }
     },
     "output_type": "display_data"
    }
   ],
   "source": [
    "#set source\n",
    "source = ColumnDataSource(daily_s)\n",
    "\n",
    "# use a time-delata for the width\n",
    "bar_w = pd.Timedelta(hours = 12)\n",
    "\n",
    "\n",
    "# create the plot\n",
    "p = figure(title = 'Covid Progress', \n",
    "           x_axis_type=\"datetime\",\n",
    "           x_axis_label = 'Date',\n",
    "           y_axis_label = 'Persons',\n",
    "           plot_height = 400,\n",
    "           plot_width = 700)\n",
    "\n",
    "p.vbar(x='date', width = bar_w, top='confirmed', source=source, color = 'red', alpha = 0.1, legend_label = 'confirmed cases')\n",
    "p.line(x='date', y='confirmed_ma', line_width=2 ,source=source, color='red', legend_label='7-day MA')\n",
    "\n",
    "p.y_range.start = 0\n",
    "p.legend.location = \"top_left\"\n",
    "\n",
    "show(p)"
   ]
  },
  {
   "cell_type": "code",
   "execution_count": 424,
   "metadata": {},
   "outputs": [
    {
     "data": {
      "text/html": [
       "\n",
       "\n",
       "\n",
       "\n",
       "\n",
       "\n",
       "  <div class=\"bk-root\" id=\"db0740d0-0027-4e7a-b3bd-13532c02cd7b\" data-root-id=\"75714\"></div>\n"
      ]
     },
     "metadata": {},
     "output_type": "display_data"
    },
    {
     "data": {
      "application/javascript": [
       "(function(root) {\n",
       "  function embed_document(root) {\n",
       "    \n",
       "  var docs_json = {\"6b45c17f-89ad-4ab3-917a-dce3a35b8562\":{\"roots\":{\"references\":[{\"attributes\":{\"below\":[{\"id\":\"75725\"}],\"center\":[{\"id\":\"75728\"},{\"id\":\"75732\"},{\"id\":\"75770\"}],\"left\":[{\"id\":\"75729\"}],\"plot_height\":400,\"plot_width\":700,\"renderers\":[{\"id\":\"75750\"},{\"id\":\"75775\"}],\"title\":{\"id\":\"75715\"},\"toolbar\":{\"id\":\"75740\"},\"x_range\":{\"id\":\"75717\"},\"x_scale\":{\"id\":\"75721\"},\"y_range\":{\"id\":\"75719\"},\"y_scale\":{\"id\":\"75723\"}},\"id\":\"75714\",\"subtype\":\"Figure\",\"type\":\"Plot\"},{\"attributes\":{\"line_color\":\"blue\",\"line_width\":2,\"x\":{\"field\":\"date\"},\"y\":{\"field\":\"death_ma\"}},\"id\":\"75773\",\"type\":\"Line\"},{\"attributes\":{},\"id\":\"75784\",\"type\":\"Selection\"},{\"attributes\":{},\"id\":\"75756\",\"type\":\"BasicTickFormatter\"},{\"attributes\":{\"bottom_units\":\"screen\",\"fill_alpha\":0.5,\"fill_color\":\"lightgrey\",\"left_units\":\"screen\",\"level\":\"overlay\",\"line_alpha\":1.0,\"line_color\":\"black\",\"line_dash\":[4,4],\"line_width\":2,\"render_mode\":\"css\",\"right_units\":\"screen\",\"top_units\":\"screen\"},\"id\":\"75739\",\"type\":\"BoxAnnotation\"},{\"attributes\":{\"label\":{\"value\":\"7-day MA\"},\"renderers\":[{\"id\":\"75775\"}]},\"id\":\"75797\",\"type\":\"LegendItem\"},{\"attributes\":{},\"id\":\"75738\",\"type\":\"HelpTool\"},{\"attributes\":{\"source\":{\"id\":\"75713\"}},\"id\":\"75751\",\"type\":\"CDSView\"},{\"attributes\":{\"fill_alpha\":{\"value\":0.1},\"fill_color\":{\"value\":\"blue\"},\"line_alpha\":{\"value\":0.1},\"line_color\":{\"value\":\"blue\"},\"top\":{\"field\":\"death\"},\"width\":{\"value\":43200000.0},\"x\":{\"field\":\"date\"}},\"id\":\"75748\",\"type\":\"VBar\"},{\"attributes\":{\"days\":[1,8,15,22]},\"id\":\"75763\",\"type\":\"DaysTicker\"},{\"attributes\":{},\"id\":\"75754\",\"type\":\"DatetimeTickFormatter\"},{\"attributes\":{\"active_drag\":\"auto\",\"active_inspect\":\"auto\",\"active_multi\":null,\"active_scroll\":\"auto\",\"active_tap\":\"auto\",\"tools\":[{\"id\":\"75733\"},{\"id\":\"75734\"},{\"id\":\"75735\"},{\"id\":\"75736\"},{\"id\":\"75737\"},{\"id\":\"75738\"}]},\"id\":\"75740\",\"type\":\"Toolbar\"},{\"attributes\":{\"mantissas\":[1,2,5],\"max_interval\":500.0,\"num_minor_ticks\":0},\"id\":\"75758\",\"type\":\"AdaptiveTicker\"},{\"attributes\":{\"base\":60,\"mantissas\":[1,2,5,10,15,20,30],\"max_interval\":1800000.0,\"min_interval\":1000.0,\"num_minor_ticks\":0},\"id\":\"75759\",\"type\":\"AdaptiveTicker\"},{\"attributes\":{\"num_minor_ticks\":5,\"tickers\":[{\"id\":\"75758\"},{\"id\":\"75759\"},{\"id\":\"75760\"},{\"id\":\"75761\"},{\"id\":\"75762\"},{\"id\":\"75763\"},{\"id\":\"75764\"},{\"id\":\"75765\"},{\"id\":\"75766\"},{\"id\":\"75767\"},{\"id\":\"75768\"},{\"id\":\"75769\"}]},\"id\":\"75726\",\"type\":\"DatetimeTicker\"},{\"attributes\":{\"base\":24,\"mantissas\":[1,2,4,6,8,12],\"max_interval\":43200000.0,\"min_interval\":3600000.0,\"num_minor_ticks\":0},\"id\":\"75760\",\"type\":\"AdaptiveTicker\"},{\"attributes\":{},\"id\":\"75721\",\"type\":\"LinearScale\"},{\"attributes\":{\"overlay\":{\"id\":\"75739\"}},\"id\":\"75735\",\"type\":\"BoxZoomTool\"},{\"attributes\":{\"axis_label\":\"Date\",\"formatter\":{\"id\":\"75754\"},\"ticker\":{\"id\":\"75726\"}},\"id\":\"75725\",\"type\":\"DatetimeAxis\"},{\"attributes\":{\"fill_alpha\":{\"value\":0.1},\"fill_color\":{\"value\":\"blue\"},\"line_alpha\":{\"value\":0.1},\"line_color\":{\"value\":\"blue\"},\"top\":{\"field\":\"death\"},\"width\":{\"value\":43200000.0},\"x\":{\"field\":\"date\"}},\"id\":\"75749\",\"type\":\"VBar\"},{\"attributes\":{\"days\":[1,2,3,4,5,6,7,8,9,10,11,12,13,14,15,16,17,18,19,20,21,22,23,24,25,26,27,28,29,30,31]},\"id\":\"75761\",\"type\":\"DaysTicker\"},{\"attributes\":{\"days\":[1,4,7,10,13,16,19,22,25,28]},\"id\":\"75762\",\"type\":\"DaysTicker\"},{\"attributes\":{\"data\":{\"confirmed\":[0,0,0,0,0,0,0,0,0,0,0,0,0,0,0,0,0,0,0,0,0,0,0,0,0,0,0,0,0,0,0,0,0,0,0,1,0,5,4,8,6,14,44,46,60,77,56,61,121,0,303,156,176,278,295,347,409,536,637,577,547,816,858,1030,1179,1172,1111,887,850,1029,1092,1033,906,1226,973,783,973,1221,1346,1322,1175,964,870,736,1067,1236,1147,1072,750,729,715,889,808,655,656,400,172,386,514,477,445,335,199,318,232,455,319,289,245,161,196,227,270],\"confirmed_ma\":{\"__ndarray__\":\"AAAAAAAAAAAAAAAAAAAAAAAAAAAAAAAAAAAAAAAAAAAAAAAAAAAAAAAAAAAAAAAAAAAAAAAAAAAAAAAAAAAAAAAAAAAAAAAAAAAAAAAAAAAAAAAAAAAAAAAAAAAAAAAAAAAAAAAAAAAAAAAAAAAAAAAAAAAAAAAAAAAAAAAAAAAAAAAAAAAAAAAAAAAAAAAAAAAAAAAAAAAAAAAAAAAAAAAAAAAAAAAAAAAAAAAAAAAAAAAAAAAAAAAAAAAAAAAAAAAAAAAAAAAAAAAAAAAAAAAAAAAAAAAAAAAAAAAAAAAAAAAAAAAAAAAAAAAAAAAAAAAAAAAAAAAAAAAAAAAAAAAAAAAAAAAAAAAAAAAAAAAAAAAAAAAAAJIkSZIkScI/kiRJkiRJwj/btm3btm3rP7dt27Zt2/Y/JUmSJEmSBEDbtm3btm0LQG7btm3bthVASZIkSZIkJ0BJkiRJkiQyQAAAAAAAADpAbtu2bds2QkBJkiRJkqRFQCVJkiRJkklAt23btm2bUEAlSZIkSRJOQG7btm3bNlhASZIkSZKkW0Dbtm3bti1fQNu2bdu2jWNAt23btm27Z0BJkiRJksRrQJIkSZIkiXFA27Zt27adc0CSJEmSJOl3QNu2bdu2fXtASZIkSZLkfUDbtm3btkWBQNu2bdu2jYNAt23btm1ThkAlSZIkSTKJQNu2bdu2lYtAAAAAAAD4jUBJkiRJknyPQLdt27Zto49At23btm0zkEBu27Zt21aQQLdt27ZtA5BAbtu2bdvWjkAlSZIkSVqPQEmSJEmSvI9AAAAAAABwj0AAAAAAADCPQLdt27Ztw49ASZIkSZKUkEAlSZIkSYKRQJIkSZIkZZFAAAAAAABgkUDbtm3btpGRQCVJkiRJCpFAJUmSJEmykEC3bdu2bXOQQLdt27ZtD5BAkiRJkiSpj0BJkiRJkrSOQLdt27ZtE45At23btm37jUAAAAAAADCNQG7btm3bRotASZIkSZIUiUCSJEmSJDmHQJIkSZIkqYVASZIkSZIsg0BJkiRJkrSBQAAAAAAACIBAt23btm0bfUC3bdu2bTt7QNu2bdu2XXhAJUmSJEmSdkAAAAAAAOB3QAAAAAAAgHZAkiRJkiT5dUAAAAAAAJB0QLdt27ZtK3NA27Zt27ZdckBu27Zt2wZyQAAAAAAA8HBASZIkSZLkcEC3bdu2bXtuQA==\",\"dtype\":\"float64\",\"shape\":[113]},\"country\":[\"Netherlands\",\"Netherlands\",\"Netherlands\",\"Netherlands\",\"Netherlands\",\"Netherlands\",\"Netherlands\",\"Netherlands\",\"Netherlands\",\"Netherlands\",\"Netherlands\",\"Netherlands\",\"Netherlands\",\"Netherlands\",\"Netherlands\",\"Netherlands\",\"Netherlands\",\"Netherlands\",\"Netherlands\",\"Netherlands\",\"Netherlands\",\"Netherlands\",\"Netherlands\",\"Netherlands\",\"Netherlands\",\"Netherlands\",\"Netherlands\",\"Netherlands\",\"Netherlands\",\"Netherlands\",\"Netherlands\",\"Netherlands\",\"Netherlands\",\"Netherlands\",\"Netherlands\",\"Netherlands\",\"Netherlands\",\"Netherlands\",\"Netherlands\",\"Netherlands\",\"Netherlands\",\"Netherlands\",\"Netherlands\",\"Netherlands\",\"Netherlands\",\"Netherlands\",\"Netherlands\",\"Netherlands\",\"Netherlands\",\"Netherlands\",\"Netherlands\",\"Netherlands\",\"Netherlands\",\"Netherlands\",\"Netherlands\",\"Netherlands\",\"Netherlands\",\"Netherlands\",\"Netherlands\",\"Netherlands\",\"Netherlands\",\"Netherlands\",\"Netherlands\",\"Netherlands\",\"Netherlands\",\"Netherlands\",\"Netherlands\",\"Netherlands\",\"Netherlands\",\"Netherlands\",\"Netherlands\",\"Netherlands\",\"Netherlands\",\"Netherlands\",\"Netherlands\",\"Netherlands\",\"Netherlands\",\"Netherlands\",\"Netherlands\",\"Netherlands\",\"Netherlands\",\"Netherlands\",\"Netherlands\",\"Netherlands\",\"Netherlands\",\"Netherlands\",\"Netherlands\",\"Netherlands\",\"Netherlands\",\"Netherlands\",\"Netherlands\",\"Netherlands\",\"Netherlands\",\"Netherlands\",\"Netherlands\",\"Netherlands\",\"Netherlands\",\"Netherlands\",\"Netherlands\",\"Netherlands\",\"Netherlands\",\"Netherlands\",\"Netherlands\",\"Netherlands\",\"Netherlands\",\"Netherlands\",\"Netherlands\",\"Netherlands\",\"Netherlands\",\"Netherlands\",\"Netherlands\",\"Netherlands\",\"Netherlands\"],\"date\":{\"__ndarray__\":\"AAAALfv8dkIAAMCSTf12QgAAgPif/XZCAABAXvL9dkIAAADERP52QgAAwCmX/nZCAACAj+n+dkIAAED1O/92QgAAAFuO/3ZCAADAwOD/dkIAAIAmMwB3QgAAQIyFAHdCAAAA8tcAd0IAAMBXKgF3QgAAgL18AXdCAABAI88Bd0IAAACJIQJ3QgAAwO5zAndCAACAVMYCd0IAAEC6GAN3QgAAACBrA3dCAADAhb0Dd0IAAIDrDwR3QgAAQFFiBHdCAAAAt7QEd0IAAMAcBwV3QgAAgIJZBXdCAABA6KsFd0IAAABO/gV3QgAAwLNQBndCAACAGaMGd0IAAEB/9QZ3QgAAAOVHB3dCAADASpoHd0IAAICw7Ad3QgAAQBY/CHdCAAAAfJEId0IAAMDh4wh3QgAAgEc2CXdCAABArYgJd0IAAAAT2wl3QgAAwHgtCndCAACA3n8Kd0IAAEBE0gp3QgAAAKokC3dCAADAD3cLd0IAAIB1yQt3QgAAQNsbDHdCAAAAQW4Md0IAAMCmwAx3QgAAgAwTDXdCAABAcmUNd0IAAADYtw13QgAAwD0KDndCAACAo1wOd0IAAEAJrw53QgAAAG8BD3dCAADA1FMPd0IAAIA6pg93QgAAQKD4D3dCAAAABksQd0IAAMBrnRB3QgAAgNHvEHdCAABAN0IRd0IAAACdlBF3QgAAwALnEXdCAACAaDkSd0IAAEDOixJ3QgAAADTeEndCAADAmTATd0IAAID/ghN3QgAAQGXVE3dCAAAAyycUd0IAAMAwehR3QgAAgJbMFHdCAABA/B4Vd0IAAABicRV3QgAAwMfDFXdCAACALRYWd0IAAECTaBZ3QgAAAPm6FndCAADAXg0Xd0IAAIDEXxd3QgAAQCqyF3dCAAAAkAQYd0IAAMD1Vhh3QgAAgFupGHdCAABAwfsYd0IAAAAnThl3QgAAwIygGXdCAACA8vIZd0IAAEBYRRp3QgAAAL6XGndCAADAI+oad0IAAICJPBt3QgAAQO+OG3dCAAAAVeEbd0IAAMC6Mxx3QgAAgCCGHHdCAABAhtgcd0IAAADsKh13QgAAwFF9HXdCAACAt88dd0IAAEAdIh53QgAAAIN0HndCAADA6MYed0IAAIBOGR93QgAAQLRrH3dCAAAAGr4fd0IAAMB/ECB3QgAAgOViIHdCAABAS7Ugd0IAAACxByF3Qg==\",\"dtype\":\"float64\",\"shape\":[113]},\"death\":[0,0,0,0,0,0,0,0,0,0,0,0,0,0,0,0,0,0,0,0,0,0,0,0,0,0,0,0,0,0,0,0,0,0,0,0,0,0,0,0,0,0,0,1,0,2,0,1,1,0,5,2,8,4,19,15,19,30,30,43,34,63,80,78,112,93,132,93,175,135,166,149,166,115,103,234,147,148,117,133,94,86,122,190,182,144,142,84,67,165,139,124,112,120,67,43,48,145,84,98,94,69,26,87,36,85,71,64,18,16,54,52,28],\"death_ma\":{\"__ndarray__\":\"AAAAAAAAAAAAAAAAAAAAAAAAAAAAAAAAAAAAAAAAAAAAAAAAAAAAAAAAAAAAAAAAAAAAAAAAAAAAAAAAAAAAAAAAAAAAAAAAAAAAAAAAAAAAAAAAAAAAAAAAAAAAAAAAAAAAAAAAAAAAAAAAAAAAAAAAAAAAAAAAAAAAAAAAAAAAAAAAAAAAAAAAAAAAAAAAAAAAAAAAAAAAAAAAAAAAAAAAAAAAAAAAAAAAAAAAAAAAAAAAAAAAAAAAAAAAAAAAAAAAAAAAAAAAAAAAAAAAAAAAAAAAAAAAAAAAAAAAAAAAAAAAAAAAAAAAAAAAAAAAAAAAAAAAAAAAAAAAAAAAAAAAAAAAAAAAAAAAAAAAAAAAAAAAAAAAAAAAAAAAAAAAAAAAAAAAAAAAAAAAAAAAAAAAAAAAAAAAAAAAAAAAAAAAAAAAAAAAAAAAAAAAAAAAAAAAAAAAAACSJEmSJEnCP5IkSZIkScI/27Zt27Zt2z/btm3btm3bP5IkSZIkSeI/t23btm3b5j+3bdu2bdvmPyVJkiRJkvQ/SZIkSZIk+T/btm3btm0DQAAAAAAAAAhAkiRJkiRJFkCSJEmSJEkeQCVJkiRJkiRAbtu2bdu2K0C3bdu2bdsxQLdt27Zt2zZASZIkSZIkO0Bu27Zt27ZAQLdt27ZtW0VAJUmSJEmSSUDbtm3btm1PQG7btm3b9lFASZIkSZIkVUAAAAAAAEBXQAAAAAAAQFtAbtu2bds2XUDbtm3bti1gQG7btm3b1mBASZIkSZIkYkBu27Zt29ZhQEmSJEmSBGJAJUmSJEkSY0CSJEmSJEljQG7btm3b9mJASZIkSZJkYkDbtm3bts1hQNu2bdu2bWFAAAAAAAAgYUAAAAAAAEBeQJIkSZIkyV9AAAAAAACAYEC3bdu2bftgQEmSJEmSJGFAbtu2bdv2YEAAAAAAAKBgQEmSJEmSZGFAt23btm17YEBJkiRJkuReQAAAAAAAwF1Abtu2bdv2XEC3bdu2bVtcQAAAAAAAgFtAJUmSJElSV0CSJEmSJIlXQLdt27ZtG1ZAt23btm2bVUDbtm3btq1UQAAAAAAAwFRASZIkSZIkVECSJEmSJIlVQEmSJEmSpFFA27Zt27atUUBu27Zt27ZQQJIkSZIkSU9ASZIkSZKkS0Dbtm3btu1KQCVJkiRJkkhAbtu2bdu2SUBJkiRJkqRFQA==\",\"dtype\":\"float64\",\"shape\":[113]},\"index\":[0,1,2,3,4,5,6,7,8,9,10,11,12,13,14,15,16,17,18,19,20,21,22,23,24,25,26,27,28,29,30,31,32,33,34,35,36,37,38,39,40,41,42,43,44,45,46,47,48,49,50,51,52,53,54,55,56,57,58,59,60,61,62,63,64,65,66,67,68,69,70,71,72,73,74,75,76,77,78,79,80,81,82,83,84,85,86,87,88,89,90,91,92,93,94,95,96,97,98,99,100,101,102,103,104,105,106,107,108,109,110,111,112],\"recovered\":[0,0,0,0,0,0,0,0,0,0,0,0,0,0,0,0,0,0,0,0,0,0,0,0,0,0,0,0,0,0,0,0,0,0,0,0,0,0,0,0,0,0,0,0,0,0,0,0,0,0,0,2,0,0,0,0,0,0,0,0,0,1,1,2,0,0,247,0,0,7,0,0,2,-5,1,14,0,6,9,4,4,0,2,7,7,4,2,5,0,-248,27,0,1,0,15,0,0,2,6,13,0,0,0,1,7,1,0,2,0,0,0,8,2],\"recovered_ma\":{\"__ndarray__\":\"AAAAAAAAAAAAAAAAAAAAAAAAAAAAAAAAAAAAAAAAAAAAAAAAAAAAAAAAAAAAAAAAAAAAAAAAAAAAAAAAAAAAAAAAAAAAAAAAAAAAAAAAAAAAAAAAAAAAAAAAAAAAAAAAAAAAAAAAAAAAAAAAAAAAAAAAAAAAAAAAAAAAAAAAAAAAAAAAAAAAAAAAAAAAAAAAAAAAAAAAAAAAAAAAAAAAAAAAAAAAAAAAAAAAAAAAAAAAAAAAAAAAAAAAAAAAAAAAAAAAAAAAAAAAAAAAAAAAAAAAAAAAAAAAAAAAAAAAAAAAAAAAAAAAAAAAAAAAAAAAAAAAAAAAAAAAAAAAAAAAAAAAAAAAAAAAAAAAAAAAAAAAAAAAAAAAAAAAAAAAAAAAAAAAAAAAAAAAAAAAAAAAAAAAAAAAAAAAAAAAAAAAAAAAAAAAAAAAAAAAAAAAAAAAAAAAAAAAAAAAAAAAAAAAAAAAAAAAAAAAAAAAAAAAAAAAAAAAAAAAAAAAAAAAAAAAAAAAAAAAAAAAAAAAAAAAAAAAAAAAAAAAkiRJkiRJ0j+SJEmSJEnSP5IkSZIkSdI/kiRJkiRJ0j+SJEmSJEnSP5IkSZIkSdI/kiRJkiRJ0j8AAAAAAAAAAAAAAAAAAAAAAAAAAAAAAACSJEmSJEnCP5IkSZIkSdI/kiRJkiRJ4j+SJEmSJEniP5IkSZIkSeI/27Zt27btQUDbtm3btu1BQLdt27Zt20FAkiRJkiRJQkBJkiRJkiRCQEmSJEmSJEJAkiRJkiRJQkCSJEmSJEniP7dt27Zt2+Y/btu2bdu2BUDbtm3btm37PyVJkiRJkgRAt23btm3bDkAlSZIkSZIQQG7btm3bthVASZIkSZIkFUAlSZIkSZIMQJIkSZIkSRJAt23btm3bEkAAAAAAAAAQQG7btm3btg1At23btm3bDkC3bdu2bdsOQLdt27Zt2z/AAAAAAAAAPcAAAAAAAAA+wNu2bdu2bT7Abtu2bdu2PsCSJEmSJEk9wJIkSZIkST3AJUmSJEmSGEAlSZIkSZIEQNu2bdu2bQtAJUmSJEmSFEAlSZIkSZIUQAAAAAAAAAhAAAAAAAAACEBJkiRJkiQJQLdt27Zt2w5ASZIkSZIkCUAlSZIkSZL0P0mSJEmSJPk/SZIkSZIk+T9JkiRJkiT5P7dt27Zt2/Y/SZIkSZIk+T/btm3btm37Pw==\",\"dtype\":\"float64\",\"shape\":[113]}},\"selected\":{\"id\":\"75784\"},\"selection_policy\":{\"id\":\"75783\"}},\"id\":\"75713\",\"type\":\"ColumnDataSource\"},{\"attributes\":{\"months\":[0,6]},\"id\":\"75768\",\"type\":\"MonthsTicker\"},{\"attributes\":{\"axis\":{\"id\":\"75725\"},\"ticker\":null},\"id\":\"75728\",\"type\":\"Grid\"},{\"attributes\":{},\"id\":\"75736\",\"type\":\"SaveTool\"},{\"attributes\":{},\"id\":\"75769\",\"type\":\"YearsTicker\"},{\"attributes\":{\"months\":[0,1,2,3,4,5,6,7,8,9,10,11]},\"id\":\"75765\",\"type\":\"MonthsTicker\"},{\"attributes\":{},\"id\":\"75723\",\"type\":\"LinearScale\"},{\"attributes\":{\"items\":[{\"id\":\"75771\"},{\"id\":\"75797\"}],\"location\":\"top_left\"},\"id\":\"75770\",\"type\":\"Legend\"},{\"attributes\":{\"start\":0},\"id\":\"75719\",\"type\":\"DataRange1d\"},{\"attributes\":{},\"id\":\"75730\",\"type\":\"BasicTicker\"},{\"attributes\":{\"months\":[0,4,8]},\"id\":\"75767\",\"type\":\"MonthsTicker\"},{\"attributes\":{\"label\":{\"value\":\"deaths\"},\"renderers\":[{\"id\":\"75750\"}]},\"id\":\"75771\",\"type\":\"LegendItem\"},{\"attributes\":{\"days\":[1,15]},\"id\":\"75764\",\"type\":\"DaysTicker\"},{\"attributes\":{},\"id\":\"75783\",\"type\":\"UnionRenderers\"},{\"attributes\":{},\"id\":\"75734\",\"type\":\"WheelZoomTool\"},{\"attributes\":{},\"id\":\"75717\",\"type\":\"DataRange1d\"},{\"attributes\":{},\"id\":\"75733\",\"type\":\"PanTool\"},{\"attributes\":{},\"id\":\"75737\",\"type\":\"ResetTool\"},{\"attributes\":{\"months\":[0,2,4,6,8,10]},\"id\":\"75766\",\"type\":\"MonthsTicker\"},{\"attributes\":{\"line_alpha\":0.1,\"line_color\":\"blue\",\"line_width\":2,\"x\":{\"field\":\"date\"},\"y\":{\"field\":\"death_ma\"}},\"id\":\"75774\",\"type\":\"Line\"},{\"attributes\":{\"data_source\":{\"id\":\"75713\"},\"glyph\":{\"id\":\"75748\"},\"hover_glyph\":null,\"muted_glyph\":null,\"nonselection_glyph\":{\"id\":\"75749\"},\"selection_glyph\":null,\"view\":{\"id\":\"75751\"}},\"id\":\"75750\",\"type\":\"GlyphRenderer\"},{\"attributes\":{\"source\":{\"id\":\"75713\"}},\"id\":\"75776\",\"type\":\"CDSView\"},{\"attributes\":{\"axis_label\":\"Persons\",\"formatter\":{\"id\":\"75756\"},\"ticker\":{\"id\":\"75730\"}},\"id\":\"75729\",\"type\":\"LinearAxis\"},{\"attributes\":{\"text\":\"Covid Progress\"},\"id\":\"75715\",\"type\":\"Title\"},{\"attributes\":{\"axis\":{\"id\":\"75729\"},\"dimension\":1,\"ticker\":null},\"id\":\"75732\",\"type\":\"Grid\"},{\"attributes\":{\"data_source\":{\"id\":\"75713\"},\"glyph\":{\"id\":\"75773\"},\"hover_glyph\":null,\"muted_glyph\":null,\"nonselection_glyph\":{\"id\":\"75774\"},\"selection_glyph\":null,\"view\":{\"id\":\"75776\"}},\"id\":\"75775\",\"type\":\"GlyphRenderer\"}],\"root_ids\":[\"75714\"]},\"title\":\"Bokeh Application\",\"version\":\"2.0.2\"}};\n",
       "  var render_items = [{\"docid\":\"6b45c17f-89ad-4ab3-917a-dce3a35b8562\",\"root_ids\":[\"75714\"],\"roots\":{\"75714\":\"db0740d0-0027-4e7a-b3bd-13532c02cd7b\"}}];\n",
       "  root.Bokeh.embed.embed_items_notebook(docs_json, render_items);\n",
       "\n",
       "  }\n",
       "  if (root.Bokeh !== undefined) {\n",
       "    embed_document(root);\n",
       "  } else {\n",
       "    var attempts = 0;\n",
       "    var timer = setInterval(function(root) {\n",
       "      if (root.Bokeh !== undefined) {\n",
       "        clearInterval(timer);\n",
       "        embed_document(root);\n",
       "      } else {\n",
       "        attempts++;\n",
       "        if (attempts > 100) {\n",
       "          clearInterval(timer);\n",
       "          console.log(\"Bokeh: ERROR: Unable to run BokehJS code because BokehJS library is missing\");\n",
       "        }\n",
       "      }\n",
       "    }, 10, root)\n",
       "  }\n",
       "})(window);"
      ],
      "application/vnd.bokehjs_exec.v0+json": ""
     },
     "metadata": {
      "application/vnd.bokehjs_exec.v0+json": {
       "id": "75714"
      }
     },
     "output_type": "display_data"
    }
   ],
   "source": [
    "# deaths\n",
    "#set source\n",
    "source = ColumnDataSource(daily_s)\n",
    "\n",
    "# use a time-delata for the width\n",
    "bar_w = pd.Timedelta(hours = 12)\n",
    "\n",
    "\n",
    "# create the plot\n",
    "p = figure(title = 'Covid Progress', \n",
    "           x_axis_type=\"datetime\",\n",
    "           x_axis_label = 'Date',\n",
    "           y_axis_label = 'Persons',\n",
    "           plot_height = 400,\n",
    "           plot_width = 700)\n",
    "\n",
    "p.vbar(x='date', width = bar_w, top='death', source=source, color = 'blue', alpha = 0.1, legend_label = 'deaths')\n",
    "p.line(x='date', y='death_ma', line_width=2 ,source=source, color='blue', legend_label='7-day MA')\n",
    "\n",
    "p.y_range.start = 0\n",
    "p.legend.location = \"top_left\"\n",
    "\n",
    "show(p)"
   ]
  },
  {
   "cell_type": "code",
   "execution_count": 425,
   "metadata": {},
   "outputs": [
    {
     "data": {
      "text/html": [
       "\n",
       "\n",
       "\n",
       "\n",
       "\n",
       "\n",
       "  <div class=\"bk-root\" id=\"235b3afc-0834-4fae-a790-504d8703117f\" data-root-id=\"77323\"></div>\n"
      ]
     },
     "metadata": {},
     "output_type": "display_data"
    },
    {
     "data": {
      "application/javascript": [
       "(function(root) {\n",
       "  function embed_document(root) {\n",
       "    \n",
       "  var docs_json = {\"663545fd-9964-48b7-9b6e-4243334c647d\":{\"roots\":{\"references\":[{\"attributes\":{\"below\":[{\"id\":\"77334\"}],\"center\":[{\"id\":\"77337\"},{\"id\":\"77341\"},{\"id\":\"77379\"}],\"left\":[{\"id\":\"77338\"}],\"plot_height\":400,\"plot_width\":700,\"renderers\":[{\"id\":\"77359\"},{\"id\":\"77384\"}],\"title\":{\"id\":\"77324\"},\"toolbar\":{\"id\":\"77349\"},\"x_range\":{\"id\":\"77326\"},\"x_scale\":{\"id\":\"77330\"},\"y_range\":{\"id\":\"77328\"},\"y_scale\":{\"id\":\"77332\"}},\"id\":\"77323\",\"subtype\":\"Figure\",\"type\":\"Plot\"},{\"attributes\":{\"base\":60,\"mantissas\":[1,2,5,10,15,20,30],\"max_interval\":1800000.0,\"min_interval\":1000.0,\"num_minor_ticks\":0},\"id\":\"77368\",\"type\":\"AdaptiveTicker\"},{\"attributes\":{\"months\":[0,1,2,3,4,5,6,7,8,9,10,11]},\"id\":\"77374\",\"type\":\"MonthsTicker\"},{\"attributes\":{},\"id\":\"77339\",\"type\":\"BasicTicker\"},{\"attributes\":{\"months\":[0,2,4,6,8,10]},\"id\":\"77375\",\"type\":\"MonthsTicker\"},{\"attributes\":{\"axis\":{\"id\":\"77338\"},\"dimension\":1,\"ticker\":null},\"id\":\"77341\",\"type\":\"Grid\"},{\"attributes\":{\"months\":[0,4,8]},\"id\":\"77376\",\"type\":\"MonthsTicker\"},{\"attributes\":{\"fill_alpha\":{\"value\":0.1},\"fill_color\":{\"value\":\"green\"},\"line_alpha\":{\"value\":0.1},\"line_color\":{\"value\":\"green\"},\"top\":{\"field\":\"recovered\"},\"width\":{\"value\":43200000.0},\"x\":{\"field\":\"date\"}},\"id\":\"77357\",\"type\":\"VBar\"},{\"attributes\":{\"months\":[0,6]},\"id\":\"77377\",\"type\":\"MonthsTicker\"},{\"attributes\":{\"data_source\":{\"id\":\"77322\"},\"glyph\":{\"id\":\"77357\"},\"hover_glyph\":null,\"muted_glyph\":null,\"nonselection_glyph\":{\"id\":\"77358\"},\"selection_glyph\":null,\"view\":{\"id\":\"77360\"}},\"id\":\"77359\",\"type\":\"GlyphRenderer\"},{\"attributes\":{},\"id\":\"77378\",\"type\":\"YearsTicker\"},{\"attributes\":{\"base\":24,\"mantissas\":[1,2,4,6,8,12],\"max_interval\":43200000.0,\"min_interval\":3600000.0,\"num_minor_ticks\":0},\"id\":\"77369\",\"type\":\"AdaptiveTicker\"},{\"attributes\":{\"items\":[{\"id\":\"77380\"},{\"id\":\"77406\"}],\"location\":\"top_left\"},\"id\":\"77379\",\"type\":\"Legend\"},{\"attributes\":{\"days\":[1,4,7,10,13,16,19,22,25,28]},\"id\":\"77371\",\"type\":\"DaysTicker\"},{\"attributes\":{},\"id\":\"77342\",\"type\":\"PanTool\"},{\"attributes\":{\"label\":{\"value\":\"recovered\"},\"renderers\":[{\"id\":\"77359\"}]},\"id\":\"77380\",\"type\":\"LegendItem\"},{\"attributes\":{},\"id\":\"77343\",\"type\":\"WheelZoomTool\"},{\"attributes\":{\"data\":{\"confirmed\":[0,0,0,0,0,0,0,0,0,0,0,0,0,0,0,0,0,0,0,0,0,0,0,0,0,0,0,0,0,0,0,0,0,0,0,1,0,5,4,8,6,14,44,46,60,77,56,61,121,0,303,156,176,278,295,347,409,536,637,577,547,816,858,1030,1179,1172,1111,887,850,1029,1092,1033,906,1226,973,783,973,1221,1346,1322,1175,964,870,736,1067,1236,1147,1072,750,729,715,889,808,655,656,400,172,386,514,477,445,335,199,318,232,455,319,289,245,161,196,227,270],\"confirmed_ma\":{\"__ndarray__\":\"AAAAAAAAAAAAAAAAAAAAAAAAAAAAAAAAAAAAAAAAAAAAAAAAAAAAAAAAAAAAAAAAAAAAAAAAAAAAAAAAAAAAAAAAAAAAAAAAAAAAAAAAAAAAAAAAAAAAAAAAAAAAAAAAAAAAAAAAAAAAAAAAAAAAAAAAAAAAAAAAAAAAAAAAAAAAAAAAAAAAAAAAAAAAAAAAAAAAAAAAAAAAAAAAAAAAAAAAAAAAAAAAAAAAAAAAAAAAAAAAAAAAAAAAAAAAAAAAAAAAAAAAAAAAAAAAAAAAAAAAAAAAAAAAAAAAAAAAAAAAAAAAAAAAAAAAAAAAAAAAAAAAAAAAAAAAAAAAAAAAAAAAAAAAAAAAAAAAAAAAAAAAAAAAAAAAAJIkSZIkScI/kiRJkiRJwj/btm3btm3rP7dt27Zt2/Y/JUmSJEmSBEDbtm3btm0LQG7btm3bthVASZIkSZIkJ0BJkiRJkiQyQAAAAAAAADpAbtu2bds2QkBJkiRJkqRFQCVJkiRJkklAt23btm2bUEAlSZIkSRJOQG7btm3bNlhASZIkSZKkW0Dbtm3bti1fQNu2bdu2jWNAt23btm27Z0BJkiRJksRrQJIkSZIkiXFA27Zt27adc0CSJEmSJOl3QNu2bdu2fXtASZIkSZLkfUDbtm3btkWBQNu2bdu2jYNAt23btm1ThkAlSZIkSTKJQNu2bdu2lYtAAAAAAAD4jUBJkiRJknyPQLdt27Zto49At23btm0zkEBu27Zt21aQQLdt27ZtA5BAbtu2bdvWjkAlSZIkSVqPQEmSJEmSvI9AAAAAAABwj0AAAAAAADCPQLdt27Ztw49ASZIkSZKUkEAlSZIkSYKRQJIkSZIkZZFAAAAAAABgkUDbtm3btpGRQCVJkiRJCpFAJUmSJEmykEC3bdu2bXOQQLdt27ZtD5BAkiRJkiSpj0BJkiRJkrSOQLdt27ZtE45At23btm37jUAAAAAAADCNQG7btm3bRotASZIkSZIUiUCSJEmSJDmHQJIkSZIkqYVASZIkSZIsg0BJkiRJkrSBQAAAAAAACIBAt23btm0bfUC3bdu2bTt7QNu2bdu2XXhAJUmSJEmSdkAAAAAAAOB3QAAAAAAAgHZAkiRJkiT5dUAAAAAAAJB0QLdt27ZtK3NA27Zt27ZdckBu27Zt2wZyQAAAAAAA8HBASZIkSZLkcEC3bdu2bXtuQA==\",\"dtype\":\"float64\",\"shape\":[113]},\"country\":[\"Netherlands\",\"Netherlands\",\"Netherlands\",\"Netherlands\",\"Netherlands\",\"Netherlands\",\"Netherlands\",\"Netherlands\",\"Netherlands\",\"Netherlands\",\"Netherlands\",\"Netherlands\",\"Netherlands\",\"Netherlands\",\"Netherlands\",\"Netherlands\",\"Netherlands\",\"Netherlands\",\"Netherlands\",\"Netherlands\",\"Netherlands\",\"Netherlands\",\"Netherlands\",\"Netherlands\",\"Netherlands\",\"Netherlands\",\"Netherlands\",\"Netherlands\",\"Netherlands\",\"Netherlands\",\"Netherlands\",\"Netherlands\",\"Netherlands\",\"Netherlands\",\"Netherlands\",\"Netherlands\",\"Netherlands\",\"Netherlands\",\"Netherlands\",\"Netherlands\",\"Netherlands\",\"Netherlands\",\"Netherlands\",\"Netherlands\",\"Netherlands\",\"Netherlands\",\"Netherlands\",\"Netherlands\",\"Netherlands\",\"Netherlands\",\"Netherlands\",\"Netherlands\",\"Netherlands\",\"Netherlands\",\"Netherlands\",\"Netherlands\",\"Netherlands\",\"Netherlands\",\"Netherlands\",\"Netherlands\",\"Netherlands\",\"Netherlands\",\"Netherlands\",\"Netherlands\",\"Netherlands\",\"Netherlands\",\"Netherlands\",\"Netherlands\",\"Netherlands\",\"Netherlands\",\"Netherlands\",\"Netherlands\",\"Netherlands\",\"Netherlands\",\"Netherlands\",\"Netherlands\",\"Netherlands\",\"Netherlands\",\"Netherlands\",\"Netherlands\",\"Netherlands\",\"Netherlands\",\"Netherlands\",\"Netherlands\",\"Netherlands\",\"Netherlands\",\"Netherlands\",\"Netherlands\",\"Netherlands\",\"Netherlands\",\"Netherlands\",\"Netherlands\",\"Netherlands\",\"Netherlands\",\"Netherlands\",\"Netherlands\",\"Netherlands\",\"Netherlands\",\"Netherlands\",\"Netherlands\",\"Netherlands\",\"Netherlands\",\"Netherlands\",\"Netherlands\",\"Netherlands\",\"Netherlands\",\"Netherlands\",\"Netherlands\",\"Netherlands\",\"Netherlands\",\"Netherlands\",\"Netherlands\",\"Netherlands\"],\"date\":{\"__ndarray__\":\"AAAALfv8dkIAAMCSTf12QgAAgPif/XZCAABAXvL9dkIAAADERP52QgAAwCmX/nZCAACAj+n+dkIAAED1O/92QgAAAFuO/3ZCAADAwOD/dkIAAIAmMwB3QgAAQIyFAHdCAAAA8tcAd0IAAMBXKgF3QgAAgL18AXdCAABAI88Bd0IAAACJIQJ3QgAAwO5zAndCAACAVMYCd0IAAEC6GAN3QgAAACBrA3dCAADAhb0Dd0IAAIDrDwR3QgAAQFFiBHdCAAAAt7QEd0IAAMAcBwV3QgAAgIJZBXdCAABA6KsFd0IAAABO/gV3QgAAwLNQBndCAACAGaMGd0IAAEB/9QZ3QgAAAOVHB3dCAADASpoHd0IAAICw7Ad3QgAAQBY/CHdCAAAAfJEId0IAAMDh4wh3QgAAgEc2CXdCAABArYgJd0IAAAAT2wl3QgAAwHgtCndCAACA3n8Kd0IAAEBE0gp3QgAAAKokC3dCAADAD3cLd0IAAIB1yQt3QgAAQNsbDHdCAAAAQW4Md0IAAMCmwAx3QgAAgAwTDXdCAABAcmUNd0IAAADYtw13QgAAwD0KDndCAACAo1wOd0IAAEAJrw53QgAAAG8BD3dCAADA1FMPd0IAAIA6pg93QgAAQKD4D3dCAAAABksQd0IAAMBrnRB3QgAAgNHvEHdCAABAN0IRd0IAAACdlBF3QgAAwALnEXdCAACAaDkSd0IAAEDOixJ3QgAAADTeEndCAADAmTATd0IAAID/ghN3QgAAQGXVE3dCAAAAyycUd0IAAMAwehR3QgAAgJbMFHdCAABA/B4Vd0IAAABicRV3QgAAwMfDFXdCAACALRYWd0IAAECTaBZ3QgAAAPm6FndCAADAXg0Xd0IAAIDEXxd3QgAAQCqyF3dCAAAAkAQYd0IAAMD1Vhh3QgAAgFupGHdCAABAwfsYd0IAAAAnThl3QgAAwIygGXdCAACA8vIZd0IAAEBYRRp3QgAAAL6XGndCAADAI+oad0IAAICJPBt3QgAAQO+OG3dCAAAAVeEbd0IAAMC6Mxx3QgAAgCCGHHdCAABAhtgcd0IAAADsKh13QgAAwFF9HXdCAACAt88dd0IAAEAdIh53QgAAAIN0HndCAADA6MYed0IAAIBOGR93QgAAQLRrH3dCAAAAGr4fd0IAAMB/ECB3QgAAgOViIHdCAABAS7Ugd0IAAACxByF3Qg==\",\"dtype\":\"float64\",\"shape\":[113]},\"death\":[0,0,0,0,0,0,0,0,0,0,0,0,0,0,0,0,0,0,0,0,0,0,0,0,0,0,0,0,0,0,0,0,0,0,0,0,0,0,0,0,0,0,0,1,0,2,0,1,1,0,5,2,8,4,19,15,19,30,30,43,34,63,80,78,112,93,132,93,175,135,166,149,166,115,103,234,147,148,117,133,94,86,122,190,182,144,142,84,67,165,139,124,112,120,67,43,48,145,84,98,94,69,26,87,36,85,71,64,18,16,54,52,28],\"death_ma\":{\"__ndarray__\":\"AAAAAAAAAAAAAAAAAAAAAAAAAAAAAAAAAAAAAAAAAAAAAAAAAAAAAAAAAAAAAAAAAAAAAAAAAAAAAAAAAAAAAAAAAAAAAAAAAAAAAAAAAAAAAAAAAAAAAAAAAAAAAAAAAAAAAAAAAAAAAAAAAAAAAAAAAAAAAAAAAAAAAAAAAAAAAAAAAAAAAAAAAAAAAAAAAAAAAAAAAAAAAAAAAAAAAAAAAAAAAAAAAAAAAAAAAAAAAAAAAAAAAAAAAAAAAAAAAAAAAAAAAAAAAAAAAAAAAAAAAAAAAAAAAAAAAAAAAAAAAAAAAAAAAAAAAAAAAAAAAAAAAAAAAAAAAAAAAAAAAAAAAAAAAAAAAAAAAAAAAAAAAAAAAAAAAAAAAAAAAAAAAAAAAAAAAAAAAAAAAAAAAAAAAAAAAAAAAAAAAAAAAAAAAAAAAAAAAAAAAAAAAAAAAAAAAAAAAACSJEmSJEnCP5IkSZIkScI/27Zt27Zt2z/btm3btm3bP5IkSZIkSeI/t23btm3b5j+3bdu2bdvmPyVJkiRJkvQ/SZIkSZIk+T/btm3btm0DQAAAAAAAAAhAkiRJkiRJFkCSJEmSJEkeQCVJkiRJkiRAbtu2bdu2K0C3bdu2bdsxQLdt27Zt2zZASZIkSZIkO0Bu27Zt27ZAQLdt27ZtW0VAJUmSJEmSSUDbtm3btm1PQG7btm3b9lFASZIkSZIkVUAAAAAAAEBXQAAAAAAAQFtAbtu2bds2XUDbtm3bti1gQG7btm3b1mBASZIkSZIkYkBu27Zt29ZhQEmSJEmSBGJAJUmSJEkSY0CSJEmSJEljQG7btm3b9mJASZIkSZJkYkDbtm3bts1hQNu2bdu2bWFAAAAAAAAgYUAAAAAAAEBeQJIkSZIkyV9AAAAAAACAYEC3bdu2bftgQEmSJEmSJGFAbtu2bdv2YEAAAAAAAKBgQEmSJEmSZGFAt23btm17YEBJkiRJkuReQAAAAAAAwF1Abtu2bdv2XEC3bdu2bVtcQAAAAAAAgFtAJUmSJElSV0CSJEmSJIlXQLdt27ZtG1ZAt23btm2bVUDbtm3btq1UQAAAAAAAwFRASZIkSZIkVECSJEmSJIlVQEmSJEmSpFFA27Zt27atUUBu27Zt27ZQQJIkSZIkSU9ASZIkSZKkS0Dbtm3btu1KQCVJkiRJkkhAbtu2bdu2SUBJkiRJkqRFQA==\",\"dtype\":\"float64\",\"shape\":[113]},\"index\":[0,1,2,3,4,5,6,7,8,9,10,11,12,13,14,15,16,17,18,19,20,21,22,23,24,25,26,27,28,29,30,31,32,33,34,35,36,37,38,39,40,41,42,43,44,45,46,47,48,49,50,51,52,53,54,55,56,57,58,59,60,61,62,63,64,65,66,67,68,69,70,71,72,73,74,75,76,77,78,79,80,81,82,83,84,85,86,87,88,89,90,91,92,93,94,95,96,97,98,99,100,101,102,103,104,105,106,107,108,109,110,111,112],\"recovered\":[0,0,0,0,0,0,0,0,0,0,0,0,0,0,0,0,0,0,0,0,0,0,0,0,0,0,0,0,0,0,0,0,0,0,0,0,0,0,0,0,0,0,0,0,0,0,0,0,0,0,0,2,0,0,0,0,0,0,0,0,0,1,1,2,0,0,247,0,0,7,0,0,2,-5,1,14,0,6,9,4,4,0,2,7,7,4,2,5,0,-248,27,0,1,0,15,0,0,2,6,13,0,0,0,1,7,1,0,2,0,0,0,8,2],\"recovered_ma\":{\"__ndarray__\":\"AAAAAAAAAAAAAAAAAAAAAAAAAAAAAAAAAAAAAAAAAAAAAAAAAAAAAAAAAAAAAAAAAAAAAAAAAAAAAAAAAAAAAAAAAAAAAAAAAAAAAAAAAAAAAAAAAAAAAAAAAAAAAAAAAAAAAAAAAAAAAAAAAAAAAAAAAAAAAAAAAAAAAAAAAAAAAAAAAAAAAAAAAAAAAAAAAAAAAAAAAAAAAAAAAAAAAAAAAAAAAAAAAAAAAAAAAAAAAAAAAAAAAAAAAAAAAAAAAAAAAAAAAAAAAAAAAAAAAAAAAAAAAAAAAAAAAAAAAAAAAAAAAAAAAAAAAAAAAAAAAAAAAAAAAAAAAAAAAAAAAAAAAAAAAAAAAAAAAAAAAAAAAAAAAAAAAAAAAAAAAAAAAAAAAAAAAAAAAAAAAAAAAAAAAAAAAAAAAAAAAAAAAAAAAAAAAAAAAAAAAAAAAAAAAAAAAAAAAAAAAAAAAAAAAAAAAAAAAAAAAAAAAAAAAAAAAAAAAAAAAAAAAAAAAAAAAAAAAAAAAAAAAAAAAAAAAAAAAAAAAAAAkiRJkiRJ0j+SJEmSJEnSP5IkSZIkSdI/kiRJkiRJ0j+SJEmSJEnSP5IkSZIkSdI/kiRJkiRJ0j8AAAAAAAAAAAAAAAAAAAAAAAAAAAAAAACSJEmSJEnCP5IkSZIkSdI/kiRJkiRJ4j+SJEmSJEniP5IkSZIkSeI/27Zt27btQUDbtm3btu1BQLdt27Zt20FAkiRJkiRJQkBJkiRJkiRCQEmSJEmSJEJAkiRJkiRJQkCSJEmSJEniP7dt27Zt2+Y/btu2bdu2BUDbtm3btm37PyVJkiRJkgRAt23btm3bDkAlSZIkSZIQQG7btm3bthVASZIkSZIkFUAlSZIkSZIMQJIkSZIkSRJAt23btm3bEkAAAAAAAAAQQG7btm3btg1At23btm3bDkC3bdu2bdsOQLdt27Zt2z/AAAAAAAAAPcAAAAAAAAA+wNu2bdu2bT7Abtu2bdu2PsCSJEmSJEk9wJIkSZIkST3AJUmSJEmSGEAlSZIkSZIEQNu2bdu2bQtAJUmSJEmSFEAlSZIkSZIUQAAAAAAAAAhAAAAAAAAACEBJkiRJkiQJQLdt27Zt2w5ASZIkSZIkCUAlSZIkSZL0P0mSJEmSJPk/SZIkSZIk+T9JkiRJkiT5P7dt27Zt2/Y/SZIkSZIk+T/btm3btm37Pw==\",\"dtype\":\"float64\",\"shape\":[113]}},\"selected\":{\"id\":\"77393\"},\"selection_policy\":{\"id\":\"77392\"}},\"id\":\"77322\",\"type\":\"ColumnDataSource\"},{\"attributes\":{\"mantissas\":[1,2,5],\"max_interval\":500.0,\"num_minor_ticks\":0},\"id\":\"77367\",\"type\":\"AdaptiveTicker\"},{\"attributes\":{\"overlay\":{\"id\":\"77348\"}},\"id\":\"77344\",\"type\":\"BoxZoomTool\"},{\"attributes\":{},\"id\":\"77365\",\"type\":\"BasicTickFormatter\"},{\"attributes\":{},\"id\":\"77345\",\"type\":\"SaveTool\"},{\"attributes\":{},\"id\":\"77392\",\"type\":\"UnionRenderers\"},{\"attributes\":{\"text\":\"Covid Progress\"},\"id\":\"77324\",\"type\":\"Title\"},{\"attributes\":{\"line_alpha\":0.1,\"line_color\":\"green\",\"line_width\":2,\"x\":{\"field\":\"date\"},\"y\":{\"field\":\"recovered_ma\"}},\"id\":\"77383\",\"type\":\"Line\"},{\"attributes\":{\"start\":0},\"id\":\"77328\",\"type\":\"DataRange1d\"},{\"attributes\":{},\"id\":\"77346\",\"type\":\"ResetTool\"},{\"attributes\":{},\"id\":\"77330\",\"type\":\"LinearScale\"},{\"attributes\":{\"source\":{\"id\":\"77322\"}},\"id\":\"77385\",\"type\":\"CDSView\"},{\"attributes\":{},\"id\":\"77347\",\"type\":\"HelpTool\"},{\"attributes\":{\"line_color\":\"green\",\"line_width\":2,\"x\":{\"field\":\"date\"},\"y\":{\"field\":\"recovered_ma\"}},\"id\":\"77382\",\"type\":\"Line\"},{\"attributes\":{\"data_source\":{\"id\":\"77322\"},\"glyph\":{\"id\":\"77382\"},\"hover_glyph\":null,\"muted_glyph\":null,\"nonselection_glyph\":{\"id\":\"77383\"},\"selection_glyph\":null,\"view\":{\"id\":\"77385\"}},\"id\":\"77384\",\"type\":\"GlyphRenderer\"},{\"attributes\":{\"axis_label\":\"Date\",\"formatter\":{\"id\":\"77363\"},\"ticker\":{\"id\":\"77335\"}},\"id\":\"77334\",\"type\":\"DatetimeAxis\"},{\"attributes\":{\"fill_alpha\":{\"value\":0.1},\"fill_color\":{\"value\":\"green\"},\"line_alpha\":{\"value\":0.1},\"line_color\":{\"value\":\"green\"},\"top\":{\"field\":\"recovered\"},\"width\":{\"value\":43200000.0},\"x\":{\"field\":\"date\"}},\"id\":\"77358\",\"type\":\"VBar\"},{\"attributes\":{\"active_drag\":\"auto\",\"active_inspect\":\"auto\",\"active_multi\":null,\"active_scroll\":\"auto\",\"active_tap\":\"auto\",\"tools\":[{\"id\":\"77342\"},{\"id\":\"77343\"},{\"id\":\"77344\"},{\"id\":\"77345\"},{\"id\":\"77346\"},{\"id\":\"77347\"}]},\"id\":\"77349\",\"type\":\"Toolbar\"},{\"attributes\":{},\"id\":\"77326\",\"type\":\"DataRange1d\"},{\"attributes\":{},\"id\":\"77393\",\"type\":\"Selection\"},{\"attributes\":{\"bottom_units\":\"screen\",\"fill_alpha\":0.5,\"fill_color\":\"lightgrey\",\"left_units\":\"screen\",\"level\":\"overlay\",\"line_alpha\":1.0,\"line_color\":\"black\",\"line_dash\":[4,4],\"line_width\":2,\"render_mode\":\"css\",\"right_units\":\"screen\",\"top_units\":\"screen\"},\"id\":\"77348\",\"type\":\"BoxAnnotation\"},{\"attributes\":{\"label\":{\"value\":\"7-day MA\"},\"renderers\":[{\"id\":\"77384\"}]},\"id\":\"77406\",\"type\":\"LegendItem\"},{\"attributes\":{\"days\":[1,2,3,4,5,6,7,8,9,10,11,12,13,14,15,16,17,18,19,20,21,22,23,24,25,26,27,28,29,30,31]},\"id\":\"77370\",\"type\":\"DaysTicker\"},{\"attributes\":{},\"id\":\"77332\",\"type\":\"LinearScale\"},{\"attributes\":{\"days\":[1,8,15,22]},\"id\":\"77372\",\"type\":\"DaysTicker\"},{\"attributes\":{},\"id\":\"77363\",\"type\":\"DatetimeTickFormatter\"},{\"attributes\":{\"num_minor_ticks\":5,\"tickers\":[{\"id\":\"77367\"},{\"id\":\"77368\"},{\"id\":\"77369\"},{\"id\":\"77370\"},{\"id\":\"77371\"},{\"id\":\"77372\"},{\"id\":\"77373\"},{\"id\":\"77374\"},{\"id\":\"77375\"},{\"id\":\"77376\"},{\"id\":\"77377\"},{\"id\":\"77378\"}]},\"id\":\"77335\",\"type\":\"DatetimeTicker\"},{\"attributes\":{\"source\":{\"id\":\"77322\"}},\"id\":\"77360\",\"type\":\"CDSView\"},{\"attributes\":{\"axis\":{\"id\":\"77334\"},\"ticker\":null},\"id\":\"77337\",\"type\":\"Grid\"},{\"attributes\":{\"axis_label\":\"Persons\",\"formatter\":{\"id\":\"77365\"},\"ticker\":{\"id\":\"77339\"}},\"id\":\"77338\",\"type\":\"LinearAxis\"},{\"attributes\":{\"days\":[1,15]},\"id\":\"77373\",\"type\":\"DaysTicker\"}],\"root_ids\":[\"77323\"]},\"title\":\"Bokeh Application\",\"version\":\"2.0.2\"}};\n",
       "  var render_items = [{\"docid\":\"663545fd-9964-48b7-9b6e-4243334c647d\",\"root_ids\":[\"77323\"],\"roots\":{\"77323\":\"235b3afc-0834-4fae-a790-504d8703117f\"}}];\n",
       "  root.Bokeh.embed.embed_items_notebook(docs_json, render_items);\n",
       "\n",
       "  }\n",
       "  if (root.Bokeh !== undefined) {\n",
       "    embed_document(root);\n",
       "  } else {\n",
       "    var attempts = 0;\n",
       "    var timer = setInterval(function(root) {\n",
       "      if (root.Bokeh !== undefined) {\n",
       "        clearInterval(timer);\n",
       "        embed_document(root);\n",
       "      } else {\n",
       "        attempts++;\n",
       "        if (attempts > 100) {\n",
       "          clearInterval(timer);\n",
       "          console.log(\"Bokeh: ERROR: Unable to run BokehJS code because BokehJS library is missing\");\n",
       "        }\n",
       "      }\n",
       "    }, 10, root)\n",
       "  }\n",
       "})(window);"
      ],
      "application/vnd.bokehjs_exec.v0+json": ""
     },
     "metadata": {
      "application/vnd.bokehjs_exec.v0+json": {
       "id": "77323"
      }
     },
     "output_type": "display_data"
    }
   ],
   "source": [
    "# recovered\n",
    "#set source\n",
    "source = ColumnDataSource(daily_s)\n",
    "\n",
    "# use a time-delata for the width\n",
    "bar_w = pd.Timedelta(hours = 12)\n",
    "\n",
    "\n",
    "# create the plot\n",
    "p = figure(title = 'Covid Progress', \n",
    "           x_axis_type=\"datetime\",\n",
    "           x_axis_label = 'Date',\n",
    "           y_axis_label = 'Persons',\n",
    "           plot_height = 400,\n",
    "           plot_width = 700)\n",
    "\n",
    "p.vbar(x='date', width = bar_w, top='recovered', source=source, color = 'green', alpha = 0.1, legend_label = 'recovered')\n",
    "p.line(x='date', y='recovered_ma', line_width=2 ,source=source, color='green', legend_label='7-day MA')\n",
    "\n",
    "p.y_range.start = 0\n",
    "p.legend.location = \"top_left\"\n",
    "\n",
    "show(p)"
   ]
  },
  {
   "cell_type": "code",
   "execution_count": 426,
   "metadata": {},
   "outputs": [
    {
     "data": {
      "text/html": [
       "\n",
       "\n",
       "\n",
       "\n",
       "\n",
       "\n",
       "  <div class=\"bk-root\" id=\"e6246b3c-036d-4506-9790-7936caf16032\" data-root-id=\"78952\"></div>\n"
      ]
     },
     "metadata": {},
     "output_type": "display_data"
    },
    {
     "data": {
      "application/javascript": [
       "(function(root) {\n",
       "  function embed_document(root) {\n",
       "    \n",
       "  var docs_json = {\"72691538-a9b5-4497-90e5-ed4ec0817b16\":{\"roots\":{\"references\":[{\"attributes\":{\"below\":[{\"id\":\"78963\"}],\"center\":[{\"id\":\"78966\"},{\"id\":\"78970\"},{\"id\":\"79008\"}],\"left\":[{\"id\":\"78967\"}],\"plot_height\":400,\"plot_width\":700,\"renderers\":[{\"id\":\"78988\"},{\"id\":\"79013\"},{\"id\":\"79018\"},{\"id\":\"79044\"}],\"title\":{\"id\":\"78953\"},\"toolbar\":{\"id\":\"78978\"},\"x_range\":{\"id\":\"78955\"},\"x_scale\":{\"id\":\"78959\"},\"y_range\":{\"id\":\"78957\"},\"y_scale\":{\"id\":\"78961\"}},\"id\":\"78952\",\"subtype\":\"Figure\",\"type\":\"Plot\"},{\"attributes\":{},\"id\":\"79007\",\"type\":\"YearsTicker\"},{\"attributes\":{},\"id\":\"78972\",\"type\":\"WheelZoomTool\"},{\"attributes\":{\"data_source\":{\"id\":\"78951\"},\"glyph\":{\"id\":\"79042\"},\"hover_glyph\":null,\"muted_glyph\":null,\"nonselection_glyph\":{\"id\":\"79043\"},\"selection_glyph\":null,\"view\":{\"id\":\"79045\"}},\"id\":\"79044\",\"type\":\"GlyphRenderer\"},{\"attributes\":{\"items\":[{\"id\":\"79009\"},{\"id\":\"79040\"}],\"location\":\"top_left\"},\"id\":\"79008\",\"type\":\"Legend\"},{\"attributes\":{},\"id\":\"78959\",\"type\":\"LinearScale\"},{\"attributes\":{\"overlay\":{\"id\":\"78977\"}},\"id\":\"78973\",\"type\":\"BoxZoomTool\"},{\"attributes\":{\"start\":0},\"id\":\"78957\",\"type\":\"DataRange1d\"},{\"attributes\":{\"source\":{\"id\":\"78951\"}},\"id\":\"79045\",\"type\":\"CDSView\"},{\"attributes\":{\"label\":{\"value\":\"confirmed cases\"},\"renderers\":[{\"id\":\"78988\"}]},\"id\":\"79009\",\"type\":\"LegendItem\"},{\"attributes\":{},\"id\":\"78974\",\"type\":\"SaveTool\"},{\"attributes\":{},\"id\":\"79026\",\"type\":\"UnionRenderers\"},{\"attributes\":{},\"id\":\"78975\",\"type\":\"ResetTool\"},{\"attributes\":{},\"id\":\"78955\",\"type\":\"DataRange1d\"},{\"attributes\":{},\"id\":\"78976\",\"type\":\"HelpTool\"},{\"attributes\":{\"text\":\"Covid Progress\"},\"id\":\"78953\",\"type\":\"Title\"},{\"attributes\":{\"line_alpha\":0.1,\"line_color\":\"red\",\"line_width\":2,\"x\":{\"field\":\"date\"},\"y\":{\"field\":\"confirmed_ma\"}},\"id\":\"79012\",\"type\":\"Line\"},{\"attributes\":{\"days\":[1,4,7,10,13,16,19,22,25,28]},\"id\":\"79000\",\"type\":\"DaysTicker\"},{\"attributes\":{\"source\":{\"id\":\"78951\"}},\"id\":\"79014\",\"type\":\"CDSView\"},{\"attributes\":{},\"id\":\"78994\",\"type\":\"BasicTickFormatter\"},{\"attributes\":{\"mantissas\":[1,2,5],\"max_interval\":500.0,\"num_minor_ticks\":0},\"id\":\"78996\",\"type\":\"AdaptiveTicker\"},{\"attributes\":{\"active_drag\":\"auto\",\"active_inspect\":\"auto\",\"active_multi\":null,\"active_scroll\":\"auto\",\"active_tap\":\"auto\",\"tools\":[{\"id\":\"78971\"},{\"id\":\"78972\"},{\"id\":\"78973\"},{\"id\":\"78974\"},{\"id\":\"78975\"},{\"id\":\"78976\"}]},\"id\":\"78978\",\"type\":\"Toolbar\"},{\"attributes\":{\"bottom_units\":\"screen\",\"fill_alpha\":0.5,\"fill_color\":\"lightgrey\",\"left_units\":\"screen\",\"level\":\"overlay\",\"line_alpha\":1.0,\"line_color\":\"black\",\"line_dash\":[4,4],\"line_width\":2,\"render_mode\":\"css\",\"right_units\":\"screen\",\"top_units\":\"screen\"},\"id\":\"78977\",\"type\":\"BoxAnnotation\"},{\"attributes\":{\"line_color\":\"red\",\"line_width\":2,\"x\":{\"field\":\"date\"},\"y\":{\"field\":\"confirmed_ma\"}},\"id\":\"79011\",\"type\":\"Line\"},{\"attributes\":{},\"id\":\"78961\",\"type\":\"LinearScale\"},{\"attributes\":{\"data_source\":{\"id\":\"78951\"},\"glyph\":{\"id\":\"79011\"},\"hover_glyph\":null,\"muted_glyph\":null,\"nonselection_glyph\":{\"id\":\"79012\"},\"selection_glyph\":null,\"view\":{\"id\":\"79014\"}},\"id\":\"79013\",\"type\":\"GlyphRenderer\"},{\"attributes\":{\"axis_label\":\"Date\",\"formatter\":{\"id\":\"78992\"},\"ticker\":{\"id\":\"78964\"}},\"id\":\"78963\",\"type\":\"DatetimeAxis\"},{\"attributes\":{\"data_source\":{\"id\":\"78951\"},\"glyph\":{\"id\":\"78986\"},\"hover_glyph\":null,\"muted_glyph\":null,\"nonselection_glyph\":{\"id\":\"78987\"},\"selection_glyph\":null,\"view\":{\"id\":\"78989\"}},\"id\":\"78988\",\"type\":\"GlyphRenderer\"},{\"attributes\":{\"num_minor_ticks\":5,\"tickers\":[{\"id\":\"78996\"},{\"id\":\"78997\"},{\"id\":\"78998\"},{\"id\":\"78999\"},{\"id\":\"79000\"},{\"id\":\"79001\"},{\"id\":\"79002\"},{\"id\":\"79003\"},{\"id\":\"79004\"},{\"id\":\"79005\"},{\"id\":\"79006\"},{\"id\":\"79007\"}]},\"id\":\"78964\",\"type\":\"DatetimeTicker\"},{\"attributes\":{\"data_source\":{\"id\":\"78951\"},\"glyph\":{\"id\":\"79016\"},\"hover_glyph\":null,\"muted_glyph\":null,\"nonselection_glyph\":{\"id\":\"79017\"},\"selection_glyph\":null,\"view\":{\"id\":\"79019\"}},\"id\":\"79018\",\"type\":\"GlyphRenderer\"},{\"attributes\":{\"source\":{\"id\":\"78951\"}},\"id\":\"78989\",\"type\":\"CDSView\"},{\"attributes\":{\"axis\":{\"id\":\"78963\"},\"ticker\":null},\"id\":\"78966\",\"type\":\"Grid\"},{\"attributes\":{\"fill_alpha\":{\"value\":0.2},\"fill_color\":{\"value\":\"blue\"},\"line_alpha\":{\"value\":0.2},\"line_color\":{\"value\":\"blue\"},\"top\":{\"field\":\"death\"},\"width\":{\"value\":43200000.0},\"x\":{\"field\":\"date\"}},\"id\":\"79016\",\"type\":\"VBar\"},{\"attributes\":{\"base\":24,\"mantissas\":[1,2,4,6,8,12],\"max_interval\":43200000.0,\"min_interval\":3600000.0,\"num_minor_ticks\":0},\"id\":\"78998\",\"type\":\"AdaptiveTicker\"},{\"attributes\":{},\"id\":\"78992\",\"type\":\"DatetimeTickFormatter\"},{\"attributes\":{\"axis_label\":\"Persons\",\"formatter\":{\"id\":\"78994\"},\"ticker\":{\"id\":\"78968\"}},\"id\":\"78967\",\"type\":\"LinearAxis\"},{\"attributes\":{\"fill_alpha\":{\"value\":0.1},\"fill_color\":{\"value\":\"blue\"},\"line_alpha\":{\"value\":0.1},\"line_color\":{\"value\":\"blue\"},\"top\":{\"field\":\"death\"},\"width\":{\"value\":43200000.0},\"x\":{\"field\":\"date\"}},\"id\":\"79017\",\"type\":\"VBar\"},{\"attributes\":{\"base\":60,\"mantissas\":[1,2,5,10,15,20,30],\"max_interval\":1800000.0,\"min_interval\":1000.0,\"num_minor_ticks\":0},\"id\":\"78997\",\"type\":\"AdaptiveTicker\"},{\"attributes\":{\"days\":[1,8,15,22]},\"id\":\"79001\",\"type\":\"DaysTicker\"},{\"attributes\":{},\"id\":\"78968\",\"type\":\"BasicTicker\"},{\"attributes\":{},\"id\":\"79027\",\"type\":\"Selection\"},{\"attributes\":{\"days\":[1,2,3,4,5,6,7,8,9,10,11,12,13,14,15,16,17,18,19,20,21,22,23,24,25,26,27,28,29,30,31]},\"id\":\"78999\",\"type\":\"DaysTicker\"},{\"attributes\":{\"days\":[1,15]},\"id\":\"79002\",\"type\":\"DaysTicker\"},{\"attributes\":{\"axis\":{\"id\":\"78967\"},\"dimension\":1,\"ticker\":null},\"id\":\"78970\",\"type\":\"Grid\"},{\"attributes\":{\"source\":{\"id\":\"78951\"}},\"id\":\"79019\",\"type\":\"CDSView\"},{\"attributes\":{\"label\":{\"value\":\"deaths\"},\"renderers\":[{\"id\":\"79018\"}]},\"id\":\"79040\",\"type\":\"LegendItem\"},{\"attributes\":{\"months\":[0,1,2,3,4,5,6,7,8,9,10,11]},\"id\":\"79003\",\"type\":\"MonthsTicker\"},{\"attributes\":{\"fill_alpha\":{\"value\":0.1},\"fill_color\":{\"value\":\"red\"},\"line_alpha\":{\"value\":0.1},\"line_color\":{\"value\":\"red\"},\"top\":{\"field\":\"confirmed\"},\"width\":{\"value\":43200000.0},\"x\":{\"field\":\"date\"}},\"id\":\"78987\",\"type\":\"VBar\"},{\"attributes\":{\"months\":[0,2,4,6,8,10]},\"id\":\"79004\",\"type\":\"MonthsTicker\"},{\"attributes\":{\"fill_alpha\":{\"value\":0.2},\"fill_color\":{\"value\":\"red\"},\"line_alpha\":{\"value\":0.2},\"line_color\":{\"value\":\"red\"},\"top\":{\"field\":\"confirmed\"},\"width\":{\"value\":43200000.0},\"x\":{\"field\":\"date\"}},\"id\":\"78986\",\"type\":\"VBar\"},{\"attributes\":{\"months\":[0,4,8]},\"id\":\"79005\",\"type\":\"MonthsTicker\"},{\"attributes\":{\"line_color\":\"blue\",\"line_width\":2,\"x\":{\"field\":\"date\"},\"y\":{\"field\":\"death_ma\"}},\"id\":\"79042\",\"type\":\"Line\"},{\"attributes\":{\"data\":{\"confirmed\":[0,0,0,0,0,0,0,0,0,0,0,0,0,0,0,0,0,0,0,0,0,0,0,0,0,0,0,0,0,0,0,0,0,0,0,1,0,5,4,8,6,14,44,46,60,77,56,61,121,0,303,156,176,278,295,347,409,536,637,577,547,816,858,1030,1179,1172,1111,887,850,1029,1092,1033,906,1226,973,783,973,1221,1346,1322,1175,964,870,736,1067,1236,1147,1072,750,729,715,889,808,655,656,400,172,386,514,477,445,335,199,318,232,455,319,289,245,161,196,227,270],\"confirmed_ma\":{\"__ndarray__\":\"AAAAAAAAAAAAAAAAAAAAAAAAAAAAAAAAAAAAAAAAAAAAAAAAAAAAAAAAAAAAAAAAAAAAAAAAAAAAAAAAAAAAAAAAAAAAAAAAAAAAAAAAAAAAAAAAAAAAAAAAAAAAAAAAAAAAAAAAAAAAAAAAAAAAAAAAAAAAAAAAAAAAAAAAAAAAAAAAAAAAAAAAAAAAAAAAAAAAAAAAAAAAAAAAAAAAAAAAAAAAAAAAAAAAAAAAAAAAAAAAAAAAAAAAAAAAAAAAAAAAAAAAAAAAAAAAAAAAAAAAAAAAAAAAAAAAAAAAAAAAAAAAAAAAAAAAAAAAAAAAAAAAAAAAAAAAAAAAAAAAAAAAAAAAAAAAAAAAAAAAAAAAAAAAAAAAAJIkSZIkScI/kiRJkiRJwj/btm3btm3rP7dt27Zt2/Y/JUmSJEmSBEDbtm3btm0LQG7btm3bthVASZIkSZIkJ0BJkiRJkiQyQAAAAAAAADpAbtu2bds2QkBJkiRJkqRFQCVJkiRJkklAt23btm2bUEAlSZIkSRJOQG7btm3bNlhASZIkSZKkW0Dbtm3bti1fQNu2bdu2jWNAt23btm27Z0BJkiRJksRrQJIkSZIkiXFA27Zt27adc0CSJEmSJOl3QNu2bdu2fXtASZIkSZLkfUDbtm3btkWBQNu2bdu2jYNAt23btm1ThkAlSZIkSTKJQNu2bdu2lYtAAAAAAAD4jUBJkiRJknyPQLdt27Zto49At23btm0zkEBu27Zt21aQQLdt27ZtA5BAbtu2bdvWjkAlSZIkSVqPQEmSJEmSvI9AAAAAAABwj0AAAAAAADCPQLdt27Ztw49ASZIkSZKUkEAlSZIkSYKRQJIkSZIkZZFAAAAAAABgkUDbtm3btpGRQCVJkiRJCpFAJUmSJEmykEC3bdu2bXOQQLdt27ZtD5BAkiRJkiSpj0BJkiRJkrSOQLdt27ZtE45At23btm37jUAAAAAAADCNQG7btm3bRotASZIkSZIUiUCSJEmSJDmHQJIkSZIkqYVASZIkSZIsg0BJkiRJkrSBQAAAAAAACIBAt23btm0bfUC3bdu2bTt7QNu2bdu2XXhAJUmSJEmSdkAAAAAAAOB3QAAAAAAAgHZAkiRJkiT5dUAAAAAAAJB0QLdt27ZtK3NA27Zt27ZdckBu27Zt2wZyQAAAAAAA8HBASZIkSZLkcEC3bdu2bXtuQA==\",\"dtype\":\"float64\",\"shape\":[113]},\"country\":[\"Netherlands\",\"Netherlands\",\"Netherlands\",\"Netherlands\",\"Netherlands\",\"Netherlands\",\"Netherlands\",\"Netherlands\",\"Netherlands\",\"Netherlands\",\"Netherlands\",\"Netherlands\",\"Netherlands\",\"Netherlands\",\"Netherlands\",\"Netherlands\",\"Netherlands\",\"Netherlands\",\"Netherlands\",\"Netherlands\",\"Netherlands\",\"Netherlands\",\"Netherlands\",\"Netherlands\",\"Netherlands\",\"Netherlands\",\"Netherlands\",\"Netherlands\",\"Netherlands\",\"Netherlands\",\"Netherlands\",\"Netherlands\",\"Netherlands\",\"Netherlands\",\"Netherlands\",\"Netherlands\",\"Netherlands\",\"Netherlands\",\"Netherlands\",\"Netherlands\",\"Netherlands\",\"Netherlands\",\"Netherlands\",\"Netherlands\",\"Netherlands\",\"Netherlands\",\"Netherlands\",\"Netherlands\",\"Netherlands\",\"Netherlands\",\"Netherlands\",\"Netherlands\",\"Netherlands\",\"Netherlands\",\"Netherlands\",\"Netherlands\",\"Netherlands\",\"Netherlands\",\"Netherlands\",\"Netherlands\",\"Netherlands\",\"Netherlands\",\"Netherlands\",\"Netherlands\",\"Netherlands\",\"Netherlands\",\"Netherlands\",\"Netherlands\",\"Netherlands\",\"Netherlands\",\"Netherlands\",\"Netherlands\",\"Netherlands\",\"Netherlands\",\"Netherlands\",\"Netherlands\",\"Netherlands\",\"Netherlands\",\"Netherlands\",\"Netherlands\",\"Netherlands\",\"Netherlands\",\"Netherlands\",\"Netherlands\",\"Netherlands\",\"Netherlands\",\"Netherlands\",\"Netherlands\",\"Netherlands\",\"Netherlands\",\"Netherlands\",\"Netherlands\",\"Netherlands\",\"Netherlands\",\"Netherlands\",\"Netherlands\",\"Netherlands\",\"Netherlands\",\"Netherlands\",\"Netherlands\",\"Netherlands\",\"Netherlands\",\"Netherlands\",\"Netherlands\",\"Netherlands\",\"Netherlands\",\"Netherlands\",\"Netherlands\",\"Netherlands\",\"Netherlands\",\"Netherlands\",\"Netherlands\",\"Netherlands\"],\"date\":{\"__ndarray__\":\"AAAALfv8dkIAAMCSTf12QgAAgPif/XZCAABAXvL9dkIAAADERP52QgAAwCmX/nZCAACAj+n+dkIAAED1O/92QgAAAFuO/3ZCAADAwOD/dkIAAIAmMwB3QgAAQIyFAHdCAAAA8tcAd0IAAMBXKgF3QgAAgL18AXdCAABAI88Bd0IAAACJIQJ3QgAAwO5zAndCAACAVMYCd0IAAEC6GAN3QgAAACBrA3dCAADAhb0Dd0IAAIDrDwR3QgAAQFFiBHdCAAAAt7QEd0IAAMAcBwV3QgAAgIJZBXdCAABA6KsFd0IAAABO/gV3QgAAwLNQBndCAACAGaMGd0IAAEB/9QZ3QgAAAOVHB3dCAADASpoHd0IAAICw7Ad3QgAAQBY/CHdCAAAAfJEId0IAAMDh4wh3QgAAgEc2CXdCAABArYgJd0IAAAAT2wl3QgAAwHgtCndCAACA3n8Kd0IAAEBE0gp3QgAAAKokC3dCAADAD3cLd0IAAIB1yQt3QgAAQNsbDHdCAAAAQW4Md0IAAMCmwAx3QgAAgAwTDXdCAABAcmUNd0IAAADYtw13QgAAwD0KDndCAACAo1wOd0IAAEAJrw53QgAAAG8BD3dCAADA1FMPd0IAAIA6pg93QgAAQKD4D3dCAAAABksQd0IAAMBrnRB3QgAAgNHvEHdCAABAN0IRd0IAAACdlBF3QgAAwALnEXdCAACAaDkSd0IAAEDOixJ3QgAAADTeEndCAADAmTATd0IAAID/ghN3QgAAQGXVE3dCAAAAyycUd0IAAMAwehR3QgAAgJbMFHdCAABA/B4Vd0IAAABicRV3QgAAwMfDFXdCAACALRYWd0IAAECTaBZ3QgAAAPm6FndCAADAXg0Xd0IAAIDEXxd3QgAAQCqyF3dCAAAAkAQYd0IAAMD1Vhh3QgAAgFupGHdCAABAwfsYd0IAAAAnThl3QgAAwIygGXdCAACA8vIZd0IAAEBYRRp3QgAAAL6XGndCAADAI+oad0IAAICJPBt3QgAAQO+OG3dCAAAAVeEbd0IAAMC6Mxx3QgAAgCCGHHdCAABAhtgcd0IAAADsKh13QgAAwFF9HXdCAACAt88dd0IAAEAdIh53QgAAAIN0HndCAADA6MYed0IAAIBOGR93QgAAQLRrH3dCAAAAGr4fd0IAAMB/ECB3QgAAgOViIHdCAABAS7Ugd0IAAACxByF3Qg==\",\"dtype\":\"float64\",\"shape\":[113]},\"death\":[0,0,0,0,0,0,0,0,0,0,0,0,0,0,0,0,0,0,0,0,0,0,0,0,0,0,0,0,0,0,0,0,0,0,0,0,0,0,0,0,0,0,0,1,0,2,0,1,1,0,5,2,8,4,19,15,19,30,30,43,34,63,80,78,112,93,132,93,175,135,166,149,166,115,103,234,147,148,117,133,94,86,122,190,182,144,142,84,67,165,139,124,112,120,67,43,48,145,84,98,94,69,26,87,36,85,71,64,18,16,54,52,28],\"death_ma\":{\"__ndarray__\":\"AAAAAAAAAAAAAAAAAAAAAAAAAAAAAAAAAAAAAAAAAAAAAAAAAAAAAAAAAAAAAAAAAAAAAAAAAAAAAAAAAAAAAAAAAAAAAAAAAAAAAAAAAAAAAAAAAAAAAAAAAAAAAAAAAAAAAAAAAAAAAAAAAAAAAAAAAAAAAAAAAAAAAAAAAAAAAAAAAAAAAAAAAAAAAAAAAAAAAAAAAAAAAAAAAAAAAAAAAAAAAAAAAAAAAAAAAAAAAAAAAAAAAAAAAAAAAAAAAAAAAAAAAAAAAAAAAAAAAAAAAAAAAAAAAAAAAAAAAAAAAAAAAAAAAAAAAAAAAAAAAAAAAAAAAAAAAAAAAAAAAAAAAAAAAAAAAAAAAAAAAAAAAAAAAAAAAAAAAAAAAAAAAAAAAAAAAAAAAAAAAAAAAAAAAAAAAAAAAAAAAAAAAAAAAAAAAAAAAAAAAAAAAAAAAAAAAAAAAACSJEmSJEnCP5IkSZIkScI/27Zt27Zt2z/btm3btm3bP5IkSZIkSeI/t23btm3b5j+3bdu2bdvmPyVJkiRJkvQ/SZIkSZIk+T/btm3btm0DQAAAAAAAAAhAkiRJkiRJFkCSJEmSJEkeQCVJkiRJkiRAbtu2bdu2K0C3bdu2bdsxQLdt27Zt2zZASZIkSZIkO0Bu27Zt27ZAQLdt27ZtW0VAJUmSJEmSSUDbtm3btm1PQG7btm3b9lFASZIkSZIkVUAAAAAAAEBXQAAAAAAAQFtAbtu2bds2XUDbtm3bti1gQG7btm3b1mBASZIkSZIkYkBu27Zt29ZhQEmSJEmSBGJAJUmSJEkSY0CSJEmSJEljQG7btm3b9mJASZIkSZJkYkDbtm3bts1hQNu2bdu2bWFAAAAAAAAgYUAAAAAAAEBeQJIkSZIkyV9AAAAAAACAYEC3bdu2bftgQEmSJEmSJGFAbtu2bdv2YEAAAAAAAKBgQEmSJEmSZGFAt23btm17YEBJkiRJkuReQAAAAAAAwF1Abtu2bdv2XEC3bdu2bVtcQAAAAAAAgFtAJUmSJElSV0CSJEmSJIlXQLdt27ZtG1ZAt23btm2bVUDbtm3btq1UQAAAAAAAwFRASZIkSZIkVECSJEmSJIlVQEmSJEmSpFFA27Zt27atUUBu27Zt27ZQQJIkSZIkSU9ASZIkSZKkS0Dbtm3btu1KQCVJkiRJkkhAbtu2bdu2SUBJkiRJkqRFQA==\",\"dtype\":\"float64\",\"shape\":[113]},\"index\":[0,1,2,3,4,5,6,7,8,9,10,11,12,13,14,15,16,17,18,19,20,21,22,23,24,25,26,27,28,29,30,31,32,33,34,35,36,37,38,39,40,41,42,43,44,45,46,47,48,49,50,51,52,53,54,55,56,57,58,59,60,61,62,63,64,65,66,67,68,69,70,71,72,73,74,75,76,77,78,79,80,81,82,83,84,85,86,87,88,89,90,91,92,93,94,95,96,97,98,99,100,101,102,103,104,105,106,107,108,109,110,111,112],\"recovered\":[0,0,0,0,0,0,0,0,0,0,0,0,0,0,0,0,0,0,0,0,0,0,0,0,0,0,0,0,0,0,0,0,0,0,0,0,0,0,0,0,0,0,0,0,0,0,0,0,0,0,0,2,0,0,0,0,0,0,0,0,0,1,1,2,0,0,247,0,0,7,0,0,2,-5,1,14,0,6,9,4,4,0,2,7,7,4,2,5,0,-248,27,0,1,0,15,0,0,2,6,13,0,0,0,1,7,1,0,2,0,0,0,8,2],\"recovered_ma\":{\"__ndarray__\":\"AAAAAAAAAAAAAAAAAAAAAAAAAAAAAAAAAAAAAAAAAAAAAAAAAAAAAAAAAAAAAAAAAAAAAAAAAAAAAAAAAAAAAAAAAAAAAAAAAAAAAAAAAAAAAAAAAAAAAAAAAAAAAAAAAAAAAAAAAAAAAAAAAAAAAAAAAAAAAAAAAAAAAAAAAAAAAAAAAAAAAAAAAAAAAAAAAAAAAAAAAAAAAAAAAAAAAAAAAAAAAAAAAAAAAAAAAAAAAAAAAAAAAAAAAAAAAAAAAAAAAAAAAAAAAAAAAAAAAAAAAAAAAAAAAAAAAAAAAAAAAAAAAAAAAAAAAAAAAAAAAAAAAAAAAAAAAAAAAAAAAAAAAAAAAAAAAAAAAAAAAAAAAAAAAAAAAAAAAAAAAAAAAAAAAAAAAAAAAAAAAAAAAAAAAAAAAAAAAAAAAAAAAAAAAAAAAAAAAAAAAAAAAAAAAAAAAAAAAAAAAAAAAAAAAAAAAAAAAAAAAAAAAAAAAAAAAAAAAAAAAAAAAAAAAAAAAAAAAAAAAAAAAAAAAAAAAAAAAAAAAAAAkiRJkiRJ0j+SJEmSJEnSP5IkSZIkSdI/kiRJkiRJ0j+SJEmSJEnSP5IkSZIkSdI/kiRJkiRJ0j8AAAAAAAAAAAAAAAAAAAAAAAAAAAAAAACSJEmSJEnCP5IkSZIkSdI/kiRJkiRJ4j+SJEmSJEniP5IkSZIkSeI/27Zt27btQUDbtm3btu1BQLdt27Zt20FAkiRJkiRJQkBJkiRJkiRCQEmSJEmSJEJAkiRJkiRJQkCSJEmSJEniP7dt27Zt2+Y/btu2bdu2BUDbtm3btm37PyVJkiRJkgRAt23btm3bDkAlSZIkSZIQQG7btm3bthVASZIkSZIkFUAlSZIkSZIMQJIkSZIkSRJAt23btm3bEkAAAAAAAAAQQG7btm3btg1At23btm3bDkC3bdu2bdsOQLdt27Zt2z/AAAAAAAAAPcAAAAAAAAA+wNu2bdu2bT7Abtu2bdu2PsCSJEmSJEk9wJIkSZIkST3AJUmSJEmSGEAlSZIkSZIEQNu2bdu2bQtAJUmSJEmSFEAlSZIkSZIUQAAAAAAAAAhAAAAAAAAACEBJkiRJkiQJQLdt27Zt2w5ASZIkSZIkCUAlSZIkSZL0P0mSJEmSJPk/SZIkSZIk+T9JkiRJkiT5P7dt27Zt2/Y/SZIkSZIk+T/btm3btm37Pw==\",\"dtype\":\"float64\",\"shape\":[113]}},\"selected\":{\"id\":\"79027\"},\"selection_policy\":{\"id\":\"79026\"}},\"id\":\"78951\",\"type\":\"ColumnDataSource\"},{\"attributes\":{},\"id\":\"78971\",\"type\":\"PanTool\"},{\"attributes\":{\"months\":[0,6]},\"id\":\"79006\",\"type\":\"MonthsTicker\"},{\"attributes\":{\"line_alpha\":0.1,\"line_color\":\"blue\",\"line_width\":2,\"x\":{\"field\":\"date\"},\"y\":{\"field\":\"death_ma\"}},\"id\":\"79043\",\"type\":\"Line\"}],\"root_ids\":[\"78952\"]},\"title\":\"Bokeh Application\",\"version\":\"2.0.2\"}};\n",
       "  var render_items = [{\"docid\":\"72691538-a9b5-4497-90e5-ed4ec0817b16\",\"root_ids\":[\"78952\"],\"roots\":{\"78952\":\"e6246b3c-036d-4506-9790-7936caf16032\"}}];\n",
       "  root.Bokeh.embed.embed_items_notebook(docs_json, render_items);\n",
       "\n",
       "  }\n",
       "  if (root.Bokeh !== undefined) {\n",
       "    embed_document(root);\n",
       "  } else {\n",
       "    var attempts = 0;\n",
       "    var timer = setInterval(function(root) {\n",
       "      if (root.Bokeh !== undefined) {\n",
       "        clearInterval(timer);\n",
       "        embed_document(root);\n",
       "      } else {\n",
       "        attempts++;\n",
       "        if (attempts > 100) {\n",
       "          clearInterval(timer);\n",
       "          console.log(\"Bokeh: ERROR: Unable to run BokehJS code because BokehJS library is missing\");\n",
       "        }\n",
       "      }\n",
       "    }, 10, root)\n",
       "  }\n",
       "})(window);"
      ],
      "application/vnd.bokehjs_exec.v0+json": ""
     },
     "metadata": {
      "application/vnd.bokehjs_exec.v0+json": {
       "id": "78952"
      }
     },
     "output_type": "display_data"
    }
   ],
   "source": [
    "# combined graph\n",
    "#set source\n",
    "source = ColumnDataSource(daily_s)\n",
    "\n",
    "# use a time-delata for the width\n",
    "bar_w = pd.Timedelta(hours = 12)\n",
    "\n",
    "\n",
    "# create the plot\n",
    "p = figure(title = 'Covid Progress', \n",
    "           x_axis_type=\"datetime\",\n",
    "           x_axis_label = 'Date',\n",
    "           y_axis_label = 'Persons',\n",
    "           plot_height = 400,\n",
    "           plot_width = 700)\n",
    "\n",
    "# confirmed cases\n",
    "p.vbar(x='date', width = bar_w, top='confirmed', source=source, color = 'red', alpha = 0.2, legend_label = 'confirmed cases')\n",
    "p.line(x='date', y='confirmed_ma', line_width=2 ,source=source, color='red')\n",
    "\n",
    "# deaths\n",
    "p.vbar(x='date', width = bar_w, top='death', source=source, color = 'blue', alpha = 0.2, legend_label = 'deaths')\n",
    "p.line(x='date', y='death_ma', line_width=2 ,source=source, color='blue')\n",
    "\n",
    "\n",
    "p.y_range.start = 0\n",
    "p.legend.location = \"top_left\"\n",
    "\n",
    "show(p)"
   ]
  },
  {
   "cell_type": "markdown",
   "metadata": {},
   "source": [
    "#### 4 Scale to population\n",
    "***\n",
    "Scraped data from: https://www.worldometers.info/world-population/population-by-country/"
   ]
  },
  {
   "cell_type": "code",
   "execution_count": 19,
   "metadata": {},
   "outputs": [
    {
     "name": "stdout",
     "output_type": "stream",
     "text": [
      "10 rows affected\n"
     ]
    }
   ],
   "source": [
    "# get overall numbers\n",
    "query = \"\"\"\n",
    "SELECT stats.country AS country,\n",
    "       date,\n",
    "       ROUND(confirmed/scaled_pop,2) AS conf_scaled,\n",
    "       ROUND(death/scaled_pop,2) AS death_scaled,\n",
    "       ROUND(recovered/scaled_pop,2) AS rec_scaled\n",
    "  FROM stats\n",
    "  JOIN (SELECT country, scaled_pop \n",
    "          FROM populations) AS pop\n",
    "    ON stats.country = pop.country\n",
    " WHERE date = (SELECT MAX(date) \n",
    "                 FROM stats)\n",
    " ORDER BY conf_scaled DESC\n",
    " LIMIT 10;\n",
    "\"\"\"\n",
    "\n",
    "top10_scaled = qdb.execute_query(query)"
   ]
  },
  {
   "cell_type": "code",
   "execution_count": 20,
   "metadata": {},
   "outputs": [
    {
     "data": {
      "text/html": [
       "\n",
       "\n",
       "\n",
       "\n",
       "\n",
       "\n",
       "  <div class=\"bk-root\" id=\"6aafee7e-85c8-4a19-9028-87de5962859d\" data-root-id=\"2615\"></div>\n"
      ]
     },
     "metadata": {},
     "output_type": "display_data"
    },
    {
     "data": {
      "application/javascript": [
       "(function(root) {\n",
       "  function embed_document(root) {\n",
       "    \n",
       "  var docs_json = {\"4dcd62e7-3ef8-4cc2-a5aa-9a21c8048e7c\":{\"roots\":{\"references\":[{\"attributes\":{\"below\":[{\"id\":\"2626\"}],\"center\":[{\"id\":\"2629\"},{\"id\":\"2632\"}],\"left\":[{\"id\":\"2630\"}],\"plot_height\":350,\"renderers\":[{\"id\":\"2637\"}],\"title\":{\"id\":\"2616\"},\"toolbar\":{\"id\":\"2633\"},\"toolbar_location\":null,\"x_range\":{\"id\":\"2618\"},\"x_scale\":{\"id\":\"2622\"},\"y_range\":{\"id\":\"2620\"},\"y_scale\":{\"id\":\"2624\"}},\"id\":\"2615\",\"subtype\":\"Figure\",\"type\":\"Plot\"},{\"attributes\":{\"formatter\":{\"id\":\"2757\"},\"ticker\":{\"id\":\"2631\"}},\"id\":\"2630\",\"type\":\"CategoricalAxis\"},{\"attributes\":{\"text\":\"most cases per 1M inhabitants\"},\"id\":\"2616\",\"type\":\"Title\"},{\"attributes\":{},\"id\":\"2757\",\"type\":\"CategoricalTickFormatter\"},{\"attributes\":{\"factors\":[\"United States\",\"Singapore\",\"Belgium\",\"Ireland\",\"Spain\",\"Iceland\",\"Luxembourg\",\"Qatar\",\"Andorra\",\"San Marino\"]},\"id\":\"2620\",\"type\":\"FactorRange\"},{\"attributes\":{\"start\":0},\"id\":\"2618\",\"type\":\"DataRange1d\"},{\"attributes\":{\"active_drag\":\"auto\",\"active_inspect\":\"auto\",\"active_multi\":null,\"active_scroll\":\"auto\",\"active_tap\":\"auto\"},\"id\":\"2633\",\"type\":\"Toolbar\"},{\"attributes\":{\"fill_alpha\":{\"value\":0.1},\"fill_color\":{\"value\":\"#1f77b4\"},\"height\":{\"value\":0.8},\"line_alpha\":{\"value\":0.1},\"line_color\":{\"value\":\"#1f77b4\"},\"right\":{\"field\":\"conf_scaled\"},\"y\":{\"field\":\"country\"}},\"id\":\"2636\",\"type\":\"HBar\"},{\"attributes\":{\"fill_color\":{\"value\":\"#1f77b4\"},\"height\":{\"value\":0.8},\"line_color\":{\"value\":\"#1f77b4\"},\"right\":{\"field\":\"conf_scaled\"},\"y\":{\"field\":\"country\"}},\"id\":\"2635\",\"type\":\"HBar\"},{\"attributes\":{\"axis\":{\"id\":\"2626\"},\"ticker\":null},\"id\":\"2629\",\"type\":\"Grid\"},{\"attributes\":{},\"id\":\"2759\",\"type\":\"Selection\"},{\"attributes\":{\"data\":{\"conf_scaled\":{\"__ndarray__\":\"FK5H4arE1EAAAAAAgIHCQOxRuB4lDsFAMzMzM/MkuEDD9ShcD7G0QGZmZmamDbNAj8L1KNxgskCF61G4HiCyQPYoXI9CebBAAAAAAAApsEA=\",\"dtype\":\"float64\",\"shape\":[10]},\"country\":[\"San Marino\",\"Andorra\",\"Qatar\",\"Luxembourg\",\"Iceland\",\"Spain\",\"Ireland\",\"Belgium\",\"Singapore\",\"United States\"],\"date\":{\"__ndarray__\":\"AACA5WIgd0IAAIDlYiB3QgAAgOViIHdCAACA5WIgd0IAAIDlYiB3QgAAgOViIHdCAACA5WIgd0IAAIDlYiB3QgAAgOViIHdCAACA5WIgd0I=\",\"dtype\":\"float64\",\"shape\":[10]},\"death_scaled\":{\"__ndarray__\":\"SOF6FK5alUAAAAAAAMCCQHE9CtejcBNAzczMzMw8ZEApXI/C9Wg9QHE9Ctej/oFAj8L1KFzTckDhehSuR5+HQLgehetRuAxAAAAAAAAAb0A=\",\"dtype\":\"float64\",\"shape\":[10]},\"index\":[0,1,2,3,4,5,6,7,8,9],\"rec_scaled\":{\"__ndarray__\":\"Urgehav2tEAAAAAAALy7QNejcD0KYZBAXI/C9ShitkDhehSuh2e0QFyPwvWoOadAhetRuB4Pq0AK16NwPYOSQLgehetRkoRAAAAAAAC4hUA=\",\"dtype\":\"float64\",\"shape\":[10]}},\"selected\":{\"id\":\"2759\"},\"selection_policy\":{\"id\":\"2758\"}},\"id\":\"2614\",\"type\":\"ColumnDataSource\"},{\"attributes\":{},\"id\":\"2755\",\"type\":\"BasicTickFormatter\"},{\"attributes\":{\"source\":{\"id\":\"2614\"}},\"id\":\"2638\",\"type\":\"CDSView\"},{\"attributes\":{},\"id\":\"2758\",\"type\":\"UnionRenderers\"},{\"attributes\":{},\"id\":\"2624\",\"type\":\"CategoricalScale\"},{\"attributes\":{},\"id\":\"2622\",\"type\":\"LinearScale\"},{\"attributes\":{\"data_source\":{\"id\":\"2614\"},\"glyph\":{\"id\":\"2635\"},\"hover_glyph\":null,\"muted_glyph\":null,\"nonselection_glyph\":{\"id\":\"2636\"},\"selection_glyph\":null,\"view\":{\"id\":\"2638\"}},\"id\":\"2637\",\"type\":\"GlyphRenderer\"},{\"attributes\":{\"axis\":{\"id\":\"2630\"},\"dimension\":1,\"grid_line_color\":null,\"ticker\":null},\"id\":\"2632\",\"type\":\"Grid\"},{\"attributes\":{\"formatter\":{\"id\":\"2755\"},\"ticker\":{\"id\":\"2627\"}},\"id\":\"2626\",\"type\":\"LinearAxis\"},{\"attributes\":{},\"id\":\"2627\",\"type\":\"BasicTicker\"},{\"attributes\":{},\"id\":\"2631\",\"type\":\"CategoricalTicker\"}],\"root_ids\":[\"2615\"]},\"title\":\"Bokeh Application\",\"version\":\"2.0.2\"}};\n",
       "  var render_items = [{\"docid\":\"4dcd62e7-3ef8-4cc2-a5aa-9a21c8048e7c\",\"root_ids\":[\"2615\"],\"roots\":{\"2615\":\"6aafee7e-85c8-4a19-9028-87de5962859d\"}}];\n",
       "  root.Bokeh.embed.embed_items_notebook(docs_json, render_items);\n",
       "\n",
       "  }\n",
       "  if (root.Bokeh !== undefined) {\n",
       "    embed_document(root);\n",
       "  } else {\n",
       "    var attempts = 0;\n",
       "    var timer = setInterval(function(root) {\n",
       "      if (root.Bokeh !== undefined) {\n",
       "        clearInterval(timer);\n",
       "        embed_document(root);\n",
       "      } else {\n",
       "        attempts++;\n",
       "        if (attempts > 100) {\n",
       "          clearInterval(timer);\n",
       "          console.log(\"Bokeh: ERROR: Unable to run BokehJS code because BokehJS library is missing\");\n",
       "        }\n",
       "      }\n",
       "    }, 10, root)\n",
       "  }\n",
       "})(window);"
      ],
      "application/vnd.bokehjs_exec.v0+json": ""
     },
     "metadata": {
      "application/vnd.bokehjs_exec.v0+json": {
       "id": "2615"
      }
     },
     "output_type": "display_data"
    }
   ],
   "source": [
    "plotTop10(top10_scaled, vals = 'conf_scaled', title = 'most cases per 1M inhabitants')"
   ]
  },
  {
   "cell_type": "code",
   "execution_count": null,
   "metadata": {},
   "outputs": [],
   "source": []
  },
  {
   "cell_type": "markdown",
   "metadata": {},
   "source": [
    "#### for daily stats"
   ]
  },
  {
   "cell_type": "code",
   "execution_count": 21,
   "metadata": {},
   "outputs": [
    {
     "name": "stdout",
     "output_type": "stream",
     "text": [
      "10 rows affected\n"
     ]
    }
   ],
   "source": [
    "# get overall numbers\n",
    "query = \"\"\"\n",
    "SELECT daily_stats.country AS country,\n",
    "       date,\n",
    "       ROUND(confirmed/scaled_pop,2) AS conf_scaled,\n",
    "       ROUND(death/scaled_pop,2) AS death_scaled,\n",
    "       ROUND(recovered/scaled_pop,2) AS rec_scaled\n",
    "  FROM daily_stats\n",
    "  JOIN (SELECT country, \n",
    "               scaled_pop \n",
    "          FROM populations) AS pop\n",
    "    ON daily_stats.country = pop.country\n",
    " WHERE date = (SELECT MAX(date) \n",
    "                 FROM daily_stats)\n",
    " ORDER BY conf_scaled DESC\n",
    " LIMIT 10;  \n",
    "\"\"\"\n",
    "\n",
    "top10_scaled_today = qdb.execute_query(query)"
   ]
  },
  {
   "cell_type": "code",
   "execution_count": 22,
   "metadata": {},
   "outputs": [
    {
     "data": {
      "text/html": [
       "\n",
       "\n",
       "\n",
       "\n",
       "\n",
       "\n",
       "  <div class=\"bk-root\" id=\"5bd5f1d7-d0b8-4453-8168-723f271d103b\" data-root-id=\"2803\"></div>\n"
      ]
     },
     "metadata": {},
     "output_type": "display_data"
    },
    {
     "data": {
      "application/javascript": [
       "(function(root) {\n",
       "  function embed_document(root) {\n",
       "    \n",
       "  var docs_json = {\"c188c169-783c-4959-b655-191c2d012eb3\":{\"roots\":{\"references\":[{\"attributes\":{\"below\":[{\"id\":\"2814\"}],\"center\":[{\"id\":\"2817\"},{\"id\":\"2820\"}],\"left\":[{\"id\":\"2818\"}],\"plot_height\":350,\"renderers\":[{\"id\":\"2825\"}],\"title\":{\"id\":\"2804\"},\"toolbar\":{\"id\":\"2821\"},\"toolbar_location\":null,\"x_range\":{\"id\":\"2806\"},\"x_scale\":{\"id\":\"2810\"},\"y_range\":{\"id\":\"2808\"},\"y_scale\":{\"id\":\"2812\"}},\"id\":\"2803\",\"subtype\":\"Figure\",\"type\":\"Plot\"},{\"attributes\":{},\"id\":\"2810\",\"type\":\"LinearScale\"},{\"attributes\":{},\"id\":\"2812\",\"type\":\"CategoricalScale\"},{\"attributes\":{\"formatter\":{\"id\":\"2950\"},\"ticker\":{\"id\":\"2815\"}},\"id\":\"2814\",\"type\":\"LinearAxis\"},{\"attributes\":{},\"id\":\"2815\",\"type\":\"BasicTicker\"},{\"attributes\":{\"axis\":{\"id\":\"2814\"},\"ticker\":null},\"id\":\"2817\",\"type\":\"Grid\"},{\"attributes\":{\"data\":{\"conf_scaled\":{\"__ndarray__\":\"exSuR+GOgEDhehSuR9V0QMP1KFyPAm1AKVyPwvWwZUBcj8L1KCRiQIXrUbgelVlA7FG4HoWLWECuR+F6FK5VQHsUrkfhylNAXI/C9SisUkA=\",\"dtype\":\"float64\",\"shape\":[10]},\"country\":[\"Qatar\",\"San Marino\",\"Kuwait\",\"Bahrain\",\"Singapore\",\"Belarus\",\"Peru\",\"Chile\",\"United Arab Emirates\",\"Russia\"],\"date\":{\"__ndarray__\":\"AACA5WIgd0IAAIDlYiB3QgAAgOViIHdCAACA5WIgd0IAAIDlYiB3QgAAgOViIHdCAACA5WIgd0IAAIDlYiB3QgAAgOViIHdCAACA5WIgd0I=\",\"dtype\":\"float64\",\"shape\":[10]},\"death_scaled\":{\"__ndarray__\":\"AAAAAAAAAAAAAAAAAAAAALgehetRuAJA4XoUrkfh4j8AAAAAAAAAAK5H4XoUruc/SOF6FK5HB0ApXI/C9SjkP5qZmZmZmck/XI/C9Shc5z8=\",\"dtype\":\"float64\",\"shape\":[10]},\"index\":[0,1,2,3,4,5,6,7,8,9],\"rec_scaled\":{\"__ndarray__\":\"MzMzMzMTT0C4HoXrUSWQQNejcD0Kt0ZASOF6FK6HN0BxPQrXo8BaQHE9CtejcEdA16NwPQrXO0AzMzMzMzM7QGZmZmZm5k9ArkfhehRuOUA=\",\"dtype\":\"float64\",\"shape\":[10]}},\"selected\":{\"id\":\"2954\"},\"selection_policy\":{\"id\":\"2953\"}},\"id\":\"2802\",\"type\":\"ColumnDataSource\"},{\"attributes\":{\"formatter\":{\"id\":\"2952\"},\"ticker\":{\"id\":\"2819\"}},\"id\":\"2818\",\"type\":\"CategoricalAxis\"},{\"attributes\":{},\"id\":\"2819\",\"type\":\"CategoricalTicker\"},{\"attributes\":{\"axis\":{\"id\":\"2818\"},\"dimension\":1,\"grid_line_color\":null,\"ticker\":null},\"id\":\"2820\",\"type\":\"Grid\"},{\"attributes\":{\"factors\":[\"Russia\",\"United Arab Emirates\",\"Chile\",\"Peru\",\"Belarus\",\"Singapore\",\"Bahrain\",\"Kuwait\",\"San Marino\",\"Qatar\"]},\"id\":\"2808\",\"type\":\"FactorRange\"},{\"attributes\":{\"active_drag\":\"auto\",\"active_inspect\":\"auto\",\"active_multi\":null,\"active_scroll\":\"auto\",\"active_tap\":\"auto\"},\"id\":\"2821\",\"type\":\"Toolbar\"},{\"attributes\":{\"start\":0},\"id\":\"2806\",\"type\":\"DataRange1d\"},{\"attributes\":{},\"id\":\"2952\",\"type\":\"CategoricalTickFormatter\"},{\"attributes\":{},\"id\":\"2954\",\"type\":\"Selection\"},{\"attributes\":{\"source\":{\"id\":\"2802\"}},\"id\":\"2826\",\"type\":\"CDSView\"},{\"attributes\":{\"data_source\":{\"id\":\"2802\"},\"glyph\":{\"id\":\"2823\"},\"hover_glyph\":null,\"muted_glyph\":null,\"nonselection_glyph\":{\"id\":\"2824\"},\"selection_glyph\":null,\"view\":{\"id\":\"2826\"}},\"id\":\"2825\",\"type\":\"GlyphRenderer\"},{\"attributes\":{\"text\":\"most cases per 1M inhabitants\"},\"id\":\"2804\",\"type\":\"Title\"},{\"attributes\":{},\"id\":\"2953\",\"type\":\"UnionRenderers\"},{\"attributes\":{\"fill_alpha\":{\"value\":0.1},\"fill_color\":{\"value\":\"#1f77b4\"},\"height\":{\"value\":0.8},\"line_alpha\":{\"value\":0.1},\"line_color\":{\"value\":\"#1f77b4\"},\"right\":{\"field\":\"conf_scaled\"},\"y\":{\"field\":\"country\"}},\"id\":\"2824\",\"type\":\"HBar\"},{\"attributes\":{},\"id\":\"2950\",\"type\":\"BasicTickFormatter\"},{\"attributes\":{\"fill_color\":{\"value\":\"#1f77b4\"},\"height\":{\"value\":0.8},\"line_color\":{\"value\":\"#1f77b4\"},\"right\":{\"field\":\"conf_scaled\"},\"y\":{\"field\":\"country\"}},\"id\":\"2823\",\"type\":\"HBar\"}],\"root_ids\":[\"2803\"]},\"title\":\"Bokeh Application\",\"version\":\"2.0.2\"}};\n",
       "  var render_items = [{\"docid\":\"c188c169-783c-4959-b655-191c2d012eb3\",\"root_ids\":[\"2803\"],\"roots\":{\"2803\":\"5bd5f1d7-d0b8-4453-8168-723f271d103b\"}}];\n",
       "  root.Bokeh.embed.embed_items_notebook(docs_json, render_items);\n",
       "\n",
       "  }\n",
       "  if (root.Bokeh !== undefined) {\n",
       "    embed_document(root);\n",
       "  } else {\n",
       "    var attempts = 0;\n",
       "    var timer = setInterval(function(root) {\n",
       "      if (root.Bokeh !== undefined) {\n",
       "        clearInterval(timer);\n",
       "        embed_document(root);\n",
       "      } else {\n",
       "        attempts++;\n",
       "        if (attempts > 100) {\n",
       "          clearInterval(timer);\n",
       "          console.log(\"Bokeh: ERROR: Unable to run BokehJS code because BokehJS library is missing\");\n",
       "        }\n",
       "      }\n",
       "    }, 10, root)\n",
       "  }\n",
       "})(window);"
      ],
      "application/vnd.bokehjs_exec.v0+json": ""
     },
     "metadata": {
      "application/vnd.bokehjs_exec.v0+json": {
       "id": "2803"
      }
     },
     "output_type": "display_data"
    }
   ],
   "source": [
    "plotTop10(top10_scaled_today, vals = 'conf_scaled', title = 'most cases per 1M inhabitants')"
   ]
  },
  {
   "cell_type": "markdown",
   "metadata": {},
   "source": [
    "#### 5. MinutePhysics Metric\n",
    "***\n",
    "Source: https://www.youtube.com/watch?v=54XLXg4fYsc\n",
    "\n",
    "Metric:\n",
    "* y = new confirmed cass last week (rolling sum weeks)\n",
    "* x = total confirmed cases"
   ]
  },
  {
   "cell_type": "code",
   "execution_count": 541,
   "metadata": {},
   "outputs": [],
   "source": [
    "def setAxes(exp):\n",
    "    \"\"\"\n",
    "    \"\"\"\n",
    "    # find the range required\n",
    "    x_max = np.ceil(np.log10(exp.total_confirmed.max()))\n",
    "    y_max = np.ceil(np.log10(exp.new_last_week.max()))\n",
    "    \n",
    "    # generate locations\n",
    "    x_locs_raw = 10**np.arange(0,x_max+1,1)\n",
    "    x_locs = [int(i) for i in x_locs_raw]\n",
    "    y_locs_raw = 10**np.arange(0,y_max+1,1)\n",
    "    y_locs = [int(i) for i in y_locs_raw]\n",
    "\n",
    "    # generate labels\n",
    "    x_labels = ['{:,.0f}'.format(v) for v in x_locs]\n",
    "    y_labels = ['{:,.0f}'.format(v) for v in y_locs]\n",
    "\n",
    "    # get required format\n",
    "    x_set = dict(zip(x_locs, x_labels))\n",
    "    y_set = dict(zip(y_locs, y_labels))\n",
    "\n",
    "    return x_set, y_set, x_max, y_max"
   ]
  },
  {
   "cell_type": "markdown",
   "metadata": {},
   "source": [
    "#### sample plot (mult. countries)"
   ]
  },
  {
   "cell_type": "code",
   "execution_count": 537,
   "metadata": {},
   "outputs": [
    {
     "name": "stdout",
     "output_type": "stream",
     "text": [
      "424 rows affected\n"
     ]
    }
   ],
   "source": [
    "# netherlands, belgium, italy, united_states, Malaysia\n",
    "query = \"\"\"\n",
    "SELECT *\n",
    "  FROM exp_stats\n",
    " WHERE country IN ('Netherlands','Italy', 'Malaysia', 'China', 'United States')\n",
    "   AND total_confirmed > 25\n",
    "\"\"\"\n",
    "\n",
    "sample_exp = qdb.execute_query(query)"
   ]
  },
  {
   "cell_type": "code",
   "execution_count": 551,
   "metadata": {},
   "outputs": [
    {
     "data": {
      "text/html": [
       "\n",
       "\n",
       "\n",
       "\n",
       "\n",
       "\n",
       "  <div class=\"bk-root\" id=\"b5c4cf9c-b526-4a0b-8e48-1cab844f11eb\" data-root-id=\"116568\"></div>\n"
      ]
     },
     "metadata": {},
     "output_type": "display_data"
    },
    {
     "data": {
      "application/javascript": [
       "(function(root) {\n",
       "  function embed_document(root) {\n",
       "    \n",
       "  var docs_json = {\"2d28ef4e-cf8a-4ac5-b9fd-50071563d630\":{\"roots\":{\"references\":[{\"attributes\":{\"below\":[{\"id\":\"116579\"}],\"center\":[{\"id\":\"116582\"},{\"id\":\"116586\"},{\"id\":\"116613\"}],\"left\":[{\"id\":\"116583\"}],\"plot_height\":400,\"plot_width\":700,\"renderers\":[{\"id\":\"116605\"},{\"id\":\"116619\"},{\"id\":\"116634\"},{\"id\":\"116651\"},{\"id\":\"116670\"},{\"id\":\"116690\"}],\"title\":{\"id\":\"116569\"},\"toolbar\":{\"id\":\"116594\"},\"x_range\":{\"id\":\"116571\"},\"x_scale\":{\"id\":\"116575\"},\"y_range\":{\"id\":\"116573\"},\"y_scale\":{\"id\":\"116577\"}},\"id\":\"116568\",\"subtype\":\"Figure\",\"type\":\"Plot\"},{\"attributes\":{\"label\":{\"value\":\"Malaysia\"},\"renderers\":[{\"id\":\"116651\"}]},\"id\":\"116665\",\"type\":\"LegendItem\"},{\"attributes\":{\"ticker\":null},\"id\":\"116609\",\"type\":\"LogTickFormatter\"},{\"attributes\":{\"data\":{\"date\":{\"__ndarray__\":\"AAAA5UcHd0IAAMBKmgd3QgAAgLDsB3dCAABAFj8Id0IAAAB8kQh3QgAAwOHjCHdCAACARzYJd0IAAECtiAl3QgAAABPbCXdCAADAeC0Kd0IAAIDefwp3QgAAQETSCndCAAAAqiQLd0IAAMAPdwt3QgAAgHXJC3dCAABA2xsMd0IAAABBbgx3QgAAwKbADHdCAACADBMNd0IAAEByZQ13QgAAANi3DXdCAADAPQoOd0IAAICjXA53QgAAQAmvDndCAAAAbwEPd0IAAMDUUw93QgAAgDqmD3dCAABAoPgPd0IAAAAGSxB3QgAAwGudEHdCAACA0e8Qd0IAAEA3QhF3QgAAAJ2UEXdCAADAAucRd0IAAIBoORJ3QgAAQM6LEndCAAAANN4Sd0IAAMCZMBN3QgAAgP+CE3dCAABAZdUTd0IAAADLJxR3QgAAwDB6FHdCAACAlswUd0IAAED8HhV3QgAAAGJxFXdCAADAx8MVd0IAAIAtFhZ3QgAAQJNoFndCAAAA+boWd0IAAMBeDRd3QgAAgMRfF3dCAABAKrIXd0IAAACQBBh3QgAAwPVWGHdCAACAW6kYd0IAAEDB+xh3QgAAACdOGXdCAADAjKAZd0IAAIDy8hl3QgAAQFhFGndCAAAAvpcad0IAAMAj6hp3QgAAgIk8G3dCAABA744bd0IAAABV4Rt3QgAAwLozHHdCAACAIIYcd0IAAECG2Bx3QgAAAOwqHXdCAADAUX0dd0IAAIC3zx13QgAAQB0iHndCAAAAg3Qed0IAAMDoxh53QgAAgE4ZH3dCAABAtGsfd0IAAAAavh93QgAAwH8QIHdCAACA5WIgd0IAAEBLtSB3QgAAALEHIXdC\",\"dtype\":\"float64\",\"shape\":[81]},\"x\":[51,51,57,58,60,68,74,98,118,149,217,262,402,518,583,959,1281,1663,2179,2727,3499,4632,6421,7783,13747,19273,25600,33276,43843,53736,65778,83836,101657,121465,140909,161831,188172,213242,243622,275367,308650,336802,366317,397121,428654,462780,496535,526396,555313,580619,607670,636350,667592,699706,732197,758809,784326,811865,840351,869170,905358,938154,965785,988197,1012582,1039909,1069424,1103461,1132539,1158040,1180375,1204351,1229331,1257023,1283929,1309550,1329260,1347881,1369376,1390406,1417774],\"y\":[38,38,44,45,45,53,59,47,67,92,159,202,334,444,485,841,1132,1446,1917,2325,2981,4049,5462,6502,12084,17094,22873,29777,39211,47315,57995,70089,82384,95865,107633,117988,134436,147464,159786,173710,187185,195893,204486,208949,215412,219158,221168,217746,218511,214302,210549,207696,204812,203171,205801,203496,203707,204195,204001,201578,205652,205957,206976,203871,200717,199558,200254,198103,194385,192255,192178,191769,189422,187599,180468,177011,171220,167506,165025,161075,160751]},\"selected\":{\"id\":\"116664\"},\"selection_policy\":{\"id\":\"116663\"}},\"id\":\"116630\",\"type\":\"ColumnDataSource\"},{\"attributes\":{},\"id\":\"116627\",\"type\":\"UnionRenderers\"},{\"attributes\":{},\"id\":\"116592\",\"type\":\"HelpTool\"},{\"attributes\":{\"ticker\":null},\"id\":\"116611\",\"type\":\"LogTickFormatter\"},{\"attributes\":{\"text\":\"Covid Progress\"},\"id\":\"116569\",\"type\":\"Title\"},{\"attributes\":{},\"id\":\"116663\",\"type\":\"UnionRenderers\"},{\"attributes\":{\"click_policy\":\"hide\",\"items\":[{\"id\":\"116614\"},{\"id\":\"116629\"},{\"id\":\"116646\"},{\"id\":\"116665\"},{\"id\":\"116686\"}],\"location\":\"top_left\"},\"id\":\"116613\",\"type\":\"Legend\"},{\"attributes\":{\"source\":{\"id\":\"116647\"}},\"id\":\"116652\",\"type\":\"CDSView\"},{\"attributes\":{\"line_alpha\":0.1,\"line_color\":\"#2ca02c\",\"line_width\":2,\"x\":{\"field\":\"x\"},\"y\":{\"field\":\"y\"}},\"id\":\"116633\",\"type\":\"Line\"},{\"attributes\":{\"line_alpha\":0.1,\"line_color\":\"gray\",\"line_dash\":[4,4],\"x\":{\"field\":\"x\"},\"y\":{\"field\":\"y\"}},\"id\":\"116689\",\"type\":\"Line\"},{\"attributes\":{\"label\":{\"value\":\"China\"},\"renderers\":[{\"id\":\"116605\"}]},\"id\":\"116614\",\"type\":\"LegendItem\"},{\"attributes\":{},\"id\":\"116591\",\"type\":\"ResetTool\"},{\"attributes\":{\"source\":{\"id\":\"116630\"}},\"id\":\"116635\",\"type\":\"CDSView\"},{\"attributes\":{\"source\":{\"id\":\"116687\"}},\"id\":\"116691\",\"type\":\"CDSView\"},{\"attributes\":{\"num_minor_ticks\":10},\"id\":\"116584\",\"type\":\"LogTicker\"},{\"attributes\":{\"active_drag\":\"auto\",\"active_inspect\":\"auto\",\"active_multi\":null,\"active_scroll\":\"auto\",\"active_tap\":\"auto\",\"tools\":[{\"id\":\"116587\"},{\"id\":\"116588\"},{\"id\":\"116589\"},{\"id\":\"116590\"},{\"id\":\"116591\"},{\"id\":\"116592\"}]},\"id\":\"116594\",\"type\":\"Toolbar\"},{\"attributes\":{},\"id\":\"116644\",\"type\":\"UnionRenderers\"},{\"attributes\":{\"axis\":{\"id\":\"116583\"},\"dimension\":1,\"ticker\":null},\"id\":\"116586\",\"type\":\"Grid\"},{\"attributes\":{\"line_color\":\"#2ca02c\",\"line_width\":2,\"x\":{\"field\":\"x\"},\"y\":{\"field\":\"y\"}},\"id\":\"116632\",\"type\":\"Line\"},{\"attributes\":{\"data\":{\"date\":{\"__ndarray__\":\"AADAeC0Kd0IAAIDefwp3QgAAQETSCndCAAAAqiQLd0IAAMAPdwt3QgAAgHXJC3dCAABA2xsMd0IAAABBbgx3QgAAwKbADHdCAACADBMNd0IAAEByZQ13QgAAANi3DXdCAADAPQoOd0IAAICjXA53QgAAQAmvDndCAAAAbwEPd0IAAMDUUw93QgAAgDqmD3dCAABAoPgPd0IAAAAGSxB3QgAAwGudEHdCAACA0e8Qd0IAAEA3QhF3QgAAAJ2UEXdCAADAAucRd0IAAIBoORJ3QgAAQM6LEndCAAAANN4Sd0IAAMCZMBN3QgAAgP+CE3dCAABAZdUTd0IAAADLJxR3QgAAwDB6FHdCAACAlswUd0IAAED8HhV3QgAAAGJxFXdCAADAx8MVd0IAAIAtFhZ3QgAAQJNoFndCAAAA+boWd0IAAMBeDRd3QgAAgMRfF3dCAABAKrIXd0IAAACQBBh3QgAAwPVWGHdCAACAW6kYd0IAAEDB+xh3QgAAACdOGXdCAADAjKAZd0IAAIDy8hl3QgAAQFhFGndCAAAAvpcad0IAAMAj6hp3QgAAgIk8G3dCAABA744bd0IAAABV4Rt3QgAAwLozHHdCAACAIIYcd0IAAECG2Bx3QgAAAOwqHXdCAADAUX0dd0IAAIC3zx13QgAAQB0iHndCAAAAg3Qed0IAAMDoxh53QgAAgE4ZH3dCAABAtGsfd0IAAAAavh93QgAAwH8QIHdCAACA5WIgd0IAAEBLtSB3QgAAALEHIXdC\",\"dtype\":\"float64\",\"shape\":[72]},\"x\":[38,82,128,188,265,321,382,503,503,806,962,1138,1416,1711,2058,2467,3003,3640,4217,4764,5580,6438,7468,8647,9819,10930,11817,12667,13696,14788,15821,16727,17953,18926,19709,20682,21903,23249,24571,25746,26710,27580,28316,29383,30619,31766,32838,33588,34317,35032,35921,36729,37384,38040,38440,38612,38998,39512,39989,40434,40769,40968,41286,41518,41973,42292,42581,42826,42987,43183,43410,43680],\"y\":[38,81,127,182,255,303,358,465,421,678,774,873,1095,1329,1555,1964,2197,2678,3079,3348,3869,4380,5001,5644,6179,6713,7053,7087,7258,7320,7174,6908,7023,7109,7042,6986,7115,7428,7844,7793,7784,7871,7634,7480,7370,7195,7092,6878,6737,6716,6538,6110,5618,5202,4852,4295,3966,3591,3260,3050,2729,2528,2674,2520,2461,2303,2147,2057,2019,1897,1892,1707]},\"selected\":{\"id\":\"118403\"},\"selection_policy\":{\"id\":\"118402\"}},\"id\":\"116666\",\"type\":\"ColumnDataSource\"},{\"attributes\":{\"data_source\":{\"id\":\"116630\"},\"glyph\":{\"id\":\"116632\"},\"hover_glyph\":null,\"muted_glyph\":null,\"nonselection_glyph\":{\"id\":\"116633\"},\"selection_glyph\":null,\"view\":{\"id\":\"116635\"}},\"id\":\"116634\",\"type\":\"GlyphRenderer\"},{\"attributes\":{\"data_source\":{\"id\":\"116687\"},\"glyph\":{\"id\":\"116688\"},\"hover_glyph\":null,\"muted_glyph\":null,\"nonselection_glyph\":{\"id\":\"116689\"},\"selection_glyph\":null,\"view\":{\"id\":\"116691\"}},\"id\":\"116690\",\"type\":\"GlyphRenderer\"},{\"attributes\":{},\"id\":\"116587\",\"type\":\"PanTool\"},{\"attributes\":{\"line_color\":\"gray\",\"line_dash\":[4,4],\"x\":{\"field\":\"x\"},\"y\":{\"field\":\"y\"}},\"id\":\"116688\",\"type\":\"Line\"},{\"attributes\":{},\"id\":\"116645\",\"type\":\"Selection\"},{\"attributes\":{\"data\":{\"date\":{\"__ndarray__\":\"AACAGaMGd0IAAEB/9QZ3QgAAAOVHB3dCAADASpoHd0IAAICw7Ad3QgAAQBY/CHdCAAAAfJEId0IAAMDh4wh3QgAAgEc2CXdCAABArYgJd0IAAAAT2wl3QgAAwHgtCndCAACA3n8Kd0IAAEBE0gp3QgAAAKokC3dCAADAD3cLd0IAAIB1yQt3QgAAQNsbDHdCAAAAQW4Md0IAAMCmwAx3QgAAgAwTDXdCAABAcmUNd0IAAADYtw13QgAAwD0KDndCAACAo1wOd0IAAEAJrw53QgAAAG8BD3dCAADA1FMPd0IAAIA6pg93QgAAQKD4D3dCAAAABksQd0IAAMBrnRB3QgAAgNHvEHdCAABAN0IRd0IAAACdlBF3QgAAwALnEXdCAACAaDkSd0IAAEDOixJ3QgAAADTeEndCAADAmTATd0IAAID/ghN3QgAAQGXVE3dCAAAAyycUd0IAAMAwehR3QgAAgJbMFHdCAABA/B4Vd0IAAABicRV3QgAAwMfDFXdCAACALRYWd0IAAECTaBZ3QgAAAPm6FndCAADAXg0Xd0IAAIDEXxd3QgAAQCqyF3dCAAAAkAQYd0IAAMD1Vhh3QgAAgFupGHdCAABAwfsYd0IAAAAnThl3QgAAwIygGXdCAACA8vIZd0IAAEBYRRp3QgAAAL6XGndCAADAI+oad0IAAICJPBt3QgAAQO+OG3dCAAAAVeEbd0IAAMC6Mxx3QgAAgCCGHHdCAABAhtgcd0IAAADsKh13QgAAwFF9HXdCAACAt88dd0IAAEAdIh53QgAAAIN0HndCAADA6MYed0IAAIBOGR93QgAAQLRrH3dCAAAAGr4fd0IAAMB/ECB3QgAAgOViIHdCAABAS7Ugd0IAAACxByF3Qg==\",\"dtype\":\"float64\",\"shape\":[83]},\"x\":[62,155,229,322,453,655,888,1128,1694,2036,2502,3089,3858,4636,5883,7375,9172,10149,12462,12462,17660,21157,24747,27980,31506,35713,41035,47021,53578,59138,63927,69176,74386,80589,86498,92472,97689,101739,105792,110574,115242,119827,124632,128948,132547,135586,139422,143626,147577,152271,156363,159516,162488,165155,168941,172434,175925,178972,181228,183957,187327,189973,192994,195351,197675,199414,201505,203591,205463,207428,209328,210717,211938,213013,214457,215858,217185,218268,219070,219814,221216,222104,223096],\"y\":[59,152,226,319,450,652,868,1066,1539,1807,2180,2636,3203,3748,4755,5681,7136,7647,9373,8604,13024,15274,17372,18808,21357,23251,28573,29361,32421,34391,35947,37670,38673,39554,39477,38894,38551,37812,36616,36188,34653,33329,32160,31259,30808,29794,28848,28384,27750,27639,27415,26969,26902,25733,25315,24857,23654,22609,21712,21469,22172,21032,20560,19426,18703,18186,17548,16264,15490,14434,13977,13042,12524,11508,10866,10395,9757,8940,8353,7876,8203,7647,7238]},\"selected\":{\"id\":\"116645\"},\"selection_policy\":{\"id\":\"116644\"}},\"id\":\"116615\",\"type\":\"ColumnDataSource\"},{\"attributes\":{},\"id\":\"118403\",\"type\":\"Selection\"},{\"attributes\":{\"line_alpha\":0.1,\"line_color\":\"#9467bd\",\"line_width\":2,\"x\":{\"field\":\"x\"},\"y\":{\"field\":\"y\"}},\"id\":\"116669\",\"type\":\"Line\"},{\"attributes\":{\"label\":{\"value\":\"United States\"},\"renderers\":[{\"id\":\"116634\"}]},\"id\":\"116646\",\"type\":\"LegendItem\"},{\"attributes\":{},\"id\":\"118402\",\"type\":\"UnionRenderers\"},{\"attributes\":{\"axis_label\":\"New cases last week\",\"formatter\":{\"id\":\"116611\"},\"major_label_overrides\":{\"1\":\"1\",\"10\":\"10\",\"100\":\"100\",\"1000\":\"1,000\",\"10000\":\"10,000\",\"100000\":\"100,000\",\"1000000\":\"1,000,000\"},\"ticker\":{\"id\":\"116584\"}},\"id\":\"116583\",\"type\":\"LogAxis\"},{\"attributes\":{},\"id\":\"116575\",\"type\":\"LogScale\"},{\"attributes\":{\"line_alpha\":0.1,\"line_color\":\"#d62728\",\"line_width\":2,\"x\":{\"field\":\"x\"},\"y\":{\"field\":\"y\"}},\"id\":\"116650\",\"type\":\"Line\"},{\"attributes\":{\"source\":{\"id\":\"116666\"}},\"id\":\"116671\",\"type\":\"CDSView\"},{\"attributes\":{\"line_alpha\":0.1,\"line_color\":\"#ff7f0e\",\"line_width\":2,\"x\":{\"field\":\"x\"},\"y\":{\"field\":\"y\"}},\"id\":\"116618\",\"type\":\"Line\"},{\"attributes\":{\"line_color\":\"#d62728\",\"line_width\":2,\"x\":{\"field\":\"x\"},\"y\":{\"field\":\"y\"}},\"id\":\"116649\",\"type\":\"Line\"},{\"attributes\":{},\"id\":\"118404\",\"type\":\"UnionRenderers\"},{\"attributes\":{\"axis\":{\"id\":\"116579\"},\"ticker\":null},\"id\":\"116582\",\"type\":\"Grid\"},{\"attributes\":{},\"id\":\"116684\",\"type\":\"UnionRenderers\"},{\"attributes\":{\"line_alpha\":0.1,\"line_color\":\"#1f77b4\",\"line_width\":2,\"x\":{\"field\":\"x\"},\"y\":{\"field\":\"y\"}},\"id\":\"116604\",\"type\":\"Line\"},{\"attributes\":{\"source\":{\"id\":\"116615\"}},\"id\":\"116620\",\"type\":\"CDSView\"},{\"attributes\":{\"line_color\":\"#9467bd\",\"line_width\":2,\"x\":{\"field\":\"x\"},\"y\":{\"field\":\"y\"}},\"id\":\"116668\",\"type\":\"Line\"},{\"attributes\":{\"data_source\":{\"id\":\"116666\"},\"glyph\":{\"id\":\"116668\"},\"hover_glyph\":null,\"muted_glyph\":null,\"nonselection_glyph\":{\"id\":\"116669\"},\"selection_glyph\":null,\"view\":{\"id\":\"116671\"}},\"id\":\"116670\",\"type\":\"GlyphRenderer\"},{\"attributes\":{},\"id\":\"118405\",\"type\":\"Selection\"},{\"attributes\":{},\"id\":\"116577\",\"type\":\"LogScale\"},{\"attributes\":{\"line_color\":\"#ff7f0e\",\"line_width\":2,\"x\":{\"field\":\"x\"},\"y\":{\"field\":\"y\"}},\"id\":\"116617\",\"type\":\"Line\"},{\"attributes\":{},\"id\":\"116573\",\"type\":\"DataRange1d\"},{\"attributes\":{\"data_source\":{\"id\":\"116615\"},\"glyph\":{\"id\":\"116617\"},\"hover_glyph\":null,\"muted_glyph\":null,\"nonselection_glyph\":{\"id\":\"116618\"},\"selection_glyph\":null,\"view\":{\"id\":\"116620\"}},\"id\":\"116619\",\"type\":\"GlyphRenderer\"},{\"attributes\":{},\"id\":\"116588\",\"type\":\"WheelZoomTool\"},{\"attributes\":{\"data\":{\"date\":{\"__ndarray__\":\"AACARzYJd0IAAECtiAl3QgAAABPbCXdCAADAeC0Kd0IAAIDefwp3QgAAQETSCndCAAAAqiQLd0IAAMAPdwt3QgAAgHXJC3dCAABA2xsMd0IAAABBbgx3QgAAwKbADHdCAACADBMNd0IAAEByZQ13QgAAANi3DXdCAADAPQoOd0IAAICjXA53QgAAQAmvDndCAAAAbwEPd0IAAMDUUw93QgAAgDqmD3dCAABAoPgPd0IAAAAGSxB3QgAAwGudEHdCAACA0e8Qd0IAAEA3QhF3QgAAAJ2UEXdCAADAAucRd0IAAIBoORJ3QgAAQM6LEndCAAAANN4Sd0IAAMCZMBN3QgAAgP+CE3dCAABAZdUTd0IAAADLJxR3QgAAwDB6FHdCAACAlswUd0IAAED8HhV3QgAAAGJxFXdCAADAx8MVd0IAAIAtFhZ3QgAAQJNoFndCAAAA+boWd0IAAMBeDRd3QgAAgMRfF3dCAABAKrIXd0IAAACQBBh3QgAAwPVWGHdCAACAW6kYd0IAAEDB+xh3QgAAACdOGXdCAADAjKAZd0IAAIDy8hl3QgAAQFhFGndCAAAAvpcad0IAAMAj6hp3QgAAgIk8G3dCAABA744bd0IAAABV4Rt3QgAAwLozHHdCAACAIIYcd0IAAECG2Bx3QgAAAOwqHXdCAADAUX0dd0IAAIC3zx13QgAAQB0iHndCAAAAg3Qed0IAAMDoxh53QgAAgE4ZH3dCAABAtGsfd0IAAAAavh93QgAAwH8QIHdCAACA5WIgd0IAAEBLtSB3QgAAALEHIXdC\",\"dtype\":\"float64\",\"shape\":[75]},\"x\":[29,29,36,50,50,83,93,99,117,129,149,149,197,238,428,566,673,790,900,1030,1183,1306,1518,1624,1796,2031,2161,2320,2470,2626,2766,2908,3116,3333,3483,3662,3793,3963,4119,4228,4346,4530,4683,4817,4987,5072,5182,5251,5305,5389,5425,5482,5532,5603,5691,5742,5780,5820,5851,5945,6002,6071,6176,6298,6353,6383,6428,6467,6535,6589,6656,6726,6742,6779,6819],\"y\":[7,7,14,28,27,60,68,70,88,93,99,99,114,145,329,449,544,641,751,833,945,878,952,951,1006,1131,1131,1137,1164,1108,1142,1112,1085,1172,1163,1192,1167,1197,1211,1112,1013,1047,1021,1024,1024,953,954,905,775,706,608,495,460,421,440,437,391,395,369,413,399,380,434,518,533,532,483,465,464,413,358,373,359,351,352]},\"selected\":{\"id\":\"116685\"},\"selection_policy\":{\"id\":\"116684\"}},\"id\":\"116647\",\"type\":\"ColumnDataSource\"},{\"attributes\":{\"bottom_units\":\"screen\",\"fill_alpha\":0.5,\"fill_color\":\"lightgrey\",\"left_units\":\"screen\",\"level\":\"overlay\",\"line_alpha\":1.0,\"line_color\":\"black\",\"line_dash\":[4,4],\"line_width\":2,\"render_mode\":\"css\",\"right_units\":\"screen\",\"top_units\":\"screen\"},\"id\":\"116593\",\"type\":\"BoxAnnotation\"},{\"attributes\":{\"data_source\":{\"id\":\"116647\"},\"glyph\":{\"id\":\"116649\"},\"hover_glyph\":null,\"muted_glyph\":null,\"nonselection_glyph\":{\"id\":\"116650\"},\"selection_glyph\":null,\"view\":{\"id\":\"116652\"}},\"id\":\"116651\",\"type\":\"GlyphRenderer\"},{\"attributes\":{\"overlay\":{\"id\":\"116593\"}},\"id\":\"116589\",\"type\":\"BoxZoomTool\"},{\"attributes\":{\"label\":{\"value\":\"Netherlands\"},\"renderers\":[{\"id\":\"116670\"}]},\"id\":\"116686\",\"type\":\"LegendItem\"},{\"attributes\":{},\"id\":\"116628\",\"type\":\"Selection\"},{\"attributes\":{},\"id\":\"116685\",\"type\":\"Selection\"},{\"attributes\":{\"data_source\":{\"id\":\"116601\"},\"glyph\":{\"id\":\"116603\"},\"hover_glyph\":null,\"muted_glyph\":null,\"nonselection_glyph\":{\"id\":\"116604\"},\"selection_glyph\":null,\"view\":{\"id\":\"116606\"}},\"id\":\"116605\",\"type\":\"GlyphRenderer\"},{\"attributes\":{\"axis_label\":\"Total confirmed cases\",\"formatter\":{\"id\":\"116609\"},\"major_label_overrides\":{\"1\":\"1\",\"10\":\"10\",\"100\":\"100\",\"1000\":\"1,000\",\"10000\":\"10,000\",\"100000\":\"100,000\",\"1000000\":\"1,000,000\",\"10000000\":\"10,000,000\"},\"ticker\":{\"id\":\"116580\"}},\"id\":\"116579\",\"type\":\"LogAxis\"},{\"attributes\":{\"source\":{\"id\":\"116601\"}},\"id\":\"116606\",\"type\":\"CDSView\"},{\"attributes\":{\"label\":{\"value\":\"Italy\"},\"renderers\":[{\"id\":\"116619\"}]},\"id\":\"116629\",\"type\":\"LegendItem\"},{\"attributes\":{},\"id\":\"116590\",\"type\":\"SaveTool\"},{\"attributes\":{\"data\":{\"date\":{\"__ndarray__\":\"AAAALfv8dkIAAMCSTf12QgAAgPif/XZCAABAXvL9dkIAAADERP52QgAAwCmX/nZCAACAj+n+dkIAAED1O/92QgAAAFuO/3ZCAADAwOD/dkIAAIAmMwB3QgAAQIyFAHdCAAAA8tcAd0IAAMBXKgF3QgAAgL18AXdCAABAI88Bd0IAAACJIQJ3QgAAwO5zAndCAACAVMYCd0IAAEC6GAN3QgAAACBrA3dCAADAhb0Dd0IAAIDrDwR3QgAAQFFiBHdCAAAAt7QEd0IAAMAcBwV3QgAAgIJZBXdCAABA6KsFd0IAAABO/gV3QgAAwLNQBndCAACAGaMGd0IAAEB/9QZ3QgAAAOVHB3dCAADASpoHd0IAAICw7Ad3QgAAQBY/CHdCAAAAfJEId0IAAMDh4wh3QgAAgEc2CXdCAABArYgJd0IAAAAT2wl3QgAAwHgtCndCAACA3n8Kd0IAAEBE0gp3QgAAAKokC3dCAADAD3cLd0IAAIB1yQt3QgAAQNsbDHdCAAAAQW4Md0IAAMCmwAx3QgAAgAwTDXdCAABAcmUNd0IAAADYtw13QgAAwD0KDndCAACAo1wOd0IAAEAJrw53QgAAAG8BD3dCAADA1FMPd0IAAIA6pg93QgAAQKD4D3dCAAAABksQd0IAAMBrnRB3QgAAgNHvEHdCAABAN0IRd0IAAACdlBF3QgAAwALnEXdCAACAaDkSd0IAAEDOixJ3QgAAADTeEndCAADAmTATd0IAAID/ghN3QgAAQGXVE3dCAAAAyycUd0IAAMAwehR3QgAAgJbMFHdCAABA/B4Vd0IAAABicRV3QgAAwMfDFXdCAACALRYWd0IAAECTaBZ3QgAAAPm6FndCAADAXg0Xd0IAAIDEXxd3QgAAQCqyF3dCAAAAkAQYd0IAAMD1Vhh3QgAAgFupGHdCAABAwfsYd0IAAAAnThl3QgAAwIygGXdCAACA8vIZd0IAAEBYRRp3QgAAAL6XGndCAADAI+oad0IAAICJPBt3QgAAQO+OG3dCAAAAVeEbd0IAAMC6Mxx3QgAAgCCGHHdCAABAhtgcd0IAAADsKh13QgAAwFF9HXdCAACAt88dd0IAAEAdIh53QgAAAIN0HndCAADA6MYed0IAAIBOGR93QgAAQLRrH3dCAAAAGr4fd0IAAMB/ECB3QgAAgOViIHdCAABAS7Ugd0IAAACxByF3Qg==\",\"dtype\":\"float64\",\"shape\":[113]},\"x\":[643,920,1406,2075,2877,5509,6087,8141,9802,11891,16630,19716,23707,27440,30587,34110,36814,39829,42354,44386,44759,59895,66358,68413,70513,72434,74211,74619,75077,75550,77001,77022,77241,77754,78166,78600,78928,79356,79932,80136,80261,80386,80537,80690,80770,80823,80860,80887,80921,80932,80945,80977,81003,81033,81058,81102,81156,81250,81305,81435,81498,81591,81661,81782,81897,81999,82122,82198,82279,82361,82432,82511,82543,82602,82665,82718,82809,82883,82941,83014,83134,83213,83306,83356,83403,83760,83787,83805,83817,83853,83868,83884,83899,83909,83912,83918,83940,83944,83956,83959,83959,83964,83966,83968,83970,83975,83976,83990,84010,84011,84018,84024,84029],\"y\":[95,372,858,1527,2329,4961,5539,7498,8882,10485,14555,16839,18198,21353,22446,24308,24923,23199,22638,20679,17319,29308,32248,31599,30684,30080,29825,29860,15182,9192,8588,6509,4807,3543,3547,3523,3378,2355,2910,2895,2507,2220,1937,1762,1414,891,724,626,535,395,255,207,180,173,171,181,224,305,328,432,465,533,559,626,647,694,687,700,688,700,650,614,544,480,467,439,448,451,430,471,532,548,588,547,520,819,773,671,604,547,512,481,139,122,107,101,87,76,72,60,50,52,48,28,26,19,17,31,46,45,50,54,54]},\"selected\":{\"id\":\"116628\"},\"selection_policy\":{\"id\":\"116627\"}},\"id\":\"116601\",\"type\":\"ColumnDataSource\"},{\"attributes\":{\"data\":{\"x\":{\"__ndarray__\":\"AAAAAAAA8D9meIk0p7IvQFN/XF0JZm9ARX+WtiQar0DwIZmA987uQAAAAACAhC5B\",\"dtype\":\"float64\",\"shape\":[6]},\"y\":{\"__ndarray__\":\"AAAAAAAA8D9meIk0p7IvQFN/XF0JZm9ARX+WtiQar0DwIZmA987uQAAAAACAhC5B\",\"dtype\":\"float64\",\"shape\":[6]}},\"selected\":{\"id\":\"118405\"},\"selection_policy\":{\"id\":\"118404\"}},\"id\":\"116687\",\"type\":\"ColumnDataSource\"},{\"attributes\":{\"num_minor_ticks\":10},\"id\":\"116580\",\"type\":\"LogTicker\"},{\"attributes\":{},\"id\":\"116571\",\"type\":\"DataRange1d\"},{\"attributes\":{},\"id\":\"116664\",\"type\":\"Selection\"},{\"attributes\":{\"line_color\":\"#1f77b4\",\"line_width\":2,\"x\":{\"field\":\"x\"},\"y\":{\"field\":\"y\"}},\"id\":\"116603\",\"type\":\"Line\"}],\"root_ids\":[\"116568\"]},\"title\":\"Bokeh Application\",\"version\":\"2.0.2\"}};\n",
       "  var render_items = [{\"docid\":\"2d28ef4e-cf8a-4ac5-b9fd-50071563d630\",\"root_ids\":[\"116568\"],\"roots\":{\"116568\":\"b5c4cf9c-b526-4a0b-8e48-1cab844f11eb\"}}];\n",
       "  root.Bokeh.embed.embed_items_notebook(docs_json, render_items);\n",
       "\n",
       "  }\n",
       "  if (root.Bokeh !== undefined) {\n",
       "    embed_document(root);\n",
       "  } else {\n",
       "    var attempts = 0;\n",
       "    var timer = setInterval(function(root) {\n",
       "      if (root.Bokeh !== undefined) {\n",
       "        clearInterval(timer);\n",
       "        embed_document(root);\n",
       "      } else {\n",
       "        attempts++;\n",
       "        if (attempts > 100) {\n",
       "          clearInterval(timer);\n",
       "          console.log(\"Bokeh: ERROR: Unable to run BokehJS code because BokehJS library is missing\");\n",
       "        }\n",
       "      }\n",
       "    }, 10, root)\n",
       "  }\n",
       "})(window);"
      ],
      "application/vnd.bokehjs_exec.v0+json": ""
     },
     "metadata": {
      "application/vnd.bokehjs_exec.v0+json": {
       "id": "116568"
      }
     },
     "output_type": "display_data"
    }
   ],
   "source": [
    "# setup\n",
    "countries = sample_exp.country.unique()\n",
    "n_countries = len(countries)\n",
    "\n",
    "\n",
    "# create the plot\n",
    "p = figure(title = 'Covid Progress', \n",
    "           x_axis_type = 'log',\n",
    "           y_axis_type = 'log',\n",
    "           x_axis_label = 'Total confirmed cases',\n",
    "           y_axis_label = 'New cases last week',\n",
    "           plot_height = 400,\n",
    "           plot_width = 700)\n",
    "\n",
    "\n",
    "\n",
    "#set source\n",
    "for i in range(n_countries):\n",
    "    country = countries[i]\n",
    "    source = ColumnDataSource(\n",
    "                data = {'x' : sample_exp[sample_exp['country'] == country]['total_confirmed'],\n",
    "                        'y' : sample_exp[sample_exp['country'] == country]['new_last_week'],\n",
    "                        'date' : sample_exp[sample_exp['country'] == country]['date']})\n",
    "\n",
    "    # plot\n",
    "    p.line(x='x', y='y', source=source, legend_label = country, line_width = 2, color = (Category10[n_countries])[i])\n",
    "\n",
    "    \n",
    "# get parameters for axes and baselines\n",
    "x_set, y_set, x_max, y_max = setAxes(sample_exp)\n",
    "    \n",
    "# get grey shaded & dashed baseline\n",
    "n = int(min(x_max,y_max))\n",
    "ln = np.logspace(0, int(n), int(n))\n",
    "p.line(ln, ln, line_dash=\"4 4\", line_width=1, color='gray')\n",
    "\n",
    "# set axes\n",
    "p.xaxis.major_label_overrides = x_set\n",
    "p.yaxis.major_label_overrides = y_set\n",
    "\n",
    "p.legend.location = \"top_left\"\n",
    "p.legend.click_policy=\"hide\"\n",
    "\n",
    "show(p)"
   ]
  },
  {
   "cell_type": "code",
   "execution_count": null,
   "metadata": {},
   "outputs": [],
   "source": []
  },
  {
   "cell_type": "markdown",
   "metadata": {},
   "source": [
    "#### 6. KPI Metric: XmR chart\n",
    "***\n",
    "Source: https://www.staceybarr.com/measure-up/an-insight-from-the-covid-19-metric-growth-factor/\n",
    "\n",
    "Concept is to map a KPI, it's central line (avg first x measurements) and it's 'natural process limits' (normal statistical variance). Plotting these factors gives you insights in how your KPI is moving."
   ]
  },
  {
   "cell_type": "code",
   "execution_count": 392,
   "metadata": {
    "scrolled": true
   },
   "outputs": [
    {
     "name": "stdout",
     "output_type": "stream",
     "text": [
      " * sqlite:///../data/processed/covid.sqlite\n",
      "Done.\n"
     ]
    },
    {
     "data": {
      "text/html": [
       "<table>\n",
       "    <tr>\n",
       "        <th>date</th>\n",
       "        <th>conf</th>\n",
       "    </tr>\n",
       "    <tr>\n",
       "        <td>2020-01-23</td>\n",
       "        <td>0</td>\n",
       "    </tr>\n",
       "    <tr>\n",
       "        <td>2020-01-24</td>\n",
       "        <td>0</td>\n",
       "    </tr>\n",
       "    <tr>\n",
       "        <td>2020-01-25</td>\n",
       "        <td>0</td>\n",
       "    </tr>\n",
       "    <tr>\n",
       "        <td>2020-01-26</td>\n",
       "        <td>0</td>\n",
       "    </tr>\n",
       "    <tr>\n",
       "        <td>2020-01-27</td>\n",
       "        <td>0</td>\n",
       "    </tr>\n",
       "    <tr>\n",
       "        <td>2020-01-28</td>\n",
       "        <td>0</td>\n",
       "    </tr>\n",
       "    <tr>\n",
       "        <td>2020-01-29</td>\n",
       "        <td>0</td>\n",
       "    </tr>\n",
       "    <tr>\n",
       "        <td>2020-01-30</td>\n",
       "        <td>0</td>\n",
       "    </tr>\n",
       "    <tr>\n",
       "        <td>2020-01-31</td>\n",
       "        <td>0</td>\n",
       "    </tr>\n",
       "    <tr>\n",
       "        <td>2020-02-01</td>\n",
       "        <td>0</td>\n",
       "    </tr>\n",
       "    <tr>\n",
       "        <td>2020-02-02</td>\n",
       "        <td>0</td>\n",
       "    </tr>\n",
       "    <tr>\n",
       "        <td>2020-02-03</td>\n",
       "        <td>0</td>\n",
       "    </tr>\n",
       "    <tr>\n",
       "        <td>2020-02-04</td>\n",
       "        <td>0</td>\n",
       "    </tr>\n",
       "    <tr>\n",
       "        <td>2020-02-05</td>\n",
       "        <td>0</td>\n",
       "    </tr>\n",
       "    <tr>\n",
       "        <td>2020-02-06</td>\n",
       "        <td>0</td>\n",
       "    </tr>\n",
       "    <tr>\n",
       "        <td>2020-02-07</td>\n",
       "        <td>0</td>\n",
       "    </tr>\n",
       "    <tr>\n",
       "        <td>2020-02-08</td>\n",
       "        <td>0</td>\n",
       "    </tr>\n",
       "    <tr>\n",
       "        <td>2020-02-09</td>\n",
       "        <td>0</td>\n",
       "    </tr>\n",
       "    <tr>\n",
       "        <td>2020-02-10</td>\n",
       "        <td>0</td>\n",
       "    </tr>\n",
       "    <tr>\n",
       "        <td>2020-02-11</td>\n",
       "        <td>0</td>\n",
       "    </tr>\n",
       "    <tr>\n",
       "        <td>2020-02-12</td>\n",
       "        <td>0</td>\n",
       "    </tr>\n",
       "    <tr>\n",
       "        <td>2020-02-13</td>\n",
       "        <td>0</td>\n",
       "    </tr>\n",
       "    <tr>\n",
       "        <td>2020-02-14</td>\n",
       "        <td>0</td>\n",
       "    </tr>\n",
       "    <tr>\n",
       "        <td>2020-02-15</td>\n",
       "        <td>0</td>\n",
       "    </tr>\n",
       "    <tr>\n",
       "        <td>2020-02-16</td>\n",
       "        <td>0</td>\n",
       "    </tr>\n",
       "    <tr>\n",
       "        <td>2020-02-17</td>\n",
       "        <td>0</td>\n",
       "    </tr>\n",
       "    <tr>\n",
       "        <td>2020-02-18</td>\n",
       "        <td>0</td>\n",
       "    </tr>\n",
       "    <tr>\n",
       "        <td>2020-02-19</td>\n",
       "        <td>0</td>\n",
       "    </tr>\n",
       "    <tr>\n",
       "        <td>2020-02-20</td>\n",
       "        <td>0</td>\n",
       "    </tr>\n",
       "    <tr>\n",
       "        <td>2020-02-21</td>\n",
       "        <td>0</td>\n",
       "    </tr>\n",
       "    <tr>\n",
       "        <td>2020-02-22</td>\n",
       "        <td>0</td>\n",
       "    </tr>\n",
       "    <tr>\n",
       "        <td>2020-02-23</td>\n",
       "        <td>0</td>\n",
       "    </tr>\n",
       "    <tr>\n",
       "        <td>2020-02-24</td>\n",
       "        <td>0</td>\n",
       "    </tr>\n",
       "    <tr>\n",
       "        <td>2020-02-25</td>\n",
       "        <td>0</td>\n",
       "    </tr>\n",
       "    <tr>\n",
       "        <td>2020-02-26</td>\n",
       "        <td>0</td>\n",
       "    </tr>\n",
       "    <tr>\n",
       "        <td>2020-02-27</td>\n",
       "        <td>1</td>\n",
       "    </tr>\n",
       "    <tr>\n",
       "        <td>2020-02-28</td>\n",
       "        <td>0</td>\n",
       "    </tr>\n",
       "    <tr>\n",
       "        <td>2020-02-29</td>\n",
       "        <td>5</td>\n",
       "    </tr>\n",
       "    <tr>\n",
       "        <td>2020-03-01</td>\n",
       "        <td>4</td>\n",
       "    </tr>\n",
       "    <tr>\n",
       "        <td>2020-03-02</td>\n",
       "        <td>8</td>\n",
       "    </tr>\n",
       "    <tr>\n",
       "        <td>2020-03-03</td>\n",
       "        <td>6</td>\n",
       "    </tr>\n",
       "    <tr>\n",
       "        <td>2020-03-04</td>\n",
       "        <td>14</td>\n",
       "    </tr>\n",
       "    <tr>\n",
       "        <td>2020-03-05</td>\n",
       "        <td>44</td>\n",
       "    </tr>\n",
       "    <tr>\n",
       "        <td>2020-03-06</td>\n",
       "        <td>46</td>\n",
       "    </tr>\n",
       "    <tr>\n",
       "        <td>2020-03-07</td>\n",
       "        <td>60</td>\n",
       "    </tr>\n",
       "    <tr>\n",
       "        <td>2020-03-08</td>\n",
       "        <td>77</td>\n",
       "    </tr>\n",
       "    <tr>\n",
       "        <td>2020-03-09</td>\n",
       "        <td>56</td>\n",
       "    </tr>\n",
       "    <tr>\n",
       "        <td>2020-03-10</td>\n",
       "        <td>61</td>\n",
       "    </tr>\n",
       "    <tr>\n",
       "        <td>2020-03-11</td>\n",
       "        <td>121</td>\n",
       "    </tr>\n",
       "    <tr>\n",
       "        <td>2020-03-12</td>\n",
       "        <td>0</td>\n",
       "    </tr>\n",
       "    <tr>\n",
       "        <td>2020-03-13</td>\n",
       "        <td>303</td>\n",
       "    </tr>\n",
       "    <tr>\n",
       "        <td>2020-03-14</td>\n",
       "        <td>156</td>\n",
       "    </tr>\n",
       "    <tr>\n",
       "        <td>2020-03-15</td>\n",
       "        <td>176</td>\n",
       "    </tr>\n",
       "    <tr>\n",
       "        <td>2020-03-16</td>\n",
       "        <td>278</td>\n",
       "    </tr>\n",
       "    <tr>\n",
       "        <td>2020-03-17</td>\n",
       "        <td>295</td>\n",
       "    </tr>\n",
       "    <tr>\n",
       "        <td>2020-03-18</td>\n",
       "        <td>347</td>\n",
       "    </tr>\n",
       "    <tr>\n",
       "        <td>2020-03-19</td>\n",
       "        <td>409</td>\n",
       "    </tr>\n",
       "    <tr>\n",
       "        <td>2020-03-20</td>\n",
       "        <td>536</td>\n",
       "    </tr>\n",
       "    <tr>\n",
       "        <td>2020-03-21</td>\n",
       "        <td>637</td>\n",
       "    </tr>\n",
       "    <tr>\n",
       "        <td>2020-03-22</td>\n",
       "        <td>577</td>\n",
       "    </tr>\n",
       "    <tr>\n",
       "        <td>2020-03-23</td>\n",
       "        <td>547</td>\n",
       "    </tr>\n",
       "    <tr>\n",
       "        <td>2020-03-24</td>\n",
       "        <td>816</td>\n",
       "    </tr>\n",
       "    <tr>\n",
       "        <td>2020-03-25</td>\n",
       "        <td>858</td>\n",
       "    </tr>\n",
       "    <tr>\n",
       "        <td>2020-03-26</td>\n",
       "        <td>1030</td>\n",
       "    </tr>\n",
       "    <tr>\n",
       "        <td>2020-03-27</td>\n",
       "        <td>1179</td>\n",
       "    </tr>\n",
       "    <tr>\n",
       "        <td>2020-03-28</td>\n",
       "        <td>1172</td>\n",
       "    </tr>\n",
       "    <tr>\n",
       "        <td>2020-03-29</td>\n",
       "        <td>1111</td>\n",
       "    </tr>\n",
       "    <tr>\n",
       "        <td>2020-03-30</td>\n",
       "        <td>887</td>\n",
       "    </tr>\n",
       "    <tr>\n",
       "        <td>2020-03-31</td>\n",
       "        <td>850</td>\n",
       "    </tr>\n",
       "    <tr>\n",
       "        <td>2020-04-01</td>\n",
       "        <td>1029</td>\n",
       "    </tr>\n",
       "    <tr>\n",
       "        <td>2020-04-02</td>\n",
       "        <td>1092</td>\n",
       "    </tr>\n",
       "    <tr>\n",
       "        <td>2020-04-03</td>\n",
       "        <td>1033</td>\n",
       "    </tr>\n",
       "    <tr>\n",
       "        <td>2020-04-04</td>\n",
       "        <td>906</td>\n",
       "    </tr>\n",
       "    <tr>\n",
       "        <td>2020-04-05</td>\n",
       "        <td>1226</td>\n",
       "    </tr>\n",
       "    <tr>\n",
       "        <td>2020-04-06</td>\n",
       "        <td>973</td>\n",
       "    </tr>\n",
       "    <tr>\n",
       "        <td>2020-04-07</td>\n",
       "        <td>783</td>\n",
       "    </tr>\n",
       "    <tr>\n",
       "        <td>2020-04-08</td>\n",
       "        <td>973</td>\n",
       "    </tr>\n",
       "    <tr>\n",
       "        <td>2020-04-09</td>\n",
       "        <td>1221</td>\n",
       "    </tr>\n",
       "    <tr>\n",
       "        <td>2020-04-10</td>\n",
       "        <td>1346</td>\n",
       "    </tr>\n",
       "    <tr>\n",
       "        <td>2020-04-11</td>\n",
       "        <td>1322</td>\n",
       "    </tr>\n",
       "    <tr>\n",
       "        <td>2020-04-12</td>\n",
       "        <td>1175</td>\n",
       "    </tr>\n",
       "    <tr>\n",
       "        <td>2020-04-13</td>\n",
       "        <td>964</td>\n",
       "    </tr>\n",
       "    <tr>\n",
       "        <td>2020-04-14</td>\n",
       "        <td>870</td>\n",
       "    </tr>\n",
       "    <tr>\n",
       "        <td>2020-04-15</td>\n",
       "        <td>736</td>\n",
       "    </tr>\n",
       "    <tr>\n",
       "        <td>2020-04-16</td>\n",
       "        <td>1067</td>\n",
       "    </tr>\n",
       "    <tr>\n",
       "        <td>2020-04-17</td>\n",
       "        <td>1236</td>\n",
       "    </tr>\n",
       "    <tr>\n",
       "        <td>2020-04-18</td>\n",
       "        <td>1147</td>\n",
       "    </tr>\n",
       "    <tr>\n",
       "        <td>2020-04-19</td>\n",
       "        <td>1072</td>\n",
       "    </tr>\n",
       "    <tr>\n",
       "        <td>2020-04-20</td>\n",
       "        <td>750</td>\n",
       "    </tr>\n",
       "    <tr>\n",
       "        <td>2020-04-21</td>\n",
       "        <td>729</td>\n",
       "    </tr>\n",
       "    <tr>\n",
       "        <td>2020-04-22</td>\n",
       "        <td>715</td>\n",
       "    </tr>\n",
       "    <tr>\n",
       "        <td>2020-04-23</td>\n",
       "        <td>889</td>\n",
       "    </tr>\n",
       "    <tr>\n",
       "        <td>2020-04-24</td>\n",
       "        <td>808</td>\n",
       "    </tr>\n",
       "    <tr>\n",
       "        <td>2020-04-25</td>\n",
       "        <td>655</td>\n",
       "    </tr>\n",
       "    <tr>\n",
       "        <td>2020-04-26</td>\n",
       "        <td>656</td>\n",
       "    </tr>\n",
       "    <tr>\n",
       "        <td>2020-04-27</td>\n",
       "        <td>400</td>\n",
       "    </tr>\n",
       "    <tr>\n",
       "        <td>2020-04-28</td>\n",
       "        <td>172</td>\n",
       "    </tr>\n",
       "    <tr>\n",
       "        <td>2020-04-29</td>\n",
       "        <td>386</td>\n",
       "    </tr>\n",
       "    <tr>\n",
       "        <td>2020-04-30</td>\n",
       "        <td>514</td>\n",
       "    </tr>\n",
       "    <tr>\n",
       "        <td>2020-05-01</td>\n",
       "        <td>477</td>\n",
       "    </tr>\n",
       "    <tr>\n",
       "        <td>2020-05-02</td>\n",
       "        <td>445</td>\n",
       "    </tr>\n",
       "    <tr>\n",
       "        <td>2020-05-03</td>\n",
       "        <td>335</td>\n",
       "    </tr>\n",
       "    <tr>\n",
       "        <td>2020-05-04</td>\n",
       "        <td>199</td>\n",
       "    </tr>\n",
       "    <tr>\n",
       "        <td>2020-05-05</td>\n",
       "        <td>318</td>\n",
       "    </tr>\n",
       "    <tr>\n",
       "        <td>2020-05-06</td>\n",
       "        <td>232</td>\n",
       "    </tr>\n",
       "    <tr>\n",
       "        <td>2020-05-07</td>\n",
       "        <td>455</td>\n",
       "    </tr>\n",
       "    <tr>\n",
       "        <td>2020-05-08</td>\n",
       "        <td>319</td>\n",
       "    </tr>\n",
       "    <tr>\n",
       "        <td>2020-05-09</td>\n",
       "        <td>289</td>\n",
       "    </tr>\n",
       "    <tr>\n",
       "        <td>2020-05-10</td>\n",
       "        <td>245</td>\n",
       "    </tr>\n",
       "    <tr>\n",
       "        <td>2020-05-11</td>\n",
       "        <td>161</td>\n",
       "    </tr>\n",
       "    <tr>\n",
       "        <td>2020-05-12</td>\n",
       "        <td>196</td>\n",
       "    </tr>\n",
       "    <tr>\n",
       "        <td>2020-05-13</td>\n",
       "        <td>227</td>\n",
       "    </tr>\n",
       "    <tr>\n",
       "        <td>2020-05-14</td>\n",
       "        <td>270</td>\n",
       "    </tr>\n",
       "</table>"
      ],
      "text/plain": [
       "[('2020-01-23', 0),\n",
       " ('2020-01-24', 0),\n",
       " ('2020-01-25', 0),\n",
       " ('2020-01-26', 0),\n",
       " ('2020-01-27', 0),\n",
       " ('2020-01-28', 0),\n",
       " ('2020-01-29', 0),\n",
       " ('2020-01-30', 0),\n",
       " ('2020-01-31', 0),\n",
       " ('2020-02-01', 0),\n",
       " ('2020-02-02', 0),\n",
       " ('2020-02-03', 0),\n",
       " ('2020-02-04', 0),\n",
       " ('2020-02-05', 0),\n",
       " ('2020-02-06', 0),\n",
       " ('2020-02-07', 0),\n",
       " ('2020-02-08', 0),\n",
       " ('2020-02-09', 0),\n",
       " ('2020-02-10', 0),\n",
       " ('2020-02-11', 0),\n",
       " ('2020-02-12', 0),\n",
       " ('2020-02-13', 0),\n",
       " ('2020-02-14', 0),\n",
       " ('2020-02-15', 0),\n",
       " ('2020-02-16', 0),\n",
       " ('2020-02-17', 0),\n",
       " ('2020-02-18', 0),\n",
       " ('2020-02-19', 0),\n",
       " ('2020-02-20', 0),\n",
       " ('2020-02-21', 0),\n",
       " ('2020-02-22', 0),\n",
       " ('2020-02-23', 0),\n",
       " ('2020-02-24', 0),\n",
       " ('2020-02-25', 0),\n",
       " ('2020-02-26', 0),\n",
       " ('2020-02-27', 1),\n",
       " ('2020-02-28', 0),\n",
       " ('2020-02-29', 5),\n",
       " ('2020-03-01', 4),\n",
       " ('2020-03-02', 8),\n",
       " ('2020-03-03', 6),\n",
       " ('2020-03-04', 14),\n",
       " ('2020-03-05', 44),\n",
       " ('2020-03-06', 46),\n",
       " ('2020-03-07', 60),\n",
       " ('2020-03-08', 77),\n",
       " ('2020-03-09', 56),\n",
       " ('2020-03-10', 61),\n",
       " ('2020-03-11', 121),\n",
       " ('2020-03-12', 0),\n",
       " ('2020-03-13', 303),\n",
       " ('2020-03-14', 156),\n",
       " ('2020-03-15', 176),\n",
       " ('2020-03-16', 278),\n",
       " ('2020-03-17', 295),\n",
       " ('2020-03-18', 347),\n",
       " ('2020-03-19', 409),\n",
       " ('2020-03-20', 536),\n",
       " ('2020-03-21', 637),\n",
       " ('2020-03-22', 577),\n",
       " ('2020-03-23', 547),\n",
       " ('2020-03-24', 816),\n",
       " ('2020-03-25', 858),\n",
       " ('2020-03-26', 1030),\n",
       " ('2020-03-27', 1179),\n",
       " ('2020-03-28', 1172),\n",
       " ('2020-03-29', 1111),\n",
       " ('2020-03-30', 887),\n",
       " ('2020-03-31', 850),\n",
       " ('2020-04-01', 1029),\n",
       " ('2020-04-02', 1092),\n",
       " ('2020-04-03', 1033),\n",
       " ('2020-04-04', 906),\n",
       " ('2020-04-05', 1226),\n",
       " ('2020-04-06', 973),\n",
       " ('2020-04-07', 783),\n",
       " ('2020-04-08', 973),\n",
       " ('2020-04-09', 1221),\n",
       " ('2020-04-10', 1346),\n",
       " ('2020-04-11', 1322),\n",
       " ('2020-04-12', 1175),\n",
       " ('2020-04-13', 964),\n",
       " ('2020-04-14', 870),\n",
       " ('2020-04-15', 736),\n",
       " ('2020-04-16', 1067),\n",
       " ('2020-04-17', 1236),\n",
       " ('2020-04-18', 1147),\n",
       " ('2020-04-19', 1072),\n",
       " ('2020-04-20', 750),\n",
       " ('2020-04-21', 729),\n",
       " ('2020-04-22', 715),\n",
       " ('2020-04-23', 889),\n",
       " ('2020-04-24', 808),\n",
       " ('2020-04-25', 655),\n",
       " ('2020-04-26', 656),\n",
       " ('2020-04-27', 400),\n",
       " ('2020-04-28', 172),\n",
       " ('2020-04-29', 386),\n",
       " ('2020-04-30', 514),\n",
       " ('2020-05-01', 477),\n",
       " ('2020-05-02', 445),\n",
       " ('2020-05-03', 335),\n",
       " ('2020-05-04', 199),\n",
       " ('2020-05-05', 318),\n",
       " ('2020-05-06', 232),\n",
       " ('2020-05-07', 455),\n",
       " ('2020-05-08', 319),\n",
       " ('2020-05-09', 289),\n",
       " ('2020-05-10', 245),\n",
       " ('2020-05-11', 161),\n",
       " ('2020-05-12', 196),\n",
       " ('2020-05-13', 227),\n",
       " ('2020-05-14', 270)]"
      ]
     },
     "execution_count": 392,
     "metadata": {},
     "output_type": "execute_result"
    }
   ],
   "source": [
    "%%sql\n",
    "-- calculate the daily new cases\n",
    "SELECT\n",
    "    date,\n",
    "    confirmed AS conf\n",
    "FROM daily_stats\n",
    "WHERE country = 'Netherlands';"
   ]
  },
  {
   "cell_type": "code",
   "execution_count": 410,
   "metadata": {},
   "outputs": [],
   "source": [
    "res = _.DataFrame()"
   ]
  },
  {
   "cell_type": "code",
   "execution_count": 411,
   "metadata": {},
   "outputs": [],
   "source": [
    "# control parameters\n",
    "central_line_size = 15 # window for base-line; user defined; chosen 15 (0.5 month)\n",
    "upper_range_limit = 3.27 #fixed\n",
    "range_factor = 2.66 #fixed\n"
   ]
  },
  {
   "cell_type": "code",
   "execution_count": 412,
   "metadata": {},
   "outputs": [],
   "source": [
    "# add our growth\n",
    "res['growth'] = res['conf'] / res['conf'].shift(fill_value = 0)\n",
    "xmr = res[res['date']>'2020-04-01'].reset_index(drop=True)\n",
    "xmr['date'] = pd.to_datetime(xmr['date'])\n"
   ]
  },
  {
   "cell_type": "code",
   "execution_count": 415,
   "metadata": {},
   "outputs": [],
   "source": [
    "# calculate the central line (average of size .. )\n",
    "xmr['central_line'] = xmr['growth'].iloc[:central_line_size].mean()"
   ]
  },
  {
   "cell_type": "code",
   "execution_count": 416,
   "metadata": {},
   "outputs": [],
   "source": [
    "# calculate the moving ranges (1-lag diff - abs)\n",
    "xmr['moving_ranges'] = np.abs(xmr['growth'] - xmr['growth'].shift())"
   ]
  },
  {
   "cell_type": "code",
   "execution_count": 417,
   "metadata": {},
   "outputs": [],
   "source": [
    "# get the average moving ranges\n",
    "xmr['avg_mr'] = xmr['moving_ranges'].mean()"
   ]
  },
  {
   "cell_type": "code",
   "execution_count": 418,
   "metadata": {},
   "outputs": [],
   "source": [
    "# get the upper range limit\n",
    "xmr['upper_range_limit'] = xmr['avg_mr'] * upper_range_limit"
   ]
  },
  {
   "cell_type": "code",
   "execution_count": 419,
   "metadata": {},
   "outputs": [],
   "source": [
    "# calculate natural process limits\n",
    "xmr['lnpl'] = xmr['central_line'] - xmr['avg_mr'] * range_factor\n",
    "xmr['unpl'] = xmr['central_line'] + xmr['avg_mr'] * range_factor"
   ]
  },
  {
   "cell_type": "code",
   "execution_count": 420,
   "metadata": {},
   "outputs": [
    {
     "data": {
      "text/html": [
       "\n",
       "\n",
       "\n",
       "\n",
       "\n",
       "\n",
       "  <div class=\"bk-root\" id=\"09c41dd4-8b11-4d4d-8f61-a190ce164e65\" data-root-id=\"70930\"></div>\n"
      ]
     },
     "metadata": {},
     "output_type": "display_data"
    },
    {
     "data": {
      "application/javascript": [
       "(function(root) {\n",
       "  function embed_document(root) {\n",
       "    \n",
       "  var docs_json = {\"59b4d11b-8b7b-4352-9963-e827a0fa1a53\":{\"roots\":{\"references\":[{\"attributes\":{\"below\":[{\"id\":\"70941\"}],\"center\":[{\"id\":\"70944\"},{\"id\":\"70948\"},{\"id\":\"70986\"}],\"left\":[{\"id\":\"70945\"}],\"plot_height\":400,\"plot_width\":900,\"renderers\":[{\"id\":\"70966\"},{\"id\":\"70991\"},{\"id\":\"71017\"},{\"id\":\"71042\"}],\"title\":{\"id\":\"70931\"},\"toolbar\":{\"id\":\"70956\"},\"x_range\":{\"id\":\"70933\"},\"x_scale\":{\"id\":\"70937\"},\"y_range\":{\"id\":\"70935\"},\"y_scale\":{\"id\":\"70939\"}},\"id\":\"70930\",\"subtype\":\"Figure\",\"type\":\"Plot\"},{\"attributes\":{\"active_drag\":\"auto\",\"active_inspect\":\"auto\",\"active_multi\":null,\"active_scroll\":\"auto\",\"active_tap\":\"auto\",\"tools\":[{\"id\":\"70949\"},{\"id\":\"70950\"},{\"id\":\"70951\"},{\"id\":\"70952\"},{\"id\":\"70953\"},{\"id\":\"70954\"}]},\"id\":\"70956\",\"type\":\"Toolbar\"},{\"attributes\":{\"label\":{\"value\":\"growth-rate\"},\"renderers\":[{\"id\":\"70966\"}]},\"id\":\"70987\",\"type\":\"LegendItem\"},{\"attributes\":{\"bottom_units\":\"screen\",\"fill_alpha\":0.5,\"fill_color\":\"lightgrey\",\"left_units\":\"screen\",\"level\":\"overlay\",\"line_alpha\":1.0,\"line_color\":\"black\",\"line_dash\":[4,4],\"line_width\":2,\"render_mode\":\"css\",\"right_units\":\"screen\",\"top_units\":\"screen\"},\"id\":\"70955\",\"type\":\"BoxAnnotation\"},{\"attributes\":{},\"id\":\"70937\",\"type\":\"LinearScale\"},{\"attributes\":{\"days\":[1,15]},\"id\":\"70980\",\"type\":\"DaysTicker\"},{\"attributes\":{},\"id\":\"70935\",\"type\":\"DataRange1d\"},{\"attributes\":{},\"id\":\"70939\",\"type\":\"LinearScale\"},{\"attributes\":{\"data_source\":{\"id\":\"70929\"},\"glyph\":{\"id\":\"70964\"},\"hover_glyph\":null,\"muted_glyph\":null,\"nonselection_glyph\":{\"id\":\"70965\"},\"selection_glyph\":null,\"view\":{\"id\":\"70967\"}},\"id\":\"70966\",\"type\":\"GlyphRenderer\"},{\"attributes\":{\"axis_label\":\"Date\",\"formatter\":{\"id\":\"70970\"},\"ticker\":{\"id\":\"70942\"}},\"id\":\"70941\",\"type\":\"DatetimeAxis\"},{\"attributes\":{},\"id\":\"70933\",\"type\":\"DataRange1d\"},{\"attributes\":{\"line_color\":\"red\",\"line_width\":2,\"x\":{\"field\":\"date\"},\"y\":{\"field\":\"growth\"}},\"id\":\"70964\",\"type\":\"Line\"},{\"attributes\":{\"line_alpha\":0.1,\"line_width\":2,\"x\":{\"field\":\"date\"},\"y\":{\"field\":\"central_line\"}},\"id\":\"70990\",\"type\":\"Line\"},{\"attributes\":{\"source\":{\"id\":\"70929\"}},\"id\":\"70992\",\"type\":\"CDSView\"},{\"attributes\":{\"num_minor_ticks\":5,\"tickers\":[{\"id\":\"70974\"},{\"id\":\"70975\"},{\"id\":\"70976\"},{\"id\":\"70977\"},{\"id\":\"70978\"},{\"id\":\"70979\"},{\"id\":\"70980\"},{\"id\":\"70981\"},{\"id\":\"70982\"},{\"id\":\"70983\"},{\"id\":\"70984\"},{\"id\":\"70985\"}]},\"id\":\"70942\",\"type\":\"DatetimeTicker\"},{\"attributes\":{},\"id\":\"70972\",\"type\":\"BasicTickFormatter\"},{\"attributes\":{\"axis\":{\"id\":\"70941\"},\"ticker\":null},\"id\":\"70944\",\"type\":\"Grid\"},{\"attributes\":{\"line_width\":2,\"x\":{\"field\":\"date\"},\"y\":{\"field\":\"central_line\"}},\"id\":\"70989\",\"type\":\"Line\"},{\"attributes\":{\"mantissas\":[1,2,5],\"max_interval\":500.0,\"num_minor_ticks\":0},\"id\":\"70974\",\"type\":\"AdaptiveTicker\"},{\"attributes\":{\"data_source\":{\"id\":\"70929\"},\"glyph\":{\"id\":\"70989\"},\"hover_glyph\":null,\"muted_glyph\":null,\"nonselection_glyph\":{\"id\":\"70990\"},\"selection_glyph\":null,\"view\":{\"id\":\"70992\"}},\"id\":\"70991\",\"type\":\"GlyphRenderer\"},{\"attributes\":{\"axis_label\":\"Growth\",\"formatter\":{\"id\":\"70972\"},\"ticker\":{\"id\":\"70946\"}},\"id\":\"70945\",\"type\":\"LinearAxis\"},{\"attributes\":{},\"id\":\"70946\",\"type\":\"BasicTicker\"},{\"attributes\":{},\"id\":\"71000\",\"type\":\"Selection\"},{\"attributes\":{\"base\":60,\"mantissas\":[1,2,5,10,15,20,30],\"max_interval\":1800000.0,\"min_interval\":1000.0,\"num_minor_ticks\":0},\"id\":\"70975\",\"type\":\"AdaptiveTicker\"},{\"attributes\":{\"axis\":{\"id\":\"70945\"},\"dimension\":1,\"ticker\":null},\"id\":\"70948\",\"type\":\"Grid\"},{\"attributes\":{\"label\":{\"value\":\"Lower Natural Process Limit\"},\"renderers\":[{\"id\":\"70991\"},{\"id\":\"71017\"}]},\"id\":\"71013\",\"type\":\"LegendItem\"},{\"attributes\":{\"base\":24,\"mantissas\":[1,2,4,6,8,12],\"max_interval\":43200000.0,\"min_interval\":3600000.0,\"num_minor_ticks\":0},\"id\":\"70976\",\"type\":\"AdaptiveTicker\"},{\"attributes\":{\"source\":{\"id\":\"70929\"}},\"id\":\"70967\",\"type\":\"CDSView\"},{\"attributes\":{\"days\":[1,2,3,4,5,6,7,8,9,10,11,12,13,14,15,16,17,18,19,20,21,22,23,24,25,26,27,28,29,30,31]},\"id\":\"70977\",\"type\":\"DaysTicker\"},{\"attributes\":{\"label\":{\"value\":\"Upper Natural Process Limit\"},\"renderers\":[{\"id\":\"71042\"}]},\"id\":\"71064\",\"type\":\"LegendItem\"},{\"attributes\":{\"line_alpha\":0.1,\"line_color\":\"red\",\"line_width\":2,\"x\":{\"field\":\"date\"},\"y\":{\"field\":\"growth\"}},\"id\":\"70965\",\"type\":\"Line\"},{\"attributes\":{\"line_alpha\":0.1,\"line_color\":\"blue\",\"line_width\":2,\"x\":{\"field\":\"date\"},\"y\":{\"field\":\"lnpl\"}},\"id\":\"71016\",\"type\":\"Line\"},{\"attributes\":{\"months\":[0,2,4,6,8,10]},\"id\":\"70982\",\"type\":\"MonthsTicker\"},{\"attributes\":{\"days\":[1,4,7,10,13,16,19,22,25,28]},\"id\":\"70978\",\"type\":\"DaysTicker\"},{\"attributes\":{},\"id\":\"70949\",\"type\":\"PanTool\"},{\"attributes\":{\"source\":{\"id\":\"70929\"}},\"id\":\"71018\",\"type\":\"CDSView\"},{\"attributes\":{\"days\":[1,8,15,22]},\"id\":\"70979\",\"type\":\"DaysTicker\"},{\"attributes\":{},\"id\":\"70950\",\"type\":\"WheelZoomTool\"},{\"attributes\":{\"line_alpha\":0.1,\"line_color\":\"blue\",\"line_width\":2,\"x\":{\"field\":\"date\"},\"y\":{\"field\":\"unpl\"}},\"id\":\"71041\",\"type\":\"Line\"},{\"attributes\":{},\"id\":\"70999\",\"type\":\"UnionRenderers\"},{\"attributes\":{\"line_color\":\"blue\",\"line_width\":2,\"x\":{\"field\":\"date\"},\"y\":{\"field\":\"lnpl\"}},\"id\":\"71015\",\"type\":\"Line\"},{\"attributes\":{\"months\":[0,1,2,3,4,5,6,7,8,9,10,11]},\"id\":\"70981\",\"type\":\"MonthsTicker\"},{\"attributes\":{\"data_source\":{\"id\":\"70929\"},\"glyph\":{\"id\":\"71015\"},\"hover_glyph\":null,\"muted_glyph\":null,\"nonselection_glyph\":{\"id\":\"71016\"},\"selection_glyph\":null,\"view\":{\"id\":\"71018\"}},\"id\":\"71017\",\"type\":\"GlyphRenderer\"},{\"attributes\":{\"overlay\":{\"id\":\"70955\"}},\"id\":\"70951\",\"type\":\"BoxZoomTool\"},{\"attributes\":{\"text\":\"central_line: 1.0217\"},\"id\":\"70931\",\"type\":\"Title\"},{\"attributes\":{\"months\":[0,4,8]},\"id\":\"70983\",\"type\":\"MonthsTicker\"},{\"attributes\":{},\"id\":\"70952\",\"type\":\"SaveTool\"},{\"attributes\":{\"months\":[0,6]},\"id\":\"70984\",\"type\":\"MonthsTicker\"},{\"attributes\":{},\"id\":\"70953\",\"type\":\"ResetTool\"},{\"attributes\":{\"data\":{\"avg_mr\":{\"__ndarray__\":\"6NNpL3PL1T/o02kvc8vVP+jTaS9zy9U/6NNpL3PL1T/o02kvc8vVP+jTaS9zy9U/6NNpL3PL1T/o02kvc8vVP+jTaS9zy9U/6NNpL3PL1T/o02kvc8vVP+jTaS9zy9U/6NNpL3PL1T/o02kvc8vVP+jTaS9zy9U/6NNpL3PL1T/o02kvc8vVP+jTaS9zy9U/6NNpL3PL1T/o02kvc8vVP+jTaS9zy9U/6NNpL3PL1T/o02kvc8vVP+jTaS9zy9U/6NNpL3PL1T/o02kvc8vVP+jTaS9zy9U/6NNpL3PL1T/o02kvc8vVP+jTaS9zy9U/6NNpL3PL1T/o02kvc8vVP+jTaS9zy9U/6NNpL3PL1T/o02kvc8vVP+jTaS9zy9U/6NNpL3PL1T/o02kvc8vVP+jTaS9zy9U/6NNpL3PL1T/o02kvc8vVP+jTaS9zy9U/6NNpL3PL1T8=\",\"dtype\":\"float64\",\"shape\":[43]},\"central_line\":{\"__ndarray__\":\"9fgU/NVY8D/1+BT81VjwP/X4FPzVWPA/9fgU/NVY8D/1+BT81VjwP/X4FPzVWPA/9fgU/NVY8D/1+BT81VjwP/X4FPzVWPA/9fgU/NVY8D/1+BT81VjwP/X4FPzVWPA/9fgU/NVY8D/1+BT81VjwP/X4FPzVWPA/9fgU/NVY8D/1+BT81VjwP/X4FPzVWPA/9fgU/NVY8D/1+BT81VjwP/X4FPzVWPA/9fgU/NVY8D/1+BT81VjwP/X4FPzVWPA/9fgU/NVY8D/1+BT81VjwP/X4FPzVWPA/9fgU/NVY8D/1+BT81VjwP/X4FPzVWPA/9fgU/NVY8D/1+BT81VjwP/X4FPzVWPA/9fgU/NVY8D/1+BT81VjwP/X4FPzVWPA/9fgU/NVY8D/1+BT81VjwP/X4FPzVWPA/9fgU/NVY8D/1+BT81VjwP/X4FPzVWPA/9fgU/NVY8D8=\",\"dtype\":\"float64\",\"shape\":[43]},\"conf\":[1092,1033,906,1226,973,783,973,1221,1346,1322,1175,964,870,736,1067,1236,1147,1072,750,729,715,889,808,655,656,400,172,386,514,477,445,335,199,318,232,455,319,289,245,161,196,227,270],\"date\":{\"__ndarray__\":\"AACA/4ITd0IAAEBl1RN3QgAAAMsnFHdCAADAMHoUd0IAAICWzBR3QgAAQPweFXdCAAAAYnEVd0IAAMDHwxV3QgAAgC0WFndCAABAk2gWd0IAAAD5uhZ3QgAAwF4NF3dCAACAxF8Xd0IAAEAqshd3QgAAAJAEGHdCAADA9VYYd0IAAIBbqRh3QgAAQMH7GHdCAAAAJ04Zd0IAAMCMoBl3QgAAgPLyGXdCAABAWEUad0IAAAC+lxp3QgAAwCPqGndCAACAiTwbd0IAAEDvjht3QgAAAFXhG3dCAADAujMcd0IAAIAghhx3QgAAQIbYHHdCAAAA7Codd0IAAMBRfR13QgAAgLfPHXdCAABAHSIed0IAAACDdB53QgAAwOjGHndCAACAThkfd0IAAEC0ax93QgAAABq+H3dCAADAfxAgd0IAAIDlYiB3QgAAQEu1IHdCAAAAsQchd0I=\",\"dtype\":\"float64\",\"shape\":[43]},\"growth\":{\"__ndarray__\":\"PzTWh8b68D9WZEVWZEXuP+ULUBXaEOw/2JoW+LWm9T/AJIgye2XpP+qodjFUwOk/2OWvuuvh8z+w6pTy/hP0P+8CShNUo/E/fxGSgO5t7z/WeKjZFnHsP4gXjAvtQOo/7THh7DHh7D/mI7FhPhLrPwtZyEIWMvc/DeEC3MGI8j9qgHF7H7LtPxIQqH1X6O0/VM5u4Vdj5j+0yHa+nxrvP8PG2nmtYu8/qrKH78nk8z9Fx6zomBXtP931s8XK8Ok/dKgf4UAG8D+D8zE4H4PjP4XrUbgehds/fUFf0Bf0AUD7Az1SQk71P06yTbJNsu0/60fCjm7a7T+BC1zgAhfoPw6yueNKAuM/4B7Y6F2R+T/pMX+vjVjnP6gRlnsaYf8/9mZv9mZv5j8GCIqsl/3sP123EWzGIOs/dVAHdVAH5T84velNb3rzP6KxPjTWh/I/ZG0V7+QH8z8=\",\"dtype\":\"float64\",\"shape\":[43]},\"index\":[0,1,2,3,4,5,6,7,8,9,10,11,12,13,14,15,16,17,18,19,20,21,22,23,24,25,26,27,28,29,30,31,32,33,34,35,36,37,38,39,40,41,42],\"lnpl\":{\"__ndarray__\":\"MIMS0waovT8wgxLTBqi9PzCDEtMGqL0/MIMS0waovT8wgxLTBqi9PzCDEtMGqL0/MIMS0waovT8wgxLTBqi9PzCDEtMGqL0/MIMS0waovT8wgxLTBqi9PzCDEtMGqL0/MIMS0waovT8wgxLTBqi9PzCDEtMGqL0/MIMS0waovT8wgxLTBqi9PzCDEtMGqL0/MIMS0waovT8wgxLTBqi9PzCDEtMGqL0/MIMS0waovT8wgxLTBqi9PzCDEtMGqL0/MIMS0waovT8wgxLTBqi9PzCDEtMGqL0/MIMS0waovT8wgxLTBqi9PzCDEtMGqL0/MIMS0waovT8wgxLTBqi9PzCDEtMGqL0/MIMS0waovT8wgxLTBqi9PzCDEtMGqL0/MIMS0waovT8wgxLTBqi9PzCDEtMGqL0/MIMS0waovT8wgxLTBqi9PzCDEtMGqL0/MIMS0waovT8=\",\"dtype\":\"float64\",\"shape\":[43]},\"moving_ranges\":{\"__ndarray__\":\"AAAAAAAA+H9AITjLRYG9P4jDqgdSpLE/llO6tSN53j/wEKW98OfhP4AKobs/toY/jEXShwYH3D8AbILymwmJPwg+V/pWhcM/+KIPMM3Fvj9IxUw3vea3P3AK43BOgbE/KNOoCicCtT9w4ACzOO+sPzCO3yPuUeM/+N8Vm1Gl0j/ABlHykH3NPwDURxsBHHs/+AblcP4Tzj/A9A+6j27RP8CD/9huA4I/Ij1pyszN0D8ePMXs9WfVP0CLxhdxJrk/LGwt8ttuyD/KuhoUxRLZPwL3I3A/Asc/GQiq8ucG/T/+/QKd2jPtP1CrWORt1Nk/gM5KOm4QdD+o8Zi5rg3HP8xlifLfUsQ/2UX7djgQ8D/XCzEiLsrrP7R41qPTtPM/LV5eAGcp9D9AhGrYwjjKP5AKhQcUza0/oJsp3NdlyD/7Kcwmju3hP8ByYTUjU64/QHjXWtcBoD8=\",\"dtype\":\"float64\",\"shape\":[43]},\"unpl\":{\"__ndarray__\":\"t8n4iivX/j+3yfiKK9f+P7fJ+Ior1/4/t8n4iivX/j+3yfiKK9f+P7fJ+Ior1/4/t8n4iivX/j+3yfiKK9f+P7fJ+Ior1/4/t8n4iivX/j+3yfiKK9f+P7fJ+Ior1/4/t8n4iivX/j+3yfiKK9f+P7fJ+Ior1/4/t8n4iivX/j+3yfiKK9f+P7fJ+Ior1/4/t8n4iivX/j+3yfiKK9f+P7fJ+Ior1/4/t8n4iivX/j+3yfiKK9f+P7fJ+Ior1/4/t8n4iivX/j+3yfiKK9f+P7fJ+Ior1/4/t8n4iivX/j+3yfiKK9f+P7fJ+Ior1/4/t8n4iivX/j+3yfiKK9f+P7fJ+Ior1/4/t8n4iivX/j+3yfiKK9f+P7fJ+Ior1/4/t8n4iivX/j+3yfiKK9f+P7fJ+Ior1/4/t8n4iivX/j+3yfiKK9f+P7fJ+Ior1/4/t8n4iivX/j8=\",\"dtype\":\"float64\",\"shape\":[43]},\"upper_range_limit\":{\"__ndarray__\":\"tzGuSDPR8T+3Ma5IM9HxP7cxrkgz0fE/tzGuSDPR8T+3Ma5IM9HxP7cxrkgz0fE/tzGuSDPR8T+3Ma5IM9HxP7cxrkgz0fE/tzGuSDPR8T+3Ma5IM9HxP7cxrkgz0fE/tzGuSDPR8T+3Ma5IM9HxP7cxrkgz0fE/tzGuSDPR8T+3Ma5IM9HxP7cxrkgz0fE/tzGuSDPR8T+3Ma5IM9HxP7cxrkgz0fE/tzGuSDPR8T+3Ma5IM9HxP7cxrkgz0fE/tzGuSDPR8T+3Ma5IM9HxP7cxrkgz0fE/tzGuSDPR8T+3Ma5IM9HxP7cxrkgz0fE/tzGuSDPR8T+3Ma5IM9HxP7cxrkgz0fE/tzGuSDPR8T+3Ma5IM9HxP7cxrkgz0fE/tzGuSDPR8T+3Ma5IM9HxP7cxrkgz0fE/tzGuSDPR8T+3Ma5IM9HxP7cxrkgz0fE/tzGuSDPR8T8=\",\"dtype\":\"float64\",\"shape\":[43]}},\"selected\":{\"id\":\"71000\"},\"selection_policy\":{\"id\":\"70999\"}},\"id\":\"70929\",\"type\":\"ColumnDataSource\"},{\"attributes\":{\"source\":{\"id\":\"70929\"}},\"id\":\"71043\",\"type\":\"CDSView\"},{\"attributes\":{},\"id\":\"70985\",\"type\":\"YearsTicker\"},{\"attributes\":{},\"id\":\"70954\",\"type\":\"HelpTool\"},{\"attributes\":{\"line_color\":\"blue\",\"line_width\":2,\"x\":{\"field\":\"date\"},\"y\":{\"field\":\"unpl\"}},\"id\":\"71040\",\"type\":\"Line\"},{\"attributes\":{\"items\":[{\"id\":\"70987\"},{\"id\":\"71013\"},{\"id\":\"71064\"}]},\"id\":\"70986\",\"type\":\"Legend\"},{\"attributes\":{\"data_source\":{\"id\":\"70929\"},\"glyph\":{\"id\":\"71040\"},\"hover_glyph\":null,\"muted_glyph\":null,\"nonselection_glyph\":{\"id\":\"71041\"},\"selection_glyph\":null,\"view\":{\"id\":\"71043\"}},\"id\":\"71042\",\"type\":\"GlyphRenderer\"},{\"attributes\":{},\"id\":\"70970\",\"type\":\"DatetimeTickFormatter\"}],\"root_ids\":[\"70930\"]},\"title\":\"Bokeh Application\",\"version\":\"2.0.2\"}};\n",
       "  var render_items = [{\"docid\":\"59b4d11b-8b7b-4352-9963-e827a0fa1a53\",\"root_ids\":[\"70930\"],\"roots\":{\"70930\":\"09c41dd4-8b11-4d4d-8f61-a190ce164e65\"}}];\n",
       "  root.Bokeh.embed.embed_items_notebook(docs_json, render_items);\n",
       "\n",
       "  }\n",
       "  if (root.Bokeh !== undefined) {\n",
       "    embed_document(root);\n",
       "  } else {\n",
       "    var attempts = 0;\n",
       "    var timer = setInterval(function(root) {\n",
       "      if (root.Bokeh !== undefined) {\n",
       "        clearInterval(timer);\n",
       "        embed_document(root);\n",
       "      } else {\n",
       "        attempts++;\n",
       "        if (attempts > 100) {\n",
       "          clearInterval(timer);\n",
       "          console.log(\"Bokeh: ERROR: Unable to run BokehJS code because BokehJS library is missing\");\n",
       "        }\n",
       "      }\n",
       "    }, 10, root)\n",
       "  }\n",
       "})(window);"
      ],
      "application/vnd.bokehjs_exec.v0+json": ""
     },
     "metadata": {
      "application/vnd.bokehjs_exec.v0+json": {
       "id": "70930"
      }
     },
     "output_type": "display_data"
    }
   ],
   "source": [
    "#set source\n",
    "source = ColumnDataSource(xmr)\n",
    "\n",
    "# create the plot\n",
    "p = figure(title = 'central_line: {:.04f}'.format(xmr['central_line'].mean()), \n",
    "           x_axis_type=\"datetime\",\n",
    "           x_axis_label = 'Date',\n",
    "           y_axis_label = 'Growth',\n",
    "           plot_height = 400,\n",
    "           plot_width = 900)\n",
    "\n",
    "p.line(x='date', y='growth', line_width=2, source=source, color='red', legend_label='growth-rate')\n",
    "p.line(x='date', y='central_line', line_width=2, source=source, color='black', legend_label='Lower Natural Process Limit')\n",
    "p.line(x='date', y='lnpl', line_width=2, source=source, color='blue', legend_label='Lower Natural Process Limit')\n",
    "p.line(x='date', y='unpl', line_width=2, source=source, color='blue', legend_label='Upper Natural Process Limit')\n",
    "\n",
    "show(p)"
   ]
  },
  {
   "cell_type": "code",
   "execution_count": 421,
   "metadata": {},
   "outputs": [
    {
     "data": {
      "text/html": [
       "\n",
       "\n",
       "\n",
       "\n",
       "\n",
       "\n",
       "  <div class=\"bk-root\" id=\"014a2160-5b06-49e5-94cb-2adf8712188b\" data-root-id=\"72530\"></div>\n"
      ]
     },
     "metadata": {},
     "output_type": "display_data"
    },
    {
     "data": {
      "application/javascript": [
       "(function(root) {\n",
       "  function embed_document(root) {\n",
       "    \n",
       "  var docs_json = {\"a14a32cd-db70-4eea-b2f6-2be504a34539\":{\"roots\":{\"references\":[{\"attributes\":{\"below\":[{\"id\":\"72541\"}],\"center\":[{\"id\":\"72544\"},{\"id\":\"72548\"},{\"id\":\"72586\"}],\"left\":[{\"id\":\"72545\"}],\"plot_height\":400,\"plot_width\":900,\"renderers\":[{\"id\":\"72566\"},{\"id\":\"72591\"},{\"id\":\"72617\"}],\"title\":{\"id\":\"72531\"},\"toolbar\":{\"id\":\"72556\"},\"x_range\":{\"id\":\"72533\"},\"x_scale\":{\"id\":\"72537\"},\"y_range\":{\"id\":\"72535\"},\"y_scale\":{\"id\":\"72539\"}},\"id\":\"72530\",\"subtype\":\"Figure\",\"type\":\"Plot\"},{\"attributes\":{\"mantissas\":[1,2,5],\"max_interval\":500.0,\"num_minor_ticks\":0},\"id\":\"72574\",\"type\":\"AdaptiveTicker\"},{\"attributes\":{\"line_alpha\":0.1,\"line_color\":\"blue\",\"line_width\":2,\"x\":{\"field\":\"date\"},\"y\":{\"field\":\"upper_range_limit\"}},\"id\":\"72616\",\"type\":\"Line\"},{\"attributes\":{\"source\":{\"id\":\"72529\"}},\"id\":\"72618\",\"type\":\"CDSView\"},{\"attributes\":{\"base\":60,\"mantissas\":[1,2,5,10,15,20,30],\"max_interval\":1800000.0,\"min_interval\":1000.0,\"num_minor_ticks\":0},\"id\":\"72575\",\"type\":\"AdaptiveTicker\"},{\"attributes\":{\"label\":{\"value\":\"upper range limit\"},\"renderers\":[{\"id\":\"72617\"}]},\"id\":\"72639\",\"type\":\"LegendItem\"},{\"attributes\":{},\"id\":\"72553\",\"type\":\"ResetTool\"},{\"attributes\":{\"base\":24,\"mantissas\":[1,2,4,6,8,12],\"max_interval\":43200000.0,\"min_interval\":3600000.0,\"num_minor_ticks\":0},\"id\":\"72576\",\"type\":\"AdaptiveTicker\"},{\"attributes\":{\"line_color\":\"blue\",\"line_width\":2,\"x\":{\"field\":\"date\"},\"y\":{\"field\":\"upper_range_limit\"}},\"id\":\"72615\",\"type\":\"Line\"},{\"attributes\":{\"data_source\":{\"id\":\"72529\"},\"glyph\":{\"id\":\"72615\"},\"hover_glyph\":null,\"muted_glyph\":null,\"nonselection_glyph\":{\"id\":\"72616\"},\"selection_glyph\":null,\"view\":{\"id\":\"72618\"}},\"id\":\"72617\",\"type\":\"GlyphRenderer\"},{\"attributes\":{\"days\":[1,2,3,4,5,6,7,8,9,10,11,12,13,14,15,16,17,18,19,20,21,22,23,24,25,26,27,28,29,30,31]},\"id\":\"72577\",\"type\":\"DaysTicker\"},{\"attributes\":{},\"id\":\"72554\",\"type\":\"HelpTool\"},{\"attributes\":{\"num_minor_ticks\":5,\"tickers\":[{\"id\":\"72574\"},{\"id\":\"72575\"},{\"id\":\"72576\"},{\"id\":\"72577\"},{\"id\":\"72578\"},{\"id\":\"72579\"},{\"id\":\"72580\"},{\"id\":\"72581\"},{\"id\":\"72582\"},{\"id\":\"72583\"},{\"id\":\"72584\"},{\"id\":\"72585\"}]},\"id\":\"72542\",\"type\":\"DatetimeTicker\"},{\"attributes\":{\"days\":[1,4,7,10,13,16,19,22,25,28]},\"id\":\"72578\",\"type\":\"DaysTicker\"},{\"attributes\":{\"months\":[0,1,2,3,4,5,6,7,8,9,10,11]},\"id\":\"72581\",\"type\":\"MonthsTicker\"},{\"attributes\":{\"bottom_units\":\"screen\",\"fill_alpha\":0.5,\"fill_color\":\"lightgrey\",\"left_units\":\"screen\",\"level\":\"overlay\",\"line_alpha\":1.0,\"line_color\":\"black\",\"line_dash\":[4,4],\"line_width\":2,\"render_mode\":\"css\",\"right_units\":\"screen\",\"top_units\":\"screen\"},\"id\":\"72555\",\"type\":\"BoxAnnotation\"},{\"attributes\":{\"months\":[0,2,4,6,8,10]},\"id\":\"72582\",\"type\":\"MonthsTicker\"},{\"attributes\":{\"days\":[1,8,15,22]},\"id\":\"72579\",\"type\":\"DaysTicker\"},{\"attributes\":{\"data\":{\"avg_mr\":{\"__ndarray__\":\"6NNpL3PL1T/o02kvc8vVP+jTaS9zy9U/6NNpL3PL1T/o02kvc8vVP+jTaS9zy9U/6NNpL3PL1T/o02kvc8vVP+jTaS9zy9U/6NNpL3PL1T/o02kvc8vVP+jTaS9zy9U/6NNpL3PL1T/o02kvc8vVP+jTaS9zy9U/6NNpL3PL1T/o02kvc8vVP+jTaS9zy9U/6NNpL3PL1T/o02kvc8vVP+jTaS9zy9U/6NNpL3PL1T/o02kvc8vVP+jTaS9zy9U/6NNpL3PL1T/o02kvc8vVP+jTaS9zy9U/6NNpL3PL1T/o02kvc8vVP+jTaS9zy9U/6NNpL3PL1T/o02kvc8vVP+jTaS9zy9U/6NNpL3PL1T/o02kvc8vVP+jTaS9zy9U/6NNpL3PL1T/o02kvc8vVP+jTaS9zy9U/6NNpL3PL1T/o02kvc8vVP+jTaS9zy9U/6NNpL3PL1T8=\",\"dtype\":\"float64\",\"shape\":[43]},\"central_line\":{\"__ndarray__\":\"9fgU/NVY8D/1+BT81VjwP/X4FPzVWPA/9fgU/NVY8D/1+BT81VjwP/X4FPzVWPA/9fgU/NVY8D/1+BT81VjwP/X4FPzVWPA/9fgU/NVY8D/1+BT81VjwP/X4FPzVWPA/9fgU/NVY8D/1+BT81VjwP/X4FPzVWPA/9fgU/NVY8D/1+BT81VjwP/X4FPzVWPA/9fgU/NVY8D/1+BT81VjwP/X4FPzVWPA/9fgU/NVY8D/1+BT81VjwP/X4FPzVWPA/9fgU/NVY8D/1+BT81VjwP/X4FPzVWPA/9fgU/NVY8D/1+BT81VjwP/X4FPzVWPA/9fgU/NVY8D/1+BT81VjwP/X4FPzVWPA/9fgU/NVY8D/1+BT81VjwP/X4FPzVWPA/9fgU/NVY8D/1+BT81VjwP/X4FPzVWPA/9fgU/NVY8D/1+BT81VjwP/X4FPzVWPA/9fgU/NVY8D8=\",\"dtype\":\"float64\",\"shape\":[43]},\"conf\":[1092,1033,906,1226,973,783,973,1221,1346,1322,1175,964,870,736,1067,1236,1147,1072,750,729,715,889,808,655,656,400,172,386,514,477,445,335,199,318,232,455,319,289,245,161,196,227,270],\"date\":{\"__ndarray__\":\"AACA/4ITd0IAAEBl1RN3QgAAAMsnFHdCAADAMHoUd0IAAICWzBR3QgAAQPweFXdCAAAAYnEVd0IAAMDHwxV3QgAAgC0WFndCAABAk2gWd0IAAAD5uhZ3QgAAwF4NF3dCAACAxF8Xd0IAAEAqshd3QgAAAJAEGHdCAADA9VYYd0IAAIBbqRh3QgAAQMH7GHdCAAAAJ04Zd0IAAMCMoBl3QgAAgPLyGXdCAABAWEUad0IAAAC+lxp3QgAAwCPqGndCAACAiTwbd0IAAEDvjht3QgAAAFXhG3dCAADAujMcd0IAAIAghhx3QgAAQIbYHHdCAAAA7Codd0IAAMBRfR13QgAAgLfPHXdCAABAHSIed0IAAACDdB53QgAAwOjGHndCAACAThkfd0IAAEC0ax93QgAAABq+H3dCAADAfxAgd0IAAIDlYiB3QgAAQEu1IHdCAAAAsQchd0I=\",\"dtype\":\"float64\",\"shape\":[43]},\"growth\":{\"__ndarray__\":\"PzTWh8b68D9WZEVWZEXuP+ULUBXaEOw/2JoW+LWm9T/AJIgye2XpP+qodjFUwOk/2OWvuuvh8z+w6pTy/hP0P+8CShNUo/E/fxGSgO5t7z/WeKjZFnHsP4gXjAvtQOo/7THh7DHh7D/mI7FhPhLrPwtZyEIWMvc/DeEC3MGI8j9qgHF7H7LtPxIQqH1X6O0/VM5u4Vdj5j+0yHa+nxrvP8PG2nmtYu8/qrKH78nk8z9Fx6zomBXtP931s8XK8Ok/dKgf4UAG8D+D8zE4H4PjP4XrUbgehds/fUFf0Bf0AUD7Az1SQk71P06yTbJNsu0/60fCjm7a7T+BC1zgAhfoPw6yueNKAuM/4B7Y6F2R+T/pMX+vjVjnP6gRlnsaYf8/9mZv9mZv5j8GCIqsl/3sP123EWzGIOs/dVAHdVAH5T84velNb3rzP6KxPjTWh/I/ZG0V7+QH8z8=\",\"dtype\":\"float64\",\"shape\":[43]},\"index\":[0,1,2,3,4,5,6,7,8,9,10,11,12,13,14,15,16,17,18,19,20,21,22,23,24,25,26,27,28,29,30,31,32,33,34,35,36,37,38,39,40,41,42],\"lnpl\":{\"__ndarray__\":\"MIMS0waovT8wgxLTBqi9PzCDEtMGqL0/MIMS0waovT8wgxLTBqi9PzCDEtMGqL0/MIMS0waovT8wgxLTBqi9PzCDEtMGqL0/MIMS0waovT8wgxLTBqi9PzCDEtMGqL0/MIMS0waovT8wgxLTBqi9PzCDEtMGqL0/MIMS0waovT8wgxLTBqi9PzCDEtMGqL0/MIMS0waovT8wgxLTBqi9PzCDEtMGqL0/MIMS0waovT8wgxLTBqi9PzCDEtMGqL0/MIMS0waovT8wgxLTBqi9PzCDEtMGqL0/MIMS0waovT8wgxLTBqi9PzCDEtMGqL0/MIMS0waovT8wgxLTBqi9PzCDEtMGqL0/MIMS0waovT8wgxLTBqi9PzCDEtMGqL0/MIMS0waovT8wgxLTBqi9PzCDEtMGqL0/MIMS0waovT8wgxLTBqi9PzCDEtMGqL0/MIMS0waovT8=\",\"dtype\":\"float64\",\"shape\":[43]},\"moving_ranges\":{\"__ndarray__\":\"AAAAAAAA+H9AITjLRYG9P4jDqgdSpLE/llO6tSN53j/wEKW98OfhP4AKobs/toY/jEXShwYH3D8AbILymwmJPwg+V/pWhcM/+KIPMM3Fvj9IxUw3vea3P3AK43BOgbE/KNOoCicCtT9w4ACzOO+sPzCO3yPuUeM/+N8Vm1Gl0j/ABlHykH3NPwDURxsBHHs/+AblcP4Tzj/A9A+6j27RP8CD/9huA4I/Ij1pyszN0D8ePMXs9WfVP0CLxhdxJrk/LGwt8ttuyD/KuhoUxRLZPwL3I3A/Asc/GQiq8ucG/T/+/QKd2jPtP1CrWORt1Nk/gM5KOm4QdD+o8Zi5rg3HP8xlifLfUsQ/2UX7djgQ8D/XCzEiLsrrP7R41qPTtPM/LV5eAGcp9D9AhGrYwjjKP5AKhQcUza0/oJsp3NdlyD/7Kcwmju3hP8ByYTUjU64/QHjXWtcBoD8=\",\"dtype\":\"float64\",\"shape\":[43]},\"unpl\":{\"__ndarray__\":\"t8n4iivX/j+3yfiKK9f+P7fJ+Ior1/4/t8n4iivX/j+3yfiKK9f+P7fJ+Ior1/4/t8n4iivX/j+3yfiKK9f+P7fJ+Ior1/4/t8n4iivX/j+3yfiKK9f+P7fJ+Ior1/4/t8n4iivX/j+3yfiKK9f+P7fJ+Ior1/4/t8n4iivX/j+3yfiKK9f+P7fJ+Ior1/4/t8n4iivX/j+3yfiKK9f+P7fJ+Ior1/4/t8n4iivX/j+3yfiKK9f+P7fJ+Ior1/4/t8n4iivX/j+3yfiKK9f+P7fJ+Ior1/4/t8n4iivX/j+3yfiKK9f+P7fJ+Ior1/4/t8n4iivX/j+3yfiKK9f+P7fJ+Ior1/4/t8n4iivX/j+3yfiKK9f+P7fJ+Ior1/4/t8n4iivX/j+3yfiKK9f+P7fJ+Ior1/4/t8n4iivX/j+3yfiKK9f+P7fJ+Ior1/4/t8n4iivX/j8=\",\"dtype\":\"float64\",\"shape\":[43]},\"upper_range_limit\":{\"__ndarray__\":\"tzGuSDPR8T+3Ma5IM9HxP7cxrkgz0fE/tzGuSDPR8T+3Ma5IM9HxP7cxrkgz0fE/tzGuSDPR8T+3Ma5IM9HxP7cxrkgz0fE/tzGuSDPR8T+3Ma5IM9HxP7cxrkgz0fE/tzGuSDPR8T+3Ma5IM9HxP7cxrkgz0fE/tzGuSDPR8T+3Ma5IM9HxP7cxrkgz0fE/tzGuSDPR8T+3Ma5IM9HxP7cxrkgz0fE/tzGuSDPR8T+3Ma5IM9HxP7cxrkgz0fE/tzGuSDPR8T+3Ma5IM9HxP7cxrkgz0fE/tzGuSDPR8T+3Ma5IM9HxP7cxrkgz0fE/tzGuSDPR8T+3Ma5IM9HxP7cxrkgz0fE/tzGuSDPR8T+3Ma5IM9HxP7cxrkgz0fE/tzGuSDPR8T+3Ma5IM9HxP7cxrkgz0fE/tzGuSDPR8T+3Ma5IM9HxP7cxrkgz0fE/tzGuSDPR8T8=\",\"dtype\":\"float64\",\"shape\":[43]}},\"selected\":{\"id\":\"72600\"},\"selection_policy\":{\"id\":\"72599\"}},\"id\":\"72529\",\"type\":\"ColumnDataSource\"},{\"attributes\":{\"active_drag\":\"auto\",\"active_inspect\":\"auto\",\"active_multi\":null,\"active_scroll\":\"auto\",\"active_tap\":\"auto\",\"tools\":[{\"id\":\"72549\"},{\"id\":\"72550\"},{\"id\":\"72551\"},{\"id\":\"72552\"},{\"id\":\"72553\"},{\"id\":\"72554\"}]},\"id\":\"72556\",\"type\":\"Toolbar\"},{\"attributes\":{},\"id\":\"72585\",\"type\":\"YearsTicker\"},{\"attributes\":{\"items\":[{\"id\":\"72587\"},{\"id\":\"72613\"},{\"id\":\"72639\"}]},\"id\":\"72586\",\"type\":\"Legend\"},{\"attributes\":{\"source\":{\"id\":\"72529\"}},\"id\":\"72567\",\"type\":\"CDSView\"},{\"attributes\":{\"days\":[1,15]},\"id\":\"72580\",\"type\":\"DaysTicker\"},{\"attributes\":{\"data_source\":{\"id\":\"72529\"},\"glyph\":{\"id\":\"72564\"},\"hover_glyph\":null,\"muted_glyph\":null,\"nonselection_glyph\":{\"id\":\"72565\"},\"selection_glyph\":null,\"view\":{\"id\":\"72567\"}},\"id\":\"72566\",\"type\":\"GlyphRenderer\"},{\"attributes\":{\"label\":{\"value\":\"mr\"},\"renderers\":[{\"id\":\"72566\"}]},\"id\":\"72587\",\"type\":\"LegendItem\"},{\"attributes\":{\"text\":\"Moving Ranges plot\"},\"id\":\"72531\",\"type\":\"Title\"},{\"attributes\":{},\"id\":\"72550\",\"type\":\"WheelZoomTool\"},{\"attributes\":{},\"id\":\"72599\",\"type\":\"UnionRenderers\"},{\"attributes\":{},\"id\":\"72533\",\"type\":\"DataRange1d\"},{\"attributes\":{\"overlay\":{\"id\":\"72555\"}},\"id\":\"72551\",\"type\":\"BoxZoomTool\"},{\"attributes\":{\"line_color\":\"red\",\"line_width\":2,\"x\":{\"field\":\"date\"},\"y\":{\"field\":\"moving_ranges\"}},\"id\":\"72564\",\"type\":\"Line\"},{\"attributes\":{},\"id\":\"72549\",\"type\":\"PanTool\"},{\"attributes\":{\"months\":[0,4,8]},\"id\":\"72583\",\"type\":\"MonthsTicker\"},{\"attributes\":{},\"id\":\"72537\",\"type\":\"LinearScale\"},{\"attributes\":{\"line_alpha\":0.1,\"line_width\":2,\"x\":{\"field\":\"date\"},\"y\":{\"field\":\"avg_mr\"}},\"id\":\"72590\",\"type\":\"Line\"},{\"attributes\":{\"line_alpha\":0.1,\"line_color\":\"red\",\"line_width\":2,\"x\":{\"field\":\"date\"},\"y\":{\"field\":\"moving_ranges\"}},\"id\":\"72565\",\"type\":\"Line\"},{\"attributes\":{\"source\":{\"id\":\"72529\"}},\"id\":\"72592\",\"type\":\"CDSView\"},{\"attributes\":{\"months\":[0,6]},\"id\":\"72584\",\"type\":\"MonthsTicker\"},{\"attributes\":{\"axis\":{\"id\":\"72545\"},\"dimension\":1,\"ticker\":null},\"id\":\"72548\",\"type\":\"Grid\"},{\"attributes\":{\"line_width\":2,\"x\":{\"field\":\"date\"},\"y\":{\"field\":\"avg_mr\"}},\"id\":\"72589\",\"type\":\"Line\"},{\"attributes\":{},\"id\":\"72570\",\"type\":\"DatetimeTickFormatter\"},{\"attributes\":{\"data_source\":{\"id\":\"72529\"},\"glyph\":{\"id\":\"72589\"},\"hover_glyph\":null,\"muted_glyph\":null,\"nonselection_glyph\":{\"id\":\"72590\"},\"selection_glyph\":null,\"view\":{\"id\":\"72592\"}},\"id\":\"72591\",\"type\":\"GlyphRenderer\"},{\"attributes\":{},\"id\":\"72535\",\"type\":\"DataRange1d\"},{\"attributes\":{\"axis\":{\"id\":\"72541\"},\"ticker\":null},\"id\":\"72544\",\"type\":\"Grid\"},{\"attributes\":{},\"id\":\"72600\",\"type\":\"Selection\"},{\"attributes\":{\"axis_label\":\"Growth\",\"formatter\":{\"id\":\"72572\"},\"ticker\":{\"id\":\"72546\"}},\"id\":\"72545\",\"type\":\"LinearAxis\"},{\"attributes\":{},\"id\":\"72572\",\"type\":\"BasicTickFormatter\"},{\"attributes\":{},\"id\":\"72552\",\"type\":\"SaveTool\"},{\"attributes\":{},\"id\":\"72546\",\"type\":\"BasicTicker\"},{\"attributes\":{\"label\":{\"value\":\"avg_mr\"},\"renderers\":[{\"id\":\"72591\"}]},\"id\":\"72613\",\"type\":\"LegendItem\"},{\"attributes\":{},\"id\":\"72539\",\"type\":\"LinearScale\"},{\"attributes\":{\"axis_label\":\"Date\",\"formatter\":{\"id\":\"72570\"},\"ticker\":{\"id\":\"72542\"}},\"id\":\"72541\",\"type\":\"DatetimeAxis\"}],\"root_ids\":[\"72530\"]},\"title\":\"Bokeh Application\",\"version\":\"2.0.2\"}};\n",
       "  var render_items = [{\"docid\":\"a14a32cd-db70-4eea-b2f6-2be504a34539\",\"root_ids\":[\"72530\"],\"roots\":{\"72530\":\"014a2160-5b06-49e5-94cb-2adf8712188b\"}}];\n",
       "  root.Bokeh.embed.embed_items_notebook(docs_json, render_items);\n",
       "\n",
       "  }\n",
       "  if (root.Bokeh !== undefined) {\n",
       "    embed_document(root);\n",
       "  } else {\n",
       "    var attempts = 0;\n",
       "    var timer = setInterval(function(root) {\n",
       "      if (root.Bokeh !== undefined) {\n",
       "        clearInterval(timer);\n",
       "        embed_document(root);\n",
       "      } else {\n",
       "        attempts++;\n",
       "        if (attempts > 100) {\n",
       "          clearInterval(timer);\n",
       "          console.log(\"Bokeh: ERROR: Unable to run BokehJS code because BokehJS library is missing\");\n",
       "        }\n",
       "      }\n",
       "    }, 10, root)\n",
       "  }\n",
       "})(window);"
      ],
      "application/vnd.bokehjs_exec.v0+json": ""
     },
     "metadata": {
      "application/vnd.bokehjs_exec.v0+json": {
       "id": "72530"
      }
     },
     "output_type": "display_data"
    }
   ],
   "source": [
    "#set source\n",
    "source = ColumnDataSource(xmr)\n",
    "\n",
    "# create the plot\n",
    "p = figure(title = 'Moving Ranges plot', \n",
    "           x_axis_type=\"datetime\",\n",
    "           x_axis_label = 'Date',\n",
    "           y_axis_label = 'Growth',\n",
    "           plot_height = 400,\n",
    "           plot_width = 900)\n",
    "\n",
    "p.line(x='date', y='moving_ranges', line_width=2, source=source, color='red', legend_label='mr')\n",
    "\n",
    "p.line(x='date', y='avg_mr', line_width=2, source=source, color='black', legend_label='avg_mr')\n",
    "p.line(x='date', y='upper_range_limit', line_width=2, source=source, color='blue', legend_label='upper range limit')\n",
    "\n",
    "show(p)"
   ]
  },
  {
   "cell_type": "code",
   "execution_count": null,
   "metadata": {},
   "outputs": [],
   "source": []
  }
 ],
 "metadata": {
  "kernelspec": {
   "display_name": "Python 3",
   "language": "python",
   "name": "python3"
  },
  "language_info": {
   "codemirror_mode": {
    "name": "ipython",
    "version": 3
   },
   "file_extension": ".py",
   "mimetype": "text/x-python",
   "name": "python",
   "nbconvert_exporter": "python",
   "pygments_lexer": "ipython3",
   "version": "3.7.3"
  }
 },
 "nbformat": 4,
 "nbformat_minor": 4
}
