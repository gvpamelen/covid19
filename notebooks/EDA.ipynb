{
 "cells": [
  {
   "cell_type": "markdown",
   "metadata": {},
   "source": [
    "# EDA Covid 19\n",
    "***"
   ]
  },
  {
   "cell_type": "code",
   "execution_count": 1,
   "metadata": {},
   "outputs": [],
   "source": [
    "import numpy as np\n",
    "import pandas as pd\n",
    "\n",
    "import matplotlib.pyplot as plt\n",
    "%matplotlib inline\n",
    "\n",
    "import seaborn as sns\n",
    "sns.set()\n",
    "\n",
    "from sqlalchemy import create_engine\n",
    "%load_ext sql\n",
    "\n",
    "%load_ext autoreload\n",
    "%autoreload 2"
   ]
  },
  {
   "cell_type": "markdown",
   "metadata": {},
   "source": [
    "## 1. Load Data\n",
    "***\n"
   ]
  },
  {
   "cell_type": "code",
   "execution_count": 11,
   "metadata": {},
   "outputs": [
    {
     "name": "stdout",
     "output_type": "stream",
     "text": [
      "Done.\n"
     ]
    },
    {
     "data": {
      "text/html": [
       "<table>\n",
       "    <tr>\n",
       "        <th>country</th>\n",
       "        <th>date</th>\n",
       "        <th>confirmed</th>\n",
       "        <th>death</th>\n",
       "        <th>recovered</th>\n",
       "    </tr>\n",
       "    <tr>\n",
       "        <td>Australia</td>\n",
       "        <td>2020-05-07</td>\n",
       "        <td>6913</td>\n",
       "        <td>97</td>\n",
       "        <td>6078</td>\n",
       "    </tr>\n",
       "    <tr>\n",
       "        <td>Australia</td>\n",
       "        <td>2020-05-06</td>\n",
       "        <td>6894</td>\n",
       "        <td>97</td>\n",
       "        <td>6031</td>\n",
       "    </tr>\n",
       "    <tr>\n",
       "        <td>Australia</td>\n",
       "        <td>2020-05-05</td>\n",
       "        <td>6875</td>\n",
       "        <td>97</td>\n",
       "        <td>5975</td>\n",
       "    </tr>\n",
       "    <tr>\n",
       "        <td>Australia</td>\n",
       "        <td>2020-05-04</td>\n",
       "        <td>6847</td>\n",
       "        <td>96</td>\n",
       "        <td>5887</td>\n",
       "    </tr>\n",
       "    <tr>\n",
       "        <td>Australia</td>\n",
       "        <td>2020-05-03</td>\n",
       "        <td>6822</td>\n",
       "        <td>95</td>\n",
       "        <td>5849</td>\n",
       "    </tr>\n",
       "</table>"
      ],
      "text/plain": [
       "[('Australia', '2020-05-07', 6913, 97, 6078),\n",
       " ('Australia', '2020-05-06', 6894, 97, 6031),\n",
       " ('Australia', '2020-05-05', 6875, 97, 5975),\n",
       " ('Australia', '2020-05-04', 6847, 96, 5887),\n",
       " ('Australia', '2020-05-03', 6822, 95, 5849)]"
      ]
     },
     "execution_count": 11,
     "metadata": {},
     "output_type": "execute_result"
    }
   ],
   "source": [
    "%%sql sqlite:///../data/processed/covid.sqlite\n",
    "-- Australia last 5 days\n",
    "SELECT \n",
    "    country,\n",
    "    DATE(date) AS date,\n",
    "    confirmed,\n",
    "    death,\n",
    "    recovered\n",
    "FROM stats\n",
    "WHERE country = 'Australia'\n",
    "ORDER BY date DESC\n",
    "LIMIT 5;"
   ]
  },
  {
   "cell_type": "code",
   "execution_count": null,
   "metadata": {},
   "outputs": [],
   "source": []
  }
 ],
 "metadata": {
  "kernelspec": {
   "display_name": "Python 3",
   "language": "python",
   "name": "python3"
  },
  "language_info": {
   "codemirror_mode": {
    "name": "ipython",
    "version": 3
   },
   "file_extension": ".py",
   "mimetype": "text/x-python",
   "name": "python",
   "nbconvert_exporter": "python",
   "pygments_lexer": "ipython3",
   "version": "3.7.3"
  }
 },
 "nbformat": 4,
 "nbformat_minor": 4
}
