{
 "cells": [
  {
   "cell_type": "markdown",
   "metadata": {},
   "source": [
    "# Geographic Data\n",
    "***\n",
    "Two objectives:\n",
    "1. Get shapefile data for countries to build a choropleth map\n",
    "2. Get a mapping of countries to it's continent (to add to the population table)"
   ]
  },
  {
   "cell_type": "code",
   "execution_count": 14,
   "metadata": {},
   "outputs": [
    {
     "name": "stdout",
     "output_type": "stream",
     "text": [
      "sqlite:///../../data/processed/covid_db.sqlite\n",
      "The sql extension is already loaded. To reload it, use:\n",
      "  %reload_ext sql\n",
      "The autoreload extension is already loaded. To reload it, use:\n",
      "  %reload_ext autoreload\n"
     ]
    }
   ],
   "source": [
    "import pandas as pd\n",
    "import geopandas as gpd\n",
    "\n",
    "import requests\n",
    "import zipfile\n",
    "import os\n",
    "import io\n",
    "\n",
    "# allow web-acces for downloading: https://stackoverflow.com/a/60671292\n",
    "import ssl\n",
    "ssl._create_default_https_context = ssl._create_unverified_context\n",
    "\n",
    "from src.data.quick_queries import queryDB\n",
    "qdb = queryDB('sqlite','../../data/processed/covid_db.sqlite')\n",
    "%load_ext sql\n",
    "\n",
    "%load_ext autoreload\n",
    "%autoreload 2"
   ]
  },
  {
   "cell_type": "markdown",
   "metadata": {},
   "source": [
    "## 1. Gather Data\n",
    "***\n",
    "Relevant shapefiles for country data can be found on www.naturalearthdata.com. There are three levels of data here (10m, 50m and 110m), where we have chosen for the last option (110m).\n",
    "\n",
    "This causes us to miss some small countries (i.e. Singapore), however, the other files are found to big to display on interactive choropleth maps.\n",
    "\n",
    "A potential improvement could be to find the missing countries in the 110m shapfile, and only add more precise (50 or 10m) shapefiles for these, leaving the bigger countries coarse."
   ]
  },
  {
   "cell_type": "markdown",
   "metadata": {},
   "source": [
    "#### 1.1. helper function to download & extract zipfiles"
   ]
  },
  {
   "cell_type": "code",
   "execution_count": 8,
   "metadata": {},
   "outputs": [],
   "source": [
    "def extractZipfile(path, url):\n",
    "    \"\"\"\n",
    "    Extract zipfile from url and store files under path \n",
    "    \"\"\"\n",
    "    # download\n",
    "    r = requests.get(url, stream=True)\n",
    "\n",
    "    with zipfile.ZipFile(io.BytesIO(r.content)) as myzip:\n",
    "        # get the files inside the zip-file\n",
    "        file_list = myzip.namelist()\n",
    "        # extract files one-by-one\n",
    "        for name in file_list:\n",
    "            # remove MAXOSX folder\n",
    "            if name[:8] != '__MACOSX':\n",
    "                #only keep shapefile\n",
    "                if name.split('.')[-1] == 'shp':\n",
    "                    myzip.extract(name, path)\n",
    "                    return name"
   ]
  },
  {
   "cell_type": "markdown",
   "metadata": {},
   "source": [
    "#### 1.2.1 Download shapefiles"
   ]
  },
  {
   "cell_type": "code",
   "execution_count": 31,
   "metadata": {},
   "outputs": [],
   "source": [
    "# extract zipfiles\n",
    "#url_10 = 'https://www.naturalearthdata.com/http//www.naturalearthdata.com/download/10m/cultural/ne_10m_admin_0_countries.zip'\n",
    "#url_50 = 'https://www.naturalearthdata.com/http//www.naturalearthdata.com/download/50m/cultural/ne_50m_admin_0_countries.zip'\n",
    "#url_110 = 'https://www.naturalearthdata.com/http//www.naturalearthdata.com/download/110m/cultural/ne_110m_admin_0_countries.zip'\n",
    "#path = '../../data/raw'\n",
    "\n",
    "#filenames = []\n",
    "#for url in [url_10, url_50, url_110]:\n",
    "#    filenames.append(extractZipfile(path, url))\n",
    "#extractZipfile(path, url_10)"
   ]
  },
  {
   "cell_type": "markdown",
   "metadata": {},
   "source": [
    "#### 1.2.2 Download shapefiles (backup)\n",
    "Usually, the method outlined in `1.2.1` works. During a check on `13/07/2020` there seemed to be an issue with the regular method for downloading (the zipfiles). We thus deviced the method below to get the data directly from Github.\n",
    "\n",
    "NB: the .shp file needs additional files (see extensions below) to get the full dataset."
   ]
  },
  {
   "cell_type": "code",
   "execution_count": 43,
   "metadata": {},
   "outputs": [],
   "source": [
    "url_10 = 'https://github.com/nvkelso/natural-earth-vector/blob/master/10m_cultural/ne_10m_admin_0_countries.shp?raw=true'\n",
    "url_50 = 'https://github.com/nvkelso/natural-earth-vector/blob/master/50m_cultural/ne_50m_admin_0_countries.shp?raw=true'\n",
    "url_110 = 'https://github.com/nvkelso/natural-earth-vector/blob/master/110m_cultural/ne_110m_admin_0_countries.shp?raw=true'\n",
    "path = '../../data/raw/'\n",
    "\n",
    "filenames = []\n",
    "for url in [url_10, url_50, url_110]:\n",
    "    extensions = ['cpg','dbf','prj','shp','shx']\n",
    "    for ext in extensions:\n",
    "        to_download = url.replace('shp', ext)\n",
    "\n",
    "        # find the filename\n",
    "        name = to_download.split('/')[-1].split('?')[0]\n",
    "        if name.split('.')[-1] == 'shp':\n",
    "            filenames.append(name)\n",
    "\n",
    "        # extract & store\n",
    "        r = requests.get(to_download, stream=True)\n",
    "        with open(path + name, 'wb') as f:\n",
    "            f.write(r.content)"
   ]
  },
  {
   "cell_type": "code",
   "execution_count": 44,
   "metadata": {},
   "outputs": [
    {
     "data": {
      "text/plain": [
       "['ne_10m_admin_0_countries.shp',\n",
       " 'ne_50m_admin_0_countries.shp',\n",
       " 'ne_110m_admin_0_countries.shp']"
      ]
     },
     "execution_count": 44,
     "metadata": {},
     "output_type": "execute_result"
    }
   ],
   "source": [
    "filenames"
   ]
  },
  {
   "cell_type": "markdown",
   "metadata": {},
   "source": [
    "#### 1.3 Load Geopandas dataframe\n",
    "We're starting with the coarsest set (110m) and work our way down to 10m, only adding missing countries."
   ]
  },
  {
   "cell_type": "code",
   "execution_count": 45,
   "metadata": {},
   "outputs": [
    {
     "name": "stdout",
     "output_type": "stream",
     "text": [
      "(177, 3)\n",
      "(241, 3)\n",
      "(255, 3)\n"
     ]
    }
   ],
   "source": [
    "countries_110 = gpd.read_file(path + '/' + filenames[2])[['ADMIN','CONTINENT','geometry']]\n",
    "print(countries_110.shape)\n",
    "\n",
    "countries_50 = gpd.read_file(path + '/' + filenames[1])[['ADMIN','CONTINENT','geometry']]\n",
    "print(countries_50.shape)\n",
    "\n",
    "countries_10 = gpd.read_file(path + '/' + filenames[0])[['ADMIN','CONTINENT','geometry']]\n",
    "print(countries_10.shape)"
   ]
  },
  {
   "cell_type": "code",
   "execution_count": 46,
   "metadata": {},
   "outputs": [
    {
     "data": {
      "text/plain": [
       "(255, 3)"
      ]
     },
     "execution_count": 46,
     "metadata": {},
     "output_type": "execute_result"
    }
   ],
   "source": [
    "# create a combined dataframe - each geometry as coarse as available\n",
    "countries = countries_110.copy()\n",
    "countries = pd.concat([countries, countries_50[~countries_50['ADMIN'].isin(countries['ADMIN'].unique())]], axis=0)\n",
    "countries = pd.concat([countries, countries_10[~countries_10['ADMIN'].isin(countries['ADMIN'].unique())]], axis=0)\n",
    "countries.shape"
   ]
  },
  {
   "cell_type": "code",
   "execution_count": 47,
   "metadata": {},
   "outputs": [
    {
     "data": {
      "text/html": [
       "<div>\n",
       "<style scoped>\n",
       "    .dataframe tbody tr th:only-of-type {\n",
       "        vertical-align: middle;\n",
       "    }\n",
       "\n",
       "    .dataframe tbody tr th {\n",
       "        vertical-align: top;\n",
       "    }\n",
       "\n",
       "    .dataframe thead th {\n",
       "        text-align: right;\n",
       "    }\n",
       "</style>\n",
       "<table border=\"1\" class=\"dataframe\">\n",
       "  <thead>\n",
       "    <tr style=\"text-align: right;\">\n",
       "      <th></th>\n",
       "      <th>ADMIN</th>\n",
       "      <th>CONTINENT</th>\n",
       "      <th>geometry</th>\n",
       "    </tr>\n",
       "  </thead>\n",
       "  <tbody>\n",
       "    <tr>\n",
       "      <th>0</th>\n",
       "      <td>Fiji</td>\n",
       "      <td>Oceania</td>\n",
       "      <td>MULTIPOLYGON (((180.00000 -16.06713, 180.00000...</td>\n",
       "    </tr>\n",
       "    <tr>\n",
       "      <th>1</th>\n",
       "      <td>United Republic of Tanzania</td>\n",
       "      <td>Africa</td>\n",
       "      <td>POLYGON ((33.90371 -0.95000, 34.07262 -1.05982...</td>\n",
       "    </tr>\n",
       "    <tr>\n",
       "      <th>2</th>\n",
       "      <td>Western Sahara</td>\n",
       "      <td>Africa</td>\n",
       "      <td>POLYGON ((-8.66559 27.65643, -8.66512 27.58948...</td>\n",
       "    </tr>\n",
       "    <tr>\n",
       "      <th>3</th>\n",
       "      <td>Canada</td>\n",
       "      <td>North America</td>\n",
       "      <td>MULTIPOLYGON (((-122.84000 49.00000, -122.9742...</td>\n",
       "    </tr>\n",
       "    <tr>\n",
       "      <th>4</th>\n",
       "      <td>United States of America</td>\n",
       "      <td>North America</td>\n",
       "      <td>MULTIPOLYGON (((-122.84000 49.00000, -120.0000...</td>\n",
       "    </tr>\n",
       "  </tbody>\n",
       "</table>\n",
       "</div>"
      ],
      "text/plain": [
       "                         ADMIN      CONTINENT  \\\n",
       "0                         Fiji        Oceania   \n",
       "1  United Republic of Tanzania         Africa   \n",
       "2               Western Sahara         Africa   \n",
       "3                       Canada  North America   \n",
       "4     United States of America  North America   \n",
       "\n",
       "                                            geometry  \n",
       "0  MULTIPOLYGON (((180.00000 -16.06713, 180.00000...  \n",
       "1  POLYGON ((33.90371 -0.95000, 34.07262 -1.05982...  \n",
       "2  POLYGON ((-8.66559 27.65643, -8.66512 27.58948...  \n",
       "3  MULTIPOLYGON (((-122.84000 49.00000, -122.9742...  \n",
       "4  MULTIPOLYGON (((-122.84000 49.00000, -120.0000...  "
      ]
     },
     "execution_count": 47,
     "metadata": {},
     "output_type": "execute_result"
    }
   ],
   "source": [
    "countries.head()"
   ]
  },
  {
   "cell_type": "markdown",
   "metadata": {},
   "source": [
    "## 2. Assess Data\n",
    "***\n",
    "The goal is to use this data merged with the existing Covid data, again, using the country-name as merging key."
   ]
  },
  {
   "cell_type": "markdown",
   "metadata": {},
   "source": [
    "#### 2.1 Compare with countries is `stats` table"
   ]
  },
  {
   "cell_type": "code",
   "execution_count": 48,
   "metadata": {},
   "outputs": [
    {
     "data": {
      "text/html": [
       "<div>\n",
       "<style scoped>\n",
       "    .dataframe tbody tr th:only-of-type {\n",
       "        vertical-align: middle;\n",
       "    }\n",
       "\n",
       "    .dataframe tbody tr th {\n",
       "        vertical-align: top;\n",
       "    }\n",
       "\n",
       "    .dataframe thead th {\n",
       "        text-align: right;\n",
       "    }\n",
       "</style>\n",
       "<table border=\"1\" class=\"dataframe\">\n",
       "  <thead>\n",
       "    <tr style=\"text-align: right;\">\n",
       "      <th></th>\n",
       "      <th>country</th>\n",
       "    </tr>\n",
       "  </thead>\n",
       "  <tbody>\n",
       "    <tr>\n",
       "      <th>0</th>\n",
       "      <td>Afghanistan</td>\n",
       "    </tr>\n",
       "    <tr>\n",
       "      <th>1</th>\n",
       "      <td>Albania</td>\n",
       "    </tr>\n",
       "  </tbody>\n",
       "</table>\n",
       "</div>"
      ],
      "text/plain": [
       "       country\n",
       "0  Afghanistan\n",
       "1      Albania"
      ]
     },
     "execution_count": 48,
     "metadata": {},
     "output_type": "execute_result"
    }
   ],
   "source": [
    "# get the countries in our main stats table\n",
    "query = \"\"\"\n",
    "    SELECT DISTINCT country\n",
    "      FROM stats\"\"\"\n",
    "\n",
    "df = qdb.output_query(query)\n",
    "df.head(2)"
   ]
  },
  {
   "cell_type": "code",
   "execution_count": 49,
   "metadata": {},
   "outputs": [
    {
     "data": {
      "text/html": [
       "<div>\n",
       "<style scoped>\n",
       "    .dataframe tbody tr th:only-of-type {\n",
       "        vertical-align: middle;\n",
       "    }\n",
       "\n",
       "    .dataframe tbody tr th {\n",
       "        vertical-align: top;\n",
       "    }\n",
       "\n",
       "    .dataframe thead th {\n",
       "        text-align: right;\n",
       "    }\n",
       "</style>\n",
       "<table border=\"1\" class=\"dataframe\">\n",
       "  <thead>\n",
       "    <tr style=\"text-align: right;\">\n",
       "      <th></th>\n",
       "      <th>ADMIN</th>\n",
       "      <th>CONTINENT</th>\n",
       "      <th>geometry</th>\n",
       "      <th>country</th>\n",
       "    </tr>\n",
       "  </thead>\n",
       "  <tbody>\n",
       "    <tr>\n",
       "      <th>0</th>\n",
       "      <td>Fiji</td>\n",
       "      <td>Oceania</td>\n",
       "      <td>MULTIPOLYGON (((180.00000 -16.06713, 180.00000...</td>\n",
       "      <td>Fiji</td>\n",
       "    </tr>\n",
       "    <tr>\n",
       "      <th>1</th>\n",
       "      <td>United Republic of Tanzania</td>\n",
       "      <td>Africa</td>\n",
       "      <td>POLYGON ((33.90371 -0.95000, 34.07262 -1.05982...</td>\n",
       "      <td>NaN</td>\n",
       "    </tr>\n",
       "  </tbody>\n",
       "</table>\n",
       "</div>"
      ],
      "text/plain": [
       "                         ADMIN CONTINENT  \\\n",
       "0                         Fiji   Oceania   \n",
       "1  United Republic of Tanzania    Africa   \n",
       "\n",
       "                                            geometry country  \n",
       "0  MULTIPOLYGON (((180.00000 -16.06713, 180.00000...    Fiji  \n",
       "1  POLYGON ((33.90371 -0.95000, 34.07262 -1.05982...     NaN  "
      ]
     },
     "execution_count": 49,
     "metadata": {},
     "output_type": "execute_result"
    }
   ],
   "source": [
    "# full join to get comparison\n",
    "merged = countries.merge(df, left_on = 'ADMIN', right_on = 'country', how = 'outer')\n",
    "merged.head(2)"
   ]
  },
  {
   "cell_type": "code",
   "execution_count": 50,
   "metadata": {},
   "outputs": [
    {
     "data": {
      "text/html": [
       "<div>\n",
       "<style scoped>\n",
       "    .dataframe tbody tr th:only-of-type {\n",
       "        vertical-align: middle;\n",
       "    }\n",
       "\n",
       "    .dataframe tbody tr th {\n",
       "        vertical-align: top;\n",
       "    }\n",
       "\n",
       "    .dataframe thead th {\n",
       "        text-align: right;\n",
       "    }\n",
       "</style>\n",
       "<table border=\"1\" class=\"dataframe\">\n",
       "  <thead>\n",
       "    <tr style=\"text-align: right;\">\n",
       "      <th></th>\n",
       "      <th>ADMIN</th>\n",
       "      <th>CONTINENT</th>\n",
       "      <th>geometry</th>\n",
       "      <th>country</th>\n",
       "    </tr>\n",
       "  </thead>\n",
       "  <tbody>\n",
       "    <tr>\n",
       "      <th>255</th>\n",
       "      <td>NaN</td>\n",
       "      <td>NaN</td>\n",
       "      <td>None</td>\n",
       "      <td>Bahamas</td>\n",
       "    </tr>\n",
       "    <tr>\n",
       "      <th>256</th>\n",
       "      <td>NaN</td>\n",
       "      <td>NaN</td>\n",
       "      <td>None</td>\n",
       "      <td>Congo</td>\n",
       "    </tr>\n",
       "    <tr>\n",
       "      <th>257</th>\n",
       "      <td>NaN</td>\n",
       "      <td>NaN</td>\n",
       "      <td>None</td>\n",
       "      <td>Czech Republic</td>\n",
       "    </tr>\n",
       "    <tr>\n",
       "      <th>258</th>\n",
       "      <td>NaN</td>\n",
       "      <td>NaN</td>\n",
       "      <td>None</td>\n",
       "      <td>DR Congo</td>\n",
       "    </tr>\n",
       "    <tr>\n",
       "      <th>259</th>\n",
       "      <td>NaN</td>\n",
       "      <td>NaN</td>\n",
       "      <td>None</td>\n",
       "      <td>Eswatini</td>\n",
       "    </tr>\n",
       "    <tr>\n",
       "      <th>260</th>\n",
       "      <td>NaN</td>\n",
       "      <td>NaN</td>\n",
       "      <td>None</td>\n",
       "      <td>Holy See</td>\n",
       "    </tr>\n",
       "    <tr>\n",
       "      <th>261</th>\n",
       "      <td>NaN</td>\n",
       "      <td>NaN</td>\n",
       "      <td>None</td>\n",
       "      <td>North Macedonia</td>\n",
       "    </tr>\n",
       "    <tr>\n",
       "      <th>262</th>\n",
       "      <td>NaN</td>\n",
       "      <td>NaN</td>\n",
       "      <td>None</td>\n",
       "      <td>Sao Tome and Principe</td>\n",
       "    </tr>\n",
       "    <tr>\n",
       "      <th>263</th>\n",
       "      <td>NaN</td>\n",
       "      <td>NaN</td>\n",
       "      <td>None</td>\n",
       "      <td>Serbia</td>\n",
       "    </tr>\n",
       "    <tr>\n",
       "      <th>264</th>\n",
       "      <td>NaN</td>\n",
       "      <td>NaN</td>\n",
       "      <td>None</td>\n",
       "      <td>State of Palestine</td>\n",
       "    </tr>\n",
       "    <tr>\n",
       "      <th>265</th>\n",
       "      <td>NaN</td>\n",
       "      <td>NaN</td>\n",
       "      <td>None</td>\n",
       "      <td>Tanzania</td>\n",
       "    </tr>\n",
       "    <tr>\n",
       "      <th>266</th>\n",
       "      <td>NaN</td>\n",
       "      <td>NaN</td>\n",
       "      <td>None</td>\n",
       "      <td>Timor-Leste</td>\n",
       "    </tr>\n",
       "    <tr>\n",
       "      <th>267</th>\n",
       "      <td>NaN</td>\n",
       "      <td>NaN</td>\n",
       "      <td>None</td>\n",
       "      <td>United States</td>\n",
       "    </tr>\n",
       "  </tbody>\n",
       "</table>\n",
       "</div>"
      ],
      "text/plain": [
       "    ADMIN CONTINENT geometry                country\n",
       "255   NaN       NaN     None                Bahamas\n",
       "256   NaN       NaN     None                  Congo\n",
       "257   NaN       NaN     None         Czech Republic\n",
       "258   NaN       NaN     None               DR Congo\n",
       "259   NaN       NaN     None               Eswatini\n",
       "260   NaN       NaN     None               Holy See\n",
       "261   NaN       NaN     None        North Macedonia\n",
       "262   NaN       NaN     None  Sao Tome and Principe\n",
       "263   NaN       NaN     None                 Serbia\n",
       "264   NaN       NaN     None     State of Palestine\n",
       "265   NaN       NaN     None               Tanzania\n",
       "266   NaN       NaN     None            Timor-Leste\n",
       "267   NaN       NaN     None          United States"
      ]
     },
     "execution_count": 50,
     "metadata": {},
     "output_type": "execute_result"
    }
   ],
   "source": [
    "# not in our shapefile\n",
    "merged[merged['ADMIN'].isnull()]"
   ]
  },
  {
   "cell_type": "code",
   "execution_count": 51,
   "metadata": {},
   "outputs": [
    {
     "data": {
      "text/html": [
       "<div>\n",
       "<style scoped>\n",
       "    .dataframe tbody tr th:only-of-type {\n",
       "        vertical-align: middle;\n",
       "    }\n",
       "\n",
       "    .dataframe tbody tr th {\n",
       "        vertical-align: top;\n",
       "    }\n",
       "\n",
       "    .dataframe thead th {\n",
       "        text-align: right;\n",
       "    }\n",
       "</style>\n",
       "<table border=\"1\" class=\"dataframe\">\n",
       "  <thead>\n",
       "    <tr style=\"text-align: right;\">\n",
       "      <th></th>\n",
       "      <th>ADMIN</th>\n",
       "      <th>CONTINENT</th>\n",
       "      <th>geometry</th>\n",
       "      <th>country</th>\n",
       "    </tr>\n",
       "  </thead>\n",
       "  <tbody>\n",
       "    <tr>\n",
       "      <th>1</th>\n",
       "      <td>United Republic of Tanzania</td>\n",
       "      <td>Africa</td>\n",
       "      <td>POLYGON ((33.90371 -0.95000, 34.07262 -1.05982...</td>\n",
       "      <td>NaN</td>\n",
       "    </tr>\n",
       "    <tr>\n",
       "      <th>4</th>\n",
       "      <td>United States of America</td>\n",
       "      <td>North America</td>\n",
       "      <td>MULTIPOLYGON (((-122.84000 49.00000, -120.0000...</td>\n",
       "      <td>NaN</td>\n",
       "    </tr>\n",
       "    <tr>\n",
       "      <th>11</th>\n",
       "      <td>Democratic Republic of the Congo</td>\n",
       "      <td>Africa</td>\n",
       "      <td>POLYGON ((29.34000 -4.49998, 29.51999 -5.41998...</td>\n",
       "      <td>NaN</td>\n",
       "    </tr>\n",
       "    <tr>\n",
       "      <th>19</th>\n",
       "      <td>The Bahamas</td>\n",
       "      <td>North America</td>\n",
       "      <td>MULTIPOLYGON (((-78.98000 26.79000, -78.51000 ...</td>\n",
       "      <td>NaN</td>\n",
       "    </tr>\n",
       "    <tr>\n",
       "      <th>20</th>\n",
       "      <td>Falkland Islands</td>\n",
       "      <td>South America</td>\n",
       "      <td>POLYGON ((-61.20000 -51.85000, -60.00000 -51.2...</td>\n",
       "      <td>NaN</td>\n",
       "    </tr>\n",
       "    <tr>\n",
       "      <th>...</th>\n",
       "      <td>...</td>\n",
       "      <td>...</td>\n",
       "      <td>...</td>\n",
       "      <td>...</td>\n",
       "    </tr>\n",
       "    <tr>\n",
       "      <th>250</th>\n",
       "      <td>Spratly Islands</td>\n",
       "      <td>Asia</td>\n",
       "      <td>MULTIPOLYGON (((115.36720 10.23749, 115.36598 ...</td>\n",
       "      <td>NaN</td>\n",
       "    </tr>\n",
       "    <tr>\n",
       "      <th>251</th>\n",
       "      <td>Clipperton Island</td>\n",
       "      <td>Seven seas (open ocean)</td>\n",
       "      <td>POLYGON ((-109.21203 10.30268, -109.21036 10.2...</td>\n",
       "      <td>NaN</td>\n",
       "    </tr>\n",
       "    <tr>\n",
       "      <th>252</th>\n",
       "      <td>Bajo Nuevo Bank (Petrel Is.)</td>\n",
       "      <td>North America</td>\n",
       "      <td>POLYGON ((-79.98929 15.79495, -79.98782 15.796...</td>\n",
       "      <td>NaN</td>\n",
       "    </tr>\n",
       "    <tr>\n",
       "      <th>253</th>\n",
       "      <td>Serranilla Bank</td>\n",
       "      <td>North America</td>\n",
       "      <td>POLYGON ((-78.63707 15.86209, -78.64041 15.864...</td>\n",
       "      <td>NaN</td>\n",
       "    </tr>\n",
       "    <tr>\n",
       "      <th>254</th>\n",
       "      <td>Scarborough Reef</td>\n",
       "      <td>Asia</td>\n",
       "      <td>POLYGON ((117.75389 15.15437, 117.75569 15.151...</td>\n",
       "      <td>NaN</td>\n",
       "    </tr>\n",
       "  </tbody>\n",
       "</table>\n",
       "<p>83 rows × 4 columns</p>\n",
       "</div>"
      ],
      "text/plain": [
       "                                ADMIN                CONTINENT  \\\n",
       "1         United Republic of Tanzania                   Africa   \n",
       "4            United States of America            North America   \n",
       "11   Democratic Republic of the Congo                   Africa   \n",
       "19                        The Bahamas            North America   \n",
       "20                   Falkland Islands            South America   \n",
       "..                                ...                      ...   \n",
       "250                   Spratly Islands                     Asia   \n",
       "251                 Clipperton Island  Seven seas (open ocean)   \n",
       "252      Bajo Nuevo Bank (Petrel Is.)            North America   \n",
       "253                   Serranilla Bank            North America   \n",
       "254                  Scarborough Reef                     Asia   \n",
       "\n",
       "                                              geometry country  \n",
       "1    POLYGON ((33.90371 -0.95000, 34.07262 -1.05982...     NaN  \n",
       "4    MULTIPOLYGON (((-122.84000 49.00000, -120.0000...     NaN  \n",
       "11   POLYGON ((29.34000 -4.49998, 29.51999 -5.41998...     NaN  \n",
       "19   MULTIPOLYGON (((-78.98000 26.79000, -78.51000 ...     NaN  \n",
       "20   POLYGON ((-61.20000 -51.85000, -60.00000 -51.2...     NaN  \n",
       "..                                                 ...     ...  \n",
       "250  MULTIPOLYGON (((115.36720 10.23749, 115.36598 ...     NaN  \n",
       "251  POLYGON ((-109.21203 10.30268, -109.21036 10.2...     NaN  \n",
       "252  POLYGON ((-79.98929 15.79495, -79.98782 15.796...     NaN  \n",
       "253  POLYGON ((-78.63707 15.86209, -78.64041 15.864...     NaN  \n",
       "254  POLYGON ((117.75389 15.15437, 117.75569 15.151...     NaN  \n",
       "\n",
       "[83 rows x 4 columns]"
      ]
     },
     "execution_count": 51,
     "metadata": {},
     "output_type": "execute_result"
    }
   ],
   "source": [
    "# not in our stats table - mostly remove\n",
    "merged[merged['country'].isnull()]"
   ]
  },
  {
   "cell_type": "markdown",
   "metadata": {},
   "source": [
    "## 3. Clean Data\n",
    "***\n",
    "Similar to the process when we merged our main Covid stats with population, we'll have to manually clean some country names. "
   ]
  },
  {
   "cell_type": "code",
   "execution_count": 52,
   "metadata": {},
   "outputs": [],
   "source": [
    "# dictionary to capture our translation [old to new]\n",
    "country_translation = {\n",
    "    'United Republic of Tanzania' : 'Tanzania',\n",
    "    'Republic of the Congo' : 'Congo',\n",
    "    'Democratic Republic of the Congo' : 'DR Congo',\n",
    "    'Palestine' : 'State of Palestine',\n",
    "    'eSwatini' : 'Eswatini',\n",
    "    'The Bahamas' : 'Bahamas',\n",
    "    'Czechia' : 'Czech Republic',\n",
    "    'Macedonia' : 'North Macedonia',\n",
    "    'São Tomé and Principe' : 'Sao Tome and Principe',\n",
    "    'Republic of Serbia' : 'Serbia',\n",
    "    'United States of America' : 'United States',\n",
    "    'East Timor' : 'Timor-Leste',\n",
    "    'Vatican' : 'Holy See'}\n",
    "\n",
    "# update\n",
    "countries['ADMIN'].replace(country_translation, inplace = True)\n",
    "countries.reset_index(drop=True, inplace=True)"
   ]
  },
  {
   "cell_type": "code",
   "execution_count": 53,
   "metadata": {},
   "outputs": [
    {
     "data": {
      "text/html": [
       "<div>\n",
       "<style scoped>\n",
       "    .dataframe tbody tr th:only-of-type {\n",
       "        vertical-align: middle;\n",
       "    }\n",
       "\n",
       "    .dataframe tbody tr th {\n",
       "        vertical-align: top;\n",
       "    }\n",
       "\n",
       "    .dataframe thead th {\n",
       "        text-align: right;\n",
       "    }\n",
       "</style>\n",
       "<table border=\"1\" class=\"dataframe\">\n",
       "  <thead>\n",
       "    <tr style=\"text-align: right;\">\n",
       "      <th></th>\n",
       "      <th>ADMIN</th>\n",
       "      <th>CONTINENT</th>\n",
       "      <th>geometry</th>\n",
       "      <th>country</th>\n",
       "    </tr>\n",
       "  </thead>\n",
       "  <tbody>\n",
       "  </tbody>\n",
       "</table>\n",
       "</div>"
      ],
      "text/plain": [
       "Empty GeoDataFrame\n",
       "Columns: [ADMIN, CONTINENT, geometry, country]\n",
       "Index: []"
      ]
     },
     "execution_count": 53,
     "metadata": {},
     "output_type": "execute_result"
    }
   ],
   "source": [
    "# check\n",
    "merged2 = countries.merge(df, left_on = 'ADMIN', right_on = 'country', how = 'outer')\n",
    "merged2[merged2['ADMIN'].isnull()]"
   ]
  },
  {
   "cell_type": "code",
   "execution_count": 54,
   "metadata": {},
   "outputs": [
    {
     "data": {
      "text/html": [
       "<div>\n",
       "<style scoped>\n",
       "    .dataframe tbody tr th:only-of-type {\n",
       "        vertical-align: middle;\n",
       "    }\n",
       "\n",
       "    .dataframe tbody tr th {\n",
       "        vertical-align: top;\n",
       "    }\n",
       "\n",
       "    .dataframe thead th {\n",
       "        text-align: right;\n",
       "    }\n",
       "</style>\n",
       "<table border=\"1\" class=\"dataframe\">\n",
       "  <thead>\n",
       "    <tr style=\"text-align: right;\">\n",
       "      <th></th>\n",
       "      <th>country</th>\n",
       "      <th>continent</th>\n",
       "      <th>geometry</th>\n",
       "    </tr>\n",
       "  </thead>\n",
       "  <tbody>\n",
       "    <tr>\n",
       "      <th>0</th>\n",
       "      <td>Fiji</td>\n",
       "      <td>Oceania</td>\n",
       "      <td>MULTIPOLYGON (((180.00000 -16.06713, 180.00000...</td>\n",
       "    </tr>\n",
       "    <tr>\n",
       "      <th>1</th>\n",
       "      <td>Tanzania</td>\n",
       "      <td>Africa</td>\n",
       "      <td>POLYGON ((33.90371 -0.95000, 34.07262 -1.05982...</td>\n",
       "    </tr>\n",
       "    <tr>\n",
       "      <th>2</th>\n",
       "      <td>Western Sahara</td>\n",
       "      <td>Africa</td>\n",
       "      <td>POLYGON ((-8.66559 27.65643, -8.66512 27.58948...</td>\n",
       "    </tr>\n",
       "    <tr>\n",
       "      <th>3</th>\n",
       "      <td>Canada</td>\n",
       "      <td>North America</td>\n",
       "      <td>MULTIPOLYGON (((-122.84000 49.00000, -122.9742...</td>\n",
       "    </tr>\n",
       "    <tr>\n",
       "      <th>4</th>\n",
       "      <td>United States</td>\n",
       "      <td>North America</td>\n",
       "      <td>MULTIPOLYGON (((-122.84000 49.00000, -120.0000...</td>\n",
       "    </tr>\n",
       "  </tbody>\n",
       "</table>\n",
       "</div>"
      ],
      "text/plain": [
       "          country      continent  \\\n",
       "0            Fiji        Oceania   \n",
       "1        Tanzania         Africa   \n",
       "2  Western Sahara         Africa   \n",
       "3          Canada  North America   \n",
       "4   United States  North America   \n",
       "\n",
       "                                            geometry  \n",
       "0  MULTIPOLYGON (((180.00000 -16.06713, 180.00000...  \n",
       "1  POLYGON ((33.90371 -0.95000, 34.07262 -1.05982...  \n",
       "2  POLYGON ((-8.66559 27.65643, -8.66512 27.58948...  \n",
       "3  MULTIPOLYGON (((-122.84000 49.00000, -122.9742...  \n",
       "4  MULTIPOLYGON (((-122.84000 49.00000, -120.0000...  "
      ]
     },
     "execution_count": 54,
     "metadata": {},
     "output_type": "execute_result"
    }
   ],
   "source": [
    "# rename columns\n",
    "countries.columns = ['country','continent','geometry']\n",
    "countries.head()"
   ]
  },
  {
   "cell_type": "markdown",
   "metadata": {},
   "source": [
    "## 4. Store Data\n",
    "***\n",
    "We're going to try to add the continent at least to the `populations` table. \n",
    "\n",
    "There are extensions to add geometry as well to a sqlite DB, however we deem this outside the scope of this assignment. We're storing this data as shapefile for later use."
   ]
  },
  {
   "cell_type": "markdown",
   "metadata": {},
   "source": [
    "#### 4.1 add continent to populations table"
   ]
  },
  {
   "cell_type": "code",
   "execution_count": 55,
   "metadata": {},
   "outputs": [],
   "source": [
    "# update table with new column\n",
    "query = \"\"\"\n",
    "    ALTER TABLE populations\n",
    "    ADD continent varchar\"\"\"\n",
    "\n",
    "qdb.admin_query(query)"
   ]
  },
  {
   "cell_type": "code",
   "execution_count": 56,
   "metadata": {},
   "outputs": [],
   "source": [
    "# insert into this column\n",
    "for i in range(len(countries)):\n",
    "    if countries['country'][i] in list(df.country):\n",
    "        query = \"\"\"\n",
    "            UPDATE populations\n",
    "            SET continent = '{}'\n",
    "            WHERE country = '{}'\n",
    "            \"\"\".format(countries['continent'][i], countries['country'][i])\n",
    "\n",
    "        qdb.admin_query(query)"
   ]
  },
  {
   "cell_type": "code",
   "execution_count": 57,
   "metadata": {},
   "outputs": [
    {
     "name": "stdout",
     "output_type": "stream",
     "text": [
      "Done.\n"
     ]
    },
    {
     "data": {
      "text/html": [
       "<table>\n",
       "    <tr>\n",
       "        <th>rank</th>\n",
       "        <th>country</th>\n",
       "        <th>population</th>\n",
       "        <th>yearly_change_pct</th>\n",
       "        <th>net_change</th>\n",
       "        <th>density</th>\n",
       "        <th>land_are</th>\n",
       "        <th>migrants</th>\n",
       "        <th>fert_rate</th>\n",
       "        <th>med_age</th>\n",
       "        <th>urban_pop_pct</th>\n",
       "        <th>world_share_pct</th>\n",
       "        <th>continent</th>\n",
       "    </tr>\n",
       "    <tr>\n",
       "        <td>1</td>\n",
       "        <td>China</td>\n",
       "        <td>1439323776</td>\n",
       "        <td>0.39</td>\n",
       "        <td>5540090</td>\n",
       "        <td>153</td>\n",
       "        <td>9388211</td>\n",
       "        <td>-348399</td>\n",
       "        <td>1.7</td>\n",
       "        <td>38</td>\n",
       "        <td>61</td>\n",
       "        <td>18.47</td>\n",
       "        <td>Asia</td>\n",
       "    </tr>\n",
       "    <tr>\n",
       "        <td>2</td>\n",
       "        <td>India</td>\n",
       "        <td>1380004385</td>\n",
       "        <td>0.99</td>\n",
       "        <td>13586631</td>\n",
       "        <td>464</td>\n",
       "        <td>2973190</td>\n",
       "        <td>-532687</td>\n",
       "        <td>2.2</td>\n",
       "        <td>28</td>\n",
       "        <td>35</td>\n",
       "        <td>17.7</td>\n",
       "        <td>Asia</td>\n",
       "    </tr>\n",
       "    <tr>\n",
       "        <td>3</td>\n",
       "        <td>United States</td>\n",
       "        <td>331002651</td>\n",
       "        <td>0.59</td>\n",
       "        <td>1937734</td>\n",
       "        <td>36</td>\n",
       "        <td>9147420</td>\n",
       "        <td>954806</td>\n",
       "        <td>1.8</td>\n",
       "        <td>38</td>\n",
       "        <td>83</td>\n",
       "        <td>4.25</td>\n",
       "        <td>North America</td>\n",
       "    </tr>\n",
       "    <tr>\n",
       "        <td>4</td>\n",
       "        <td>Indonesia</td>\n",
       "        <td>273523615</td>\n",
       "        <td>1.07</td>\n",
       "        <td>2898047</td>\n",
       "        <td>151</td>\n",
       "        <td>1811570</td>\n",
       "        <td>-98955</td>\n",
       "        <td>2.3</td>\n",
       "        <td>30</td>\n",
       "        <td>56</td>\n",
       "        <td>3.51</td>\n",
       "        <td>Asia</td>\n",
       "    </tr>\n",
       "    <tr>\n",
       "        <td>5</td>\n",
       "        <td>Pakistan</td>\n",
       "        <td>220892340</td>\n",
       "        <td>2</td>\n",
       "        <td>4327022</td>\n",
       "        <td>287</td>\n",
       "        <td>770880</td>\n",
       "        <td>-233379</td>\n",
       "        <td>3.6</td>\n",
       "        <td>23</td>\n",
       "        <td>35</td>\n",
       "        <td>2.83</td>\n",
       "        <td>Asia</td>\n",
       "    </tr>\n",
       "</table>"
      ],
      "text/plain": [
       "[(1, 'China', 1439323776, 0.39, 5540090, 153, 9388211, -348399, 1.7, 38, 61, 18.47, 'Asia'),\n",
       " (2, 'India', 1380004385, 0.99, 13586631, 464, 2973190, -532687, 2.2, 28, 35, 17.7, 'Asia'),\n",
       " (3, 'United States', 331002651, 0.59, 1937734, 36, 9147420, 954806, 1.8, 38, 83, 4.25, 'North America'),\n",
       " (4, 'Indonesia', 273523615, 1.07, 2898047, 151, 1811570, -98955, 2.3, 30, 56, 3.51, 'Asia'),\n",
       " (5, 'Pakistan', 220892340, 2, 4327022, 287, 770880, -233379, 3.6, 23, 35, 2.83, 'Asia')]"
      ]
     },
     "execution_count": 57,
     "metadata": {},
     "output_type": "execute_result"
    }
   ],
   "source": [
    "%%sql sqlite:///../../data/processed/covid_db.sqlite\n",
    "SELECT *\n",
    "  FROM populations\n",
    " LIMIT 5;"
   ]
  },
  {
   "cell_type": "markdown",
   "metadata": {},
   "source": [
    "#### 4.2 Store geometric data"
   ]
  },
  {
   "cell_type": "code",
   "execution_count": 58,
   "metadata": {},
   "outputs": [],
   "source": [
    "countries.to_file(\"../../data/processed/countries.shp\")"
   ]
  },
  {
   "cell_type": "markdown",
   "metadata": {},
   "source": [
    "## 5. Late fix\n",
    "***\n",
    "We found that some of our countries are mapped to the continent `Seven seas (open ocean)'"
   ]
  },
  {
   "cell_type": "markdown",
   "metadata": {},
   "source": [
    "#### 5.1 Issue: incorrect continent"
   ]
  },
  {
   "cell_type": "code",
   "execution_count": 59,
   "metadata": {},
   "outputs": [
    {
     "name": "stdout",
     "output_type": "stream",
     "text": [
      " * sqlite:///../../data/processed/covid_db.sqlite\n",
      "Done.\n"
     ]
    },
    {
     "data": {
      "text/html": [
       "<table>\n",
       "    <tr>\n",
       "        <th>continent</th>\n",
       "        <th>country</th>\n",
       "    </tr>\n",
       "    <tr>\n",
       "        <td>Seven seas (open ocean)</td>\n",
       "        <td>Mauritius</td>\n",
       "    </tr>\n",
       "    <tr>\n",
       "        <td>Seven seas (open ocean)</td>\n",
       "        <td>Maldives</td>\n",
       "    </tr>\n",
       "    <tr>\n",
       "        <td>Seven seas (open ocean)</td>\n",
       "        <td>Seychelles</td>\n",
       "    </tr>\n",
       "</table>"
      ],
      "text/plain": [
       "[('Seven seas (open ocean)', 'Mauritius'),\n",
       " ('Seven seas (open ocean)', 'Maldives'),\n",
       " ('Seven seas (open ocean)', 'Seychelles')]"
      ]
     },
     "execution_count": 59,
     "metadata": {},
     "output_type": "execute_result"
    }
   ],
   "source": [
    "%%sql\n",
    "SELECT DISTINCT\n",
    "    continent, country\n",
    "FROM populations\n",
    "WHERE continent = 'Seven seas (open ocean)'\n",
    "LIMIT 5;"
   ]
  },
  {
   "cell_type": "markdown",
   "metadata": {},
   "source": [
    "#### 5.2 fix"
   ]
  },
  {
   "cell_type": "code",
   "execution_count": 60,
   "metadata": {},
   "outputs": [],
   "source": [
    "# country + correct continent\n",
    "map_continent = {'Seychelles' : 'Africa',\n",
    "                 'Mauritius' : 'Africa',\n",
    "                 'Maldives' : 'Asia'}\n",
    "\n",
    "for key in list(map_continent.keys()):\n",
    "    query = \"\"\"\n",
    "            UPDATE populations\n",
    "            SET continent = '{}'\n",
    "            WHERE country = '{}'\n",
    "            \"\"\".format(map_continent[key], key)\n",
    "    #print(query)\n",
    "    qdb.admin_query(query)"
   ]
  },
  {
   "cell_type": "markdown",
   "metadata": {},
   "source": [
    "#### 5.3 check"
   ]
  },
  {
   "cell_type": "code",
   "execution_count": 61,
   "metadata": {},
   "outputs": [
    {
     "name": "stdout",
     "output_type": "stream",
     "text": [
      " * sqlite:///../../data/processed/covid_db.sqlite\n",
      "Done.\n"
     ]
    },
    {
     "data": {
      "text/html": [
       "<table>\n",
       "    <tr>\n",
       "        <th>continent</th>\n",
       "        <th>country</th>\n",
       "    </tr>\n",
       "</table>"
      ],
      "text/plain": [
       "[]"
      ]
     },
     "execution_count": 61,
     "metadata": {},
     "output_type": "execute_result"
    }
   ],
   "source": [
    "%%sql\n",
    "SELECT DISTINCT\n",
    "    continent, country\n",
    "FROM populations\n",
    "WHERE continent = 'Seven seas (open ocean)'\n",
    "LIMIT 5;"
   ]
  },
  {
   "cell_type": "code",
   "execution_count": 62,
   "metadata": {},
   "outputs": [
    {
     "name": "stdout",
     "output_type": "stream",
     "text": [
      " * sqlite:///../../data/processed/covid_db.sqlite\n",
      "Done.\n"
     ]
    },
    {
     "data": {
      "text/html": [
       "<table>\n",
       "    <tr>\n",
       "        <th>continent</th>\n",
       "    </tr>\n",
       "    <tr>\n",
       "        <td>Asia</td>\n",
       "    </tr>\n",
       "    <tr>\n",
       "        <td>North America</td>\n",
       "    </tr>\n",
       "    <tr>\n",
       "        <td>South America</td>\n",
       "    </tr>\n",
       "    <tr>\n",
       "        <td>Africa</td>\n",
       "    </tr>\n",
       "    <tr>\n",
       "        <td>Europe</td>\n",
       "    </tr>\n",
       "    <tr>\n",
       "        <td>Oceania</td>\n",
       "    </tr>\n",
       "</table>"
      ],
      "text/plain": [
       "[('Asia',),\n",
       " ('North America',),\n",
       " ('South America',),\n",
       " ('Africa',),\n",
       " ('Europe',),\n",
       " ('Oceania',)]"
      ]
     },
     "execution_count": 62,
     "metadata": {},
     "output_type": "execute_result"
    }
   ],
   "source": [
    "%%sql\n",
    "SELECT DISTINCT continent\n",
    "  FROM populations\n",
    "       JOIN stats \n",
    "         ON stats.country = populations.country;"
   ]
  },
  {
   "cell_type": "code",
   "execution_count": null,
   "metadata": {},
   "outputs": [],
   "source": []
  },
  {
   "cell_type": "code",
   "execution_count": null,
   "metadata": {},
   "outputs": [],
   "source": []
  },
  {
   "cell_type": "code",
   "execution_count": null,
   "metadata": {},
   "outputs": [],
   "source": []
  }
 ],
 "metadata": {
  "kernelspec": {
   "display_name": "Python 3",
   "language": "python",
   "name": "python3"
  },
  "language_info": {
   "codemirror_mode": {
    "name": "ipython",
    "version": 3
   },
   "file_extension": ".py",
   "mimetype": "text/x-python",
   "name": "python",
   "nbconvert_exporter": "python",
   "pygments_lexer": "ipython3",
   "version": "3.7.3"
  }
 },
 "nbformat": 4,
 "nbformat_minor": 4
}
