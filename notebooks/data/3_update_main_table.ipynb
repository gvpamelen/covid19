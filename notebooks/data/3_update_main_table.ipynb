{
 "cells": [
  {
   "cell_type": "markdown",
   "metadata": {},
   "source": [
    "# Daily update `stats` table\n",
    "***\n",
    "John Hopkins update the source datafiles every night with the day's new cases. Our goal is to ensure that when the dashboard is started, we update our datasets to reflect the latest data, which means we append$^{\\dagger}$ new days to our tables.\n",
    "\n",
    "$^{\\dagger}$ *this assumes no updates are made to historic data. If at any point we feel or observe this assumption is failed, we can 'reset' the entire DB using the `main_data_wrangling` notebook used to create the DB* "
   ]
  },
  {
   "cell_type": "code",
   "execution_count": 74,
   "metadata": {},
   "outputs": [
    {
     "name": "stdout",
     "output_type": "stream",
     "text": [
      "sqlite:///../../data/processed/covid_db.sqlite\n",
      "sqlite:///../../data/processed/covid_db.sqlite\n",
      "The sql extension is already loaded. To reload it, use:\n",
      "  %reload_ext sql\n",
      "The autoreload extension is already loaded. To reload it, use:\n",
      "  %reload_ext autoreload\n"
     ]
    }
   ],
   "source": [
    "import numpy as np\n",
    "import pandas as pd\n",
    "\n",
    "import ssl\n",
    "ssl._create_default_https_context = ssl._create_unverified_context\n",
    "\n",
    "from src.data.process_data import cleanMainDataset, update_db\n",
    "from src.data.quick_queries import queryDB\n",
    "qdb = queryDB('sqlite','../../data/processed/covid_db.sqlite')\n",
    "%load_ext sql\n",
    "\n",
    "%load_ext autoreload\n",
    "%autoreload 2"
   ]
  },
  {
   "cell_type": "markdown",
   "metadata": {},
   "source": [
    "## 1. Get Data\n",
    "***\n",
    "Same as done to create the table, however we need to check what data is new (i.e. what is the last day currently in our db)."
   ]
  },
  {
   "cell_type": "markdown",
   "metadata": {},
   "source": [
    "#### 1.1. Download data\n",
    "***"
   ]
  },
  {
   "cell_type": "code",
   "execution_count": 62,
   "metadata": {},
   "outputs": [],
   "source": [
    "def download_data():\n",
    "    # base url to download csv data from github\n",
    "    base_url = 'https://raw.githubusercontent.com/CSSEGISandData/COVID-19/master/csse_covid_19_data/csse_covid_19_time_series/'\n",
    "\n",
    "    # file-specific url\n",
    "    files = {\n",
    "        'global_confirmed' : 'time_series_covid19_confirmed_global.csv',\n",
    "        'global_deaths' : 'time_series_covid19_deaths_global.csv',\n",
    "        'global_recovered' : 'time_series_covid19_recovered_global.csv'\n",
    "    }\n",
    "    \n",
    "    for metric in files.keys():\n",
    "        # get the column name for the downloaded set\n",
    "        col_name = metric.split('_')[-1]\n",
    "        df_tmp = pd.read_csv(base_url + files[metric])\n",
    "        \n",
    "        # create output table\n",
    "        if metric == list(files.keys())[0]:\n",
    "            df = cleanMainDataset(df_tmp, col_name)\n",
    "        else:\n",
    "            df = df.merge(cleanMainDataset(df_tmp, col_name), on = ['country','date'])\n",
    "        \n",
    "    return df\n",
    "        \n",
    "new_df = download_data()"
   ]
  },
  {
   "cell_type": "markdown",
   "metadata": {},
   "source": [
    "#### 1.2 Last update current data\n",
    "***"
   ]
  },
  {
   "cell_type": "code",
   "execution_count": 40,
   "metadata": {},
   "outputs": [
    {
     "data": {
      "text/plain": [
       "'2020-07-03'"
      ]
     },
     "execution_count": 40,
     "metadata": {},
     "output_type": "execute_result"
    }
   ],
   "source": [
    "# last date in stats table\n",
    "last_date = qdb.output_query(\"SELECT MAX(date) FROM stats\").iloc[0][0]\n",
    "last_date"
   ]
  },
  {
   "cell_type": "markdown",
   "metadata": {},
   "source": [
    "## 2. Update table with new data\n",
    "***"
   ]
  },
  {
   "cell_type": "markdown",
   "metadata": {},
   "source": [
    "#### 2.1 new data to upsert into table"
   ]
  },
  {
   "cell_type": "code",
   "execution_count": 44,
   "metadata": {},
   "outputs": [
    {
     "data": {
      "text/html": [
       "<div>\n",
       "<style scoped>\n",
       "    .dataframe tbody tr th:only-of-type {\n",
       "        vertical-align: middle;\n",
       "    }\n",
       "\n",
       "    .dataframe tbody tr th {\n",
       "        vertical-align: top;\n",
       "    }\n",
       "\n",
       "    .dataframe thead th {\n",
       "        text-align: right;\n",
       "    }\n",
       "</style>\n",
       "<table border=\"1\" class=\"dataframe\">\n",
       "  <thead>\n",
       "    <tr style=\"text-align: right;\">\n",
       "      <th></th>\n",
       "      <th>date</th>\n",
       "    </tr>\n",
       "  </thead>\n",
       "  <tbody>\n",
       "    <tr>\n",
       "      <th>min</th>\n",
       "      <td>2020-07-04</td>\n",
       "    </tr>\n",
       "    <tr>\n",
       "      <th>max</th>\n",
       "      <td>2020-07-05</td>\n",
       "    </tr>\n",
       "  </tbody>\n",
       "</table>\n",
       "</div>"
      ],
      "text/plain": [
       "           date\n",
       "min  2020-07-04\n",
       "max  2020-07-05"
      ]
     },
     "execution_count": 44,
     "metadata": {},
     "output_type": "execute_result"
    }
   ],
   "source": [
    "# restrict our new dataset\n",
    "update_df = new_df[new_df['date'] > last_date]\n",
    "update_df.agg({'date':['min','max']})"
   ]
  },
  {
   "cell_type": "markdown",
   "metadata": {},
   "source": [
    "#### 2.2 update table\n",
    "We can safely add data, since we have put a contraint that country+date serves as Primary Key, hence duplicate data would throw an error."
   ]
  },
  {
   "cell_type": "code",
   "execution_count": 46,
   "metadata": {},
   "outputs": [],
   "source": [
    "update_df.to_sql('stats', con = qdb.engine, if_exists = 'append', index=False, chunksize = 1000)"
   ]
  },
  {
   "cell_type": "code",
   "execution_count": 58,
   "metadata": {},
   "outputs": [],
   "source": [
    "query = \"\"\"\n",
    "    SELECT date,\n",
    "           COUNT(*) AS countries\n",
    "      FROM stats\n",
    "     GROUP BY date\n",
    "     ORDER BY date DESC\n",
    "     LIMIT 5;\n",
    "    \"\"\"\n",
    "last_day_check = qdb.output_query(query)\n",
    "assert last_day_check['countries'].to_list() == [185, 185, 185, 185, 185]"
   ]
  },
  {
   "cell_type": "markdown",
   "metadata": {},
   "source": [
    "## 3. Single function\n",
    "***\n",
    "The process above is compressed in a single function, which can be called upon each start of the dashboard."
   ]
  },
  {
   "cell_type": "code",
   "execution_count": 77,
   "metadata": {},
   "outputs": [
    {
     "name": "stdout",
     "output_type": "stream",
     "text": [
      "sqlite:///../../data/processed/covid_db.sqlite\n",
      "COVID data up-to-date till 2020-07-06\n"
     ]
    }
   ],
   "source": [
    "update_db()"
   ]
  },
  {
   "cell_type": "code",
   "execution_count": 79,
   "metadata": {},
   "outputs": [
    {
     "name": "stdout",
     "output_type": "stream",
     "text": [
      "Done.\n"
     ]
    },
    {
     "data": {
      "text/html": [
       "<table>\n",
       "    <tr>\n",
       "        <th>date</th>\n",
       "        <th>countries</th>\n",
       "    </tr>\n",
       "    <tr>\n",
       "        <td>2020-07-06</td>\n",
       "        <td>185</td>\n",
       "    </tr>\n",
       "    <tr>\n",
       "        <td>2020-07-05</td>\n",
       "        <td>185</td>\n",
       "    </tr>\n",
       "    <tr>\n",
       "        <td>2020-07-04</td>\n",
       "        <td>185</td>\n",
       "    </tr>\n",
       "    <tr>\n",
       "        <td>2020-07-03</td>\n",
       "        <td>185</td>\n",
       "    </tr>\n",
       "    <tr>\n",
       "        <td>2020-07-02</td>\n",
       "        <td>185</td>\n",
       "    </tr>\n",
       "</table>"
      ],
      "text/plain": [
       "[('2020-07-06', 185),\n",
       " ('2020-07-05', 185),\n",
       " ('2020-07-04', 185),\n",
       " ('2020-07-03', 185),\n",
       " ('2020-07-02', 185)]"
      ]
     },
     "execution_count": 79,
     "metadata": {},
     "output_type": "execute_result"
    }
   ],
   "source": [
    "%%sql sqlite:///../../data/processed/covid_db.sqlite\n",
    "SELECT date,\n",
    "       COUNT(*) AS countries\n",
    "  FROM stats\n",
    " GROUP BY date\n",
    " ORDER BY date DESC\n",
    " LIMIT 5;"
   ]
  },
  {
   "cell_type": "code",
   "execution_count": null,
   "metadata": {},
   "outputs": [],
   "source": []
  }
 ],
 "metadata": {
  "kernelspec": {
   "display_name": "Python 3",
   "language": "python",
   "name": "python3"
  },
  "language_info": {
   "codemirror_mode": {
    "name": "ipython",
    "version": 3
   },
   "file_extension": ".py",
   "mimetype": "text/x-python",
   "name": "python",
   "nbconvert_exporter": "python",
   "pygments_lexer": "ipython3",
   "version": "3.7.3"
  }
 },
 "nbformat": 4,
 "nbformat_minor": 4
}
