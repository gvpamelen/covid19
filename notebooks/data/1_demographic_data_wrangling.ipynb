{
 "cells": [
  {
   "cell_type": "markdown",
   "metadata": {},
   "source": [
    "# Demographic data\n",
    "***\n",
    "Objective: get background on the countries, including at least a country's population (to scale Covid cases)."
   ]
  },
  {
   "cell_type": "code",
   "execution_count": 68,
   "metadata": {},
   "outputs": [
    {
     "name": "stdout",
     "output_type": "stream",
     "text": [
      "The sql extension is already loaded. To reload it, use:\n",
      "  %reload_ext sql\n",
      "sqlite:///../../data/processed/covid_db.sqlite\n",
      "The autoreload extension is already loaded. To reload it, use:\n",
      "  %reload_ext autoreload\n"
     ]
    }
   ],
   "source": [
    "import numpy as np\n",
    "import pandas as pd\n",
    "\n",
    "from sqlalchemy import create_engine\n",
    "%load_ext sql\n",
    "\n",
    "from src.data.quick_queries import queryDB\n",
    "qdb = queryDB('sqlite','../../data/processed/covid_db.sqlite')\n",
    "\n",
    "\n",
    "%load_ext autoreload\n",
    "%autoreload 2"
   ]
  },
  {
   "cell_type": "markdown",
   "metadata": {},
   "source": [
    "# 1. Gather Data\n",
    "***\n",
    "Population data for 2020, and other demographic data can be found here: https://www.worldometers.info/world-population/population-by-country/\n",
    "\n",
    "Whilst we mostly want the population data, we would include the other parameters as well whilst we have them for potential use in EDA."
   ]
  },
  {
   "cell_type": "markdown",
   "metadata": {},
   "source": [
    "#### 1.1. Download files & load data\n",
    "***\n",
    "Data is manually copied and stored in `data/raw/global_pop.csv`"
   ]
  },
  {
   "cell_type": "code",
   "execution_count": 4,
   "metadata": {},
   "outputs": [
    {
     "data": {
      "text/html": [
       "<div>\n",
       "<style scoped>\n",
       "    .dataframe tbody tr th:only-of-type {\n",
       "        vertical-align: middle;\n",
       "    }\n",
       "\n",
       "    .dataframe tbody tr th {\n",
       "        vertical-align: top;\n",
       "    }\n",
       "\n",
       "    .dataframe thead th {\n",
       "        text-align: right;\n",
       "    }\n",
       "</style>\n",
       "<table border=\"1\" class=\"dataframe\">\n",
       "  <thead>\n",
       "    <tr style=\"text-align: right;\">\n",
       "      <th></th>\n",
       "      <th>rank</th>\n",
       "      <th>country</th>\n",
       "      <th>populations</th>\n",
       "      <th>yearly_change</th>\n",
       "      <th>net_change</th>\n",
       "      <th>density</th>\n",
       "      <th>land_area</th>\n",
       "      <th>migrants</th>\n",
       "      <th>fert_rate</th>\n",
       "      <th>med_age</th>\n",
       "      <th>urban_pop_pct</th>\n",
       "      <th>world_share_pct</th>\n",
       "    </tr>\n",
       "  </thead>\n",
       "  <tbody>\n",
       "    <tr>\n",
       "      <th>0</th>\n",
       "      <td>1</td>\n",
       "      <td>China</td>\n",
       "      <td>1,439,323,776</td>\n",
       "      <td>0.39%</td>\n",
       "      <td>5,540,090</td>\n",
       "      <td>153</td>\n",
       "      <td>9,388,211</td>\n",
       "      <td>-348,399</td>\n",
       "      <td>1.7</td>\n",
       "      <td>38</td>\n",
       "      <td>61%</td>\n",
       "      <td>18.47%</td>\n",
       "    </tr>\n",
       "    <tr>\n",
       "      <th>1</th>\n",
       "      <td>2</td>\n",
       "      <td>India</td>\n",
       "      <td>1,380,004,385</td>\n",
       "      <td>0.99%</td>\n",
       "      <td>13,586,631</td>\n",
       "      <td>464</td>\n",
       "      <td>2,973,190</td>\n",
       "      <td>-532,687</td>\n",
       "      <td>2.2</td>\n",
       "      <td>28</td>\n",
       "      <td>35%</td>\n",
       "      <td>17.70%</td>\n",
       "    </tr>\n",
       "    <tr>\n",
       "      <th>2</th>\n",
       "      <td>3</td>\n",
       "      <td>United States</td>\n",
       "      <td>331,002,651</td>\n",
       "      <td>0.59%</td>\n",
       "      <td>1,937,734</td>\n",
       "      <td>36</td>\n",
       "      <td>9,147,420</td>\n",
       "      <td>954,806</td>\n",
       "      <td>1.8</td>\n",
       "      <td>38</td>\n",
       "      <td>83%</td>\n",
       "      <td>4.25%</td>\n",
       "    </tr>\n",
       "    <tr>\n",
       "      <th>3</th>\n",
       "      <td>4</td>\n",
       "      <td>Indonesia</td>\n",
       "      <td>273,523,615</td>\n",
       "      <td>1.07%</td>\n",
       "      <td>2,898,047</td>\n",
       "      <td>151</td>\n",
       "      <td>1,811,570</td>\n",
       "      <td>-98,955</td>\n",
       "      <td>2.3</td>\n",
       "      <td>30</td>\n",
       "      <td>56%</td>\n",
       "      <td>3.51%</td>\n",
       "    </tr>\n",
       "    <tr>\n",
       "      <th>4</th>\n",
       "      <td>5</td>\n",
       "      <td>Pakistan</td>\n",
       "      <td>220,892,340</td>\n",
       "      <td>2.00%</td>\n",
       "      <td>4,327,022</td>\n",
       "      <td>287</td>\n",
       "      <td>770,880</td>\n",
       "      <td>-233,379</td>\n",
       "      <td>3.6</td>\n",
       "      <td>23</td>\n",
       "      <td>35%</td>\n",
       "      <td>2.83%</td>\n",
       "    </tr>\n",
       "  </tbody>\n",
       "</table>\n",
       "</div>"
      ],
      "text/plain": [
       "   rank        country    populations yearly_change  net_change density  \\\n",
       "0     1          China  1,439,323,776         0.39%   5,540,090     153   \n",
       "1     2          India  1,380,004,385         0.99%  13,586,631     464   \n",
       "2     3  United States    331,002,651         0.59%   1,937,734      36   \n",
       "3     4      Indonesia    273,523,615         1.07%   2,898,047     151   \n",
       "4     5       Pakistan    220,892,340         2.00%   4,327,022     287   \n",
       "\n",
       "   land_area  migrants fert_rate med_age urban_pop_pct world_share_pct  \n",
       "0  9,388,211  -348,399       1.7      38           61%          18.47%  \n",
       "1  2,973,190  -532,687       2.2      28           35%          17.70%  \n",
       "2  9,147,420   954,806       1.8      38           83%           4.25%  \n",
       "3  1,811,570   -98,955       2.3      30           56%           3.51%  \n",
       "4    770,880  -233,379       3.6      23           35%           2.83%  "
      ]
     },
     "execution_count": 4,
     "metadata": {},
     "output_type": "execute_result"
    }
   ],
   "source": [
    "df = pd.read_csv('../../data/raw/global_pop.csv')\n",
    "df.head()"
   ]
  },
  {
   "cell_type": "markdown",
   "metadata": {},
   "source": [
    "#### 1.2 Store the (raw) data in our SQL DB\n",
    "***\n",
    "For illustrative purposes, we will clean this data in SQL."
   ]
  },
  {
   "cell_type": "code",
   "execution_count": 7,
   "metadata": {},
   "outputs": [
    {
     "data": {
      "text/plain": [
       "'sqlite:///../../data/processed/covid_db.sqlite'"
      ]
     },
     "execution_count": 7,
     "metadata": {},
     "output_type": "execute_result"
    }
   ],
   "source": [
    "# database parameters\n",
    "driver = 'sqlite'\n",
    "filename = '../../data/processed/covid_db.sqlite'\n",
    "driver+\":///\"+filename"
   ]
  },
  {
   "cell_type": "code",
   "execution_count": 8,
   "metadata": {},
   "outputs": [],
   "source": [
    "# make the connection\n",
    "engine = create_engine(driver+\":///\"+filename)\n",
    "connection = engine.connect()"
   ]
  },
  {
   "cell_type": "code",
   "execution_count": 9,
   "metadata": {},
   "outputs": [],
   "source": [
    "%sql sqlite:///../../data/processed/covid_db.sqlite"
   ]
  },
  {
   "cell_type": "code",
   "execution_count": 10,
   "metadata": {},
   "outputs": [
    {
     "name": "stdout",
     "output_type": "stream",
     "text": [
      " * sqlite:///../../data/processed/covid_db.sqlite\n",
      "Done.\n",
      "Done.\n"
     ]
    },
    {
     "data": {
      "text/plain": [
       "[]"
      ]
     },
     "execution_count": 10,
     "metadata": {},
     "output_type": "execute_result"
    }
   ],
   "source": [
    "%%sql\n",
    "/*\n",
    "create the table to store our raw population data\n",
    "most numbers are formatted and stored as varchar\n",
    "ignore length of varchar as this raw table will be dropped at end\n",
    "*/\n",
    "\n",
    "DROP TABLE IF EXISTS population_raw;\n",
    "\n",
    "CREATE TABLE population_raw (\n",
    "    rank int,\n",
    "    country varchar,\n",
    "    populations varchar,\n",
    "    yearly_change varchar,\n",
    "    net_change varchar,\n",
    "    density int,\n",
    "    land_area varchar,\n",
    "    migrants varchar,\n",
    "    fert_rate numeric,\n",
    "    med_age int,\n",
    "    urban_pop_pct varchar,\n",
    "    world_share_pct varchar,\n",
    "    PRIMARY KEY (rank, country));"
   ]
  },
  {
   "cell_type": "code",
   "execution_count": 11,
   "metadata": {},
   "outputs": [],
   "source": [
    "# upload df to our table\n",
    "df.to_sql('population_raw', con = engine, if_exists = 'append', index=False, chunksize = 1000)"
   ]
  },
  {
   "cell_type": "markdown",
   "metadata": {},
   "source": [
    "## 2. Assess the Data\n",
    "***\n",
    "We need to re-format this data on it's own and ensure we can join this to the `stats` table on `country`."
   ]
  },
  {
   "cell_type": "markdown",
   "metadata": {},
   "source": [
    "#### 2.1 Assess Data"
   ]
  },
  {
   "cell_type": "code",
   "execution_count": 24,
   "metadata": {},
   "outputs": [
    {
     "name": "stdout",
     "output_type": "stream",
     "text": [
      " * sqlite:///../../data/processed/covid_db.sqlite\n",
      "Done.\n"
     ]
    },
    {
     "data": {
      "text/html": [
       "<table>\n",
       "    <tr>\n",
       "        <th>rank</th>\n",
       "        <th>country</th>\n",
       "        <th>populations</th>\n",
       "        <th>yearly_change</th>\n",
       "        <th>net_change</th>\n",
       "        <th>density</th>\n",
       "        <th>land_area</th>\n",
       "        <th>migrants</th>\n",
       "        <th>fert_rate</th>\n",
       "        <th>med_age</th>\n",
       "        <th>urban_pop_pct</th>\n",
       "        <th>world_share_pct</th>\n",
       "    </tr>\n",
       "    <tr>\n",
       "        <td>1</td>\n",
       "        <td>China</td>\n",
       "        <td>1,439,323,776</td>\n",
       "        <td>0.39%</td>\n",
       "        <td>5,540,090</td>\n",
       "        <td>153</td>\n",
       "        <td>9,388,211</td>\n",
       "        <td>-348,399</td>\n",
       "        <td>1.7</td>\n",
       "        <td>38</td>\n",
       "        <td>61%</td>\n",
       "        <td>18.47%</td>\n",
       "    </tr>\n",
       "    <tr>\n",
       "        <td>2</td>\n",
       "        <td>India</td>\n",
       "        <td>1,380,004,385</td>\n",
       "        <td>0.99%</td>\n",
       "        <td>13,586,631</td>\n",
       "        <td>464</td>\n",
       "        <td>2,973,190</td>\n",
       "        <td>-532,687</td>\n",
       "        <td>2.2</td>\n",
       "        <td>28</td>\n",
       "        <td>35%</td>\n",
       "        <td>17.70%</td>\n",
       "    </tr>\n",
       "    <tr>\n",
       "        <td>3</td>\n",
       "        <td>United States</td>\n",
       "        <td>331,002,651</td>\n",
       "        <td>0.59%</td>\n",
       "        <td>1,937,734</td>\n",
       "        <td>36</td>\n",
       "        <td>9,147,420</td>\n",
       "        <td>954,806</td>\n",
       "        <td>1.8</td>\n",
       "        <td>38</td>\n",
       "        <td>83%</td>\n",
       "        <td>4.25%</td>\n",
       "    </tr>\n",
       "    <tr>\n",
       "        <td>4</td>\n",
       "        <td>Indonesia</td>\n",
       "        <td>273,523,615</td>\n",
       "        <td>1.07%</td>\n",
       "        <td>2,898,047</td>\n",
       "        <td>151</td>\n",
       "        <td>1,811,570</td>\n",
       "        <td>-98,955</td>\n",
       "        <td>2.3</td>\n",
       "        <td>30</td>\n",
       "        <td>56%</td>\n",
       "        <td>3.51%</td>\n",
       "    </tr>\n",
       "    <tr>\n",
       "        <td>5</td>\n",
       "        <td>Pakistan</td>\n",
       "        <td>220,892,340</td>\n",
       "        <td>2.00%</td>\n",
       "        <td>4,327,022</td>\n",
       "        <td>287</td>\n",
       "        <td>770,880</td>\n",
       "        <td>-233,379</td>\n",
       "        <td>3.6</td>\n",
       "        <td>23</td>\n",
       "        <td>35%</td>\n",
       "        <td>2.83%</td>\n",
       "    </tr>\n",
       "</table>"
      ],
      "text/plain": [
       "[(1, 'China', '1,439,323,776', '0.39%', '5,540,090', 153, '9,388,211', '-348,399', 1.7, 38, '61%', '18.47%'),\n",
       " (2, 'India', '1,380,004,385', '0.99%', '13,586,631', 464, '2,973,190', '-532,687', 2.2, 28, '35%', '17.70%'),\n",
       " (3, 'United States', '331,002,651', '0.59%', '1,937,734', 36, '9,147,420', '954,806', 1.8, 38, '83%', '4.25%'),\n",
       " (4, 'Indonesia', '273,523,615', '1.07%', '2,898,047', 151, '1,811,570', '-98,955', 2.3, 30, '56%', '3.51%'),\n",
       " (5, 'Pakistan', '220,892,340', '2.00%', '4,327,022', 287, '770,880', '-233,379', 3.6, 23, '35%', '2.83%')]"
      ]
     },
     "execution_count": 24,
     "metadata": {},
     "output_type": "execute_result"
    }
   ],
   "source": [
    "%%sql\n",
    "/*first rows*/\n",
    "\n",
    "SELECT *\n",
    "  FROM population_raw\n",
    " LIMIT 5;"
   ]
  },
  {
   "cell_type": "markdown",
   "metadata": {},
   "source": [
    "#### 2.2 Assess joining keys\n",
    "***\n",
    "Note: no FULL joins in SQLite"
   ]
  },
  {
   "cell_type": "code",
   "execution_count": 64,
   "metadata": {},
   "outputs": [
    {
     "name": "stdout",
     "output_type": "stream",
     "text": [
      " * sqlite:///../../data/processed/covid_db.sqlite\n",
      "Done.\n"
     ]
    },
    {
     "data": {
      "text/html": [
       "<table>\n",
       "    <tr>\n",
       "        <th>not_in_population_raw</th>\n",
       "    </tr>\n",
       "    <tr>\n",
       "        <td>Czech Republic</td>\n",
       "    </tr>\n",
       "    <tr>\n",
       "        <td>Ivory Coast</td>\n",
       "    </tr>\n",
       "    <tr>\n",
       "        <td>Saint Kitts and Nevis</td>\n",
       "    </tr>\n",
       "    <tr>\n",
       "        <td>Saint Vincent and the Grenadines</td>\n",
       "    </tr>\n",
       "    <tr>\n",
       "        <td>Sao Tome and Principe</td>\n",
       "    </tr>\n",
       "</table>"
      ],
      "text/plain": [
       "[('Czech Republic',),\n",
       " ('Ivory Coast',),\n",
       " ('Saint Kitts and Nevis',),\n",
       " ('Saint Vincent and the Grenadines',),\n",
       " ('Sao Tome and Principe',)]"
      ]
     },
     "execution_count": 64,
     "metadata": {},
     "output_type": "execute_result"
    }
   ],
   "source": [
    "%%sql\n",
    "SELECT DISTINCT stats.country AS not_in_population_raw\n",
    "  FROM stats \n",
    "       LEFT JOIN population_raw\n",
    "         ON population_raw.country = stats.country\n",
    " WHERE population_raw.country IS NULL"
   ]
  },
  {
   "cell_type": "code",
   "execution_count": 65,
   "metadata": {},
   "outputs": [
    {
     "name": "stdout",
     "output_type": "stream",
     "text": [
      " * sqlite:///../../data/processed/covid_db.sqlite\n",
      "Done.\n"
     ]
    },
    {
     "data": {
      "text/html": [
       "<table>\n",
       "    <tr>\n",
       "        <th>all_stats_countries</th>\n",
       "        <th>countries_found_in_population</th>\n",
       "    </tr>\n",
       "    <tr>\n",
       "        <td>185</td>\n",
       "        <td>180</td>\n",
       "    </tr>\n",
       "</table>"
      ],
      "text/plain": [
       "[(185, 180)]"
      ]
     },
     "execution_count": 65,
     "metadata": {},
     "output_type": "execute_result"
    }
   ],
   "source": [
    "%%sql\n",
    "SELECT COUNT(DISTINCT stats.country) AS all_stats_countries,\n",
    "       COUNT(DISTINCT population_raw.country) AS countries_found_in_population\n",
    "  FROM stats \n",
    "       LEFT JOIN population_raw\n",
    "         ON population_raw.country = stats.country;"
   ]
  },
  {
   "cell_type": "code",
   "execution_count": 66,
   "metadata": {},
   "outputs": [
    {
     "name": "stdout",
     "output_type": "stream",
     "text": [
      " * sqlite:///../../data/processed/covid_db.sqlite\n",
      "Done.\n"
     ]
    },
    {
     "data": {
      "text/html": [
       "<table>\n",
       "    <tr>\n",
       "        <th>not_in_stats</th>\n",
       "        <th>populations</th>\n",
       "    </tr>\n",
       "    <tr>\n",
       "        <td>Côte d&#x27;Ivoire</td>\n",
       "        <td>26,378,274</td>\n",
       "    </tr>\n",
       "    <tr>\n",
       "        <td>North Korea</td>\n",
       "        <td>25,778,816</td>\n",
       "    </tr>\n",
       "    <tr>\n",
       "        <td>Czech Republic (Czechia)</td>\n",
       "        <td>10,708,981</td>\n",
       "    </tr>\n",
       "    <tr>\n",
       "        <td>Hong Kong</td>\n",
       "        <td>7,496,981</td>\n",
       "    </tr>\n",
       "    <tr>\n",
       "        <td>Turkmenistan</td>\n",
       "        <td>6,031,200</td>\n",
       "    </tr>\n",
       "    <tr>\n",
       "        <td>Puerto Rico</td>\n",
       "        <td>2,860,853</td>\n",
       "    </tr>\n",
       "    <tr>\n",
       "        <td>Réunion</td>\n",
       "        <td>895,312</td>\n",
       "    </tr>\n",
       "    <tr>\n",
       "        <td>Solomon Islands</td>\n",
       "        <td>686,884</td>\n",
       "    </tr>\n",
       "    <tr>\n",
       "        <td>Macao</td>\n",
       "        <td>649,335</td>\n",
       "    </tr>\n",
       "    <tr>\n",
       "        <td>Guadeloupe</td>\n",
       "        <td>400,124</td>\n",
       "    </tr>\n",
       "    <tr>\n",
       "        <td>Martinique</td>\n",
       "        <td>375,265</td>\n",
       "    </tr>\n",
       "    <tr>\n",
       "        <td>Vanuatu</td>\n",
       "        <td>307,145</td>\n",
       "    </tr>\n",
       "    <tr>\n",
       "        <td>French Guiana</td>\n",
       "        <td>298,682</td>\n",
       "    </tr>\n",
       "    <tr>\n",
       "        <td>New Caledonia</td>\n",
       "        <td>285,498</td>\n",
       "    </tr>\n",
       "    <tr>\n",
       "        <td>French Polynesia</td>\n",
       "        <td>280,908</td>\n",
       "    </tr>\n",
       "    <tr>\n",
       "        <td>Mayotte</td>\n",
       "        <td>272,815</td>\n",
       "    </tr>\n",
       "    <tr>\n",
       "        <td>Sao Tome &amp; Principe</td>\n",
       "        <td>219,159</td>\n",
       "    </tr>\n",
       "    <tr>\n",
       "        <td>Samoa</td>\n",
       "        <td>198,414</td>\n",
       "    </tr>\n",
       "    <tr>\n",
       "        <td>Channel Islands</td>\n",
       "        <td>173,863</td>\n",
       "    </tr>\n",
       "    <tr>\n",
       "        <td>Guam</td>\n",
       "        <td>168,775</td>\n",
       "    </tr>\n",
       "</table>"
      ],
      "text/plain": [
       "[(\"Côte d'Ivoire\", '26,378,274'),\n",
       " ('North Korea', '25,778,816'),\n",
       " ('Czech Republic (Czechia)', '10,708,981'),\n",
       " ('Hong Kong', '7,496,981'),\n",
       " ('Turkmenistan', '6,031,200'),\n",
       " ('Puerto Rico', '2,860,853'),\n",
       " ('Réunion', '895,312'),\n",
       " ('Solomon Islands', '686,884'),\n",
       " ('Macao', '649,335'),\n",
       " ('Guadeloupe', '400,124'),\n",
       " ('Martinique', '375,265'),\n",
       " ('Vanuatu', '307,145'),\n",
       " ('French Guiana', '298,682'),\n",
       " ('New Caledonia', '285,498'),\n",
       " ('French Polynesia', '280,908'),\n",
       " ('Mayotte', '272,815'),\n",
       " ('Sao Tome & Principe', '219,159'),\n",
       " ('Samoa', '198,414'),\n",
       " ('Channel Islands', '173,863'),\n",
       " ('Guam', '168,775')]"
      ]
     },
     "execution_count": 66,
     "metadata": {},
     "output_type": "execute_result"
    }
   ],
   "source": [
    "%%sql\n",
    "SELECT DISTINCT population_raw.country AS not_in_stats,\n",
    "       populations\n",
    "  FROM population_raw \n",
    "       LEFT JOIN stats\n",
    "         ON population_raw.country = stats.country\n",
    " WHERE stats.country IS NULL\n",
    " ORDER BY rank\n",
    " LIMIT 20;"
   ]
  },
  {
   "cell_type": "markdown",
   "metadata": {},
   "source": [
    "#### 2.3 DATA ASSESSMENT NOTES\n",
    "**Required changes per column:**\n",
    "* populations: remove ‘,’ and convert to integer\n",
    "* yearly_change: remove ‘%’, convert to numeric, change name to ‘yearly_change_pct’\n",
    "* net_change: remove ‘,’ and convert to integer\n",
    "* Density: convert to integer\n",
    "* land_area:  remove ‘,’ and convert to integer\n",
    "* migrants:  remove ‘,’ and convert to integer\n",
    "* fert_rate: convert to numeric\n",
    "* med_age convert to integer\n",
    "* urban_pop_pct: remove ‘%’ and convert to integer\n",
    "* world_share_pct: remove ‘%’ and convert to numeric\n",
    "\n",
    "**With respect to the joining keys:**\n",
    "* 180 out of 185 are correct!\n",
    "* For the remaining 5, we can trace back the correct names (i.e. Czech Republic (Czechia) -> Czech Republic)\n",
    "* No data in stats for the following countries:\n",
    "    * Most notable exceptions are North Korea and Turkmenistan (most likely due to the lack of transpartent data)\n",
    "    * Other countries not covered in stats are often subsidiaries of kingdoms (i.e. Caribbean Netherlands, British Virgin Islands, New Caledonia, Puerto Rico) - we will not pursue further data gathering for these cases.\n"
   ]
  },
  {
   "cell_type": "markdown",
   "metadata": {},
   "source": [
    "## 3. Clean Data\n",
    "***"
   ]
  },
  {
   "cell_type": "markdown",
   "metadata": {},
   "source": [
    "#### 3.1 Update formats"
   ]
  },
  {
   "cell_type": "code",
   "execution_count": 43,
   "metadata": {},
   "outputs": [
    {
     "name": "stdout",
     "output_type": "stream",
     "text": [
      " * sqlite:///../../data/processed/covid_db.sqlite\n",
      "Done.\n",
      "Done.\n"
     ]
    },
    {
     "data": {
      "text/plain": [
       "[]"
      ]
     },
     "execution_count": 43,
     "metadata": {},
     "output_type": "execute_result"
    }
   ],
   "source": [
    "%%sql\n",
    "-- create clean populations table\n",
    "DROP TABLE IF EXISTS populations;\n",
    "\n",
    "CREATE TABLE populations AS\n",
    "SELECT\n",
    "    rank,\n",
    "    country,\n",
    "    CAST(REPLACE(populations,',','') AS integer) AS population,\n",
    "    CAST(REPLACE(yearly_change,'%','') AS numeric) AS yearly_change_pct,\n",
    "    CAST(REPLACE(net_change,',','') AS integer) AS net_change,\n",
    "    CAST(density AS integer) AS density,\n",
    "    CAST(REPLACE(land_area,',','') AS integer) AS land_are,\n",
    "    CAST(REPLACE(migrants,',','') AS integer) AS migrants,\n",
    "    CAST(fert_rate AS numeric) AS fert_rate,\n",
    "    CAST(med_age AS integer) AS med_age,\n",
    "    CAST(REPLACE(urban_pop_pct,'%','') AS integer) AS urban_pop_pct,\n",
    "    CAST(REPLACE(world_share_pct,'%','') AS numeric) AS world_share_pct\n",
    "FROM population_raw;"
   ]
  },
  {
   "cell_type": "code",
   "execution_count": 44,
   "metadata": {},
   "outputs": [
    {
     "name": "stdout",
     "output_type": "stream",
     "text": [
      " * sqlite:///../../data/processed/covid_db.sqlite\n",
      "Done.\n"
     ]
    },
    {
     "data": {
      "text/html": [
       "<table>\n",
       "    <tr>\n",
       "        <th>rank</th>\n",
       "        <th>country</th>\n",
       "        <th>population</th>\n",
       "        <th>yearly_change_pct</th>\n",
       "        <th>net_change</th>\n",
       "        <th>density</th>\n",
       "        <th>land_are</th>\n",
       "        <th>migrants</th>\n",
       "        <th>fert_rate</th>\n",
       "        <th>med_age</th>\n",
       "        <th>urban_pop_pct</th>\n",
       "        <th>world_share_pct</th>\n",
       "    </tr>\n",
       "    <tr>\n",
       "        <td>1</td>\n",
       "        <td>China</td>\n",
       "        <td>1439323776</td>\n",
       "        <td>0.39</td>\n",
       "        <td>5540090</td>\n",
       "        <td>153</td>\n",
       "        <td>9388211</td>\n",
       "        <td>-348399</td>\n",
       "        <td>1.7</td>\n",
       "        <td>38</td>\n",
       "        <td>61</td>\n",
       "        <td>18.47</td>\n",
       "    </tr>\n",
       "    <tr>\n",
       "        <td>2</td>\n",
       "        <td>India</td>\n",
       "        <td>1380004385</td>\n",
       "        <td>0.99</td>\n",
       "        <td>13586631</td>\n",
       "        <td>464</td>\n",
       "        <td>2973190</td>\n",
       "        <td>-532687</td>\n",
       "        <td>2.2</td>\n",
       "        <td>28</td>\n",
       "        <td>35</td>\n",
       "        <td>17.7</td>\n",
       "    </tr>\n",
       "    <tr>\n",
       "        <td>3</td>\n",
       "        <td>United States</td>\n",
       "        <td>331002651</td>\n",
       "        <td>0.59</td>\n",
       "        <td>1937734</td>\n",
       "        <td>36</td>\n",
       "        <td>9147420</td>\n",
       "        <td>954806</td>\n",
       "        <td>1.8</td>\n",
       "        <td>38</td>\n",
       "        <td>83</td>\n",
       "        <td>4.25</td>\n",
       "    </tr>\n",
       "    <tr>\n",
       "        <td>4</td>\n",
       "        <td>Indonesia</td>\n",
       "        <td>273523615</td>\n",
       "        <td>1.07</td>\n",
       "        <td>2898047</td>\n",
       "        <td>151</td>\n",
       "        <td>1811570</td>\n",
       "        <td>-98955</td>\n",
       "        <td>2.3</td>\n",
       "        <td>30</td>\n",
       "        <td>56</td>\n",
       "        <td>3.51</td>\n",
       "    </tr>\n",
       "    <tr>\n",
       "        <td>5</td>\n",
       "        <td>Pakistan</td>\n",
       "        <td>220892340</td>\n",
       "        <td>2</td>\n",
       "        <td>4327022</td>\n",
       "        <td>287</td>\n",
       "        <td>770880</td>\n",
       "        <td>-233379</td>\n",
       "        <td>3.6</td>\n",
       "        <td>23</td>\n",
       "        <td>35</td>\n",
       "        <td>2.83</td>\n",
       "    </tr>\n",
       "</table>"
      ],
      "text/plain": [
       "[(1, 'China', 1439323776, 0.39, 5540090, 153, 9388211, -348399, 1.7, 38, 61, 18.47),\n",
       " (2, 'India', 1380004385, 0.99, 13586631, 464, 2973190, -532687, 2.2, 28, 35, 17.7),\n",
       " (3, 'United States', 331002651, 0.59, 1937734, 36, 9147420, 954806, 1.8, 38, 83, 4.25),\n",
       " (4, 'Indonesia', 273523615, 1.07, 2898047, 151, 1811570, -98955, 2.3, 30, 56, 3.51),\n",
       " (5, 'Pakistan', 220892340, 2, 4327022, 287, 770880, -233379, 3.6, 23, 35, 2.83)]"
      ]
     },
     "execution_count": 44,
     "metadata": {},
     "output_type": "execute_result"
    }
   ],
   "source": [
    "%%sql\n",
    "SELECT * FROM populations LIMIT 5;"
   ]
  },
  {
   "cell_type": "markdown",
   "metadata": {},
   "source": [
    "#### 3.2 Align merging keys\n",
    "Based on the observed misalignment between the joining keys above, we wish to adjust both the stats table and the populations table. \n",
    "\n",
    "To run sql directly from python (i.e. in a loop), we use our `quick_queries.py` package (based on sqlalchemy)."
   ]
  },
  {
   "cell_type": "code",
   "execution_count": 48,
   "metadata": {},
   "outputs": [
    {
     "name": "stdout",
     "output_type": "stream",
     "text": [
      " * sqlite:///../../data/processed/covid_db.sqlite\n",
      "Done.\n",
      "0 rows affected.\n"
     ]
    },
    {
     "data": {
      "text/plain": [
       "[]"
      ]
     },
     "execution_count": 48,
     "metadata": {},
     "output_type": "execute_result"
    }
   ],
   "source": [
    "%%sql\n",
    "/*remove apostrophe*/\n",
    "\n",
    "UPDATE populations\n",
    "   SET country = replace(country, char(39), '')\n",
    " WHERE country LIKE 'C_te%';"
   ]
  },
  {
   "cell_type": "code",
   "execution_count": 73,
   "metadata": {},
   "outputs": [],
   "source": [
    "def updateCountry(original, replacement):\n",
    "    query = \"\"\"\n",
    "        UPDATE populations\n",
    "        SET country = '{}'\n",
    "        WHERE country = '{}';\n",
    "        \"\"\".format(replacement, original)\n",
    "\n",
    "    qdb.admin_query(query)"
   ]
  },
  {
   "cell_type": "code",
   "execution_count": 74,
   "metadata": {},
   "outputs": [],
   "source": [
    "# translation table: current country --> target country\n",
    "pop_stats = {\n",
    "    'Czech Republic (Czechia)' : 'Czech Republic',\n",
    "    'Côte dIvoire' : 'Ivory Coast',\n",
    "    'Saint Kitts & Nevis' : 'Saint Kitts and Nevis',\n",
    "    'St. Vincent & Grenadines' : 'Saint Vincent and the Grenadines',\n",
    "    'Sao Tome & Principe' : 'Sao Tome and Principe'}\n",
    "\n",
    "# run the update\n",
    "for key in pop_stats.keys():\n",
    "    updateCountry(key, pop_stats[key])"
   ]
  },
  {
   "cell_type": "markdown",
   "metadata": {},
   "source": [
    "#### 3.3 Update Stats table\n",
    "As mentioned above, we also need to update the stats table. This is done in the main notebook in section 2.7 (interatively added). "
   ]
  },
  {
   "cell_type": "markdown",
   "metadata": {},
   "source": [
    "#### 3.4 Finalise populations table"
   ]
  },
  {
   "cell_type": "code",
   "execution_count": 83,
   "metadata": {},
   "outputs": [
    {
     "name": "stdout",
     "output_type": "stream",
     "text": [
      " * sqlite:///../../data/processed/covid_db.sqlite\n",
      "0 rows affected.\n"
     ]
    },
    {
     "data": {
      "text/plain": [
       "[]"
      ]
     },
     "execution_count": 83,
     "metadata": {},
     "output_type": "execute_result"
    }
   ],
   "source": [
    "%%sql\n",
    "--check formats\n",
    "PRAGMA table_info(populations);"
   ]
  },
  {
   "cell_type": "code",
   "execution_count": 78,
   "metadata": {},
   "outputs": [
    {
     "name": "stdout",
     "output_type": "stream",
     "text": [
      " * sqlite:///../../data/processed/covid_db.sqlite\n",
      "Done.\n"
     ]
    },
    {
     "data": {
      "text/html": [
       "<table>\n",
       "    <tr>\n",
       "        <th>rank</th>\n",
       "        <th>country</th>\n",
       "        <th>population</th>\n",
       "        <th>yearly_change_pct</th>\n",
       "        <th>net_change</th>\n",
       "        <th>density</th>\n",
       "        <th>land_are</th>\n",
       "        <th>migrants</th>\n",
       "        <th>fert_rate</th>\n",
       "        <th>med_age</th>\n",
       "        <th>urban_pop_pct</th>\n",
       "        <th>world_share_pct</th>\n",
       "    </tr>\n",
       "    <tr>\n",
       "        <td>1</td>\n",
       "        <td>China</td>\n",
       "        <td>1439323776</td>\n",
       "        <td>0.39</td>\n",
       "        <td>5540090</td>\n",
       "        <td>153</td>\n",
       "        <td>9388211</td>\n",
       "        <td>-348399</td>\n",
       "        <td>1.7</td>\n",
       "        <td>38</td>\n",
       "        <td>61</td>\n",
       "        <td>18.47</td>\n",
       "    </tr>\n",
       "    <tr>\n",
       "        <td>2</td>\n",
       "        <td>India</td>\n",
       "        <td>1380004385</td>\n",
       "        <td>0.99</td>\n",
       "        <td>13586631</td>\n",
       "        <td>464</td>\n",
       "        <td>2973190</td>\n",
       "        <td>-532687</td>\n",
       "        <td>2.2</td>\n",
       "        <td>28</td>\n",
       "        <td>35</td>\n",
       "        <td>17.7</td>\n",
       "    </tr>\n",
       "    <tr>\n",
       "        <td>3</td>\n",
       "        <td>United States</td>\n",
       "        <td>331002651</td>\n",
       "        <td>0.59</td>\n",
       "        <td>1937734</td>\n",
       "        <td>36</td>\n",
       "        <td>9147420</td>\n",
       "        <td>954806</td>\n",
       "        <td>1.8</td>\n",
       "        <td>38</td>\n",
       "        <td>83</td>\n",
       "        <td>4.25</td>\n",
       "    </tr>\n",
       "    <tr>\n",
       "        <td>4</td>\n",
       "        <td>Indonesia</td>\n",
       "        <td>273523615</td>\n",
       "        <td>1.07</td>\n",
       "        <td>2898047</td>\n",
       "        <td>151</td>\n",
       "        <td>1811570</td>\n",
       "        <td>-98955</td>\n",
       "        <td>2.3</td>\n",
       "        <td>30</td>\n",
       "        <td>56</td>\n",
       "        <td>3.51</td>\n",
       "    </tr>\n",
       "    <tr>\n",
       "        <td>5</td>\n",
       "        <td>Pakistan</td>\n",
       "        <td>220892340</td>\n",
       "        <td>2</td>\n",
       "        <td>4327022</td>\n",
       "        <td>287</td>\n",
       "        <td>770880</td>\n",
       "        <td>-233379</td>\n",
       "        <td>3.6</td>\n",
       "        <td>23</td>\n",
       "        <td>35</td>\n",
       "        <td>2.83</td>\n",
       "    </tr>\n",
       "</table>"
      ],
      "text/plain": [
       "[(1, 'China', 1439323776, 0.39, 5540090, 153, 9388211, -348399, 1.7, 38, 61, 18.47),\n",
       " (2, 'India', 1380004385, 0.99, 13586631, 464, 2973190, -532687, 2.2, 28, 35, 17.7),\n",
       " (3, 'United States', 331002651, 0.59, 1937734, 36, 9147420, 954806, 1.8, 38, 83, 4.25),\n",
       " (4, 'Indonesia', 273523615, 1.07, 2898047, 151, 1811570, -98955, 2.3, 30, 56, 3.51),\n",
       " (5, 'Pakistan', 220892340, 2, 4327022, 287, 770880, -233379, 3.6, 23, 35, 2.83)]"
      ]
     },
     "execution_count": 78,
     "metadata": {},
     "output_type": "execute_result"
    }
   ],
   "source": [
    "%%sql\n",
    "SELECT * FROM populations\n",
    "LIMIT 5;"
   ]
  },
  {
   "cell_type": "code",
   "execution_count": 86,
   "metadata": {},
   "outputs": [
    {
     "name": "stdout",
     "output_type": "stream",
     "text": [
      " * sqlite:///../../data/processed/covid_db.sqlite\n",
      "Done.\n"
     ]
    },
    {
     "data": {
      "text/html": [
       "<table>\n",
       "    <tr>\n",
       "        <th>not_in_population_raw</th>\n",
       "    </tr>\n",
       "</table>"
      ],
      "text/plain": [
       "[]"
      ]
     },
     "execution_count": 86,
     "metadata": {},
     "output_type": "execute_result"
    }
   ],
   "source": [
    "%%sql\n",
    "--there should be no countries in stats that we cannot match in populations\n",
    "SELECT DISTINCT stats.country AS not_in_population_raw\n",
    "  FROM stats \n",
    "       LEFT JOIN populations\n",
    "         ON populations.country = stats.country\n",
    " WHERE populations.country IS NULL"
   ]
  },
  {
   "cell_type": "markdown",
   "metadata": {},
   "source": [
    "#### 3.5 Remove `populations_raw`"
   ]
  },
  {
   "cell_type": "code",
   "execution_count": 99,
   "metadata": {},
   "outputs": [
    {
     "name": "stdout",
     "output_type": "stream",
     "text": [
      " * sqlite:///../../data/processed/covid_db.sqlite\n",
      "Done.\n"
     ]
    },
    {
     "data": {
      "text/plain": [
       "[]"
      ]
     },
     "execution_count": 99,
     "metadata": {},
     "output_type": "execute_result"
    }
   ],
   "source": [
    "%%sql\n",
    "DROP TABLE population_raw;"
   ]
  },
  {
   "cell_type": "code",
   "execution_count": 100,
   "metadata": {},
   "outputs": [
    {
     "data": {
      "text/plain": [
       "['populations', 'stats']"
      ]
     },
     "execution_count": 100,
     "metadata": {},
     "output_type": "execute_result"
    }
   ],
   "source": [
    "qdb.engine.table_names()"
   ]
  },
  {
   "cell_type": "markdown",
   "metadata": {},
   "source": [
    "## 4. Usage Example\n",
    "***\n",
    "We can use this new table to calculate the covid cases per 1 Million inhabitants. Let's do so for `2020-07-03` as example!"
   ]
  },
  {
   "cell_type": "code",
   "execution_count": 101,
   "metadata": {},
   "outputs": [
    {
     "name": "stdout",
     "output_type": "stream",
     "text": [
      " * sqlite:///../../data/processed/covid_db.sqlite\n",
      "Done.\n"
     ]
    },
    {
     "data": {
      "text/html": [
       "<table>\n",
       "    <tr>\n",
       "        <th>country</th>\n",
       "        <th>total_cases</th>\n",
       "        <th>confirmed_per_M</th>\n",
       "    </tr>\n",
       "    <tr>\n",
       "        <td>Chile</td>\n",
       "        <td>288089</td>\n",
       "        <td>15070.0</td>\n",
       "    </tr>\n",
       "    <tr>\n",
       "        <td>Peru</td>\n",
       "        <td>295599</td>\n",
       "        <td>8965.0</td>\n",
       "    </tr>\n",
       "    <tr>\n",
       "        <td>Oman</td>\n",
       "        <td>43929</td>\n",
       "        <td>8602.0</td>\n",
       "    </tr>\n",
       "    <tr>\n",
       "        <td>United States</td>\n",
       "        <td>2794153</td>\n",
       "        <td>8441.0</td>\n",
       "    </tr>\n",
       "    <tr>\n",
       "        <td>Singapore</td>\n",
       "        <td>44479</td>\n",
       "        <td>7603.0</td>\n",
       "    </tr>\n",
       "    <tr>\n",
       "        <td>Brazil</td>\n",
       "        <td>1539081</td>\n",
       "        <td>7241.0</td>\n",
       "    </tr>\n",
       "    <tr>\n",
       "        <td>Sweden</td>\n",
       "        <td>71419</td>\n",
       "        <td>7072.0</td>\n",
       "    </tr>\n",
       "    <tr>\n",
       "        <td>Belarus</td>\n",
       "        <td>62997</td>\n",
       "        <td>6667.0</td>\n",
       "    </tr>\n",
       "    <tr>\n",
       "        <td>Saudi Arabia</td>\n",
       "        <td>201801</td>\n",
       "        <td>5797.0</td>\n",
       "    </tr>\n",
       "    <tr>\n",
       "        <td>Spain</td>\n",
       "        <td>250545</td>\n",
       "        <td>5359.0</td>\n",
       "    </tr>\n",
       "</table>"
      ],
      "text/plain": [
       "[('Chile', 288089, 15070.0),\n",
       " ('Peru', 295599, 8965.0),\n",
       " ('Oman', 43929, 8602.0),\n",
       " ('United States', 2794153, 8441.0),\n",
       " ('Singapore', 44479, 7603.0),\n",
       " ('Brazil', 1539081, 7241.0),\n",
       " ('Sweden', 71419, 7072.0),\n",
       " ('Belarus', 62997, 6667.0),\n",
       " ('Saudi Arabia', 201801, 5797.0),\n",
       " ('Spain', 250545, 5359.0)]"
      ]
     },
     "execution_count": 101,
     "metadata": {},
     "output_type": "execute_result"
    }
   ],
   "source": [
    "%%sql\n",
    "SELECT stats.country,\n",
    "       confirmed AS total_cases,\n",
    "       ROUND(confirmed / (population*1.0/1000000),0) AS confirmed_per_M\n",
    "  FROM stats\n",
    "       JOIN populations\n",
    "         ON stats.country = populations.country\n",
    " WHERE date = '2020-07-03' AND population > 5000000\n",
    " ORDER BY confirmed_per_M DESC\n",
    " LIMIT 10;"
   ]
  },
  {
   "cell_type": "code",
   "execution_count": null,
   "metadata": {},
   "outputs": [],
   "source": []
  },
  {
   "cell_type": "code",
   "execution_count": null,
   "metadata": {},
   "outputs": [],
   "source": []
  }
 ],
 "metadata": {
  "kernelspec": {
   "display_name": "Python 3",
   "language": "python",
   "name": "python3"
  },
  "language_info": {
   "codemirror_mode": {
    "name": "ipython",
    "version": 3
   },
   "file_extension": ".py",
   "mimetype": "text/x-python",
   "name": "python",
   "nbconvert_exporter": "python",
   "pygments_lexer": "ipython3",
   "version": "3.7.3"
  }
 },
 "nbformat": 4,
 "nbformat_minor": 4
}
